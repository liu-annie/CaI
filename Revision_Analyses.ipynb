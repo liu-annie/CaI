{
 "cells": [
  {
   "cell_type": "code",
   "execution_count": 1,
   "metadata": {
    "collapsed": false
   },
   "outputs": [],
   "source": [
    "drive_path = 'c:/'\n",
    "import numpy as np\n",
    "import pandas as pd\n",
    "import os\n",
    "import sys\n",
    "import matplotlib.pyplot as plt\n",
    "from scipy.stats import ks_2samp\n",
    "from scipy.stats import anderson_ksamp\n",
    "from scipy.stats import kruskal\n",
    "from scipy.stats import variation\n",
    "%matplotlib inline\n",
    "import seaborn as sns\n",
    "from scipy.stats import zscore\n",
    "from scipy.stats import nanmean\n",
    "from scipy.stats import nanstd\n",
    "from scipy.cluster.hierarchy import dendrogram, linkage"
   ]
  },
  {
   "cell_type": "code",
   "execution_count": 2,
   "metadata": {
    "collapsed": true
   },
   "outputs": [],
   "source": [
    "filename='C:\\Users\\Annie\\Documents\\Data\\Ca_Imaging\\Analysis\\\\Odor_Panel\\\\Odor_Trials.csv'\n",
    "trials=pd.read_csv(filename)"
   ]
  },
  {
   "cell_type": "code",
   "execution_count": 3,
   "metadata": {
    "collapsed": true
   },
   "outputs": [],
   "source": [
    "z='C:\\Users\\Annie\\Documents\\Data\\Ca_Imaging\\GoodFiles\\\\fullpeak_WL.csv'\n",
    "peak=pd.read_csv(z)\n",
    "s='C:\\Users\\Annie\\Documents\\Data\\Ca_Imaging\\GoodFiles\\\\fullsuccess_WI.csv'\n",
    "success=pd.read_csv(s)"
   ]
  },
  {
   "cell_type": "markdown",
   "metadata": {},
   "source": [
    "# Reliability vs Peak"
   ]
  },
  {
   "cell_type": "code",
   "execution_count": 4,
   "metadata": {
    "collapsed": true
   },
   "outputs": [],
   "source": [
    "melt_success=pd.melt(success,('Mouse','Group'),var_name='Odor',value_name='Reliability')\n",
    "melt_peak=pd.melt(peak,('Mouse','Group'),var_name='Odor',value_name='Peak')"
   ]
  },
  {
   "cell_type": "code",
   "execution_count": 5,
   "metadata": {
    "collapsed": false
   },
   "outputs": [
    {
     "data": {
      "text/html": [
       "<div>\n",
       "<table border=\"1\" class=\"dataframe\">\n",
       "  <thead>\n",
       "    <tr style=\"text-align: right;\">\n",
       "      <th></th>\n",
       "      <th>Group</th>\n",
       "      <th>Mouse</th>\n",
       "      <th>IAA10</th>\n",
       "      <th>IAA01</th>\n",
       "      <th>AP</th>\n",
       "      <th>MS10</th>\n",
       "      <th>IAA05</th>\n",
       "      <th>Hexanal01</th>\n",
       "      <th>EB</th>\n",
       "      <th>MS01</th>\n",
       "      <th>PA</th>\n",
       "      <th>MS05</th>\n",
       "      <th>Blank</th>\n",
       "      <th>Hexanone</th>\n",
       "      <th>Hexanal10</th>\n",
       "      <th>THA</th>\n",
       "      <th>Hexanal05</th>\n",
       "    </tr>\n",
       "  </thead>\n",
       "  <tbody>\n",
       "    <tr>\n",
       "      <th>0</th>\n",
       "      <td>Control</td>\n",
       "      <td>G PMT (1)_160321_1</td>\n",
       "      <td>0.099708</td>\n",
       "      <td>0.188597</td>\n",
       "      <td>0.036738</td>\n",
       "      <td>0.150474</td>\n",
       "      <td>0.034294</td>\n",
       "      <td>0.062999</td>\n",
       "      <td>-0.061840</td>\n",
       "      <td>0.015671</td>\n",
       "      <td>0.037389</td>\n",
       "      <td>0.169456</td>\n",
       "      <td>NaN</td>\n",
       "      <td>0.093353</td>\n",
       "      <td>0.069948</td>\n",
       "      <td>0.067358</td>\n",
       "      <td>0.124211</td>\n",
       "    </tr>\n",
       "    <tr>\n",
       "      <th>1</th>\n",
       "      <td>Control</td>\n",
       "      <td>G PMT (2)_160321_1</td>\n",
       "      <td>0.041676</td>\n",
       "      <td>0.188666</td>\n",
       "      <td>0.073576</td>\n",
       "      <td>0.074001</td>\n",
       "      <td>0.001814</td>\n",
       "      <td>0.014205</td>\n",
       "      <td>0.056893</td>\n",
       "      <td>-0.034636</td>\n",
       "      <td>-0.002271</td>\n",
       "      <td>0.139423</td>\n",
       "      <td>NaN</td>\n",
       "      <td>-0.026087</td>\n",
       "      <td>0.036447</td>\n",
       "      <td>0.095266</td>\n",
       "      <td>0.101018</td>\n",
       "    </tr>\n",
       "    <tr>\n",
       "      <th>2</th>\n",
       "      <td>Control</td>\n",
       "      <td>G PMT (3)_160321_1</td>\n",
       "      <td>0.287615</td>\n",
       "      <td>0.477065</td>\n",
       "      <td>0.058214</td>\n",
       "      <td>0.260675</td>\n",
       "      <td>0.127803</td>\n",
       "      <td>0.129928</td>\n",
       "      <td>0.153817</td>\n",
       "      <td>-0.044179</td>\n",
       "      <td>0.221412</td>\n",
       "      <td>0.095906</td>\n",
       "      <td>NaN</td>\n",
       "      <td>0.022945</td>\n",
       "      <td>0.263380</td>\n",
       "      <td>0.146676</td>\n",
       "      <td>0.293199</td>\n",
       "    </tr>\n",
       "    <tr>\n",
       "      <th>3</th>\n",
       "      <td>Control</td>\n",
       "      <td>G PMT (4)_160321_1</td>\n",
       "      <td>0.034975</td>\n",
       "      <td>0.248613</td>\n",
       "      <td>0.110235</td>\n",
       "      <td>0.071141</td>\n",
       "      <td>0.104363</td>\n",
       "      <td>0.104142</td>\n",
       "      <td>0.082859</td>\n",
       "      <td>0.146939</td>\n",
       "      <td>0.051386</td>\n",
       "      <td>0.157300</td>\n",
       "      <td>NaN</td>\n",
       "      <td>-0.057530</td>\n",
       "      <td>0.037260</td>\n",
       "      <td>0.094015</td>\n",
       "      <td>0.198974</td>\n",
       "    </tr>\n",
       "    <tr>\n",
       "      <th>4</th>\n",
       "      <td>Control</td>\n",
       "      <td>G PMT (5)_160321_1</td>\n",
       "      <td>0.309290</td>\n",
       "      <td>0.393188</td>\n",
       "      <td>0.116399</td>\n",
       "      <td>0.220858</td>\n",
       "      <td>0.240154</td>\n",
       "      <td>0.315627</td>\n",
       "      <td>0.694684</td>\n",
       "      <td>0.268299</td>\n",
       "      <td>0.203381</td>\n",
       "      <td>0.233311</td>\n",
       "      <td>NaN</td>\n",
       "      <td>-0.147715</td>\n",
       "      <td>0.145721</td>\n",
       "      <td>0.069755</td>\n",
       "      <td>0.538062</td>\n",
       "    </tr>\n",
       "  </tbody>\n",
       "</table>\n",
       "</div>"
      ],
      "text/plain": [
       "     Group               Mouse     IAA10     IAA01        AP      MS10  \\\n",
       "0  Control  G PMT (1)_160321_1  0.099708  0.188597  0.036738  0.150474   \n",
       "1  Control  G PMT (2)_160321_1  0.041676  0.188666  0.073576  0.074001   \n",
       "2  Control  G PMT (3)_160321_1  0.287615  0.477065  0.058214  0.260675   \n",
       "3  Control  G PMT (4)_160321_1  0.034975  0.248613  0.110235  0.071141   \n",
       "4  Control  G PMT (5)_160321_1  0.309290  0.393188  0.116399  0.220858   \n",
       "\n",
       "      IAA05  Hexanal01        EB      MS01        PA      MS05  Blank  \\\n",
       "0  0.034294   0.062999 -0.061840  0.015671  0.037389  0.169456    NaN   \n",
       "1  0.001814   0.014205  0.056893 -0.034636 -0.002271  0.139423    NaN   \n",
       "2  0.127803   0.129928  0.153817 -0.044179  0.221412  0.095906    NaN   \n",
       "3  0.104363   0.104142  0.082859  0.146939  0.051386  0.157300    NaN   \n",
       "4  0.240154   0.315627  0.694684  0.268299  0.203381  0.233311    NaN   \n",
       "\n",
       "   Hexanone  Hexanal10       THA  Hexanal05  \n",
       "0  0.093353   0.069948  0.067358   0.124211  \n",
       "1 -0.026087   0.036447  0.095266   0.101018  \n",
       "2  0.022945   0.263380  0.146676   0.293199  \n",
       "3 -0.057530   0.037260  0.094015   0.198974  \n",
       "4 -0.147715   0.145721  0.069755   0.538062  "
      ]
     },
     "execution_count": 5,
     "metadata": {},
     "output_type": "execute_result"
    }
   ],
   "source": [
    "peak.head()"
   ]
  },
  {
   "cell_type": "code",
   "execution_count": 6,
   "metadata": {
    "collapsed": true
   },
   "outputs": [],
   "source": [
    "success_peak=pd.concat([melt_peak,melt_success.Reliability],axis=1)\n",
    "control=success_peak[success_peak['Group']=='Control']\n",
    "mint=success_peak[success_peak['Group']=='Mint']\n",
    "hexanal=success_peak[success_peak['Group']=='Hexanal']"
   ]
  },
  {
   "cell_type": "code",
   "execution_count": 7,
   "metadata": {
    "collapsed": false
   },
   "outputs": [
    {
     "data": {
      "image/png": "[encoded data removed]",
      "text/plain": [
       "<matplotlib.figure.Figure at 0x3dd6390>"
      ]
     },
     "metadata": {},
     "output_type": "display_data"
    }
   ],
   "source": [
    "sns.set(style='white',palette=\"muted\", color_codes=True);\n",
    "sns.set_context(\"paper\",font_scale=2);\n",
    "ax=sns.barplot(x='Reliability',y='Peak',hue='Group',data=success_peak, palette=['black',sns.xkcd_rgb['azure'],sns.xkcd_rgb['grey']],hue_order=['Control','Hexanal','Mint']);\n",
    "\n",
    "ax.set(xlabel='Reliability', ylabel='Peak')\n",
    "ax.set_xticklabels([0,0.25,0.33,0.5,0.66,0.75,1.0])\n",
    "sns.despine(left=True,bottom=True);\n",
    "plt.tight_layout();\n",
    "\n",
    "plt.savefig(\"C:\\Users\\Annie\\Desktop\\Plasticity\\Figures\\Excitatory\\Success_Peak.pdf\")"
   ]
  },
  {
   "cell_type": "code",
   "execution_count": 42,
   "metadata": {
    "collapsed": false
   },
   "outputs": [
    {
     "data": {
      "image/png": "[encoded data removed]",
      "text/plain": [
       "<matplotlib.figure.Figure at 0xc2b1518>"
      ]
     },
     "metadata": {},
     "output_type": "display_data"
    }
   ],
   "source": [
    "sns.set(style='white',palette=\"muted\", color_codes=True);\n",
    "sns.set_context(\"paper\",font_scale=2);\n",
    "sns.barplot(x='Reliability',y='Peak',data=hexanal);\n",
    "# plt.ylim(0,5)\n",
    "plt.tight_layout();"
   ]
  },
  {
   "cell_type": "code",
   "execution_count": 41,
   "metadata": {
    "collapsed": false
   },
   "outputs": [
    {
     "data": {
      "image/png": "[encoded data removed]",
      "text/plain": [
       "<matplotlib.figure.Figure at 0xc2b14e0>"
      ]
     },
     "metadata": {},
     "output_type": "display_data"
    }
   ],
   "source": [
    "sns.set(style='white',palette=\"muted\", color_codes=True);\n",
    "sns.set_context(\"paper\",font_scale=2);\n",
    "sns.barplot(x='Reliability',y='Peak',data=mint);\n",
    "plt.xl\n",
    "# plt.ylim(0,5)\n",
    "plt.tight_layout();"
   ]
  },
  {
   "cell_type": "code",
   "execution_count": 33,
   "metadata": {
    "collapsed": false,
    "scrolled": true
   },
   "outputs": [
    {
     "data": {
      "image/png": "[encoded data removed]",
      "text/plain": [
       "<matplotlib.figure.Figure at 0xdb7d2b0>"
      ]
     },
     "metadata": {},
     "output_type": "display_data"
    }
   ],
   "source": [
    "sns.set(style='white',palette=\"muted\", color_codes=True);\n",
    "sns.set_context(\"paper\",font_scale=2);\n",
    "sns.jointplot('Reliability','Peak',mint).set_axis_labels(\"Reliability\", \"Peak\");\n",
    "# sns.jointplot('Reliability','Peak',hexanal).set_axis_labels('Reliability','Peak');\n",
    "sns.despine(left=True,bottom=True);\n",
    "plt.ylim(0,5)\n",
    "plt.tight_layout();"
   ]
  },
  {
   "cell_type": "code",
   "execution_count": 29,
   "metadata": {
    "collapsed": false
   },
   "outputs": [
    {
     "data": {
      "image/png": "[encoded data removed]",
      "text/plain": [
       "<matplotlib.figure.Figure at 0xd0d7cf8>"
      ]
     },
     "metadata": {},
     "output_type": "display_data"
    }
   ],
   "source": [
    "sns.set(style='white',palette=\"muted\", color_codes=True);\n",
    "sns.set_context(\"paper\",font_scale=2);\n",
    "sns.jointplot('Reliability','Peak',hexanal).set_axis_labels('Reliability','Peak');\n",
    "sns.despine(left=True,bottom=True);\n",
    "plt.ylim(0,5)\n",
    "plt.tight_layout();"
   ]
  },
  {
   "cell_type": "code",
   "execution_count": 30,
   "metadata": {
    "collapsed": false,
    "scrolled": true
   },
   "outputs": [
    {
     "data": {
      "image/png": "[encoded data removed]",
      "text/plain": [
       "<matplotlib.figure.Figure at 0xc2c2b00>"
      ]
     },
     "metadata": {},
     "output_type": "display_data"
    }
   ],
   "source": [
    "sns.set(style='white',palette=\"muted\", color_codes=True);\n",
    "sns.set_context(\"paper\",font_scale=2);\n",
    "sns.jointplot('Reliability','Peak',control).set_axis_labels('Reliability','Peak');\n",
    "sns.despine(left=True,bottom=True);\n",
    "plt.ylim(0,5)\n",
    "plt.tight_layout();"
   ]
  },
  {
   "cell_type": "code",
   "execution_count": 40,
   "metadata": {
    "collapsed": false
   },
   "outputs": [
    {
     "data": {
      "image/png": "[encoded data removed]",
      "text/plain": [
       "<matplotlib.figure.Figure at 0xc087fd0>"
      ]
     },
     "metadata": {},
     "output_type": "display_data"
    }
   ],
   "source": [
    "sns.set(style='white',palette=\"muted\", color_codes=True);\n",
    "sns.set_context(\"paper\",font_scale=2);\n",
    "sns.jointplot('Peak','Reliability',success_peak).set_axis_labels(\"Peak DF/F\", \"Baseline Fluorescence\");\n",
    "sns.despine(left=True,bottom=True);\n",
    "plt.tight_layout();"
   ]
  },
  {
   "cell_type": "markdown",
   "metadata": {
    "collapsed": true
   },
   "source": [
    "# KMeans"
   ]
  },
  {
   "cell_type": "code",
   "execution_count": 8,
   "metadata": {
    "collapsed": false
   },
   "outputs": [
    {
     "ename": "ImportError",
     "evalue": "No module named kmodes",
     "output_type": "error",
     "traceback": [
      "\u001b[1;31m---------------------------------------------------------------------------\u001b[0m",
      "\u001b[1;31mImportError\u001b[0m                               Traceback (most recent call last)",
      "\u001b[1;32m<ipython-input-8-9ad5e0d12599>\u001b[0m in \u001b[0;36m<module>\u001b[1;34m()\u001b[0m\n\u001b[0;32m      1\u001b[0m \u001b[1;32mimport\u001b[0m \u001b[0mnumpy\u001b[0m \u001b[1;32mas\u001b[0m \u001b[0mnp\u001b[0m\u001b[1;33m\u001b[0m\u001b[0m\n\u001b[1;32m----> 2\u001b[1;33m \u001b[1;32mfrom\u001b[0m \u001b[0mkmodes\u001b[0m \u001b[1;32mimport\u001b[0m \u001b[0mkmodes\u001b[0m\u001b[1;33m\u001b[0m\u001b[0m\n\u001b[0m",
      "\u001b[1;31mImportError\u001b[0m: No module named kmodes"
     ]
    }
   ],
   "source": [
    "import numpy as np\n",
    "from kmodes import kmodes\n"
   ]
  },
  {
   "cell_type": "code",
   "execution_count": 9,
   "metadata": {
    "collapsed": false
   },
   "outputs": [
    {
     "ename": "ImportError",
     "evalue": "No module named kmodes",
     "output_type": "error",
     "traceback": [
      "\u001b[1;31m---------------------------------------------------------------------------\u001b[0m",
      "\u001b[1;31mImportError\u001b[0m                               Traceback (most recent call last)",
      "\u001b[1;32m<ipython-input-9-13e229bcbe6d>\u001b[0m in \u001b[0;36m<module>\u001b[1;34m()\u001b[0m\n\u001b[1;32m----> 1\u001b[1;33m \u001b[1;32mimport\u001b[0m \u001b[0mkmodes\u001b[0m\u001b[1;33m\u001b[0m\u001b[0m\n\u001b[0m",
      "\u001b[1;31mImportError\u001b[0m: No module named kmodes"
     ]
    }
   ],
   "source": [
    "import kmodes"
   ]
  },
  {
   "cell_type": "code",
   "execution_count": null,
   "metadata": {
    "collapsed": true
   },
   "outputs": [],
   "source": [
    "\n",
    "# random categorical data\n",
    "data = np.random.choice(20, (100, 10))\n",
    "\n",
    "km = kmodes.KModes(n_clusters=4, init='Huang', n_init=5, verbose=1)\n",
    "\n",
    "clusters = km.fit_predict(data)\n",
    "\n",
    "# Print the cluster centroids\n",
    "print(km.cluster_centroids_)"
   ]
  },
  {
   "cell_type": "code",
   "execution_count": 85,
   "metadata": {
    "collapsed": false
   },
   "outputs": [],
   "source": [
    "c=peak[peak.Group=='Control'].ix[:,2:]"
   ]
  },
  {
   "cell_type": "code",
   "execution_count": 86,
   "metadata": {
    "collapsed": true
   },
   "outputs": [
    {
     "ename": "ValueError",
     "evalue": "Input contains NaN, infinity or a value too large for dtype('float64').",
     "output_type": "error",
     "traceback": [
      "\u001b[1;31m---------------------------------------------------------------------------\u001b[0m",
      "\u001b[1;31mValueError\u001b[0m                                Traceback (most recent call last)",
      "\u001b[1;32m<ipython-input-86-611175834ee9>\u001b[0m in \u001b[0;36m<module>\u001b[1;34m()\u001b[0m\n\u001b[0;32m      1\u001b[0m \u001b[0mk\u001b[0m\u001b[1;33m=\u001b[0m\u001b[1;36m2\u001b[0m\u001b[1;33m\u001b[0m\u001b[0m\n\u001b[0;32m      2\u001b[0m \u001b[0mkmeans\u001b[0m \u001b[1;33m=\u001b[0m \u001b[0mcluster\u001b[0m\u001b[1;33m.\u001b[0m\u001b[0mKMeans\u001b[0m\u001b[1;33m(\u001b[0m\u001b[0mn_clusters\u001b[0m\u001b[1;33m=\u001b[0m\u001b[0mk\u001b[0m\u001b[1;33m)\u001b[0m\u001b[1;33m\u001b[0m\u001b[0m\n\u001b[1;32m----> 3\u001b[1;33m \u001b[0mkmeans\u001b[0m\u001b[1;33m.\u001b[0m\u001b[0mfit\u001b[0m\u001b[1;33m(\u001b[0m\u001b[0mc\u001b[0m\u001b[1;33m)\u001b[0m\u001b[1;33m\u001b[0m\u001b[0m\n\u001b[0m",
      "\u001b[1;32mC:\\Users\\Annie\\Anaconda2\\lib\\site-packages\\sklearn\\cluster\\k_means_.py\u001b[0m in \u001b[0;36mfit\u001b[1;34m(self, X, y)\u001b[0m\n\u001b[0;32m    810\u001b[0m         \"\"\"\n\u001b[0;32m    811\u001b[0m         \u001b[0mrandom_state\u001b[0m \u001b[1;33m=\u001b[0m \u001b[0mcheck_random_state\u001b[0m\u001b[1;33m(\u001b[0m\u001b[0mself\u001b[0m\u001b[1;33m.\u001b[0m\u001b[0mrandom_state\u001b[0m\u001b[1;33m)\u001b[0m\u001b[1;33m\u001b[0m\u001b[0m\n\u001b[1;32m--> 812\u001b[1;33m         \u001b[0mX\u001b[0m \u001b[1;33m=\u001b[0m \u001b[0mself\u001b[0m\u001b[1;33m.\u001b[0m\u001b[0m_check_fit_data\u001b[0m\u001b[1;33m(\u001b[0m\u001b[0mX\u001b[0m\u001b[1;33m)\u001b[0m\u001b[1;33m\u001b[0m\u001b[0m\n\u001b[0m\u001b[0;32m    813\u001b[0m \u001b[1;33m\u001b[0m\u001b[0m\n\u001b[0;32m    814\u001b[0m         \u001b[0mself\u001b[0m\u001b[1;33m.\u001b[0m\u001b[0mcluster_centers_\u001b[0m\u001b[1;33m,\u001b[0m \u001b[0mself\u001b[0m\u001b[1;33m.\u001b[0m\u001b[0mlabels_\u001b[0m\u001b[1;33m,\u001b[0m \u001b[0mself\u001b[0m\u001b[1;33m.\u001b[0m\u001b[0minertia_\u001b[0m\u001b[1;33m,\u001b[0m \u001b[0mself\u001b[0m\u001b[1;33m.\u001b[0m\u001b[0mn_iter_\u001b[0m \u001b[1;33m=\u001b[0m\u001b[0;31m \u001b[0m\u001b[0;31m\\\u001b[0m\u001b[1;33m\u001b[0m\u001b[0m\n",
      "\u001b[1;32mC:\\Users\\Annie\\Anaconda2\\lib\\site-packages\\sklearn\\cluster\\k_means_.py\u001b[0m in \u001b[0;36m_check_fit_data\u001b[1;34m(self, X)\u001b[0m\n\u001b[0;32m    784\u001b[0m     \u001b[1;32mdef\u001b[0m \u001b[0m_check_fit_data\u001b[0m\u001b[1;33m(\u001b[0m\u001b[0mself\u001b[0m\u001b[1;33m,\u001b[0m \u001b[0mX\u001b[0m\u001b[1;33m)\u001b[0m\u001b[1;33m:\u001b[0m\u001b[1;33m\u001b[0m\u001b[0m\n\u001b[0;32m    785\u001b[0m         \u001b[1;34m\"\"\"Verify that the number of samples given is larger than k\"\"\"\u001b[0m\u001b[1;33m\u001b[0m\u001b[0m\n\u001b[1;32m--> 786\u001b[1;33m         \u001b[0mX\u001b[0m \u001b[1;33m=\u001b[0m \u001b[0mcheck_array\u001b[0m\u001b[1;33m(\u001b[0m\u001b[0mX\u001b[0m\u001b[1;33m,\u001b[0m \u001b[0maccept_sparse\u001b[0m\u001b[1;33m=\u001b[0m\u001b[1;34m'csr'\u001b[0m\u001b[1;33m,\u001b[0m \u001b[0mdtype\u001b[0m\u001b[1;33m=\u001b[0m\u001b[0mnp\u001b[0m\u001b[1;33m.\u001b[0m\u001b[0mfloat64\u001b[0m\u001b[1;33m)\u001b[0m\u001b[1;33m\u001b[0m\u001b[0m\n\u001b[0m\u001b[0;32m    787\u001b[0m         \u001b[1;32mif\u001b[0m \u001b[0mX\u001b[0m\u001b[1;33m.\u001b[0m\u001b[0mshape\u001b[0m\u001b[1;33m[\u001b[0m\u001b[1;36m0\u001b[0m\u001b[1;33m]\u001b[0m \u001b[1;33m<\u001b[0m \u001b[0mself\u001b[0m\u001b[1;33m.\u001b[0m\u001b[0mn_clusters\u001b[0m\u001b[1;33m:\u001b[0m\u001b[1;33m\u001b[0m\u001b[0m\n\u001b[0;32m    788\u001b[0m             raise ValueError(\"n_samples=%d should be >= n_clusters=%d\" % (\n",
      "\u001b[1;32mC:\\Users\\Annie\\Anaconda2\\lib\\site-packages\\sklearn\\utils\\validation.pyc\u001b[0m in \u001b[0;36mcheck_array\u001b[1;34m(array, accept_sparse, dtype, order, copy, force_all_finite, ensure_2d, allow_nd, ensure_min_samples, ensure_min_features, warn_on_dtype, estimator)\u001b[0m\n\u001b[0;32m    396\u001b[0m                              % (array.ndim, estimator_name))\n\u001b[0;32m    397\u001b[0m         \u001b[1;32mif\u001b[0m \u001b[0mforce_all_finite\u001b[0m\u001b[1;33m:\u001b[0m\u001b[1;33m\u001b[0m\u001b[0m\n\u001b[1;32m--> 398\u001b[1;33m             \u001b[0m_assert_all_finite\u001b[0m\u001b[1;33m(\u001b[0m\u001b[0marray\u001b[0m\u001b[1;33m)\u001b[0m\u001b[1;33m\u001b[0m\u001b[0m\n\u001b[0m\u001b[0;32m    399\u001b[0m \u001b[1;33m\u001b[0m\u001b[0m\n\u001b[0;32m    400\u001b[0m     \u001b[0mshape_repr\u001b[0m \u001b[1;33m=\u001b[0m \u001b[0m_shape_repr\u001b[0m\u001b[1;33m(\u001b[0m\u001b[0marray\u001b[0m\u001b[1;33m.\u001b[0m\u001b[0mshape\u001b[0m\u001b[1;33m)\u001b[0m\u001b[1;33m\u001b[0m\u001b[0m\n",
      "\u001b[1;32mC:\\Users\\Annie\\Anaconda2\\lib\\site-packages\\sklearn\\utils\\validation.pyc\u001b[0m in \u001b[0;36m_assert_all_finite\u001b[1;34m(X)\u001b[0m\n\u001b[0;32m     52\u001b[0m             and not np.isfinite(X).all()):\n\u001b[0;32m     53\u001b[0m         raise ValueError(\"Input contains NaN, infinity\"\n\u001b[1;32m---> 54\u001b[1;33m                          \" or a value too large for %r.\" % X.dtype)\n\u001b[0m\u001b[0;32m     55\u001b[0m \u001b[1;33m\u001b[0m\u001b[0m\n\u001b[0;32m     56\u001b[0m \u001b[1;33m\u001b[0m\u001b[0m\n",
      "\u001b[1;31mValueError\u001b[0m: Input contains NaN, infinity or a value too large for dtype('float64')."
     ]
    }
   ],
   "source": [
    "k=2\n",
    "kmeans = cluster.KMeans(n_clusters=k)\n",
    "kmeans.fit(c)"
   ]
  },
  {
   "cell_type": "markdown",
   "metadata": {
    "collapsed": true
   },
   "source": [
    "# Separating by sex"
   ]
  },
  {
   "cell_type": "code",
   "execution_count": 4,
   "metadata": {
    "collapsed": false
   },
   "outputs": [],
   "source": [
    "control=peak[peak['Group']=='Control']\n",
    "mint=peak[peak['Group']=='Mint']\n",
    "hexanal=peak[peak['Group']=='Hexanal']"
   ]
  },
  {
   "cell_type": "code",
   "execution_count": 16,
   "metadata": {
    "collapsed": false
   },
   "outputs": [],
   "source": [
    "# control.to_csv('C:\\Users\\Annie\\Desktop\\\\Plasticity\\\\controlpeaks.csv')\n",
    "# mint.to_csv('C:\\Users\\Annie\\Desktop\\\\Plasticity\\\\mintpeaks.csv')\n",
    "# hexanal.to_csv('C:\\Users\\Annie\\Desktop\\\\Plasticity\\\\hexanalpeaks.csv')"
   ]
  },
  {
   "cell_type": "code",
   "execution_count": 5,
   "metadata": {
    "collapsed": true
   },
   "outputs": [],
   "source": [
    "c=pd.read_csv('C:\\Users\\Annie\\Desktop\\\\Plasticity\\\\controlpeaks.csv')\n",
    "m=pd.read_csv('C:\\Users\\Annie\\Desktop\\\\Plasticity\\\\mintpeaks.csv')\n",
    "h=pd.read_csv('C:\\Users\\Annie\\Desktop\\\\Plasticity\\\\hexanalpeaks.csv')"
   ]
  },
  {
   "cell_type": "code",
   "execution_count": 6,
   "metadata": {
    "collapsed": false
   },
   "outputs": [
    {
     "data": {
      "text/html": [
       "<div>\n",
       "<table border=\"1\" class=\"dataframe\">\n",
       "  <thead>\n",
       "    <tr style=\"text-align: right;\">\n",
       "      <th></th>\n",
       "      <th>Group</th>\n",
       "      <th>Mouse</th>\n",
       "      <th>Sex</th>\n",
       "      <th>IAA10</th>\n",
       "      <th>IAA01</th>\n",
       "      <th>AP</th>\n",
       "      <th>MS10</th>\n",
       "      <th>IAA05</th>\n",
       "      <th>Hexanal01</th>\n",
       "      <th>EB</th>\n",
       "      <th>MS01</th>\n",
       "      <th>PA</th>\n",
       "      <th>MS05</th>\n",
       "      <th>Hexanone</th>\n",
       "      <th>Hexanal10</th>\n",
       "      <th>THA</th>\n",
       "      <th>Hexanal05</th>\n",
       "    </tr>\n",
       "  </thead>\n",
       "  <tbody>\n",
       "    <tr>\n",
       "      <th>0</th>\n",
       "      <td>Control</td>\n",
       "      <td>G PMT (1)_160421_1</td>\n",
       "      <td>F</td>\n",
       "      <td>0.261251</td>\n",
       "      <td>0.220532</td>\n",
       "      <td>0.078283</td>\n",
       "      <td>0.174363</td>\n",
       "      <td>0.078846</td>\n",
       "      <td>0.258040</td>\n",
       "      <td>0.224654</td>\n",
       "      <td>-0.015140</td>\n",
       "      <td>0.124194</td>\n",
       "      <td>0.116465</td>\n",
       "      <td>0.244783</td>\n",
       "      <td>0.258894</td>\n",
       "      <td>-0.002940</td>\n",
       "      <td>0.253119</td>\n",
       "    </tr>\n",
       "    <tr>\n",
       "      <th>1</th>\n",
       "      <td>Control</td>\n",
       "      <td>G PMT (2)_160421_1</td>\n",
       "      <td>F</td>\n",
       "      <td>0.034870</td>\n",
       "      <td>0.156095</td>\n",
       "      <td>0.002472</td>\n",
       "      <td>0.031428</td>\n",
       "      <td>0.088457</td>\n",
       "      <td>0.003294</td>\n",
       "      <td>-0.003833</td>\n",
       "      <td>-0.070036</td>\n",
       "      <td>0.069198</td>\n",
       "      <td>-0.008144</td>\n",
       "      <td>0.032720</td>\n",
       "      <td>-0.006190</td>\n",
       "      <td>-0.039989</td>\n",
       "      <td>0.122363</td>\n",
       "    </tr>\n",
       "    <tr>\n",
       "      <th>2</th>\n",
       "      <td>Control</td>\n",
       "      <td>G PMT (3)_160421_1</td>\n",
       "      <td>F</td>\n",
       "      <td>0.267157</td>\n",
       "      <td>0.138539</td>\n",
       "      <td>0.137004</td>\n",
       "      <td>0.170831</td>\n",
       "      <td>0.269743</td>\n",
       "      <td>0.077619</td>\n",
       "      <td>0.172468</td>\n",
       "      <td>0.206637</td>\n",
       "      <td>0.078242</td>\n",
       "      <td>0.055920</td>\n",
       "      <td>0.172709</td>\n",
       "      <td>0.229815</td>\n",
       "      <td>0.006948</td>\n",
       "      <td>0.266373</td>\n",
       "    </tr>\n",
       "    <tr>\n",
       "      <th>3</th>\n",
       "      <td>Control</td>\n",
       "      <td>G PMT (4)_160421_1</td>\n",
       "      <td>F</td>\n",
       "      <td>0.280240</td>\n",
       "      <td>0.269055</td>\n",
       "      <td>0.088021</td>\n",
       "      <td>0.209082</td>\n",
       "      <td>0.283791</td>\n",
       "      <td>0.371138</td>\n",
       "      <td>0.124611</td>\n",
       "      <td>0.178935</td>\n",
       "      <td>-0.000169</td>\n",
       "      <td>0.165357</td>\n",
       "      <td>0.338062</td>\n",
       "      <td>0.340071</td>\n",
       "      <td>-0.062722</td>\n",
       "      <td>0.347664</td>\n",
       "    </tr>\n",
       "    <tr>\n",
       "      <th>4</th>\n",
       "      <td>Control</td>\n",
       "      <td>G PMT (5)_160421_1</td>\n",
       "      <td>F</td>\n",
       "      <td>0.700963</td>\n",
       "      <td>0.532985</td>\n",
       "      <td>0.439966</td>\n",
       "      <td>0.464252</td>\n",
       "      <td>0.562895</td>\n",
       "      <td>0.827307</td>\n",
       "      <td>0.742206</td>\n",
       "      <td>0.312638</td>\n",
       "      <td>0.408257</td>\n",
       "      <td>0.426777</td>\n",
       "      <td>0.871130</td>\n",
       "      <td>0.729781</td>\n",
       "      <td>0.219649</td>\n",
       "      <td>0.726061</td>\n",
       "    </tr>\n",
       "  </tbody>\n",
       "</table>\n",
       "</div>"
      ],
      "text/plain": [
       "     Group               Mouse Sex     IAA10     IAA01        AP      MS10  \\\n",
       "0  Control  G PMT (1)_160421_1   F  0.261251  0.220532  0.078283  0.174363   \n",
       "1  Control  G PMT (2)_160421_1   F  0.034870  0.156095  0.002472  0.031428   \n",
       "2  Control  G PMT (3)_160421_1   F  0.267157  0.138539  0.137004  0.170831   \n",
       "3  Control  G PMT (4)_160421_1   F  0.280240  0.269055  0.088021  0.209082   \n",
       "4  Control  G PMT (5)_160421_1   F  0.700963  0.532985  0.439966  0.464252   \n",
       "\n",
       "      IAA05  Hexanal01        EB      MS01        PA      MS05  Hexanone  \\\n",
       "0  0.078846   0.258040  0.224654 -0.015140  0.124194  0.116465  0.244783   \n",
       "1  0.088457   0.003294 -0.003833 -0.070036  0.069198 -0.008144  0.032720   \n",
       "2  0.269743   0.077619  0.172468  0.206637  0.078242  0.055920  0.172709   \n",
       "3  0.283791   0.371138  0.124611  0.178935 -0.000169  0.165357  0.338062   \n",
       "4  0.562895   0.827307  0.742206  0.312638  0.408257  0.426777  0.871130   \n",
       "\n",
       "   Hexanal10       THA  Hexanal05  \n",
       "0   0.258894 -0.002940   0.253119  \n",
       "1  -0.006190 -0.039989   0.122363  \n",
       "2   0.229815  0.006948   0.266373  \n",
       "3   0.340071 -0.062722   0.347664  \n",
       "4   0.729781  0.219649   0.726061  "
      ]
     },
     "execution_count": 6,
     "metadata": {},
     "output_type": "execute_result"
    }
   ],
   "source": [
    "c.head()"
   ]
  },
  {
   "cell_type": "code",
   "execution_count": 7,
   "metadata": {
    "collapsed": false
   },
   "outputs": [],
   "source": [
    "cmelt=pd.melt(c,('Group','Mouse','Sex'),var_name='Odor',value_name='Peak')\n",
    "mmelt=pd.melt(m,('Group','Mouse','Sex'),var_name='Odor',value_name='Peak')\n",
    "hmelt=pd.melt(h,('Group','Mouse','Sex'),var_name='Odor',value_name='Peak')"
   ]
  },
  {
   "cell_type": "code",
   "execution_count": 8,
   "metadata": {
    "collapsed": false
   },
   "outputs": [],
   "source": [
    "cmale=cmelt[cmelt.Sex=='M']\n",
    "cfemale=cmelt[cmelt.Sex=='F']\n",
    "mmale=mmelt[mmelt.Sex=='M']\n",
    "mfemale=mmelt[mmelt.Sex=='F']\n",
    "hmale=hmelt[hmelt.Sex=='M']\n",
    "hfemale=hmelt[hmelt.Sex=='F']"
   ]
  },
  {
   "cell_type": "code",
   "execution_count": 9,
   "metadata": {
    "collapsed": false
   },
   "outputs": [
    {
     "name": "stderr",
     "output_type": "stream",
     "text": [
      "C:\\Users\\Annie\\Anaconda2\\lib\\site-packages\\scipy\\stats\\stats.py:257: RuntimeWarning: The input array could not be properly checked for nan values. nan values will be ignored.\n",
      "  \"values. nan values will be ignored.\", RuntimeWarning)\n"
     ]
    },
    {
     "data": {
      "text/plain": [
       "KruskalResult(statistic=32751.358102116363, pvalue=0.0)"
      ]
     },
     "execution_count": 9,
     "metadata": {},
     "output_type": "execute_result"
    }
   ],
   "source": [
    "# odor='Hexanal05'\n",
    "# kruskal(cmale[cmale.Odor==odor],mmale[mmale.Odor==odor],hmale[hmale.Odor==odor])"
   ]
  },
  {
   "cell_type": "code",
   "execution_count": 115,
   "metadata": {
    "collapsed": false
   },
   "outputs": [
    {
     "data": {
      "image/png": "[encoded data removed]",
      "text/plain": [
       "<matplotlib.figure.Figure at 0x120a4518>"
      ]
     },
     "metadata": {},
     "output_type": "display_data"
    }
   ],
   "source": [
    "ecm=cmale[cmale.Peak>0]\n",
    "ecf=cfemale[cfemale.Peak>0]\n",
    "ecm.Peak.plot.hist(alpha=0.5);\n",
    "ecf.Peak.plot.hist(alpha=0.5);\n",
    "sns.set(style='white',palette=\"muted\", color_codes=True);\n",
    "sns.set_style(\"ticks\")\n",
    "plt.xlim(0,5);\n",
    "plt.title('Control')\n",
    "sns.despine()\n",
    "plt.savefig(\"C:\\Users\\Annie\\Desktop\\Plasticity\\Revision\\SexDiff\\Control.pdf\")"
   ]
  },
  {
   "cell_type": "code",
   "execution_count": 118,
   "metadata": {
    "collapsed": false
   },
   "outputs": [
    {
     "data": {
      "image/png": "[encoded data removed]",
      "text/plain": [
       "<matplotlib.figure.Figure at 0x12a09da0>"
      ]
     },
     "metadata": {},
     "output_type": "display_data"
    }
   ],
   "source": [
    "emm=mmale[mmale.Peak>0]\n",
    "emf=mfemale[mfemale.Peak>0]\n",
    "emm.Peak.plot.hist(alpha=0.5);\n",
    "emf.Peak.plot.hist(alpha=0.5);\n",
    "sns.set(style='white',palette=\"muted\", color_codes=True);\n",
    "sns.set_style(\"ticks\")\n",
    "plt.title('Mint')\n",
    "plt.xlim(0,5);\n",
    "sns.despine()\n",
    "plt.savefig(\"C:\\Users\\Annie\\Desktop\\Plasticity\\Revision\\SexDiff\\Mint.pdf\")"
   ]
  },
  {
   "cell_type": "code",
   "execution_count": 119,
   "metadata": {
    "collapsed": false
   },
   "outputs": [
    {
     "data": {
      "image/png": "[encoded data removed]",
      "text/plain": [
       "<matplotlib.figure.Figure at 0x12a2e6d8>"
      ]
     },
     "metadata": {},
     "output_type": "display_data"
    }
   ],
   "source": [
    "ehm=hmale[hmale.Peak>0]\n",
    "ehf=hfemale[hfemale.Peak>0]\n",
    "ehm.Peak.plot.hist(alpha=0.5);\n",
    "ehf.Peak.plot.hist(alpha=0.5);\n",
    "sns.set(style='white',palette=\"muted\", color_codes=True);\n",
    "sns.set_style(\"ticks\")\n",
    "plt.xlim(0,5);\n",
    "plt.title('Hexanal')\n",
    "sns.despine()\n",
    "plt.savefig(\"C:\\Users\\Annie\\Desktop\\Plasticity\\Revision\\SexDiff\\Hexanal.pdf\")"
   ]
  },
  {
   "cell_type": "code",
   "execution_count": 87,
   "metadata": {
    "collapsed": true
   },
   "outputs": [
    {
     "data": {
      "text/plain": [
       "<matplotlib.axes._subplots.AxesSubplot at 0x10ec9240>"
      ]
     },
     "execution_count": 87,
     "metadata": {},
     "output_type": "execute_result"
    },
    {
     "data": {
      "image/png": "[encoded data removed]",
      "text/plain": [
       "<matplotlib.figure.Figure at 0x10848320>"
      ]
     },
     "metadata": {},
     "output_type": "display_data"
    }
   ],
   "source": [
    "mfemale.Peak.plot.hist(alpha=0.5)\n",
    "# mmale.Peak.plot.hist(alpha=1)\n",
    "cfemale.Peak.plot.hist(alpha=0.5)\n",
    "# cmale.Peak.plot.hist(alpha=0.5)\n",
    "# hfemale.Peak.plot.hist(alpha=0.5)\n",
    "# hmale.Peak.plot.hist(alpha=0.5)"
   ]
  },
  {
   "cell_type": "code",
   "execution_count": 61,
   "metadata": {
    "collapsed": false
   },
   "outputs": [
    {
     "data": {
      "text/plain": [
       "KruskalResult(statistic=477.478614715064, pvalue=7.5577836561211752e-106)"
      ]
     },
     "execution_count": 61,
     "metadata": {},
     "output_type": "execute_result"
    }
   ],
   "source": [
    "kruskal(hmale.Peak,cmale.Peak.dropna())"
   ]
  },
  {
   "cell_type": "code",
   "execution_count": null,
   "metadata": {
    "collapsed": true
   },
   "outputs": [],
   "source": [
    "from scipy import "
   ]
  },
  {
   "cell_type": "code",
   "execution_count": 42,
   "metadata": {
    "collapsed": false
   },
   "outputs": [
    {
     "data": {
      "image/png": "[encoded data removed]",
      "text/plain": [
       "<matplotlib.figure.Figure at 0xc7d7c88>"
      ]
     },
     "metadata": {},
     "output_type": "display_data"
    }
   ],
   "source": [
    "cat=('M','F')\n",
    "sns.set(style=\"white\", palette=\"muted\", color_codes=True);\n",
    "sns.set_context(\"paper\", font_scale=1.3);\n",
    "plt.figure(figsize=(7,5));\n",
    "sns.boxplot(x='Odor',y='Peak',hue_order=cat,hue='Sex',data=mmelt);\n",
    "# ax.legend_.remove()\n",
    "sns.despine()\n",
    "plt.ylabel('DF/F', fontsize=12);\n",
    "plt.title('Peak DF/F, 1%', fontsize=12);\n",
    "plt.xlabel('Odor', fontsize=12);\n",
    "plt.ylim(-1,5)\n",
    "plt.tight_layout()"
   ]
  },
  {
   "cell_type": "code",
   "execution_count": 37,
   "metadata": {
    "collapsed": false
   },
   "outputs": [
    {
     "data": {
      "image/png": "[encoded data removed]",
      "text/plain": [
       "<matplotlib.figure.Figure at 0xc3afa20>"
      ]
     },
     "metadata": {},
     "output_type": "display_data"
    }
   ],
   "source": [
    "at=('M','F')\n",
    "sns.set(style=\"white\", palette=\"muted\", color_codes=True);\n",
    "sns.set_context(\"paper\", font_scale=1.3);\n",
    "plt.figure(figsize=(7,5));\n",
    "sns.boxplot(x='Odor',y='Peak',hue_order=cat,hue='Sex',data=hmelt);\n",
    "# ax.legend_.remove()\n",
    "sns.despine()\n",
    "plt.ylabel('DF/F', fontsize=12);\n",
    "plt.title('Peak DF/F, 1%', fontsize=12);\n",
    "plt.xlabel('Odor', fontsize=12);\n",
    "plt.ylim(-1,5)\n",
    "plt.tight_layout()"
   ]
  },
  {
   "cell_type": "code",
   "execution_count": 38,
   "metadata": {
    "collapsed": false
   },
   "outputs": [
    {
     "data": {
      "image/png": "[encoded data removed]",
      "text/plain": [
       "<matplotlib.figure.Figure at 0xc0bf0b8>"
      ]
     },
     "metadata": {},
     "output_type": "display_data"
    }
   ],
   "source": [
    "at=('M','F')\n",
    "sns.set(style=\"white\", palette=\"muted\", color_codes=True);\n",
    "sns.set_context(\"paper\", font_scale=1.3);\n",
    "plt.figure(figsize=(7,5));\n",
    "sns.boxplot(x='Odor',y='Peak',hue_order=cat,hue='Sex',data=mmelt);\n",
    "# ax.legend_.remove()\n",
    "sns.despine()\n",
    "plt.ylabel('DF/F', fontsize=12);\n",
    "plt.title('Peak DF/F, 1%', fontsize=12);\n",
    "plt.xlabel('Odor', fontsize=12);\n",
    "plt.ylim(-1,5)\n",
    "plt.tight_layout()"
   ]
  },
  {
   "cell_type": "markdown",
   "metadata": {
    "collapsed": true
   },
   "source": [
    "# Dendrogram"
   ]
  },
  {
   "cell_type": "code",
   "execution_count": 27,
   "metadata": {
    "collapsed": false,
    "scrolled": true
   },
   "outputs": [
    {
     "data": {
      "text/html": [
       "<div>\n",
       "<table border=\"1\" class=\"dataframe\">\n",
       "  <thead>\n",
       "    <tr style=\"text-align: right;\">\n",
       "      <th></th>\n",
       "      <th>Group</th>\n",
       "      <th>Mouse</th>\n",
       "      <th>IAA10</th>\n",
       "      <th>IAA01</th>\n",
       "      <th>AP</th>\n",
       "      <th>MS10</th>\n",
       "      <th>IAA05</th>\n",
       "      <th>Hexanal01</th>\n",
       "      <th>EB</th>\n",
       "      <th>MS01</th>\n",
       "      <th>PA</th>\n",
       "      <th>MS05</th>\n",
       "      <th>Blank</th>\n",
       "      <th>Hexanone</th>\n",
       "      <th>Hexanal10</th>\n",
       "      <th>THA</th>\n",
       "      <th>Hexanal05</th>\n",
       "    </tr>\n",
       "  </thead>\n",
       "  <tbody>\n",
       "    <tr>\n",
       "      <th>0</th>\n",
       "      <td>Control</td>\n",
       "      <td>G PMT (1)_160321_1</td>\n",
       "      <td>0.099708</td>\n",
       "      <td>0.188597</td>\n",
       "      <td>0.036738</td>\n",
       "      <td>0.150474</td>\n",
       "      <td>0.034294</td>\n",
       "      <td>0.062999</td>\n",
       "      <td>-0.061840</td>\n",
       "      <td>0.015671</td>\n",
       "      <td>0.037389</td>\n",
       "      <td>0.169456</td>\n",
       "      <td>NaN</td>\n",
       "      <td>0.093353</td>\n",
       "      <td>0.069948</td>\n",
       "      <td>0.067358</td>\n",
       "      <td>0.124211</td>\n",
       "    </tr>\n",
       "    <tr>\n",
       "      <th>1</th>\n",
       "      <td>Control</td>\n",
       "      <td>G PMT (2)_160321_1</td>\n",
       "      <td>0.041676</td>\n",
       "      <td>0.188666</td>\n",
       "      <td>0.073576</td>\n",
       "      <td>0.074001</td>\n",
       "      <td>0.001814</td>\n",
       "      <td>0.014205</td>\n",
       "      <td>0.056893</td>\n",
       "      <td>-0.034636</td>\n",
       "      <td>-0.002271</td>\n",
       "      <td>0.139423</td>\n",
       "      <td>NaN</td>\n",
       "      <td>-0.026087</td>\n",
       "      <td>0.036447</td>\n",
       "      <td>0.095266</td>\n",
       "      <td>0.101018</td>\n",
       "    </tr>\n",
       "    <tr>\n",
       "      <th>2</th>\n",
       "      <td>Control</td>\n",
       "      <td>G PMT (3)_160321_1</td>\n",
       "      <td>0.287615</td>\n",
       "      <td>0.477065</td>\n",
       "      <td>0.058214</td>\n",
       "      <td>0.260675</td>\n",
       "      <td>0.127803</td>\n",
       "      <td>0.129928</td>\n",
       "      <td>0.153817</td>\n",
       "      <td>-0.044179</td>\n",
       "      <td>0.221412</td>\n",
       "      <td>0.095906</td>\n",
       "      <td>NaN</td>\n",
       "      <td>0.022945</td>\n",
       "      <td>0.263380</td>\n",
       "      <td>0.146676</td>\n",
       "      <td>0.293199</td>\n",
       "    </tr>\n",
       "    <tr>\n",
       "      <th>3</th>\n",
       "      <td>Control</td>\n",
       "      <td>G PMT (4)_160321_1</td>\n",
       "      <td>0.034975</td>\n",
       "      <td>0.248613</td>\n",
       "      <td>0.110235</td>\n",
       "      <td>0.071141</td>\n",
       "      <td>0.104363</td>\n",
       "      <td>0.104142</td>\n",
       "      <td>0.082859</td>\n",
       "      <td>0.146939</td>\n",
       "      <td>0.051386</td>\n",
       "      <td>0.157300</td>\n",
       "      <td>NaN</td>\n",
       "      <td>-0.057530</td>\n",
       "      <td>0.037260</td>\n",
       "      <td>0.094015</td>\n",
       "      <td>0.198974</td>\n",
       "    </tr>\n",
       "    <tr>\n",
       "      <th>4</th>\n",
       "      <td>Control</td>\n",
       "      <td>G PMT (5)_160321_1</td>\n",
       "      <td>0.309290</td>\n",
       "      <td>0.393188</td>\n",
       "      <td>0.116399</td>\n",
       "      <td>0.220858</td>\n",
       "      <td>0.240154</td>\n",
       "      <td>0.315627</td>\n",
       "      <td>0.694684</td>\n",
       "      <td>0.268299</td>\n",
       "      <td>0.203381</td>\n",
       "      <td>0.233311</td>\n",
       "      <td>NaN</td>\n",
       "      <td>-0.147715</td>\n",
       "      <td>0.145721</td>\n",
       "      <td>0.069755</td>\n",
       "      <td>0.538062</td>\n",
       "    </tr>\n",
       "  </tbody>\n",
       "</table>\n",
       "</div>"
      ],
      "text/plain": [
       "     Group               Mouse     IAA10     IAA01        AP      MS10  \\\n",
       "0  Control  G PMT (1)_160321_1  0.099708  0.188597  0.036738  0.150474   \n",
       "1  Control  G PMT (2)_160321_1  0.041676  0.188666  0.073576  0.074001   \n",
       "2  Control  G PMT (3)_160321_1  0.287615  0.477065  0.058214  0.260675   \n",
       "3  Control  G PMT (4)_160321_1  0.034975  0.248613  0.110235  0.071141   \n",
       "4  Control  G PMT (5)_160321_1  0.309290  0.393188  0.116399  0.220858   \n",
       "\n",
       "      IAA05  Hexanal01        EB      MS01        PA      MS05  Blank  \\\n",
       "0  0.034294   0.062999 -0.061840  0.015671  0.037389  0.169456    NaN   \n",
       "1  0.001814   0.014205  0.056893 -0.034636 -0.002271  0.139423    NaN   \n",
       "2  0.127803   0.129928  0.153817 -0.044179  0.221412  0.095906    NaN   \n",
       "3  0.104363   0.104142  0.082859  0.146939  0.051386  0.157300    NaN   \n",
       "4  0.240154   0.315627  0.694684  0.268299  0.203381  0.233311    NaN   \n",
       "\n",
       "   Hexanone  Hexanal10       THA  Hexanal05  \n",
       "0  0.093353   0.069948  0.067358   0.124211  \n",
       "1 -0.026087   0.036447  0.095266   0.101018  \n",
       "2  0.022945   0.263380  0.146676   0.293199  \n",
       "3 -0.057530   0.037260  0.094015   0.198974  \n",
       "4 -0.147715   0.145721  0.069755   0.538062  "
      ]
     },
     "execution_count": 27,
     "metadata": {},
     "output_type": "execute_result"
    }
   ],
   "source": [
    "peak.head()"
   ]
  },
  {
   "cell_type": "code",
   "execution_count": 33,
   "metadata": {
    "collapsed": false
   },
   "outputs": [],
   "source": [
    "cpeak=peak[peak.Group=='Control']\n",
    "mpeak=peak[peak.Group=='Mint']\n",
    "hpeak=peak[peak.Group=='Hexanal']"
   ]
  },
  {
   "cell_type": "code",
   "execution_count": 34,
   "metadata": {
    "collapsed": false
   },
   "outputs": [],
   "source": [
    "X=peak[['IAA10','IAA01','AP','MS10','IAA05','Hexanal01','EB','MS01','PA','MS05','Hexanone','Hexanal10','THA','Hexanal05']]\n",
    "C=cpeak[['IAA10','IAA01','AP','MS10','IAA05','Hexanal01','EB','MS01','PA','MS05','Hexanone','Hexanal10','THA','Hexanal05']]\n",
    "M=mpeak[['IAA10','IAA01','AP','MS10','IAA05','Hexanal01','EB','MS01','PA','MS05','Hexanone','Hexanal10','THA','Hexanal05']]\n",
    "H=hpeak[['IAA10','IAA01','AP','MS10','IAA05','Hexanal01','EB','MS01','PA','MS05','Hexanone','Hexanal10','THA','Hexanal05']]"
   ]
  },
  {
   "cell_type": "code",
   "execution_count": 35,
   "metadata": {
    "collapsed": false
   },
   "outputs": [],
   "source": [
    "Z=linkage(X)\n",
    "CZ=linkage(C)\n",
    "MZ=linkage(M)\n",
    "HZ=linkage(H)"
   ]
  },
  {
   "cell_type": "code",
   "execution_count": 20,
   "metadata": {
    "collapsed": true
   },
   "outputs": [],
   "source": [
    "from scipy.cluster.hierarchy import cophenet\n",
    "from scipy.spatial.distance import pdist"
   ]
  },
  {
   "cell_type": "code",
   "execution_count": 39,
   "metadata": {
    "collapsed": false
   },
   "outputs": [
    {
     "data": {
      "text/html": [
       "<div>\n",
       "<table border=\"1\" class=\"dataframe\">\n",
       "  <thead>\n",
       "    <tr style=\"text-align: right;\">\n",
       "      <th></th>\n",
       "      <th>0</th>\n",
       "      <th>1</th>\n",
       "      <th>2</th>\n",
       "      <th>3</th>\n",
       "    </tr>\n",
       "  </thead>\n",
       "  <tbody>\n",
       "    <tr>\n",
       "      <th>0</th>\n",
       "      <td>238.0</td>\n",
       "      <td>239.0</td>\n",
       "      <td>0.100247</td>\n",
       "      <td>2.0</td>\n",
       "    </tr>\n",
       "    <tr>\n",
       "      <th>1</th>\n",
       "      <td>240.0</td>\n",
       "      <td>246.0</td>\n",
       "      <td>0.110695</td>\n",
       "      <td>2.0</td>\n",
       "    </tr>\n",
       "    <tr>\n",
       "      <th>2</th>\n",
       "      <td>338.0</td>\n",
       "      <td>339.0</td>\n",
       "      <td>0.113964</td>\n",
       "      <td>2.0</td>\n",
       "    </tr>\n",
       "    <tr>\n",
       "      <th>3</th>\n",
       "      <td>122.0</td>\n",
       "      <td>126.0</td>\n",
       "      <td>0.115886</td>\n",
       "      <td>2.0</td>\n",
       "    </tr>\n",
       "    <tr>\n",
       "      <th>4</th>\n",
       "      <td>216.0</td>\n",
       "      <td>225.0</td>\n",
       "      <td>0.115988</td>\n",
       "      <td>2.0</td>\n",
       "    </tr>\n",
       "    <tr>\n",
       "      <th>5</th>\n",
       "      <td>46.0</td>\n",
       "      <td>229.0</td>\n",
       "      <td>0.124773</td>\n",
       "      <td>2.0</td>\n",
       "    </tr>\n",
       "    <tr>\n",
       "      <th>6</th>\n",
       "      <td>331.0</td>\n",
       "      <td>333.0</td>\n",
       "      <td>0.128011</td>\n",
       "      <td>2.0</td>\n",
       "    </tr>\n",
       "    <tr>\n",
       "      <th>7</th>\n",
       "      <td>329.0</td>\n",
       "      <td>375.0</td>\n",
       "      <td>0.134020</td>\n",
       "      <td>3.0</td>\n",
       "    </tr>\n",
       "    <tr>\n",
       "      <th>8</th>\n",
       "      <td>130.0</td>\n",
       "      <td>137.0</td>\n",
       "      <td>0.136090</td>\n",
       "      <td>2.0</td>\n",
       "    </tr>\n",
       "    <tr>\n",
       "      <th>9</th>\n",
       "      <td>121.0</td>\n",
       "      <td>134.0</td>\n",
       "      <td>0.136509</td>\n",
       "      <td>2.0</td>\n",
       "    </tr>\n",
       "    <tr>\n",
       "      <th>10</th>\n",
       "      <td>242.0</td>\n",
       "      <td>243.0</td>\n",
       "      <td>0.137313</td>\n",
       "      <td>2.0</td>\n",
       "    </tr>\n",
       "    <tr>\n",
       "      <th>11</th>\n",
       "      <td>13.0</td>\n",
       "      <td>14.0</td>\n",
       "      <td>0.140912</td>\n",
       "      <td>2.0</td>\n",
       "    </tr>\n",
       "    <tr>\n",
       "      <th>12</th>\n",
       "      <td>210.0</td>\n",
       "      <td>211.0</td>\n",
       "      <td>0.145379</td>\n",
       "      <td>2.0</td>\n",
       "    </tr>\n",
       "    <tr>\n",
       "      <th>13</th>\n",
       "      <td>23.0</td>\n",
       "      <td>380.0</td>\n",
       "      <td>0.147315</td>\n",
       "      <td>3.0</td>\n",
       "    </tr>\n",
       "    <tr>\n",
       "      <th>14</th>\n",
       "      <td>372.0</td>\n",
       "      <td>377.0</td>\n",
       "      <td>0.148624</td>\n",
       "      <td>4.0</td>\n",
       "    </tr>\n",
       "    <tr>\n",
       "      <th>15</th>\n",
       "      <td>332.0</td>\n",
       "      <td>340.0</td>\n",
       "      <td>0.149896</td>\n",
       "      <td>2.0</td>\n",
       "    </tr>\n",
       "    <tr>\n",
       "      <th>16</th>\n",
       "      <td>72.0</td>\n",
       "      <td>78.0</td>\n",
       "      <td>0.150523</td>\n",
       "      <td>2.0</td>\n",
       "    </tr>\n",
       "    <tr>\n",
       "      <th>17</th>\n",
       "      <td>199.0</td>\n",
       "      <td>209.0</td>\n",
       "      <td>0.152150</td>\n",
       "      <td>2.0</td>\n",
       "    </tr>\n",
       "    <tr>\n",
       "      <th>18</th>\n",
       "      <td>233.0</td>\n",
       "      <td>369.0</td>\n",
       "      <td>0.152667</td>\n",
       "      <td>3.0</td>\n",
       "    </tr>\n",
       "    <tr>\n",
       "      <th>19</th>\n",
       "      <td>80.0</td>\n",
       "      <td>84.0</td>\n",
       "      <td>0.153193</td>\n",
       "      <td>2.0</td>\n",
       "    </tr>\n",
       "    <tr>\n",
       "      <th>20</th>\n",
       "      <td>230.0</td>\n",
       "      <td>374.0</td>\n",
       "      <td>0.153480</td>\n",
       "      <td>3.0</td>\n",
       "    </tr>\n",
       "    <tr>\n",
       "      <th>21</th>\n",
       "      <td>370.0</td>\n",
       "      <td>387.0</td>\n",
       "      <td>0.153750</td>\n",
       "      <td>5.0</td>\n",
       "    </tr>\n",
       "    <tr>\n",
       "      <th>22</th>\n",
       "      <td>271.0</td>\n",
       "      <td>272.0</td>\n",
       "      <td>0.153828</td>\n",
       "      <td>2.0</td>\n",
       "    </tr>\n",
       "    <tr>\n",
       "      <th>23</th>\n",
       "      <td>236.0</td>\n",
       "      <td>379.0</td>\n",
       "      <td>0.156002</td>\n",
       "      <td>3.0</td>\n",
       "    </tr>\n",
       "    <tr>\n",
       "      <th>24</th>\n",
       "      <td>120.0</td>\n",
       "      <td>378.0</td>\n",
       "      <td>0.158685</td>\n",
       "      <td>3.0</td>\n",
       "    </tr>\n",
       "    <tr>\n",
       "      <th>25</th>\n",
       "      <td>129.0</td>\n",
       "      <td>383.0</td>\n",
       "      <td>0.158714</td>\n",
       "      <td>5.0</td>\n",
       "    </tr>\n",
       "    <tr>\n",
       "      <th>26</th>\n",
       "      <td>237.0</td>\n",
       "      <td>390.0</td>\n",
       "      <td>0.159039</td>\n",
       "      <td>6.0</td>\n",
       "    </tr>\n",
       "    <tr>\n",
       "      <th>27</th>\n",
       "      <td>342.0</td>\n",
       "      <td>384.0</td>\n",
       "      <td>0.159053</td>\n",
       "      <td>3.0</td>\n",
       "    </tr>\n",
       "    <tr>\n",
       "      <th>28</th>\n",
       "      <td>67.0</td>\n",
       "      <td>82.0</td>\n",
       "      <td>0.159960</td>\n",
       "      <td>2.0</td>\n",
       "    </tr>\n",
       "    <tr>\n",
       "      <th>29</th>\n",
       "      <td>220.0</td>\n",
       "      <td>224.0</td>\n",
       "      <td>0.161044</td>\n",
       "      <td>2.0</td>\n",
       "    </tr>\n",
       "    <tr>\n",
       "      <th>...</th>\n",
       "      <td>...</td>\n",
       "      <td>...</td>\n",
       "      <td>...</td>\n",
       "      <td>...</td>\n",
       "    </tr>\n",
       "    <tr>\n",
       "      <th>338</th>\n",
       "      <td>695.0</td>\n",
       "      <td>703.0</td>\n",
       "      <td>0.725884</td>\n",
       "      <td>6.0</td>\n",
       "    </tr>\n",
       "    <tr>\n",
       "      <th>339</th>\n",
       "      <td>155.0</td>\n",
       "      <td>706.0</td>\n",
       "      <td>0.733385</td>\n",
       "      <td>333.0</td>\n",
       "    </tr>\n",
       "    <tr>\n",
       "      <th>340</th>\n",
       "      <td>287.0</td>\n",
       "      <td>708.0</td>\n",
       "      <td>0.743016</td>\n",
       "      <td>334.0</td>\n",
       "    </tr>\n",
       "    <tr>\n",
       "      <th>341</th>\n",
       "      <td>365.0</td>\n",
       "      <td>707.0</td>\n",
       "      <td>0.753560</td>\n",
       "      <td>7.0</td>\n",
       "    </tr>\n",
       "    <tr>\n",
       "      <th>342</th>\n",
       "      <td>699.0</td>\n",
       "      <td>709.0</td>\n",
       "      <td>0.754472</td>\n",
       "      <td>336.0</td>\n",
       "    </tr>\n",
       "    <tr>\n",
       "      <th>343</th>\n",
       "      <td>696.0</td>\n",
       "      <td>710.0</td>\n",
       "      <td>0.754626</td>\n",
       "      <td>9.0</td>\n",
       "    </tr>\n",
       "    <tr>\n",
       "      <th>344</th>\n",
       "      <td>141.0</td>\n",
       "      <td>711.0</td>\n",
       "      <td>0.756929</td>\n",
       "      <td>337.0</td>\n",
       "    </tr>\n",
       "    <tr>\n",
       "      <th>345</th>\n",
       "      <td>205.0</td>\n",
       "      <td>713.0</td>\n",
       "      <td>0.773977</td>\n",
       "      <td>338.0</td>\n",
       "    </tr>\n",
       "    <tr>\n",
       "      <th>346</th>\n",
       "      <td>366.0</td>\n",
       "      <td>712.0</td>\n",
       "      <td>0.782250</td>\n",
       "      <td>10.0</td>\n",
       "    </tr>\n",
       "    <tr>\n",
       "      <th>347</th>\n",
       "      <td>170.0</td>\n",
       "      <td>714.0</td>\n",
       "      <td>0.791842</td>\n",
       "      <td>339.0</td>\n",
       "    </tr>\n",
       "    <tr>\n",
       "      <th>348</th>\n",
       "      <td>351.0</td>\n",
       "      <td>715.0</td>\n",
       "      <td>0.800248</td>\n",
       "      <td>11.0</td>\n",
       "    </tr>\n",
       "    <tr>\n",
       "      <th>349</th>\n",
       "      <td>343.0</td>\n",
       "      <td>363.0</td>\n",
       "      <td>0.807511</td>\n",
       "      <td>2.0</td>\n",
       "    </tr>\n",
       "    <tr>\n",
       "      <th>350</th>\n",
       "      <td>358.0</td>\n",
       "      <td>716.0</td>\n",
       "      <td>0.816226</td>\n",
       "      <td>340.0</td>\n",
       "    </tr>\n",
       "    <tr>\n",
       "      <th>351</th>\n",
       "      <td>718.0</td>\n",
       "      <td>719.0</td>\n",
       "      <td>0.825686</td>\n",
       "      <td>342.0</td>\n",
       "    </tr>\n",
       "    <tr>\n",
       "      <th>352</th>\n",
       "      <td>190.0</td>\n",
       "      <td>720.0</td>\n",
       "      <td>0.858784</td>\n",
       "      <td>343.0</td>\n",
       "    </tr>\n",
       "    <tr>\n",
       "      <th>353</th>\n",
       "      <td>21.0</td>\n",
       "      <td>721.0</td>\n",
       "      <td>0.861141</td>\n",
       "      <td>344.0</td>\n",
       "    </tr>\n",
       "    <tr>\n",
       "      <th>354</th>\n",
       "      <td>267.0</td>\n",
       "      <td>717.0</td>\n",
       "      <td>0.873012</td>\n",
       "      <td>12.0</td>\n",
       "    </tr>\n",
       "    <tr>\n",
       "      <th>355</th>\n",
       "      <td>327.0</td>\n",
       "      <td>722.0</td>\n",
       "      <td>0.879714</td>\n",
       "      <td>345.0</td>\n",
       "    </tr>\n",
       "    <tr>\n",
       "      <th>356</th>\n",
       "      <td>326.0</td>\n",
       "      <td>724.0</td>\n",
       "      <td>0.886699</td>\n",
       "      <td>346.0</td>\n",
       "    </tr>\n",
       "    <tr>\n",
       "      <th>357</th>\n",
       "      <td>723.0</td>\n",
       "      <td>725.0</td>\n",
       "      <td>0.908697</td>\n",
       "      <td>358.0</td>\n",
       "    </tr>\n",
       "    <tr>\n",
       "      <th>358</th>\n",
       "      <td>266.0</td>\n",
       "      <td>726.0</td>\n",
       "      <td>0.909234</td>\n",
       "      <td>359.0</td>\n",
       "    </tr>\n",
       "    <tr>\n",
       "      <th>359</th>\n",
       "      <td>169.0</td>\n",
       "      <td>189.0</td>\n",
       "      <td>0.928817</td>\n",
       "      <td>2.0</td>\n",
       "    </tr>\n",
       "    <tr>\n",
       "      <th>360</th>\n",
       "      <td>295.0</td>\n",
       "      <td>727.0</td>\n",
       "      <td>0.943164</td>\n",
       "      <td>360.0</td>\n",
       "    </tr>\n",
       "    <tr>\n",
       "      <th>361</th>\n",
       "      <td>191.0</td>\n",
       "      <td>729.0</td>\n",
       "      <td>0.949116</td>\n",
       "      <td>361.0</td>\n",
       "    </tr>\n",
       "    <tr>\n",
       "      <th>362</th>\n",
       "      <td>581.0</td>\n",
       "      <td>730.0</td>\n",
       "      <td>1.067565</td>\n",
       "      <td>363.0</td>\n",
       "    </tr>\n",
       "    <tr>\n",
       "      <th>363</th>\n",
       "      <td>252.0</td>\n",
       "      <td>731.0</td>\n",
       "      <td>1.152794</td>\n",
       "      <td>364.0</td>\n",
       "    </tr>\n",
       "    <tr>\n",
       "      <th>364</th>\n",
       "      <td>182.0</td>\n",
       "      <td>728.0</td>\n",
       "      <td>1.161500</td>\n",
       "      <td>3.0</td>\n",
       "    </tr>\n",
       "    <tr>\n",
       "      <th>365</th>\n",
       "      <td>183.0</td>\n",
       "      <td>733.0</td>\n",
       "      <td>1.237995</td>\n",
       "      <td>4.0</td>\n",
       "    </tr>\n",
       "    <tr>\n",
       "      <th>366</th>\n",
       "      <td>732.0</td>\n",
       "      <td>734.0</td>\n",
       "      <td>1.438012</td>\n",
       "      <td>368.0</td>\n",
       "    </tr>\n",
       "    <tr>\n",
       "      <th>367</th>\n",
       "      <td>181.0</td>\n",
       "      <td>735.0</td>\n",
       "      <td>2.243542</td>\n",
       "      <td>369.0</td>\n",
       "    </tr>\n",
       "  </tbody>\n",
       "</table>\n",
       "<p>368 rows × 4 columns</p>\n",
       "</div>"
      ],
      "text/plain": [
       "         0      1         2      3\n",
       "0    238.0  239.0  0.100247    2.0\n",
       "1    240.0  246.0  0.110695    2.0\n",
       "2    338.0  339.0  0.113964    2.0\n",
       "3    122.0  126.0  0.115886    2.0\n",
       "4    216.0  225.0  0.115988    2.0\n",
       "5     46.0  229.0  0.124773    2.0\n",
       "6    331.0  333.0  0.128011    2.0\n",
       "7    329.0  375.0  0.134020    3.0\n",
       "8    130.0  137.0  0.136090    2.0\n",
       "9    121.0  134.0  0.136509    2.0\n",
       "10   242.0  243.0  0.137313    2.0\n",
       "11    13.0   14.0  0.140912    2.0\n",
       "12   210.0  211.0  0.145379    2.0\n",
       "13    23.0  380.0  0.147315    3.0\n",
       "14   372.0  377.0  0.148624    4.0\n",
       "15   332.0  340.0  0.149896    2.0\n",
       "16    72.0   78.0  0.150523    2.0\n",
       "17   199.0  209.0  0.152150    2.0\n",
       "18   233.0  369.0  0.152667    3.0\n",
       "19    80.0   84.0  0.153193    2.0\n",
       "20   230.0  374.0  0.153480    3.0\n",
       "21   370.0  387.0  0.153750    5.0\n",
       "22   271.0  272.0  0.153828    2.0\n",
       "23   236.0  379.0  0.156002    3.0\n",
       "24   120.0  378.0  0.158685    3.0\n",
       "25   129.0  383.0  0.158714    5.0\n",
       "26   237.0  390.0  0.159039    6.0\n",
       "27   342.0  384.0  0.159053    3.0\n",
       "28    67.0   82.0  0.159960    2.0\n",
       "29   220.0  224.0  0.161044    2.0\n",
       "..     ...    ...       ...    ...\n",
       "338  695.0  703.0  0.725884    6.0\n",
       "339  155.0  706.0  0.733385  333.0\n",
       "340  287.0  708.0  0.743016  334.0\n",
       "341  365.0  707.0  0.753560    7.0\n",
       "342  699.0  709.0  0.754472  336.0\n",
       "343  696.0  710.0  0.754626    9.0\n",
       "344  141.0  711.0  0.756929  337.0\n",
       "345  205.0  713.0  0.773977  338.0\n",
       "346  366.0  712.0  0.782250   10.0\n",
       "347  170.0  714.0  0.791842  339.0\n",
       "348  351.0  715.0  0.800248   11.0\n",
       "349  343.0  363.0  0.807511    2.0\n",
       "350  358.0  716.0  0.816226  340.0\n",
       "351  718.0  719.0  0.825686  342.0\n",
       "352  190.0  720.0  0.858784  343.0\n",
       "353   21.0  721.0  0.861141  344.0\n",
       "354  267.0  717.0  0.873012   12.0\n",
       "355  327.0  722.0  0.879714  345.0\n",
       "356  326.0  724.0  0.886699  346.0\n",
       "357  723.0  725.0  0.908697  358.0\n",
       "358  266.0  726.0  0.909234  359.0\n",
       "359  169.0  189.0  0.928817    2.0\n",
       "360  295.0  727.0  0.943164  360.0\n",
       "361  191.0  729.0  0.949116  361.0\n",
       "362  581.0  730.0  1.067565  363.0\n",
       "363  252.0  731.0  1.152794  364.0\n",
       "364  182.0  728.0  1.161500    3.0\n",
       "365  183.0  733.0  1.237995    4.0\n",
       "366  732.0  734.0  1.438012  368.0\n",
       "367  181.0  735.0  2.243542  369.0\n",
       "\n",
       "[368 rows x 4 columns]"
      ]
     },
     "execution_count": 39,
     "metadata": {},
     "output_type": "execute_result"
    }
   ],
   "source": [
    "pd.DataFrame(HZ)"
   ]
  },
  {
   "cell_type": "code",
   "execution_count": 10,
   "metadata": {
    "collapsed": false
   },
   "outputs": [
    {
     "data": {
      "text/plain": [
       "nan"
      ]
     },
     "execution_count": 10,
     "metadata": {},
     "output_type": "execute_result"
    }
   ],
   "source": [
    "c, coph_dists=cophenet(Z,pdist(X))\n",
    "c"
   ]
  },
  {
   "cell_type": "code",
   "execution_count": 30,
   "metadata": {
    "collapsed": false
   },
   "outputs": [
    {
     "data": {
      "text/html": [
       "<div>\n",
       "<table border=\"1\" class=\"dataframe\">\n",
       "  <thead>\n",
       "    <tr style=\"text-align: right;\">\n",
       "      <th></th>\n",
       "      <th>0</th>\n",
       "      <th>1</th>\n",
       "      <th>2</th>\n",
       "      <th>3</th>\n",
       "    </tr>\n",
       "  </thead>\n",
       "  <tbody>\n",
       "    <tr>\n",
       "      <th>0</th>\n",
       "      <td>732.0</td>\n",
       "      <td>733.0</td>\n",
       "      <td>0.100247</td>\n",
       "      <td>2.0</td>\n",
       "    </tr>\n",
       "    <tr>\n",
       "      <th>1</th>\n",
       "      <td>345.0</td>\n",
       "      <td>350.0</td>\n",
       "      <td>0.102388</td>\n",
       "      <td>2.0</td>\n",
       "    </tr>\n",
       "    <tr>\n",
       "      <th>2</th>\n",
       "      <td>734.0</td>\n",
       "      <td>740.0</td>\n",
       "      <td>0.110695</td>\n",
       "      <td>2.0</td>\n",
       "    </tr>\n",
       "    <tr>\n",
       "      <th>3</th>\n",
       "      <td>832.0</td>\n",
       "      <td>833.0</td>\n",
       "      <td>0.113964</td>\n",
       "      <td>2.0</td>\n",
       "    </tr>\n",
       "    <tr>\n",
       "      <th>4</th>\n",
       "      <td>426.0</td>\n",
       "      <td>719.0</td>\n",
       "      <td>0.114798</td>\n",
       "      <td>2.0</td>\n",
       "    </tr>\n",
       "    <tr>\n",
       "      <th>5</th>\n",
       "      <td>616.0</td>\n",
       "      <td>620.0</td>\n",
       "      <td>0.115886</td>\n",
       "      <td>2.0</td>\n",
       "    </tr>\n",
       "    <tr>\n",
       "      <th>6</th>\n",
       "      <td>710.0</td>\n",
       "      <td>867.0</td>\n",
       "      <td>0.115988</td>\n",
       "      <td>3.0</td>\n",
       "    </tr>\n",
       "    <tr>\n",
       "      <th>7</th>\n",
       "      <td>366.0</td>\n",
       "      <td>379.0</td>\n",
       "      <td>0.116976</td>\n",
       "      <td>2.0</td>\n",
       "    </tr>\n",
       "    <tr>\n",
       "      <th>8</th>\n",
       "      <td>123.0</td>\n",
       "      <td>132.0</td>\n",
       "      <td>0.118534</td>\n",
       "      <td>2.0</td>\n",
       "    </tr>\n",
       "    <tr>\n",
       "      <th>9</th>\n",
       "      <td>249.0</td>\n",
       "      <td>259.0</td>\n",
       "      <td>0.118667</td>\n",
       "      <td>2.0</td>\n",
       "    </tr>\n",
       "    <tr>\n",
       "      <th>10</th>\n",
       "      <td>51.0</td>\n",
       "      <td>872.0</td>\n",
       "      <td>0.121240</td>\n",
       "      <td>3.0</td>\n",
       "    </tr>\n",
       "    <tr>\n",
       "      <th>11</th>\n",
       "      <td>420.0</td>\n",
       "      <td>868.0</td>\n",
       "      <td>0.121326</td>\n",
       "      <td>3.0</td>\n",
       "    </tr>\n",
       "    <tr>\n",
       "      <th>12</th>\n",
       "      <td>390.0</td>\n",
       "      <td>396.0</td>\n",
       "      <td>0.123074</td>\n",
       "      <td>2.0</td>\n",
       "    </tr>\n",
       "    <tr>\n",
       "      <th>13</th>\n",
       "      <td>540.0</td>\n",
       "      <td>723.0</td>\n",
       "      <td>0.124773</td>\n",
       "      <td>2.0</td>\n",
       "    </tr>\n",
       "    <tr>\n",
       "      <th>14</th>\n",
       "      <td>199.0</td>\n",
       "      <td>430.0</td>\n",
       "      <td>0.127480</td>\n",
       "      <td>2.0</td>\n",
       "    </tr>\n",
       "    <tr>\n",
       "      <th>15</th>\n",
       "      <td>825.0</td>\n",
       "      <td>827.0</td>\n",
       "      <td>0.128011</td>\n",
       "      <td>2.0</td>\n",
       "    </tr>\n",
       "    <tr>\n",
       "      <th>16</th>\n",
       "      <td>216.0</td>\n",
       "      <td>224.0</td>\n",
       "      <td>0.133782</td>\n",
       "      <td>2.0</td>\n",
       "    </tr>\n",
       "    <tr>\n",
       "      <th>17</th>\n",
       "      <td>367.0</td>\n",
       "      <td>870.0</td>\n",
       "      <td>0.133796</td>\n",
       "      <td>3.0</td>\n",
       "    </tr>\n",
       "    <tr>\n",
       "      <th>18</th>\n",
       "      <td>823.0</td>\n",
       "      <td>878.0</td>\n",
       "      <td>0.134020</td>\n",
       "      <td>3.0</td>\n",
       "    </tr>\n",
       "    <tr>\n",
       "      <th>19</th>\n",
       "      <td>362.0</td>\n",
       "      <td>365.0</td>\n",
       "      <td>0.134205</td>\n",
       "      <td>2.0</td>\n",
       "    </tr>\n",
       "    <tr>\n",
       "      <th>20</th>\n",
       "      <td>624.0</td>\n",
       "      <td>631.0</td>\n",
       "      <td>0.136090</td>\n",
       "      <td>2.0</td>\n",
       "    </tr>\n",
       "    <tr>\n",
       "      <th>21</th>\n",
       "      <td>615.0</td>\n",
       "      <td>628.0</td>\n",
       "      <td>0.136509</td>\n",
       "      <td>2.0</td>\n",
       "    </tr>\n",
       "    <tr>\n",
       "      <th>22</th>\n",
       "      <td>736.0</td>\n",
       "      <td>737.0</td>\n",
       "      <td>0.137313</td>\n",
       "      <td>2.0</td>\n",
       "    </tr>\n",
       "    <tr>\n",
       "      <th>23</th>\n",
       "      <td>363.0</td>\n",
       "      <td>380.0</td>\n",
       "      <td>0.137672</td>\n",
       "      <td>2.0</td>\n",
       "    </tr>\n",
       "    <tr>\n",
       "      <th>24</th>\n",
       "      <td>210.0</td>\n",
       "      <td>211.0</td>\n",
       "      <td>0.139673</td>\n",
       "      <td>2.0</td>\n",
       "    </tr>\n",
       "    <tr>\n",
       "      <th>25</th>\n",
       "      <td>190.0</td>\n",
       "      <td>207.0</td>\n",
       "      <td>0.140415</td>\n",
       "      <td>2.0</td>\n",
       "    </tr>\n",
       "    <tr>\n",
       "      <th>26</th>\n",
       "      <td>507.0</td>\n",
       "      <td>508.0</td>\n",
       "      <td>0.140912</td>\n",
       "      <td>2.0</td>\n",
       "    </tr>\n",
       "    <tr>\n",
       "      <th>27</th>\n",
       "      <td>368.0</td>\n",
       "      <td>886.0</td>\n",
       "      <td>0.140936</td>\n",
       "      <td>3.0</td>\n",
       "    </tr>\n",
       "    <tr>\n",
       "      <th>28</th>\n",
       "      <td>425.0</td>\n",
       "      <td>435.0</td>\n",
       "      <td>0.141590</td>\n",
       "      <td>2.0</td>\n",
       "    </tr>\n",
       "    <tr>\n",
       "      <th>29</th>\n",
       "      <td>372.0</td>\n",
       "      <td>880.0</td>\n",
       "      <td>0.141912</td>\n",
       "      <td>4.0</td>\n",
       "    </tr>\n",
       "    <tr>\n",
       "      <th>...</th>\n",
       "      <td>...</td>\n",
       "      <td>...</td>\n",
       "      <td>...</td>\n",
       "      <td>...</td>\n",
       "    </tr>\n",
       "    <tr>\n",
       "      <th>832</th>\n",
       "      <td>635.0</td>\n",
       "      <td>1694.0</td>\n",
       "      <td>0.756929</td>\n",
       "      <td>825.0</td>\n",
       "    </tr>\n",
       "    <tr>\n",
       "      <th>833</th>\n",
       "      <td>488.0</td>\n",
       "      <td>1695.0</td>\n",
       "      <td>0.763333</td>\n",
       "      <td>826.0</td>\n",
       "    </tr>\n",
       "    <tr>\n",
       "      <th>834</th>\n",
       "      <td>699.0</td>\n",
       "      <td>1696.0</td>\n",
       "      <td>0.773977</td>\n",
       "      <td>827.0</td>\n",
       "    </tr>\n",
       "    <tr>\n",
       "      <th>835</th>\n",
       "      <td>860.0</td>\n",
       "      <td>1693.0</td>\n",
       "      <td>0.782250</td>\n",
       "      <td>10.0</td>\n",
       "    </tr>\n",
       "    <tr>\n",
       "      <th>836</th>\n",
       "      <td>515.0</td>\n",
       "      <td>1697.0</td>\n",
       "      <td>0.783003</td>\n",
       "      <td>828.0</td>\n",
       "    </tr>\n",
       "    <tr>\n",
       "      <th>837</th>\n",
       "      <td>664.0</td>\n",
       "      <td>1699.0</td>\n",
       "      <td>0.791842</td>\n",
       "      <td>829.0</td>\n",
       "    </tr>\n",
       "    <tr>\n",
       "      <th>838</th>\n",
       "      <td>845.0</td>\n",
       "      <td>1698.0</td>\n",
       "      <td>0.800248</td>\n",
       "      <td>11.0</td>\n",
       "    </tr>\n",
       "    <tr>\n",
       "      <th>839</th>\n",
       "      <td>837.0</td>\n",
       "      <td>857.0</td>\n",
       "      <td>0.807511</td>\n",
       "      <td>2.0</td>\n",
       "    </tr>\n",
       "    <tr>\n",
       "      <th>840</th>\n",
       "      <td>852.0</td>\n",
       "      <td>1700.0</td>\n",
       "      <td>0.816226</td>\n",
       "      <td>830.0</td>\n",
       "    </tr>\n",
       "    <tr>\n",
       "      <th>841</th>\n",
       "      <td>1702.0</td>\n",
       "      <td>1703.0</td>\n",
       "      <td>0.825686</td>\n",
       "      <td>832.0</td>\n",
       "    </tr>\n",
       "    <tr>\n",
       "      <th>842</th>\n",
       "      <td>820.0</td>\n",
       "      <td>1704.0</td>\n",
       "      <td>0.834828</td>\n",
       "      <td>833.0</td>\n",
       "    </tr>\n",
       "    <tr>\n",
       "      <th>843</th>\n",
       "      <td>684.0</td>\n",
       "      <td>1705.0</td>\n",
       "      <td>0.858784</td>\n",
       "      <td>834.0</td>\n",
       "    </tr>\n",
       "    <tr>\n",
       "      <th>844</th>\n",
       "      <td>761.0</td>\n",
       "      <td>1701.0</td>\n",
       "      <td>0.873012</td>\n",
       "      <td>12.0</td>\n",
       "    </tr>\n",
       "    <tr>\n",
       "      <th>845</th>\n",
       "      <td>821.0</td>\n",
       "      <td>1706.0</td>\n",
       "      <td>0.879714</td>\n",
       "      <td>835.0</td>\n",
       "    </tr>\n",
       "    <tr>\n",
       "      <th>846</th>\n",
       "      <td>1707.0</td>\n",
       "      <td>1708.0</td>\n",
       "      <td>0.908697</td>\n",
       "      <td>847.0</td>\n",
       "    </tr>\n",
       "    <tr>\n",
       "      <th>847</th>\n",
       "      <td>760.0</td>\n",
       "      <td>1709.0</td>\n",
       "      <td>0.909234</td>\n",
       "      <td>848.0</td>\n",
       "    </tr>\n",
       "    <tr>\n",
       "      <th>848</th>\n",
       "      <td>663.0</td>\n",
       "      <td>683.0</td>\n",
       "      <td>0.928817</td>\n",
       "      <td>2.0</td>\n",
       "    </tr>\n",
       "    <tr>\n",
       "      <th>849</th>\n",
       "      <td>171.0</td>\n",
       "      <td>1710.0</td>\n",
       "      <td>0.930779</td>\n",
       "      <td>849.0</td>\n",
       "    </tr>\n",
       "    <tr>\n",
       "      <th>850</th>\n",
       "      <td>789.0</td>\n",
       "      <td>1712.0</td>\n",
       "      <td>0.943164</td>\n",
       "      <td>850.0</td>\n",
       "    </tr>\n",
       "    <tr>\n",
       "      <th>851</th>\n",
       "      <td>685.0</td>\n",
       "      <td>1713.0</td>\n",
       "      <td>0.949116</td>\n",
       "      <td>851.0</td>\n",
       "    </tr>\n",
       "    <tr>\n",
       "      <th>852</th>\n",
       "      <td>141.0</td>\n",
       "      <td>1714.0</td>\n",
       "      <td>0.958611</td>\n",
       "      <td>852.0</td>\n",
       "    </tr>\n",
       "    <tr>\n",
       "      <th>853</th>\n",
       "      <td>88.0</td>\n",
       "      <td>1715.0</td>\n",
       "      <td>0.994161</td>\n",
       "      <td>853.0</td>\n",
       "    </tr>\n",
       "    <tr>\n",
       "      <th>854</th>\n",
       "      <td>89.0</td>\n",
       "      <td>1716.0</td>\n",
       "      <td>1.001268</td>\n",
       "      <td>854.0</td>\n",
       "    </tr>\n",
       "    <tr>\n",
       "      <th>855</th>\n",
       "      <td>1470.0</td>\n",
       "      <td>1717.0</td>\n",
       "      <td>1.067565</td>\n",
       "      <td>856.0</td>\n",
       "    </tr>\n",
       "    <tr>\n",
       "      <th>856</th>\n",
       "      <td>746.0</td>\n",
       "      <td>1718.0</td>\n",
       "      <td>1.152794</td>\n",
       "      <td>857.0</td>\n",
       "    </tr>\n",
       "    <tr>\n",
       "      <th>857</th>\n",
       "      <td>676.0</td>\n",
       "      <td>1711.0</td>\n",
       "      <td>1.161500</td>\n",
       "      <td>3.0</td>\n",
       "    </tr>\n",
       "    <tr>\n",
       "      <th>858</th>\n",
       "      <td>677.0</td>\n",
       "      <td>1720.0</td>\n",
       "      <td>1.237995</td>\n",
       "      <td>4.0</td>\n",
       "    </tr>\n",
       "    <tr>\n",
       "      <th>859</th>\n",
       "      <td>1719.0</td>\n",
       "      <td>1721.0</td>\n",
       "      <td>1.438012</td>\n",
       "      <td>861.0</td>\n",
       "    </tr>\n",
       "    <tr>\n",
       "      <th>860</th>\n",
       "      <td>675.0</td>\n",
       "      <td>1722.0</td>\n",
       "      <td>2.243542</td>\n",
       "      <td>862.0</td>\n",
       "    </tr>\n",
       "    <tr>\n",
       "      <th>861</th>\n",
       "      <td>70.0</td>\n",
       "      <td>1723.0</td>\n",
       "      <td>inf</td>\n",
       "      <td>863.0</td>\n",
       "    </tr>\n",
       "  </tbody>\n",
       "</table>\n",
       "<p>862 rows × 4 columns</p>\n",
       "</div>"
      ],
      "text/plain": [
       "          0       1         2      3\n",
       "0     732.0   733.0  0.100247    2.0\n",
       "1     345.0   350.0  0.102388    2.0\n",
       "2     734.0   740.0  0.110695    2.0\n",
       "3     832.0   833.0  0.113964    2.0\n",
       "4     426.0   719.0  0.114798    2.0\n",
       "5     616.0   620.0  0.115886    2.0\n",
       "6     710.0   867.0  0.115988    3.0\n",
       "7     366.0   379.0  0.116976    2.0\n",
       "8     123.0   132.0  0.118534    2.0\n",
       "9     249.0   259.0  0.118667    2.0\n",
       "10     51.0   872.0  0.121240    3.0\n",
       "11    420.0   868.0  0.121326    3.0\n",
       "12    390.0   396.0  0.123074    2.0\n",
       "13    540.0   723.0  0.124773    2.0\n",
       "14    199.0   430.0  0.127480    2.0\n",
       "15    825.0   827.0  0.128011    2.0\n",
       "16    216.0   224.0  0.133782    2.0\n",
       "17    367.0   870.0  0.133796    3.0\n",
       "18    823.0   878.0  0.134020    3.0\n",
       "19    362.0   365.0  0.134205    2.0\n",
       "20    624.0   631.0  0.136090    2.0\n",
       "21    615.0   628.0  0.136509    2.0\n",
       "22    736.0   737.0  0.137313    2.0\n",
       "23    363.0   380.0  0.137672    2.0\n",
       "24    210.0   211.0  0.139673    2.0\n",
       "25    190.0   207.0  0.140415    2.0\n",
       "26    507.0   508.0  0.140912    2.0\n",
       "27    368.0   886.0  0.140936    3.0\n",
       "28    425.0   435.0  0.141590    2.0\n",
       "29    372.0   880.0  0.141912    4.0\n",
       "..      ...     ...       ...    ...\n",
       "832   635.0  1694.0  0.756929  825.0\n",
       "833   488.0  1695.0  0.763333  826.0\n",
       "834   699.0  1696.0  0.773977  827.0\n",
       "835   860.0  1693.0  0.782250   10.0\n",
       "836   515.0  1697.0  0.783003  828.0\n",
       "837   664.0  1699.0  0.791842  829.0\n",
       "838   845.0  1698.0  0.800248   11.0\n",
       "839   837.0   857.0  0.807511    2.0\n",
       "840   852.0  1700.0  0.816226  830.0\n",
       "841  1702.0  1703.0  0.825686  832.0\n",
       "842   820.0  1704.0  0.834828  833.0\n",
       "843   684.0  1705.0  0.858784  834.0\n",
       "844   761.0  1701.0  0.873012   12.0\n",
       "845   821.0  1706.0  0.879714  835.0\n",
       "846  1707.0  1708.0  0.908697  847.0\n",
       "847   760.0  1709.0  0.909234  848.0\n",
       "848   663.0   683.0  0.928817    2.0\n",
       "849   171.0  1710.0  0.930779  849.0\n",
       "850   789.0  1712.0  0.943164  850.0\n",
       "851   685.0  1713.0  0.949116  851.0\n",
       "852   141.0  1714.0  0.958611  852.0\n",
       "853    88.0  1715.0  0.994161  853.0\n",
       "854    89.0  1716.0  1.001268  854.0\n",
       "855  1470.0  1717.0  1.067565  856.0\n",
       "856   746.0  1718.0  1.152794  857.0\n",
       "857   676.0  1711.0  1.161500    3.0\n",
       "858   677.0  1720.0  1.237995    4.0\n",
       "859  1719.0  1721.0  1.438012  861.0\n",
       "860   675.0  1722.0  2.243542  862.0\n",
       "861    70.0  1723.0       inf  863.0\n",
       "\n",
       "[862 rows x 4 columns]"
      ]
     },
     "execution_count": 30,
     "metadata": {},
     "output_type": "execute_result"
    }
   ],
   "source": [
    "pd.DataFrame(Z)"
   ]
  },
  {
   "cell_type": "code",
   "execution_count": 23,
   "metadata": {
    "collapsed": false
   },
   "outputs": [
    {
     "ename": "ValueError",
     "evalue": "Linkage 'Z' contains negative indices.",
     "output_type": "error",
     "traceback": [
      "\u001b[1;31m---------------------------------------------------------------------------\u001b[0m",
      "\u001b[1;31mValueError\u001b[0m                                Traceback (most recent call last)",
      "\u001b[1;32m<ipython-input-23-13e399ac5af4>\u001b[0m in \u001b[0;36m<module>\u001b[1;34m()\u001b[0m\n\u001b[0;32m      3\u001b[0m \u001b[0mplt\u001b[0m\u001b[1;33m.\u001b[0m\u001b[0mxlabel\u001b[0m\u001b[1;33m(\u001b[0m\u001b[1;34m'sample index'\u001b[0m\u001b[1;33m)\u001b[0m\u001b[1;33m\u001b[0m\u001b[0m\n\u001b[0;32m      4\u001b[0m \u001b[0mplt\u001b[0m\u001b[1;33m.\u001b[0m\u001b[0mylabel\u001b[0m\u001b[1;33m(\u001b[0m\u001b[1;34m'distance'\u001b[0m\u001b[1;33m)\u001b[0m\u001b[1;33m\u001b[0m\u001b[0m\n\u001b[1;32m----> 5\u001b[1;33m \u001b[0mdendrogram\u001b[0m\u001b[1;33m(\u001b[0m\u001b[0mZ\u001b[0m\u001b[1;33m,\u001b[0m\u001b[0mleaf_rotation\u001b[0m\u001b[1;33m=\u001b[0m\u001b[1;36m90.\u001b[0m\u001b[1;33m,\u001b[0m \u001b[0mleaf_font_size\u001b[0m\u001b[1;33m=\u001b[0m\u001b[1;36m8.\u001b[0m\u001b[1;33m)\u001b[0m\u001b[1;33m\u001b[0m\u001b[0m\n\u001b[0m\u001b[0;32m      6\u001b[0m \u001b[0mplt\u001b[0m\u001b[1;33m.\u001b[0m\u001b[0mshow\u001b[0m\u001b[1;33m(\u001b[0m\u001b[1;33m)\u001b[0m\u001b[1;33m\u001b[0m\u001b[0m\n",
      "\u001b[1;32mC:\\Users\\Annie\\Anaconda2\\lib\\site-packages\\scipy\\cluster\\hierarchy.pyc\u001b[0m in \u001b[0;36mdendrogram\u001b[1;34m(Z, p, truncate_mode, color_threshold, get_leaves, orientation, labels, count_sort, distance_sort, show_leaf_counts, no_plot, no_labels, leaf_font_size, leaf_rotation, leaf_label_func, show_contracted, link_color_func, ax, above_threshold_color)\u001b[0m\n\u001b[0;32m   2228\u001b[0m                          \"'bottom', or 'right'\")\n\u001b[0;32m   2229\u001b[0m \u001b[1;33m\u001b[0m\u001b[0m\n\u001b[1;32m-> 2230\u001b[1;33m     \u001b[0mis_valid_linkage\u001b[0m\u001b[1;33m(\u001b[0m\u001b[0mZ\u001b[0m\u001b[1;33m,\u001b[0m \u001b[0mthrow\u001b[0m\u001b[1;33m=\u001b[0m\u001b[0mTrue\u001b[0m\u001b[1;33m,\u001b[0m \u001b[0mname\u001b[0m\u001b[1;33m=\u001b[0m\u001b[1;34m'Z'\u001b[0m\u001b[1;33m)\u001b[0m\u001b[1;33m\u001b[0m\u001b[0m\n\u001b[0m\u001b[0;32m   2231\u001b[0m     \u001b[0mZs\u001b[0m \u001b[1;33m=\u001b[0m \u001b[0mZ\u001b[0m\u001b[1;33m.\u001b[0m\u001b[0mshape\u001b[0m\u001b[1;33m\u001b[0m\u001b[0m\n\u001b[0;32m   2232\u001b[0m     \u001b[0mn\u001b[0m \u001b[1;33m=\u001b[0m \u001b[0mZs\u001b[0m\u001b[1;33m[\u001b[0m\u001b[1;36m0\u001b[0m\u001b[1;33m]\u001b[0m \u001b[1;33m+\u001b[0m \u001b[1;36m1\u001b[0m\u001b[1;33m\u001b[0m\u001b[0m\n",
      "\u001b[1;32mC:\\Users\\Annie\\Anaconda2\\lib\\site-packages\\scipy\\cluster\\hierarchy.pyc\u001b[0m in \u001b[0;36mis_valid_linkage\u001b[1;34m(Z, warning, throw, name)\u001b[0m\n\u001b[0;32m   1410\u001b[0m             \u001b[1;32mif\u001b[0m \u001b[1;33m(\u001b[0m\u001b[1;33m(\u001b[0m\u001b[0mZ\u001b[0m\u001b[1;33m[\u001b[0m\u001b[1;33m:\u001b[0m\u001b[1;33m,\u001b[0m \u001b[1;36m0\u001b[0m\u001b[1;33m]\u001b[0m \u001b[1;33m<\u001b[0m \u001b[1;36m0\u001b[0m\u001b[1;33m)\u001b[0m\u001b[1;33m.\u001b[0m\u001b[0many\u001b[0m\u001b[1;33m(\u001b[0m\u001b[1;33m)\u001b[0m \u001b[1;32mor\u001b[0m \u001b[1;33m(\u001b[0m\u001b[0mZ\u001b[0m\u001b[1;33m[\u001b[0m\u001b[1;33m:\u001b[0m\u001b[1;33m,\u001b[0m \u001b[1;36m1\u001b[0m\u001b[1;33m]\u001b[0m \u001b[1;33m<\u001b[0m \u001b[1;36m0\u001b[0m\u001b[1;33m)\u001b[0m\u001b[1;33m.\u001b[0m\u001b[0many\u001b[0m\u001b[1;33m(\u001b[0m\u001b[1;33m)\u001b[0m\u001b[1;33m)\u001b[0m\u001b[1;33m:\u001b[0m\u001b[1;33m\u001b[0m\u001b[0m\n\u001b[0;32m   1411\u001b[0m                 raise ValueError('Linkage %scontains negative indices.' %\n\u001b[1;32m-> 1412\u001b[1;33m                                  name_str)\n\u001b[0m\u001b[0;32m   1413\u001b[0m             \u001b[1;32mif\u001b[0m \u001b[1;33m(\u001b[0m\u001b[0mZ\u001b[0m\u001b[1;33m[\u001b[0m\u001b[1;33m:\u001b[0m\u001b[1;33m,\u001b[0m \u001b[1;36m2\u001b[0m\u001b[1;33m]\u001b[0m \u001b[1;33m<\u001b[0m \u001b[1;36m0\u001b[0m\u001b[1;33m)\u001b[0m\u001b[1;33m.\u001b[0m\u001b[0many\u001b[0m\u001b[1;33m(\u001b[0m\u001b[1;33m)\u001b[0m\u001b[1;33m:\u001b[0m\u001b[1;33m\u001b[0m\u001b[0m\n\u001b[0;32m   1414\u001b[0m                 raise ValueError('Linkage %scontains negative distances.' %\n",
      "\u001b[1;31mValueError\u001b[0m: Linkage 'Z' contains negative indices."
     ]
    },
    {
     "data": {
      "image/png": "[encoded data removed]",
      "text/plain": [
       "<matplotlib.figure.Figure at 0xb9e7438>"
      ]
     },
     "metadata": {},
     "output_type": "display_data"
    }
   ],
   "source": [
    "plt.figure(figsize=(25,10))\n",
    "plt.title('Hierarchical Clustering Dendrogram')\n",
    "plt.xlabel('sample index')\n",
    "plt.ylabel('distance')\n",
    "dendrogram(Z,leaf_rotation=90., leaf_font_size=8.)\n",
    "plt.show()"
   ]
  },
  {
   "cell_type": "code",
   "execution_count": null,
   "metadata": {
    "collapsed": true
   },
   "outputs": [],
   "source": []
  }
 ],
 "metadata": {
  "anaconda-cloud": {},
  "kernelspec": {
   "display_name": "Python [Root]",
   "language": "python",
   "name": "Python [Root]"
  },
  "language_info": {
   "codemirror_mode": {
    "name": "ipython",
    "version": 2
   },
   "file_extension": ".py",
   "mimetype": "text/x-python",
   "name": "python",
   "nbconvert_exporter": "python",
   "pygments_lexer": "ipython2",
   "version": "2.7.12"
  }
 },
 "nbformat": 4,
 "nbformat_minor": 0
}
