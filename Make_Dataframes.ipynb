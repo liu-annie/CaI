{
 "cells": [
  {
   "cell_type": "code",
   "execution_count": 1,
   "metadata": {
    "collapsed": false
   },
   "outputs": [
    {
     "name": "stdout",
     "output_type": "stream",
     "text": [
      "Using matplotlib backend: Qt4Agg\n"
     ]
    }
   ],
   "source": [
    "drive_path = 'c:/'\n",
    "import numpy as np\n",
    "import pandas as pd\n",
    "import os\n",
    "import sys\n",
    "import matplotlib.pyplot as plt\n",
    "%matplotlib\n",
    "from scipy.stats import ks_2samp\n",
    "from scipy.stats import anderson_ksamp\n",
    "from scipy.stats import kruskal\n",
    "from scipy.stats import variation\n",
    "from scipy import signal as sps\n",
    "import seaborn as sns\n",
    "import glob\n",
    "import re"
   ]
  },
  {
   "cell_type": "code",
   "execution_count": 2,
   "metadata": {
    "collapsed": false
   },
   "outputs": [],
   "source": [
    "trials=pd.read_csv('C:\\\\Users\\\\Annie\\\\Documents\\\\Data\\\\Ca_Imaging\\\\Analysis\\\\Odor_Panel\\\\Habituation_Trials.csv')\n",
    "# filerow=trials.loc[trials['File']==date]\n",
    "# odortrials={}\n",
    "# for t in trials.Odor.unique():\n",
    "#     y={t:[int(x) for x in filerow.loc[filerow['Odor'] == t][['T1','T2','T3','T4']].values.tolist()[0]]}\n",
    "#     odortrials.update(y)"
   ]
  },
  {
   "cell_type": "code",
   "execution_count": 4,
   "metadata": {
    "collapsed": false
   },
   "outputs": [],
   "source": [
    "fullpeak=pd.DataFrame([])\n",
    "for date in trials.File.unique():\n",
    "    #reorganize dataframes\n",
    "    mean=pd.read_csv('C:\\\\Users\\\\Annie\\\\Documents\\\\Data\\\\Ca_Imaging\\\\HabituationFiles\\\\{0}\\\\{1}_mean.csv'.format(unicode(date,'utf-8'),unicode(date,'utf-8')))\n",
    "    mdf=pd.concat([mean['Odor'],mean[[col for col in mean.columns if ')_' in col]]],axis=1)\n",
    "    temp=mdf.T\n",
    "    temp.reset_index(level=0, inplace=True)\n",
    "    temp.columns = temp.iloc[0]\n",
    "    temp=temp.reindex(temp.index.drop(0))\n",
    "    temp.rename(columns={'Odor':'Mouse'}, inplace=True)\n",
    "    temp=temp.reset_index(drop=True)\n",
    "    group=[]\n",
    "    for x in list(temp.index.values):\n",
    "        temp.iloc[x]['Mouse']=temp.iloc[x]['Mouse'].split(')_')[1]\n",
    "        indexnum=trials.File.unique().tolist().index(temp['Mouse'][x])\n",
    "        groupname=trials.loc[trials.File==trials.File.unique()[indexnum]].Group.iloc[0]\n",
    "        group.append(groupname)\n",
    "    group=pd.DataFrame({'Group':group})\n",
    "    temp=pd.concat([group,temp],axis=1)\n",
    "    fullpeak=fullpeak.append(temp)\n",
    "fullpeak=fullpeak.reset_index(drop=True)\n",
    "# fullpeak.to_csv('C:\\\\Users\\\\Annie\\\\Documents\\\\Data\\\\Ca_Imaging\\\\HabituationFiles\\\\fullpeak.csv',index=False)"
   ]
  },
  {
   "cell_type": "code",
   "execution_count": 5,
   "metadata": {
    "collapsed": false
   },
   "outputs": [],
   "source": [
    "#THIS ONE KEEPS THE CELL INDEX\n",
    "fullpeak=pd.DataFrame([])\n",
    "for date in trials.File.unique():\n",
    "    #reorganize dataframes\n",
    "    mean=pd.read_csv('C:\\\\Users\\\\Annie\\\\Documents\\\\Data\\\\Ca_Imaging\\\\HabituationFiles\\\\{0}\\\\{1}_mean.csv'.format(unicode(date,'utf-8'),unicode(date,'utf-8')))\n",
    "    mdf=pd.concat([mean['Odor'],mean[[col for col in mean.columns if ')_' in col]]],axis=1)\n",
    "    temp=mdf.T\n",
    "    temp.reset_index(level=0, inplace=True)\n",
    "    temp.columns = temp.iloc[0]\n",
    "    temp=temp.reindex(temp.index.drop(0))\n",
    "    temp.rename(columns={'Odor':'Mouse'}, inplace=True)\n",
    "    temp=temp.reset_index(drop=True)\n",
    "    group=[]\n",
    "    for x in list(temp.index.values):\n",
    "        mouse=temp.iloc[x]['Mouse'].split(')_')[1]\n",
    "        indexnum=trials.File.unique().tolist().index(mouse)\n",
    "        groupname=trials.loc[trials.File==trials.File.unique()[indexnum]].Group.iloc[0]\n",
    "        group.append(groupname)\n",
    "    group=pd.DataFrame({'Group':group})\n",
    "    temp=pd.concat([group,temp],axis=1)\n",
    "    fullpeak=fullpeak.append(temp)\n",
    "CLfullpeak=fullpeak.reset_index(drop=True)\n",
    "# fullpeak.to_csv('C:\\\\Users\\\\Annie\\\\Documents\\\\Data\\\\Ca_Imaging\\\\HabituationFiles\\\\fullpeak_WL.csv',index=False)"
   ]
  },
  {
   "cell_type": "code",
   "execution_count": 5,
   "metadata": {
    "collapsed": false
   },
   "outputs": [],
   "source": [
    "fullsuccess=pd.DataFrame([])\n",
    "for date in trials.File.unique():\n",
    "    #reorganize dataframes\n",
    "    dframe=pd.read_csv('C:\\\\Users\\\\Annie\\\\Documents\\\\Data\\\\Ca_Imaging\\\\GoodFiles\\\\{0}\\\\{1}_success.csv'.format(unicode(date,'utf-8'),unicode(date,'utf-8')))\n",
    "    sdf=pd.concat([dframe['Odor'],dframe[[col for col in dframe.columns if ')_' in col]]],axis=1)\n",
    "    temp=sdf.T\n",
    "    temp.reset_index(level=0, inplace=True)\n",
    "    temp.columns = temp.iloc[0]\n",
    "    temp=temp.reindex(temp.index.drop(0))\n",
    "    temp.rename(columns={'Odor':'Mouse'}, inplace=True)\n",
    "    temp=temp.reset_index(drop=True)\n",
    "    group=[]\n",
    "    for x in list(temp.index.values):\n",
    "        temp.iloc[x]['Mouse']=temp.iloc[x]['Mouse'].split(')_')[1]\n",
    "        indexnum=trials.File.unique().tolist().index(temp['Mouse'][x])\n",
    "        groupname=trials.loc[trials.File==trials.File.unique()[indexnum]].Group.iloc[0]\n",
    "        group.append(groupname)\n",
    "    group=pd.DataFrame({'Group':group})\n",
    "    temp=pd.concat([group,temp],axis=1)\n",
    "    fullsuccess=fullsuccess.append(temp)\n",
    "fullsuccess=fullsuccess.reset_index(drop=True)\n",
    "# fullsuccess.to_csv('C:\\\\Users\\\\Annie\\\\Documents\\\\Data\\\\Ca_Imaging\\\\GoodFiles\\\\fullsuccess.csv',index=False)"
   ]
  },
  {
   "cell_type": "code",
   "execution_count": 6,
   "metadata": {
    "collapsed": true
   },
   "outputs": [],
   "source": [
    "# WITH CELL LABELS\n",
    "fullsuccess=pd.DataFrame([])\n",
    "for date in trials.File.unique():\n",
    "    #reorganize dataframes\n",
    "    dframe=pd.read_csv('C:\\\\Users\\\\Annie\\\\Documents\\\\Data\\\\Ca_Imaging\\\\HabituationFiles\\\\{0}\\\\{1}_success.csv'.format(unicode(date,'utf-8'),unicode(date,'utf-8')))\n",
    "    sdf=pd.concat([dframe['Odor'],dframe[[col for col in dframe.columns if ')_' in col]]],axis=1)\n",
    "    temp=sdf.T\n",
    "    temp.reset_index(level=0, inplace=True)\n",
    "    temp.columns = temp.iloc[0]\n",
    "    temp=temp.reindex(temp.index.drop(0))\n",
    "    temp.rename(columns={'Odor':'Mouse'}, inplace=True)\n",
    "    temp=temp.reset_index(drop=True)\n",
    "    group=[]\n",
    "    for x in list(temp.index.values):\n",
    "        mouse=temp.iloc[x]['Mouse'].split(')_')[1]\n",
    "        indexnum=trials.File.unique().tolist().index(mouse)\n",
    "        groupname=trials.loc[trials.File==trials.File.unique()[indexnum]].Group.iloc[0]\n",
    "        group.append(groupname)\n",
    "    group=pd.DataFrame({'Group':group})\n",
    "    temp=pd.concat([group,temp],axis=1)\n",
    "    fullsuccess=fullsuccess.append(temp)\n",
    "CLfullsuccess=fullsuccess.reset_index(drop=True)\n",
    "fullsuccess.to_csv('C:\\\\Users\\\\Annie\\\\Documents\\\\Data\\\\Ca_Imaging\\\\HabituationFiles\\\\fullsuccess_WI.csv',index=False)"
   ]
  },
  {
   "cell_type": "code",
   "execution_count": null,
   "metadata": {
    "collapsed": true
   },
   "outputs": [],
   "source": [
    "#Graph baseline"
   ]
  },
  {
   "cell_type": "code",
   "execution_count": 32,
   "metadata": {
    "collapsed": true
   },
   "outputs": [],
   "source": [
    "peakdf=fullpeak[['Group','Pre','Post5','Post30']]"
   ]
  },
  {
   "cell_type": "code",
   "execution_count": 33,
   "metadata": {
    "collapsed": true
   },
   "outputs": [],
   "source": [
    "peakmelt=pd.melt(peakdf,('Group'),var_name='time')"
   ]
  },
  {
   "cell_type": "code",
   "execution_count": 41,
   "metadata": {
    "collapsed": true
   },
   "outputs": [],
   "source": [
    "sns.factorplot(x='time',y='value',hue='Group',data=peakmelt);"
   ]
  },
  {
   "cell_type": "code",
   "execution_count": 46,
   "metadata": {
    "collapsed": true
   },
   "outputs": [],
   "source": [
    "sns.pointplot(x='time',y='value',data=peakmelt);"
   ]
  },
  {
   "cell_type": "code",
   "execution_count": null,
   "metadata": {
    "collapsed": true
   },
   "outputs": [],
   "source": []
  },
  {
   "cell_type": "code",
   "execution_count": null,
   "metadata": {
    "collapsed": true
   },
   "outputs": [],
   "source": []
  },
  {
   "cell_type": "markdown",
   "metadata": {},
   "source": [
    "# Graph Successes"
   ]
  },
  {
   "cell_type": "code",
   "execution_count": null,
   "metadata": {
    "collapsed": true
   },
   "outputs": [],
   "source": [
    "one"
   ]
  },
  {
   "cell_type": "code",
   "execution_count": 85,
   "metadata": {
    "collapsed": false
   },
   "outputs": [],
   "source": [
    "df=fullsuccess.drop(['Mouse'],axis=1)\n",
    "df=pd.melt(df,'Group',var_name='Odor')\n",
    "\n",
    "one_df=df[['Group','Odor','value']][df.Odor.isin(['MS01','Hexanal01','IAA01','THA','AP','PA','Hexanone','EB'])]\n",
    "conc_df=df[['Group','Odor','value']][df.Odor.isin(['MS01','MS05','MS10','Hexanal01','Hexanal05','Hexanal10','IAA01','IAA05','IAA10'])]\n",
    "conc_df=conc_df.sort_values(by='Odor')\n",
    "\n",
    "sorting=('MS01','THA','AP','PA','IAA','Hexanone','Hexanal01','EB')\n",
    "one_df.Odor=one_df.Odor.astype('category')\n",
    "one_df.Odor.cat.set_categories(sorting,inplace=True)\n",
    "one_df=one_df.sort_values(['Odor'])\n",
    "\n",
    "one_df=one_df.replace(to_replace='MS01',value='MS')\n",
    "one_df=one_df.replace(to_replace='Hexanal01',value='Hexanal')\n",
    "one_df=one_df.replace(to_replace='IAA01',value='IAA')\n",
    "\n",
    "sorter=('MS01','MS05','MS10','IAA01','IAA05','IAA10','Hexanal01','Hexanal05','Hexanal10')\n",
    "conc_df.Odor=conc_df.Odor.astype('category')\n",
    "conc_df.Odor.cat.set_categories(sorter,inplace=True)\n",
    "conc_df=conc_df.sort_values(['Odor'])\n",
    "\n",
    "conc_df=conc_df.replace(to_replace='MS01',value='MS 1%')\n",
    "conc_df=conc_df.replace(to_replace='MS05',value='MS 5%')\n",
    "conc_df=conc_df.replace(to_replace='MS10',value='MS 10%')\n",
    "conc_df=conc_df.replace(to_replace='IAA01',value='IAA 1%')\n",
    "conc_df=conc_df.replace(to_replace='IAA05',value='IAA 5%')\n",
    "conc_df=conc_df.replace(to_replace='IAA10',value='IAA 10%')\n",
    "conc_df=conc_df.replace(to_replace='Hexanal01',value='Hexanal 1%')\n",
    "conc_df=conc_df.replace(to_replace='Hexanal05',value='Hexanal 5%')\n",
    "conc_df=conc_df.replace(to_replace='Hexanal10',value='Hexanal 10%')"
   ]
  },
  {
   "cell_type": "code",
   "execution_count": 87,
   "metadata": {
    "collapsed": false
   },
   "outputs": [],
   "source": [
    "sns.set(style=\"white\", palette=\"muted\", color_codes=True);\n",
    "sns.set_context(\"poster\", font_scale=1.3);\n",
    "plt.figure(figsize=(17, 5));\n",
    "ax = sns.pointplot(x=\"Odor\", y=\"value\", hue=\"Group\", palette={\"Control\": \"r\", \"Hexanal\": \"b\", \"Mint\": \"g\"},\n",
    "                 data=conc_df);\n",
    "sns.despine()\n",
    "plt.ylabel('Proportion of Responses');\n",
    "plt.title('Responses above threshold');\n",
    "plt.xlabel('Odor');\n",
    "ax.legend_.remove()\n",
    "plt.tight_layout()"
   ]
  },
  {
   "cell_type": "code",
   "execution_count": 21,
   "metadata": {
    "collapsed": true
   },
   "outputs": [
    {
     "data": {
      "image/png": "[encoded data removed]",
      "text/plain": [
       "<matplotlib.figure.Figure at 0xd66d550>"
      ]
     },
     "metadata": {},
     "output_type": "display_data"
    }
   ],
   "source": [
    "# plt.plot(df[df.Group=='Control']['IAA10']);\n",
    "sns.barplot(x='Odor',y='value',hue='Group',data=df);"
   ]
  },
  {
   "cell_type": "code",
   "execution_count": 7,
   "metadata": {
    "collapsed": true
   },
   "outputs": [],
   "source": [
    "fullint=pd.DataFrame([])\n",
    "for date in trials.File.unique():\n",
    "    #reorganize dataframes\n",
    "    dframe=pd.read_csv('C:\\\\Users\\\\Annie\\\\Documents\\\\Data\\\\Ca_Imaging\\\\GoodFiles\\\\{0}\\\\{1}_meanint.csv'.format(unicode(date,'utf-8'),unicode(date,'utf-8')))\n",
    "    idf=pd.concat([dframe['Odor'],dframe[[col for col in dframe.columns if ')_' in col]]],axis=1)\n",
    "    temp=idf.T\n",
    "    temp.reset_index(level=0, inplace=True)\n",
    "    temp.columns = temp.iloc[0]\n",
    "    temp=temp.reindex(temp.index.drop(0))\n",
    "    temp.rename(columns={'Odor':'Mouse'}, inplace=True)\n",
    "    temp=temp.reset_index(drop=True)\n",
    "    group=[]\n",
    "    for x in list(temp.index.values):\n",
    "        temp.iloc[x]['Mouse']=temp.iloc[x]['Mouse'].split(')_')[1]\n",
    "        indexnum=trials.File.unique().tolist().index(temp['Mouse'][x])\n",
    "        groupname=trials.loc[trials.File==trials.File.unique()[indexnum]].Group.iloc[0]\n",
    "        group.append(groupname)\n",
    "    group=pd.DataFrame({'Group':group})\n",
    "    temp=pd.concat([group,temp],axis=1)\n",
    "    fullint=fullint.append(temp)\n",
    "fullint=fullint.reset_index(drop=True)\n",
    "# fullint.to_csv('C:\\\\Users\\\\Annie\\\\Documents\\\\Data\\\\Ca_Imaging\\\\GoodFiles\\\\fullintegral.csv',index=False)"
   ]
  },
  {
   "cell_type": "code",
   "execution_count": 5,
   "metadata": {
    "collapsed": true
   },
   "outputs": [],
   "source": [
    "#WITH CELL LABELS\n",
    "fullint=pd.DataFrame([])\n",
    "for date in trials.File.unique():\n",
    "    #reorganize dataframes\n",
    "    dframe=pd.read_csv('C:\\\\Users\\\\Annie\\\\Documents\\\\Data\\\\Ca_Imaging\\\\GoodFiles\\\\{0}\\\\{1}_meanint.csv'.format(unicode(date,'utf-8'),unicode(date,'utf-8')))\n",
    "    idf=pd.concat([dframe['Odor'],dframe[[col for col in dframe.columns if ')_' in col]]],axis=1)\n",
    "    temp=idf.T\n",
    "    temp.reset_index(level=0, inplace=True)\n",
    "    temp.columns = temp.iloc[0]\n",
    "    temp=temp.reindex(temp.index.drop(0))\n",
    "    temp.rename(columns={'Odor':'Mouse'}, inplace=True)\n",
    "    temp=temp.reset_index(drop=True)\n",
    "    group=[]\n",
    "    for x in list(temp.index.values):\n",
    "        mouse=temp.iloc[x]['Mouse'].split(')_')[1]\n",
    "        indexnum=trials.File.unique().tolist().index(mouse)\n",
    "        groupname=trials.loc[trials.File==trials.File.unique()[indexnum]].Group.iloc[0]\n",
    "        group.append(groupname)\n",
    "    group=pd.DataFrame({'Group':group})\n",
    "    temp=pd.concat([group,temp],axis=1)\n",
    "    fullint=fullint.append(temp)\n",
    "CLfullint=fullint.reset_index(drop=True)\n",
    "# fullint.to_csv('C:\\\\Users\\\\Annie\\\\Documents\\\\Data\\\\Ca_Imaging\\\\GoodFiles\\\\fullintegral_WL.csv',index=False)"
   ]
  },
  {
   "cell_type": "code",
   "execution_count": 9,
   "metadata": {
    "collapsed": false
   },
   "outputs": [],
   "source": [
    "#Full Baseline\n",
    "fullbase=pd.DataFrame([])\n",
    "for date in trials.File.unique():\n",
    "    #reorganize dataframes\n",
    "    dframe=pd.read_csv('C:\\\\Users\\\\Annie\\\\Documents\\\\Data\\\\Ca_Imaging\\\\GoodFiles\\\\{0}\\\\{1}_meanbase.csv'.format(unicode(date,'utf-8'),unicode(date,'utf-8')))\n",
    "    idf=pd.concat([dframe['Odor'],dframe[[col for col in dframe.columns if ')_' in col]]],axis=1)\n",
    "    temp=idf.T\n",
    "    temp.reset_index(level=0, inplace=True)\n",
    "    temp.columns = temp.iloc[0]\n",
    "    temp=temp.reindex(temp.index.drop(0))\n",
    "    temp.rename(columns={'Odor':'Mouse'}, inplace=True)\n",
    "    temp=temp.reset_index(drop=True)\n",
    "    group=[]\n",
    "    for x in list(temp.index.values):\n",
    "        temp.iloc[x]['Mouse']=temp.iloc[x]['Mouse'].split(')_')[1]\n",
    "        indexnum=trials.File.unique().tolist().index(temp['Mouse'][x])\n",
    "        groupname=trials.loc[trials.File==trials.File.unique()[indexnum]].Group.iloc[0]\n",
    "        group.append(groupname)\n",
    "    group=pd.DataFrame({'Group':group})\n",
    "    temp=pd.concat([group,temp],axis=1)\n",
    "    fullbase=fullbase.append(temp)\n",
    "fullbase=fullbase.reset_index(drop=True)\n",
    "# fullbase.to_csv('C:\\\\Users\\\\Annie\\\\Documents\\\\Data\\\\Ca_Imaging\\\\GoodFiles\\\\fullbaseline.csv',index=False)"
   ]
  },
  {
   "cell_type": "code",
   "execution_count": 6,
   "metadata": {
    "collapsed": false
   },
   "outputs": [],
   "source": [
    "# WITH CELL LABEL\n",
    "#Full Baseline - Untrended\n",
    "fullbase=pd.DataFrame([])\n",
    "for date in trials.File.unique():\n",
    "    #reorganize dataframes\n",
    "    dframe=pd.read_csv('C:\\\\Users\\\\Annie\\\\Documents\\\\Data\\\\Ca_Imaging\\\\Untrended_For_B\\\\{0}\\\\{1}_meanbase.csv'.format(unicode(date,'utf-8'),unicode(date,'utf-8')))\n",
    "    idf=pd.concat([dframe['Odor'],dframe[[col for col in dframe.columns if ')_' in col]]],axis=1)\n",
    "    temp=idf.T\n",
    "    temp.reset_index(level=0, inplace=True)\n",
    "    temp.columns = temp.iloc[0]\n",
    "    temp=temp.reindex(temp.index.drop(0))\n",
    "    temp.rename(columns={'Odor':'Mouse'}, inplace=True)\n",
    "    temp=temp.reset_index(drop=True)\n",
    "    group=[]\n",
    "    for x in list(temp.index.values):\n",
    "        mouse=temp.iloc[x]['Mouse'].split(')_')[1]\n",
    "        indexnum=trials.File.unique().tolist().index(mouse)\n",
    "        groupname=trials.loc[trials.File==trials.File.unique()[indexnum]].Group.iloc[0]\n",
    "        group.append(groupname)\n",
    "    group=pd.DataFrame({'Group':group})\n",
    "    temp=pd.concat([group,temp],axis=1)\n",
    "    fullbase=fullbase.append(temp)\n",
    "CLfullbase=fullbase.reset_index(drop=True)\n",
    "# fullbase.to_csv('C:\\\\Users\\\\Annie\\\\Documents\\\\Data\\\\Ca_Imaging\\\\GoodFiles\\\\fullbaseline_WL.csv',index=False)"
   ]
  },
  {
   "cell_type": "markdown",
   "metadata": {},
   "source": [
    "# Make dataframe with cell labels"
   ]
  },
  {
   "cell_type": "code",
   "execution_count": 8,
   "metadata": {
    "collapsed": true
   },
   "outputs": [
    {
     "ename": "NameError",
     "evalue": "name 'fullbase' is not defined",
     "output_type": "error",
     "traceback": [
      "\u001b[1;31m---------------------------------------------------------------------------\u001b[0m",
      "\u001b[1;31mNameError\u001b[0m                                 Traceback (most recent call last)",
      "\u001b[1;32m<ipython-input-8-75d4c363f5a3>\u001b[0m in \u001b[0;36m<module>\u001b[1;34m()\u001b[0m\n\u001b[1;32m----> 1\u001b[1;33m \u001b[0mmelt_base\u001b[0m\u001b[1;33m=\u001b[0m\u001b[0mpd\u001b[0m\u001b[1;33m.\u001b[0m\u001b[0mmelt\u001b[0m\u001b[1;33m(\u001b[0m\u001b[0mfullbase\u001b[0m\u001b[1;33m,\u001b[0m\u001b[1;33m(\u001b[0m\u001b[1;34m'Mouse'\u001b[0m\u001b[1;33m,\u001b[0m\u001b[1;34m'Group'\u001b[0m\u001b[1;33m)\u001b[0m\u001b[1;33m,\u001b[0m\u001b[0mvar_name\u001b[0m\u001b[1;33m=\u001b[0m\u001b[1;34m'Odor'\u001b[0m\u001b[1;33m)\u001b[0m\u001b[1;33m\u001b[0m\u001b[0m\n\u001b[0m\u001b[0;32m      2\u001b[0m \u001b[0mmelt_int\u001b[0m\u001b[1;33m=\u001b[0m\u001b[0mpd\u001b[0m\u001b[1;33m.\u001b[0m\u001b[0mmelt\u001b[0m\u001b[1;33m(\u001b[0m\u001b[0mCLfullint\u001b[0m\u001b[1;33m,\u001b[0m\u001b[1;33m(\u001b[0m\u001b[1;34m'Mouse'\u001b[0m\u001b[1;33m,\u001b[0m\u001b[1;34m'Group'\u001b[0m\u001b[1;33m)\u001b[0m\u001b[1;33m,\u001b[0m\u001b[0mvar_name\u001b[0m\u001b[1;33m=\u001b[0m\u001b[1;34m'Odor'\u001b[0m\u001b[1;33m)\u001b[0m\u001b[1;33m\u001b[0m\u001b[0m\n\u001b[0;32m      3\u001b[0m \u001b[0mmelt_success\u001b[0m\u001b[1;33m=\u001b[0m\u001b[0mpd\u001b[0m\u001b[1;33m.\u001b[0m\u001b[0mmelt\u001b[0m\u001b[1;33m(\u001b[0m\u001b[0mCLfullsuccess\u001b[0m\u001b[1;33m,\u001b[0m\u001b[1;33m(\u001b[0m\u001b[1;34m'Mouse'\u001b[0m\u001b[1;33m,\u001b[0m\u001b[1;34m'Group'\u001b[0m\u001b[1;33m)\u001b[0m\u001b[1;33m,\u001b[0m\u001b[0mvar_name\u001b[0m\u001b[1;33m=\u001b[0m\u001b[1;34m'Odor'\u001b[0m\u001b[1;33m)\u001b[0m\u001b[1;33m\u001b[0m\u001b[0m\n\u001b[0;32m      4\u001b[0m \u001b[0mmelt_peak\u001b[0m\u001b[1;33m=\u001b[0m\u001b[0mpd\u001b[0m\u001b[1;33m.\u001b[0m\u001b[0mmelt\u001b[0m\u001b[1;33m(\u001b[0m\u001b[0mCLfullpeak\u001b[0m\u001b[1;33m,\u001b[0m\u001b[1;33m(\u001b[0m\u001b[1;34m'Mouse'\u001b[0m\u001b[1;33m,\u001b[0m\u001b[1;34m'Group'\u001b[0m\u001b[1;33m)\u001b[0m\u001b[1;33m,\u001b[0m\u001b[0mvar_name\u001b[0m\u001b[1;33m=\u001b[0m\u001b[1;34m'Odor'\u001b[0m\u001b[1;33m)\u001b[0m\u001b[1;33m\u001b[0m\u001b[0m\n",
      "\u001b[1;31mNameError\u001b[0m: name 'fullbase' is not defined"
     ]
    }
   ],
   "source": [
    "melt_base=pd.melt(fullbase,('Mouse','Group'),var_name='Odor')\n",
    "melt_int=pd.melt(CLfullint,('Mouse','Group'),var_name='Odor')\n",
    "melt_success=pd.melt(CLfullsuccess,('Mouse','Group'),var_name='Odor')\n",
    "melt_peak=pd.melt(CLfullpeak,('Mouse','Group'),var_name='Odor')"
   ]
  },
  {
   "cell_type": "code",
   "execution_count": 13,
   "metadata": {
    "collapsed": false
   },
   "outputs": [],
   "source": [
    "comparison=pd.concat([melt_int,melt_peak['value']],axis=1)\n",
    "comparison.columns=['Mouse','Group','Odor','Integral','Peak']\n",
    "comparison=comparison.dropna()\n",
    "fullcomparison=pd.concat([comparison,pd.DataFrame(comparison.Peak/comparison.Integral.replace({ 0 : np.nan }))],axis=1)\n",
    "fullcomparison.columns=['Mouse','Group','Odor','Integral','Peak','Peak_to_Integral']"
   ]
  },
  {
   "cell_type": "code",
   "execution_count": 14,
   "metadata": {
    "collapsed": false,
    "scrolled": true
   },
   "outputs": [
    {
     "data": {
      "text/plain": [
       "(-4, 4)"
      ]
     },
     "execution_count": 14,
     "metadata": {},
     "output_type": "execute_result"
    }
   ],
   "source": [
    "from numpy import median\n",
    "sns.set_context(\"talk\", font_scale=2.2);\n",
    "sns.pointplot('Odor','Peak_to_Integral',hue='Group',data=fullcomparison,estimator=median);\n",
    "plt.ylim(-4,4);"
   ]
  },
  {
   "cell_type": "code",
   "execution_count": 16,
   "metadata": {
    "collapsed": false
   },
   "outputs": [],
   "source": [
    "#THE ENTIRE DATAFRAME\n",
    "completedf=pd.concat([melt_base[['Mouse','Group','Odor','value']],melt_int['value'],melt_peak['value'],melt_success['value']],axis=1)\n",
    "completedf.columns=['Mouse','Group','Odor','Baseline','Integral','Peak','Success']"
   ]
  },
  {
   "cell_type": "code",
   "execution_count": 53,
   "metadata": {
    "collapsed": false
   },
   "outputs": [],
   "source": [
    "#GRAPH THE INTERACTIONS\n",
    "sns.set(palette=\"muted\", color_codes=True);\n",
    "sns.set_context(\"poster\",font_scale=1.3);\n",
    "sns.jointplot('Peak','Baseline',completedf,size=7);\n",
    "plt.tight_layout()\n",
    "sns.despine()\n",
    "# plt.ylabel('Integral',fontsize=34);\n",
    "# plt.title('Integral vs. Peak');\n",
    "# plt.xlabel('Peak',fontsize=34);"
   ]
  },
  {
   "cell_type": "code",
   "execution_count": null,
   "metadata": {
    "collapsed": true
   },
   "outputs": [],
   "source": []
  }
 ],
 "metadata": {
  "anaconda-cloud": {},
  "kernelspec": {
   "display_name": "Python [Root]",
   "language": "python",
   "name": "Python [Root]"
  },
  "language_info": {
   "codemirror_mode": {
    "name": "ipython",
    "version": 2
   },
   "file_extension": ".py",
   "mimetype": "text/x-python",
   "name": "python",
   "nbconvert_exporter": "python",
   "pygments_lexer": "ipython2",
   "version": "2.7.12"
  }
 },
 "nbformat": 4,
 "nbformat_minor": 0
}
