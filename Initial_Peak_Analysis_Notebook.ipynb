{
 "cells": [
  {
   "cell_type": "markdown",
   "metadata": {},
   "source": [
    "# Prep stuff"
   ]
  },
  {
   "cell_type": "code",
   "execution_count": 1,
   "metadata": {
    "collapsed": false
   },
   "outputs": [
    {
     "name": "stdout",
     "output_type": "stream",
     "text": [
      "Using matplotlib backend: Qt4Agg\n"
     ]
    }
   ],
   "source": [
    "drive_path = 'c:/'\n",
    "import numpy as np\n",
    "import pandas as pd\n",
    "import os\n",
    "import sys\n",
    "import matplotlib.pyplot as plt\n",
    "from scipy.stats import ks_2samp\n",
    "from scipy.stats import anderson_ksamp\n",
    "from scipy.stats import kruskal\n",
    "from scipy.stats import variation\n",
    "%matplotlib\n",
    "import seaborn as sns"
   ]
  },
  {
   "cell_type": "code",
   "execution_count": 63,
   "metadata": {
    "collapsed": true
   },
   "outputs": [],
   "source": [
    "#composite.head()"
   ]
  },
  {
   "cell_type": "code",
   "execution_count": 64,
   "metadata": {
    "collapsed": false
   },
   "outputs": [],
   "source": [
    "#sns.boxplot(x=\"Odor\", y=\"value\", hue=\"Group\", data=comp_tmp);"
   ]
  },
  {
   "cell_type": "code",
   "execution_count": 65,
   "metadata": {
    "collapsed": false
   },
   "outputs": [],
   "source": [
    "#sns.violinplot(x=\"Odor\", y=\"value\", hue=\"Group\", data=comp_tmp);"
   ]
  },
  {
   "cell_type": "code",
   "execution_count": 66,
   "metadata": {
    "collapsed": false
   },
   "outputs": [],
   "source": [
    "#sns.barplot(x=\"Odor\", y=\"value\", hue=\"Group\", data=comp_tmp);"
   ]
  },
  {
   "cell_type": "markdown",
   "metadata": {},
   "source": [
    "# Import/organize data"
   ]
  },
  {
   "cell_type": "code",
   "execution_count": 3,
   "metadata": {
    "collapsed": false,
    "scrolled": true
   },
   "outputs": [],
   "source": [
    "comp=pd.read_csv('C:\\Users\\Annie\\Documents\\Data\\Ca_Imaging\\Analysis\\Odor_Panel\\Composite_MaxDF_NoP.csv')\n",
    "del comp['Mouse']\n",
    "comp_sorted=comp.reindex_axis(comp.mean().sort_values().index, axis=1)\n",
    "comp_labels=pd.DataFrame(comp.Group)\n",
    "tmp=[comp_labels,comp_sorted]\n",
    "composite_full=pd.concat(tmp,axis=1)\n",
    "composite_full.head()\n",
    "cfull=pd.melt(composite_full,\"Group\",var_name=\"Odor\")"
   ]
  },
  {
   "cell_type": "markdown",
   "metadata": {},
   "source": [
    "# Rank the odors"
   ]
  },
  {
   "cell_type": "code",
   "execution_count": 3,
   "metadata": {
    "collapsed": false
   },
   "outputs": [
    {
     "data": {
      "text/html": [
       "<div>\n",
       "<table border=\"1\" class=\"dataframe\">\n",
       "  <thead>\n",
       "    <tr style=\"text-align: right;\">\n",
       "      <th></th>\n",
       "      <th>Group</th>\n",
       "      <th>THA</th>\n",
       "      <th>MS 0.01</th>\n",
       "      <th>BLANK</th>\n",
       "      <th>AP</th>\n",
       "      <th>MS 0.1</th>\n",
       "      <th>MS 0.05</th>\n",
       "      <th>IAA 0.05</th>\n",
       "      <th>IAA 0.01</th>\n",
       "      <th>PA</th>\n",
       "      <th>IAA 0.1</th>\n",
       "      <th>Hexanone</th>\n",
       "      <th>Hexanal 0.1</th>\n",
       "      <th>Hexanal 0.01</th>\n",
       "      <th>Hexanal 0.05</th>\n",
       "      <th>EB</th>\n",
       "    </tr>\n",
       "  </thead>\n",
       "  <tbody>\n",
       "    <tr>\n",
       "      <th>0</th>\n",
       "      <td>Control</td>\n",
       "      <td>0.212200</td>\n",
       "      <td>0.127301</td>\n",
       "      <td>NaN</td>\n",
       "      <td>0.139029</td>\n",
       "      <td>0.096683</td>\n",
       "      <td>0.099481</td>\n",
       "      <td>0.098134</td>\n",
       "      <td>0.265576</td>\n",
       "      <td>0.165395</td>\n",
       "      <td>0.216148</td>\n",
       "      <td>0.345297</td>\n",
       "      <td>0.131523</td>\n",
       "      <td>0.157010</td>\n",
       "      <td>0.131461</td>\n",
       "      <td>0.193486</td>\n",
       "    </tr>\n",
       "    <tr>\n",
       "      <th>1</th>\n",
       "      <td>Control</td>\n",
       "      <td>0.066122</td>\n",
       "      <td>0.074838</td>\n",
       "      <td>NaN</td>\n",
       "      <td>0.127978</td>\n",
       "      <td>0.052906</td>\n",
       "      <td>0.119782</td>\n",
       "      <td>0.108896</td>\n",
       "      <td>0.168569</td>\n",
       "      <td>0.101373</td>\n",
       "      <td>0.171575</td>\n",
       "      <td>0.268874</td>\n",
       "      <td>0.146749</td>\n",
       "      <td>0.140497</td>\n",
       "      <td>0.136131</td>\n",
       "      <td>0.201126</td>\n",
       "    </tr>\n",
       "    <tr>\n",
       "      <th>2</th>\n",
       "      <td>Control</td>\n",
       "      <td>0.022259</td>\n",
       "      <td>0.094999</td>\n",
       "      <td>NaN</td>\n",
       "      <td>0.065581</td>\n",
       "      <td>0.027137</td>\n",
       "      <td>0.029730</td>\n",
       "      <td>0.028554</td>\n",
       "      <td>0.146171</td>\n",
       "      <td>0.055140</td>\n",
       "      <td>0.159719</td>\n",
       "      <td>0.198244</td>\n",
       "      <td>0.101923</td>\n",
       "      <td>0.127977</td>\n",
       "      <td>0.116245</td>\n",
       "      <td>0.156971</td>\n",
       "    </tr>\n",
       "    <tr>\n",
       "      <th>3</th>\n",
       "      <td>Control</td>\n",
       "      <td>0.145203</td>\n",
       "      <td>0.107146</td>\n",
       "      <td>NaN</td>\n",
       "      <td>0.057500</td>\n",
       "      <td>0.152532</td>\n",
       "      <td>0.158519</td>\n",
       "      <td>0.179303</td>\n",
       "      <td>0.302537</td>\n",
       "      <td>0.125637</td>\n",
       "      <td>0.259681</td>\n",
       "      <td>0.350995</td>\n",
       "      <td>0.279234</td>\n",
       "      <td>0.190135</td>\n",
       "      <td>0.233960</td>\n",
       "      <td>0.274613</td>\n",
       "    </tr>\n",
       "    <tr>\n",
       "      <th>4</th>\n",
       "      <td>Control</td>\n",
       "      <td>0.155862</td>\n",
       "      <td>0.147167</td>\n",
       "      <td>NaN</td>\n",
       "      <td>0.153746</td>\n",
       "      <td>0.125200</td>\n",
       "      <td>0.159181</td>\n",
       "      <td>0.230083</td>\n",
       "      <td>0.375661</td>\n",
       "      <td>0.192976</td>\n",
       "      <td>0.325386</td>\n",
       "      <td>0.438699</td>\n",
       "      <td>0.357176</td>\n",
       "      <td>0.299774</td>\n",
       "      <td>0.339993</td>\n",
       "      <td>0.285755</td>\n",
       "    </tr>\n",
       "  </tbody>\n",
       "</table>\n",
       "</div>"
      ],
      "text/plain": [
       "     Group       THA   MS 0.01  BLANK        AP    MS 0.1   MS 0.05  IAA 0.05  \\\n",
       "0  Control  0.212200  0.127301    NaN  0.139029  0.096683  0.099481  0.098134   \n",
       "1  Control  0.066122  0.074838    NaN  0.127978  0.052906  0.119782  0.108896   \n",
       "2  Control  0.022259  0.094999    NaN  0.065581  0.027137  0.029730  0.028554   \n",
       "3  Control  0.145203  0.107146    NaN  0.057500  0.152532  0.158519  0.179303   \n",
       "4  Control  0.155862  0.147167    NaN  0.153746  0.125200  0.159181  0.230083   \n",
       "\n",
       "   IAA 0.01        PA   IAA 0.1  Hexanone  Hexanal 0.1  Hexanal 0.01  \\\n",
       "0  0.265576  0.165395  0.216148  0.345297     0.131523      0.157010   \n",
       "1  0.168569  0.101373  0.171575  0.268874     0.146749      0.140497   \n",
       "2  0.146171  0.055140  0.159719  0.198244     0.101923      0.127977   \n",
       "3  0.302537  0.125637  0.259681  0.350995     0.279234      0.190135   \n",
       "4  0.375661  0.192976  0.325386  0.438699     0.357176      0.299774   \n",
       "\n",
       "   Hexanal 0.05        EB  \n",
       "0      0.131461  0.193486  \n",
       "1      0.136131  0.201126  \n",
       "2      0.116245  0.156971  \n",
       "3      0.233960  0.274613  \n",
       "4      0.339993  0.285755  "
      ]
     },
     "execution_count": 3,
     "metadata": {},
     "output_type": "execute_result"
    }
   ],
   "source": [
    "composite_full.head()"
   ]
  },
  {
   "cell_type": "code",
   "execution_count": 3,
   "metadata": {
    "collapsed": false
   },
   "outputs": [
    {
     "data": {
      "text/html": [
       "<div>\n",
       "<table border=\"1\" class=\"dataframe\">\n",
       "  <thead>\n",
       "    <tr style=\"text-align: right;\">\n",
       "      <th></th>\n",
       "      <th>Group</th>\n",
       "      <th>THA</th>\n",
       "      <th>MS 0.01</th>\n",
       "      <th>BLANK</th>\n",
       "      <th>AP</th>\n",
       "      <th>MS 0.1</th>\n",
       "      <th>MS 0.05</th>\n",
       "      <th>IAA 0.05</th>\n",
       "      <th>IAA 0.01</th>\n",
       "      <th>PA</th>\n",
       "      <th>IAA 0.1</th>\n",
       "      <th>Hexanone</th>\n",
       "      <th>Hexanal 0.1</th>\n",
       "      <th>Hexanal 0.01</th>\n",
       "      <th>Hexanal 0.05</th>\n",
       "      <th>EB</th>\n",
       "    </tr>\n",
       "  </thead>\n",
       "  <tbody>\n",
       "    <tr>\n",
       "      <th>0</th>\n",
       "      <td>Control</td>\n",
       "      <td>4.0</td>\n",
       "      <td>11.0</td>\n",
       "      <td>NaN</td>\n",
       "      <td>8.0</td>\n",
       "      <td>14.0</td>\n",
       "      <td>12.0</td>\n",
       "      <td>13.0</td>\n",
       "      <td>2.0</td>\n",
       "      <td>6.0</td>\n",
       "      <td>3.0</td>\n",
       "      <td>1.0</td>\n",
       "      <td>9.0</td>\n",
       "      <td>7.0</td>\n",
       "      <td>10.0</td>\n",
       "      <td>5.0</td>\n",
       "    </tr>\n",
       "    <tr>\n",
       "      <th>1</th>\n",
       "      <td>Control</td>\n",
       "      <td>13.0</td>\n",
       "      <td>12.0</td>\n",
       "      <td>NaN</td>\n",
       "      <td>8.0</td>\n",
       "      <td>14.0</td>\n",
       "      <td>9.0</td>\n",
       "      <td>10.0</td>\n",
       "      <td>4.0</td>\n",
       "      <td>11.0</td>\n",
       "      <td>3.0</td>\n",
       "      <td>1.0</td>\n",
       "      <td>5.0</td>\n",
       "      <td>6.0</td>\n",
       "      <td>7.0</td>\n",
       "      <td>2.0</td>\n",
       "    </tr>\n",
       "    <tr>\n",
       "      <th>2</th>\n",
       "      <td>Control</td>\n",
       "      <td>14.0</td>\n",
       "      <td>8.0</td>\n",
       "      <td>NaN</td>\n",
       "      <td>9.0</td>\n",
       "      <td>13.0</td>\n",
       "      <td>11.0</td>\n",
       "      <td>12.0</td>\n",
       "      <td>4.0</td>\n",
       "      <td>10.0</td>\n",
       "      <td>2.0</td>\n",
       "      <td>1.0</td>\n",
       "      <td>7.0</td>\n",
       "      <td>5.0</td>\n",
       "      <td>6.0</td>\n",
       "      <td>3.0</td>\n",
       "    </tr>\n",
       "    <tr>\n",
       "      <th>3</th>\n",
       "      <td>Control</td>\n",
       "      <td>11.0</td>\n",
       "      <td>13.0</td>\n",
       "      <td>NaN</td>\n",
       "      <td>14.0</td>\n",
       "      <td>10.0</td>\n",
       "      <td>9.0</td>\n",
       "      <td>8.0</td>\n",
       "      <td>2.0</td>\n",
       "      <td>12.0</td>\n",
       "      <td>5.0</td>\n",
       "      <td>1.0</td>\n",
       "      <td>3.0</td>\n",
       "      <td>7.0</td>\n",
       "      <td>6.0</td>\n",
       "      <td>4.0</td>\n",
       "    </tr>\n",
       "    <tr>\n",
       "      <th>4</th>\n",
       "      <td>Control</td>\n",
       "      <td>11.0</td>\n",
       "      <td>13.0</td>\n",
       "      <td>NaN</td>\n",
       "      <td>12.0</td>\n",
       "      <td>14.0</td>\n",
       "      <td>10.0</td>\n",
       "      <td>8.0</td>\n",
       "      <td>2.0</td>\n",
       "      <td>9.0</td>\n",
       "      <td>5.0</td>\n",
       "      <td>1.0</td>\n",
       "      <td>3.0</td>\n",
       "      <td>6.0</td>\n",
       "      <td>4.0</td>\n",
       "      <td>7.0</td>\n",
       "    </tr>\n",
       "  </tbody>\n",
       "</table>\n",
       "</div>"
      ],
      "text/plain": [
       "     Group   THA  MS 0.01  BLANK    AP  MS 0.1  MS 0.05  IAA 0.05  IAA 0.01  \\\n",
       "0  Control   4.0     11.0    NaN   8.0    14.0     12.0      13.0       2.0   \n",
       "1  Control  13.0     12.0    NaN   8.0    14.0      9.0      10.0       4.0   \n",
       "2  Control  14.0      8.0    NaN   9.0    13.0     11.0      12.0       4.0   \n",
       "3  Control  11.0     13.0    NaN  14.0    10.0      9.0       8.0       2.0   \n",
       "4  Control  11.0     13.0    NaN  12.0    14.0     10.0       8.0       2.0   \n",
       "\n",
       "     PA  IAA 0.1  Hexanone  Hexanal 0.1  Hexanal 0.01  Hexanal 0.05   EB  \n",
       "0   6.0      3.0       1.0          9.0           7.0          10.0  5.0  \n",
       "1  11.0      3.0       1.0          5.0           6.0           7.0  2.0  \n",
       "2  10.0      2.0       1.0          7.0           5.0           6.0  3.0  \n",
       "3  12.0      5.0       1.0          3.0           7.0           6.0  4.0  \n",
       "4   9.0      5.0       1.0          3.0           6.0           4.0  7.0  "
      ]
     },
     "execution_count": 3,
     "metadata": {},
     "output_type": "execute_result"
    }
   ],
   "source": [
    "x=composite_full.rank(axis=1,numeric_only=float,na_option='keep',ascending=False)\n",
    "comp_labels=pd.DataFrame(comp.Group)\n",
    "tmp=[comp_labels,x]\n",
    "comp_ranks=pd.concat(tmp,axis=1)\n",
    "comp_ranks.head()"
   ]
  },
  {
   "cell_type": "code",
   "execution_count": 4,
   "metadata": {
    "collapsed": false
   },
   "outputs": [],
   "source": [
    "ctrl_cr=comp_ranks[comp_ranks['Group']=='Control']\n",
    "mint_cr=comp_ranks[comp_ranks['Group']=='Mint']\n",
    "hex_cr=comp_ranks[comp_ranks['Group']=='Hexanal']"
   ]
  },
  {
   "cell_type": "code",
   "execution_count": 10,
   "metadata": {
    "collapsed": false
   },
   "outputs": [
    {
     "data": {
      "text/html": [
       "<div>\n",
       "<table border=\"1\" class=\"dataframe\">\n",
       "  <thead>\n",
       "    <tr style=\"text-align: right;\">\n",
       "      <th></th>\n",
       "      <th>Group</th>\n",
       "    </tr>\n",
       "  </thead>\n",
       "  <tbody>\n",
       "    <tr>\n",
       "      <th>0</th>\n",
       "      <td>Control</td>\n",
       "    </tr>\n",
       "    <tr>\n",
       "      <th>1</th>\n",
       "      <td>Mint</td>\n",
       "    </tr>\n",
       "    <tr>\n",
       "      <th>2</th>\n",
       "      <td>Hexanal</td>\n",
       "    </tr>\n",
       "  </tbody>\n",
       "</table>\n",
       "</div>"
      ],
      "text/plain": [
       "     Group\n",
       "0  Control\n",
       "1     Mint\n",
       "2  Hexanal"
      ]
     },
     "execution_count": 10,
     "metadata": {},
     "output_type": "execute_result"
    }
   ],
   "source": [
    "pd.DataFrame({'Group':['Control','Mint','Hexanal']})"
   ]
  },
  {
   "cell_type": "code",
   "execution_count": 20,
   "metadata": {
    "collapsed": false,
    "scrolled": false
   },
   "outputs": [
    {
     "data": {
      "text/html": [
       "<div>\n",
       "<table border=\"1\" class=\"dataframe\">\n",
       "  <thead>\n",
       "    <tr style=\"text-align: right;\">\n",
       "      <th></th>\n",
       "      <th>THA</th>\n",
       "      <th>MS 0.01</th>\n",
       "      <th>BLANK</th>\n",
       "      <th>AP</th>\n",
       "      <th>MS 0.1</th>\n",
       "      <th>MS 0.05</th>\n",
       "      <th>IAA 0.05</th>\n",
       "      <th>IAA 0.01</th>\n",
       "      <th>PA</th>\n",
       "      <th>IAA 0.1</th>\n",
       "      <th>Hexanone</th>\n",
       "      <th>Hexanal 0.1</th>\n",
       "      <th>Hexanal 0.01</th>\n",
       "      <th>Hexanal 0.05</th>\n",
       "      <th>EB</th>\n",
       "    </tr>\n",
       "  </thead>\n",
       "  <tbody>\n",
       "    <tr>\n",
       "      <th>0</th>\n",
       "      <td>9.98694</td>\n",
       "      <td>11.625</td>\n",
       "      <td>8.68254</td>\n",
       "      <td>10.794776</td>\n",
       "      <td>9.296642</td>\n",
       "      <td>9.910448</td>\n",
       "      <td>8.175373</td>\n",
       "      <td>8.891791</td>\n",
       "      <td>8.975746</td>\n",
       "      <td>5.929104</td>\n",
       "      <td>5.076493</td>\n",
       "      <td>3.953358</td>\n",
       "      <td>5.01306</td>\n",
       "      <td>4.009328</td>\n",
       "      <td>4.847015</td>\n",
       "    </tr>\n",
       "  </tbody>\n",
       "</table>\n",
       "</div>"
      ],
      "text/plain": [
       "       THA  MS 0.01    BLANK         AP    MS 0.1   MS 0.05  IAA 0.05  \\\n",
       "0  9.98694   11.625  8.68254  10.794776  9.296642  9.910448  8.175373   \n",
       "\n",
       "   IAA 0.01        PA   IAA 0.1  Hexanone  Hexanal 0.1  Hexanal 0.01  \\\n",
       "0  8.891791  8.975746  5.929104  5.076493     3.953358       5.01306   \n",
       "\n",
       "   Hexanal 0.05        EB  \n",
       "0      4.009328  4.847015  "
      ]
     },
     "execution_count": 20,
     "metadata": {},
     "output_type": "execute_result"
    }
   ],
   "source": [
    "ctrlmr=pd.DataFrame(comp_ranks[comp_ranks['Group']=='Control'].mean(axis=0)).T\n",
    "mintmr=pd.DataFrame(comp_ranks[comp_ranks['Group']=='Mint'].mean(axis=0)).T\n",
    "hexmr=pd.DataFrame(comp_ranks[comp_ranks['Group']=='Hexanal'].mean(axis=0)).T\n",
    "mintmr"
   ]
  },
  {
   "cell_type": "code",
   "execution_count": 41,
   "metadata": {
    "collapsed": false,
    "scrolled": true
   },
   "outputs": [
    {
     "data": {
      "text/html": [
       "<div>\n",
       "<table border=\"1\" class=\"dataframe\">\n",
       "  <thead>\n",
       "    <tr style=\"text-align: right;\">\n",
       "      <th></th>\n",
       "      <th>Group</th>\n",
       "      <th>THA</th>\n",
       "      <th>MS 0.01</th>\n",
       "      <th>BLANK</th>\n",
       "      <th>AP</th>\n",
       "      <th>MS 0.1</th>\n",
       "      <th>MS 0.05</th>\n",
       "      <th>IAA 0.05</th>\n",
       "      <th>IAA 0.01</th>\n",
       "      <th>PA</th>\n",
       "      <th>IAA 0.1</th>\n",
       "      <th>Hexanone</th>\n",
       "      <th>Hexanal 0.1</th>\n",
       "      <th>Hexanal 0.01</th>\n",
       "      <th>Hexanal 0.05</th>\n",
       "      <th>EB</th>\n",
       "    </tr>\n",
       "  </thead>\n",
       "  <tbody>\n",
       "    <tr>\n",
       "      <th>0</th>\n",
       "      <td>Control</td>\n",
       "      <td>10.535714</td>\n",
       "      <td>10.415414</td>\n",
       "      <td>11.667647</td>\n",
       "      <td>10.372180</td>\n",
       "      <td>9.530075</td>\n",
       "      <td>9.836466</td>\n",
       "      <td>9.105263</td>\n",
       "      <td>6.765038</td>\n",
       "      <td>10.806391</td>\n",
       "      <td>5.052632</td>\n",
       "      <td>3.759398</td>\n",
       "      <td>5.731203</td>\n",
       "      <td>5.986842</td>\n",
       "      <td>4.118421</td>\n",
       "      <td>5.114662</td>\n",
       "    </tr>\n",
       "    <tr>\n",
       "      <th>1</th>\n",
       "      <td>Mint</td>\n",
       "      <td>9.986940</td>\n",
       "      <td>11.625000</td>\n",
       "      <td>8.682540</td>\n",
       "      <td>10.794776</td>\n",
       "      <td>9.296642</td>\n",
       "      <td>9.910448</td>\n",
       "      <td>8.175373</td>\n",
       "      <td>8.891791</td>\n",
       "      <td>8.975746</td>\n",
       "      <td>5.929104</td>\n",
       "      <td>5.076493</td>\n",
       "      <td>3.953358</td>\n",
       "      <td>5.013060</td>\n",
       "      <td>4.009328</td>\n",
       "      <td>4.847015</td>\n",
       "    </tr>\n",
       "    <tr>\n",
       "      <th>2</th>\n",
       "      <td>Hexanal</td>\n",
       "      <td>11.222222</td>\n",
       "      <td>12.147696</td>\n",
       "      <td>9.899425</td>\n",
       "      <td>9.535230</td>\n",
       "      <td>11.214092</td>\n",
       "      <td>10.284553</td>\n",
       "      <td>10.021680</td>\n",
       "      <td>7.728997</td>\n",
       "      <td>8.398374</td>\n",
       "      <td>4.802168</td>\n",
       "      <td>5.326558</td>\n",
       "      <td>6.643631</td>\n",
       "      <td>4.586721</td>\n",
       "      <td>3.162602</td>\n",
       "      <td>4.735772</td>\n",
       "    </tr>\n",
       "  </tbody>\n",
       "</table>\n",
       "</div>"
      ],
      "text/plain": [
       "     Group        THA    MS 0.01      BLANK         AP     MS 0.1    MS 0.05  \\\n",
       "0  Control  10.535714  10.415414  11.667647  10.372180   9.530075   9.836466   \n",
       "1     Mint   9.986940  11.625000   8.682540  10.794776   9.296642   9.910448   \n",
       "2  Hexanal  11.222222  12.147696   9.899425   9.535230  11.214092  10.284553   \n",
       "\n",
       "    IAA 0.05  IAA 0.01         PA   IAA 0.1  Hexanone  Hexanal 0.1  \\\n",
       "0   9.105263  6.765038  10.806391  5.052632  3.759398     5.731203   \n",
       "1   8.175373  8.891791   8.975746  5.929104  5.076493     3.953358   \n",
       "2  10.021680  7.728997   8.398374  4.802168  5.326558     6.643631   \n",
       "\n",
       "   Hexanal 0.01  Hexanal 0.05        EB  \n",
       "0      5.986842      4.118421  5.114662  \n",
       "1      5.013060      4.009328  4.847015  \n",
       "2      4.586721      3.162602  4.735772  "
      ]
     },
     "execution_count": 41,
     "metadata": {},
     "output_type": "execute_result"
    }
   ],
   "source": [
    "ranks=pd.concat([ctrlmr,mintmr,hexmr])\n",
    "grouplabels=pd.DataFrame({'Group':['Control','Mint','Hexanal']})\n",
    "ranks=ranks.reset_index(drop=True)\n",
    "# tmp=[grouplabels,ranks]\n",
    "finaldf=pd.concat([grouplabels,ranks],axis=1)\n",
    "finaldf"
   ]
  },
  {
   "cell_type": "code",
   "execution_count": 44,
   "metadata": {
    "collapsed": true
   },
   "outputs": [],
   "source": [
    "finalmelt=pd.melt(finaldf,\"Group\",var_name=\"Odor\")"
   ]
  },
  {
   "cell_type": "code",
   "execution_count": 42,
   "metadata": {
    "collapsed": false
   },
   "outputs": [
    {
     "data": {
      "text/plain": [
       "KruskalResult(statistic=11.08517822319291, pvalue=0.0039163737715180091)"
      ]
     },
     "execution_count": 42,
     "metadata": {},
     "output_type": "execute_result"
    }
   ],
   "source": [
    "kruskal(ctrl_cr.EB,mint_cr.EB,hex_cr.EB)"
   ]
  },
  {
   "cell_type": "code",
   "execution_count": 46,
   "metadata": {
    "collapsed": false
   },
   "outputs": [],
   "source": [
    "sns.set(style=\"white\", palette=\"muted\", color_codes=True);\n",
    "sns.set_context(\"talk\", font_scale=1.8);\n",
    "plt.figure(figsize=(55, 20));\n",
    "sns.pointplot(x=\"Odor\", y=\"value\", hue=\"Group\", data=finalmelt,\n",
    "              palette={\"Control\": \"r\", \"Mint\": \"g\", 'Hexanal': 'b'});\n",
    "sns.despine()\n",
    "plt.ylabel('Rank', fontsize=48);\n",
    "plt.title('Rank of odor response', fontsize=55);\n",
    "plt.xlabel('Odor', fontsize=48);\n",
    "plt.legend(loc=2, prop={'size': 48});"
   ]
  },
  {
   "cell_type": "markdown",
   "metadata": {},
   "source": [
    "# Mean, Median, COV"
   ]
  },
  {
   "cell_type": "markdown",
   "metadata": {},
   "source": [
    "Calculate Mean"
   ]
  },
  {
   "cell_type": "code",
   "execution_count": 109,
   "metadata": {
    "collapsed": false
   },
   "outputs": [],
   "source": [
    "#Calculate means for each odor\n",
    "Cctrl=composite_full[composite_full['Group']=='Control']\n",
    "Cmean=Cctrl.mean()\n",
    "M=composite_full[composite_full['Group']=='Mint']\n",
    "Mmean=M.mean()\n",
    "H=composite_full[composite_full['Group']=='Hexanal']\n",
    "Hmean=H.mean()\n",
    "\n",
    "CtrlMDFT=pd.DataFrame(Cmean).transpose()\n",
    "MMDFT=pd.DataFrame(Mmean).transpose()\n",
    "HMDFT=pd.DataFrame(Hmean).transpose()\n",
    "\n",
    "#add group labels back\n",
    "gnc = pd.DataFrame({'Group':['Control']})\n",
    "gnm=pd.DataFrame({'Group':['Mint']})\n",
    "gnh=pd.DataFrame({'Group':['Hexanal']})\n",
    "\n",
    "Ctmp=[gnc,CtrlMDFT]\n",
    "Mtmp=[gnm,MMDFT]\n",
    "Htmp=[gnh,HMDFT]\n",
    "\n",
    "CtrlMDF=pd.concat(Ctmp,axis=1)\n",
    "MMDF=pd.concat(Mtmp,axis=1)\n",
    "HMDF=pd.concat(Htmp,axis=1)\n",
    "\n",
    "final=[CtrlMDF,MMDF,HMDF]\n",
    "finalmean=pd.concat(final)\n",
    "finalmeandf=pd.melt(finalmean,\"Group\",var_name=\"Odor\")"
   ]
  },
  {
   "cell_type": "code",
   "execution_count": 157,
   "metadata": {
    "collapsed": false
   },
   "outputs": [],
   "source": [
    "#plot means\n",
    "sns.set(style=\"white\", palette=\"muted\", color_codes=True);\n",
    "sns.set_context(\"talk\",font_scale=1.8);\n",
    "plt.figure(figsize=(55,20));\n",
    "sns.pointplot(x=\"Odor\", y=\"value\", hue=\"Group\", data=finalmeandf,palette={\"Control\": \"r\", \"Mint\": \"g\",'Hexanal':'b'});\n",
    "sns.despine()\n",
    "plt.ylabel('DF/F', fontsize=48);\n",
    "plt.title('Mean Peak DF/F',fontsize=55);\n",
    "plt.xlabel('Odor',fontsize=48);\n",
    "plt.legend(loc=2,prop={'size':48});"
   ]
  },
  {
   "cell_type": "markdown",
   "metadata": {},
   "source": [
    "Calculate Medians"
   ]
  },
  {
   "cell_type": "code",
   "execution_count": 8,
   "metadata": {
    "collapsed": false,
    "scrolled": true
   },
   "outputs": [],
   "source": [
    "#Calculate medians for each odor\n",
    "Cctrl=composite_full[composite_full['Group']=='Control']\n",
    "Cmedian=Cctrl.median()\n",
    "M=composite_full[composite_full['Group']=='Mint']\n",
    "Mmedian=M.median()\n",
    "H=composite_full[composite_full['Group']=='Hexanal']\n",
    "Hmedian=H.median()\n",
    "\n",
    "CtrlMedT=pd.DataFrame(Cmedian).transpose()\n",
    "MMedT=pd.DataFrame(Mmedian).transpose()\n",
    "HMedT=pd.DataFrame(Hmedian).transpose()\n",
    "\n",
    "#add group labels back\n",
    "gnc = pd.DataFrame({'Group':['Control']})\n",
    "gnm=pd.DataFrame({'Group':['Mint']})\n",
    "gnh=pd.DataFrame({'Group':['Hexanal']})\n",
    "\n",
    "Ctmp=[gnc,CtrlMedT]\n",
    "Mtmp=[gnm,MMedT]\n",
    "Htmp=[gnh,HMedT]\n",
    "\n",
    "CtrlMed=pd.concat(Ctmp,axis=1)\n",
    "MMed=pd.concat(Mtmp,axis=1)\n",
    "HMed=pd.concat(Htmp,axis=1)\n",
    "\n",
    "finalmed=[CtrlMed,MMed,HMed]\n",
    "finalmedian=pd.concat(finalmed)\n",
    "finalmediandf=pd.melt(finalmedian,\"Group\",var_name=\"Odor\")"
   ]
  },
  {
   "cell_type": "code",
   "execution_count": 9,
   "metadata": {
    "collapsed": false,
    "scrolled": true
   },
   "outputs": [],
   "source": [
    "#Plot medians\n",
    "sns.set(style=\"white\", palette=\"muted\", color_codes=True);\n",
    "sns.set_context(\"talk\",font_scale=1.8);\n",
    "plt.figure(figsize=(55,20));\n",
    "sns.pointplot(x=\"Odor\", y=\"value\", hue=\"Group\", data=finalmediandf,palette={\"Control\": \"r\", \"Mint\": \"g\",'Hexanal':'b'});\n",
    "sns.despine()\n",
    "plt.ylabel('DF/F', fontsize=48);\n",
    "plt.title('Median Peak DF/F',fontsize=55);\n",
    "plt.xlabel('Odor',fontsize=48);\n",
    "plt.legend(loc=2,prop={'size':48});"
   ]
  },
  {
   "cell_type": "markdown",
   "metadata": {},
   "source": [
    "Calculate and Plot Variance"
   ]
  },
  {
   "cell_type": "code",
   "execution_count": 10,
   "metadata": {
    "collapsed": false
   },
   "outputs": [],
   "source": [
    "# Calculate variance\n",
    "CC=composite_full[composite_full['Group']=='Control']\n",
    "MM=composite_full[composite_full['Group']=='Mint']\n",
    "HH=composite_full[composite_full['Group']=='Hexanal']\n",
    "del CC['Group']\n",
    "del MM['Group']\n",
    "del HH['Group']\n",
    "\n",
    "CvarT=pd.DataFrame(variation(CC)).transpose()\n",
    "MvarT=pd.DataFrame(variation(MM)).transpose()\n",
    "HvarT=pd.DataFrame(variation(HH)).transpose()\n",
    "\n",
    "#add group labels back\n",
    "gnc = pd.DataFrame({'Group':['Control']})\n",
    "gnm=pd.DataFrame({'Group':['Mint']})\n",
    "gnh=pd.DataFrame({'Group':['Hexanal']})\n",
    "\n",
    "Ctmp=[gnc,CvarT]\n",
    "Mtmp=[gnm,MvarT]\n",
    "Htmp=[gnh,HvarT]\n",
    "\n",
    "CV=pd.concat(Ctmp,axis=1)\n",
    "MV=pd.concat(Mtmp,axis=1)\n",
    "HV=pd.concat(Htmp,axis=1)\n",
    "\n",
    "gn=['Group']\n",
    "gname = np.array(gn)\n",
    "odornames=CC.columns.values\n",
    "columnnames=np.append(gname,odornames)\n",
    "CV.columns=columnnames\n",
    "MV.columns=columnnames\n",
    "HV.columns=columnnames\n",
    "\n",
    "#Fix BLANK NaNs\n",
    "CCNB=pd.DataFrame(CC['BLANK'])\n",
    "CCNB=CCNB.dropna()\n",
    "CCNBvar=variation(CCNB)\n",
    "CCNBvars=np.asscalar(CCNBvar)\n",
    "CV=CV.replace(CV.BLANK[0],CCNBvars)\n",
    "\n",
    "MMNB=pd.DataFrame(MM['BLANK'])\n",
    "MMNB=MMNB.dropna()\n",
    "MMNBvar=variation(MMNB)\n",
    "MMNBvars=np.asscalar(MMNBvar)\n",
    "MV=MV.replace(MV.BLANK[0],MMNBvars)\n",
    "\n",
    "HHNB=pd.DataFrame(HH['BLANK'])\n",
    "HHNB=HHNB.dropna()\n",
    "HHNBvar=variation(HHNB)\n",
    "HHNBvars=np.asscalar(HHNBvar)\n",
    "HV=HV.replace(HV.BLANK[0],HHNBvars)\n",
    "\n",
    "complete=[CV,HV,MV]\n",
    "finalvariance=pd.concat(complete)\n",
    "finalvariancedf=pd.melt(finalvariance,\"Group\",var_name=\"Odor\")"
   ]
  },
  {
   "cell_type": "code",
   "execution_count": 11,
   "metadata": {
    "collapsed": false
   },
   "outputs": [],
   "source": [
    "sns.set(style=\"white\", palette=\"muted\", color_codes=True);\n",
    "sns.set_context(\"talk\",font_scale=1.8);\n",
    "plt.figure(figsize=(55,20));\n",
    "sns.pointplot(x=\"Odor\", y=\"value\", hue=\"Group\", data=finalvariancedf,palette={\"Control\": \"r\", \"Mint\": \"g\",'Hexanal':'b'});\n",
    "sns.despine()\n",
    "plt.ylabel('COV', fontsize=48);\n",
    "plt.title('COV Peak DF/F',fontsize=55);\n",
    "plt.xlabel('Odor',fontsize=48);\n",
    "plt.legend(loc=2,prop={'size':48});"
   ]
  },
  {
   "cell_type": "markdown",
   "metadata": {},
   "source": [
    "Calculate and plot variance for each odor concentration"
   ]
  },
  {
   "cell_type": "code",
   "execution_count": 12,
   "metadata": {
    "collapsed": false
   },
   "outputs": [],
   "source": [
    "MSconcvar=finalvariance[['Group','MS 0.01','MS 0.05','MS 0.1']]\n",
    "Hexconcvar=finalvariance[['Group','Hexanal 0.01','Hexanal 0.05','Hexanal 0.1']]\n",
    "IAAconcvar=finalvariance[['Group','IAA 0.01','IAA 0.05','IAA 0.1']]\n",
    "\n",
    "MSconcvardf=pd.melt(MSconcvar,\"Group\",var_name=\"Odor\")\n",
    "Hexconcvardf=pd.melt(Hexconcvar,'Group', var_name='Odor')\n",
    "IAAconcvardf=pd.melt(IAAconcvar,'Group',var_name='Odor')"
   ]
  },
  {
   "cell_type": "code",
   "execution_count": 13,
   "metadata": {
    "collapsed": true
   },
   "outputs": [],
   "source": [
    "#Plot COV MS Concentration\n",
    "sns.set(style=\"white\", palette=\"muted\", color_codes=True);\n",
    "sns.set_context(\"talk\",font_scale=1.8);\n",
    "plt.figure(figsize=(55,20));\n",
    "sns.pointplot(x=\"Odor\", y=\"value\", hue=\"Group\", data=MSconcvardf,palette={\"Control\": \"r\", \"Mint\": \"g\",'Hexanal':'b'});\n",
    "sns.despine()\n",
    "plt.ylabel('COV', fontsize=48);\n",
    "plt.title('COV Peak DF/F - Methyl Salicylate',fontsize=55);\n",
    "plt.xlabel('Odor',fontsize=48);\n",
    "plt.legend(loc=2,prop={'size':48});"
   ]
  },
  {
   "cell_type": "code",
   "execution_count": 211,
   "metadata": {
    "collapsed": true
   },
   "outputs": [],
   "source": [
    "# Plot COV Hexanal Concentration\n",
    "sns.set(style=\"white\", palette=\"muted\", color_codes=True);\n",
    "sns.set_context(\"talk\",font_scale=1.8);\n",
    "plt.figure(figsize=(55,20));\n",
    "sns.pointplot(x=\"Odor\", y=\"value\", hue=\"Group\", data=Hexconcvardf,palette={\"Control\": \"r\", \"Mint\": \"g\",'Hexanal':'b'});\n",
    "sns.despine()\n",
    "plt.ylabel('COV', fontsize=48);\n",
    "plt.title('COV Peak DF/F - Hexanal',fontsize=55);\n",
    "plt.xlabel('Odor',fontsize=48);\n",
    "plt.legend(loc=2,prop={'size':48});"
   ]
  },
  {
   "cell_type": "code",
   "execution_count": 212,
   "metadata": {
    "collapsed": true
   },
   "outputs": [],
   "source": [
    "# Plot COV IAA Concentration\n",
    "sns.set(style=\"white\", palette=\"muted\", color_codes=True);\n",
    "sns.set_context(\"talk\",font_scale=1.8);\n",
    "plt.figure(figsize=(55,20));\n",
    "sns.pointplot(x=\"Odor\", y=\"value\", hue=\"Group\", data=IAAconcvardf,palette={\"Control\": \"r\", \"Mint\": \"g\",'Hexanal':'b'});\n",
    "sns.despine()\n",
    "plt.ylabel('COV', fontsize=48);\n",
    "plt.title('COV Peak DF/F - Isoamyl acetate',fontsize=55);\n",
    "plt.xlabel('Odor',fontsize=48);\n",
    "plt.legend(loc=2,prop={'size':48});"
   ]
  },
  {
   "cell_type": "markdown",
   "metadata": {},
   "source": [
    "# Correlate Baseline with DF/F"
   ]
  },
  {
   "cell_type": "code",
   "execution_count": 3,
   "metadata": {
    "collapsed": true
   },
   "outputs": [],
   "source": [
    "#Get Baselines\n",
    "bl=pd.read_csv('C:\\Users\\Annie\\Documents\\Data\\Ca_Imaging\\Analysis\\Odor_Panel\\Composite_Baseline_NoP.csv')\n",
    "del bl['Mouse']\n",
    "bl_sorted=bl.reindex_axis(bl.mean().sort_values().index, axis=1)\n",
    "bl_labels=pd.DataFrame(bl.Group)\n",
    "tmp=[bl_labels,bl_sorted]\n",
    "bdf=pd.concat(tmp,axis=1)\n",
    "bdfull=pd.melt(bdf,\"Group\",var_name=\"Odor\")\n",
    "bdfull=bdfull.dropna()"
   ]
  },
  {
   "cell_type": "code",
   "execution_count": 5,
   "metadata": {
    "collapsed": true
   },
   "outputs": [
    {
     "data": {
      "text/html": [
       "<div>\n",
       "<table border=\"1\" class=\"dataframe\">\n",
       "  <thead>\n",
       "    <tr style=\"text-align: right;\">\n",
       "      <th></th>\n",
       "      <th>Group</th>\n",
       "      <th>THA</th>\n",
       "      <th>MS 0.01</th>\n",
       "      <th>BLANK</th>\n",
       "      <th>AP</th>\n",
       "      <th>MS 0.1</th>\n",
       "      <th>MS 0.05</th>\n",
       "      <th>IAA 0.05</th>\n",
       "      <th>IAA 0.01</th>\n",
       "      <th>PA</th>\n",
       "      <th>IAA 0.1</th>\n",
       "      <th>Hexanone</th>\n",
       "      <th>Hexanal 0.1</th>\n",
       "      <th>Hexanal 0.01</th>\n",
       "      <th>Hexanal 0.05</th>\n",
       "      <th>EB</th>\n",
       "    </tr>\n",
       "  </thead>\n",
       "  <tbody>\n",
       "    <tr>\n",
       "      <th>0</th>\n",
       "      <td>Control</td>\n",
       "      <td>2191.580000</td>\n",
       "      <td>2156.251500</td>\n",
       "      <td>NaN</td>\n",
       "      <td>2604.431208</td>\n",
       "      <td>2342.740333</td>\n",
       "      <td>2438.371125</td>\n",
       "      <td>2430.727208</td>\n",
       "      <td>1916.923958</td>\n",
       "      <td>2174.460083</td>\n",
       "      <td>2295.764583</td>\n",
       "      <td>2202.500042</td>\n",
       "      <td>2446.136083</td>\n",
       "      <td>2515.360375</td>\n",
       "      <td>2457.603625</td>\n",
       "      <td>2406.386167</td>\n",
       "    </tr>\n",
       "    <tr>\n",
       "      <th>1</th>\n",
       "      <td>Control</td>\n",
       "      <td>1733.676000</td>\n",
       "      <td>1897.166667</td>\n",
       "      <td>NaN</td>\n",
       "      <td>1805.344875</td>\n",
       "      <td>1946.681708</td>\n",
       "      <td>1828.752875</td>\n",
       "      <td>1864.458375</td>\n",
       "      <td>1685.373583</td>\n",
       "      <td>1748.060375</td>\n",
       "      <td>1850.529417</td>\n",
       "      <td>1865.847750</td>\n",
       "      <td>1903.826250</td>\n",
       "      <td>1841.318875</td>\n",
       "      <td>1795.494250</td>\n",
       "      <td>1929.843458</td>\n",
       "    </tr>\n",
       "    <tr>\n",
       "      <th>2</th>\n",
       "      <td>Control</td>\n",
       "      <td>1567.613708</td>\n",
       "      <td>1688.818208</td>\n",
       "      <td>NaN</td>\n",
       "      <td>1678.700042</td>\n",
       "      <td>1694.186292</td>\n",
       "      <td>1619.368000</td>\n",
       "      <td>1643.305542</td>\n",
       "      <td>1556.993000</td>\n",
       "      <td>1536.563083</td>\n",
       "      <td>1662.997500</td>\n",
       "      <td>1504.910333</td>\n",
       "      <td>1681.573792</td>\n",
       "      <td>1648.710833</td>\n",
       "      <td>1688.000667</td>\n",
       "      <td>1663.836417</td>\n",
       "    </tr>\n",
       "    <tr>\n",
       "      <th>3</th>\n",
       "      <td>Control</td>\n",
       "      <td>829.527875</td>\n",
       "      <td>888.688458</td>\n",
       "      <td>NaN</td>\n",
       "      <td>865.015708</td>\n",
       "      <td>856.108625</td>\n",
       "      <td>861.587750</td>\n",
       "      <td>857.491250</td>\n",
       "      <td>835.064458</td>\n",
       "      <td>822.373417</td>\n",
       "      <td>847.159000</td>\n",
       "      <td>853.859458</td>\n",
       "      <td>857.543458</td>\n",
       "      <td>871.575583</td>\n",
       "      <td>853.299500</td>\n",
       "      <td>843.551167</td>\n",
       "    </tr>\n",
       "    <tr>\n",
       "      <th>4</th>\n",
       "      <td>Control</td>\n",
       "      <td>886.599167</td>\n",
       "      <td>1019.396583</td>\n",
       "      <td>NaN</td>\n",
       "      <td>924.648000</td>\n",
       "      <td>929.562417</td>\n",
       "      <td>916.596208</td>\n",
       "      <td>916.315333</td>\n",
       "      <td>955.118500</td>\n",
       "      <td>895.472083</td>\n",
       "      <td>914.607042</td>\n",
       "      <td>948.426042</td>\n",
       "      <td>899.221875</td>\n",
       "      <td>918.836292</td>\n",
       "      <td>914.384250</td>\n",
       "      <td>942.410958</td>\n",
       "    </tr>\n",
       "  </tbody>\n",
       "</table>\n",
       "</div>"
      ],
      "text/plain": [
       "     Group          THA      MS 0.01  BLANK           AP       MS 0.1  \\\n",
       "0  Control  2191.580000  2156.251500    NaN  2604.431208  2342.740333   \n",
       "1  Control  1733.676000  1897.166667    NaN  1805.344875  1946.681708   \n",
       "2  Control  1567.613708  1688.818208    NaN  1678.700042  1694.186292   \n",
       "3  Control   829.527875   888.688458    NaN   865.015708   856.108625   \n",
       "4  Control   886.599167  1019.396583    NaN   924.648000   929.562417   \n",
       "\n",
       "       MS 0.05     IAA 0.05     IAA 0.01           PA      IAA 0.1  \\\n",
       "0  2438.371125  2430.727208  1916.923958  2174.460083  2295.764583   \n",
       "1  1828.752875  1864.458375  1685.373583  1748.060375  1850.529417   \n",
       "2  1619.368000  1643.305542  1556.993000  1536.563083  1662.997500   \n",
       "3   861.587750   857.491250   835.064458   822.373417   847.159000   \n",
       "4   916.596208   916.315333   955.118500   895.472083   914.607042   \n",
       "\n",
       "      Hexanone  Hexanal 0.1  Hexanal 0.01  Hexanal 0.05           EB  \n",
       "0  2202.500042  2446.136083   2515.360375   2457.603625  2406.386167  \n",
       "1  1865.847750  1903.826250   1841.318875   1795.494250  1929.843458  \n",
       "2  1504.910333  1681.573792   1648.710833   1688.000667  1663.836417  \n",
       "3   853.859458   857.543458    871.575583    853.299500   843.551167  \n",
       "4   948.426042   899.221875    918.836292    914.384250   942.410958  "
      ]
     },
     "execution_count": 5,
     "metadata": {},
     "output_type": "execute_result"
    }
   ],
   "source": [
    "composite_cn=composite_full.columns.tolist()\n",
    "bdf=bdf[composite_cn]\n",
    "bdf.head()"
   ]
  },
  {
   "cell_type": "code",
   "execution_count": 56,
   "metadata": {
    "collapsed": false
   },
   "outputs": [],
   "source": [
    "#Turn dataframe into a single column\n",
    "bdfmelt=pd.melt(bdf,\"Group\",var_name='Odor')\n",
    "cfmelt=pd.melt(composite_full,'Group',var_name='Odor')"
   ]
  },
  {
   "cell_type": "code",
   "execution_count": 86,
   "metadata": {
    "collapsed": true
   },
   "outputs": [
    {
     "data": {
      "text/html": [
       "<div>\n",
       "<table border=\"1\" class=\"dataframe\">\n",
       "  <thead>\n",
       "    <tr style=\"text-align: right;\">\n",
       "      <th></th>\n",
       "      <th>Group</th>\n",
       "      <th>Odor</th>\n",
       "      <th>value</th>\n",
       "      <th>value</th>\n",
       "    </tr>\n",
       "  </thead>\n",
       "  <tbody>\n",
       "    <tr>\n",
       "      <th>13540</th>\n",
       "      <td>Mint</td>\n",
       "      <td>EB</td>\n",
       "      <td>0.479948</td>\n",
       "      <td>810.413917</td>\n",
       "    </tr>\n",
       "    <tr>\n",
       "      <th>13541</th>\n",
       "      <td>Mint</td>\n",
       "      <td>EB</td>\n",
       "      <td>0.367013</td>\n",
       "      <td>719.335792</td>\n",
       "    </tr>\n",
       "    <tr>\n",
       "      <th>13542</th>\n",
       "      <td>Mint</td>\n",
       "      <td>EB</td>\n",
       "      <td>0.238822</td>\n",
       "      <td>880.315292</td>\n",
       "    </tr>\n",
       "    <tr>\n",
       "      <th>13543</th>\n",
       "      <td>Mint</td>\n",
       "      <td>EB</td>\n",
       "      <td>0.259046</td>\n",
       "      <td>1241.160417</td>\n",
       "    </tr>\n",
       "    <tr>\n",
       "      <th>13544</th>\n",
       "      <td>Mint</td>\n",
       "      <td>EB</td>\n",
       "      <td>0.313997</td>\n",
       "      <td>1080.826792</td>\n",
       "    </tr>\n",
       "  </tbody>\n",
       "</table>\n",
       "</div>"
      ],
      "text/plain": [
       "      Group Odor     value        value\n",
       "13540  Mint   EB  0.479948   810.413917\n",
       "13541  Mint   EB  0.367013   719.335792\n",
       "13542  Mint   EB  0.238822   880.315292\n",
       "13543  Mint   EB  0.259046  1241.160417\n",
       "13544  Mint   EB  0.313997  1080.826792"
      ]
     },
     "execution_count": 86,
     "metadata": {},
     "output_type": "execute_result"
    }
   ],
   "source": [
    "#Make a dataframe so you can plot the correlation\n",
    "plotcorr=pd.concat([cfmelt,bdfmelt['value']],axis=1)\n",
    "plotcorr.tail()"
   ]
  },
  {
   "cell_type": "code",
   "execution_count": 99,
   "metadata": {
    "collapsed": true
   },
   "outputs": [
    {
     "data": {
      "text/html": [
       "<div>\n",
       "<table border=\"1\" class=\"dataframe\">\n",
       "  <thead>\n",
       "    <tr style=\"text-align: right;\">\n",
       "      <th></th>\n",
       "      <th>Group</th>\n",
       "      <th>Odor</th>\n",
       "      <th>DFF</th>\n",
       "      <th>Baseline</th>\n",
       "    </tr>\n",
       "  </thead>\n",
       "  <tbody>\n",
       "    <tr>\n",
       "      <th>0</th>\n",
       "      <td>Control</td>\n",
       "      <td>THA</td>\n",
       "      <td>0.212200</td>\n",
       "      <td>2191.580000</td>\n",
       "    </tr>\n",
       "    <tr>\n",
       "      <th>1</th>\n",
       "      <td>Control</td>\n",
       "      <td>THA</td>\n",
       "      <td>0.066122</td>\n",
       "      <td>1733.676000</td>\n",
       "    </tr>\n",
       "    <tr>\n",
       "      <th>2</th>\n",
       "      <td>Control</td>\n",
       "      <td>THA</td>\n",
       "      <td>0.022259</td>\n",
       "      <td>1567.613708</td>\n",
       "    </tr>\n",
       "    <tr>\n",
       "      <th>3</th>\n",
       "      <td>Control</td>\n",
       "      <td>THA</td>\n",
       "      <td>0.145203</td>\n",
       "      <td>829.527875</td>\n",
       "    </tr>\n",
       "    <tr>\n",
       "      <th>4</th>\n",
       "      <td>Control</td>\n",
       "      <td>THA</td>\n",
       "      <td>0.155862</td>\n",
       "      <td>886.599167</td>\n",
       "    </tr>\n",
       "  </tbody>\n",
       "</table>\n",
       "</div>"
      ],
      "text/plain": [
       "     Group Odor       DFF     Baseline\n",
       "0  Control  THA  0.212200  2191.580000\n",
       "1  Control  THA  0.066122  1733.676000\n",
       "2  Control  THA  0.022259  1567.613708\n",
       "3  Control  THA  0.145203   829.527875\n",
       "4  Control  THA  0.155862   886.599167"
      ]
     },
     "execution_count": 99,
     "metadata": {},
     "output_type": "execute_result"
    }
   ],
   "source": [
    "#Rename these columns to what they're supposed to be\n",
    "plotcorr.columns=['Group','Odor','DFF','Baseline']\n",
    "plotcorr.head()"
   ]
  },
  {
   "cell_type": "code",
   "execution_count": 108,
   "metadata": {
    "collapsed": false
   },
   "outputs": [],
   "source": [
    "#Plot Baseline vs. DFF as a scatterplot\n",
    "sns.set(style=\"white\", palette=\"muted\", color_codes=True);\n",
    "sns.set_context(\"talk\",font_scale=1.4);\n",
    "plotcorr.plot(x='DFF',y='Baseline',kind='scatter')\n",
    "plt.ylabel('Baseline Intensity');\n",
    "plt.title('Peak DF/F vs. Baseline');\n",
    "plt.xlabel('Peak DF/F');"
   ]
  },
  {
   "cell_type": "code",
   "execution_count": 101,
   "metadata": {
    "collapsed": false
   },
   "outputs": [
    {
     "data": {
      "text/plain": [
       "-0.30211262511970655"
      ]
     },
     "execution_count": 101,
     "metadata": {},
     "output_type": "execute_result"
    }
   ],
   "source": [
    "#Calculate the spearman coefficient between DFF and Baseline\n",
    "#rho is the coefficient, pval is the pvalue\n",
    "from scipy.stats import spearmanr\n",
    "rho,pval=spearmanr(plotcorr['DFF'],plotcorr['Baseline'])\n",
    "rho"
   ]
  },
  {
   "cell_type": "code",
   "execution_count": 42,
   "metadata": {
    "collapsed": false
   },
   "outputs": [],
   "source": [
    "#Corr based on treatment groups\n",
    "CC=composite_full[composite_full['Group']=='Control']\n",
    "MM=composite_full[composite_full['Group']=='Mint']\n",
    "HH=composite_full[composite_full['Group']=='Hexanal']\n",
    "\n",
    "CB=bdf[bdf['Group']=='Control']\n",
    "MB=bdf[bdf['Group']=='Mint']\n",
    "HB=bdf[bdf['Group']=='Hexanal']\n",
    "\n",
    "CCcorr=CC.corr()\n",
    "MMcorr=MM.corr()\n",
    "HHcorr=HH.corr()\n",
    "CBcorr=CB.corr()\n",
    "MBcorr=MB.corr()\n",
    "HBcorr=HB.corr()\n",
    "\n",
    "Ctrlcorr=CC.corrwith(CB)\n",
    "Mintcorr=MM.corrwith(MB)\n",
    "Hexcorr=HH.corrwith(HB)\n",
    "\n",
    "CtrlCdf=pd.DataFrame(Ctrlcorr)\n",
    "CtrlCdf=CtrlCdf.transpose()\n",
    "MintCdf=pd.DataFrame(Mintcorr)\n",
    "MintCdf=MintCdf.transpose()\n",
    "HexCdf=pd.DataFrame(Hexcorr)\n",
    "HexCdf=HexCdf.transpose()\n",
    "tmp=[CtrlCdf,MintCdf,HexCdf]\n",
    "\n",
    "CompleteCorrDF=pd.concat(tmp)"
   ]
  },
  {
   "cell_type": "code",
   "execution_count": null,
   "metadata": {
    "collapsed": true
   },
   "outputs": [],
   "source": [
    "sns.set(style=\"white\", palette=\"muted\", color_codes=True);\n",
    "sns.set_context(\"talk\",font_scale=1.8);\n",
    "plt.figure(figsize=(55,20));\n",
    "sns.pointplot();\n",
    "sns.despine()\n",
    "plt.ylabel('COV', fontsize=48);\n",
    "plt.title('COV Peak DF/F - Methyl Salicylate',fontsize=55);\n",
    "plt.xlabel('Odor',fontsize=48);\n",
    "plt.legend(loc=2,prop={'size':48});"
   ]
  },
  {
   "cell_type": "markdown",
   "metadata": {},
   "source": [
    "# Composite Graphs"
   ]
  },
  {
   "cell_type": "code",
   "execution_count": 317,
   "metadata": {
    "collapsed": false,
    "scrolled": true
   },
   "outputs": [],
   "source": [
    "sns.set(style=\"white\", palette=\"muted\", color_codes=True);\n",
    "sns.set_context(\"talk\",font_scale=2.2);\n",
    "plt.figure(figsize=(45,20));\n",
    "ax=sns.barplot(x=\"Odor\", y=\"value\", hue=\"Group\",palette={\"Control\": \"r\", \"Hexanal\": \"b\",\"Mint\":\"g\"}, data=cfull);\n",
    "sns.despine()\n",
    "plt.ylabel('Peak DF/F', fontsize=48);\n",
    "plt.title('Peak DF/F',fontsize=55);\n",
    "plt.xlabel('Odor',fontsize=48);\n",
    "plt.legend(loc=2,prop={'size':48});"
   ]
  },
  {
   "cell_type": "code",
   "execution_count": 14,
   "metadata": {
    "collapsed": false
   },
   "outputs": [],
   "source": [
    "# sns.set_context(\"talk\",font_scale=1.9);\n",
    "# sns.set(style=\"white\", palette=\"muted\", color_codes=True);\n",
    "# plt.figure(figsize=(8, 6));\n",
    "# violinplot=sns.violinplot(x=\"Odor\", y=\"value\", hue=\"Group\", data=cfull);\n",
    "# violinplot.set(ylabel='Peak DF/F');"
   ]
  },
  {
   "cell_type": "code",
   "execution_count": 318,
   "metadata": {
    "collapsed": true
   },
   "outputs": [],
   "source": [
    "sns.set(style=\"white\", palette=\"muted\", color_codes=True);\n",
    "sns.set_context(\"talk\",font_scale=2.2);\n",
    "plt.figure(figsize=(45,20));\n",
    "ax=sns.boxplot(x=\"Odor\", y=\"value\", hue=\"Group\",palette={\"Control\": \"r\", \"Hexanal\": \"b\",\"Mint\":\"g\"}, data=cfull);\n",
    "sns.despine()\n",
    "plt.ylabel('Peak DF/F', fontsize=48);\n",
    "plt.title('Peak DF/F',fontsize=55);\n",
    "plt.xlabel('Odor',fontsize=48);\n",
    "plt.legend(loc=2,prop={'size':48});"
   ]
  },
  {
   "cell_type": "markdown",
   "metadata": {
    "collapsed": true
   },
   "source": [
    "# Concentration based graphs"
   ]
  },
  {
   "cell_type": "markdown",
   "metadata": {},
   "source": [
    "# MS"
   ]
  },
  {
   "cell_type": "code",
   "execution_count": 5,
   "metadata": {
    "collapsed": false
   },
   "outputs": [
    {
     "data": {
      "text/html": [
       "<div>\n",
       "<table border=\"1\" class=\"dataframe\">\n",
       "  <thead>\n",
       "    <tr style=\"text-align: right;\">\n",
       "      <th></th>\n",
       "      <th>Group</th>\n",
       "      <th>Odor</th>\n",
       "      <th>value</th>\n",
       "    </tr>\n",
       "  </thead>\n",
       "  <tbody>\n",
       "    <tr>\n",
       "      <th>0</th>\n",
       "      <td>Control</td>\n",
       "      <td>MS 0.01</td>\n",
       "      <td>0.127301</td>\n",
       "    </tr>\n",
       "    <tr>\n",
       "      <th>1</th>\n",
       "      <td>Control</td>\n",
       "      <td>MS 0.01</td>\n",
       "      <td>0.074838</td>\n",
       "    </tr>\n",
       "    <tr>\n",
       "      <th>2</th>\n",
       "      <td>Control</td>\n",
       "      <td>MS 0.01</td>\n",
       "      <td>0.094999</td>\n",
       "    </tr>\n",
       "    <tr>\n",
       "      <th>3</th>\n",
       "      <td>Control</td>\n",
       "      <td>MS 0.01</td>\n",
       "      <td>0.107146</td>\n",
       "    </tr>\n",
       "    <tr>\n",
       "      <th>4</th>\n",
       "      <td>Control</td>\n",
       "      <td>MS 0.01</td>\n",
       "      <td>0.147167</td>\n",
       "    </tr>\n",
       "  </tbody>\n",
       "</table>\n",
       "</div>"
      ],
      "text/plain": [
       "     Group     Odor     value\n",
       "0  Control  MS 0.01  0.127301\n",
       "1  Control  MS 0.01  0.074838\n",
       "2  Control  MS 0.01  0.094999\n",
       "3  Control  MS 0.01  0.107146\n",
       "4  Control  MS 0.01  0.147167"
      ]
     },
     "execution_count": 5,
     "metadata": {},
     "output_type": "execute_result"
    }
   ],
   "source": [
    "MS_full=composite_full[['Group','MS 0.01','MS 0.05','MS 0.1']]\n",
    "MSdf=pd.melt(MS_full,\"Group\",var_name=\"Odor\")\n",
    "MSdf.head()"
   ]
  },
  {
   "cell_type": "code",
   "execution_count": 325,
   "metadata": {
    "collapsed": false
   },
   "outputs": [],
   "source": [
    "sns.set(style=\"white\", palette=\"muted\", color_codes=True);\n",
    "sns.set_context(\"talk\",font_scale=4.3);\n",
    "plt.figure(figsize=(30, 20));\n",
    "sns.barplot(x=\"Odor\", y=\"value\", hue=\"Group\",palette={\"Control\": \"r\", \"Hexanal\": \"b\",\"Mint\":\"g\"}, data=MSdf);\n",
    "sns.despine()\n",
    "plt.legend(loc='upper right');\n",
    "plt.ylabel('Peak DF/F');\n",
    "plt.title('Peak DF/F');"
   ]
  },
  {
   "cell_type": "code",
   "execution_count": 326,
   "metadata": {
    "collapsed": true
   },
   "outputs": [],
   "source": [
    "sns.set(style=\"white\", palette=\"muted\", color_codes=True);\n",
    "sns.set_context(\"talk\",font_scale=4.3);\n",
    "plt.figure(figsize=(30, 20));\n",
    "sns.boxplot(x=\"Odor\", y=\"value\", hue=\"Group\",palette={\"Control\": \"r\", \"Hexanal\": \"b\",\"Mint\":\"g\"}, data=MSdf);\n",
    "sns.despine()\n",
    "plt.legend(loc='upper right');\n",
    "plt.ylabel('Peak DF/F');\n",
    "plt.title('Peak DF/F');"
   ]
  },
  {
   "cell_type": "markdown",
   "metadata": {},
   "source": [
    "# Histograms (MS)"
   ]
  },
  {
   "cell_type": "code",
   "execution_count": 4,
   "metadata": {
    "collapsed": false
   },
   "outputs": [
    {
     "ename": "NameError",
     "evalue": "name 'MS_full' is not defined",
     "output_type": "error",
     "traceback": [
      "\u001b[1;31m---------------------------------------------------------------------------\u001b[0m",
      "\u001b[1;31mNameError\u001b[0m                                 Traceback (most recent call last)",
      "\u001b[1;32m<ipython-input-4-eb304979e053>\u001b[0m in \u001b[0;36m<module>\u001b[1;34m()\u001b[0m\n\u001b[1;32m----> 1\u001b[1;33m \u001b[0mMSctrl\u001b[0m\u001b[1;33m=\u001b[0m\u001b[0mMS_full\u001b[0m\u001b[1;33m[\u001b[0m\u001b[0mMS_full\u001b[0m\u001b[1;33m[\u001b[0m\u001b[1;34m'Group'\u001b[0m\u001b[1;33m]\u001b[0m \u001b[1;33m==\u001b[0m \u001b[1;34m'Control'\u001b[0m\u001b[1;33m]\u001b[0m\u001b[1;33m\u001b[0m\u001b[0m\n\u001b[0m\u001b[0;32m      2\u001b[0m \u001b[0mMSMS\u001b[0m\u001b[1;33m=\u001b[0m\u001b[0mMS_full\u001b[0m\u001b[1;33m[\u001b[0m\u001b[0mMS_full\u001b[0m\u001b[1;33m[\u001b[0m\u001b[1;34m'Group'\u001b[0m\u001b[1;33m]\u001b[0m \u001b[1;33m==\u001b[0m \u001b[1;34m'Mint'\u001b[0m\u001b[1;33m]\u001b[0m\u001b[1;33m\u001b[0m\u001b[0m\n\u001b[0;32m      3\u001b[0m \u001b[0mMShex\u001b[0m\u001b[1;33m=\u001b[0m\u001b[0mMS_full\u001b[0m\u001b[1;33m[\u001b[0m\u001b[0mMS_full\u001b[0m\u001b[1;33m[\u001b[0m\u001b[1;34m'Group'\u001b[0m\u001b[1;33m]\u001b[0m \u001b[1;33m==\u001b[0m \u001b[1;34m'Hexanal'\u001b[0m\u001b[1;33m]\u001b[0m\u001b[1;33m\u001b[0m\u001b[0m\n\u001b[0;32m      4\u001b[0m \u001b[0mMSctrl\u001b[0m\u001b[1;33m.\u001b[0m\u001b[0mtail\u001b[0m\u001b[1;33m(\u001b[0m\u001b[1;33m)\u001b[0m\u001b[1;33m\u001b[0m\u001b[0m\n",
      "\u001b[1;31mNameError\u001b[0m: name 'MS_full' is not defined"
     ]
    }
   ],
   "source": [
    "MSctrl=MS_full[MS_full['Group'] == 'Control']\n",
    "MSMS=MS_full[MS_full['Group'] == 'Mint']\n",
    "MShex=MS_full[MS_full['Group'] == 'Hexanal']\n",
    "MSctrl.tail()"
   ]
  },
  {
   "cell_type": "code",
   "execution_count": 366,
   "metadata": {
    "collapsed": true
   },
   "outputs": [],
   "source": [
    "# Control, MS Concentration\n",
    "sns.set(style=\"white\", palette=\"muted\", color_codes=True)\n",
    "sns.set_context(\"talk\", font_scale=2)\n",
    "# Set up the matplotlib figure\n",
    "f, axes = plt.subplots(2, 2, figsize=(30, 20), sharex=True)\n",
    "# f.suptitle(\"Control, MS Concentration\", fontsize=40)\n",
    "sns.despine(left=True)\n",
    "\n",
    "#data\n",
    "d = MSctrl['MS 0.01']\n",
    "e = MSctrl['MS 0.05']\n",
    "f = MSctrl['MS 0.1']\n",
    "\n",
    "# Plot a simple histogram with binsize determined automatically\n",
    "sns.distplot(d, kde=False, color=\"b\", hist_kws={\"histtype\":'step',\"linewidth\":3,\"alpha\":0.7},axlabel= False,ax=axes[0, 0])\n",
    "sns.distplot(e, kde=False, color=\"g\", hist_kws={\"histtype\":'step',\"linewidth\":3,\"alpha\":0.7},axlabel= False,ax=axes[0, 0])\n",
    "sns.distplot(f, kde=False, color=\"r\", hist_kws={\"histtype\":'step',\"linewidth\":3,\"alpha\":0.7},axlabel= False,ax=axes[0, 0])\n",
    "\n",
    "# Plot a kernel density estimate and rug plot\n",
    "sns.distplot(d, hist=False, rug=True, color=\"b\", axlabel= False,ax=axes[0, 1],label=\"MS 0.01\")\n",
    "sns.distplot(e, hist=False, rug=True, color=\"g\", axlabel= False,ax=axes[0, 1],label=\"MS 0.05\")\n",
    "sns.distplot(f, hist=False, rug=True, color=\"r\", axlabel= False,ax=axes[0, 1],label=\"MS 0.1\")\n",
    "\n",
    "# Plot a filled kernel density estimate\n",
    "sns.distplot(d, hist=False, color=\"b\", kde_kws={\"shade\": True}, axlabel=False,ax=axes[1, 0])\n",
    "sns.distplot(e, hist=False, color=\"g\", kde_kws={\"shade\": True}, axlabel=False,ax=axes[1, 0])\n",
    "sns.distplot(f, hist=False, color=\"r\", kde_kws={\"shade\": True}, axlabel= False,ax=axes[1, 0])\n",
    "\n",
    "# Plot a historgram and kernel density estimate\n",
    "sns.distplot(d, color=\"b\",axlabel= False,ax=axes[1, 1])\n",
    "sns.distplot(e, color=\"g\",axlabel= False,ax=axes[1, 1])\n",
    "sns.distplot(f, color=\"r\",axlabel= False,ax=axes[1, 1])\n",
    "\n",
    "plt.setp(axes, yticks=[])\n",
    "plt.tight_layout()"
   ]
  },
  {
   "cell_type": "code",
   "execution_count": 368,
   "metadata": {
    "collapsed": true
   },
   "outputs": [],
   "source": [
    "# Hexanal, MS Concentration\n",
    "sns.set(style=\"white\", palette=\"muted\", color_codes=True)\n",
    "sns.set_context(\"talk\", font_scale=2)\n",
    "# Set up the matplotlib figure\n",
    "f, axes = plt.subplots(2, 2, figsize=(30,20), sharex=True)\n",
    "# f.suptitle(\"Hexanal, MS Concentration\", fontsize=44)\n",
    "sns.despine(left=True)\n",
    "\n",
    "#data\n",
    "d = MShex['MS 0.01']\n",
    "e = MShex['MS 0.05']\n",
    "f = MShex['MS 0.1']\n",
    "\n",
    "# Plot a simple histogram with binsize determined automatically\n",
    "sns.distplot(d, kde=False, color=\"b\", hist_kws={\"histtype\":'step',\"linewidth\":3,\"alpha\":0.7},axlabel= False,ax=axes[0, 0])\n",
    "sns.distplot(e, kde=False, color=\"g\", hist_kws={\"histtype\":'step',\"linewidth\":3,\"alpha\":0.7},axlabel= False,ax=axes[0, 0])\n",
    "sns.distplot(f, kde=False, color=\"r\", hist_kws={\"histtype\":'step',\"linewidth\":3,\"alpha\":0.7},axlabel= False,ax=axes[0, 0])\n",
    "\n",
    "# Plot a kernel density estimate and rug plot\n",
    "sns.distplot(d, hist=False, rug=True, color=\"b\", axlabel= False,ax=axes[0, 1],label=\"MS 0.01\")\n",
    "sns.distplot(e, hist=False, rug=True, color=\"g\", axlabel= False,ax=axes[0, 1],label=\"MS 0.05\")\n",
    "sns.distplot(f, hist=False, rug=True, color=\"r\", axlabel= False,ax=axes[0, 1],label=\"MS 0.1\")\n",
    "\n",
    "# Plot a filled kernel density estimate\n",
    "sns.distplot(d, hist=False, color=\"b\", kde_kws={\"shade\": True}, axlabel=False,ax=axes[1, 0])\n",
    "sns.distplot(e, hist=False, color=\"g\", kde_kws={\"shade\": True}, axlabel=False,ax=axes[1, 0])\n",
    "sns.distplot(f, hist=False, color=\"r\", kde_kws={\"shade\": True}, axlabel= False,ax=axes[1, 0])\n",
    "\n",
    "# Plot a historgram and kernel density estimate\n",
    "sns.distplot(d, color=\"b\",axlabel= False,ax=axes[1, 1])\n",
    "sns.distplot(e, color=\"g\",axlabel= False,ax=axes[1, 1])\n",
    "sns.distplot(f, color=\"r\",axlabel= False,ax=axes[1, 1])\n",
    "\n",
    "plt.setp(axes, yticks=[])\n",
    "plt.tight_layout()"
   ]
  },
  {
   "cell_type": "code",
   "execution_count": 369,
   "metadata": {
    "collapsed": false,
    "scrolled": true
   },
   "outputs": [],
   "source": [
    "# Mint, MS Concentration\n",
    "sns.set(style=\"white\", palette=\"muted\", color_codes=True)\n",
    "sns.set_context(\"talk\", font_scale=2)\n",
    "# Set up the matplotlib figure\n",
    "f, axes = plt.subplots(2, 2, figsize=(30,20), sharex=True)\n",
    "# f.suptitle(\"Mint, MS Concentration\", fontsize=44)\n",
    "sns.despine(left=True)\n",
    "\n",
    "#data\n",
    "d = MSMS['MS 0.01']\n",
    "e = MSMS['MS 0.05']\n",
    "f = MSMS['MS 0.1']\n",
    "\n",
    "# Plot a simple histogram with binsize determined automatically\n",
    "sns.distplot(d, kde=False, color=\"b\", hist_kws={\"histtype\":'step',\"linewidth\":3,\"alpha\":0.7},axlabel= False,ax=axes[0, 0])\n",
    "sns.distplot(e, kde=False, color=\"g\", hist_kws={\"histtype\":'step',\"linewidth\":3,\"alpha\":0.7},axlabel= False,ax=axes[0, 0])\n",
    "sns.distplot(f, kde=False, color=\"r\", hist_kws={\"histtype\":'step',\"linewidth\":3,\"alpha\":0.7},axlabel= False,ax=axes[0, 0])\n",
    "\n",
    "# Plot a kernel density estimate and rug plot\n",
    "sns.distplot(d, hist=False, rug=True, color=\"b\", axlabel= False,ax=axes[0, 1],label=\"MS 0.01\")\n",
    "sns.distplot(e, hist=False, rug=True, color=\"g\", axlabel= False,ax=axes[0, 1],label=\"MS 0.05\")\n",
    "sns.distplot(f, hist=False, rug=True, color=\"r\", axlabel= False,ax=axes[0, 1],label=\"MS 0.1\")\n",
    "\n",
    "# Plot a filled kernel density estimate\n",
    "sns.distplot(d, hist=False, color=\"b\", kde_kws={\"shade\": True}, axlabel=False,ax=axes[1, 0])\n",
    "sns.distplot(e, hist=False, color=\"g\", kde_kws={\"shade\": True}, axlabel=False,ax=axes[1, 0])\n",
    "sns.distplot(f, hist=False, color=\"r\", kde_kws={\"shade\": True}, axlabel= False,ax=axes[1, 0])\n",
    "\n",
    "# Plot a historgram and kernel density estimate\n",
    "sns.distplot(d, color=\"b\",axlabel= False,ax=axes[1, 1])\n",
    "sns.distplot(e, color=\"g\",axlabel= False,ax=axes[1, 1])\n",
    "sns.distplot(f, color=\"r\",axlabel= False,ax=axes[1, 1])\n",
    "\n",
    "plt.setp(axes, yticks=[])\n",
    "plt.tight_layout()"
   ]
  },
  {
   "cell_type": "markdown",
   "metadata": {},
   "source": [
    "# Hexanal"
   ]
  },
  {
   "cell_type": "code",
   "execution_count": 23,
   "metadata": {
    "collapsed": false
   },
   "outputs": [],
   "source": [
    "H_full=composite_full[['Group','Hexanal 0.01','Hexanal 0.05','Hexanal 0.1']]\n",
    "Hdf=pd.melt(H_full,\"Group\",var_name=\"Odor\")"
   ]
  },
  {
   "cell_type": "code",
   "execution_count": 370,
   "metadata": {
    "collapsed": true
   },
   "outputs": [],
   "source": [
    "sns.set(style=\"white\", palette=\"muted\", color_codes=True);\n",
    "sns.set_context(\"talk\",font_scale=4.3);\n",
    "plt.figure(figsize=(30,20));\n",
    "sns.barplot(x=\"Odor\", y=\"value\", hue=\"Group\",palette={\"Control\": \"r\", \"Hexanal\": \"b\",\"Mint\":\"g\"}, data=Hdf);\n",
    "sns.despine();\n",
    "plt.legend(loc='upper right');\n",
    "plt.ylabel('Peak DF/F');\n",
    "plt.title('Peak DF/F');"
   ]
  },
  {
   "cell_type": "code",
   "execution_count": 328,
   "metadata": {
    "collapsed": true
   },
   "outputs": [],
   "source": [
    "sns.set(style=\"white\", palette=\"muted\", color_codes=True);\n",
    "sns.set_context(\"talk\",font_scale=4.3);\n",
    "plt.figure(figsize=(30,20));\n",
    "sns.boxplot(x=\"Odor\", y=\"value\", hue=\"Group\",palette={\"Control\": \"r\", \"Hexanal\": \"b\",\"Mint\":\"g\"}, data=Hdf);\n",
    "sns.despine()\n",
    "plt.legend(loc='upper right');\n",
    "plt.ylabel('Peak DF/F');\n",
    "plt.title('Peak DF/F');\n",
    "plt.xlabel('Odor');"
   ]
  },
  {
   "cell_type": "markdown",
   "metadata": {},
   "source": [
    "# Histograms (Hexanal)"
   ]
  },
  {
   "cell_type": "code",
   "execution_count": 178,
   "metadata": {
    "collapsed": true
   },
   "outputs": [
    {
     "data": {
      "text/html": [
       "<div>\n",
       "<table border=\"1\" class=\"dataframe\">\n",
       "  <thead>\n",
       "    <tr style=\"text-align: right;\">\n",
       "      <th></th>\n",
       "      <th>Group</th>\n",
       "      <th>Hexanal 0.01</th>\n",
       "      <th>Hexanal 0.05</th>\n",
       "      <th>Hexanal 0.1</th>\n",
       "    </tr>\n",
       "  </thead>\n",
       "  <tbody>\n",
       "    <tr>\n",
       "      <th>266</th>\n",
       "      <td>Hexanal</td>\n",
       "      <td>0.346753</td>\n",
       "      <td>0.300836</td>\n",
       "      <td>0.290083</td>\n",
       "    </tr>\n",
       "    <tr>\n",
       "      <th>267</th>\n",
       "      <td>Hexanal</td>\n",
       "      <td>0.269426</td>\n",
       "      <td>0.349465</td>\n",
       "      <td>0.236634</td>\n",
       "    </tr>\n",
       "    <tr>\n",
       "      <th>268</th>\n",
       "      <td>Hexanal</td>\n",
       "      <td>0.359969</td>\n",
       "      <td>0.422324</td>\n",
       "      <td>0.416844</td>\n",
       "    </tr>\n",
       "    <tr>\n",
       "      <th>269</th>\n",
       "      <td>Hexanal</td>\n",
       "      <td>0.136656</td>\n",
       "      <td>0.135468</td>\n",
       "      <td>0.124364</td>\n",
       "    </tr>\n",
       "    <tr>\n",
       "      <th>270</th>\n",
       "      <td>Hexanal</td>\n",
       "      <td>0.188876</td>\n",
       "      <td>0.200218</td>\n",
       "      <td>0.136488</td>\n",
       "    </tr>\n",
       "  </tbody>\n",
       "</table>\n",
       "</div>"
      ],
      "text/plain": [
       "       Group  Hexanal 0.01  Hexanal 0.05  Hexanal 0.1\n",
       "266  Hexanal      0.346753      0.300836     0.290083\n",
       "267  Hexanal      0.269426      0.349465     0.236634\n",
       "268  Hexanal      0.359969      0.422324     0.416844\n",
       "269  Hexanal      0.136656      0.135468     0.124364\n",
       "270  Hexanal      0.188876      0.200218     0.136488"
      ]
     },
     "execution_count": 178,
     "metadata": {},
     "output_type": "execute_result"
    }
   ],
   "source": [
    "Hctrl=H_full[H_full['Group'] == 'Control']\n",
    "HMS=H_full[H_full['Group'] == 'Mint']\n",
    "HH=H_full[H_full['Group'] == 'Hexanal']\n",
    "HH.head()"
   ]
  },
  {
   "cell_type": "code",
   "execution_count": 373,
   "metadata": {
    "collapsed": true
   },
   "outputs": [],
   "source": [
    "# Control, Hexanal Concentration\n",
    "sns.set(style=\"white\", palette=\"muted\", color_codes=True)\n",
    "sns.set_context(\"talk\", font_scale=2)\n",
    "# Set up the matplotlib figure\n",
    "f, axes = plt.subplots(2, 2, figsize=(30,20), sharex=True)\n",
    "# f.suptitle(\"Control, Hexanal Concentration\", fontsize=44)\n",
    "sns.despine(left=True)\n",
    "\n",
    "#data\n",
    "d = Hctrl['Hexanal 0.01']\n",
    "e = Hctrl['Hexanal 0.05']\n",
    "f = Hctrl['Hexanal 0.1']\n",
    "\n",
    "# Plot a simple histogram with binsize determined automatically\n",
    "sns.distplot(d, kde=False, color=\"b\", hist_kws={\"histtype\":'step',\"linewidth\":3,\"alpha\":0.7},axlabel= False,ax=axes[0, 0])\n",
    "sns.distplot(e, kde=False, color=\"g\", hist_kws={\"histtype\":'step',\"linewidth\":3,\"alpha\":0.7},axlabel= False,ax=axes[0, 0])\n",
    "sns.distplot(f, kde=False, color=\"r\", hist_kws={\"histtype\":'step',\"linewidth\":3,\"alpha\":0.7},axlabel= False,ax=axes[0, 0])\n",
    "\n",
    "# Plot a kernel density estimate and rug plot\n",
    "sns.distplot(d, hist=False, rug=True, color=\"b\", axlabel= False,ax=axes[0, 1],label=\"Hexanal 0.01\")\n",
    "sns.distplot(e, hist=False, rug=True, color=\"g\", axlabel= False,ax=axes[0, 1],label=\"Hexanal 0.05\")\n",
    "sns.distplot(f, hist=False, rug=True, color=\"r\", axlabel= False,ax=axes[0, 1],label=\"Hexanal 0.1\")\n",
    "\n",
    "# Plot a filled kernel density estimate\n",
    "sns.distplot(d, hist=False, color=\"b\", kde_kws={\"shade\": True}, axlabel=False,ax=axes[1, 0])\n",
    "sns.distplot(e, hist=False, color=\"g\", kde_kws={\"shade\": True}, axlabel=False,ax=axes[1, 0])\n",
    "sns.distplot(f, hist=False, color=\"r\", kde_kws={\"shade\": True}, axlabel= False,ax=axes[1, 0])\n",
    "\n",
    "# Plot a historgram and kernel density estimate\n",
    "sns.distplot(d, color=\"b\",axlabel= False,ax=axes[1, 1])\n",
    "sns.distplot(e, color=\"g\",axlabel= False,ax=axes[1, 1])\n",
    "sns.distplot(f, color=\"r\",axlabel= False,ax=axes[1, 1])\n",
    "\n",
    "plt.setp(axes, yticks=[])\n",
    "plt.tight_layout()"
   ]
  },
  {
   "cell_type": "code",
   "execution_count": 372,
   "metadata": {
    "collapsed": true
   },
   "outputs": [],
   "source": [
    "# Hexanal, Hexanal Concentration\n",
    "sns.set(style=\"white\", palette=\"muted\", color_codes=True)\n",
    "sns.set_context(\"talk\", font_scale=2)\n",
    "# Set up the matplotlib figure\n",
    "f, axes = plt.subplots(2, 2, figsize=(30,20), sharex=True)\n",
    "# f.suptitle(\"Hexanal, Hexanal Concentration\", fontsize=44)\n",
    "sns.despine(left=True)\n",
    "\n",
    "#data\n",
    "d = HH['Hexanal 0.01']\n",
    "e = HH['Hexanal 0.05']\n",
    "f = HH['Hexanal 0.1']\n",
    "\n",
    "# Plot a simple histogram with binsize determined automatically\n",
    "sns.distplot(d, kde=False, color=\"b\", hist_kws={\"histtype\":'step',\"linewidth\":3,\"alpha\":0.7},axlabel= False,ax=axes[0, 0])\n",
    "sns.distplot(e, kde=False, color=\"g\", hist_kws={\"histtype\":'step',\"linewidth\":3,\"alpha\":0.7},axlabel= False,ax=axes[0, 0])\n",
    "sns.distplot(f, kde=False, color=\"r\", hist_kws={\"histtype\":'step',\"linewidth\":3,\"alpha\":0.7},axlabel= False,ax=axes[0, 0])\n",
    "\n",
    "# Plot a kernel density estimate and rug plot\n",
    "sns.distplot(d, hist=False, rug=True, color=\"b\", axlabel= False,ax=axes[0, 1],label=\"Hexanal 0.01\")\n",
    "sns.distplot(e, hist=False, rug=True, color=\"g\", axlabel= False,ax=axes[0, 1],label=\"Hexanal 0.05\")\n",
    "sns.distplot(f, hist=False, rug=True, color=\"r\", axlabel= False,ax=axes[0, 1],label=\"Hexanal 0.1\")\n",
    "\n",
    "# Plot a filled kernel density estimate\n",
    "sns.distplot(d, hist=False, color=\"b\", kde_kws={\"shade\": True}, axlabel=False,ax=axes[1, 0])\n",
    "sns.distplot(e, hist=False, color=\"g\", kde_kws={\"shade\": True}, axlabel=False,ax=axes[1, 0])\n",
    "sns.distplot(f, hist=False, color=\"r\", kde_kws={\"shade\": True}, axlabel= False,ax=axes[1, 0])\n",
    "\n",
    "# Plot a historgram and kernel density estimate\n",
    "sns.distplot(d, color=\"b\",axlabel= False,ax=axes[1, 1])\n",
    "sns.distplot(e, color=\"g\",axlabel= False,ax=axes[1, 1])\n",
    "sns.distplot(f, color=\"r\",axlabel= False,ax=axes[1, 1])\n",
    "\n",
    "plt.setp(axes, yticks=[])\n",
    "plt.tight_layout()"
   ]
  },
  {
   "cell_type": "code",
   "execution_count": 374,
   "metadata": {
    "collapsed": true
   },
   "outputs": [],
   "source": [
    "# Mint, Hexanal Concentration\n",
    "sns.set(style=\"white\", palette=\"muted\", color_codes=True)\n",
    "sns.set_context(\"talk\", font_scale=2)\n",
    "# Set up the matplotlib figure\n",
    "f, axes = plt.subplots(2, 2, figsize=(30,20), sharex=True)\n",
    "# f.suptitle(\"Mint, Hexanal Concentration\", fontsize=44)\n",
    "sns.despine(left=True)\n",
    "\n",
    "#data\n",
    "d = HMS['Hexanal 0.01']\n",
    "e = HMS['Hexanal 0.05']\n",
    "f = HMS['Hexanal 0.1']\n",
    "\n",
    "# Plot a simple histogram with binsize determined automatically\n",
    "sns.distplot(d, kde=False, color=\"b\", hist_kws={\"histtype\":'step',\"linewidth\":3,\"alpha\":0.7},axlabel= False,ax=axes[0, 0])\n",
    "sns.distplot(e, kde=False, color=\"g\", hist_kws={\"histtype\":'step',\"linewidth\":3,\"alpha\":0.7},axlabel= False,ax=axes[0, 0])\n",
    "sns.distplot(f, kde=False, color=\"r\", hist_kws={\"histtype\":'step',\"linewidth\":3,\"alpha\":0.7},axlabel= False,ax=axes[0, 0])\n",
    "\n",
    "# Plot a kernel density estimate and rug plot\n",
    "sns.distplot(d, hist=False, rug=True, color=\"b\", axlabel= False,ax=axes[0, 1],label=\"Hexanal 0.01\")\n",
    "sns.distplot(e, hist=False, rug=True, color=\"g\", axlabel= False,ax=axes[0, 1],label=\"Hexanal 0.05\")\n",
    "sns.distplot(f, hist=False, rug=True, color=\"r\", axlabel= False,ax=axes[0, 1],label=\"Hexanal 0.1\")\n",
    "\n",
    "# Plot a filled kernel density estimate\n",
    "sns.distplot(d, hist=False, color=\"b\", kde_kws={\"shade\": True}, axlabel=False,ax=axes[1, 0])\n",
    "sns.distplot(e, hist=False, color=\"g\", kde_kws={\"shade\": True}, axlabel=False,ax=axes[1, 0])\n",
    "sns.distplot(f, hist=False, color=\"r\", kde_kws={\"shade\": True}, axlabel= False,ax=axes[1, 0])\n",
    "\n",
    "# Plot a historgram and kernel density estimate\n",
    "sns.distplot(d, color=\"b\",axlabel= False,ax=axes[1, 1])\n",
    "sns.distplot(e, color=\"g\",axlabel= False,ax=axes[1, 1])\n",
    "sns.distplot(f, color=\"r\",axlabel= False,ax=axes[1, 1])\n",
    "\n",
    "plt.setp(axes, yticks=[])\n",
    "plt.tight_layout()"
   ]
  },
  {
   "cell_type": "markdown",
   "metadata": {},
   "source": [
    "# IAA"
   ]
  },
  {
   "cell_type": "code",
   "execution_count": 35,
   "metadata": {
    "collapsed": false
   },
   "outputs": [],
   "source": [
    "IAA_full=composite_full[['Group','IAA 0.01','IAA 0.05','IAA 0.1']]\n",
    "IAAdf=pd.melt(MS_full,\"Group\",var_name=\"Odor\")"
   ]
  },
  {
   "cell_type": "code",
   "execution_count": 329,
   "metadata": {
    "collapsed": true
   },
   "outputs": [],
   "source": [
    "sns.set(style=\"white\", palette=\"muted\", color_codes=True);\n",
    "sns.set_context(\"talk\",font_scale=4.3);\n",
    "plt.figure(figsize=(30,20));\n",
    "sns.barplot(x=\"Odor\", y=\"value\", hue=\"Group\",palette={\"Control\": \"r\", \"Hexanal\": \"b\",\"Mint\":\"g\"}, data=IAAdf);\n",
    "sns.despine();\n",
    "plt.legend(loc='upper right');\n",
    "plt.ylabel('Peak DF/F');\n",
    "plt.title('Peak DF/F');\n",
    "plt.xlabel('Odor');"
   ]
  },
  {
   "cell_type": "code",
   "execution_count": 331,
   "metadata": {
    "collapsed": true
   },
   "outputs": [],
   "source": [
    "sns.set(style=\"white\", palette=\"muted\", color_codes=True);\n",
    "sns.set_context(\"talk\",font_scale=4.3);\n",
    "plt.figure(figsize=(30,20));\n",
    "sns.boxplot(x=\"Odor\", y=\"value\", hue=\"Group\",palette={\"Control\": \"r\", \"Hexanal\": \"b\",\"Mint\":\"g\"}, data=IAAdf);\n",
    "sns.despine();\n",
    "plt.legend(loc='upper right');\n",
    "plt.ylabel('Peak DF/F');\n",
    "plt.title('Peak DF/F');\n",
    "plt.xlabel('Odor');"
   ]
  },
  {
   "cell_type": "markdown",
   "metadata": {},
   "source": [
    "# Histograms (IAA)"
   ]
  },
  {
   "cell_type": "code",
   "execution_count": 182,
   "metadata": {
    "collapsed": true
   },
   "outputs": [
    {
     "data": {
      "text/html": [
       "<div>\n",
       "<table border=\"1\" class=\"dataframe\">\n",
       "  <thead>\n",
       "    <tr style=\"text-align: right;\">\n",
       "      <th></th>\n",
       "      <th>Group</th>\n",
       "      <th>IAA 0.01</th>\n",
       "      <th>IAA 0.05</th>\n",
       "      <th>IAA 0.1</th>\n",
       "    </tr>\n",
       "  </thead>\n",
       "  <tbody>\n",
       "    <tr>\n",
       "      <th>266</th>\n",
       "      <td>Hexanal</td>\n",
       "      <td>0.210982</td>\n",
       "      <td>0.082528</td>\n",
       "      <td>0.382490</td>\n",
       "    </tr>\n",
       "    <tr>\n",
       "      <th>267</th>\n",
       "      <td>Hexanal</td>\n",
       "      <td>0.207433</td>\n",
       "      <td>0.068120</td>\n",
       "      <td>0.402160</td>\n",
       "    </tr>\n",
       "    <tr>\n",
       "      <th>268</th>\n",
       "      <td>Hexanal</td>\n",
       "      <td>0.350660</td>\n",
       "      <td>0.130934</td>\n",
       "      <td>0.439151</td>\n",
       "    </tr>\n",
       "    <tr>\n",
       "      <th>269</th>\n",
       "      <td>Hexanal</td>\n",
       "      <td>0.099299</td>\n",
       "      <td>0.042892</td>\n",
       "      <td>0.090707</td>\n",
       "    </tr>\n",
       "    <tr>\n",
       "      <th>270</th>\n",
       "      <td>Hexanal</td>\n",
       "      <td>0.103156</td>\n",
       "      <td>0.026460</td>\n",
       "      <td>0.154604</td>\n",
       "    </tr>\n",
       "  </tbody>\n",
       "</table>\n",
       "</div>"
      ],
      "text/plain": [
       "       Group  IAA 0.01  IAA 0.05   IAA 0.1\n",
       "266  Hexanal  0.210982  0.082528  0.382490\n",
       "267  Hexanal  0.207433  0.068120  0.402160\n",
       "268  Hexanal  0.350660  0.130934  0.439151\n",
       "269  Hexanal  0.099299  0.042892  0.090707\n",
       "270  Hexanal  0.103156  0.026460  0.154604"
      ]
     },
     "execution_count": 182,
     "metadata": {},
     "output_type": "execute_result"
    }
   ],
   "source": [
    "Ictrl=IAA_full[IAA_full['Group'] == 'Control']\n",
    "IMS=IAA_full[IAA_full['Group'] == 'Mint']\n",
    "IH=IAA_full[IAA_full['Group'] == 'Hexanal']\n",
    "IH.head()"
   ]
  },
  {
   "cell_type": "code",
   "execution_count": 375,
   "metadata": {
    "collapsed": false
   },
   "outputs": [],
   "source": [
    "# Control, IAA Concentration\n",
    "sns.set(style=\"white\", palette=\"muted\", color_codes=True)\n",
    "sns.set_context(\"talk\", font_scale=2)\n",
    "# Set up the matplotlib figure\n",
    "f, axes = plt.subplots(2, 2, figsize=(30,20), sharex=True)\n",
    "# f.suptitle(\"Control, IAA Concentration\", fontsize=44)\n",
    "sns.despine(left=True)\n",
    "\n",
    "#data\n",
    "d = Ictrl['IAA 0.01']\n",
    "e = Ictrl['IAA 0.05']\n",
    "f = Ictrl['IAA 0.1']\n",
    "\n",
    "# Plot a simple histogram with binsize determined automatically\n",
    "sns.distplot(d, kde=False, color=\"b\", hist_kws={\"histtype\":'step',\"linewidth\":3,\"alpha\":0.7},axlabel= False,ax=axes[0, 0])\n",
    "sns.distplot(e, kde=False, color=\"g\", hist_kws={\"histtype\":'step',\"linewidth\":3,\"alpha\":0.7},axlabel= False,ax=axes[0, 0])\n",
    "sns.distplot(f, kde=False, color=\"r\", hist_kws={\"histtype\":'step',\"linewidth\":3,\"alpha\":0.7},axlabel= False,ax=axes[0, 0])\n",
    "\n",
    "# Plot a kernel density estimate and rug plot\n",
    "sns.distplot(d, hist=False, rug=True, color=\"b\", axlabel= False,ax=axes[0, 1],label=\"IAA 0.01\")\n",
    "sns.distplot(e, hist=False, rug=True, color=\"g\", axlabel= False,ax=axes[0, 1],label=\"IAA 0.05\")\n",
    "sns.distplot(f, hist=False, rug=True, color=\"r\", axlabel= False,ax=axes[0, 1],label=\"IAA 0.1\")\n",
    "\n",
    "# Plot a filled kernel density estimate\n",
    "sns.distplot(d, hist=False, color=\"b\", kde_kws={\"shade\": True}, axlabel=False,ax=axes[1, 0])\n",
    "sns.distplot(e, hist=False, color=\"g\", kde_kws={\"shade\": True}, axlabel=False,ax=axes[1, 0])\n",
    "sns.distplot(f, hist=False, color=\"r\", kde_kws={\"shade\": True}, axlabel= False,ax=axes[1, 0])\n",
    "\n",
    "# Plot a historgram and kernel density estimate\n",
    "sns.distplot(d, color=\"b\",axlabel= False,ax=axes[1, 1])\n",
    "sns.distplot(e, color=\"g\",axlabel= False,ax=axes[1, 1])\n",
    "sns.distplot(f, color=\"r\",axlabel= False,ax=axes[1, 1])\n",
    "\n",
    "plt.setp(axes, yticks=[])\n",
    "plt.tight_layout()"
   ]
  },
  {
   "cell_type": "code",
   "execution_count": 376,
   "metadata": {
    "collapsed": true
   },
   "outputs": [],
   "source": [
    "# Hexanal, IAA Concentration\n",
    "sns.set(style=\"white\", palette=\"muted\", color_codes=True)\n",
    "sns.set_context(\"talk\", font_scale=2)\n",
    "# Set up the matplotlib figure\n",
    "f, axes = plt.subplots(2, 2, figsize=(30,20), sharex=True)\n",
    "# f.suptitle(\"Hexanal, IAA Concentration\", fontsize=44)\n",
    "sns.despine(left=True)\n",
    "\n",
    "#data\n",
    "d = IH['IAA 0.01']\n",
    "e = IH['IAA 0.05']\n",
    "f = IH['IAA 0.1']\n",
    "\n",
    "# Plot a simple histogram with binsize determined automatically\n",
    "sns.distplot(d, kde=False, color=\"b\", hist_kws={\"histtype\":'step',\"linewidth\":3,\"alpha\":0.7},axlabel= False,ax=axes[0, 0])\n",
    "sns.distplot(e, kde=False, color=\"g\", hist_kws={\"histtype\":'step',\"linewidth\":3,\"alpha\":0.7},axlabel= False,ax=axes[0, 0])\n",
    "sns.distplot(f, kde=False, color=\"r\", hist_kws={\"histtype\":'step',\"linewidth\":3,\"alpha\":0.7},axlabel= False,ax=axes[0, 0])\n",
    "\n",
    "# Plot a kernel density estimate and rug plot\n",
    "sns.distplot(d, hist=False, rug=True, color=\"b\", axlabel= False,ax=axes[0, 1],label=\"IAA 0.01\")\n",
    "sns.distplot(e, hist=False, rug=True, color=\"g\", axlabel= False,ax=axes[0, 1],label=\"IAA 0.05\")\n",
    "sns.distplot(f, hist=False, rug=True, color=\"r\", axlabel= False,ax=axes[0, 1],label=\"IAA 0.1\")\n",
    "\n",
    "# Plot a filled kernel density estimate\n",
    "sns.distplot(d, hist=False, color=\"b\", kde_kws={\"shade\": True}, axlabel=False,ax=axes[1, 0])\n",
    "sns.distplot(e, hist=False, color=\"g\", kde_kws={\"shade\": True}, axlabel=False,ax=axes[1, 0])\n",
    "sns.distplot(f, hist=False, color=\"r\", kde_kws={\"shade\": True}, axlabel= False,ax=axes[1, 0])\n",
    "\n",
    "# Plot a historgram and kernel density estimate\n",
    "sns.distplot(d, color=\"b\",axlabel= False,ax=axes[1, 1])\n",
    "sns.distplot(e, color=\"g\",axlabel= False,ax=axes[1, 1])\n",
    "sns.distplot(f, color=\"r\",axlabel= False,ax=axes[1, 1])\n",
    "\n",
    "plt.setp(axes, yticks=[])\n",
    "plt.tight_layout()"
   ]
  },
  {
   "cell_type": "code",
   "execution_count": 377,
   "metadata": {
    "collapsed": true
   },
   "outputs": [],
   "source": [
    "# Mint, IAA Concentration\n",
    "sns.set(style=\"white\", palette=\"muted\", color_codes=True)\n",
    "sns.set_context(\"talk\", font_scale=2)\n",
    "# Set up the matplotlib figure\n",
    "f, axes = plt.subplots(2, 2, figsize=(30,20), sharex=True)\n",
    "# f.suptitle(\"Mint, IAA Concentration\", fontsize=44)\n",
    "sns.despine(left=True)\n",
    "\n",
    "#data\n",
    "d = IMS['IAA 0.01']\n",
    "e = IMS['IAA 0.05']\n",
    "f = IMS['IAA 0.1']\n",
    "\n",
    "# Plot a simple histogram with binsize determined automatically\n",
    "sns.distplot(d, kde=False, color=\"b\", hist_kws={\"histtype\":'step',\"linewidth\":3,\"alpha\":0.7},axlabel= False,ax=axes[0, 0])\n",
    "sns.distplot(e, kde=False, color=\"g\", hist_kws={\"histtype\":'step',\"linewidth\":3,\"alpha\":0.7},axlabel= False,ax=axes[0, 0])\n",
    "sns.distplot(f, kde=False, color=\"r\", hist_kws={\"histtype\":'step',\"linewidth\":3,\"alpha\":0.7},axlabel= False,ax=axes[0, 0])\n",
    "\n",
    "# Plot a kernel density estimate and rug plot\n",
    "sns.distplot(d, hist=False, rug=True, color=\"b\", axlabel= False,ax=axes[0, 1],label=\"IAA 0.01\")\n",
    "sns.distplot(e, hist=False, rug=True, color=\"g\", axlabel= False,ax=axes[0, 1],label=\"IAA 0.05\")\n",
    "sns.distplot(f, hist=False, rug=True, color=\"r\", axlabel= False,ax=axes[0, 1],label=\"IAA 0.1\")\n",
    "\n",
    "# Plot a filled kernel density estimate\n",
    "sns.distplot(d, hist=False, color=\"b\", kde_kws={\"shade\": True}, axlabel=False,ax=axes[1, 0])\n",
    "sns.distplot(e, hist=False, color=\"g\", kde_kws={\"shade\": True}, axlabel=False,ax=axes[1, 0])\n",
    "sns.distplot(f, hist=False, color=\"r\", kde_kws={\"shade\": True}, axlabel= False,ax=axes[1, 0])\n",
    "\n",
    "# Plot a historgram and kernel density estimate\n",
    "sns.distplot(d, color=\"b\",axlabel= False,ax=axes[1, 1])\n",
    "sns.distplot(e, color=\"g\",axlabel= False,ax=axes[1, 1])\n",
    "sns.distplot(f, color=\"r\",axlabel= False,ax=axes[1, 1])\n",
    "\n",
    "plt.setp(axes, yticks=[])\n",
    "plt.tight_layout()"
   ]
  },
  {
   "cell_type": "markdown",
   "metadata": {},
   "source": [
    "# Stats"
   ]
  },
  {
   "cell_type": "markdown",
   "metadata": {},
   "source": [
    "Methyl Salicylate"
   ]
  },
  {
   "cell_type": "code",
   "execution_count": 8,
   "metadata": {
    "collapsed": true
   },
   "outputs": [],
   "source": [
    "odor = 'MS'"
   ]
  },
  {
   "cell_type": "code",
   "execution_count": 9,
   "metadata": {
    "collapsed": true
   },
   "outputs": [],
   "source": [
    "xdf=composite_full[['Group', '%s 0.01' % odor, '%s 0.05' % odor, '%s 0.1' % odor]]"
   ]
  },
  {
   "cell_type": "code",
   "execution_count": 11,
   "metadata": {
    "collapsed": false
   },
   "outputs": [],
   "source": [
    "xctrl = xdf[xdf['Group'] == 'Control']\n",
    "xMS = xdf[xdf['Group'] == 'Mint']\n",
    "xHex = xdf[xdf['Group'] == 'Hexanal']"
   ]
  },
  {
   "cell_type": "code",
   "execution_count": 17,
   "metadata": {
    "collapsed": false
   },
   "outputs": [
    {
     "data": {
      "text/plain": [
       "KruskalResult(statistic=1.9725528869809088, pvalue=0.37296285696071418)"
      ]
     },
     "execution_count": 17,
     "metadata": {},
     "output_type": "execute_result"
    }
   ],
   "source": [
    "kruskal(xctrl['%s 0.01'%odor],xctrl['%s 0.05'%odor],xctrl['%s 0.1'%odor],nan_policy='omit')"
   ]
  },
  {
   "cell_type": "code",
   "execution_count": 6,
   "metadata": {
    "collapsed": false
   },
   "outputs": [
    {
     "data": {
      "text/html": [
       "<div>\n",
       "<table border=\"1\" class=\"dataframe\">\n",
       "  <thead>\n",
       "    <tr style=\"text-align: right;\">\n",
       "      <th></th>\n",
       "      <th>Group</th>\n",
       "      <th>MS 0.01</th>\n",
       "      <th>MS 0.05</th>\n",
       "      <th>MS 0.1</th>\n",
       "    </tr>\n",
       "  </thead>\n",
       "  <tbody>\n",
       "    <tr>\n",
       "      <th>261</th>\n",
       "      <td>Control</td>\n",
       "      <td>0.297978</td>\n",
       "      <td>0.343609</td>\n",
       "      <td>0.404345</td>\n",
       "    </tr>\n",
       "    <tr>\n",
       "      <th>262</th>\n",
       "      <td>Control</td>\n",
       "      <td>0.375490</td>\n",
       "      <td>0.350197</td>\n",
       "      <td>0.420784</td>\n",
       "    </tr>\n",
       "    <tr>\n",
       "      <th>263</th>\n",
       "      <td>Control</td>\n",
       "      <td>0.047742</td>\n",
       "      <td>0.213791</td>\n",
       "      <td>0.271523</td>\n",
       "    </tr>\n",
       "    <tr>\n",
       "      <th>264</th>\n",
       "      <td>Control</td>\n",
       "      <td>0.159659</td>\n",
       "      <td>0.141683</td>\n",
       "      <td>0.151191</td>\n",
       "    </tr>\n",
       "    <tr>\n",
       "      <th>265</th>\n",
       "      <td>Control</td>\n",
       "      <td>0.184315</td>\n",
       "      <td>0.192566</td>\n",
       "      <td>0.260542</td>\n",
       "    </tr>\n",
       "  </tbody>\n",
       "</table>\n",
       "</div>"
      ],
      "text/plain": [
       "       Group   MS 0.01   MS 0.05    MS 0.1\n",
       "261  Control  0.297978  0.343609  0.404345\n",
       "262  Control  0.375490  0.350197  0.420784\n",
       "263  Control  0.047742  0.213791  0.271523\n",
       "264  Control  0.159659  0.141683  0.151191\n",
       "265  Control  0.184315  0.192566  0.260542"
      ]
     },
     "execution_count": 6,
     "metadata": {},
     "output_type": "execute_result"
    }
   ],
   "source": [
    "MSctrl=MS_full[MS_full['Group'] == 'Control']\n",
    "MSMS=MS_full[MS_full['Group'] == 'Mint']\n",
    "MShex=MS_full[MS_full['Group'] == 'Hexanal']\n",
    "MSctrl.tail()"
   ]
  },
  {
   "cell_type": "code",
   "execution_count": 39,
   "metadata": {
    "collapsed": false,
    "scrolled": true
   },
   "outputs": [
    {
     "data": {
      "text/plain": [
       "KruskalResult(statistic=1.9725528869809088, pvalue=0.37296285696071418)"
      ]
     },
     "execution_count": 39,
     "metadata": {},
     "output_type": "execute_result"
    }
   ],
   "source": [
    "kruskal(MSctrl['MS 0.01'],MSctrl['MS 0.05'],MSctrl['MS 0.1'],nan_policy='omit')"
   ]
  },
  {
   "cell_type": "code",
   "execution_count": 40,
   "metadata": {
    "collapsed": false
   },
   "outputs": [
    {
     "data": {
      "text/plain": [
       "KruskalResult(statistic=13.539494458225329, pvalue=0.0011479847913647104)"
      ]
     },
     "execution_count": 40,
     "metadata": {},
     "output_type": "execute_result"
    }
   ],
   "source": [
    "kruskal(MSMS['MS 0.01'],MSMS['MS 0.05'],MSMS['MS 0.1'],nan_policy='omit')"
   ]
  },
  {
   "cell_type": "code",
   "execution_count": 41,
   "metadata": {
    "collapsed": false,
    "scrolled": true
   },
   "outputs": [
    {
     "data": {
      "text/plain": [
       "KruskalResult(statistic=5.7933408549275871, pvalue=0.055206729192718254)"
      ]
     },
     "execution_count": 41,
     "metadata": {},
     "output_type": "execute_result"
    }
   ],
   "source": [
    "kruskal(MShex['MS 0.01'],MShex['MS 0.05'],MShex['MS 0.1'],nan_policy='omit')"
   ]
  },
  {
   "cell_type": "markdown",
   "metadata": {},
   "source": [
    "Hexanal"
   ]
  },
  {
   "cell_type": "code",
   "execution_count": 43,
   "metadata": {
    "collapsed": true
   },
   "outputs": [
    {
     "data": {
      "text/html": [
       "<div>\n",
       "<table border=\"1\" class=\"dataframe\">\n",
       "  <thead>\n",
       "    <tr style=\"text-align: right;\">\n",
       "      <th></th>\n",
       "      <th>Group</th>\n",
       "      <th>Hexanal 0.01</th>\n",
       "      <th>Hexanal 0.05</th>\n",
       "      <th>Hexanal 0.1</th>\n",
       "    </tr>\n",
       "  </thead>\n",
       "  <tbody>\n",
       "    <tr>\n",
       "      <th>266</th>\n",
       "      <td>Hexanal</td>\n",
       "      <td>0.346753</td>\n",
       "      <td>0.300836</td>\n",
       "      <td>0.290083</td>\n",
       "    </tr>\n",
       "    <tr>\n",
       "      <th>267</th>\n",
       "      <td>Hexanal</td>\n",
       "      <td>0.269426</td>\n",
       "      <td>0.349465</td>\n",
       "      <td>0.236634</td>\n",
       "    </tr>\n",
       "    <tr>\n",
       "      <th>268</th>\n",
       "      <td>Hexanal</td>\n",
       "      <td>0.359969</td>\n",
       "      <td>0.422324</td>\n",
       "      <td>0.416844</td>\n",
       "    </tr>\n",
       "    <tr>\n",
       "      <th>269</th>\n",
       "      <td>Hexanal</td>\n",
       "      <td>0.136656</td>\n",
       "      <td>0.135468</td>\n",
       "      <td>0.124364</td>\n",
       "    </tr>\n",
       "    <tr>\n",
       "      <th>270</th>\n",
       "      <td>Hexanal</td>\n",
       "      <td>0.188876</td>\n",
       "      <td>0.200218</td>\n",
       "      <td>0.136488</td>\n",
       "    </tr>\n",
       "  </tbody>\n",
       "</table>\n",
       "</div>"
      ],
      "text/plain": [
       "       Group  Hexanal 0.01  Hexanal 0.05  Hexanal 0.1\n",
       "266  Hexanal      0.346753      0.300836     0.290083\n",
       "267  Hexanal      0.269426      0.349465     0.236634\n",
       "268  Hexanal      0.359969      0.422324     0.416844\n",
       "269  Hexanal      0.136656      0.135468     0.124364\n",
       "270  Hexanal      0.188876      0.200218     0.136488"
      ]
     },
     "execution_count": 43,
     "metadata": {},
     "output_type": "execute_result"
    }
   ],
   "source": [
    "Hctrl=H_full[H_full['Group'] == 'Control']\n",
    "HMS=H_full[H_full['Group'] == 'Mint']\n",
    "HH=H_full[H_full['Group'] == 'Hexanal']\n",
    "HH.head()"
   ]
  },
  {
   "cell_type": "code",
   "execution_count": 44,
   "metadata": {
    "collapsed": false,
    "scrolled": true
   },
   "outputs": [
    {
     "data": {
      "text/plain": [
       "KruskalResult(statistic=4.4640795238193043, pvalue=0.1073093212807168)"
      ]
     },
     "execution_count": 44,
     "metadata": {},
     "output_type": "execute_result"
    }
   ],
   "source": [
    "kruskal(Hctrl['Hexanal 0.01'],Hctrl['Hexanal 0.05'],Hctrl['Hexanal 0.1'],nan_policy='omit')"
   ]
  },
  {
   "cell_type": "code",
   "execution_count": 45,
   "metadata": {
    "collapsed": false
   },
   "outputs": [
    {
     "data": {
      "text/plain": [
       "KruskalResult(statistic=4.1404582218539545, pvalue=0.12615687447522853)"
      ]
     },
     "execution_count": 45,
     "metadata": {},
     "output_type": "execute_result"
    }
   ],
   "source": [
    "kruskal(HMS['Hexanal 0.01'],HMS['Hexanal 0.05'],HMS['Hexanal 0.1'],nan_policy='omit')"
   ]
  },
  {
   "cell_type": "code",
   "execution_count": 46,
   "metadata": {
    "collapsed": false,
    "scrolled": false
   },
   "outputs": [
    {
     "data": {
      "text/plain": [
       "KruskalResult(statistic=32.384359703646624, pvalue=9.2859350217332081e-08)"
      ]
     },
     "execution_count": 46,
     "metadata": {},
     "output_type": "execute_result"
    }
   ],
   "source": [
    "kruskal(HH['Hexanal 0.01'],HH['Hexanal 0.05'],HH['Hexanal 0.1'],nan_policy='omit')"
   ]
  },
  {
   "cell_type": "markdown",
   "metadata": {},
   "source": [
    "IAA"
   ]
  },
  {
   "cell_type": "code",
   "execution_count": 47,
   "metadata": {
    "collapsed": true
   },
   "outputs": [
    {
     "data": {
      "text/html": [
       "<div>\n",
       "<table border=\"1\" class=\"dataframe\">\n",
       "  <thead>\n",
       "    <tr style=\"text-align: right;\">\n",
       "      <th></th>\n",
       "      <th>Group</th>\n",
       "      <th>IAA 0.01</th>\n",
       "      <th>IAA 0.05</th>\n",
       "      <th>IAA 0.1</th>\n",
       "    </tr>\n",
       "  </thead>\n",
       "  <tbody>\n",
       "    <tr>\n",
       "      <th>266</th>\n",
       "      <td>Hexanal</td>\n",
       "      <td>0.210982</td>\n",
       "      <td>0.082528</td>\n",
       "      <td>0.382490</td>\n",
       "    </tr>\n",
       "    <tr>\n",
       "      <th>267</th>\n",
       "      <td>Hexanal</td>\n",
       "      <td>0.207433</td>\n",
       "      <td>0.068120</td>\n",
       "      <td>0.402160</td>\n",
       "    </tr>\n",
       "    <tr>\n",
       "      <th>268</th>\n",
       "      <td>Hexanal</td>\n",
       "      <td>0.350660</td>\n",
       "      <td>0.130934</td>\n",
       "      <td>0.439151</td>\n",
       "    </tr>\n",
       "    <tr>\n",
       "      <th>269</th>\n",
       "      <td>Hexanal</td>\n",
       "      <td>0.099299</td>\n",
       "      <td>0.042892</td>\n",
       "      <td>0.090707</td>\n",
       "    </tr>\n",
       "    <tr>\n",
       "      <th>270</th>\n",
       "      <td>Hexanal</td>\n",
       "      <td>0.103156</td>\n",
       "      <td>0.026460</td>\n",
       "      <td>0.154604</td>\n",
       "    </tr>\n",
       "  </tbody>\n",
       "</table>\n",
       "</div>"
      ],
      "text/plain": [
       "       Group  IAA 0.01  IAA 0.05   IAA 0.1\n",
       "266  Hexanal  0.210982  0.082528  0.382490\n",
       "267  Hexanal  0.207433  0.068120  0.402160\n",
       "268  Hexanal  0.350660  0.130934  0.439151\n",
       "269  Hexanal  0.099299  0.042892  0.090707\n",
       "270  Hexanal  0.103156  0.026460  0.154604"
      ]
     },
     "execution_count": 47,
     "metadata": {},
     "output_type": "execute_result"
    }
   ],
   "source": [
    "Ictrl=IAA_full[IAA_full['Group'] == 'Control']\n",
    "IMS=IAA_full[IAA_full['Group'] == 'Mint']\n",
    "IH=IAA_full[IAA_full['Group'] == 'Hexanal']\n",
    "IH.head()"
   ]
  },
  {
   "cell_type": "code",
   "execution_count": 48,
   "metadata": {
    "collapsed": false,
    "scrolled": true
   },
   "outputs": [
    {
     "data": {
      "text/plain": [
       "KruskalResult(statistic=19.499111604184485, pvalue=5.8320563850495121e-05)"
      ]
     },
     "execution_count": 48,
     "metadata": {},
     "output_type": "execute_result"
    }
   ],
   "source": [
    "kruskal(Ictrl['IAA 0.01'],Ictrl['IAA 0.05'],Ictrl['IAA 0.1'],nan_policy='omit')"
   ]
  },
  {
   "cell_type": "code",
   "execution_count": 49,
   "metadata": {
    "collapsed": false
   },
   "outputs": [
    {
     "data": {
      "text/plain": [
       "KruskalResult(statistic=31.735812204406784, pvalue=1.2842688251749286e-07)"
      ]
     },
     "execution_count": 49,
     "metadata": {},
     "output_type": "execute_result"
    }
   ],
   "source": [
    "kruskal(IMS['IAA 0.01'],IMS['IAA 0.05'],IMS['IAA 0.1'],nan_policy='omit')"
   ]
  },
  {
   "cell_type": "code",
   "execution_count": 50,
   "metadata": {
    "collapsed": false,
    "scrolled": false
   },
   "outputs": [
    {
     "data": {
      "text/plain": [
       "KruskalResult(statistic=38.874224328353328, pvalue=3.6188405076274751e-09)"
      ]
     },
     "execution_count": 50,
     "metadata": {},
     "output_type": "execute_result"
    }
   ],
   "source": [
    "kruskal(IH['IAA 0.01'],IH['IAA 0.05'],IH['IAA 0.1'],nan_policy='omit')"
   ]
  },
  {
   "cell_type": "markdown",
   "metadata": {},
   "source": [
    "# By odor"
   ]
  },
  {
   "cell_type": "markdown",
   "metadata": {},
   "source": [
    "# MS 0.01"
   ]
  },
  {
   "cell_type": "code",
   "execution_count": 18,
   "metadata": {
    "collapsed": false
   },
   "outputs": [],
   "source": [
    "MS001_full=composite_full[['Group','MS 0.01']]\n",
    "MS001df=pd.melt(MS001_full,\"Group\",var_name=\"Odor\")"
   ]
  },
  {
   "cell_type": "code",
   "execution_count": 403,
   "metadata": {
    "collapsed": false
   },
   "outputs": [],
   "source": [
    "sns.set(style=\"white\", palette=\"muted\", color_codes=True);\n",
    "sns.set_context(\"talk\",font_scale=3);\n",
    "plt.figure(figsize=(15,18));\n",
    "sns.barplot(x=\"Odor\", y=\"value\", hue=\"Group\",palette={\"Control\": \"r\", \"Hexanal\": \"b\",\"Mint\":\"g\"}, data=MS001df);\n",
    "sns.despine();\n",
    "plt.legend(loc='upper right');\n",
    "plt.ylabel('Peak DF/F');\n",
    "plt.title('Peak DF/F');"
   ]
  },
  {
   "cell_type": "code",
   "execution_count": 404,
   "metadata": {
    "collapsed": false
   },
   "outputs": [],
   "source": [
    "sns.set(style=\"white\", palette=\"muted\", color_codes=True);\n",
    "sns.set_context(\"talk\",font_scale=3);\n",
    "plt.figure(figsize=(15,18));\n",
    "sns.boxplot(x=\"Odor\", y=\"value\", hue=\"Group\",palette={\"Control\": \"r\", \"Hexanal\": \"b\",\"Mint\":\"g\"}, data=MS001df);\n",
    "sns.despine();\n",
    "plt.legend(loc='upper right');\n",
    "plt.ylabel('Peak DF/F');\n",
    "plt.title('Peak DF/F');\n",
    "plt.xlabel('Odor');"
   ]
  },
  {
   "cell_type": "code",
   "execution_count": 19,
   "metadata": {
    "collapsed": true
   },
   "outputs": [
    {
     "data": {
      "text/html": [
       "<div>\n",
       "<table border=\"1\" class=\"dataframe\">\n",
       "  <thead>\n",
       "    <tr style=\"text-align: right;\">\n",
       "      <th></th>\n",
       "      <th>Group</th>\n",
       "      <th>MS 0.01</th>\n",
       "    </tr>\n",
       "  </thead>\n",
       "  <tbody>\n",
       "    <tr>\n",
       "      <th>266</th>\n",
       "      <td>Hexanal</td>\n",
       "      <td>0.161091</td>\n",
       "    </tr>\n",
       "    <tr>\n",
       "      <th>267</th>\n",
       "      <td>Hexanal</td>\n",
       "      <td>0.032355</td>\n",
       "    </tr>\n",
       "    <tr>\n",
       "      <th>268</th>\n",
       "      <td>Hexanal</td>\n",
       "      <td>0.260874</td>\n",
       "    </tr>\n",
       "    <tr>\n",
       "      <th>269</th>\n",
       "      <td>Hexanal</td>\n",
       "      <td>0.034293</td>\n",
       "    </tr>\n",
       "    <tr>\n",
       "      <th>270</th>\n",
       "      <td>Hexanal</td>\n",
       "      <td>0.042151</td>\n",
       "    </tr>\n",
       "  </tbody>\n",
       "</table>\n",
       "</div>"
      ],
      "text/plain": [
       "       Group   MS 0.01\n",
       "266  Hexanal  0.161091\n",
       "267  Hexanal  0.032355\n",
       "268  Hexanal  0.260874\n",
       "269  Hexanal  0.034293\n",
       "270  Hexanal  0.042151"
      ]
     },
     "execution_count": 19,
     "metadata": {},
     "output_type": "execute_result"
    }
   ],
   "source": [
    "MS001ctrl=MS001_full[MS001_full['Group'] == 'Control']\n",
    "MS001MS=MS001_full[MS001_full['Group'] == 'Mint']\n",
    "MS001H=MS001_full[MS001_full['Group'] == 'Hexanal']\n",
    "MS001H.head()"
   ]
  },
  {
   "cell_type": "code",
   "execution_count": 406,
   "metadata": {
    "collapsed": true
   },
   "outputs": [],
   "source": [
    "sns.set(style=\"white\", palette=\"muted\", color_codes=True)\n",
    "sns.set_context(\"talk\", font_scale=2)\n",
    "# Set up the matplotlib figure\n",
    "f, axes = plt.subplots(2, 2, figsize=(30,20), sharex=True)\n",
    "# f.suptitle(\"MS 0.01\", fontsize=44)\n",
    "sns.despine(left=True)\n",
    "\n",
    "#data\n",
    "d = MS001ctrl['MS 0.01']\n",
    "e = MS001MS['MS 0.01']\n",
    "f = MS001H['MS 0.01']\n",
    "\n",
    "# Plot a simple histogram with binsize determined automatically\n",
    "sns.distplot(d, kde=False, color=\"r\", hist_kws={\"histtype\":'step',\"linewidth\":3,\"alpha\":0.7},axlabel= False,ax=axes[0, 0])\n",
    "sns.distplot(e, kde=False, color=\"g\", hist_kws={\"histtype\":'step',\"linewidth\":3,\"alpha\":0.7},axlabel= False,ax=axes[0, 0])\n",
    "sns.distplot(f, kde=False, color=\"b\", hist_kws={\"histtype\":'step',\"linewidth\":3,\"alpha\":0.7},axlabel= False,ax=axes[0, 0])\n",
    "\n",
    "# Plot a kernel density estimate and rug plot\n",
    "sns.distplot(d, hist=False, rug=True, color=\"r\", axlabel= False,ax=axes[0, 1],label=\"Control\")\n",
    "sns.distplot(e, hist=False, rug=True, color=\"g\", axlabel= False,ax=axes[0, 1],label=\"Mint\")\n",
    "sns.distplot(f, hist=False, rug=True, color=\"b\", axlabel= False,ax=axes[0, 1],label=\"Hexanal\")\n",
    "\n",
    "# Plot a filled kernel density estimate\n",
    "sns.distplot(d, hist=False, color=\"r\", kde_kws={\"shade\": True}, axlabel=False,ax=axes[1, 0])\n",
    "sns.distplot(e, hist=False, color=\"g\", kde_kws={\"shade\": True}, axlabel=False,ax=axes[1, 0])\n",
    "sns.distplot(f, hist=False, color=\"b\", kde_kws={\"shade\": True}, axlabel= False,ax=axes[1, 0])\n",
    "\n",
    "# Plot a historgram and kernel density estimate\n",
    "sns.distplot(d, color=\"r\",axlabel= False,ax=axes[1, 1])\n",
    "sns.distplot(e, color=\"g\",axlabel= False,ax=axes[1, 1])\n",
    "sns.distplot(f, color=\"b\",axlabel= False,ax=axes[1, 1])\n",
    "\n",
    "plt.setp(axes, yticks=[])\n",
    "plt.tight_layout()"
   ]
  },
  {
   "cell_type": "code",
   "execution_count": 407,
   "metadata": {
    "collapsed": false,
    "scrolled": true
   },
   "outputs": [
    {
     "data": {
      "text/plain": [
       "KruskalResult(statistic=17.779511707365906, pvalue=0.00013779329560080323)"
      ]
     },
     "execution_count": 407,
     "metadata": {},
     "output_type": "execute_result"
    }
   ],
   "source": [
    "kruskal(MS001_full[MS001_full['Group'] == 'Control']['MS 0.01'],MS001_full[MS001_full['Group'] == 'Mint']['MS 0.01'],MS001_full[MS001_full['Group'] == 'Hexanal']['MS 0.01'],nan_policy='omit')"
   ]
  },
  {
   "cell_type": "markdown",
   "metadata": {},
   "source": [
    "# MS 0.05"
   ]
  },
  {
   "cell_type": "markdown",
   "metadata": {},
   "source": [
    "# ZScore"
   ]
  },
  {
   "cell_type": "code",
   "execution_count": 4,
   "metadata": {
    "collapsed": false
   },
   "outputs": [],
   "source": [
    "MS005_full=composite_full[['Group','MS 0.05']]\n",
    "MS005df=pd.melt(MS005_full,\"Group\",var_name=\"Odor\")"
   ]
  },
  {
   "cell_type": "code",
   "execution_count": 5,
   "metadata": {
    "collapsed": false
   },
   "outputs": [
    {
     "data": {
      "text/html": [
       "<div>\n",
       "<table border=\"1\" class=\"dataframe\">\n",
       "  <thead>\n",
       "    <tr style=\"text-align: right;\">\n",
       "      <th></th>\n",
       "      <th>Group</th>\n",
       "      <th>MS 0.05</th>\n",
       "    </tr>\n",
       "  </thead>\n",
       "  <tbody>\n",
       "    <tr>\n",
       "      <th>266</th>\n",
       "      <td>Hexanal</td>\n",
       "      <td>0.096774</td>\n",
       "    </tr>\n",
       "    <tr>\n",
       "      <th>267</th>\n",
       "      <td>Hexanal</td>\n",
       "      <td>0.081605</td>\n",
       "    </tr>\n",
       "    <tr>\n",
       "      <th>268</th>\n",
       "      <td>Hexanal</td>\n",
       "      <td>0.158723</td>\n",
       "    </tr>\n",
       "    <tr>\n",
       "      <th>269</th>\n",
       "      <td>Hexanal</td>\n",
       "      <td>0.024024</td>\n",
       "    </tr>\n",
       "    <tr>\n",
       "      <th>270</th>\n",
       "      <td>Hexanal</td>\n",
       "      <td>0.014518</td>\n",
       "    </tr>\n",
       "  </tbody>\n",
       "</table>\n",
       "</div>"
      ],
      "text/plain": [
       "       Group   MS 0.05\n",
       "266  Hexanal  0.096774\n",
       "267  Hexanal  0.081605\n",
       "268  Hexanal  0.158723\n",
       "269  Hexanal  0.024024\n",
       "270  Hexanal  0.014518"
      ]
     },
     "execution_count": 5,
     "metadata": {},
     "output_type": "execute_result"
    }
   ],
   "source": [
    "cg=MS005_full[MS005_full['Group']=='Control']\n",
    "mg=MS005_full[MS005_full['Group']=='Mint']\n",
    "hg=MS005_full[MS005_full['Group']=='Hexanal']\n",
    "hg.head()"
   ]
  },
  {
   "cell_type": "code",
   "execution_count": 6,
   "metadata": {
    "collapsed": true
   },
   "outputs": [],
   "source": [
    "from scipy.stats import zscore"
   ]
  },
  {
   "cell_type": "code",
   "execution_count": 66,
   "metadata": {
    "collapsed": true
   },
   "outputs": [
    {
     "data": {
      "text/plain": [
       "array([ -4.72358425e-01,  -4.46490393e-01,  -5.61236468e-01,\n",
       "        -3.97130501e-01,  -3.96288055e-01,  -5.14181064e-01,\n",
       "        -3.24306103e-01,  -4.28847851e-01,  -5.59660105e-01,\n",
       "        -3.40810491e-01,  -4.68637861e-01,  -3.98931745e-01,\n",
       "        -3.98706274e-01,  -1.09868618e-01,  -1.62971554e-01,\n",
       "        -3.22466210e-01,  -5.22677717e-01,  -6.53193976e-02,\n",
       "        -5.30853493e-01,  -4.32004754e-01,  -4.86898362e-01,\n",
       "        -3.91940616e-01,  -5.57231325e-01,  -5.72096693e-01,\n",
       "        -2.38257167e-01,   7.04491918e-03,  -5.99119714e-01,\n",
       "        -5.62094788e-01,  -5.03675898e-01,  -4.56007654e-01,\n",
       "        -5.58363736e-01,  -4.63235366e-01,  -3.30763631e-01,\n",
       "        -4.54647986e-01,  -4.34519649e-01,  -5.99119714e-01,\n",
       "        -2.58499060e-01,  -5.37653922e-01,  -4.70551488e-01,\n",
       "        -3.84941523e-01,  -5.59134386e-01,  -4.05563636e-01,\n",
       "        -3.78009481e-01,  -4.40463491e-01,  -4.68281318e-01,\n",
       "        -5.02582999e-01,  -5.99119714e-01,  -4.48175697e-01,\n",
       "        -2.02115460e-01,  -4.28285404e-01,  -5.78672902e-01,\n",
       "        -5.16457861e-01,  -4.75322291e-01,  -5.99119714e-01,\n",
       "        -5.99119714e-01,  -5.70480014e-01,  -5.65609585e-01,\n",
       "        -4.88995441e-01,  -3.01829472e-01,  -4.79499610e-01,\n",
       "        -4.91558062e-01,  -3.57780324e-01,  -4.13317942e-01,\n",
       "        -4.12992152e-01,  -4.72151054e-01,  -3.79527461e-01,\n",
       "        -2.74540606e-01,  -4.46793133e-01,  -3.90992370e-01,\n",
       "        -5.63410186e-01,  -4.63189522e-01,  -3.82663018e-01,\n",
       "        -2.89453431e-01,  -5.61057928e-01,  -3.46895858e-01,\n",
       "        -3.45594444e-01,  -5.59935053e-01,  -5.83482136e-01,\n",
       "        -4.48650874e-01,  -5.61677393e-01,  -5.06327036e-01,\n",
       "        -5.99119714e-01,  -5.33332228e-01,  -5.14577002e-01,\n",
       "        -5.28979390e-01,  -4.76924031e-01,  -4.23313120e-01,\n",
       "        -4.37735631e-01,  -5.08832862e-01,  -4.77355821e-01,\n",
       "        -2.88660097e-01,  -5.99119714e-01,  -5.99119714e-01,\n",
       "        -5.05606875e-01,  -2.50939561e-01,  -5.45646175e-01,\n",
       "        -1.94568988e-01,  -5.49597931e-01,   3.28043362e-02,\n",
       "        -5.90089260e-01,  -5.55595896e-01,  -4.81386707e-01,\n",
       "        -5.13313297e-01,  -5.76667828e-01,  -4.23938032e-01,\n",
       "        -5.02170021e-01,  -4.30826621e-01,  -4.24060016e-01,\n",
       "        -5.37406157e-01,  -3.10534913e-01,  -2.48110992e-01,\n",
       "        -5.75270738e-01,  -5.71153491e-01,  -4.09860231e-01,\n",
       "        -4.85340744e-01,  -3.05531584e-01,  -5.05232642e-01,\n",
       "        -5.56511540e-01,  -4.80915459e-01,  -3.60979633e-01,\n",
       "        -2.71180652e-02,  -1.45280470e-01,  -3.80070907e-01,\n",
       "        -2.36839923e-02,  -4.11951499e-01,  -2.51880008e-01,\n",
       "        -2.08848881e-01,  -1.50292129e-01,  -5.99119714e-01,\n",
       "        -1.58947502e-01,  -1.44338209e-01,  -5.17780902e-01,\n",
       "         3.05543310e-01,   6.31008667e-02,  -5.70730654e-01,\n",
       "        -3.91982078e-01,  -4.21149640e-01,  -5.36956075e-01,\n",
       "        -5.06446127e-01,  -3.48994869e-01,  -3.46162826e-01,\n",
       "        -4.81919516e-01,  -4.86074831e-01,  -5.60115927e-01,\n",
       "        -5.99119714e-01,  -5.24290984e-01,  -5.68399395e-01,\n",
       "        -5.64902073e-01,  -5.71553674e-01,  -5.57633603e-01,\n",
       "        -5.27166710e-01,  -3.47712641e-02,  -5.65675277e-01,\n",
       "        -5.99119714e-01,  -4.86238857e-01,  -5.76187241e-01,\n",
       "        -2.39720509e-02,  -5.73427590e-01,  -4.81140399e-01,\n",
       "        -5.45153610e-01,  -4.89834205e-01,  -1.14580234e-01,\n",
       "        -1.42928701e-01,  -4.59175409e-01,  -4.69617447e-01,\n",
       "        -4.69165318e-01,  -3.20500123e-01,  -4.37534690e-01,\n",
       "        -4.35682143e-01,  -4.04455514e-01,  -2.29462937e-01,\n",
       "        -2.84570420e-01,   7.83271820e-02,  -1.42086246e-02,\n",
       "        -2.08060723e-01,  -1.82401580e-01,  -2.70860749e-01,\n",
       "        -1.80887067e-01,  -2.58200265e-01,  -2.20080497e-01,\n",
       "        -2.52718015e-01,   3.03384437e-02,  -2.61049282e-01,\n",
       "         7.30330547e-01,   4.96091914e-01,   4.27011923e+00,\n",
       "         3.72681636e+00,   2.13692009e+00,   2.16151125e+00,\n",
       "         4.22736506e-01,   2.81953535e-01,  -3.14508047e-07,\n",
       "         1.07972254e+00,   1.34787788e+00,   3.23360449e+00,\n",
       "         3.41930485e-01,   2.25113653e+00,   9.04079417e-01,\n",
       "         4.22500791e+00,   8.76699415e-01,   2.65481566e+00,\n",
       "         3.58848725e+00,   1.41051083e+00,   2.74954378e+00,\n",
       "         1.03776647e+00,   1.85671121e+00,   2.04418971e+00,\n",
       "         2.09902836e+00,   8.33719273e-01,   1.16005473e+00,\n",
       "         1.70582947e+00,   2.18230143e+00,   1.21978732e+00,\n",
       "         1.32758303e+00,   1.46829925e+00,  -8.19127864e-02,\n",
       "         4.02285587e+00,   1.18955407e+00,   4.20060282e-01,\n",
       "         1.76572491e+00,   2.77535449e+00,   2.34862081e+00,\n",
       "         1.77833940e+00,   3.25769183e+00,   2.58085289e+00,\n",
       "         1.20379458e+00,   2.19114601e+00,   2.75998399e+00,\n",
       "         4.01090091e+00,   1.56087422e+00,  -4.53046121e-01,\n",
       "        -4.54955137e-01,  -4.19046366e-01,  -4.20186555e-01,\n",
       "        -1.35090907e-01,  -4.08265600e-01,  -3.60110116e-01,\n",
       "        -2.19897186e-01,  -4.22761581e-01,  -4.06705894e-01,\n",
       "        -3.59449358e-01,  -3.60664442e-01,  -3.92821498e-01,\n",
       "        -1.09936767e-01,  -1.13797726e-01,  -3.41526999e-01,\n",
       "        -3.59463843e-01,  -2.89727327e-01,  -4.99386844e-01,\n",
       "        -5.16343179e-01,  -4.88470321e-01,  -4.71003978e-01,\n",
       "        -1.90003505e-01,  -5.20819707e-01,  -4.57486059e-01,\n",
       "        -2.64745152e-01,  -4.77285685e-01,  -4.33617203e-01,\n",
       "        -4.16985891e-01,  -4.30746055e-01,  -4.93522903e-01,\n",
       "        -1.61284709e-01,  -1.52890102e-01,  -3.26701614e-01,\n",
       "        -4.18583310e-01,  -3.53747319e-01])"
      ]
     },
     "execution_count": 66,
     "metadata": {},
     "output_type": "execute_result"
    }
   ],
   "source": [
    "test=zscore(MS005_full[MS005_full['Group']=='Control']['MS 0.05'])\n",
    "test"
   ]
  },
  {
   "cell_type": "code",
   "execution_count": 67,
   "metadata": {
    "collapsed": true
   },
   "outputs": [
    {
     "data": {
      "text/plain": [
       "array([ -4.72358425e-01,  -4.46490393e-01,  -5.61236468e-01,\n",
       "        -3.97130501e-01,  -3.96288055e-01,  -5.14181064e-01,\n",
       "        -3.24306103e-01,  -4.28847851e-01,  -5.59660105e-01,\n",
       "        -3.40810491e-01,  -4.68637861e-01,  -3.98931745e-01,\n",
       "        -3.98706274e-01,  -1.09868618e-01,  -1.62971554e-01,\n",
       "        -3.22466210e-01,  -5.22677717e-01,  -6.53193976e-02,\n",
       "        -5.30853493e-01,  -4.32004754e-01,  -4.86898362e-01,\n",
       "        -3.91940616e-01,  -5.57231325e-01,  -5.72096693e-01,\n",
       "        -2.38257167e-01,   7.04491918e-03,  -5.99119714e-01,\n",
       "        -5.62094788e-01,  -5.03675898e-01,  -4.56007654e-01,\n",
       "        -5.58363736e-01,  -4.63235366e-01,  -3.30763631e-01,\n",
       "        -4.54647986e-01,  -4.34519649e-01,  -5.99119714e-01,\n",
       "        -2.58499060e-01,  -5.37653922e-01,  -4.70551488e-01,\n",
       "        -3.84941523e-01,  -5.59134386e-01,  -4.05563636e-01,\n",
       "        -3.78009481e-01,  -4.40463491e-01,  -4.68281318e-01,\n",
       "        -5.02582999e-01,  -5.99119714e-01,  -4.48175697e-01,\n",
       "        -2.02115460e-01,  -4.28285404e-01,  -5.78672902e-01,\n",
       "        -5.16457861e-01,  -4.75322291e-01,  -5.99119714e-01,\n",
       "        -5.99119714e-01,  -5.70480014e-01,  -5.65609585e-01,\n",
       "        -4.88995441e-01,  -3.01829472e-01,  -4.79499610e-01,\n",
       "        -4.91558062e-01,  -3.57780324e-01,  -4.13317942e-01,\n",
       "        -4.12992152e-01,  -4.72151054e-01,  -3.79527461e-01,\n",
       "        -2.74540606e-01,  -4.46793133e-01,  -3.90992370e-01,\n",
       "        -5.63410186e-01,  -4.63189522e-01,  -3.82663018e-01,\n",
       "        -2.89453431e-01,  -5.61057928e-01,  -3.46895858e-01,\n",
       "        -3.45594444e-01,  -5.59935053e-01,  -5.83482136e-01,\n",
       "        -4.48650874e-01,  -5.61677393e-01,  -5.06327036e-01,\n",
       "        -5.99119714e-01,  -5.33332228e-01,  -5.14577002e-01,\n",
       "        -5.28979390e-01,  -4.76924031e-01,  -4.23313120e-01,\n",
       "        -4.37735631e-01,  -5.08832862e-01,  -4.77355821e-01,\n",
       "        -2.88660097e-01,  -5.99119714e-01,  -5.99119714e-01,\n",
       "        -5.05606875e-01,  -2.50939561e-01,  -5.45646175e-01,\n",
       "        -1.94568988e-01,  -5.49597931e-01,   3.28043362e-02,\n",
       "        -5.90089260e-01,  -5.55595896e-01,  -4.81386707e-01,\n",
       "        -5.13313297e-01,  -5.76667828e-01,  -4.23938032e-01,\n",
       "        -5.02170021e-01,  -4.30826621e-01,  -4.24060016e-01,\n",
       "        -5.37406157e-01,  -3.10534913e-01,  -2.48110992e-01,\n",
       "        -5.75270738e-01,  -5.71153491e-01,  -4.09860231e-01,\n",
       "        -4.85340744e-01,  -3.05531584e-01,  -5.05232642e-01,\n",
       "        -5.56511540e-01,  -4.80915459e-01,  -3.60979633e-01,\n",
       "        -2.71180652e-02,  -1.45280470e-01,  -3.80070907e-01,\n",
       "        -2.36839923e-02,  -4.11951499e-01,  -2.51880008e-01,\n",
       "        -2.08848881e-01,  -1.50292129e-01,  -5.99119714e-01,\n",
       "        -1.58947502e-01,  -1.44338209e-01,  -5.17780902e-01,\n",
       "         3.05543310e-01,   6.31008667e-02,  -5.70730654e-01,\n",
       "        -3.91982078e-01,  -4.21149640e-01,  -5.36956075e-01,\n",
       "        -5.06446127e-01,  -3.48994869e-01,  -3.46162826e-01,\n",
       "        -4.81919516e-01,  -4.86074831e-01,  -5.60115927e-01,\n",
       "        -5.99119714e-01,  -5.24290984e-01,  -5.68399395e-01,\n",
       "        -5.64902073e-01,  -5.71553674e-01,  -5.57633603e-01,\n",
       "        -5.27166710e-01,  -3.47712641e-02,  -5.65675277e-01,\n",
       "        -5.99119714e-01,  -4.86238857e-01,  -5.76187241e-01,\n",
       "        -2.39720509e-02,  -5.73427590e-01,  -4.81140399e-01,\n",
       "        -5.45153610e-01,  -4.89834205e-01,  -1.14580234e-01,\n",
       "        -1.42928701e-01,  -4.59175409e-01,  -4.69617447e-01,\n",
       "        -4.69165318e-01,  -3.20500123e-01,  -4.37534690e-01,\n",
       "        -4.35682143e-01,  -4.04455514e-01,  -2.29462937e-01,\n",
       "        -2.84570420e-01,   7.83271820e-02,  -1.42086246e-02,\n",
       "        -2.08060723e-01,  -1.82401580e-01,  -2.70860749e-01,\n",
       "        -1.80887067e-01,  -2.58200265e-01,  -2.20080497e-01,\n",
       "        -2.52718015e-01,   3.03384437e-02,  -2.61049282e-01,\n",
       "         7.30330547e-01,   4.96091914e-01,   4.27011923e+00,\n",
       "         3.72681636e+00,   2.13692009e+00,   2.16151125e+00,\n",
       "         4.22736506e-01,   2.81953535e-01,  -3.14508047e-07,\n",
       "         1.07972254e+00,   1.34787788e+00,   3.23360449e+00,\n",
       "         3.41930485e-01,   2.25113653e+00,   9.04079417e-01,\n",
       "         4.22500791e+00,   8.76699415e-01,   2.65481566e+00,\n",
       "         3.58848725e+00,   1.41051083e+00,   2.74954378e+00,\n",
       "         1.03776647e+00,   1.85671121e+00,   2.04418971e+00,\n",
       "         2.09902836e+00,   8.33719273e-01,   1.16005473e+00,\n",
       "         1.70582947e+00,   2.18230143e+00,   1.21978732e+00,\n",
       "         1.32758303e+00,   1.46829925e+00,  -8.19127864e-02,\n",
       "         4.02285587e+00,   1.18955407e+00,   4.20060282e-01,\n",
       "         1.76572491e+00,   2.77535449e+00,   2.34862081e+00,\n",
       "         1.77833940e+00,   3.25769183e+00,   2.58085289e+00,\n",
       "         1.20379458e+00,   2.19114601e+00,   2.75998399e+00,\n",
       "         4.01090091e+00,   1.56087422e+00,  -4.53046121e-01,\n",
       "        -4.54955137e-01,  -4.19046366e-01,  -4.20186555e-01,\n",
       "        -1.35090907e-01,  -4.08265600e-01,  -3.60110116e-01,\n",
       "        -2.19897186e-01,  -4.22761581e-01,  -4.06705894e-01,\n",
       "        -3.59449358e-01,  -3.60664442e-01,  -3.92821498e-01,\n",
       "        -1.09936767e-01,  -1.13797726e-01,  -3.41526999e-01,\n",
       "        -3.59463843e-01,  -2.89727327e-01,  -4.99386844e-01,\n",
       "        -5.16343179e-01,  -4.88470321e-01,  -4.71003978e-01,\n",
       "        -1.90003505e-01,  -5.20819707e-01,  -4.57486059e-01,\n",
       "        -2.64745152e-01,  -4.77285685e-01,  -4.33617203e-01,\n",
       "        -4.16985891e-01,  -4.30746055e-01,  -4.93522903e-01,\n",
       "        -1.61284709e-01,  -1.52890102e-01,  -3.26701614e-01,\n",
       "        -4.18583310e-01,  -3.53747319e-01])"
      ]
     },
     "execution_count": 67,
     "metadata": {},
     "output_type": "execute_result"
    }
   ],
   "source": [
    "cgz=zscore(cg['MS 0.05'])\n",
    "mgz=zscore(mg['MS 0.05'])\n",
    "hgz=zscore(hg['MS 0.05'])\n",
    "cgz"
   ]
  },
  {
   "cell_type": "code",
   "execution_count": 63,
   "metadata": {
    "collapsed": false
   },
   "outputs": [
    {
     "data": {
      "text/plain": [
       "<matplotlib.axes._subplots.AxesSubplot at 0xc7886d8>"
      ]
     },
     "execution_count": 63,
     "metadata": {},
     "output_type": "execute_result"
    }
   ],
   "source": [
    "sns.distplot(cgz)\n",
    "sns.distplot(mgz)\n",
    "sns.distplot(hgz)"
   ]
  },
  {
   "cell_type": "code",
   "execution_count": 75,
   "metadata": {
    "collapsed": false
   },
   "outputs": [],
   "source": [
    "sns.set(style=\"white\", palette=\"muted\", color_codes=True);\n",
    "sns.set_context(\"talk\",font_scale=3);\n",
    "plt.figure(figsize=(15,18));\n",
    "sns.distplot(cgz, color=\"r\", kde_kws={\"shade\": True},hist_kws={\"histtype\":'step',\"linewidth\":3,\"alpha\":0.7},axlabel= False,label=\"Control\")\n",
    "sns.distplot(mgz, color=\"g\", kde_kws={\"shade\": True},hist_kws={\"histtype\":'step',\"linewidth\":3,\"alpha\":0.7},axlabel= False,label=\"Mint\")\n",
    "sns.distplot(hgz, color=\"b\", kde_kws={\"shade\": True},hist_kws={\"histtype\":'step',\"linewidth\":3,\"alpha\":0.7},axlabel= False,label=\"Hexanal\")\n",
    "sns.despine();\n",
    "plt.legend(loc='upper right');\n",
    "plt.xlabel('Z-score');\n",
    "plt.title('Z-scores for MS');"
   ]
  },
  {
   "cell_type": "markdown",
   "metadata": {},
   "source": [
    "# Normalize by kde peak"
   ]
  },
  {
   "cell_type": "code",
   "execution_count": 5,
   "metadata": {
    "collapsed": false
   },
   "outputs": [],
   "source": [
    "MS005_full=composite_full[['Group','MS 0.05']]\n",
    "MS005df=pd.melt(MS005_full,\"Group\",var_name=\"Odor\")\n",
    "cg=MS005_full[MS005_full['Group']=='Control']\n",
    "mg=MS005_full[MS005_full['Group']=='Mint']\n",
    "hg=MS005_full[MS005_full['Group']=='Hexanal']"
   ]
  },
  {
   "cell_type": "code",
   "execution_count": 6,
   "metadata": {
    "collapsed": false
   },
   "outputs": [],
   "source": [
    "from scipy.stats import gaussian_kde"
   ]
  },
  {
   "cell_type": "code",
   "execution_count": 7,
   "metadata": {
    "collapsed": false
   },
   "outputs": [],
   "source": [
    "from scipy.signal import find_peaks_cwt"
   ]
  },
  {
   "cell_type": "code",
   "execution_count": 8,
   "metadata": {
    "collapsed": false
   },
   "outputs": [],
   "source": [
    "gkde=gaussian_kde(cg['MS 0.05'])"
   ]
  },
  {
   "cell_type": "code",
   "execution_count": 10,
   "metadata": {
    "collapsed": false
   },
   "outputs": [
    {
     "data": {
      "text/plain": [
       "<matplotlib.axes._subplots.AxesSubplot at 0xc1aff60>"
      ]
     },
     "execution_count": 10,
     "metadata": {},
     "output_type": "execute_result"
    }
   ],
   "source": [
    "sns.distplot(cg['MS 0.05'])"
   ]
  },
  {
   "cell_type": "code",
   "execution_count": 15,
   "metadata": {
    "collapsed": true
   },
   "outputs": [],
   "source": [
    "x=np.arange(-1,5,0.01)\n",
    "y=gkde.evaluate(y)"
   ]
  },
  {
   "cell_type": "code",
   "execution_count": 22,
   "metadata": {
    "collapsed": false
   },
   "outputs": [
    {
     "data": {
      "text/plain": [
       "[<matplotlib.lines.Line2D at 0xe9b3828>]"
      ]
     },
     "execution_count": 22,
     "metadata": {},
     "output_type": "execute_result"
    }
   ],
   "source": [
    "plt.plot(x,y)"
   ]
  },
  {
   "cell_type": "code",
   "execution_count": 23,
   "metadata": {
    "collapsed": true
   },
   "outputs": [],
   "source": [
    "from scipy import signal"
   ]
  },
  {
   "cell_type": "code",
   "execution_count": 34,
   "metadata": {
    "collapsed": false
   },
   "outputs": [
    {
     "data": {
      "text/plain": [
       "1.1579025390002664"
      ]
     },
     "execution_count": 34,
     "metadata": {},
     "output_type": "execute_result"
    }
   ],
   "source": [
    "np.amax(y)"
   ]
  },
  {
   "cell_type": "code",
   "execution_count": 410,
   "metadata": {
    "collapsed": false
   },
   "outputs": [],
   "source": [
    "sns.set(style=\"white\", palette=\"muted\", color_codes=True);\n",
    "sns.set_context(\"talk\",font_scale=3);\n",
    "plt.figure(figsize=(15,18));\n",
    "sns.boxplot(x=\"Odor\", y=\"value\", hue=\"Group\",palette={\"Control\": \"r\", \"Hexanal\": \"b\",\"Mint\":\"g\"}, data=MS005df);\n",
    "sns.despine();\n",
    "plt.legend(loc='upper right');\n",
    "plt.ylabel('Peak DF/F');\n",
    "plt.title('Peak DF/F');\n",
    "plt.xlabel('Odor');"
   ]
  },
  {
   "cell_type": "code",
   "execution_count": 411,
   "metadata": {
    "collapsed": true
   },
   "outputs": [
    {
     "data": {
      "text/html": [
       "<div>\n",
       "<table border=\"1\" class=\"dataframe\">\n",
       "  <thead>\n",
       "    <tr style=\"text-align: right;\">\n",
       "      <th></th>\n",
       "      <th>Group</th>\n",
       "      <th>MS 0.05</th>\n",
       "    </tr>\n",
       "  </thead>\n",
       "  <tbody>\n",
       "    <tr>\n",
       "      <th>266</th>\n",
       "      <td>Hexanal</td>\n",
       "      <td>0.096774</td>\n",
       "    </tr>\n",
       "    <tr>\n",
       "      <th>267</th>\n",
       "      <td>Hexanal</td>\n",
       "      <td>0.081605</td>\n",
       "    </tr>\n",
       "    <tr>\n",
       "      <th>268</th>\n",
       "      <td>Hexanal</td>\n",
       "      <td>0.158723</td>\n",
       "    </tr>\n",
       "    <tr>\n",
       "      <th>269</th>\n",
       "      <td>Hexanal</td>\n",
       "      <td>0.024024</td>\n",
       "    </tr>\n",
       "    <tr>\n",
       "      <th>270</th>\n",
       "      <td>Hexanal</td>\n",
       "      <td>0.014518</td>\n",
       "    </tr>\n",
       "  </tbody>\n",
       "</table>\n",
       "</div>"
      ],
      "text/plain": [
       "       Group   MS 0.05\n",
       "266  Hexanal  0.096774\n",
       "267  Hexanal  0.081605\n",
       "268  Hexanal  0.158723\n",
       "269  Hexanal  0.024024\n",
       "270  Hexanal  0.014518"
      ]
     },
     "execution_count": 411,
     "metadata": {},
     "output_type": "execute_result"
    }
   ],
   "source": [
    "MS005ctrl=MS005_full[MS005_full['Group'] == 'Control']\n",
    "MS005MS=MS005_full[MS005_full['Group'] == 'Mint']\n",
    "MS005H=MS005_full[MS005_full['Group'] == 'Hexanal']\n",
    "MS005H.head()"
   ]
  },
  {
   "cell_type": "code",
   "execution_count": 412,
   "metadata": {
    "collapsed": true
   },
   "outputs": [],
   "source": [
    "sns.set(style=\"white\", palette=\"muted\", color_codes=True)\n",
    "sns.set_context(\"talk\", font_scale=2)\n",
    "# Set up the matplotlib figure\n",
    "f, axes = plt.subplots(2, 2, figsize=(30,20), sharex=True)\n",
    "# f.suptitle(\"MS 0.05\", fontsize=44)\n",
    "sns.despine(left=True)\n",
    "\n",
    "#data\n",
    "d = MS005ctrl['MS 0.05']\n",
    "e = MS005MS['MS 0.05']\n",
    "f = MS005H['MS 0.05']\n",
    "\n",
    "# Plot a simple histogram with binsize determined automatically\n",
    "sns.distplot(d, kde=False, color=\"r\", hist_kws={\"histtype\":'step',\"linewidth\":3,\"alpha\":0.7},axlabel= False,ax=axes[0, 0])\n",
    "sns.distplot(e, kde=False, color=\"g\", hist_kws={\"histtype\":'step',\"linewidth\":3,\"alpha\":0.7},axlabel= False,ax=axes[0, 0])\n",
    "sns.distplot(f, kde=False, color=\"b\", hist_kws={\"histtype\":'step',\"linewidth\":3,\"alpha\":0.7},axlabel= False,ax=axes[0, 0])\n",
    "\n",
    "# Plot a kernel density estimate and rug plot\n",
    "sns.distplot(d, hist=False, rug=True, color=\"r\", axlabel= False,ax=axes[0, 1],label=\"Control\")\n",
    "sns.distplot(e, hist=False, rug=True, color=\"g\", axlabel= False,ax=axes[0, 1],label=\"Mint\")\n",
    "sns.distplot(f, hist=False, rug=True, color=\"b\", axlabel= False,ax=axes[0, 1],label=\"Hexanal\")\n",
    "\n",
    "# Plot a filled kernel density estimate\n",
    "sns.distplot(d, hist=False, color=\"r\", kde_kws={\"shade\": True}, axlabel=False,ax=axes[1, 0])\n",
    "sns.distplot(e, hist=False, color=\"g\", kde_kws={\"shade\": True}, axlabel=False,ax=axes[1, 0])\n",
    "sns.distplot(f, hist=False, color=\"b\", kde_kws={\"shade\": True}, axlabel= False,ax=axes[1, 0])\n",
    "\n",
    "# Plot a historgram and kernel density estimate\n",
    "sns.distplot(d, color=\"r\",axlabel= False,ax=axes[1, 1])\n",
    "sns.distplot(e, color=\"g\",axlabel= False,ax=axes[1, 1])\n",
    "sns.distplot(f, color=\"b\",axlabel= False,ax=axes[1, 1])\n",
    "\n",
    "plt.setp(axes, yticks=[])\n",
    "plt.tight_layout()"
   ]
  },
  {
   "cell_type": "code",
   "execution_count": 413,
   "metadata": {
    "collapsed": false,
    "scrolled": true
   },
   "outputs": [
    {
     "data": {
      "text/plain": [
       "KruskalResult(statistic=22.348493455193285, pvalue=1.4030925116132286e-05)"
      ]
     },
     "execution_count": 413,
     "metadata": {},
     "output_type": "execute_result"
    }
   ],
   "source": [
    "kruskal(MS005_full[MS005_full['Group'] == 'Control']['MS 0.05'],MS005_full[MS005_full['Group'] == 'Mint']['MS 0.05'],MS005_full[MS005_full['Group'] == 'Hexanal']['MS 0.05'],nan_policy='omit')"
   ]
  },
  {
   "cell_type": "markdown",
   "metadata": {},
   "source": [
    "# MS 0.1"
   ]
  },
  {
   "cell_type": "code",
   "execution_count": 414,
   "metadata": {
    "collapsed": false
   },
   "outputs": [],
   "source": [
    "MS10_full=composite_full[['Group','MS 0.1']]\n",
    "MS10df=pd.melt(MS10_full,\"Group\",var_name=\"Odor\")"
   ]
  },
  {
   "cell_type": "code",
   "execution_count": 415,
   "metadata": {
    "collapsed": false
   },
   "outputs": [],
   "source": [
    "sns.set(style=\"white\", palette=\"muted\", color_codes=True);\n",
    "sns.set_context(\"talk\",font_scale=3);\n",
    "plt.figure(figsize=(15,18));\n",
    "sns.barplot(x=\"Odor\", y=\"value\", hue=\"Group\",palette={\"Control\": \"r\", \"Hexanal\": \"b\",\"Mint\":\"g\"}, data=MS10df);\n",
    "sns.despine();\n",
    "plt.legend(loc='upper right');\n",
    "plt.ylabel('Peak DF/F');\n",
    "plt.title('Peak DF/F');"
   ]
  },
  {
   "cell_type": "code",
   "execution_count": 416,
   "metadata": {
    "collapsed": false
   },
   "outputs": [],
   "source": [
    "sns.set(style=\"white\", palette=\"muted\", color_codes=True);\n",
    "sns.set_context(\"talk\",font_scale=3);\n",
    "plt.figure(figsize=(15,18));\n",
    "sns.boxplot(x=\"Odor\", y=\"value\", hue=\"Group\",palette={\"Control\": \"r\", \"Hexanal\": \"b\",\"Mint\":\"g\"}, data=MS10df);\n",
    "sns.despine();\n",
    "plt.legend(loc='upper right');\n",
    "plt.ylabel('Peak DF/F');\n",
    "plt.title('Peak DF/F');\n",
    "plt.xlabel('Odor');"
   ]
  },
  {
   "cell_type": "code",
   "execution_count": 417,
   "metadata": {
    "collapsed": true
   },
   "outputs": [
    {
     "data": {
      "text/html": [
       "<div>\n",
       "<table border=\"1\" class=\"dataframe\">\n",
       "  <thead>\n",
       "    <tr style=\"text-align: right;\">\n",
       "      <th></th>\n",
       "      <th>Group</th>\n",
       "      <th>MS 0.1</th>\n",
       "    </tr>\n",
       "  </thead>\n",
       "  <tbody>\n",
       "    <tr>\n",
       "      <th>266</th>\n",
       "      <td>Hexanal</td>\n",
       "      <td>0.149891</td>\n",
       "    </tr>\n",
       "    <tr>\n",
       "      <th>267</th>\n",
       "      <td>Hexanal</td>\n",
       "      <td>0.094942</td>\n",
       "    </tr>\n",
       "    <tr>\n",
       "      <th>268</th>\n",
       "      <td>Hexanal</td>\n",
       "      <td>0.250858</td>\n",
       "    </tr>\n",
       "    <tr>\n",
       "      <th>269</th>\n",
       "      <td>Hexanal</td>\n",
       "      <td>0.048251</td>\n",
       "    </tr>\n",
       "    <tr>\n",
       "      <th>270</th>\n",
       "      <td>Hexanal</td>\n",
       "      <td>0.080076</td>\n",
       "    </tr>\n",
       "  </tbody>\n",
       "</table>\n",
       "</div>"
      ],
      "text/plain": [
       "       Group    MS 0.1\n",
       "266  Hexanal  0.149891\n",
       "267  Hexanal  0.094942\n",
       "268  Hexanal  0.250858\n",
       "269  Hexanal  0.048251\n",
       "270  Hexanal  0.080076"
      ]
     },
     "execution_count": 417,
     "metadata": {},
     "output_type": "execute_result"
    }
   ],
   "source": [
    "MS10ctrl=MS10_full[MS10_full['Group'] == 'Control']\n",
    "MS10MS=MS10_full[MS10_full['Group'] == 'Mint']\n",
    "MS10H=MS10_full[MS10_full['Group'] == 'Hexanal']\n",
    "MS10H.head()"
   ]
  },
  {
   "cell_type": "code",
   "execution_count": 418,
   "metadata": {
    "collapsed": true
   },
   "outputs": [],
   "source": [
    "sns.set(style=\"white\", palette=\"muted\", color_codes=True)\n",
    "sns.set_context(\"talk\", font_scale=2)\n",
    "# Set up the matplotlib figure\n",
    "f, axes = plt.subplots(2, 2, figsize=(30,20), sharex=True)\n",
    "# f.suptitle(\"MS 0.1\", fontsize=44)\n",
    "sns.despine(left=True)\n",
    "\n",
    "#data\n",
    "d = MS10ctrl['MS 0.1']\n",
    "e = MS10MS['MS 0.1']\n",
    "f = MS10H['MS 0.1']\n",
    "\n",
    "# Plot a simple histogram with binsize determined automatically\n",
    "sns.distplot(d, kde=False, color=\"r\", hist_kws={\"histtype\":'step',\"linewidth\":3,\"alpha\":0.7},axlabel= False,ax=axes[0, 0])\n",
    "sns.distplot(e, kde=False, color=\"g\", hist_kws={\"histtype\":'step',\"linewidth\":3,\"alpha\":0.7},axlabel= False,ax=axes[0, 0])\n",
    "sns.distplot(f, kde=False, color=\"b\", hist_kws={\"histtype\":'step',\"linewidth\":3,\"alpha\":0.7},axlabel= False,ax=axes[0, 0])\n",
    "\n",
    "# Plot a kernel density estimate and rug plot\n",
    "sns.distplot(d, hist=False, rug=True, color=\"r\", axlabel= False,ax=axes[0, 1],label=\"Control\")\n",
    "sns.distplot(e, hist=False, rug=True, color=\"g\", axlabel= False,ax=axes[0, 1],label=\"Mint\")\n",
    "sns.distplot(f, hist=False, rug=True, color=\"b\", axlabel= False,ax=axes[0, 1],label=\"Hexanal\")\n",
    "\n",
    "# Plot a filled kernel density estimate\n",
    "sns.distplot(d, hist=False, color=\"r\", kde_kws={\"shade\": True}, axlabel=False,ax=axes[1, 0])\n",
    "sns.distplot(e, hist=False, color=\"g\", kde_kws={\"shade\": True}, axlabel=False,ax=axes[1, 0])\n",
    "sns.distplot(f, hist=False, color=\"b\", kde_kws={\"shade\": True}, axlabel= False,ax=axes[1, 0])\n",
    "\n",
    "# Plot a historgram and kernel density estimate\n",
    "sns.distplot(d, color=\"r\",axlabel= False,ax=axes[1, 1])\n",
    "sns.distplot(e, color=\"g\",axlabel= False,ax=axes[1, 1])\n",
    "sns.distplot(f, color=\"b\",axlabel= False,ax=axes[1, 1])\n",
    "\n",
    "plt.setp(axes, yticks=[])\n",
    "plt.tight_layout()"
   ]
  },
  {
   "cell_type": "code",
   "execution_count": 126,
   "metadata": {
    "collapsed": false
   },
   "outputs": [
    {
     "data": {
      "text/plain": [
       "KruskalResult(statistic=26.646950444965789, pvalue=1.6356419143785338e-06)"
      ]
     },
     "execution_count": 126,
     "metadata": {},
     "output_type": "execute_result"
    }
   ],
   "source": [
    "kruskal(THA_full[THA_full['Group'] == 'Control']['THA'],THA_full[THA_full['Group'] == 'Mint']['THA'],THA_full[THA_full['Group'] == 'Hexanal']['THA'],nan_policy='omit')"
   ]
  },
  {
   "cell_type": "markdown",
   "metadata": {},
   "source": [
    "# IAA 1%"
   ]
  },
  {
   "cell_type": "code",
   "execution_count": 419,
   "metadata": {
    "collapsed": false
   },
   "outputs": [],
   "source": [
    "IAA001_full=composite_full[['Group','IAA 0.01']]\n",
    "IAA001df=pd.melt(IAA001_full,\"Group\",var_name=\"Odor\")"
   ]
  },
  {
   "cell_type": "code",
   "execution_count": 420,
   "metadata": {
    "collapsed": false
   },
   "outputs": [],
   "source": [
    "sns.set(style=\"white\", palette=\"muted\", color_codes=True);\n",
    "sns.set_context(\"talk\",font_scale=3);\n",
    "plt.figure(figsize=(15,18));\n",
    "sns.barplot(x=\"Odor\", y=\"value\", hue=\"Group\",palette={\"Control\": \"r\", \"Hexanal\": \"b\",\"Mint\":\"g\"}, data=IAA001df);\n",
    "sns.despine();\n",
    "plt.legend(loc='upper right');\n",
    "plt.ylabel('Peak DF/F');\n",
    "plt.title('Peak DF/F');"
   ]
  },
  {
   "cell_type": "code",
   "execution_count": 421,
   "metadata": {
    "collapsed": false
   },
   "outputs": [],
   "source": [
    "sns.set(style=\"white\", palette=\"muted\", color_codes=True);\n",
    "sns.set_context(\"talk\",font_scale=3);\n",
    "plt.figure(figsize=(15,18));\n",
    "sns.boxplot(x=\"Odor\", y=\"value\", hue=\"Group\",palette={\"Control\": \"r\", \"Hexanal\": \"b\",\"Mint\":\"g\"}, data=IAA001df);\n",
    "sns.despine();\n",
    "plt.legend(loc='upper right');\n",
    "plt.ylabel('Peak DF/F');\n",
    "plt.title('Peak DF/F');\n",
    "plt.xlabel('Odor');"
   ]
  },
  {
   "cell_type": "code",
   "execution_count": 422,
   "metadata": {
    "collapsed": true
   },
   "outputs": [
    {
     "data": {
      "text/html": [
       "<div>\n",
       "<table border=\"1\" class=\"dataframe\">\n",
       "  <thead>\n",
       "    <tr style=\"text-align: right;\">\n",
       "      <th></th>\n",
       "      <th>Group</th>\n",
       "      <th>IAA 0.01</th>\n",
       "    </tr>\n",
       "  </thead>\n",
       "  <tbody>\n",
       "    <tr>\n",
       "      <th>266</th>\n",
       "      <td>Hexanal</td>\n",
       "      <td>0.210982</td>\n",
       "    </tr>\n",
       "    <tr>\n",
       "      <th>267</th>\n",
       "      <td>Hexanal</td>\n",
       "      <td>0.207433</td>\n",
       "    </tr>\n",
       "    <tr>\n",
       "      <th>268</th>\n",
       "      <td>Hexanal</td>\n",
       "      <td>0.350660</td>\n",
       "    </tr>\n",
       "    <tr>\n",
       "      <th>269</th>\n",
       "      <td>Hexanal</td>\n",
       "      <td>0.099299</td>\n",
       "    </tr>\n",
       "    <tr>\n",
       "      <th>270</th>\n",
       "      <td>Hexanal</td>\n",
       "      <td>0.103156</td>\n",
       "    </tr>\n",
       "  </tbody>\n",
       "</table>\n",
       "</div>"
      ],
      "text/plain": [
       "       Group  IAA 0.01\n",
       "266  Hexanal  0.210982\n",
       "267  Hexanal  0.207433\n",
       "268  Hexanal  0.350660\n",
       "269  Hexanal  0.099299\n",
       "270  Hexanal  0.103156"
      ]
     },
     "execution_count": 422,
     "metadata": {},
     "output_type": "execute_result"
    }
   ],
   "source": [
    "IAA001ctrl=IAA001_full[IAA001_full['Group'] == 'Control']\n",
    "IAA001MS=IAA001_full[IAA001_full['Group'] == 'Mint']\n",
    "IAA001H=IAA001_full[IAA001_full['Group'] == 'Hexanal']\n",
    "IAA001H.head()"
   ]
  },
  {
   "cell_type": "code",
   "execution_count": 423,
   "metadata": {
    "collapsed": true
   },
   "outputs": [],
   "source": [
    "sns.set(style=\"white\", palette=\"muted\", color_codes=True)\n",
    "sns.set_context(\"talk\", font_scale=2)\n",
    "# Set up the matplotlib figure\n",
    "f, axes = plt.subplots(2, 2, figsize=(30,20), sharex=True)\n",
    "# f.suptitle(\"IAA 0.01\", fontsize=44)\n",
    "sns.despine(left=True)\n",
    "\n",
    "#data\n",
    "d = IAA001ctrl['IAA 0.01']\n",
    "e = IAA001MS['IAA 0.01']\n",
    "f = IAA001H['IAA 0.01']\n",
    "\n",
    "# Plot a simple histogram with binsize determined automatically\n",
    "sns.distplot(d, kde=False, color=\"r\", hist_kws={\"histtype\":'step',\"linewidth\":3,\"alpha\":0.7},axlabel= False,ax=axes[0, 0])\n",
    "sns.distplot(e, kde=False, color=\"g\", hist_kws={\"histtype\":'step',\"linewidth\":3,\"alpha\":0.7},axlabel= False,ax=axes[0, 0])\n",
    "sns.distplot(f, kde=False, color=\"b\", hist_kws={\"histtype\":'step',\"linewidth\":3,\"alpha\":0.7},axlabel= False,ax=axes[0, 0])\n",
    "\n",
    "# Plot a kernel density estimate and rug plot\n",
    "sns.distplot(d, hist=False, rug=True, color=\"r\", axlabel= False,ax=axes[0, 1],label=\"Control\")\n",
    "sns.distplot(e, hist=False, rug=True, color=\"g\", axlabel= False,ax=axes[0, 1],label=\"Mint\")\n",
    "sns.distplot(f, hist=False, rug=True, color=\"b\", axlabel= False,ax=axes[0, 1],label=\"Hexanal\")\n",
    "\n",
    "# Plot a filled kernel density estimate\n",
    "sns.distplot(d, hist=False, color=\"r\", kde_kws={\"shade\": True}, axlabel=False,ax=axes[1, 0])\n",
    "sns.distplot(e, hist=False, color=\"g\", kde_kws={\"shade\": True}, axlabel=False,ax=axes[1, 0])\n",
    "sns.distplot(f, hist=False, color=\"b\", kde_kws={\"shade\": True}, axlabel= False,ax=axes[1, 0])\n",
    "\n",
    "# Plot a historgram and kernel density estimate\n",
    "sns.distplot(d, color=\"r\",axlabel= False,ax=axes[1, 1])\n",
    "sns.distplot(e, color=\"g\",axlabel= False,ax=axes[1, 1])\n",
    "sns.distplot(f, color=\"b\",axlabel= False,ax=axes[1, 1])\n",
    "\n",
    "plt.setp(axes, yticks=[])\n",
    "plt.tight_layout()"
   ]
  },
  {
   "cell_type": "code",
   "execution_count": 424,
   "metadata": {
    "collapsed": false,
    "scrolled": true
   },
   "outputs": [
    {
     "data": {
      "text/plain": [
       "KruskalResult(statistic=22.979999688546172, pvalue=1.0231904325257964e-05)"
      ]
     },
     "execution_count": 424,
     "metadata": {},
     "output_type": "execute_result"
    }
   ],
   "source": [
    "kruskal(IAA001_full[IAA001_full['Group'] == 'Control']['IAA 0.01'],IAA001_full[IAA001_full['Group'] == 'Mint']['IAA 0.01'],IAA001_full[IAA001_full['Group'] == 'Hexanal']['IAA 0.01'],nan_policy='omit')"
   ]
  },
  {
   "cell_type": "markdown",
   "metadata": {},
   "source": [
    "# IAA 0.05"
   ]
  },
  {
   "cell_type": "code",
   "execution_count": 425,
   "metadata": {
    "collapsed": false
   },
   "outputs": [],
   "source": [
    "IAA005_full=composite_full[['Group','IAA 0.05']]\n",
    "IAA005df=pd.melt(IAA005_full,\"Group\",var_name=\"Odor\")"
   ]
  },
  {
   "cell_type": "code",
   "execution_count": 426,
   "metadata": {
    "collapsed": false
   },
   "outputs": [],
   "source": [
    "sns.set(style=\"white\", palette=\"muted\", color_codes=True);\n",
    "sns.set_context(\"talk\",font_scale=3);\n",
    "plt.figure(figsize=(15,18));\n",
    "sns.barplot(x=\"Odor\", y=\"value\", hue=\"Group\",palette={\"Control\": \"r\", \"Hexanal\": \"b\",\"Mint\":\"g\"}, data=IAA005df);\n",
    "sns.despine();\n",
    "plt.legend(loc='upper right');\n",
    "plt.ylabel('Peak DF/F');\n",
    "plt.title('Peak DF/F');"
   ]
  },
  {
   "cell_type": "code",
   "execution_count": 427,
   "metadata": {
    "collapsed": false
   },
   "outputs": [],
   "source": [
    "sns.set(style=\"white\", palette=\"muted\", color_codes=True);\n",
    "sns.set_context(\"talk\",font_scale=3);\n",
    "plt.figure(figsize=(15,18));\n",
    "sns.boxplot(x=\"Odor\", y=\"value\", hue=\"Group\",palette={\"Control\": \"r\", \"Hexanal\": \"b\",\"Mint\":\"g\"}, data=IAA005df);\n",
    "sns.despine();\n",
    "plt.legend(loc='upper right');\n",
    "plt.ylabel('Peak DF/F');\n",
    "plt.title('Peak DF/F');\n",
    "plt.xlabel('Odor');"
   ]
  },
  {
   "cell_type": "code",
   "execution_count": 428,
   "metadata": {
    "collapsed": true
   },
   "outputs": [
    {
     "data": {
      "text/html": [
       "<div>\n",
       "<table border=\"1\" class=\"dataframe\">\n",
       "  <thead>\n",
       "    <tr style=\"text-align: right;\">\n",
       "      <th></th>\n",
       "      <th>Group</th>\n",
       "      <th>IAA 0.05</th>\n",
       "    </tr>\n",
       "  </thead>\n",
       "  <tbody>\n",
       "    <tr>\n",
       "      <th>266</th>\n",
       "      <td>Hexanal</td>\n",
       "      <td>0.082528</td>\n",
       "    </tr>\n",
       "    <tr>\n",
       "      <th>267</th>\n",
       "      <td>Hexanal</td>\n",
       "      <td>0.068120</td>\n",
       "    </tr>\n",
       "    <tr>\n",
       "      <th>268</th>\n",
       "      <td>Hexanal</td>\n",
       "      <td>0.130934</td>\n",
       "    </tr>\n",
       "    <tr>\n",
       "      <th>269</th>\n",
       "      <td>Hexanal</td>\n",
       "      <td>0.042892</td>\n",
       "    </tr>\n",
       "    <tr>\n",
       "      <th>270</th>\n",
       "      <td>Hexanal</td>\n",
       "      <td>0.026460</td>\n",
       "    </tr>\n",
       "  </tbody>\n",
       "</table>\n",
       "</div>"
      ],
      "text/plain": [
       "       Group  IAA 0.05\n",
       "266  Hexanal  0.082528\n",
       "267  Hexanal  0.068120\n",
       "268  Hexanal  0.130934\n",
       "269  Hexanal  0.042892\n",
       "270  Hexanal  0.026460"
      ]
     },
     "execution_count": 428,
     "metadata": {},
     "output_type": "execute_result"
    }
   ],
   "source": [
    "IAA005ctrl=IAA005_full[IAA005_full['Group'] == 'Control']\n",
    "IAA005MS=IAA005_full[IAA005_full['Group'] == 'Mint']\n",
    "IAA005H=IAA005_full[IAA005_full['Group'] == 'Hexanal']\n",
    "IAA005H.head()"
   ]
  },
  {
   "cell_type": "code",
   "execution_count": 429,
   "metadata": {
    "collapsed": true
   },
   "outputs": [],
   "source": [
    "sns.set(style=\"white\", palette=\"muted\", color_codes=True)\n",
    "sns.set_context(\"talk\", font_scale=2)\n",
    "# Set up the matplotlib figure\n",
    "f, axes = plt.subplots(2, 2, figsize=(30,20), sharex=True)\n",
    "# f.suptitle(\"IAA 0.05\", fontsize=44)\n",
    "sns.despine(left=True)\n",
    "\n",
    "#data\n",
    "d = IAA005ctrl['IAA 0.05']\n",
    "e = IAA005MS['IAA 0.05']\n",
    "f = IAA005H['IAA 0.05']\n",
    "\n",
    "# Plot a simple histogram with binsize determined automatically\n",
    "sns.distplot(d, kde=False, color=\"r\", hist_kws={\"histtype\":'step',\"linewidth\":3,\"alpha\":0.7},axlabel= False,ax=axes[0, 0])\n",
    "sns.distplot(e, kde=False, color=\"g\", hist_kws={\"histtype\":'step',\"linewidth\":3,\"alpha\":0.7},axlabel= False,ax=axes[0, 0])\n",
    "sns.distplot(f, kde=False, color=\"b\", hist_kws={\"histtype\":'step',\"linewidth\":3,\"alpha\":0.7},axlabel= False,ax=axes[0, 0])\n",
    "\n",
    "# Plot a kernel density estimate and rug plot\n",
    "sns.distplot(d, hist=False, rug=True, color=\"r\", axlabel= False,ax=axes[0, 1],label=\"Control\")\n",
    "sns.distplot(e, hist=False, rug=True, color=\"g\", axlabel= False,ax=axes[0, 1],label=\"Mint\")\n",
    "sns.distplot(f, hist=False, rug=True, color=\"b\", axlabel= False,ax=axes[0, 1],label=\"Hexanal\")\n",
    "\n",
    "# Plot a filled kernel density estimate\n",
    "sns.distplot(d, hist=False, color=\"r\", kde_kws={\"shade\": True}, axlabel=False,ax=axes[1, 0])\n",
    "sns.distplot(e, hist=False, color=\"g\", kde_kws={\"shade\": True}, axlabel=False,ax=axes[1, 0])\n",
    "sns.distplot(f, hist=False, color=\"b\", kde_kws={\"shade\": True}, axlabel= False,ax=axes[1, 0])\n",
    "\n",
    "# Plot a historgram and kernel density estimate\n",
    "sns.distplot(d, color=\"r\",axlabel= False,ax=axes[1, 1])\n",
    "sns.distplot(e, color=\"g\",axlabel= False,ax=axes[1, 1])\n",
    "sns.distplot(f, color=\"b\",axlabel= False,ax=axes[1, 1])\n",
    "\n",
    "plt.setp(axes, yticks=[])\n",
    "plt.tight_layout()"
   ]
  },
  {
   "cell_type": "code",
   "execution_count": 430,
   "metadata": {
    "collapsed": false
   },
   "outputs": [
    {
     "data": {
      "text/plain": [
       "KruskalResult(statistic=7.2116318108394726, pvalue=0.027165271476384416)"
      ]
     },
     "execution_count": 430,
     "metadata": {},
     "output_type": "execute_result"
    }
   ],
   "source": [
    "kruskal(IAA005_full[IAA005_full['Group'] == 'Control']['IAA 0.05'],IAA005_full[IAA005_full['Group'] == 'Mint']['IAA 0.05'],IAA005_full[IAA005_full['Group'] == 'Hexanal']['IAA 0.05'],nan_policy='omit')"
   ]
  },
  {
   "cell_type": "markdown",
   "metadata": {},
   "source": [
    "# IAA 0.1"
   ]
  },
  {
   "cell_type": "code",
   "execution_count": 437,
   "metadata": {
    "collapsed": false
   },
   "outputs": [],
   "source": [
    "IAA10_full=composite_full[['Group','IAA 0.1']]\n",
    "IAA10df=pd.melt(IAA10_full,\"Group\",var_name=\"Odor\")"
   ]
  },
  {
   "cell_type": "code",
   "execution_count": 438,
   "metadata": {
    "collapsed": false
   },
   "outputs": [],
   "source": [
    "sns.set(style=\"white\", palette=\"muted\", color_codes=True);\n",
    "sns.set_context(\"talk\",font_scale=3);\n",
    "plt.figure(figsize=(15,18));\n",
    "sns.barplot(x=\"Odor\", y=\"value\", hue=\"Group\",palette={\"Control\": \"r\", \"Hexanal\": \"b\",\"Mint\":\"g\"}, data=IAA10df);\n",
    "sns.despine();\n",
    "plt.legend(loc='upper right');\n",
    "plt.ylabel('Peak DF/F');\n",
    "plt.title('Peak DF/F');"
   ]
  },
  {
   "cell_type": "code",
   "execution_count": 439,
   "metadata": {
    "collapsed": false
   },
   "outputs": [],
   "source": [
    "sns.set(style=\"white\", palette=\"muted\", color_codes=True);\n",
    "sns.set_context(\"talk\",font_scale=3);\n",
    "plt.figure(figsize=(15,18));\n",
    "sns.boxplot(x=\"Odor\", y=\"value\", hue=\"Group\",palette={\"Control\": \"r\", \"Hexanal\": \"b\",\"Mint\":\"g\"}, data=IAA10df);\n",
    "sns.despine();\n",
    "plt.legend(loc='upper right');\n",
    "plt.ylabel('Peak DF/F');\n",
    "plt.title('Peak DF/F');\n",
    "plt.xlabel('Odor');"
   ]
  },
  {
   "cell_type": "code",
   "execution_count": 440,
   "metadata": {
    "collapsed": false
   },
   "outputs": [
    {
     "data": {
      "text/html": [
       "<div>\n",
       "<table border=\"1\" class=\"dataframe\">\n",
       "  <thead>\n",
       "    <tr style=\"text-align: right;\">\n",
       "      <th></th>\n",
       "      <th>Group</th>\n",
       "      <th>IAA 0.1</th>\n",
       "    </tr>\n",
       "  </thead>\n",
       "  <tbody>\n",
       "    <tr>\n",
       "      <th>266</th>\n",
       "      <td>Hexanal</td>\n",
       "      <td>0.382490</td>\n",
       "    </tr>\n",
       "    <tr>\n",
       "      <th>267</th>\n",
       "      <td>Hexanal</td>\n",
       "      <td>0.402160</td>\n",
       "    </tr>\n",
       "    <tr>\n",
       "      <th>268</th>\n",
       "      <td>Hexanal</td>\n",
       "      <td>0.439151</td>\n",
       "    </tr>\n",
       "    <tr>\n",
       "      <th>269</th>\n",
       "      <td>Hexanal</td>\n",
       "      <td>0.090707</td>\n",
       "    </tr>\n",
       "    <tr>\n",
       "      <th>270</th>\n",
       "      <td>Hexanal</td>\n",
       "      <td>0.154604</td>\n",
       "    </tr>\n",
       "  </tbody>\n",
       "</table>\n",
       "</div>"
      ],
      "text/plain": [
       "       Group   IAA 0.1\n",
       "266  Hexanal  0.382490\n",
       "267  Hexanal  0.402160\n",
       "268  Hexanal  0.439151\n",
       "269  Hexanal  0.090707\n",
       "270  Hexanal  0.154604"
      ]
     },
     "execution_count": 440,
     "metadata": {},
     "output_type": "execute_result"
    }
   ],
   "source": [
    "IAA10ctrl=IAA10_full[IAA10_full['Group'] == 'Control']\n",
    "IAA10MS=IAA10_full[IAA10_full['Group'] == 'Mint']\n",
    "IAA10H=IAA10_full[IAA10_full['Group'] == 'Hexanal']\n",
    "IAA10H.head()"
   ]
  },
  {
   "cell_type": "code",
   "execution_count": 441,
   "metadata": {
    "collapsed": true
   },
   "outputs": [],
   "source": [
    "sns.set(style=\"white\", palette=\"muted\", color_codes=True)\n",
    "sns.set_context(\"talk\", font_scale=2)\n",
    "# Set up the matplotlib figure\n",
    "f, axes = plt.subplots(2, 2, figsize=(30,20), sharex=True)\n",
    "# f.suptitle(\"IAA 0.1\", fontsize=44)\n",
    "sns.despine(left=True)\n",
    "\n",
    "#data\n",
    "d = IAA10ctrl['IAA 0.1']\n",
    "e = IAA10MS['IAA 0.1']\n",
    "f = IAA10H['IAA 0.1']\n",
    "\n",
    "# Plot a simple histogram with binsize determined automatically\n",
    "sns.distplot(d, kde=False, color=\"r\", hist_kws={\"histtype\":'step',\"linewidth\":3,\"alpha\":0.7},axlabel= False,ax=axes[0, 0])\n",
    "sns.distplot(e, kde=False, color=\"g\", hist_kws={\"histtype\":'step',\"linewidth\":3,\"alpha\":0.7},axlabel= False,ax=axes[0, 0])\n",
    "sns.distplot(f, kde=False, color=\"b\", hist_kws={\"histtype\":'step',\"linewidth\":3,\"alpha\":0.7},axlabel= False,ax=axes[0, 0])\n",
    "\n",
    "# Plot a kernel density estimate and rug plot\n",
    "sns.distplot(d, hist=False, rug=True, color=\"r\", axlabel= False,ax=axes[0, 1],label=\"Control\")\n",
    "sns.distplot(e, hist=False, rug=True, color=\"g\", axlabel= False,ax=axes[0, 1],label=\"Mint\")\n",
    "sns.distplot(f, hist=False, rug=True, color=\"b\", axlabel= False,ax=axes[0, 1],label=\"Hexanal\")\n",
    "\n",
    "# Plot a filled kernel density estimate\n",
    "sns.distplot(d, hist=False, color=\"r\", kde_kws={\"shade\": True}, axlabel=False,ax=axes[1, 0])\n",
    "sns.distplot(e, hist=False, color=\"g\", kde_kws={\"shade\": True}, axlabel=False,ax=axes[1, 0])\n",
    "sns.distplot(f, hist=False, color=\"b\", kde_kws={\"shade\": True}, axlabel= False,ax=axes[1, 0])\n",
    "\n",
    "# Plot a historgram and kernel density estimate\n",
    "sns.distplot(d, color=\"r\",axlabel= False,ax=axes[1, 1])\n",
    "sns.distplot(e, color=\"g\",axlabel= False,ax=axes[1, 1])\n",
    "sns.distplot(f, color=\"b\",axlabel= False,ax=axes[1, 1])\n",
    "\n",
    "plt.setp(axes, yticks=[])\n",
    "plt.tight_layout()"
   ]
  },
  {
   "cell_type": "code",
   "execution_count": 436,
   "metadata": {
    "collapsed": false
   },
   "outputs": [
    {
     "data": {
      "text/plain": [
       "KruskalResult(statistic=30.073164294270121, pvalue=2.9491397092061267e-07)"
      ]
     },
     "execution_count": 436,
     "metadata": {},
     "output_type": "execute_result"
    }
   ],
   "source": [
    "kruskal(IAA10_full[IAA10_full['Group'] == 'Control']['IAA 0.1'],IAA10_full[IAA10_full['Group'] == 'Mint']['IAA 0.1'],IAA10_full[IAA10_full['Group'] == 'Hexanal']['IAA 0.1'],nan_policy='omit')"
   ]
  },
  {
   "cell_type": "markdown",
   "metadata": {},
   "source": [
    "# Hexanal 1%"
   ]
  },
  {
   "cell_type": "code",
   "execution_count": 448,
   "metadata": {
    "collapsed": false
   },
   "outputs": [],
   "source": [
    "H001_full=composite_full[['Group','Hexanal 0.01']]\n",
    "H001df=pd.melt(H001_full,\"Group\",var_name=\"Odor\")"
   ]
  },
  {
   "cell_type": "code",
   "execution_count": 449,
   "metadata": {
    "collapsed": false
   },
   "outputs": [],
   "source": [
    "sns.set(style=\"white\", palette=\"muted\", color_codes=True);\n",
    "sns.set_context(\"talk\",font_scale=3);\n",
    "plt.figure(figsize=(15,18));\n",
    "sns.barplot(x=\"Odor\", y=\"value\", hue=\"Group\",palette={\"Control\": \"r\", \"Hexanal\": \"b\",\"Mint\":\"g\"}, data=H001df);\n",
    "sns.despine();\n",
    "plt.legend(loc='upper right');\n",
    "plt.ylabel('Peak DF/F');\n",
    "plt.title('Peak DF/F');"
   ]
  },
  {
   "cell_type": "code",
   "execution_count": 450,
   "metadata": {
    "collapsed": false
   },
   "outputs": [],
   "source": [
    "sns.set(style=\"white\", palette=\"muted\", color_codes=True);\n",
    "sns.set_context(\"talk\",font_scale=3);\n",
    "plt.figure(figsize=(15,18));\n",
    "sns.boxplot(x=\"Odor\", y=\"value\", hue=\"Group\",palette={\"Control\": \"r\", \"Hexanal\": \"b\",\"Mint\":\"g\"}, data=H001df);\n",
    "sns.despine();\n",
    "plt.legend(loc='upper right');\n",
    "plt.ylabel('Peak DF/F');\n",
    "plt.title('Peak DF/F');\n",
    "plt.xlabel('Odor');"
   ]
  },
  {
   "cell_type": "code",
   "execution_count": 451,
   "metadata": {
    "collapsed": false
   },
   "outputs": [
    {
     "data": {
      "text/html": [
       "<div>\n",
       "<table border=\"1\" class=\"dataframe\">\n",
       "  <thead>\n",
       "    <tr style=\"text-align: right;\">\n",
       "      <th></th>\n",
       "      <th>Group</th>\n",
       "      <th>Hexanal 0.01</th>\n",
       "    </tr>\n",
       "  </thead>\n",
       "  <tbody>\n",
       "    <tr>\n",
       "      <th>266</th>\n",
       "      <td>Hexanal</td>\n",
       "      <td>0.346753</td>\n",
       "    </tr>\n",
       "    <tr>\n",
       "      <th>267</th>\n",
       "      <td>Hexanal</td>\n",
       "      <td>0.269426</td>\n",
       "    </tr>\n",
       "    <tr>\n",
       "      <th>268</th>\n",
       "      <td>Hexanal</td>\n",
       "      <td>0.359969</td>\n",
       "    </tr>\n",
       "    <tr>\n",
       "      <th>269</th>\n",
       "      <td>Hexanal</td>\n",
       "      <td>0.136656</td>\n",
       "    </tr>\n",
       "    <tr>\n",
       "      <th>270</th>\n",
       "      <td>Hexanal</td>\n",
       "      <td>0.188876</td>\n",
       "    </tr>\n",
       "  </tbody>\n",
       "</table>\n",
       "</div>"
      ],
      "text/plain": [
       "       Group  Hexanal 0.01\n",
       "266  Hexanal      0.346753\n",
       "267  Hexanal      0.269426\n",
       "268  Hexanal      0.359969\n",
       "269  Hexanal      0.136656\n",
       "270  Hexanal      0.188876"
      ]
     },
     "execution_count": 451,
     "metadata": {},
     "output_type": "execute_result"
    }
   ],
   "source": [
    "H001ctrl=H001_full[H001_full['Group'] == 'Control']\n",
    "H001MS=H001_full[H001_full['Group'] == 'Mint']\n",
    "H001H=H001_full[H001_full['Group'] == 'Hexanal']\n",
    "H001H.head()"
   ]
  },
  {
   "cell_type": "code",
   "execution_count": 452,
   "metadata": {
    "collapsed": false
   },
   "outputs": [],
   "source": [
    "sns.set(style=\"white\", palette=\"muted\", color_codes=True)\n",
    "sns.set_context(\"talk\", font_scale=2)\n",
    "# Set up the matplotlib figure\n",
    "f, axes = plt.subplots(2, 2, figsize=(30,20), sharex=True)\n",
    "# f.suptitle(\"Hexanal 0.01\", fontsize=44)\n",
    "sns.despine(left=True)\n",
    "\n",
    "#data\n",
    "d = H001ctrl['Hexanal 0.01']\n",
    "e = H001MS['Hexanal 0.01']\n",
    "f = H001H['Hexanal 0.01']\n",
    "\n",
    "# Plot a simple histogram with binsize determined automatically\n",
    "sns.distplot(d, kde=False, color=\"r\", hist_kws={\"histtype\":'step',\"linewidth\":3,\"alpha\":0.7},axlabel= False,ax=axes[0, 0])\n",
    "sns.distplot(e, kde=False, color=\"g\", hist_kws={\"histtype\":'step',\"linewidth\":3,\"alpha\":0.7},axlabel= False,ax=axes[0, 0])\n",
    "sns.distplot(f, kde=False, color=\"b\", hist_kws={\"histtype\":'step',\"linewidth\":3,\"alpha\":0.7},axlabel= False,ax=axes[0, 0])\n",
    "\n",
    "# Plot a kernel density estimate and rug plot\n",
    "sns.distplot(d, hist=False, rug=True, color=\"r\", axlabel= False,ax=axes[0, 1],label=\"Control\")\n",
    "sns.distplot(e, hist=False, rug=True, color=\"g\", axlabel= False,ax=axes[0, 1],label=\"Mint\")\n",
    "sns.distplot(f, hist=False, rug=True, color=\"b\", axlabel= False,ax=axes[0, 1],label=\"Hexanal\")\n",
    "\n",
    "# Plot a filled kernel density estimate\n",
    "sns.distplot(d, hist=False, color=\"r\", kde_kws={\"shade\": True}, axlabel=False,ax=axes[1, 0])\n",
    "sns.distplot(e, hist=False, color=\"g\", kde_kws={\"shade\": True}, axlabel=False,ax=axes[1, 0])\n",
    "sns.distplot(f, hist=False, color=\"b\", kde_kws={\"shade\": True}, axlabel= False,ax=axes[1, 0])\n",
    "\n",
    "# Plot a historgram and kernel density estimate\n",
    "sns.distplot(d, color=\"r\",axlabel= False,ax=axes[1, 1])\n",
    "sns.distplot(e, color=\"g\",axlabel= False,ax=axes[1, 1])\n",
    "sns.distplot(f, color=\"b\",axlabel= False,ax=axes[1, 1])\n",
    "\n",
    "plt.setp(axes, yticks=[])\n",
    "plt.tight_layout()"
   ]
  },
  {
   "cell_type": "code",
   "execution_count": 453,
   "metadata": {
    "collapsed": false
   },
   "outputs": [
    {
     "data": {
      "text/plain": [
       "KruskalResult(statistic=24.469118887167379, pvalue=4.8595756261645399e-06)"
      ]
     },
     "execution_count": 453,
     "metadata": {},
     "output_type": "execute_result"
    }
   ],
   "source": [
    "kruskal(H001_full[H001_full['Group'] == 'Control']['Hexanal 0.01'],H001_full[H001_full['Group'] == 'Mint']['Hexanal 0.01'],H001_full[H001_full['Group'] == 'Hexanal']['Hexanal 0.01'],nan_policy='omit')"
   ]
  },
  {
   "cell_type": "markdown",
   "metadata": {},
   "source": [
    "# Hexanal 0.05"
   ]
  },
  {
   "cell_type": "code",
   "execution_count": 455,
   "metadata": {
    "collapsed": false
   },
   "outputs": [],
   "source": [
    "H005_full=composite_full[['Group','Hexanal 0.05']]\n",
    "H005df=pd.melt(H005_full,\"Group\",var_name=\"Odor\")"
   ]
  },
  {
   "cell_type": "code",
   "execution_count": 456,
   "metadata": {
    "collapsed": false
   },
   "outputs": [],
   "source": [
    "sns.set(style=\"white\", palette=\"muted\", color_codes=True);\n",
    "sns.set_context(\"talk\",font_scale=3);\n",
    "plt.figure(figsize=(15,18));\n",
    "sns.barplot(x=\"Odor\", y=\"value\", hue=\"Group\",palette={\"Control\": \"r\", \"Hexanal\": \"b\",\"Mint\":\"g\"}, data=H005df);\n",
    "sns.despine();\n",
    "plt.legend(loc='upper right');\n",
    "plt.ylabel('Peak DF/F');\n",
    "plt.title('Peak DF/F');"
   ]
  },
  {
   "cell_type": "code",
   "execution_count": 457,
   "metadata": {
    "collapsed": false
   },
   "outputs": [],
   "source": [
    "sns.set(style=\"white\", palette=\"muted\", color_codes=True);\n",
    "sns.set_context(\"talk\",font_scale=3);\n",
    "plt.figure(figsize=(15,18));\n",
    "sns.boxplot(x=\"Odor\", y=\"value\", hue=\"Group\",palette={\"Control\": \"r\", \"Hexanal\": \"b\",\"Mint\":\"g\"}, data=H005df);\n",
    "sns.despine();\n",
    "plt.legend(loc='upper right');\n",
    "plt.ylabel('Peak DF/F');\n",
    "plt.title('Peak DF/F');\n",
    "plt.xlabel('Odor');"
   ]
  },
  {
   "cell_type": "code",
   "execution_count": 458,
   "metadata": {
    "collapsed": false
   },
   "outputs": [
    {
     "data": {
      "text/html": [
       "<div>\n",
       "<table border=\"1\" class=\"dataframe\">\n",
       "  <thead>\n",
       "    <tr style=\"text-align: right;\">\n",
       "      <th></th>\n",
       "      <th>Group</th>\n",
       "      <th>Hexanal 0.05</th>\n",
       "    </tr>\n",
       "  </thead>\n",
       "  <tbody>\n",
       "    <tr>\n",
       "      <th>266</th>\n",
       "      <td>Hexanal</td>\n",
       "      <td>0.300836</td>\n",
       "    </tr>\n",
       "    <tr>\n",
       "      <th>267</th>\n",
       "      <td>Hexanal</td>\n",
       "      <td>0.349465</td>\n",
       "    </tr>\n",
       "    <tr>\n",
       "      <th>268</th>\n",
       "      <td>Hexanal</td>\n",
       "      <td>0.422324</td>\n",
       "    </tr>\n",
       "    <tr>\n",
       "      <th>269</th>\n",
       "      <td>Hexanal</td>\n",
       "      <td>0.135468</td>\n",
       "    </tr>\n",
       "    <tr>\n",
       "      <th>270</th>\n",
       "      <td>Hexanal</td>\n",
       "      <td>0.200218</td>\n",
       "    </tr>\n",
       "  </tbody>\n",
       "</table>\n",
       "</div>"
      ],
      "text/plain": [
       "       Group  Hexanal 0.05\n",
       "266  Hexanal      0.300836\n",
       "267  Hexanal      0.349465\n",
       "268  Hexanal      0.422324\n",
       "269  Hexanal      0.135468\n",
       "270  Hexanal      0.200218"
      ]
     },
     "execution_count": 458,
     "metadata": {},
     "output_type": "execute_result"
    }
   ],
   "source": [
    "H005ctrl=H005_full[H005_full['Group'] == 'Control']\n",
    "H005MS=H005_full[H005_full['Group'] == 'Mint']\n",
    "H005H=H005_full[H005_full['Group'] == 'Hexanal']\n",
    "H005H.head()"
   ]
  },
  {
   "cell_type": "code",
   "execution_count": 460,
   "metadata": {
    "collapsed": false
   },
   "outputs": [],
   "source": [
    "sns.set(style=\"white\", palette=\"muted\", color_codes=True)\n",
    "sns.set_context(\"talk\", font_scale=2)\n",
    "# Set up the matplotlib figure\n",
    "f, axes = plt.subplots(2, 2, figsize=(30,20), sharex=True)\n",
    "# f.suptitle(\"Hexanal 0.05\", fontsize=44)\n",
    "sns.despine(left=True)\n",
    "\n",
    "#data\n",
    "d = H005ctrl['Hexanal 0.05']\n",
    "e = H005MS['Hexanal 0.05']\n",
    "f = H005H['Hexanal 0.05']\n",
    "\n",
    "# Plot a simple histogram with binsize determined automatically\n",
    "sns.distplot(d, kde=False, color=\"r\", hist_kws={\"histtype\":'step',\"linewidth\":3,\"alpha\":0.7},axlabel= False,ax=axes[0, 0])\n",
    "sns.distplot(e, kde=False, color=\"g\", hist_kws={\"histtype\":'step',\"linewidth\":3,\"alpha\":0.7},axlabel= False,ax=axes[0, 0])\n",
    "sns.distplot(f, kde=False, color=\"b\", hist_kws={\"histtype\":'step',\"linewidth\":3,\"alpha\":0.7},axlabel= False,ax=axes[0, 0])\n",
    "\n",
    "# Plot a kernel density estimate and rug plot\n",
    "sns.distplot(d, hist=False, rug=True, color=\"r\", axlabel= False,ax=axes[0, 1],label=\"Control\")\n",
    "sns.distplot(e, hist=False, rug=True, color=\"g\", axlabel= False,ax=axes[0, 1],label=\"Mint\")\n",
    "sns.distplot(f, hist=False, rug=True, color=\"b\", axlabel= False,ax=axes[0, 1],label=\"Hexanal\")\n",
    "\n",
    "# Plot a filled kernel density estimate\n",
    "sns.distplot(d, hist=False, color=\"r\", kde_kws={\"shade\": True}, axlabel=False,ax=axes[1, 0])\n",
    "sns.distplot(e, hist=False, color=\"g\", kde_kws={\"shade\": True}, axlabel=False,ax=axes[1, 0])\n",
    "sns.distplot(f, hist=False, color=\"b\", kde_kws={\"shade\": True}, axlabel= False,ax=axes[1, 0])\n",
    "\n",
    "# Plot a historgram and kernel density estimate\n",
    "sns.distplot(d, color=\"r\",axlabel= False,ax=axes[1, 1])\n",
    "sns.distplot(e, color=\"g\",axlabel= False,ax=axes[1, 1])\n",
    "sns.distplot(f, color=\"b\",axlabel= False,ax=axes[1, 1])\n",
    "\n",
    "plt.setp(axes, yticks=[])\n",
    "plt.tight_layout()"
   ]
  },
  {
   "cell_type": "code",
   "execution_count": 461,
   "metadata": {
    "collapsed": false,
    "scrolled": true
   },
   "outputs": [
    {
     "data": {
      "text/plain": [
       "KruskalResult(statistic=66.921585593621458, pvalue=2.9387478759540041e-15)"
      ]
     },
     "execution_count": 461,
     "metadata": {},
     "output_type": "execute_result"
    }
   ],
   "source": [
    "kruskal(H005_full[H005_full['Group'] == 'Control']['Hexanal 0.05'],H005_full[H005_full['Group'] == 'Mint']['Hexanal 0.05'],H005_full[H005_full['Group'] == 'Hexanal']['Hexanal 0.05'],nan_policy='omit')"
   ]
  },
  {
   "cell_type": "markdown",
   "metadata": {},
   "source": [
    "# Hexanal 0.1"
   ]
  },
  {
   "cell_type": "code",
   "execution_count": 462,
   "metadata": {
    "collapsed": false
   },
   "outputs": [],
   "source": [
    "H10_full=composite_full[['Group','Hexanal 0.1']]\n",
    "H10df=pd.melt(H10_full,\"Group\",var_name=\"Odor\")"
   ]
  },
  {
   "cell_type": "code",
   "execution_count": 463,
   "metadata": {
    "collapsed": false
   },
   "outputs": [],
   "source": [
    "sns.set(style=\"white\", palette=\"muted\", color_codes=True);\n",
    "sns.set_context(\"talk\",font_scale=3);\n",
    "plt.figure(figsize=(15,18));\n",
    "sns.barplot(x=\"Odor\", y=\"value\", hue=\"Group\",palette={\"Control\": \"r\", \"Hexanal\": \"b\",\"Mint\":\"g\"}, data=H10df);\n",
    "sns.despine();\n",
    "plt.legend(loc='upper right');\n",
    "plt.ylabel('Peak DF/F');\n",
    "plt.title('Peak DF/F');"
   ]
  },
  {
   "cell_type": "code",
   "execution_count": 464,
   "metadata": {
    "collapsed": false
   },
   "outputs": [],
   "source": [
    "sns.set(style=\"white\", palette=\"muted\", color_codes=True);\n",
    "sns.set_context(\"talk\",font_scale=3);\n",
    "plt.figure(figsize=(15,18));\n",
    "sns.boxplot(x=\"Odor\", y=\"value\", hue=\"Group\",palette={\"Control\": \"r\", \"Hexanal\": \"b\",\"Mint\":\"g\"}, data=H10df);\n",
    "sns.despine();\n",
    "plt.legend(loc='upper right');\n",
    "plt.ylabel('Peak DF/F');\n",
    "plt.title('Peak DF/F');\n",
    "plt.xlabel('Odor');"
   ]
  },
  {
   "cell_type": "code",
   "execution_count": 465,
   "metadata": {
    "collapsed": true
   },
   "outputs": [
    {
     "data": {
      "text/html": [
       "<div>\n",
       "<table border=\"1\" class=\"dataframe\">\n",
       "  <thead>\n",
       "    <tr style=\"text-align: right;\">\n",
       "      <th></th>\n",
       "      <th>Group</th>\n",
       "      <th>Hexanal 0.1</th>\n",
       "    </tr>\n",
       "  </thead>\n",
       "  <tbody>\n",
       "    <tr>\n",
       "      <th>266</th>\n",
       "      <td>Hexanal</td>\n",
       "      <td>0.290083</td>\n",
       "    </tr>\n",
       "    <tr>\n",
       "      <th>267</th>\n",
       "      <td>Hexanal</td>\n",
       "      <td>0.236634</td>\n",
       "    </tr>\n",
       "    <tr>\n",
       "      <th>268</th>\n",
       "      <td>Hexanal</td>\n",
       "      <td>0.416844</td>\n",
       "    </tr>\n",
       "    <tr>\n",
       "      <th>269</th>\n",
       "      <td>Hexanal</td>\n",
       "      <td>0.124364</td>\n",
       "    </tr>\n",
       "    <tr>\n",
       "      <th>270</th>\n",
       "      <td>Hexanal</td>\n",
       "      <td>0.136488</td>\n",
       "    </tr>\n",
       "  </tbody>\n",
       "</table>\n",
       "</div>"
      ],
      "text/plain": [
       "       Group  Hexanal 0.1\n",
       "266  Hexanal     0.290083\n",
       "267  Hexanal     0.236634\n",
       "268  Hexanal     0.416844\n",
       "269  Hexanal     0.124364\n",
       "270  Hexanal     0.136488"
      ]
     },
     "execution_count": 465,
     "metadata": {},
     "output_type": "execute_result"
    }
   ],
   "source": [
    "H10ctrl=H10_full[H10_full['Group'] == 'Control']\n",
    "H10MS=H10_full[H10_full['Group'] == 'Mint']\n",
    "H10H=H10_full[H10_full['Group'] == 'Hexanal']\n",
    "H10H.head()"
   ]
  },
  {
   "cell_type": "code",
   "execution_count": 466,
   "metadata": {
    "collapsed": true
   },
   "outputs": [],
   "source": [
    "sns.set(style=\"white\", palette=\"muted\", color_codes=True)\n",
    "sns.set_context(\"talk\", font_scale=2)\n",
    "# Set up the matplotlib figure\n",
    "f, axes = plt.subplots(2, 2, figsize=(30,20), sharex=True)\n",
    "# f.suptitle(\"IAA 0.05\", fontsize=44)\n",
    "sns.despine(left=True)\n",
    "\n",
    "#data\n",
    "d = H10ctrl['Hexanal 0.1']\n",
    "e = H10MS['Hexanal 0.1']\n",
    "f = H10H['Hexanal 0.1']\n",
    "\n",
    "# Plot a simple histogram with binsize determined automatically\n",
    "sns.distplot(d, kde=False, color=\"r\", hist_kws={\"histtype\":'step',\"linewidth\":3,\"alpha\":0.7},axlabel= False,ax=axes[0, 0])\n",
    "sns.distplot(e, kde=False, color=\"g\", hist_kws={\"histtype\":'step',\"linewidth\":3,\"alpha\":0.7},axlabel= False,ax=axes[0, 0])\n",
    "sns.distplot(f, kde=False, color=\"b\", hist_kws={\"histtype\":'step',\"linewidth\":3,\"alpha\":0.7},axlabel= False,ax=axes[0, 0])\n",
    "\n",
    "# Plot a kernel density estimate and rug plot\n",
    "sns.distplot(d, hist=False, rug=True, color=\"r\", axlabel= False,ax=axes[0, 1],label=\"Control\")\n",
    "sns.distplot(e, hist=False, rug=True, color=\"g\", axlabel= False,ax=axes[0, 1],label=\"Mint\")\n",
    "sns.distplot(f, hist=False, rug=True, color=\"b\", axlabel= False,ax=axes[0, 1],label=\"Hexanal\")\n",
    "\n",
    "# Plot a filled kernel density estimate\n",
    "sns.distplot(d, hist=False, color=\"r\", kde_kws={\"shade\": True}, axlabel=False,ax=axes[1, 0])\n",
    "sns.distplot(e, hist=False, color=\"g\", kde_kws={\"shade\": True}, axlabel=False,ax=axes[1, 0])\n",
    "sns.distplot(f, hist=False, color=\"b\", kde_kws={\"shade\": True}, axlabel= False,ax=axes[1, 0])\n",
    "\n",
    "# Plot a historgram and kernel density estimate\n",
    "sns.distplot(d, color=\"r\",axlabel= False,ax=axes[1, 1])\n",
    "sns.distplot(e, color=\"g\",axlabel= False,ax=axes[1, 1])\n",
    "sns.distplot(f, color=\"b\",axlabel= False,ax=axes[1, 1])\n",
    "\n",
    "plt.setp(axes, yticks=[])\n",
    "plt.tight_layout()"
   ]
  },
  {
   "cell_type": "code",
   "execution_count": 468,
   "metadata": {
    "collapsed": false
   },
   "outputs": [
    {
     "data": {
      "text/plain": [
       "KruskalResult(statistic=15.839109543591839, pvalue=0.00036356415948386392)"
      ]
     },
     "execution_count": 468,
     "metadata": {},
     "output_type": "execute_result"
    }
   ],
   "source": [
    "kruskal(H10_full[H10_full['Group'] == 'Control']['Hexanal 0.1'],H10_full[dH10_full['Group'] == 'Mint']['Hexanal 0.1'],H10_full[H10_full['Group'] == 'Hexanal']['Hexanal 0.1'],nan_policy='omit')"
   ]
  },
  {
   "cell_type": "markdown",
   "metadata": {},
   "source": [
    "# THA"
   ]
  },
  {
   "cell_type": "code",
   "execution_count": 296,
   "metadata": {
    "collapsed": false
   },
   "outputs": [],
   "source": [
    "THA_full=composite_full[['Group','THA']]\n",
    "THAdf=pd.melt(THA_full,\"Group\",var_name=\"Odor\")"
   ]
  },
  {
   "cell_type": "code",
   "execution_count": 360,
   "metadata": {
    "collapsed": false
   },
   "outputs": [],
   "source": [
    "sns.set(style=\"white\", palette=\"muted\", color_codes=True);\n",
    "sns.set_context(\"talk\",font_scale=3);\n",
    "plt.figure(figsize=(15,18));\n",
    "sns.barplot(x=\"Odor\", y=\"value\", hue=\"Group\",palette={\"Control\": \"r\", \"Hexanal\": \"b\",\"Mint\":\"g\"}, data=THAdf);\n",
    "sns.despine();\n",
    "plt.legend(loc='upper right');\n",
    "plt.ylabel('Peak DF/F');\n",
    "plt.title('Peak DF/F');"
   ]
  },
  {
   "cell_type": "code",
   "execution_count": 362,
   "metadata": {
    "collapsed": false
   },
   "outputs": [],
   "source": [
    "sns.set(style=\"white\", palette=\"muted\", color_codes=True);\n",
    "sns.set_context(\"talk\",font_scale=3);\n",
    "plt.figure(figsize=(15,18));\n",
    "sns.boxplot(x=\"Odor\", y=\"value\", hue=\"Group\",palette={\"Control\": \"r\", \"Hexanal\": \"b\",\"Mint\":\"g\"}, data=THAdf);\n",
    "sns.despine();\n",
    "plt.legend(loc='upper right');\n",
    "plt.ylabel('Peak DF/F');\n",
    "plt.title('Peak DF/F');\n",
    "plt.xlabel('Odor');"
   ]
  },
  {
   "cell_type": "code",
   "execution_count": 341,
   "metadata": {
    "collapsed": true
   },
   "outputs": [
    {
     "data": {
      "text/html": [
       "<div>\n",
       "<table border=\"1\" class=\"dataframe\">\n",
       "  <thead>\n",
       "    <tr style=\"text-align: right;\">\n",
       "      <th></th>\n",
       "      <th>Group</th>\n",
       "      <th>THA</th>\n",
       "    </tr>\n",
       "  </thead>\n",
       "  <tbody>\n",
       "    <tr>\n",
       "      <th>266</th>\n",
       "      <td>Hexanal</td>\n",
       "      <td>0.032360</td>\n",
       "    </tr>\n",
       "    <tr>\n",
       "      <th>267</th>\n",
       "      <td>Hexanal</td>\n",
       "      <td>0.068896</td>\n",
       "    </tr>\n",
       "    <tr>\n",
       "      <th>268</th>\n",
       "      <td>Hexanal</td>\n",
       "      <td>0.141124</td>\n",
       "    </tr>\n",
       "    <tr>\n",
       "      <th>269</th>\n",
       "      <td>Hexanal</td>\n",
       "      <td>0.031333</td>\n",
       "    </tr>\n",
       "    <tr>\n",
       "      <th>270</th>\n",
       "      <td>Hexanal</td>\n",
       "      <td>0.029448</td>\n",
       "    </tr>\n",
       "  </tbody>\n",
       "</table>\n",
       "</div>"
      ],
      "text/plain": [
       "       Group       THA\n",
       "266  Hexanal  0.032360\n",
       "267  Hexanal  0.068896\n",
       "268  Hexanal  0.141124\n",
       "269  Hexanal  0.031333\n",
       "270  Hexanal  0.029448"
      ]
     },
     "execution_count": 341,
     "metadata": {},
     "output_type": "execute_result"
    }
   ],
   "source": [
    "THActrl=THA_full[THA_full['Group'] == 'Control']\n",
    "THAMS=THA_full[THA_full['Group'] == 'Mint']\n",
    "THAH=THA_full[THA_full['Group'] == 'Hexanal']\n",
    "THAH.head()"
   ]
  },
  {
   "cell_type": "code",
   "execution_count": 357,
   "metadata": {
    "collapsed": true
   },
   "outputs": [],
   "source": [
    "sns.set(style=\"white\", palette=\"muted\", color_codes=True)\n",
    "sns.set_context(\"talk\", font_scale=2)\n",
    "# Set up the matplotlib figure\n",
    "f, axes = plt.subplots(2, 2, figsize=(30,20), sharex=True)\n",
    "# f.suptitle(\"2-hydroxyacetophenone\", fontsize=44)\n",
    "sns.despine(left=True)\n",
    "\n",
    "#data\n",
    "d = THActrl['THA']\n",
    "e = THAMS['THA']\n",
    "f = THAH['THA']\n",
    "\n",
    "# Plot a simple histogram with binsize determined automatically\n",
    "sns.distplot(d, kde=False, color=\"r\", hist_kws={\"histtype\":'step',\"linewidth\":3,\"alpha\":0.7},axlabel= False,ax=axes[0, 0])\n",
    "sns.distplot(e, kde=False, color=\"g\", hist_kws={\"histtype\":'step',\"linewidth\":3,\"alpha\":0.7},axlabel= False,ax=axes[0, 0])\n",
    "sns.distplot(f, kde=False, color=\"b\", hist_kws={\"histtype\":'step',\"linewidth\":3,\"alpha\":0.7},axlabel= False,ax=axes[0, 0])\n",
    "\n",
    "# Plot a kernel density estimate and rug plot\n",
    "sns.distplot(d, hist=False, rug=True, color=\"r\", axlabel= False,ax=axes[0, 1],label=\"Control\")\n",
    "sns.distplot(e, hist=False, rug=True, color=\"g\", axlabel= False,ax=axes[0, 1],label=\"Mint\")\n",
    "sns.distplot(f, hist=False, rug=True, color=\"b\", axlabel= False,ax=axes[0, 1],label=\"Hexanal\")\n",
    "\n",
    "# Plot a filled kernel density estimate\n",
    "sns.distplot(d, hist=False, color=\"r\", kde_kws={\"shade\": True}, axlabel=False,ax=axes[1, 0])\n",
    "sns.distplot(e, hist=False, color=\"g\", kde_kws={\"shade\": True}, axlabel=False,ax=axes[1, 0])\n",
    "sns.distplot(f, hist=False, color=\"b\", kde_kws={\"shade\": True}, axlabel= False,ax=axes[1, 0])\n",
    "\n",
    "# Plot a historgram and kernel density estimate\n",
    "sns.distplot(d, color=\"r\",axlabel= False,ax=axes[1, 1])\n",
    "sns.distplot(e, color=\"g\",axlabel= False,ax=axes[1, 1])\n",
    "sns.distplot(f, color=\"b\",axlabel= False,ax=axes[1, 1])\n",
    "\n",
    "plt.setp(axes, yticks=[])\n",
    "plt.tight_layout()"
   ]
  },
  {
   "cell_type": "code",
   "execution_count": 126,
   "metadata": {
    "collapsed": false
   },
   "outputs": [
    {
     "data": {
      "text/plain": [
       "KruskalResult(statistic=26.646950444965789, pvalue=1.6356419143785338e-06)"
      ]
     },
     "execution_count": 126,
     "metadata": {},
     "output_type": "execute_result"
    }
   ],
   "source": [
    "kruskal(THA_full[THA_full['Group'] == 'Control']['THA'],THA_full[THA_full['Group'] == 'Mint']['THA'],THA_full[THA_full['Group'] == 'Hexanal']['THA'],nan_policy='omit')"
   ]
  },
  {
   "cell_type": "markdown",
   "metadata": {},
   "source": [
    "# AP"
   ]
  },
  {
   "cell_type": "code",
   "execution_count": 264,
   "metadata": {
    "collapsed": false
   },
   "outputs": [],
   "source": [
    "AP_full=composite_full[['Group','AP']]\n",
    "APdf=pd.melt(AP_full,\"Group\",var_name=\"Odor\")"
   ]
  },
  {
   "cell_type": "code",
   "execution_count": 335,
   "metadata": {
    "collapsed": false
   },
   "outputs": [],
   "source": [
    "sns.set(style=\"white\", palette=\"muted\", color_codes=True);\n",
    "sns.set_context(\"talk\",font_scale=3);\n",
    "plt.figure(figsize=(15,18));\n",
    "sns.barplot(x=\"Odor\", y=\"value\", hue=\"Group\",palette={\"Control\": \"r\", \"Hexanal\": \"b\",\"Mint\":\"g\"}, data=APdf);\n",
    "sns.despine();\n",
    "plt.legend(loc='upper right');\n",
    "plt.ylabel('Peak DF/F');\n",
    "plt.title('Peak DF/F');\n",
    "plt.xlabel('Odor');"
   ]
  },
  {
   "cell_type": "code",
   "execution_count": 336,
   "metadata": {
    "collapsed": true
   },
   "outputs": [],
   "source": [
    "sns.set(style=\"white\", palette=\"muted\", color_codes=True);\n",
    "sns.set_context(\"talk\",font_scale=3);\n",
    "plt.figure(figsize=(15,18));\n",
    "sns.boxplot(x=\"Odor\", y=\"value\", hue=\"Group\",palette={\"Control\": \"r\", \"Hexanal\": \"b\",\"Mint\":\"g\"}, data=APdf);\n",
    "sns.despine();\n",
    "plt.legend(loc='upper right');\n",
    "plt.ylabel('Peak DF/F');\n",
    "plt.title('Peak DF/F');\n",
    "plt.xlabel('Odor');"
   ]
  },
  {
   "cell_type": "code",
   "execution_count": 358,
   "metadata": {
    "collapsed": true
   },
   "outputs": [
    {
     "data": {
      "text/html": [
       "<div>\n",
       "<table border=\"1\" class=\"dataframe\">\n",
       "  <thead>\n",
       "    <tr style=\"text-align: right;\">\n",
       "      <th></th>\n",
       "      <th>Group</th>\n",
       "      <th>AP</th>\n",
       "    </tr>\n",
       "  </thead>\n",
       "  <tbody>\n",
       "    <tr>\n",
       "      <th>266</th>\n",
       "      <td>Hexanal</td>\n",
       "      <td>0.150098</td>\n",
       "    </tr>\n",
       "    <tr>\n",
       "      <th>267</th>\n",
       "      <td>Hexanal</td>\n",
       "      <td>0.074321</td>\n",
       "    </tr>\n",
       "    <tr>\n",
       "      <th>268</th>\n",
       "      <td>Hexanal</td>\n",
       "      <td>0.180250</td>\n",
       "    </tr>\n",
       "    <tr>\n",
       "      <th>269</th>\n",
       "      <td>Hexanal</td>\n",
       "      <td>0.113269</td>\n",
       "    </tr>\n",
       "    <tr>\n",
       "      <th>270</th>\n",
       "      <td>Hexanal</td>\n",
       "      <td>0.028062</td>\n",
       "    </tr>\n",
       "  </tbody>\n",
       "</table>\n",
       "</div>"
      ],
      "text/plain": [
       "       Group        AP\n",
       "266  Hexanal  0.150098\n",
       "267  Hexanal  0.074321\n",
       "268  Hexanal  0.180250\n",
       "269  Hexanal  0.113269\n",
       "270  Hexanal  0.028062"
      ]
     },
     "execution_count": 358,
     "metadata": {},
     "output_type": "execute_result"
    }
   ],
   "source": [
    "APctrl=AP_full[AP_full['Group'] == 'Control']\n",
    "APMS=AP_full[AP_full['Group'] == 'Mint']\n",
    "APH=AP_full[AP_full['Group'] == 'Hexanal']\n",
    "APH.head()"
   ]
  },
  {
   "cell_type": "code",
   "execution_count": 359,
   "metadata": {
    "collapsed": true
   },
   "outputs": [],
   "source": [
    "sns.set(style=\"white\", palette=\"muted\", color_codes=True)\n",
    "sns.set_context(\"talk\", font_scale=2)\n",
    "# Set up the matplotlib figure\n",
    "f, axes = plt.subplots(2, 2, figsize=(30,20), sharex=True)\n",
    "# f.suptitle(\"2-hydroxyacetophenone\", fontsize=44)\n",
    "sns.despine(left=True)\n",
    "\n",
    "#data\n",
    "d = APctrl['AP']\n",
    "e = APMS['AP']\n",
    "f = APH['AP']\n",
    "\n",
    "# Plot a simple histogram with binsize determined automatically\n",
    "sns.distplot(d, kde=False, color=\"r\", hist_kws={\"histtype\":'step',\"linewidth\":3,\"alpha\":0.7},axlabel= False,ax=axes[0, 0])\n",
    "sns.distplot(e, kde=False, color=\"g\", hist_kws={\"histtype\":'step',\"linewidth\":3,\"alpha\":0.7},axlabel= False,ax=axes[0, 0])\n",
    "sns.distplot(f, kde=False, color=\"b\", hist_kws={\"histtype\":'step',\"linewidth\":3,\"alpha\":0.7},axlabel= False,ax=axes[0, 0])\n",
    "\n",
    "# Plot a kernel density estimate and rug plot\n",
    "sns.distplot(d, hist=False, rug=True, color=\"r\", axlabel= False,ax=axes[0, 1],label=\"Control\")\n",
    "sns.distplot(e, hist=False, rug=True, color=\"g\", axlabel= False,ax=axes[0, 1],label=\"Mint\")\n",
    "sns.distplot(f, hist=False, rug=True, color=\"b\", axlabel= False,ax=axes[0, 1],label=\"Hexanal\")\n",
    "\n",
    "# Plot a filled kernel density estimate\n",
    "sns.distplot(d, hist=False, color=\"r\", kde_kws={\"shade\": True}, axlabel=False,ax=axes[1, 0])\n",
    "sns.distplot(e, hist=False, color=\"g\", kde_kws={\"shade\": True}, axlabel=False,ax=axes[1, 0])\n",
    "sns.distplot(f, hist=False, color=\"b\", kde_kws={\"shade\": True}, axlabel= False,ax=axes[1, 0])\n",
    "\n",
    "# Plot a historgram and kernel density estimate\n",
    "sns.distplot(d, color=\"r\",axlabel= False,ax=axes[1, 1])\n",
    "sns.distplot(e, color=\"g\",axlabel= False,ax=axes[1, 1])\n",
    "sns.distplot(f, color=\"b\",axlabel= False,ax=axes[1, 1])\n",
    "\n",
    "plt.setp(axes, yticks=[])\n",
    "plt.tight_layout()"
   ]
  },
  {
   "cell_type": "code",
   "execution_count": 131,
   "metadata": {
    "collapsed": false
   },
   "outputs": [
    {
     "data": {
      "text/plain": [
       "KruskalResult(statistic=46.307698447912315, pvalue=8.7985488016197506e-11)"
      ]
     },
     "execution_count": 131,
     "metadata": {},
     "output_type": "execute_result"
    }
   ],
   "source": [
    "kruskal(AP_full[AP_full['Group'] == 'Control']['AP'],AP_full[AP_full['Group'] == 'Mint']['AP'],AP_full[AP_full['Group'] == 'Hexanal']['AP'],nan_policy='omit')"
   ]
  },
  {
   "cell_type": "markdown",
   "metadata": {},
   "source": [
    "# EB"
   ]
  },
  {
   "cell_type": "code",
   "execution_count": 332,
   "metadata": {
    "collapsed": false
   },
   "outputs": [],
   "source": [
    "EB_full=composite_full[['Group','EB']]\n",
    "EBdf=pd.melt(EB_full,\"Group\",var_name=\"Odor\")"
   ]
  },
  {
   "cell_type": "code",
   "execution_count": 337,
   "metadata": {
    "collapsed": true
   },
   "outputs": [],
   "source": [
    "sns.set(style=\"white\", palette=\"muted\", color_codes=True);\n",
    "sns.set_context(\"talk\",font_scale=3);\n",
    "plt.figure(figsize=(15,18));\n",
    "sns.barplot(x=\"Odor\", y=\"value\", hue=\"Group\",palette={\"Control\": \"r\", \"Hexanal\": \"b\",\"Mint\":\"g\"}, data=EBdf);\n",
    "sns.despine();\n",
    "plt.legend(loc='upper right');\n",
    "plt.ylabel('Peak DF/F');\n",
    "plt.title('Peak DF/F');\n",
    "plt.xlabel('Odor');"
   ]
  },
  {
   "cell_type": "code",
   "execution_count": 338,
   "metadata": {
    "collapsed": true
   },
   "outputs": [],
   "source": [
    "sns.set(style=\"white\", palette=\"muted\", color_codes=True);\n",
    "sns.set_context(\"talk\",font_scale=3);\n",
    "plt.figure(figsize=(15,18));\n",
    "sns.boxplot(x=\"Odor\", y=\"value\", hue=\"Group\",palette={\"Control\": \"r\", \"Hexanal\": \"b\",\"Mint\":\"g\"}, data=EBdf);\n",
    "sns.despine();\n",
    "plt.legend(loc='upper right');\n",
    "plt.ylabel('Peak DF/F');\n",
    "plt.title('Peak DF/F');\n",
    "plt.xlabel('Odor');"
   ]
  },
  {
   "cell_type": "code",
   "execution_count": 363,
   "metadata": {
    "collapsed": false,
    "scrolled": true
   },
   "outputs": [
    {
     "data": {
      "text/html": [
       "<div>\n",
       "<table border=\"1\" class=\"dataframe\">\n",
       "  <thead>\n",
       "    <tr style=\"text-align: right;\">\n",
       "      <th></th>\n",
       "      <th>Group</th>\n",
       "      <th>EB</th>\n",
       "    </tr>\n",
       "  </thead>\n",
       "  <tbody>\n",
       "    <tr>\n",
       "      <th>266</th>\n",
       "      <td>Hexanal</td>\n",
       "      <td>0.209884</td>\n",
       "    </tr>\n",
       "    <tr>\n",
       "      <th>267</th>\n",
       "      <td>Hexanal</td>\n",
       "      <td>0.193009</td>\n",
       "    </tr>\n",
       "    <tr>\n",
       "      <th>268</th>\n",
       "      <td>Hexanal</td>\n",
       "      <td>0.335625</td>\n",
       "    </tr>\n",
       "    <tr>\n",
       "      <th>269</th>\n",
       "      <td>Hexanal</td>\n",
       "      <td>0.082340</td>\n",
       "    </tr>\n",
       "    <tr>\n",
       "      <th>270</th>\n",
       "      <td>Hexanal</td>\n",
       "      <td>0.023194</td>\n",
       "    </tr>\n",
       "  </tbody>\n",
       "</table>\n",
       "</div>"
      ],
      "text/plain": [
       "       Group        EB\n",
       "266  Hexanal  0.209884\n",
       "267  Hexanal  0.193009\n",
       "268  Hexanal  0.335625\n",
       "269  Hexanal  0.082340\n",
       "270  Hexanal  0.023194"
      ]
     },
     "execution_count": 363,
     "metadata": {},
     "output_type": "execute_result"
    }
   ],
   "source": [
    "EBctrl=EB_full[EB_full['Group'] == 'Control']\n",
    "EBMS=EB_full[EB_full['Group'] == 'Mint']\n",
    "EBH=EB_full[EB_full['Group'] == 'Hexanal']\n",
    "EBH.head()"
   ]
  },
  {
   "cell_type": "code",
   "execution_count": 364,
   "metadata": {
    "collapsed": true
   },
   "outputs": [],
   "source": [
    "sns.set(style=\"white\", palette=\"muted\", color_codes=True)\n",
    "sns.set_context(\"talk\", font_scale=2)\n",
    "# Set up the matplotlib figure\n",
    "f, axes = plt.subplots(2, 2, figsize=(30,20), sharex=True)\n",
    "# f.suptitle(\"2-hydroxyacetophenone\", fontsize=44)\n",
    "sns.despine(left=True)\n",
    "\n",
    "#data\n",
    "d = EBctrl['EB']\n",
    "e = EBMS['EB']\n",
    "f = EBH['EB']\n",
    "\n",
    "# Plot a simple histogram with binsize determined automatically\n",
    "sns.distplot(d, kde=False, color=\"r\", hist_kws={\"histtype\":'step',\"linewidth\":3,\"alpha\":0.7},axlabel= False,ax=axes[0, 0])\n",
    "sns.distplot(e, kde=False, color=\"g\", hist_kws={\"histtype\":'step',\"linewidth\":3,\"alpha\":0.7},axlabel= False,ax=axes[0, 0])\n",
    "sns.distplot(f, kde=False, color=\"b\", hist_kws={\"histtype\":'step',\"linewidth\":3,\"alpha\":0.7},axlabel= False,ax=axes[0, 0])\n",
    "\n",
    "# Plot a kernel density estimate and rug plot\n",
    "sns.distplot(d, hist=False, rug=True, color=\"r\", axlabel= False,ax=axes[0, 1],label=\"Control\")\n",
    "sns.distplot(e, hist=False, rug=True, color=\"g\", axlabel= False,ax=axes[0, 1],label=\"Mint\")\n",
    "sns.distplot(f, hist=False, rug=True, color=\"b\", axlabel= False,ax=axes[0, 1],label=\"Hexanal\")\n",
    "\n",
    "# Plot a filled kernel density estimate\n",
    "sns.distplot(d, hist=False, color=\"r\", kde_kws={\"shade\": True}, axlabel=False,ax=axes[1, 0])\n",
    "sns.distplot(e, hist=False, color=\"g\", kde_kws={\"shade\": True}, axlabel=False,ax=axes[1, 0])\n",
    "sns.distplot(f, hist=False, color=\"b\", kde_kws={\"shade\": True}, axlabel= False,ax=axes[1, 0])\n",
    "\n",
    "# Plot a historgram and kernel density estimate\n",
    "sns.distplot(d, color=\"r\",axlabel= False,ax=axes[1, 1])\n",
    "sns.distplot(e, color=\"g\",axlabel= False,ax=axes[1, 1])\n",
    "sns.distplot(f, color=\"b\",axlabel= False,ax=axes[1, 1])\n",
    "\n",
    "plt.setp(axes, yticks=[])\n",
    "plt.tight_layout()"
   ]
  },
  {
   "cell_type": "code",
   "execution_count": 135,
   "metadata": {
    "collapsed": false
   },
   "outputs": [
    {
     "data": {
      "text/plain": [
       "KruskalResult(statistic=20.686023094405726, pvalue=3.2217152941460278e-05)"
      ]
     },
     "execution_count": 135,
     "metadata": {},
     "output_type": "execute_result"
    }
   ],
   "source": [
    "kruskal(EB_full[EB_full['Group'] == 'Control']['EB'],EB_full[EB_full['Group'] == 'Mint']['EB'],EB_full[EB_full['Group'] == 'Hexanal']['EB'],nan_policy='omit')"
   ]
  },
  {
   "cell_type": "markdown",
   "metadata": {},
   "source": [
    "# Hexanone"
   ]
  },
  {
   "cell_type": "code",
   "execution_count": 378,
   "metadata": {
    "collapsed": false
   },
   "outputs": [],
   "source": [
    "Hone_full=composite_full[['Group','Hexanone']]\n",
    "Honedf=pd.melt(Hone_full,\"Group\",var_name=\"Odor\")"
   ]
  },
  {
   "cell_type": "code",
   "execution_count": 379,
   "metadata": {
    "collapsed": true
   },
   "outputs": [],
   "source": [
    "sns.set(style=\"white\", palette=\"muted\", color_codes=True);\n",
    "sns.set_context(\"talk\",font_scale=3);\n",
    "plt.figure(figsize=(15,18));\n",
    "sns.barplot(x=\"Odor\", y=\"value\", hue=\"Group\",palette={\"Control\": \"r\", \"Hexanal\": \"b\",\"Mint\":\"g\"}, data=Honedf);\n",
    "sns.despine();\n",
    "plt.legend(loc='upper right');\n",
    "plt.ylabel('Peak DF/F');\n",
    "plt.title('Peak DF/F');\n",
    "plt.xlabel('Odor');"
   ]
  },
  {
   "cell_type": "code",
   "execution_count": 380,
   "metadata": {
    "collapsed": true
   },
   "outputs": [],
   "source": [
    "sns.set(style=\"white\", palette=\"muted\", color_codes=True);\n",
    "sns.set_context(\"talk\",font_scale=3);\n",
    "plt.figure(figsize=(15,18));\n",
    "sns.boxplot(x=\"Odor\", y=\"value\", hue=\"Group\",palette={\"Control\": \"r\", \"Hexanal\": \"b\",\"Mint\":\"g\"}, data=Honedf);\n",
    "sns.despine();\n",
    "plt.legend(loc='upper right');\n",
    "plt.ylabel('Peak DF/F');\n",
    "plt.title('Peak DF/F');\n",
    "plt.xlabel('Odor');"
   ]
  },
  {
   "cell_type": "code",
   "execution_count": 381,
   "metadata": {
    "collapsed": false,
    "scrolled": true
   },
   "outputs": [
    {
     "data": {
      "text/html": [
       "<div>\n",
       "<table border=\"1\" class=\"dataframe\">\n",
       "  <thead>\n",
       "    <tr style=\"text-align: right;\">\n",
       "      <th></th>\n",
       "      <th>Group</th>\n",
       "      <th>Hexanone</th>\n",
       "    </tr>\n",
       "  </thead>\n",
       "  <tbody>\n",
       "    <tr>\n",
       "      <th>266</th>\n",
       "      <td>Hexanal</td>\n",
       "      <td>0.378703</td>\n",
       "    </tr>\n",
       "    <tr>\n",
       "      <th>267</th>\n",
       "      <td>Hexanal</td>\n",
       "      <td>0.330326</td>\n",
       "    </tr>\n",
       "    <tr>\n",
       "      <th>268</th>\n",
       "      <td>Hexanal</td>\n",
       "      <td>0.501147</td>\n",
       "    </tr>\n",
       "    <tr>\n",
       "      <th>269</th>\n",
       "      <td>Hexanal</td>\n",
       "      <td>0.073911</td>\n",
       "    </tr>\n",
       "    <tr>\n",
       "      <th>270</th>\n",
       "      <td>Hexanal</td>\n",
       "      <td>0.117332</td>\n",
       "    </tr>\n",
       "  </tbody>\n",
       "</table>\n",
       "</div>"
      ],
      "text/plain": [
       "       Group  Hexanone\n",
       "266  Hexanal  0.378703\n",
       "267  Hexanal  0.330326\n",
       "268  Hexanal  0.501147\n",
       "269  Hexanal  0.073911\n",
       "270  Hexanal  0.117332"
      ]
     },
     "execution_count": 381,
     "metadata": {},
     "output_type": "execute_result"
    }
   ],
   "source": [
    "Honectrl=Hone_full[Hone_full['Group'] == 'Control']\n",
    "HoneMS=Hone_full[Hone_full['Group'] == 'Mint']\n",
    "HoneH=Hone_full[Hone_full['Group'] == 'Hexanal']\n",
    "HoneH.head()"
   ]
  },
  {
   "cell_type": "code",
   "execution_count": 382,
   "metadata": {
    "collapsed": true
   },
   "outputs": [],
   "source": [
    "sns.set(style=\"white\", palette=\"muted\", color_codes=True)\n",
    "sns.set_context(\"talk\", font_scale=2)\n",
    "# Set up the matplotlib figure\n",
    "f, axes = plt.subplots(2, 2, figsize=(30,20), sharex=True)\n",
    "# f.suptitle(\"Hexanone\", fontsize=44)\n",
    "sns.despine(left=True)\n",
    "\n",
    "#data\n",
    "d = Honectrl['Hexanone']\n",
    "e = HoneMS['Hexanone']\n",
    "f = HoneH['Hexanone']\n",
    "\n",
    "# Plot a simple histogram with binsize determined automatically\n",
    "sns.distplot(d, kde=False, color=\"r\", hist_kws={\"histtype\":'step',\"linewidth\":3,\"alpha\":0.7},axlabel= False,ax=axes[0, 0])\n",
    "sns.distplot(e, kde=False, color=\"g\", hist_kws={\"histtype\":'step',\"linewidth\":3,\"alpha\":0.7},axlabel= False,ax=axes[0, 0])\n",
    "sns.distplot(f, kde=False, color=\"b\", hist_kws={\"histtype\":'step',\"linewidth\":3,\"alpha\":0.7},axlabel= False,ax=axes[0, 0])\n",
    "\n",
    "# Plot a kernel density estimate and rug plot\n",
    "sns.distplot(d, hist=False, rug=True, color=\"r\", axlabel= False,ax=axes[0, 1],label=\"Control\")\n",
    "sns.distplot(e, hist=False, rug=True, color=\"g\", axlabel= False,ax=axes[0, 1],label=\"Mint\")\n",
    "sns.distplot(f, hist=False, rug=True, color=\"b\", axlabel= False,ax=axes[0, 1],label=\"Hexanal\")\n",
    "\n",
    "# Plot a filled kernel density estimate\n",
    "sns.distplot(d, hist=False, color=\"r\", kde_kws={\"shade\": True}, axlabel=False,ax=axes[1, 0])\n",
    "sns.distplot(e, hist=False, color=\"g\", kde_kws={\"shade\": True}, axlabel=False,ax=axes[1, 0])\n",
    "sns.distplot(f, hist=False, color=\"b\", kde_kws={\"shade\": True}, axlabel= False,ax=axes[1, 0])\n",
    "\n",
    "# Plot a historgram and kernel density estimate\n",
    "sns.distplot(d, color=\"r\",axlabel= False,ax=axes[1, 1])\n",
    "sns.distplot(e, color=\"g\",axlabel= False,ax=axes[1, 1])\n",
    "sns.distplot(f, color=\"b\",axlabel= False,ax=axes[1, 1])\n",
    "\n",
    "plt.setp(axes, yticks=[])\n",
    "plt.tight_layout()"
   ]
  },
  {
   "cell_type": "code",
   "execution_count": 383,
   "metadata": {
    "collapsed": false
   },
   "outputs": [
    {
     "data": {
      "text/plain": [
       "KruskalResult(statistic=20.558063665415894, pvalue=3.4345765132367753e-05)"
      ]
     },
     "execution_count": 383,
     "metadata": {},
     "output_type": "execute_result"
    }
   ],
   "source": [
    "kruskal(Hone_full[Hone_full['Group'] == 'Control']['Hexanone'],Hone_full[Hone_full['Group'] == 'Mint']['Hexanone'],Hone_full[Hone_full['Group'] == 'Hexanal']['Hexanone'],nan_policy='omit')"
   ]
  },
  {
   "cell_type": "markdown",
   "metadata": {},
   "source": [
    "# PA"
   ]
  },
  {
   "cell_type": "code",
   "execution_count": 384,
   "metadata": {
    "collapsed": false
   },
   "outputs": [],
   "source": [
    "PA_full=composite_full[['Group','PA']]\n",
    "PAdf=pd.melt(PA_full,\"Group\",var_name=\"Odor\")"
   ]
  },
  {
   "cell_type": "code",
   "execution_count": 385,
   "metadata": {
    "collapsed": true
   },
   "outputs": [],
   "source": [
    "sns.set(style=\"white\", palette=\"muted\", color_codes=True);\n",
    "sns.set_context(\"talk\",font_scale=3);\n",
    "plt.figure(figsize=(15,18));\n",
    "sns.barplot(x=\"Odor\", y=\"value\", hue=\"Group\",palette={\"Control\": \"r\", \"Hexanal\": \"b\",\"Mint\":\"g\"}, data=PAdf);\n",
    "sns.despine();\n",
    "plt.legend(loc='upper right');\n",
    "plt.ylabel('Peak DF/F');\n",
    "plt.title('Peak DF/F');\n",
    "plt.xlabel('Odor');"
   ]
  },
  {
   "cell_type": "code",
   "execution_count": 386,
   "metadata": {
    "collapsed": true
   },
   "outputs": [],
   "source": [
    "sns.set(style=\"white\", palette=\"muted\", color_codes=True);\n",
    "sns.set_context(\"talk\",font_scale=3);\n",
    "plt.figure(figsize=(15,18));\n",
    "sns.boxplot(x=\"Odor\", y=\"value\", hue=\"Group\",palette={\"Control\": \"r\", \"Hexanal\": \"b\",\"Mint\":\"g\"}, data=PAdf);\n",
    "sns.despine();\n",
    "plt.legend(loc='upper right');\n",
    "plt.ylabel('Peak DF/F');\n",
    "plt.title('Peak DF/F');\n",
    "plt.xlabel('Odor');"
   ]
  },
  {
   "cell_type": "code",
   "execution_count": 387,
   "metadata": {
    "collapsed": false,
    "scrolled": true
   },
   "outputs": [
    {
     "data": {
      "text/html": [
       "<div>\n",
       "<table border=\"1\" class=\"dataframe\">\n",
       "  <thead>\n",
       "    <tr style=\"text-align: right;\">\n",
       "      <th></th>\n",
       "      <th>Group</th>\n",
       "      <th>PA</th>\n",
       "    </tr>\n",
       "  </thead>\n",
       "  <tbody>\n",
       "    <tr>\n",
       "      <th>266</th>\n",
       "      <td>Hexanal</td>\n",
       "      <td>0.043617</td>\n",
       "    </tr>\n",
       "    <tr>\n",
       "      <th>267</th>\n",
       "      <td>Hexanal</td>\n",
       "      <td>0.032337</td>\n",
       "    </tr>\n",
       "    <tr>\n",
       "      <th>268</th>\n",
       "      <td>Hexanal</td>\n",
       "      <td>0.000000</td>\n",
       "    </tr>\n",
       "    <tr>\n",
       "      <th>269</th>\n",
       "      <td>Hexanal</td>\n",
       "      <td>0.004714</td>\n",
       "    </tr>\n",
       "    <tr>\n",
       "      <th>270</th>\n",
       "      <td>Hexanal</td>\n",
       "      <td>0.032430</td>\n",
       "    </tr>\n",
       "  </tbody>\n",
       "</table>\n",
       "</div>"
      ],
      "text/plain": [
       "       Group        PA\n",
       "266  Hexanal  0.043617\n",
       "267  Hexanal  0.032337\n",
       "268  Hexanal  0.000000\n",
       "269  Hexanal  0.004714\n",
       "270  Hexanal  0.032430"
      ]
     },
     "execution_count": 387,
     "metadata": {},
     "output_type": "execute_result"
    }
   ],
   "source": [
    "PActrl=PA_full[PA_full['Group'] == 'Control']\n",
    "PAMS=PA_full[PA_full['Group'] == 'Mint']\n",
    "PAH=PA_full[PA_full['Group'] == 'Hexanal']\n",
    "PAH.head()"
   ]
  },
  {
   "cell_type": "code",
   "execution_count": 388,
   "metadata": {
    "collapsed": true
   },
   "outputs": [],
   "source": [
    "sns.set(style=\"white\", palette=\"muted\", color_codes=True)\n",
    "sns.set_context(\"talk\", font_scale=2)\n",
    "# Set up the matplotlib figure\n",
    "f, axes = plt.subplots(2, 2, figsize=(30,20), sharex=True)\n",
    "# f.suptitle(\"2-hydroxyacetophenone\", fontsize=44)\n",
    "sns.despine(left=True)\n",
    "\n",
    "#data\n",
    "d = PActrl['PA']\n",
    "e = PAMS['PA']\n",
    "f = PAH['PA']\n",
    "\n",
    "# Plot a simple histogram with binsize determined automatically\n",
    "sns.distplot(d, kde=False, color=\"r\", hist_kws={\"histtype\":'step',\"linewidth\":3,\"alpha\":0.7},axlabel= False,ax=axes[0, 0])\n",
    "sns.distplot(e, kde=False, color=\"g\", hist_kws={\"histtype\":'step',\"linewidth\":3,\"alpha\":0.7},axlabel= False,ax=axes[0, 0])\n",
    "sns.distplot(f, kde=False, color=\"b\", hist_kws={\"histtype\":'step',\"linewidth\":3,\"alpha\":0.7},axlabel= False,ax=axes[0, 0])\n",
    "\n",
    "# Plot a kernel density estimate and rug plot\n",
    "sns.distplot(d, hist=False, rug=True, color=\"r\", axlabel= False,ax=axes[0, 1],label=\"Control\")\n",
    "sns.distplot(e, hist=False, rug=True, color=\"g\", axlabel= False,ax=axes[0, 1],label=\"Mint\")\n",
    "sns.distplot(f, hist=False, rug=True, color=\"b\", axlabel= False,ax=axes[0, 1],label=\"Hexanal\")\n",
    "\n",
    "# Plot a filled kernel density estimate\n",
    "sns.distplot(d, hist=False, color=\"r\", kde_kws={\"shade\": True}, axlabel=False,ax=axes[1, 0])\n",
    "sns.distplot(e, hist=False, color=\"g\", kde_kws={\"shade\": True}, axlabel=False,ax=axes[1, 0])\n",
    "sns.distplot(f, hist=False, color=\"b\", kde_kws={\"shade\": True}, axlabel= False,ax=axes[1, 0])\n",
    "\n",
    "# Plot a historgram and kernel density estimate\n",
    "sns.distplot(d, color=\"r\",axlabel= False,ax=axes[1, 1])\n",
    "sns.distplot(e, color=\"g\",axlabel= False,ax=axes[1, 1])\n",
    "sns.distplot(f, color=\"b\",axlabel= False,ax=axes[1, 1])\n",
    "\n",
    "plt.setp(axes, yticks=[])\n",
    "plt.tight_layout()"
   ]
  },
  {
   "cell_type": "code",
   "execution_count": 389,
   "metadata": {
    "collapsed": false
   },
   "outputs": [
    {
     "data": {
      "text/plain": [
       "KruskalResult(statistic=36.777881600341829, pvalue=1.032249027618262e-08)"
      ]
     },
     "execution_count": 389,
     "metadata": {},
     "output_type": "execute_result"
    }
   ],
   "source": [
    "kruskal(PA_full[PA_full['Group'] == 'Control']['PA'],PA_full[PA_full['Group'] == 'Mint']['PA'],PA_full[PA_full['Group'] == 'Hexanal']['PA'],nan_policy='omit')"
   ]
  },
  {
   "cell_type": "markdown",
   "metadata": {},
   "source": [
    "# Blank"
   ]
  },
  {
   "cell_type": "code",
   "execution_count": 391,
   "metadata": {
    "collapsed": false
   },
   "outputs": [],
   "source": [
    "B_full=composite_full[['Group','BLANK']]\n",
    "Bdf=pd.melt(B_full,\"Group\",var_name=\"Odor\")"
   ]
  },
  {
   "cell_type": "code",
   "execution_count": 392,
   "metadata": {
    "collapsed": true
   },
   "outputs": [],
   "source": [
    "sns.set(style=\"white\", palette=\"muted\", color_codes=True);\n",
    "sns.set_context(\"talk\",font_scale=3);\n",
    "plt.figure(figsize=(15,18));\n",
    "sns.barplot(x=\"Odor\", y=\"value\", hue=\"Group\",palette={\"Control\": \"r\", \"Hexanal\": \"b\",\"Mint\":\"g\"}, data=Bdf);\n",
    "sns.despine();\n",
    "plt.legend(loc='upper right');\n",
    "plt.ylabel('Peak DF/F');\n",
    "plt.title('Peak DF/F');\n",
    "plt.xlabel('Odor');"
   ]
  },
  {
   "cell_type": "code",
   "execution_count": 393,
   "metadata": {
    "collapsed": true
   },
   "outputs": [],
   "source": [
    "sns.set(style=\"white\", palette=\"muted\", color_codes=True);\n",
    "sns.set_context(\"talk\",font_scale=3);\n",
    "plt.figure(figsize=(15,18));\n",
    "sns.boxplot(x=\"Odor\", y=\"value\", hue=\"Group\",palette={\"Control\": \"r\", \"Hexanal\": \"b\",\"Mint\":\"g\"}, data=Bdf);\n",
    "sns.despine();\n",
    "plt.legend(loc='upper right');\n",
    "plt.ylabel('Peak DF/F');\n",
    "plt.title('Peak DF/F');\n",
    "plt.xlabel('Odor');"
   ]
  },
  {
   "cell_type": "code",
   "execution_count": 398,
   "metadata": {
    "collapsed": false,
    "scrolled": true
   },
   "outputs": [
    {
     "data": {
      "text/html": [
       "<div>\n",
       "<table border=\"1\" class=\"dataframe\">\n",
       "  <thead>\n",
       "    <tr style=\"text-align: right;\">\n",
       "      <th></th>\n",
       "      <th>Group</th>\n",
       "      <th>BLANK</th>\n",
       "    </tr>\n",
       "  </thead>\n",
       "  <tbody>\n",
       "    <tr>\n",
       "      <th>287</th>\n",
       "      <td>Hexanal</td>\n",
       "      <td>0.059379</td>\n",
       "    </tr>\n",
       "    <tr>\n",
       "      <th>288</th>\n",
       "      <td>Hexanal</td>\n",
       "      <td>0.027291</td>\n",
       "    </tr>\n",
       "    <tr>\n",
       "      <th>289</th>\n",
       "      <td>Hexanal</td>\n",
       "      <td>0.069221</td>\n",
       "    </tr>\n",
       "    <tr>\n",
       "      <th>290</th>\n",
       "      <td>Hexanal</td>\n",
       "      <td>0.121546</td>\n",
       "    </tr>\n",
       "    <tr>\n",
       "      <th>291</th>\n",
       "      <td>Hexanal</td>\n",
       "      <td>0.055183</td>\n",
       "    </tr>\n",
       "  </tbody>\n",
       "</table>\n",
       "</div>"
      ],
      "text/plain": [
       "       Group     BLANK\n",
       "287  Hexanal  0.059379\n",
       "288  Hexanal  0.027291\n",
       "289  Hexanal  0.069221\n",
       "290  Hexanal  0.121546\n",
       "291  Hexanal  0.055183"
      ]
     },
     "execution_count": 398,
     "metadata": {},
     "output_type": "execute_result"
    }
   ],
   "source": [
    "Bctrl=B_full[B_full['Group'] == 'Control']\n",
    "Bctrl=Bctrl.dropna()\n",
    "BMS=B_full[B_full['Group'] == 'Mint']\n",
    "BMS=BMS.dropna()\n",
    "BH=B_full[B_full['Group'] == 'Hexanal']\n",
    "BH=BH.dropna()\n",
    "BH.head()"
   ]
  },
  {
   "cell_type": "code",
   "execution_count": 399,
   "metadata": {
    "collapsed": false
   },
   "outputs": [],
   "source": [
    "sns.set(style=\"white\", palette=\"muted\", color_codes=True)\n",
    "sns.set_context(\"talk\", font_scale=2)\n",
    "# Set up the matplotlib figure\n",
    "f, axes = plt.subplots(2, 2, figsize=(30,20), sharex=True)\n",
    "# f.suptitle(\"2-hydroxyacetophenone\", fontsize=44)\n",
    "sns.despine(left=True)\n",
    "\n",
    "#data\n",
    "d = Bctrl['BLANK']\n",
    "e = BMS['BLANK']\n",
    "f = BH['BLANK']\n",
    "\n",
    "# Plot a simple histogram with binsize determined automatically\n",
    "sns.distplot(d, kde=False, color=\"r\", hist_kws={\"histtype\":'step',\"linewidth\":3,\"alpha\":0.7},axlabel= False,ax=axes[0, 0])\n",
    "sns.distplot(e, kde=False, color=\"g\", hist_kws={\"histtype\":'step',\"linewidth\":3,\"alpha\":0.7},axlabel= False,ax=axes[0, 0])\n",
    "sns.distplot(f, kde=False, color=\"b\", hist_kws={\"histtype\":'step',\"linewidth\":3,\"alpha\":0.7},axlabel= False,ax=axes[0, 0])\n",
    "\n",
    "# Plot a kernel density estimate and rug plot\n",
    "sns.distplot(d, hist=False, rug=True, color=\"r\", axlabel= False,ax=axes[0, 1],label=\"Control\")\n",
    "sns.distplot(e, hist=False, rug=True, color=\"g\", axlabel= False,ax=axes[0, 1],label=\"Mint\")\n",
    "sns.distplot(f, hist=False, rug=True, color=\"b\", axlabel= False,ax=axes[0, 1],label=\"Hexanal\")\n",
    "\n",
    "# Plot a filled kernel density estimate\n",
    "sns.distplot(d, hist=False, color=\"r\", kde_kws={\"shade\": True}, axlabel=False,ax=axes[1, 0])\n",
    "sns.distplot(e, hist=False, color=\"g\", kde_kws={\"shade\": True}, axlabel=False,ax=axes[1, 0])\n",
    "sns.distplot(f, hist=False, color=\"b\", kde_kws={\"shade\": True}, axlabel= False,ax=axes[1, 0])\n",
    "\n",
    "# Plot a historgram and kernel density estimate\n",
    "sns.distplot(d, color=\"r\",axlabel= False,ax=axes[1, 1])\n",
    "sns.distplot(e, color=\"g\",axlabel= False,ax=axes[1, 1])\n",
    "sns.distplot(f, color=\"b\",axlabel= False,ax=axes[1, 1])\n",
    "\n",
    "plt.setp(axes, yticks=[])\n",
    "plt.tight_layout()"
   ]
  },
  {
   "cell_type": "code",
   "execution_count": 400,
   "metadata": {
    "collapsed": false
   },
   "outputs": [
    {
     "data": {
      "text/plain": [
       "KruskalResult(statistic=109.93241092905365, pvalue=1.3442507132896537e-24)"
      ]
     },
     "execution_count": 400,
     "metadata": {},
     "output_type": "execute_result"
    }
   ],
   "source": [
    "kruskal(B_full[B_full['Group'] == 'Control']['BLANK'],B_full[B_full['Group'] == 'Mint']['BLANK'],B_full[B_full['Group'] == 'Hexanal']['BLANK'],nan_policy='omit')"
   ]
  },
  {
   "cell_type": "markdown",
   "metadata": {
    "collapsed": true
   },
   "source": [
    "# Baseline, by group"
   ]
  },
  {
   "cell_type": "code",
   "execution_count": 23,
   "metadata": {
    "collapsed": true
   },
   "outputs": [],
   "source": [
    "bl=pd.read_csv('C:\\Users\\Annie\\Documents\\Data\\Ca_Imaging\\Analysis\\Odor_Panel\\Composite_Baseline_NoP.csv')\n",
    "del bl['Mouse']\n",
    "bl_sorted=bl.reindex_axis(bl.mean().sort_values().index, axis=1)\n",
    "bl_labels=pd.DataFrame(bl.Group)\n",
    "tmp=[bl_labels,bl_sorted]\n",
    "bdf=pd.concat(tmp,axis=1)\n",
    "bdfull=pd.melt(bdf,\"Group\",var_name=\"Odor\")\n",
    "bdfull=bdfull.dropna()"
   ]
  },
  {
   "cell_type": "markdown",
   "metadata": {},
   "source": [
    "# Composite Graphs - Baseline"
   ]
  },
  {
   "cell_type": "code",
   "execution_count": 498,
   "metadata": {
    "collapsed": false,
    "scrolled": true
   },
   "outputs": [],
   "source": [
    "sns.set(style=\"white\", palette=\"muted\", color_codes=True);\n",
    "sns.set_context(\"talk\",font_scale=2.2);\n",
    "plt.figure(figsize=(45,20));\n",
    "ax=sns.barplot(x=\"Odor\", y=\"value\", hue=\"Group\",palette={\"Control\": \"r\", \"Hexanal\": \"b\",\"Mint\":\"g\"}, data=bdfull);\n",
    "sns.despine()\n",
    "plt.ylabel('Intensity', fontsize=48);\n",
    "plt.title('Baseline F',fontsize=55);\n",
    "plt.xlabel('Odor',fontsize=48);\n",
    "plt.legend(loc=2,prop={'size':30});"
   ]
  },
  {
   "cell_type": "code",
   "execution_count": 518,
   "metadata": {
    "collapsed": false
   },
   "outputs": [],
   "source": [
    "# sns.set_context(\"talk\",font_scale=1.9);\n",
    "# sns.set(style=\"white\", palette=\"muted\", color_codes=True);\n",
    "# plt.figure(figsize=(8, 6));\n",
    "# violinplot=sns.violinplot(x=\"Odor\", y=\"value\", hue=\"Group\", data=bdfull);\n",
    "# violinplot.set(ylabel='Intensity');"
   ]
  },
  {
   "cell_type": "code",
   "execution_count": 502,
   "metadata": {
    "collapsed": true
   },
   "outputs": [],
   "source": [
    "sns.set(style=\"white\", palette=\"muted\", color_codes=True);\n",
    "sns.set_context(\"talk\",font_scale=2.2);\n",
    "plt.figure(figsize=(45,20));\n",
    "ax=sns.boxplot(x=\"Odor\", y=\"value\", hue=\"Group\",palette={\"Control\": \"r\", \"Hexanal\": \"b\",\"Mint\":\"g\"}, data=bdfull);\n",
    "sns.despine()\n",
    "plt.ylabel('Intensity', fontsize=48);\n",
    "plt.title('Baseline F',fontsize=55);\n",
    "plt.xlabel('Odor',fontsize=48);\n",
    "plt.legend(loc=2,prop={'size':30});"
   ]
  },
  {
   "cell_type": "markdown",
   "metadata": {},
   "source": [
    "# Odor, by Mouse"
   ]
  },
  {
   "cell_type": "code",
   "execution_count": 20,
   "metadata": {
    "collapsed": false
   },
   "outputs": [
    {
     "data": {
      "text/html": [
       "<div>\n",
       "<table border=\"1\" class=\"dataframe\">\n",
       "  <thead>\n",
       "    <tr style=\"text-align: right;\">\n",
       "      <th></th>\n",
       "      <th>Mouse</th>\n",
       "      <th>Odor</th>\n",
       "      <th>value</th>\n",
       "    </tr>\n",
       "  </thead>\n",
       "  <tbody>\n",
       "    <tr>\n",
       "      <th>0</th>\n",
       "      <td>160321_3</td>\n",
       "      <td>THA</td>\n",
       "      <td>0.212200</td>\n",
       "    </tr>\n",
       "    <tr>\n",
       "      <th>1</th>\n",
       "      <td>160321_3</td>\n",
       "      <td>THA</td>\n",
       "      <td>0.066122</td>\n",
       "    </tr>\n",
       "    <tr>\n",
       "      <th>2</th>\n",
       "      <td>160321_3</td>\n",
       "      <td>THA</td>\n",
       "      <td>0.022259</td>\n",
       "    </tr>\n",
       "    <tr>\n",
       "      <th>3</th>\n",
       "      <td>160321_3</td>\n",
       "      <td>THA</td>\n",
       "      <td>0.145203</td>\n",
       "    </tr>\n",
       "    <tr>\n",
       "      <th>4</th>\n",
       "      <td>160321_3</td>\n",
       "      <td>THA</td>\n",
       "      <td>0.155862</td>\n",
       "    </tr>\n",
       "  </tbody>\n",
       "</table>\n",
       "</div>"
      ],
      "text/plain": [
       "      Mouse Odor     value\n",
       "0  160321_3  THA  0.212200\n",
       "1  160321_3  THA  0.066122\n",
       "2  160321_3  THA  0.022259\n",
       "3  160321_3  THA  0.145203\n",
       "4  160321_3  THA  0.155862"
      ]
     },
     "execution_count": 20,
     "metadata": {},
     "output_type": "execute_result"
    }
   ],
   "source": [
    "readms=pd.read_csv('C:\\Users\\Annie\\Documents\\Data\\Ca_Imaging\\Analysis\\Odor_Panel\\Composite_MaxDF_NoP.csv')\n",
    "ms = readms\n",
    "del ms['Group']\n",
    "ms_sorted=ms.reindex_axis(ms.mean().sort_values().index, axis=1)\n",
    "ms_labels=pd.DataFrame(ms.Mouse)\n",
    "tmp=[ms_labels,ms_sorted]\n",
    "msdf=pd.concat(tmp,axis=1)\n",
    "msfull=pd.melt(msdf,\"Mouse\",var_name=\"Odor\")\n",
    "msfull=msfull.dropna()\n",
    "msfull.head()"
   ]
  },
  {
   "cell_type": "code",
   "execution_count": 522,
   "metadata": {
    "collapsed": false
   },
   "outputs": [],
   "source": [
    "#dictionary of imaging session and labels\n",
    "msgroups={'160321_3':'r', '160421_2':'r', '160502_1':'r', '160503_1':'r', '160420_1':'r',\n",
    "       '160420_2':'r', '160420_3':'r', '160421_1':'r', '160421_3':'r', '160503_2':'r',\n",
    "       '160310_2':'r', '160310_3':'r', '160321_1':'r', '160321_2':'r', '160517_2':'b',\n",
    "       '160525_1':'b', '160620_1':'b', '160517_1':'b', '160517_3':'b', '160525_2':'b',\n",
    "       '160525_3':'b', '160620_2':'b', '160620_3':'b', '160621_1':'b', '160621_2':'b',\n",
    "       '160622_1':'b', '160622_2':'b', '160626_1':'b', '160626_2':'b', '160330_3':'g',\n",
    "       '160328_1_B':'g', '160428_1_B':'g', '160429_1':'g', '160429_2':'g', '160325_1':'g',\n",
    "       '160325_2':'g', '160325_4':'g', '160328_2':'g', '160328_3':'g', '160330_2':'g',\n",
    "       '160401_1':'g'}"
   ]
  },
  {
   "cell_type": "markdown",
   "metadata": {},
   "source": [
    "# Composite Graphs - by session"
   ]
  },
  {
   "cell_type": "code",
   "execution_count": 529,
   "metadata": {
    "collapsed": false,
    "scrolled": true
   },
   "outputs": [],
   "source": [
    "sns.set(style=\"white\", palette=\"muted\", color_codes=True);\n",
    "sns.set_context(\"talk\",font_scale=2.2);\n",
    "plt.figure(figsize=(45,20));\n",
    "ax=sns.barplot(x=\"Odor\", y=\"value\", hue=\"Mouse\",palette={'160321_3':'r', '160421_2':'r', '160502_1':'r', '160503_1':'r', '160420_1':'r',\n",
    "       '160420_2':'r', '160420_3':'r', '160421_1':'r', '160421_3':'r', '160503_2':'r',\n",
    "       '160310_2':'r', '160310_3':'r', '160321_1':'r', '160321_2':'r', '160517_2':'b',\n",
    "       '160525_1':'b', '160620_1':'b', '160517_1':'b', '160517_3':'b', '160525_2':'b',\n",
    "       '160525_3':'b', '160620_2':'b', '160620_3':'b', '160621_1':'b', '160621_2':'b',\n",
    "       '160622_1':'b', '160622_2':'b', '160626_1':'b', '160626_2':'b', '160330_3':'g',\n",
    "       '160328_1_B':'g', '160428_1_B':'g', '160429_1':'g', '160429_2':'g', '160325_1':'g',\n",
    "       '160325_2':'g', '160325_4':'g', '160328_2':'g', '160328_3':'g', '160330_2':'g',\n",
    "       '160401_1':'g'}, data=msfull);\n",
    "sns.despine()\n",
    "plt.ylabel('Peak DF/F', fontsize=48);\n",
    "plt.title('Odor-evoked response, by session',fontsize=55);\n",
    "plt.xlabel('Odor',fontsize=48);\n",
    "ax.legend_.remove()"
   ]
  },
  {
   "cell_type": "code",
   "execution_count": 14,
   "metadata": {
    "collapsed": false
   },
   "outputs": [],
   "source": [
    "# sns.set(style=\"white\", palette=\"muted\", color_codes=True);\n",
    "# sns.set_context(\"talk\",font_scale=2.2);\n",
    "# plt.figure(figsize=(45,20));\n",
    "# ax=sns.violinplot(x=\"Odor\", y=\"value\", hue=\"Mouse\",palette={'160321_3':'r', '160421_2':'r', '160502_1':'r', '160503_1':'r', '160420_1':'r',\n",
    "#        '160420_2':'r', '160420_3':'r', '160421_1':'r', '160421_3':'r', '160503_2':'r',\n",
    "#        '160310_2':'r', '160310_3':'r', '160321_1':'r', '160321_2':'r', '160517_2':'b',\n",
    "#        '160525_1':'b', '160620_1':'b', '160517_1':'b', '160517_3':'b', '160525_2':'b',\n",
    "#        '160525_3':'b', '160620_2':'b', '160620_3':'b', '160621_1':'b', '160621_2':'b',\n",
    "#        '160622_1':'b', '160622_2':'b', '160626_1':'b', '160626_2':'b', '160330_3':'g',\n",
    "#        '160328_1_B':'g', '160428_1_B':'g', '160429_1':'g', '160429_2':'g', '160325_1':'g',\n",
    "#        '160325_2':'g', '160325_4':'g', '160328_2':'g', '160328_3':'g', '160330_2':'g',\n",
    "#        '160401_1':'g'}, data=msfull);\n",
    "# sns.despine()\n",
    "# plt.ylabel('Peak DF/F', fontsize=48);\n",
    "# plt.title('Odor-evoked response, by session',fontsize=55);\n",
    "# plt.xlabel('Odor',fontsize=48);\n",
    "# ax.legend_.remove()"
   ]
  },
  {
   "cell_type": "code",
   "execution_count": 531,
   "metadata": {
    "collapsed": true
   },
   "outputs": [],
   "source": [
    "sns.set(style=\"white\", palette=\"muted\", color_codes=True);\n",
    "sns.set_context(\"talk\",font_scale=2.2);\n",
    "plt.figure(figsize=(55,40));\n",
    "ax=sns.boxplot(x=\"Odor\", y=\"value\", hue=\"Mouse\",palette={'160321_3':'r', '160421_2':'r', '160502_1':'r', '160503_1':'r', '160420_1':'r',\n",
    "       '160420_2':'r', '160420_3':'r', '160421_1':'r', '160421_3':'r', '160503_2':'r',\n",
    "       '160310_2':'r', '160310_3':'r', '160321_1':'r', '160321_2':'r', '160517_2':'b',\n",
    "       '160525_1':'b', '160620_1':'b', '160517_1':'b', '160517_3':'b', '160525_2':'b',\n",
    "       '160525_3':'b', '160620_2':'b', '160620_3':'b', '160621_1':'b', '160621_2':'b',\n",
    "       '160622_1':'b', '160622_2':'b', '160626_1':'b', '160626_2':'b', '160330_3':'g',\n",
    "       '160328_1_B':'g', '160428_1_B':'g', '160429_1':'g', '160429_2':'g', '160325_1':'g',\n",
    "       '160325_2':'g', '160325_4':'g', '160328_2':'g', '160328_3':'g', '160330_2':'g',\n",
    "       '160401_1':'g'}, data=msfull);\n",
    "sns.despine()\n",
    "plt.ylabel('Peak DF/F', fontsize=48);\n",
    "plt.title('Odor-evoked response, by session',fontsize=55);\n",
    "plt.xlabel('Odor',fontsize=48);\n",
    "ax.legend_.remove()"
   ]
  },
  {
   "cell_type": "code",
   "execution_count": null,
   "metadata": {
    "collapsed": true
   },
   "outputs": [],
   "source": []
  }
 ],
 "metadata": {
  "anaconda-cloud": {},
  "kernelspec": {
   "display_name": "Python [Root]",
   "language": "python",
   "name": "Python [Root]"
  },
  "language_info": {
   "codemirror_mode": {
    "name": "ipython",
    "version": 2
   },
   "file_extension": ".py",
   "mimetype": "text/x-python",
   "name": "python",
   "nbconvert_exporter": "python",
   "pygments_lexer": "ipython2",
   "version": "2.7.12"
  }
 },
 "nbformat": 4,
 "nbformat_minor": 0
}
