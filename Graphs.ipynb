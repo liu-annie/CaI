{
 "cells": [
  {
   "cell_type": "markdown",
   "metadata": {},
   "source": [
    "# Files"
   ]
  },
  {
   "cell_type": "code",
   "execution_count": 1,
   "metadata": {
    "collapsed": false
   },
   "outputs": [
    {
     "name": "stdout",
     "output_type": "stream",
     "text": [
      "Using matplotlib backend: Qt4Agg\n"
     ]
    }
   ],
   "source": [
    "drive_path = 'c:/'\n",
    "import numpy as np\n",
    "import pandas as pd\n",
    "import os\n",
    "import sys\n",
    "import matplotlib.pyplot as plt\n",
    "from scipy.stats import ks_2samp\n",
    "from scipy.stats import anderson_ksamp\n",
    "from scipy.stats import kruskal\n",
    "from scipy.stats import variation\n",
    "%matplotlib\n",
    "import seaborn as sns\n",
    "from scipy.stats import zscore\n",
    "from scipy.stats import nanmean\n",
    "from scipy.stats import nanstd"
   ]
  },
  {
   "cell_type": "code",
   "execution_count": 2,
   "metadata": {
    "collapsed": true
   },
   "outputs": [],
   "source": [
    "filename='C:\\Users\\Annie\\Documents\\Data\\Ca_Imaging\\GoodFiles\\\\fullpeak.csv'\n",
    "comp=pd.read_csv(filename)\n",
    "comp_sorted=comp.reindex_axis(comp.mean().sort_values().index, axis=1)\n",
    "comp_labels=pd.DataFrame(comp.Mouse)\n",
    "comp_group=pd.DataFrame(comp.Group)\n",
    "tmp=[comp_group,comp_labels,comp_sorted]\n",
    "composite_full=pd.concat(tmp,axis=1)\n",
    "cfull=pd.melt(composite_full,['Group','Mouse'],var_name=\"Odor\")\n",
    "# cfull['Mouse'] = cfull['Mouse'].apply(lambda x: x.split('_')[0])\n",
    "# composite_full['Mouse']=composite_full['Mouse'].apply(lambda x:x.split('_')[0])"
   ]
  },
  {
   "cell_type": "code",
   "execution_count": 3,
   "metadata": {
    "collapsed": true
   },
   "outputs": [],
   "source": [
    "groupcolors={'Control':'r','Mint':'g','Hexanal':'b'};"
   ]
  },
  {
   "cell_type": "code",
   "execution_count": 6,
   "metadata": {
    "collapsed": false
   },
   "outputs": [
    {
     "data": {
      "text/plain": [
       "12945"
      ]
     },
     "execution_count": 6,
     "metadata": {},
     "output_type": "execute_result"
    }
   ],
   "source": [
    "len(cfull)"
   ]
  },
  {
   "cell_type": "markdown",
   "metadata": {},
   "source": [
    "# Count number of excitatory and inhibitory events per cell"
   ]
  },
  {
   "cell_type": "code",
   "execution_count": 7,
   "metadata": {
    "collapsed": true
   },
   "outputs": [],
   "source": [
    "# for x in composite_full.index:\n",
    "EI=pd.DataFrame([])\n",
    "for x in composite_full.index:\n",
    "    a=0\n",
    "    b=0\n",
    "    for value in composite_full.iloc[x][2:]:\n",
    "        if value>0:\n",
    "            a=a+1\n",
    "        elif value<0:\n",
    "            b=b+1\n",
    "    c=pd.DataFrame(composite_full.iloc[x][['Group','Mouse']]).T\n",
    "    c=c.reset_index(drop=True)\n",
    "    d=pd.concat([c,pd.DataFrame({'E':[a]}),pd.DataFrame({'I':[b]})],axis=1)\n",
    "    EI=EI.append(d)"
   ]
  },
  {
   "cell_type": "code",
   "execution_count": null,
   "metadata": {
    "collapsed": true
   },
   "outputs": [],
   "source": []
  },
  {
   "cell_type": "code",
   "execution_count": null,
   "metadata": {
    "collapsed": true
   },
   "outputs": [],
   "source": []
  },
  {
   "cell_type": "markdown",
   "metadata": {},
   "source": [
    "# GRAPH THE EXCITATION AND INHIBITION"
   ]
  },
  {
   "cell_type": "code",
   "execution_count": 228,
   "metadata": {
    "collapsed": false
   },
   "outputs": [],
   "source": [
    "sns.set(style=\"white\")\n",
    "sns.set_context('poster',font_scale=1.3)\n",
    "plt.figure(figsize=(5,7))\n",
    "# Initialize the matplotlib figure\n",
    "# f, ax = plt.subplots(figsize=(3, 4))\n",
    "sns.set_color_codes(\"pastel\")\n",
    "sns.barplot(x='Group', y=\"E\", data=EI,\n",
    "            label=\"E\", palette=groupcolors);\n",
    "sns.despine()\n",
    "\n",
    "sns.set_color_codes(\"muted\")\n",
    "ax=sns.barplot(x=\"Group\", y=\"I\", data=EI,\n",
    "            label=\"I\", palette=groupcolors);\n",
    "\n",
    "# Add a legend and informative axis label\n",
    "# ax.legend(ncol=2, loc=\"upper right\", frameon=True,fontsize=30)\n",
    "# ax.set(xlim=(-1, 3), ylabel=\"Odor number\",\n",
    "#        xlabel=\"Group\")\n",
    "sns.despine(left=True, bottom=True)\n",
    "plt.ylabel('Number of Odors');\n",
    "plt.title('Response Type');\n",
    "plt.xlabel('');\n",
    "# plt.xticks(fontsize=30);\n",
    "# plt.yticks(fontsize=30);\n",
    "plt.tight_layout()"
   ]
  },
  {
   "cell_type": "markdown",
   "metadata": {},
   "source": [
    "# Separate E/I dataframes"
   ]
  },
  {
   "cell_type": "code",
   "execution_count": 10,
   "metadata": {
    "collapsed": true
   },
   "outputs": [],
   "source": [
    "#Make separate excitatory and inhibitory dataframes\n",
    "mindf=pd.DataFrame([])\n",
    "maxdf=pd.DataFrame([])\n",
    "zdf=pd.DataFrame([])\n",
    "for x in cfull.index:\n",
    "    if cfull.value[x]>0:\n",
    "        a=pd.DataFrame(cfull.iloc[x]).T\n",
    "        maxdf=maxdf.append(a,ignore_index=True)\n",
    "    elif cfull.value[x]<0:\n",
    "        a=pd.DataFrame(cfull.iloc[x]).T\n",
    "        mindf=mindf.append(a,ignore_index=True)\n",
    "    else:\n",
    "        a=pd.DataFrame(cfull.iloc[x]).T\n",
    "        zdf=zdf.append(a,ignore_index=True)"
   ]
  },
  {
   "cell_type": "code",
   "execution_count": 6,
   "metadata": {
    "collapsed": true
   },
   "outputs": [],
   "source": [
    "#Plot Excitatory by group\n",
    "sns.set(style=\"white\", palette=\"muted\", color_codes=True);\n",
    "sns.set_context(\"talk\", font_scale=1.8);\n",
    "plt.figure(figsize=(45, 20));\n",
    "sns.boxplot(x='Odor',y='value',hue='Group',palette=groupcolors,data=maxdf[['Group','Odor','value']]);\n",
    "sns.despine()\n",
    "plt.ylabel('Integral', fontsize=48);\n",
    "plt.title('Excitatory responses', fontsize=55);\n",
    "plt.xlabel('Odor', fontsize=48);"
   ]
  },
  {
   "cell_type": "code",
   "execution_count": 14,
   "metadata": {
    "collapsed": true
   },
   "outputs": [],
   "source": [
    "#Plot Inhibitory by group\n",
    "sns.set(style=\"white\", palette=\"muted\", color_codes=True);\n",
    "sns.set_context(\"talk\", font_scale=1.8);\n",
    "plt.figure(figsize=(45, 20));\n",
    "sns.boxplot(x='Odor',y='value',hue='Group',palette=groupcolors,data=mindf[['Group','Odor','value']]);\n",
    "sns.despine()\n",
    "plt.ylabel('Integral', fontsize=48);\n",
    "plt.title('Inhibitory responses', fontsize=55);\n",
    "plt.xlabel('Odor', fontsize=48);"
   ]
  },
  {
   "cell_type": "markdown",
   "metadata": {},
   "source": [
    "# GRAPH ALL RESPONSES BUT SEPARATED"
   ]
  },
  {
   "cell_type": "code",
   "execution_count": 36,
   "metadata": {
    "collapsed": true
   },
   "outputs": [],
   "source": [
    "#All responses\n",
    "sns.set(style=\"white\", palette=\"muted\", color_codes=True);\n",
    "sns.set_context(\"poster\", font_scale=1);\n",
    "# plt.figure(figsize=(45, 20));\n",
    "sns.boxplot(x='Odor',y='value',hue='Group',palette=groupcolors,data=mindf[['Group','Odor','value']]);\n",
    "ax=sns.boxplot(x='Odor',y='value',hue='Group',palette=groupcolors,data=maxdf[['Group','Odor','value']]);\n",
    "ax.legend_.remove()\n",
    "sns.despine()\n",
    "plt.ylabel('Peak', fontsize=34);\n",
    "plt.title('All responses', fontsize=50);\n",
    "plt.xlabel('Odor', fontsize=34);"
   ]
  },
  {
   "cell_type": "code",
   "execution_count": 12,
   "metadata": {
    "collapsed": false
   },
   "outputs": [],
   "source": [
    "one_mindf=mindf[['Group','Odor','value']][mindf.Odor.isin(['MS01','Hexanal01','IAA01','THA','AP','PA','Hexanone','EB'])]\n",
    "conc_mindf=mindf[['Group','Odor','value']][mindf.Odor.isin(['MS01','MS05','MS10','Hexanal01','Hexanal05','Hexanal10','IAA01','IAA05','IAA10'])]\n",
    "conc_mindf=conc_mindf.sort_values(by='Odor')\n",
    "\n",
    "one_maxdf=maxdf[['Group','Odor','value']][maxdf.Odor.isin(['MS01','Hexanal01','IAA01','THA','AP','PA','Hexanone','EB'])]\n",
    "conc_maxdf=maxdf[['Group','Odor','value']][maxdf.Odor.isin(['MS01','MS05','MS10','Hexanal01','Hexanal05','Hexanal10','IAA01','IAA05','IAA10'])]\n",
    "\n",
    "one_mindf=one_mindf.replace(to_replace='MS01',value='MS')\n",
    "one_mindf=one_mindf.replace(to_replace='Hexanal01',value='Hexanal')\n",
    "one_mindf=one_mindf.replace(to_replace='IAA01',value='IAA')\n",
    "\n",
    "one_maxdf=one_maxdf.replace(to_replace='MS01',value='MS')\n",
    "one_maxdf=one_maxdf.replace(to_replace='Hexanal01',value='Hexanal')\n",
    "one_maxdf=one_maxdf.replace(to_replace='IAA01',value='IAA')\n",
    "\n",
    "sorter=('MS01','MS05','MS10','IAA01','IAA05','IAA10','Hexanal01','Hexanal05','Hexanal10')\n",
    "conc_maxdf.Odor=conc_maxdf.Odor.astype('category')\n",
    "conc_maxdf.Odor.cat.set_categories(sorter,inplace=True)\n",
    "conc_maxdf=conc_maxdf.sort_values(['Odor'])\n",
    "\n",
    "conc_mindf.Odor=conc_mindf.Odor.astype('category')\n",
    "conc_mindf.Odor.cat.set_categories(sorter,inplace=True)\n",
    "conc_mindf=conc_mindf.sort_values(['Odor'])\n",
    "\n",
    "conc_mindf=conc_mindf.replace(to_replace='MS01',value='MS 1%')\n",
    "conc_mindf=conc_mindf.replace(to_replace='MS05',value='MS 5%')\n",
    "conc_mindf=conc_mindf.replace(to_replace='MS10',value='MS 10%')\n",
    "conc_mindf=conc_mindf.replace(to_replace='IAA01',value='IAA 1%')\n",
    "conc_mindf=conc_mindf.replace(to_replace='IAA05',value='IAA 5%')\n",
    "conc_mindf=conc_mindf.replace(to_replace='IAA10',value='IAA 10%')\n",
    "conc_mindf=conc_mindf.replace(to_replace='Hexanal01',value='Hexanal 1%')\n",
    "conc_mindf=conc_mindf.replace(to_replace='Hexanal05',value='Hexanal 5%')\n",
    "conc_mindf=conc_mindf.replace(to_replace='Hexanal10',value='Hexanal 10%')\n",
    "\n",
    "conc_maxdf=conc_maxdf.replace(to_replace='MS01',value='MS 1%')\n",
    "conc_maxdf=conc_maxdf.replace(to_replace='MS05',value='MS 5%')\n",
    "conc_maxdf=conc_maxdf.replace(to_replace='MS10',value='MS 10%')\n",
    "conc_maxdf=conc_maxdf.replace(to_replace='IAA01',value='IAA 1%')\n",
    "conc_maxdf=conc_maxdf.replace(to_replace='IAA05',value='IAA 5%')\n",
    "conc_maxdf=conc_maxdf.replace(to_replace='IAA10',value='IAA 10%')\n",
    "conc_maxdf=conc_maxdf.replace(to_replace='Hexanal01',value='Hexanal 1%')\n",
    "conc_maxdf=conc_maxdf.replace(to_replace='Hexanal05',value='Hexanal 5%')\n",
    "conc_maxdf=conc_maxdf.replace(to_replace='Hexanal10',value='Hexanal 10%')"
   ]
  },
  {
   "cell_type": "code",
   "execution_count": 13,
   "metadata": {
    "collapsed": true
   },
   "outputs": [],
   "source": [
    "cat=('Control','Mint','Hexanal')"
   ]
  },
  {
   "cell_type": "code",
   "execution_count": 17,
   "metadata": {
    "collapsed": true
   },
   "outputs": [],
   "source": [
    "#1% CONCENTRATION\n",
    "cat=('Control','Mint','Hexanal')\n",
    "sns.set(style=\"white\", palette=\"muted\", color_codes=True);\n",
    "sns.set_context(\"poster\", font_scale=1.3);\n",
    "plt.figure(figsize=(13,10));\n",
    "ax=sns.boxplot(x='Odor',y='value',hue_order=cat,hue='Group',palette=groupcolors,data=one_maxdf);\n",
    "f=sns.boxplot(x='Odor',y='value',hue_order=cat,hue='Group',palette=groupcolors,data=one_mindf);\n",
    "# ax.legend_.remove()\n",
    "sns.despine()\n",
    "plt.ylabel('DF/F', fontsize=34);\n",
    "plt.title('Peak DF/F, 1%', fontsize=40);\n",
    "plt.xlabel('Odor', fontsize=34);\n",
    "plt.ylim(-1,5)\n",
    "plt.tight_layout()"
   ]
  },
  {
   "cell_type": "code",
   "execution_count": 15,
   "metadata": {
    "collapsed": false
   },
   "outputs": [],
   "source": [
    "#Multiple Concentration\n",
    "cat=('Control','Mint','Hexanal')\n",
    "sns.set(style=\"white\", palette=\"muted\", color_codes=True);\n",
    "sns.set_context(\"poster\", font_scale=1.3);\n",
    "plt.figure(figsize=(17,10));\n",
    "sns.boxplot(x='Odor',y='value',hue_order=cat,hue='Group',palette=groupcolors,data=conc_mindf);\n",
    "ax=sns.boxplot(x='Odor',y='value',hue_order=cat,hue='Group',palette=groupcolors,data=conc_maxdf);\n",
    "# ax.legend_.remove()\n",
    "sns.despine()\n",
    "plt.ylabel('DF/F', fontsize=34);\n",
    "plt.title('Peak DF/F, Multiple Concentrations', fontsize=40);\n",
    "plt.xlabel('Odor', fontsize=34);\n",
    "plt.ylim(-1,5)\n",
    "plt.tight_layout()"
   ]
  },
  {
   "cell_type": "markdown",
   "metadata": {},
   "source": [
    "# Median"
   ]
  },
  {
   "cell_type": "code",
   "execution_count": 15,
   "metadata": {
    "collapsed": false
   },
   "outputs": [],
   "source": [
    "#MEDIANS\n",
    "medians=pd.DataFrame([])\n",
    "df=conc_maxdf\n",
    "for x in df.Group.unique():\n",
    "    tmp=pd.DataFrame([])\n",
    "    for y in df.Odor.unique():\n",
    "        a=df[(df.Group==x)&(df.Odor==y)]['value'].dropna().median()\n",
    "        m=pd.DataFrame({y:[a]})\n",
    "        tmp=pd.concat([tmp,m],axis=1)\n",
    "    b=pd.DataFrame({'Group':[x]})\n",
    "#     c=pd.DataFrame({'Group':[df[df.Mouse==x]['Group'].iloc[0]]})\n",
    "#     c=c.reset_index(drop=True)\n",
    "    tmp=pd.concat([b,tmp],axis=1)\n",
    "    medians=medians.append(tmp)\n",
    "maxmedianmelt=pd.melt(medians,\"Group\",var_name=\"Odor\")\n",
    "\n",
    "# medians=pd.DataFrame([])\n",
    "# df=conc_mindf\n",
    "# for x in df.Group.unique():\n",
    "#     tmp=pd.DataFrame([])\n",
    "#     for y in df.Odor.unique():\n",
    "#         a=df[(df.Group==x)&(df.Odor==y)]['value'].dropna().median()\n",
    "#         m=pd.DataFrame({y:[a]})\n",
    "#         tmp=pd.concat([tmp,m],axis=1)\n",
    "#     b=pd.DataFrame({'Group':[x]})\n",
    "# #     c=pd.DataFrame({'Group':[df[df.Mouse==x]['Group'].iloc[0]]})\n",
    "# #     c=c.reset_index(drop=True)\n",
    "#     tmp=pd.concat([b,tmp],axis=1)\n",
    "#     medians=medians.append(tmp)\n",
    "# minmedianmelt=pd.melt(medians,\"Group\",var_name=\"Odor\")\n",
    "\n",
    "#Plot everything by group\n",
    "# sns.set(style=\"white\", palette=\"muted\", color_codes=True);\n",
    "# sns.set_context(\"poster\", font_scale=1.3);\n",
    "# plt.figure(figsize=(17, 5));\n",
    "# ax=sns.pointplot(x='Odor',y='value',hue='Group',palette=groupcolors,data=maxmedianmelt)\n",
    "# sns.pointplot(x='Odor',y='value',hue='Group',palette=groupcolors,data=minmedianmelt)\n",
    "# ax.legend_.remove()\n",
    "# sns.despine()\n",
    "# plt.ylabel('DF/F');\n",
    "# plt.title('Median DF/F');\n",
    "# plt.xlabel('Odor');\n",
    "# plt.ylim(-0.2,0.6)\n",
    "# plt.tight_layout();"
   ]
  },
  {
   "cell_type": "code",
   "execution_count": 16,
   "metadata": {
    "collapsed": false
   },
   "outputs": [
    {
     "data": {
      "text/html": [
       "<div>\n",
       "<table border=\"1\" class=\"dataframe\">\n",
       "  <thead>\n",
       "    <tr style=\"text-align: right;\">\n",
       "      <th></th>\n",
       "      <th>Group</th>\n",
       "      <th>MS 1%</th>\n",
       "      <th>MS 5%</th>\n",
       "      <th>MS 10%</th>\n",
       "      <th>IAA 1%</th>\n",
       "      <th>IAA 5%</th>\n",
       "      <th>IAA 10%</th>\n",
       "      <th>Hexanal 1%</th>\n",
       "      <th>Hexanal 5%</th>\n",
       "      <th>Hexanal 10%</th>\n",
       "    </tr>\n",
       "  </thead>\n",
       "  <tbody>\n",
       "    <tr>\n",
       "      <th>0</th>\n",
       "      <td>Control</td>\n",
       "      <td>0.131603</td>\n",
       "      <td>0.110242</td>\n",
       "      <td>0.133259</td>\n",
       "      <td>0.219825</td>\n",
       "      <td>0.163350</td>\n",
       "      <td>0.242727</td>\n",
       "      <td>0.261897</td>\n",
       "      <td>0.289709</td>\n",
       "      <td>0.260020</td>\n",
       "    </tr>\n",
       "    <tr>\n",
       "      <th>0</th>\n",
       "      <td>Hexanal</td>\n",
       "      <td>0.216249</td>\n",
       "      <td>0.276020</td>\n",
       "      <td>0.280561</td>\n",
       "      <td>0.345489</td>\n",
       "      <td>0.317836</td>\n",
       "      <td>0.427837</td>\n",
       "      <td>0.489682</td>\n",
       "      <td>0.530648</td>\n",
       "      <td>0.395452</td>\n",
       "    </tr>\n",
       "    <tr>\n",
       "      <th>0</th>\n",
       "      <td>Mint</td>\n",
       "      <td>0.183475</td>\n",
       "      <td>0.215221</td>\n",
       "      <td>0.240923</td>\n",
       "      <td>0.264259</td>\n",
       "      <td>0.267651</td>\n",
       "      <td>0.376057</td>\n",
       "      <td>0.353220</td>\n",
       "      <td>0.371466</td>\n",
       "      <td>0.378844</td>\n",
       "    </tr>\n",
       "  </tbody>\n",
       "</table>\n",
       "</div>"
      ],
      "text/plain": [
       "     Group     MS 1%     MS 5%    MS 10%    IAA 1%    IAA 5%   IAA 10%  \\\n",
       "0  Control  0.131603  0.110242  0.133259  0.219825  0.163350  0.242727   \n",
       "0  Hexanal  0.216249  0.276020  0.280561  0.345489  0.317836  0.427837   \n",
       "0     Mint  0.183475  0.215221  0.240923  0.264259  0.267651  0.376057   \n",
       "\n",
       "   Hexanal 1%  Hexanal 5%  Hexanal 10%  \n",
       "0    0.261897    0.289709     0.260020  \n",
       "0    0.489682    0.530648     0.395452  \n",
       "0    0.353220    0.371466     0.378844  "
      ]
     },
     "execution_count": 16,
     "metadata": {},
     "output_type": "execute_result"
    }
   ],
   "source": []
  },
  {
   "cell_type": "code",
   "execution_count": null,
   "metadata": {
    "collapsed": true
   },
   "outputs": [],
   "source": []
  },
  {
   "cell_type": "code",
   "execution_count": null,
   "metadata": {
    "collapsed": true
   },
   "outputs": [],
   "source": []
  },
  {
   "cell_type": "code",
   "execution_count": null,
   "metadata": {
    "collapsed": true
   },
   "outputs": [],
   "source": []
  },
  {
   "cell_type": "markdown",
   "metadata": {},
   "source": [
    "# Comparison of E and I"
   ]
  },
  {
   "cell_type": "code",
   "execution_count": 195,
   "metadata": {
    "collapsed": false
   },
   "outputs": [],
   "source": [
    "#EI ratio, of number\n",
    "#1% Concentration\n",
    "eibdf=pd.DataFrame([])\n",
    "for x in one_maxdf.Group.unique():\n",
    "    for y in one_maxdf.Odor.unique():\n",
    "        a=float(len(one_mindf[(one_mindf.Group==x) & (one_mindf.Odor==y)]['value']))\n",
    "        b=float(len(one_maxdf[(one_maxdf.Group==x) & (one_maxdf.Odor==y)]['value']))\n",
    "        EIB=a/b\n",
    "        eibdf=eibdf.append(pd.DataFrame({'Group':[x],'Odor':[y],'EIB':[EIB]}))\n",
    "\n",
    "sns.set(style=\"white\", palette=\"muted\", color_codes=True);\n",
    "sns.set_context(\"poster\", font_scale=1.3);\n",
    "plt.figure(figsize=(13,5));\n",
    "ax=sns.pointplot(x='Odor',y='EIB',hue='Group',palette=groupcolors,data=eibdf);\n",
    "sns.despine()\n",
    "plt.ylabel('Inhibition/Excitation Ratio');\n",
    "plt.title('Inhibition/Excitation');\n",
    "plt.xlabel('Odor');\n",
    "ax.legend_.remove()\n",
    "plt.tight_layout()"
   ]
  },
  {
   "cell_type": "code",
   "execution_count": 194,
   "metadata": {
    "collapsed": true
   },
   "outputs": [],
   "source": [
    "#EI ratio, of number\n",
    "#Many Concentration\n",
    "eibdf=pd.DataFrame([])\n",
    "for x in conc_maxdf.Group.unique():\n",
    "    for y in conc_maxdf.Odor.unique():\n",
    "        a=float(len(conc_mindf[(conc_mindf.Group==x) & (conc_mindf.Odor==y)]['value']))\n",
    "        b=float(len(conc_maxdf[(conc_maxdf.Group==x) & (conc_maxdf.Odor==y)]['value']))\n",
    "        EIB=a/b\n",
    "        eibdf=eibdf.append(pd.DataFrame({'Group':[x],'Odor':[y],'EIB':[EIB]}))\n",
    "\n",
    "sns.set(style=\"white\", palette=\"muted\", color_codes=True);\n",
    "sns.set_context(\"poster\", font_scale=1.3);\n",
    "plt.figure(figsize=(17,5));\n",
    "ax=sns.pointplot(x='Odor',y='EIB',hue='Group',palette=groupcolors,data=eibdf);\n",
    "plt.ylim(0,0.35)\n",
    "sns.despine()\n",
    "plt.ylabel('Inhibition/Excitation Ratio');\n",
    "plt.title('Inhibition/Excitation');\n",
    "plt.xlabel('Odor');\n",
    "ax.legend_.remove()\n",
    "plt.tight_layout()"
   ]
  },
  {
   "cell_type": "code",
   "execution_count": 179,
   "metadata": {
    "collapsed": true
   },
   "outputs": [],
   "source": [
    "#EI balance (comparison of summed I/E)\n",
    "eibdf=pd.DataFrame([])\n",
    "for x in maxdf.Group.unique():\n",
    "    for y in maxdf.Odor.unique():\n",
    "        a=mindf[(mindf.Group==x) & (mindf.Odor==y)]['value'].sum()\n",
    "        b=maxdf[(maxdf.Group==x) & (maxdf.Odor==y)]['value'].sum()\n",
    "        EIB=abs(a/b)\n",
    "        eibdf=eibdf.append(pd.DataFrame({'Group':[x],'Odor':[y],'EIB':[EIB]}))\n",
    "\n",
    "sns.set(style=\"white\", palette=\"muted\", color_codes=True);\n",
    "sns.set_context(\"talk\", font_scale=1.3);\n",
    "plt.figure(figsize=(6,8));\n",
    "sns.pointplot(x='Odor',y='EIB',hue='Group',palette=groupcolors,data=eibdf);\n",
    "sns.despine()\n",
    "plt.ylabel('EIB', fontsize=50);\n",
    "plt.title('Excitation-Inhibition Balance', fontsize=55);\n",
    "plt.xlabel('Odor', fontsize=48);"
   ]
  },
  {
   "cell_type": "code",
   "execution_count": null,
   "metadata": {
    "collapsed": true
   },
   "outputs": [],
   "source": []
  }
 ],
 "metadata": {
  "anaconda-cloud": {},
  "kernelspec": {
   "display_name": "Python [Root]",
   "language": "python",
   "name": "Python [Root]"
  },
  "language_info": {
   "codemirror_mode": {
    "name": "ipython",
    "version": 2
   },
   "file_extension": ".py",
   "mimetype": "text/x-python",
   "name": "python",
   "nbconvert_exporter": "python",
   "pygments_lexer": "ipython2",
   "version": "2.7.12"
  }
 },
 "nbformat": 4,
 "nbformat_minor": 0
}
