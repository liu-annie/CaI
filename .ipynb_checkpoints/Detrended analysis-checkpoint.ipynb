{
 "cells": [
  {
   "cell_type": "code",
   "execution_count": 1,
   "metadata": {
    "collapsed": true
   },
   "outputs": [],
   "source": [
    "drive_path = 'c:/'\n",
    "import numpy as np\n",
    "import pandas as pd\n",
    "import os\n",
    "import sys\n",
    "import matplotlib.pyplot as plt\n",
    "%matplotlib inline\n",
    "from scipy.stats import ks_2samp\n",
    "from scipy.stats import anderson_ksamp\n",
    "from scipy.stats import kruskal\n",
    "from scipy.stats import variation\n",
    "from scipy import signal as sps\n",
    "import seaborn as sns\n",
    "import glob\n",
    "import re"
   ]
  },
  {
   "cell_type": "markdown",
   "metadata": {},
   "source": [
    "# Detrended peaks"
   ]
  },
  {
   "cell_type": "code",
   "execution_count": 53,
   "metadata": {
    "collapsed": true
   },
   "outputs": [],
   "source": [
    "# (pd.read_csv('C:\\\\Users\\\\Annie\\\\Documents\\\\Data\\\\Ca_Imaging\\\\GoodFiles\\\\160330_3\\\\44dtnew.txt'))\n",
    "# badfile=(pd.read_csv('C:\\\\Users\\\\Annie\\\\Documents\\\\Data\\\\Ca_Imaging\\\\GoodFiles\\\\160330_3\\\\44dt.txt'))\n",
    "# rightfile=badfile.iloc[:,1:16]\n",
    "# rightfile\n",
    "# rightfile.to_csv('44dtnew.txt')"
   ]
  },
  {
   "cell_type": "code",
   "execution_count": 2,
   "metadata": {
    "collapsed": true
   },
   "outputs": [],
   "source": [
    "date='160330_3'\n",
    "os.chdir('C:\\\\Users\\\\Annie\\\\Documents\\\\Data\\\\Ca_Imaging\\\\GoodFiles\\\\%s'%date)"
   ]
  },
  {
   "cell_type": "code",
   "execution_count": 152,
   "metadata": {
    "collapsed": false
   },
   "outputs": [],
   "source": [
    "#This piece spits out all the peaks from one session in one dataframe\n",
    "peakdf=pd.DataFrame([])\n",
    "date='160330_3'\n",
    "os.chdir('C:\\\\Users\\\\Annie\\\\Documents\\\\Data\\\\Ca_Imaging\\\\GoodFiles\\\\%s'%date)\n",
    "for filename in glob.glob('*dt.txt'):\n",
    "    f=pd.read_csv(filename,nrows=175)\n",
    "    df=f[[col for col in f.columns if 'G PMT' in col]]\n",
    "    peak=[]\n",
    "    for col in df.columns:\n",
    "        a=df[col]\n",
    "        firsta=1;\n",
    "        firstb=24;\n",
    "        #Figures out if there is a min or max and sees if it passes threshold (3SD)\n",
    "        if np.absolute(min(a[26:80]))>np.absolute(max(a[26:80])) and np.absolute(min(a[26:80]))>=3*np.std(df[col][firsta:firstb]):\n",
    "            b=min(a[26:80])\n",
    "            peak.append(b)\n",
    "        elif np.absolute(max(a[26:80]))>np.absolute(min(a[26:80]))and np.absolute(max(a[26:80]))>=3*np.std(df[col][firsta:firstb]):\n",
    "            b=max(a[26:80])\n",
    "            peak.append(b)\n",
    "        else:\n",
    "            b=0\n",
    "            peak.append(b)\n",
    "        peaks=pd.DataFrame(peak).T\n",
    "    peaks.columns=df.columns\n",
    "    peaks=pd.concat([pd.DataFrame({'Trial':[int(filename.split('dt')[0])]}),peaks],axis=1)\n",
    "    peakdf=peakdf.append(peaks,ignore_index=True)\n",
    "peakdf.to_csv('%s_peaks.csv'%date,index=False)"
   ]
  },
  {
   "cell_type": "code",
   "execution_count": 164,
   "metadata": {
    "collapsed": false
   },
   "outputs": [],
   "source": [
    "trials=pd.read_csv('C:\\\\Users\\\\Annie\\\\Documents\\\\Data\\\\Ca_Imaging\\\\Analysis\\\\Odor_Panel\\\\Odor_Trials.csv')\n",
    "filerow=trials.loc[trials['File']==date]\n",
    "odortrials={}\n",
    "for t in trials.Odor.unique():\n",
    "    y={t:[int(x) for x in filerow.loc[filerow['Odor'] == t][['T1','T2','T3','T4']].values.tolist()[0]]}\n",
    "    odortrials.update(y)"
   ]
  },
  {
   "cell_type": "code",
   "execution_count": 154,
   "metadata": {
    "collapsed": false
   },
   "outputs": [],
   "source": [
    "#Get average peak across all trials using peakdf dataframe\n",
    "meandf=pd.DataFrame([])\n",
    "for key in odortrials:\n",
    "    odor=odortrials[key]\n",
    "    mean=[]\n",
    "    for col in peakdf.loc[peakdf['Trial'].isin(odor)][[col for col in peakdf.loc[peakdf['Trial'].isin(odor)].columns if 'G PMT' in col]]:\n",
    "        mean.append(peakdf.loc[peakdf['Trial'].isin(odor)][col].mean())\n",
    "    mean=pd.DataFrame(mean).T\n",
    "    mean.columns=peakdf.loc[peakdf['Trial'].isin(odor)][[col for col in peakdf.loc[peakdf['Trial'].isin(odor)].columns if 'G PMT' in col]].columns\n",
    "    meandf=meandf.append(mean)\n",
    "meandf=meandf.reset_index(drop=True)\n",
    "meandf.columns=[str(col)+'_'+date for col in meandf.columns]\n",
    "meandf=pd.concat([pd.DataFrame({'Odor':odortrials.keys()}),meandf],axis=1)\n",
    "meandf.to_csv('%s_mean.csv'%date,index=False)"
   ]
  },
  {
   "cell_type": "code",
   "execution_count": 155,
   "metadata": {
    "collapsed": false
   },
   "outputs": [],
   "source": [
    "#Get proportion of successful trials\n",
    "successdf=pd.DataFrame([])\n",
    "for key in odortrials:\n",
    "    odor=odortrials[key]\n",
    "    newdf=peakdf.loc[peakdf['Trial'].isin(odor)]\n",
    "    s=[]\n",
    "    for col in peakdf.loc[peakdf['Trial'].isin(odor)][[col for col in peakdf.loc[peakdf['Trial'].isin(odor)].columns if 'G PMT' in col]]:\n",
    "        s.append(np.divide((newdf.loc[:,col]!=0).sum(),float(len(newdf.loc[:,col]))))\n",
    "    s=pd.DataFrame(s).T\n",
    "    s.columns=peakdf.loc[peakdf['Trial'].isin(odor)][[col for col in peakdf.loc[peakdf['Trial'].isin(odor)].columns if 'G PMT' in col]].columns\n",
    "    successdf=successdf.append(s)\n",
    "successdf=successdf.reset_index(drop=True)\n",
    "successdf.columns=[str(col)+'_'+date for col in successdf.columns]\n",
    "successdf=pd.concat([pd.DataFrame({'Odor':odortrials.keys()}),successdf],axis=1)\n",
    "successdf.to_csv('%s_success.csv'%date,index=False)"
   ]
  },
  {
   "cell_type": "markdown",
   "metadata": {},
   "source": [
    "# Detrended integral"
   ]
  },
  {
   "cell_type": "code",
   "execution_count": 3,
   "metadata": {
    "collapsed": false
   },
   "outputs": [],
   "source": [
    "# # date='160330_3'\n",
    "# # os.chdir('C:\\\\Users\\\\Annie\\\\Documents\\\\Data\\\\Ca_Imaging\\\\GoodFiles\\\\%s'%date)\n",
    "# #example dataframe\n",
    "# for filename in \n",
    "# df=pd.read_csv('1dt.txt')\n",
    "# df=df[[col for col in df.columns if 'G PMT' in col]]"
   ]
  },
  {
   "cell_type": "code",
   "execution_count": 176,
   "metadata": {
    "collapsed": false
   },
   "outputs": [],
   "source": [
    "temp=pd.DataFrame([])\n",
    "date='160330_3'\n",
    "os.chdir('C:\\\\Users\\\\Annie\\\\Documents\\\\Data\\\\Ca_Imaging\\\\GoodFiles\\\\%s'%date)\n",
    "#Pull the trials that correspond to specific date/odors\n",
    "trials=pd.read_csv('C:\\\\Users\\\\Annie\\\\Documents\\\\Data\\\\Ca_Imaging\\\\Analysis\\\\Odor_Panel\\\\Odor_Trials.csv')\n",
    "filerow=trials.loc[trials['File']==date]\n",
    "odortrials={}\n",
    "for t in trials.Odor.unique():\n",
    "    y={t:[int(x) for x in filerow.loc[filerow['Odor'] == t][['T1','T2','T3','T4']].values.tolist()[0]]}\n",
    "    odortrials.update(y)\n",
    "#Get the frame rate for a specified date\n",
    "num=trials.File.unique().tolist().index('%s'%date)\n",
    "fr=trials.loc[trials['File']==trials.File.unique().tolist()[num]]['FrameRate'].iloc[0]\n",
    "#Get the integral\n",
    "intdf=pd.DataFrame([])\n",
    "for filename in glob.glob('*dt.txt'):\n",
    "    f=pd.read_csv(filename,nrows=125)\n",
    "    df=f[[col for col in f.columns if 'G PMT' in col]]\n",
    "    winstart=np.int(4*fr)\n",
    "    winend=np.int(12*fr)\n",
    "    integral=[]\n",
    "    for col in df.columns:\n",
    "        a=df[col]\n",
    "        firsta=1;\n",
    "        firstb=24;\n",
    "        #Figures out if there is a min or max and sees if it passes threshold (3SD)\n",
    "        if np.absolute(min(a[26:80]))>np.absolute(max(a[26:80])) and np.absolute(min(a[26:80]))>=3*np.std(df[col][firsta:firstb]):\n",
    "            b=sum(df[col][winstart:winend]*(1/fr))\n",
    "            integral.append(b)\n",
    "        elif np.absolute(max(a[26:80]))>np.absolute(min(a[26:80]))and np.absolute(max(a[26:80]))>=3*np.std(df[col][firsta:firstb]):\n",
    "            b=sum(df[col][winstart:winend]*(1/fr))\n",
    "            integral.append(b)\n",
    "        else:\n",
    "            b=0\n",
    "            integral.append(b)\n",
    "    integral=pd.DataFrame(integral).T\n",
    "    integral.columns=df.columns\n",
    "    integral=pd.concat([pd.DataFrame({'Trial':[int(filename.split('dt')[0])]}),integral],axis=1)\n",
    "    intdf=intdf.append(integral)\n",
    "intdf.to_csv('%s_integral.csv'%date,index=False)"
   ]
  },
  {
   "cell_type": "code",
   "execution_count": 181,
   "metadata": {
    "collapsed": false
   },
   "outputs": [],
   "source": [
    "#Get average integral across all trials using integral dataframe\n",
    "meanint=pd.DataFrame([])\n",
    "for key in odortrials:\n",
    "    odor=odortrials[key]\n",
    "    mean=[]\n",
    "    for col in intdf.loc[intdf['Trial'].isin(odor)][[col for col in intdf.loc[intdf['Trial'].isin(odor)].columns if 'G PMT' in col]]:\n",
    "        mean.append(intdf.loc[intdf['Trial'].isin(odor)][col].mean())\n",
    "    mean=pd.DataFrame(mean).T\n",
    "    mean.columns=intdf.loc[intdf['Trial'].isin(odor)][[col for col in intdf.loc[intdf['Trial'].isin(odor)].columns if 'G PMT' in col]].columns\n",
    "    meanint=meanint.append(mean)\n",
    "meanint=meanint.reset_index(drop=True)\n",
    "meanint.columns=[str(col)+'_'+date for col in meanint.columns]\n",
    "meanint=pd.concat([pd.DataFrame({'Odor':odortrials.keys()}),meanint],axis=1)\n",
    "meanint.to_csv('%s_meanint.csv'%date,index=False)"
   ]
  },
  {
   "cell_type": "code",
   "execution_count": null,
   "metadata": {
    "collapsed": true
   },
   "outputs": [],
   "source": []
  }
 ],
 "metadata": {
  "kernelspec": {
   "display_name": "Python [Root]",
   "language": "python",
   "name": "Python [Root]"
  },
  "language_info": {
   "codemirror_mode": {
    "name": "ipython",
    "version": 2
   },
   "file_extension": ".py",
   "mimetype": "text/x-python",
   "name": "python",
   "nbconvert_exporter": "python",
   "pygments_lexer": "ipython2",
   "version": "2.7.12"
  }
 },
 "nbformat": 4,
 "nbformat_minor": 0
}
