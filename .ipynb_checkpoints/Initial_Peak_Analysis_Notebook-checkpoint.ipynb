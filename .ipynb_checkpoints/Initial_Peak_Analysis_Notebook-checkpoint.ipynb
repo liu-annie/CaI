{
 "cells": [
  {
   "cell_type": "markdown",
   "metadata": {},
   "source": [
    "# Prep stuff"
   ]
  },
  {
   "cell_type": "code",
   "execution_count": 1,
   "metadata": {
    "collapsed": false
   },
   "outputs": [
    {
     "name": "stdout",
     "output_type": "stream",
     "text": [
      "Using matplotlib backend: Qt4Agg\n"
     ]
    }
   ],
   "source": [
    "drive_path = 'c:/'\n",
    "import numpy as np\n",
    "import pandas as pd\n",
    "import os\n",
    "import sys\n",
    "import matplotlib.pyplot as plt\n",
    "from scipy.stats import ks_2samp\n",
    "from scipy.stats import anderson_ksamp\n",
    "from scipy.stats import kruskal\n",
    "from scipy.stats import variation\n",
    "%matplotlib\n",
    "import seaborn as sns"
   ]
  },
  {
   "cell_type": "code",
   "execution_count": 7,
   "metadata": {
    "collapsed": false,
    "scrolled": true
   },
   "outputs": [],
   "source": [
    "#composite=pd.read_csv('C:\\Users\\Annie\\Documents\\Data\\Ca_Imaging\\Analysis\\Odor_Panel\\Composite_MaxDF.csv')\n",
    "#del composite['Mouse']\n",
    "#comp_tmp=pd.melt(composite,\"Group\",var_name=\"Odor\")"
   ]
  },
  {
   "cell_type": "code",
   "execution_count": 5,
   "metadata": {
    "collapsed": false
   },
   "outputs": [],
   "source": [
    "#composite=pd.melt(composite,\"Group\",var_name=\"Odor\")\n",
    "#sns.swarmplot(x=\"Odor\",y=\"value\",hue=\"Group\",data=comp_tmp);"
   ]
  },
  {
   "cell_type": "code",
   "execution_count": 63,
   "metadata": {
    "collapsed": true
   },
   "outputs": [],
   "source": [
    "#composite.head()"
   ]
  },
  {
   "cell_type": "code",
   "execution_count": 64,
   "metadata": {
    "collapsed": false
   },
   "outputs": [],
   "source": [
    "#sns.boxplot(x=\"Odor\", y=\"value\", hue=\"Group\", data=comp_tmp);"
   ]
  },
  {
   "cell_type": "code",
   "execution_count": 65,
   "metadata": {
    "collapsed": false
   },
   "outputs": [],
   "source": [
    "#sns.violinplot(x=\"Odor\", y=\"value\", hue=\"Group\", data=comp_tmp);"
   ]
  },
  {
   "cell_type": "code",
   "execution_count": 66,
   "metadata": {
    "collapsed": false
   },
   "outputs": [],
   "source": [
    "#sns.barplot(x=\"Odor\", y=\"value\", hue=\"Group\", data=comp_tmp);"
   ]
  },
  {
   "cell_type": "markdown",
   "metadata": {},
   "source": [
    "# Import/organize data"
   ]
  },
  {
   "cell_type": "code",
   "execution_count": 2,
   "metadata": {
    "collapsed": false,
    "scrolled": true
   },
   "outputs": [],
   "source": [
    "comp=pd.read_csv('C:\\Users\\Annie\\Documents\\Data\\Ca_Imaging\\Analysis\\Odor_Panel\\Composite_MaxDF_NoP.csv')\n",
    "del comp['Mouse']\n",
    "comp_sorted=comp.reindex_axis(comp.mean().sort_values().index, axis=1)\n",
    "comp_labels=pd.DataFrame(comp.Group)\n",
    "tmp=[comp_labels,comp_sorted]\n",
    "composite_full=pd.concat(tmp,axis=1)\n",
    "composite_full.head()\n",
    "cfull=pd.melt(composite_full,\"Group\",var_name=\"Odor\")"
   ]
  },
  {
   "cell_type": "markdown",
   "metadata": {},
   "source": [
    "# Mean, Median, COV"
   ]
  },
  {
   "cell_type": "markdown",
   "metadata": {},
   "source": [
    "Calculate Mean"
   ]
  },
  {
   "cell_type": "code",
   "execution_count": 156,
   "metadata": {
    "collapsed": false
   },
   "outputs": [
    {
     "ename": "TypeError",
     "evalue": "isinstance() arg 2 must be a class, type, or tuple of classes and types",
     "output_type": "error",
     "traceback": [
      "\u001b[1;31m---------------------------------------------------------------------------\u001b[0m",
      "\u001b[1;31mTypeError\u001b[0m                                 Traceback (most recent call last)",
      "\u001b[1;32m<ipython-input-156-6351343a42c3>\u001b[0m in \u001b[0;36m<module>\u001b[1;34m()\u001b[0m\n\u001b[0;32m      1\u001b[0m \u001b[1;31m#Calculate means for each odor\u001b[0m\u001b[1;33m\u001b[0m\u001b[1;33m\u001b[0m\u001b[0m\n\u001b[1;32m----> 2\u001b[1;33m \u001b[0mCctrl\u001b[0m\u001b[1;33m=\u001b[0m\u001b[0mcomposite_full\u001b[0m\u001b[1;33m[\u001b[0m\u001b[0mcomposite_full\u001b[0m\u001b[1;33m[\u001b[0m\u001b[1;34m'Group'\u001b[0m\u001b[1;33m]\u001b[0m\u001b[1;33m==\u001b[0m\u001b[1;34m'Control'\u001b[0m\u001b[1;33m]\u001b[0m\u001b[1;33m\u001b[0m\u001b[0m\n\u001b[0m\u001b[0;32m      3\u001b[0m \u001b[0mCmean\u001b[0m\u001b[1;33m=\u001b[0m\u001b[0mCctrl\u001b[0m\u001b[1;33m.\u001b[0m\u001b[0mmean\u001b[0m\u001b[1;33m(\u001b[0m\u001b[1;33m)\u001b[0m\u001b[1;33m\u001b[0m\u001b[0m\n\u001b[0;32m      4\u001b[0m \u001b[0mM\u001b[0m\u001b[1;33m=\u001b[0m\u001b[0mcomposite_full\u001b[0m\u001b[1;33m[\u001b[0m\u001b[0mcomposite_full\u001b[0m\u001b[1;33m[\u001b[0m\u001b[1;34m'Group'\u001b[0m\u001b[1;33m]\u001b[0m\u001b[1;33m==\u001b[0m\u001b[1;34m'Mint'\u001b[0m\u001b[1;33m]\u001b[0m\u001b[1;33m\u001b[0m\u001b[0m\n\u001b[0;32m      5\u001b[0m \u001b[0mMmean\u001b[0m\u001b[1;33m=\u001b[0m\u001b[0mM\u001b[0m\u001b[1;33m.\u001b[0m\u001b[0mmean\u001b[0m\u001b[1;33m(\u001b[0m\u001b[1;33m)\u001b[0m\u001b[1;33m\u001b[0m\u001b[0m\n",
      "\u001b[1;32mC:\\Users\\Annie\\Anaconda2\\lib\\site-packages\\pandas\\core\\ops.pyc\u001b[0m in \u001b[0;36mwrapper\u001b[1;34m(self, other, axis)\u001b[0m\n\u001b[0;32m    736\u001b[0m             return self._constructor(na_op(self.values, other.values),\n\u001b[0;32m    737\u001b[0m                                      index=self.index, name=name)\n\u001b[1;32m--> 738\u001b[1;33m         \u001b[1;32melif\u001b[0m \u001b[0misinstance\u001b[0m\u001b[1;33m(\u001b[0m\u001b[0mother\u001b[0m\u001b[1;33m,\u001b[0m \u001b[0mpd\u001b[0m\u001b[1;33m.\u001b[0m\u001b[0mDataFrame\u001b[0m\u001b[1;33m)\u001b[0m\u001b[1;33m:\u001b[0m  \u001b[1;31m# pragma: no cover\u001b[0m\u001b[1;33m\u001b[0m\u001b[0m\n\u001b[0m\u001b[0;32m    739\u001b[0m             \u001b[1;32mreturn\u001b[0m \u001b[0mNotImplemented\u001b[0m\u001b[1;33m\u001b[0m\u001b[0m\n\u001b[0;32m    740\u001b[0m         \u001b[1;32melif\u001b[0m \u001b[0misinstance\u001b[0m\u001b[1;33m(\u001b[0m\u001b[0mother\u001b[0m\u001b[1;33m,\u001b[0m \u001b[1;33m(\u001b[0m\u001b[0mnp\u001b[0m\u001b[1;33m.\u001b[0m\u001b[0mndarray\u001b[0m\u001b[1;33m,\u001b[0m \u001b[0mpd\u001b[0m\u001b[1;33m.\u001b[0m\u001b[0mIndex\u001b[0m\u001b[1;33m)\u001b[0m\u001b[1;33m)\u001b[0m\u001b[1;33m:\u001b[0m\u001b[1;33m\u001b[0m\u001b[0m\n",
      "\u001b[1;31mTypeError\u001b[0m: isinstance() arg 2 must be a class, type, or tuple of classes and types"
     ]
    }
   ],
   "source": [
    "#Calculate means for each odor\n",
    "Cctrl=composite_full[composite_full['Group']=='Control']\n",
    "Cmean=Cctrl.mean()\n",
    "M=composite_full[composite_full['Group']=='Mint']\n",
    "Mmean=M.mean()\n",
    "H=composite_full[composite_full['Group']=='Hexanal']\n",
    "Hmean=H.mean()\n",
    "\n",
    "CtrlMDFT=pd.DataFrame(Cmean).transpose()\n",
    "MMDFT=pd.DataFrame(Mmean).transpose()\n",
    "HMDFT=pd.DataFrame(Hmean).transpose()\n",
    "\n",
    "#add group labels back\n",
    "gnc = pd.DataFrame({'Group':['Control']})\n",
    "gnm=pd.DataFrame({'Group':['Mint']})\n",
    "gnh=pd.DataFrame({'Group':['Hexanal']})\n",
    "\n",
    "Ctmp=[gnc,CtrlMDFT]\n",
    "Mtmp=[gnm,MMDFT]\n",
    "Htmp=[gnh,HMDFT]\n",
    "\n",
    "CtrlMDF=pd.concat(Ctmp,axis=1)\n",
    "MMDF=pd.concat(Mtmp,axis=1)\n",
    "HMDF=pd.concat(Htmp,axis=1)\n",
    "\n",
    "final=[CtrlMDF,MMDF,HMDF]\n",
    "finalmean=pd.concat(final)\n",
    "finalmeandf=pd.melt(finalmean,\"Group\",var_name=\"Odor\")"
   ]
  },
  {
   "cell_type": "code",
   "execution_count": 157,
   "metadata": {
    "collapsed": false
   },
   "outputs": [],
   "source": [
    "#plot means\n",
    "sns.set(style=\"white\", palette=\"muted\", color_codes=True);\n",
    "sns.set_context(\"talk\",font_scale=1.8);\n",
    "plt.figure(figsize=(55,20));\n",
    "sns.pointplot(x=\"Odor\", y=\"value\", hue=\"Group\", data=finalmeandf,palette={\"Control\": \"r\", \"Mint\": \"g\",'Hexanal':'b'});\n",
    "sns.despine()\n",
    "plt.ylabel('DF/F', fontsize=48);\n",
    "plt.title('Mean Peak DF/F',fontsize=55);\n",
    "plt.xlabel('Odor',fontsize=48);\n",
    "plt.legend(loc=2,prop={'size':48});"
   ]
  },
  {
   "cell_type": "markdown",
   "metadata": {},
   "source": [
    "Calculate Medians"
   ]
  },
  {
   "cell_type": "code",
   "execution_count": 8,
   "metadata": {
    "collapsed": false,
    "scrolled": true
   },
   "outputs": [],
   "source": [
    "#Calculate medians for each odor\n",
    "Cctrl=composite_full[composite_full['Group']=='Control']\n",
    "Cmedian=Cctrl.median()\n",
    "M=composite_full[composite_full['Group']=='Mint']\n",
    "Mmedian=M.median()\n",
    "H=composite_full[composite_full['Group']=='Hexanal']\n",
    "Hmedian=H.median()\n",
    "\n",
    "CtrlMedT=pd.DataFrame(Cmedian).transpose()\n",
    "MMedT=pd.DataFrame(Mmedian).transpose()\n",
    "HMedT=pd.DataFrame(Hmedian).transpose()\n",
    "\n",
    "#add group labels back\n",
    "gnc = pd.DataFrame({'Group':['Control']})\n",
    "gnm=pd.DataFrame({'Group':['Mint']})\n",
    "gnh=pd.DataFrame({'Group':['Hexanal']})\n",
    "\n",
    "Ctmp=[gnc,CtrlMedT]\n",
    "Mtmp=[gnm,MMedT]\n",
    "Htmp=[gnh,HMedT]\n",
    "\n",
    "CtrlMed=pd.concat(Ctmp,axis=1)\n",
    "MMed=pd.concat(Mtmp,axis=1)\n",
    "HMed=pd.concat(Htmp,axis=1)\n",
    "\n",
    "finalmed=[CtrlMed,MMed,HMed]\n",
    "finalmedian=pd.concat(finalmed)\n",
    "finalmediandf=pd.melt(finalmedian,\"Group\",var_name=\"Odor\")"
   ]
  },
  {
   "cell_type": "code",
   "execution_count": 9,
   "metadata": {
    "collapsed": false,
    "scrolled": true
   },
   "outputs": [],
   "source": [
    "#Plot medians\n",
    "sns.set(style=\"white\", palette=\"muted\", color_codes=True);\n",
    "sns.set_context(\"talk\",font_scale=1.8);\n",
    "plt.figure(figsize=(55,20));\n",
    "sns.pointplot(x=\"Odor\", y=\"value\", hue=\"Group\", data=finalmediandf,palette={\"Control\": \"r\", \"Mint\": \"g\",'Hexanal':'b'});\n",
    "sns.despine()\n",
    "plt.ylabel('DF/F', fontsize=48);\n",
    "plt.title('Median Peak DF/F',fontsize=55);\n",
    "plt.xlabel('Odor',fontsize=48);\n",
    "plt.legend(loc=2,prop={'size':48});"
   ]
  },
  {
   "cell_type": "markdown",
   "metadata": {},
   "source": [
    "Calculate and Plot Variance"
   ]
  },
  {
   "cell_type": "code",
   "execution_count": 10,
   "metadata": {
    "collapsed": false
   },
   "outputs": [],
   "source": [
    "# Calculate variance\n",
    "CC=composite_full[composite_full['Group']=='Control']\n",
    "MM=composite_full[composite_full['Group']=='Mint']\n",
    "HH=composite_full[composite_full['Group']=='Hexanal']\n",
    "del CC['Group']\n",
    "del MM['Group']\n",
    "del HH['Group']\n",
    "\n",
    "CvarT=pd.DataFrame(variation(CC)).transpose()\n",
    "MvarT=pd.DataFrame(variation(MM)).transpose()\n",
    "HvarT=pd.DataFrame(variation(HH)).transpose()\n",
    "\n",
    "#add group labels back\n",
    "gnc = pd.DataFrame({'Group':['Control']})\n",
    "gnm=pd.DataFrame({'Group':['Mint']})\n",
    "gnh=pd.DataFrame({'Group':['Hexanal']})\n",
    "\n",
    "Ctmp=[gnc,CvarT]\n",
    "Mtmp=[gnm,MvarT]\n",
    "Htmp=[gnh,HvarT]\n",
    "\n",
    "CV=pd.concat(Ctmp,axis=1)\n",
    "MV=pd.concat(Mtmp,axis=1)\n",
    "HV=pd.concat(Htmp,axis=1)\n",
    "\n",
    "gn=['Group']\n",
    "gname = np.array(gn)\n",
    "odornames=CC.columns.values\n",
    "columnnames=np.append(gname,odornames)\n",
    "CV.columns=columnnames\n",
    "MV.columns=columnnames\n",
    "HV.columns=columnnames\n",
    "\n",
    "#Fix BLANK NaNs\n",
    "CCNB=pd.DataFrame(CC['BLANK'])\n",
    "CCNB=CCNB.dropna()\n",
    "CCNBvar=variation(CCNB)\n",
    "CCNBvars=np.asscalar(CCNBvar)\n",
    "CV=CV.replace(CV.BLANK[0],CCNBvars)\n",
    "\n",
    "MMNB=pd.DataFrame(MM['BLANK'])\n",
    "MMNB=MMNB.dropna()\n",
    "MMNBvar=variation(MMNB)\n",
    "MMNBvars=np.asscalar(MMNBvar)\n",
    "MV=MV.replace(MV.BLANK[0],MMNBvars)\n",
    "\n",
    "HHNB=pd.DataFrame(HH['BLANK'])\n",
    "HHNB=HHNB.dropna()\n",
    "HHNBvar=variation(HHNB)\n",
    "HHNBvars=np.asscalar(HHNBvar)\n",
    "HV=HV.replace(HV.BLANK[0],HHNBvars)\n",
    "\n",
    "complete=[CV,HV,MV]\n",
    "finalvariance=pd.concat(complete)\n",
    "finalvariancedf=pd.melt(finalvariance,\"Group\",var_name=\"Odor\")"
   ]
  },
  {
   "cell_type": "code",
   "execution_count": 11,
   "metadata": {
    "collapsed": false
   },
   "outputs": [],
   "source": [
    "sns.set(style=\"white\", palette=\"muted\", color_codes=True);\n",
    "sns.set_context(\"talk\",font_scale=1.8);\n",
    "plt.figure(figsize=(55,20));\n",
    "sns.pointplot(x=\"Odor\", y=\"value\", hue=\"Group\", data=finalvariancedf,palette={\"Control\": \"r\", \"Mint\": \"g\",'Hexanal':'b'});\n",
    "sns.despine()\n",
    "plt.ylabel('COV', fontsize=48);\n",
    "plt.title('COV Peak DF/F',fontsize=55);\n",
    "plt.xlabel('Odor',fontsize=48);\n",
    "plt.legend(loc=2,prop={'size':48});"
   ]
  },
  {
   "cell_type": "markdown",
   "metadata": {},
   "source": [
    "Calculate and plot variance for each odor concentration"
   ]
  },
  {
   "cell_type": "code",
   "execution_count": 12,
   "metadata": {
    "collapsed": false
   },
   "outputs": [],
   "source": [
    "MSconcvar=finalvariance[['Group','MS 0.01','MS 0.05','MS 0.1']]\n",
    "Hexconcvar=finalvariance[['Group','Hexanal 0.01','Hexanal 0.05','Hexanal 0.1']]\n",
    "IAAconcvar=finalvariance[['Group','IAA 0.01','IAA 0.05','IAA 0.1']]\n",
    "\n",
    "MSconcvardf=pd.melt(MSconcvar,\"Group\",var_name=\"Odor\")\n",
    "Hexconcvardf=pd.melt(Hexconcvar,'Group', var_name='Odor')\n",
    "IAAconcvardf=pd.melt(IAAconcvar,'Group',var_name='Odor')"
   ]
  },
  {
   "cell_type": "code",
   "execution_count": 13,
   "metadata": {
    "collapsed": true
   },
   "outputs": [],
   "source": [
    "#Plot COV MS Concentration\n",
    "sns.set(style=\"white\", palette=\"muted\", color_codes=True);\n",
    "sns.set_context(\"talk\",font_scale=1.8);\n",
    "plt.figure(figsize=(55,20));\n",
    "sns.pointplot(x=\"Odor\", y=\"value\", hue=\"Group\", data=MSconcvardf,palette={\"Control\": \"r\", \"Mint\": \"g\",'Hexanal':'b'});\n",
    "sns.despine()\n",
    "plt.ylabel('COV', fontsize=48);\n",
    "plt.title('COV Peak DF/F - Methyl Salicylate',fontsize=55);\n",
    "plt.xlabel('Odor',fontsize=48);\n",
    "plt.legend(loc=2,prop={'size':48});"
   ]
  },
  {
   "cell_type": "code",
   "execution_count": 211,
   "metadata": {
    "collapsed": true
   },
   "outputs": [],
   "source": [
    "# Plot COV Hexanal Concentration\n",
    "sns.set(style=\"white\", palette=\"muted\", color_codes=True);\n",
    "sns.set_context(\"talk\",font_scale=1.8);\n",
    "plt.figure(figsize=(55,20));\n",
    "sns.pointplot(x=\"Odor\", y=\"value\", hue=\"Group\", data=Hexconcvardf,palette={\"Control\": \"r\", \"Mint\": \"g\",'Hexanal':'b'});\n",
    "sns.despine()\n",
    "plt.ylabel('COV', fontsize=48);\n",
    "plt.title('COV Peak DF/F - Hexanal',fontsize=55);\n",
    "plt.xlabel('Odor',fontsize=48);\n",
    "plt.legend(loc=2,prop={'size':48});"
   ]
  },
  {
   "cell_type": "code",
   "execution_count": 212,
   "metadata": {
    "collapsed": true
   },
   "outputs": [],
   "source": [
    "# Plot COV IAA Concentration\n",
    "sns.set(style=\"white\", palette=\"muted\", color_codes=True);\n",
    "sns.set_context(\"talk\",font_scale=1.8);\n",
    "plt.figure(figsize=(55,20));\n",
    "sns.pointplot(x=\"Odor\", y=\"value\", hue=\"Group\", data=IAAconcvardf,palette={\"Control\": \"r\", \"Mint\": \"g\",'Hexanal':'b'});\n",
    "sns.despine()\n",
    "plt.ylabel('COV', fontsize=48);\n",
    "plt.title('COV Peak DF/F - Isoamyl acetate',fontsize=55);\n",
    "plt.xlabel('Odor',fontsize=48);\n",
    "plt.legend(loc=2,prop={'size':48});"
   ]
  },
  {
   "cell_type": "markdown",
   "metadata": {},
   "source": [
    "# Correlate Baseline with DF/F"
   ]
  },
  {
   "cell_type": "code",
   "execution_count": 3,
   "metadata": {
    "collapsed": true
   },
   "outputs": [],
   "source": [
    "#Get Baselines\n",
    "bl=pd.read_csv('C:\\Users\\Annie\\Documents\\Data\\Ca_Imaging\\Analysis\\Odor_Panel\\Composite_Baseline_NoP.csv')\n",
    "del bl['Mouse']\n",
    "bl_sorted=bl.reindex_axis(bl.mean().sort_values().index, axis=1)\n",
    "bl_labels=pd.DataFrame(bl.Group)\n",
    "tmp=[bl_labels,bl_sorted]\n",
    "bdf=pd.concat(tmp,axis=1)\n",
    "bdfull=pd.melt(bdf,\"Group\",var_name=\"Odor\")\n",
    "bdfull=bdfull.dropna()"
   ]
  },
  {
   "cell_type": "code",
   "execution_count": 64,
   "metadata": {
    "collapsed": false
   },
   "outputs": [],
   "source": [
    "#no NaNs allowed\n",
    "bdf2=bdf\n",
    "del bdf2['BLANK']\n",
    "# cdf2=composite_full\n",
    "# del cdf2['BLANK']"
   ]
  },
  {
   "cell_type": "code",
   "execution_count": 4,
   "metadata": {
    "collapsed": true
   },
   "outputs": [
    {
     "ename": "NameError",
     "evalue": "name 'cdf2' is not defined",
     "output_type": "error",
     "traceback": [
      "\u001b[1;31m---------------------------------------------------------------------------\u001b[0m",
      "\u001b[1;31mNameError\u001b[0m                                 Traceback (most recent call last)",
      "\u001b[1;32m<ipython-input-4-936071b8112a>\u001b[0m in \u001b[0;36m<module>\u001b[1;34m()\u001b[0m\n\u001b[1;32m----> 1\u001b[1;33m \u001b[0mcdf2_cn\u001b[0m\u001b[1;33m=\u001b[0m\u001b[0mcdf2\u001b[0m\u001b[1;33m.\u001b[0m\u001b[0mcolumns\u001b[0m\u001b[1;33m.\u001b[0m\u001b[0mtolist\u001b[0m\u001b[1;33m(\u001b[0m\u001b[1;33m)\u001b[0m\u001b[1;33m\u001b[0m\u001b[0m\n\u001b[0m\u001b[0;32m      2\u001b[0m \u001b[0mbdf2\u001b[0m\u001b[1;33m=\u001b[0m\u001b[0mbdf2\u001b[0m\u001b[1;33m[\u001b[0m\u001b[0mcdf2_cn\u001b[0m\u001b[1;33m]\u001b[0m\u001b[1;33m\u001b[0m\u001b[0m\n\u001b[0;32m      3\u001b[0m \u001b[0mbdf2\u001b[0m\u001b[1;33m.\u001b[0m\u001b[0mhead\u001b[0m\u001b[1;33m(\u001b[0m\u001b[1;33m)\u001b[0m\u001b[1;33m\u001b[0m\u001b[0m\n",
      "\u001b[1;31mNameError\u001b[0m: name 'cdf2' is not defined"
     ]
    }
   ],
   "source": [
    "cdf2_cn=cdf2.columns.tolist()\n",
    "bdf2=bdf2[cdf2_cn]\n",
    "bdf2.head()"
   ]
  },
  {
   "cell_type": "code",
   "execution_count": 73,
   "metadata": {
    "collapsed": true
   },
   "outputs": [
    {
     "data": {
      "text/html": [
       "<div>\n",
       "<table border=\"1\" class=\"dataframe\">\n",
       "  <thead>\n",
       "    <tr style=\"text-align: right;\">\n",
       "      <th></th>\n",
       "      <th>THA</th>\n",
       "      <th>MS 0.01</th>\n",
       "      <th>AP</th>\n",
       "      <th>MS 0.1</th>\n",
       "      <th>MS 0.05</th>\n",
       "      <th>IAA 0.05</th>\n",
       "      <th>IAA 0.01</th>\n",
       "      <th>PA</th>\n",
       "      <th>IAA 0.1</th>\n",
       "      <th>Hexanone</th>\n",
       "      <th>Hexanal 0.1</th>\n",
       "      <th>Hexanal 0.01</th>\n",
       "      <th>Hexanal 0.05</th>\n",
       "      <th>EB</th>\n",
       "    </tr>\n",
       "  </thead>\n",
       "  <tbody>\n",
       "    <tr>\n",
       "      <th>THA</th>\n",
       "      <td>1.000000</td>\n",
       "      <td>0.984700</td>\n",
       "      <td>0.986985</td>\n",
       "      <td>0.980504</td>\n",
       "      <td>0.984799</td>\n",
       "      <td>0.983704</td>\n",
       "      <td>0.986801</td>\n",
       "      <td>0.982524</td>\n",
       "      <td>0.982955</td>\n",
       "      <td>0.982562</td>\n",
       "      <td>0.982675</td>\n",
       "      <td>0.985492</td>\n",
       "      <td>0.984447</td>\n",
       "      <td>0.991061</td>\n",
       "    </tr>\n",
       "    <tr>\n",
       "      <th>MS 0.01</th>\n",
       "      <td>0.984700</td>\n",
       "      <td>1.000000</td>\n",
       "      <td>0.987332</td>\n",
       "      <td>0.979586</td>\n",
       "      <td>0.984802</td>\n",
       "      <td>0.981330</td>\n",
       "      <td>0.988178</td>\n",
       "      <td>0.983096</td>\n",
       "      <td>0.980689</td>\n",
       "      <td>0.986068</td>\n",
       "      <td>0.981652</td>\n",
       "      <td>0.987859</td>\n",
       "      <td>0.983496</td>\n",
       "      <td>0.985675</td>\n",
       "    </tr>\n",
       "    <tr>\n",
       "      <th>AP</th>\n",
       "      <td>0.986985</td>\n",
       "      <td>0.987332</td>\n",
       "      <td>1.000000</td>\n",
       "      <td>0.978633</td>\n",
       "      <td>0.982400</td>\n",
       "      <td>0.978695</td>\n",
       "      <td>0.988490</td>\n",
       "      <td>0.980479</td>\n",
       "      <td>0.981833</td>\n",
       "      <td>0.990922</td>\n",
       "      <td>0.982489</td>\n",
       "      <td>0.992143</td>\n",
       "      <td>0.985579</td>\n",
       "      <td>0.988872</td>\n",
       "    </tr>\n",
       "    <tr>\n",
       "      <th>MS 0.1</th>\n",
       "      <td>0.980504</td>\n",
       "      <td>0.979586</td>\n",
       "      <td>0.978633</td>\n",
       "      <td>1.000000</td>\n",
       "      <td>0.988357</td>\n",
       "      <td>0.989349</td>\n",
       "      <td>0.981329</td>\n",
       "      <td>0.976675</td>\n",
       "      <td>0.993409</td>\n",
       "      <td>0.977748</td>\n",
       "      <td>0.992520</td>\n",
       "      <td>0.977823</td>\n",
       "      <td>0.984851</td>\n",
       "      <td>0.979477</td>\n",
       "    </tr>\n",
       "    <tr>\n",
       "      <th>MS 0.05</th>\n",
       "      <td>0.984799</td>\n",
       "      <td>0.984802</td>\n",
       "      <td>0.982400</td>\n",
       "      <td>0.988357</td>\n",
       "      <td>1.000000</td>\n",
       "      <td>0.991971</td>\n",
       "      <td>0.982678</td>\n",
       "      <td>0.982205</td>\n",
       "      <td>0.990829</td>\n",
       "      <td>0.981907</td>\n",
       "      <td>0.989187</td>\n",
       "      <td>0.979588</td>\n",
       "      <td>0.989948</td>\n",
       "      <td>0.983375</td>\n",
       "    </tr>\n",
       "    <tr>\n",
       "      <th>IAA 0.05</th>\n",
       "      <td>0.983704</td>\n",
       "      <td>0.981330</td>\n",
       "      <td>0.978695</td>\n",
       "      <td>0.989349</td>\n",
       "      <td>0.991971</td>\n",
       "      <td>1.000000</td>\n",
       "      <td>0.984058</td>\n",
       "      <td>0.981012</td>\n",
       "      <td>0.990014</td>\n",
       "      <td>0.978422</td>\n",
       "      <td>0.989451</td>\n",
       "      <td>0.975866</td>\n",
       "      <td>0.987917</td>\n",
       "      <td>0.981460</td>\n",
       "    </tr>\n",
       "    <tr>\n",
       "      <th>IAA 0.01</th>\n",
       "      <td>0.986801</td>\n",
       "      <td>0.988178</td>\n",
       "      <td>0.988490</td>\n",
       "      <td>0.981329</td>\n",
       "      <td>0.982678</td>\n",
       "      <td>0.984058</td>\n",
       "      <td>1.000000</td>\n",
       "      <td>0.985531</td>\n",
       "      <td>0.982384</td>\n",
       "      <td>0.986726</td>\n",
       "      <td>0.980245</td>\n",
       "      <td>0.986749</td>\n",
       "      <td>0.983363</td>\n",
       "      <td>0.984833</td>\n",
       "    </tr>\n",
       "    <tr>\n",
       "      <th>PA</th>\n",
       "      <td>0.982524</td>\n",
       "      <td>0.983096</td>\n",
       "      <td>0.980479</td>\n",
       "      <td>0.976675</td>\n",
       "      <td>0.982205</td>\n",
       "      <td>0.981012</td>\n",
       "      <td>0.985531</td>\n",
       "      <td>1.000000</td>\n",
       "      <td>0.979045</td>\n",
       "      <td>0.978421</td>\n",
       "      <td>0.976690</td>\n",
       "      <td>0.978359</td>\n",
       "      <td>0.979289</td>\n",
       "      <td>0.980243</td>\n",
       "    </tr>\n",
       "    <tr>\n",
       "      <th>IAA 0.1</th>\n",
       "      <td>0.982955</td>\n",
       "      <td>0.980689</td>\n",
       "      <td>0.981833</td>\n",
       "      <td>0.993409</td>\n",
       "      <td>0.990829</td>\n",
       "      <td>0.990014</td>\n",
       "      <td>0.982384</td>\n",
       "      <td>0.979045</td>\n",
       "      <td>1.000000</td>\n",
       "      <td>0.979582</td>\n",
       "      <td>0.994727</td>\n",
       "      <td>0.980081</td>\n",
       "      <td>0.988562</td>\n",
       "      <td>0.982099</td>\n",
       "    </tr>\n",
       "    <tr>\n",
       "      <th>Hexanone</th>\n",
       "      <td>0.982562</td>\n",
       "      <td>0.986068</td>\n",
       "      <td>0.990922</td>\n",
       "      <td>0.977748</td>\n",
       "      <td>0.981907</td>\n",
       "      <td>0.978422</td>\n",
       "      <td>0.986726</td>\n",
       "      <td>0.978421</td>\n",
       "      <td>0.979582</td>\n",
       "      <td>1.000000</td>\n",
       "      <td>0.979907</td>\n",
       "      <td>0.988657</td>\n",
       "      <td>0.982554</td>\n",
       "      <td>0.982775</td>\n",
       "    </tr>\n",
       "    <tr>\n",
       "      <th>Hexanal 0.1</th>\n",
       "      <td>0.982675</td>\n",
       "      <td>0.981652</td>\n",
       "      <td>0.982489</td>\n",
       "      <td>0.992520</td>\n",
       "      <td>0.989187</td>\n",
       "      <td>0.989451</td>\n",
       "      <td>0.980245</td>\n",
       "      <td>0.976690</td>\n",
       "      <td>0.994727</td>\n",
       "      <td>0.979907</td>\n",
       "      <td>1.000000</td>\n",
       "      <td>0.979343</td>\n",
       "      <td>0.990883</td>\n",
       "      <td>0.983497</td>\n",
       "    </tr>\n",
       "    <tr>\n",
       "      <th>Hexanal 0.01</th>\n",
       "      <td>0.985492</td>\n",
       "      <td>0.987859</td>\n",
       "      <td>0.992143</td>\n",
       "      <td>0.977823</td>\n",
       "      <td>0.979588</td>\n",
       "      <td>0.975866</td>\n",
       "      <td>0.986749</td>\n",
       "      <td>0.978359</td>\n",
       "      <td>0.980081</td>\n",
       "      <td>0.988657</td>\n",
       "      <td>0.979343</td>\n",
       "      <td>1.000000</td>\n",
       "      <td>0.983848</td>\n",
       "      <td>0.985874</td>\n",
       "    </tr>\n",
       "    <tr>\n",
       "      <th>Hexanal 0.05</th>\n",
       "      <td>0.984447</td>\n",
       "      <td>0.983496</td>\n",
       "      <td>0.985579</td>\n",
       "      <td>0.984851</td>\n",
       "      <td>0.989948</td>\n",
       "      <td>0.987917</td>\n",
       "      <td>0.983363</td>\n",
       "      <td>0.979289</td>\n",
       "      <td>0.988562</td>\n",
       "      <td>0.982554</td>\n",
       "      <td>0.990883</td>\n",
       "      <td>0.983848</td>\n",
       "      <td>1.000000</td>\n",
       "      <td>0.985340</td>\n",
       "    </tr>\n",
       "    <tr>\n",
       "      <th>EB</th>\n",
       "      <td>0.991061</td>\n",
       "      <td>0.985675</td>\n",
       "      <td>0.988872</td>\n",
       "      <td>0.979477</td>\n",
       "      <td>0.983375</td>\n",
       "      <td>0.981460</td>\n",
       "      <td>0.984833</td>\n",
       "      <td>0.980243</td>\n",
       "      <td>0.982099</td>\n",
       "      <td>0.982775</td>\n",
       "      <td>0.983497</td>\n",
       "      <td>0.985874</td>\n",
       "      <td>0.985340</td>\n",
       "      <td>1.000000</td>\n",
       "    </tr>\n",
       "  </tbody>\n",
       "</table>\n",
       "</div>"
      ],
      "text/plain": [
       "                   THA   MS 0.01        AP    MS 0.1   MS 0.05  IAA 0.05  \\\n",
       "THA           1.000000  0.984700  0.986985  0.980504  0.984799  0.983704   \n",
       "MS 0.01       0.984700  1.000000  0.987332  0.979586  0.984802  0.981330   \n",
       "AP            0.986985  0.987332  1.000000  0.978633  0.982400  0.978695   \n",
       "MS 0.1        0.980504  0.979586  0.978633  1.000000  0.988357  0.989349   \n",
       "MS 0.05       0.984799  0.984802  0.982400  0.988357  1.000000  0.991971   \n",
       "IAA 0.05      0.983704  0.981330  0.978695  0.989349  0.991971  1.000000   \n",
       "IAA 0.01      0.986801  0.988178  0.988490  0.981329  0.982678  0.984058   \n",
       "PA            0.982524  0.983096  0.980479  0.976675  0.982205  0.981012   \n",
       "IAA 0.1       0.982955  0.980689  0.981833  0.993409  0.990829  0.990014   \n",
       "Hexanone      0.982562  0.986068  0.990922  0.977748  0.981907  0.978422   \n",
       "Hexanal 0.1   0.982675  0.981652  0.982489  0.992520  0.989187  0.989451   \n",
       "Hexanal 0.01  0.985492  0.987859  0.992143  0.977823  0.979588  0.975866   \n",
       "Hexanal 0.05  0.984447  0.983496  0.985579  0.984851  0.989948  0.987917   \n",
       "EB            0.991061  0.985675  0.988872  0.979477  0.983375  0.981460   \n",
       "\n",
       "              IAA 0.01        PA   IAA 0.1  Hexanone  Hexanal 0.1  \\\n",
       "THA           0.986801  0.982524  0.982955  0.982562     0.982675   \n",
       "MS 0.01       0.988178  0.983096  0.980689  0.986068     0.981652   \n",
       "AP            0.988490  0.980479  0.981833  0.990922     0.982489   \n",
       "MS 0.1        0.981329  0.976675  0.993409  0.977748     0.992520   \n",
       "MS 0.05       0.982678  0.982205  0.990829  0.981907     0.989187   \n",
       "IAA 0.05      0.984058  0.981012  0.990014  0.978422     0.989451   \n",
       "IAA 0.01      1.000000  0.985531  0.982384  0.986726     0.980245   \n",
       "PA            0.985531  1.000000  0.979045  0.978421     0.976690   \n",
       "IAA 0.1       0.982384  0.979045  1.000000  0.979582     0.994727   \n",
       "Hexanone      0.986726  0.978421  0.979582  1.000000     0.979907   \n",
       "Hexanal 0.1   0.980245  0.976690  0.994727  0.979907     1.000000   \n",
       "Hexanal 0.01  0.986749  0.978359  0.980081  0.988657     0.979343   \n",
       "Hexanal 0.05  0.983363  0.979289  0.988562  0.982554     0.990883   \n",
       "EB            0.984833  0.980243  0.982099  0.982775     0.983497   \n",
       "\n",
       "              Hexanal 0.01  Hexanal 0.05        EB  \n",
       "THA               0.985492      0.984447  0.991061  \n",
       "MS 0.01           0.987859      0.983496  0.985675  \n",
       "AP                0.992143      0.985579  0.988872  \n",
       "MS 0.1            0.977823      0.984851  0.979477  \n",
       "MS 0.05           0.979588      0.989948  0.983375  \n",
       "IAA 0.05          0.975866      0.987917  0.981460  \n",
       "IAA 0.01          0.986749      0.983363  0.984833  \n",
       "PA                0.978359      0.979289  0.980243  \n",
       "IAA 0.1           0.980081      0.988562  0.982099  \n",
       "Hexanone          0.988657      0.982554  0.982775  \n",
       "Hexanal 0.1       0.979343      0.990883  0.983497  \n",
       "Hexanal 0.01      1.000000      0.983848  0.985874  \n",
       "Hexanal 0.05      0.983848      1.000000  0.985340  \n",
       "EB                0.985874      0.985340  1.000000  "
      ]
     },
     "execution_count": 73,
     "metadata": {},
     "output_type": "execute_result"
    }
   ],
   "source": [
    "bdf2.corr()"
   ]
  },
  {
   "cell_type": "code",
   "execution_count": 74,
   "metadata": {
    "collapsed": true
   },
   "outputs": [
    {
     "data": {
      "text/html": [
       "<div>\n",
       "<table border=\"1\" class=\"dataframe\">\n",
       "  <thead>\n",
       "    <tr style=\"text-align: right;\">\n",
       "      <th></th>\n",
       "      <th>THA</th>\n",
       "      <th>MS 0.01</th>\n",
       "      <th>AP</th>\n",
       "      <th>MS 0.1</th>\n",
       "      <th>MS 0.05</th>\n",
       "      <th>IAA 0.05</th>\n",
       "      <th>IAA 0.01</th>\n",
       "      <th>PA</th>\n",
       "      <th>IAA 0.1</th>\n",
       "      <th>Hexanone</th>\n",
       "      <th>Hexanal 0.1</th>\n",
       "      <th>Hexanal 0.01</th>\n",
       "      <th>Hexanal 0.05</th>\n",
       "      <th>EB</th>\n",
       "    </tr>\n",
       "  </thead>\n",
       "  <tbody>\n",
       "    <tr>\n",
       "      <th>THA</th>\n",
       "      <td>1.000000</td>\n",
       "      <td>0.903917</td>\n",
       "      <td>0.894578</td>\n",
       "      <td>0.900715</td>\n",
       "      <td>0.907587</td>\n",
       "      <td>0.909662</td>\n",
       "      <td>0.840436</td>\n",
       "      <td>0.824768</td>\n",
       "      <td>0.893253</td>\n",
       "      <td>0.836796</td>\n",
       "      <td>0.894164</td>\n",
       "      <td>0.762327</td>\n",
       "      <td>0.873705</td>\n",
       "      <td>0.799995</td>\n",
       "    </tr>\n",
       "    <tr>\n",
       "      <th>MS 0.01</th>\n",
       "      <td>0.903917</td>\n",
       "      <td>1.000000</td>\n",
       "      <td>0.952636</td>\n",
       "      <td>0.947882</td>\n",
       "      <td>0.916606</td>\n",
       "      <td>0.914039</td>\n",
       "      <td>0.919039</td>\n",
       "      <td>0.897387</td>\n",
       "      <td>0.907058</td>\n",
       "      <td>0.895643</td>\n",
       "      <td>0.876366</td>\n",
       "      <td>0.820637</td>\n",
       "      <td>0.890935</td>\n",
       "      <td>0.872434</td>\n",
       "    </tr>\n",
       "    <tr>\n",
       "      <th>AP</th>\n",
       "      <td>0.894578</td>\n",
       "      <td>0.952636</td>\n",
       "      <td>1.000000</td>\n",
       "      <td>0.921658</td>\n",
       "      <td>0.914807</td>\n",
       "      <td>0.923781</td>\n",
       "      <td>0.945530</td>\n",
       "      <td>0.942893</td>\n",
       "      <td>0.920781</td>\n",
       "      <td>0.903916</td>\n",
       "      <td>0.880293</td>\n",
       "      <td>0.875842</td>\n",
       "      <td>0.911388</td>\n",
       "      <td>0.902708</td>\n",
       "    </tr>\n",
       "    <tr>\n",
       "      <th>MS 0.1</th>\n",
       "      <td>0.900715</td>\n",
       "      <td>0.947882</td>\n",
       "      <td>0.921658</td>\n",
       "      <td>1.000000</td>\n",
       "      <td>0.963295</td>\n",
       "      <td>0.953065</td>\n",
       "      <td>0.908744</td>\n",
       "      <td>0.870939</td>\n",
       "      <td>0.926905</td>\n",
       "      <td>0.874752</td>\n",
       "      <td>0.934394</td>\n",
       "      <td>0.832568</td>\n",
       "      <td>0.914758</td>\n",
       "      <td>0.834994</td>\n",
       "    </tr>\n",
       "    <tr>\n",
       "      <th>MS 0.05</th>\n",
       "      <td>0.907587</td>\n",
       "      <td>0.916606</td>\n",
       "      <td>0.914807</td>\n",
       "      <td>0.963295</td>\n",
       "      <td>1.000000</td>\n",
       "      <td>0.970777</td>\n",
       "      <td>0.898516</td>\n",
       "      <td>0.891731</td>\n",
       "      <td>0.933959</td>\n",
       "      <td>0.836596</td>\n",
       "      <td>0.950984</td>\n",
       "      <td>0.864079</td>\n",
       "      <td>0.938233</td>\n",
       "      <td>0.837516</td>\n",
       "    </tr>\n",
       "    <tr>\n",
       "      <th>IAA 0.05</th>\n",
       "      <td>0.909662</td>\n",
       "      <td>0.914039</td>\n",
       "      <td>0.923781</td>\n",
       "      <td>0.953065</td>\n",
       "      <td>0.970777</td>\n",
       "      <td>1.000000</td>\n",
       "      <td>0.907031</td>\n",
       "      <td>0.891275</td>\n",
       "      <td>0.946012</td>\n",
       "      <td>0.853487</td>\n",
       "      <td>0.961188</td>\n",
       "      <td>0.885477</td>\n",
       "      <td>0.939178</td>\n",
       "      <td>0.866530</td>\n",
       "    </tr>\n",
       "    <tr>\n",
       "      <th>IAA 0.01</th>\n",
       "      <td>0.840436</td>\n",
       "      <td>0.919039</td>\n",
       "      <td>0.945530</td>\n",
       "      <td>0.908744</td>\n",
       "      <td>0.898516</td>\n",
       "      <td>0.907031</td>\n",
       "      <td>1.000000</td>\n",
       "      <td>0.924075</td>\n",
       "      <td>0.938100</td>\n",
       "      <td>0.887381</td>\n",
       "      <td>0.866086</td>\n",
       "      <td>0.892736</td>\n",
       "      <td>0.899066</td>\n",
       "      <td>0.896188</td>\n",
       "    </tr>\n",
       "    <tr>\n",
       "      <th>PA</th>\n",
       "      <td>0.824768</td>\n",
       "      <td>0.897387</td>\n",
       "      <td>0.942893</td>\n",
       "      <td>0.870939</td>\n",
       "      <td>0.891731</td>\n",
       "      <td>0.891275</td>\n",
       "      <td>0.924075</td>\n",
       "      <td>1.000000</td>\n",
       "      <td>0.882518</td>\n",
       "      <td>0.834363</td>\n",
       "      <td>0.849483</td>\n",
       "      <td>0.902975</td>\n",
       "      <td>0.885359</td>\n",
       "      <td>0.924251</td>\n",
       "    </tr>\n",
       "    <tr>\n",
       "      <th>IAA 0.1</th>\n",
       "      <td>0.893253</td>\n",
       "      <td>0.907058</td>\n",
       "      <td>0.920781</td>\n",
       "      <td>0.926905</td>\n",
       "      <td>0.933959</td>\n",
       "      <td>0.946012</td>\n",
       "      <td>0.938100</td>\n",
       "      <td>0.882518</td>\n",
       "      <td>1.000000</td>\n",
       "      <td>0.885805</td>\n",
       "      <td>0.926787</td>\n",
       "      <td>0.862461</td>\n",
       "      <td>0.927907</td>\n",
       "      <td>0.865509</td>\n",
       "    </tr>\n",
       "    <tr>\n",
       "      <th>Hexanone</th>\n",
       "      <td>0.836796</td>\n",
       "      <td>0.895643</td>\n",
       "      <td>0.903916</td>\n",
       "      <td>0.874752</td>\n",
       "      <td>0.836596</td>\n",
       "      <td>0.853487</td>\n",
       "      <td>0.887381</td>\n",
       "      <td>0.834363</td>\n",
       "      <td>0.885805</td>\n",
       "      <td>1.000000</td>\n",
       "      <td>0.830275</td>\n",
       "      <td>0.791349</td>\n",
       "      <td>0.876775</td>\n",
       "      <td>0.818534</td>\n",
       "    </tr>\n",
       "    <tr>\n",
       "      <th>Hexanal 0.1</th>\n",
       "      <td>0.894164</td>\n",
       "      <td>0.876366</td>\n",
       "      <td>0.880293</td>\n",
       "      <td>0.934394</td>\n",
       "      <td>0.950984</td>\n",
       "      <td>0.961188</td>\n",
       "      <td>0.866086</td>\n",
       "      <td>0.849483</td>\n",
       "      <td>0.926787</td>\n",
       "      <td>0.830275</td>\n",
       "      <td>1.000000</td>\n",
       "      <td>0.866120</td>\n",
       "      <td>0.952067</td>\n",
       "      <td>0.835747</td>\n",
       "    </tr>\n",
       "    <tr>\n",
       "      <th>Hexanal 0.01</th>\n",
       "      <td>0.762327</td>\n",
       "      <td>0.820637</td>\n",
       "      <td>0.875842</td>\n",
       "      <td>0.832568</td>\n",
       "      <td>0.864079</td>\n",
       "      <td>0.885477</td>\n",
       "      <td>0.892736</td>\n",
       "      <td>0.902975</td>\n",
       "      <td>0.862461</td>\n",
       "      <td>0.791349</td>\n",
       "      <td>0.866120</td>\n",
       "      <td>1.000000</td>\n",
       "      <td>0.917448</td>\n",
       "      <td>0.898416</td>\n",
       "    </tr>\n",
       "    <tr>\n",
       "      <th>Hexanal 0.05</th>\n",
       "      <td>0.873705</td>\n",
       "      <td>0.890935</td>\n",
       "      <td>0.911388</td>\n",
       "      <td>0.914758</td>\n",
       "      <td>0.938233</td>\n",
       "      <td>0.939178</td>\n",
       "      <td>0.899066</td>\n",
       "      <td>0.885359</td>\n",
       "      <td>0.927907</td>\n",
       "      <td>0.876775</td>\n",
       "      <td>0.952067</td>\n",
       "      <td>0.917448</td>\n",
       "      <td>1.000000</td>\n",
       "      <td>0.873693</td>\n",
       "    </tr>\n",
       "    <tr>\n",
       "      <th>EB</th>\n",
       "      <td>0.799995</td>\n",
       "      <td>0.872434</td>\n",
       "      <td>0.902708</td>\n",
       "      <td>0.834994</td>\n",
       "      <td>0.837516</td>\n",
       "      <td>0.866530</td>\n",
       "      <td>0.896188</td>\n",
       "      <td>0.924251</td>\n",
       "      <td>0.865509</td>\n",
       "      <td>0.818534</td>\n",
       "      <td>0.835747</td>\n",
       "      <td>0.898416</td>\n",
       "      <td>0.873693</td>\n",
       "      <td>1.000000</td>\n",
       "    </tr>\n",
       "  </tbody>\n",
       "</table>\n",
       "</div>"
      ],
      "text/plain": [
       "                   THA   MS 0.01        AP    MS 0.1   MS 0.05  IAA 0.05  \\\n",
       "THA           1.000000  0.903917  0.894578  0.900715  0.907587  0.909662   \n",
       "MS 0.01       0.903917  1.000000  0.952636  0.947882  0.916606  0.914039   \n",
       "AP            0.894578  0.952636  1.000000  0.921658  0.914807  0.923781   \n",
       "MS 0.1        0.900715  0.947882  0.921658  1.000000  0.963295  0.953065   \n",
       "MS 0.05       0.907587  0.916606  0.914807  0.963295  1.000000  0.970777   \n",
       "IAA 0.05      0.909662  0.914039  0.923781  0.953065  0.970777  1.000000   \n",
       "IAA 0.01      0.840436  0.919039  0.945530  0.908744  0.898516  0.907031   \n",
       "PA            0.824768  0.897387  0.942893  0.870939  0.891731  0.891275   \n",
       "IAA 0.1       0.893253  0.907058  0.920781  0.926905  0.933959  0.946012   \n",
       "Hexanone      0.836796  0.895643  0.903916  0.874752  0.836596  0.853487   \n",
       "Hexanal 0.1   0.894164  0.876366  0.880293  0.934394  0.950984  0.961188   \n",
       "Hexanal 0.01  0.762327  0.820637  0.875842  0.832568  0.864079  0.885477   \n",
       "Hexanal 0.05  0.873705  0.890935  0.911388  0.914758  0.938233  0.939178   \n",
       "EB            0.799995  0.872434  0.902708  0.834994  0.837516  0.866530   \n",
       "\n",
       "              IAA 0.01        PA   IAA 0.1  Hexanone  Hexanal 0.1  \\\n",
       "THA           0.840436  0.824768  0.893253  0.836796     0.894164   \n",
       "MS 0.01       0.919039  0.897387  0.907058  0.895643     0.876366   \n",
       "AP            0.945530  0.942893  0.920781  0.903916     0.880293   \n",
       "MS 0.1        0.908744  0.870939  0.926905  0.874752     0.934394   \n",
       "MS 0.05       0.898516  0.891731  0.933959  0.836596     0.950984   \n",
       "IAA 0.05      0.907031  0.891275  0.946012  0.853487     0.961188   \n",
       "IAA 0.01      1.000000  0.924075  0.938100  0.887381     0.866086   \n",
       "PA            0.924075  1.000000  0.882518  0.834363     0.849483   \n",
       "IAA 0.1       0.938100  0.882518  1.000000  0.885805     0.926787   \n",
       "Hexanone      0.887381  0.834363  0.885805  1.000000     0.830275   \n",
       "Hexanal 0.1   0.866086  0.849483  0.926787  0.830275     1.000000   \n",
       "Hexanal 0.01  0.892736  0.902975  0.862461  0.791349     0.866120   \n",
       "Hexanal 0.05  0.899066  0.885359  0.927907  0.876775     0.952067   \n",
       "EB            0.896188  0.924251  0.865509  0.818534     0.835747   \n",
       "\n",
       "              Hexanal 0.01  Hexanal 0.05        EB  \n",
       "THA               0.762327      0.873705  0.799995  \n",
       "MS 0.01           0.820637      0.890935  0.872434  \n",
       "AP                0.875842      0.911388  0.902708  \n",
       "MS 0.1            0.832568      0.914758  0.834994  \n",
       "MS 0.05           0.864079      0.938233  0.837516  \n",
       "IAA 0.05          0.885477      0.939178  0.866530  \n",
       "IAA 0.01          0.892736      0.899066  0.896188  \n",
       "PA                0.902975      0.885359  0.924251  \n",
       "IAA 0.1           0.862461      0.927907  0.865509  \n",
       "Hexanone          0.791349      0.876775  0.818534  \n",
       "Hexanal 0.1       0.866120      0.952067  0.835747  \n",
       "Hexanal 0.01      1.000000      0.917448  0.898416  \n",
       "Hexanal 0.05      0.917448      1.000000  0.873693  \n",
       "EB                0.898416      0.873693  1.000000  "
      ]
     },
     "execution_count": 74,
     "metadata": {},
     "output_type": "execute_result"
    }
   ],
   "source": [
    "cdf2.corr()"
   ]
  },
  {
   "cell_type": "code",
   "execution_count": 5,
   "metadata": {
    "collapsed": false
   },
   "outputs": [
    {
     "data": {
      "text/html": [
       "<div>\n",
       "<table border=\"1\" class=\"dataframe\">\n",
       "  <thead>\n",
       "    <tr style=\"text-align: right;\">\n",
       "      <th></th>\n",
       "      <th>Group</th>\n",
       "      <th>THA</th>\n",
       "      <th>MS 0.01</th>\n",
       "      <th>BLANK</th>\n",
       "      <th>AP</th>\n",
       "      <th>MS 0.1</th>\n",
       "      <th>MS 0.05</th>\n",
       "      <th>IAA 0.05</th>\n",
       "      <th>IAA 0.01</th>\n",
       "      <th>PA</th>\n",
       "      <th>IAA 0.1</th>\n",
       "      <th>Hexanone</th>\n",
       "      <th>Hexanal 0.1</th>\n",
       "      <th>Hexanal 0.01</th>\n",
       "      <th>Hexanal 0.05</th>\n",
       "      <th>EB</th>\n",
       "    </tr>\n",
       "  </thead>\n",
       "  <tbody>\n",
       "    <tr>\n",
       "      <th>0</th>\n",
       "      <td>Control</td>\n",
       "      <td>2191.580000</td>\n",
       "      <td>2156.251500</td>\n",
       "      <td>NaN</td>\n",
       "      <td>2604.431208</td>\n",
       "      <td>2342.740333</td>\n",
       "      <td>2438.371125</td>\n",
       "      <td>2430.727208</td>\n",
       "      <td>1916.923958</td>\n",
       "      <td>2174.460083</td>\n",
       "      <td>2295.764583</td>\n",
       "      <td>2202.500042</td>\n",
       "      <td>2446.136083</td>\n",
       "      <td>2515.360375</td>\n",
       "      <td>2457.603625</td>\n",
       "      <td>2406.386167</td>\n",
       "    </tr>\n",
       "    <tr>\n",
       "      <th>1</th>\n",
       "      <td>Control</td>\n",
       "      <td>1733.676000</td>\n",
       "      <td>1897.166667</td>\n",
       "      <td>NaN</td>\n",
       "      <td>1805.344875</td>\n",
       "      <td>1946.681708</td>\n",
       "      <td>1828.752875</td>\n",
       "      <td>1864.458375</td>\n",
       "      <td>1685.373583</td>\n",
       "      <td>1748.060375</td>\n",
       "      <td>1850.529417</td>\n",
       "      <td>1865.847750</td>\n",
       "      <td>1903.826250</td>\n",
       "      <td>1841.318875</td>\n",
       "      <td>1795.494250</td>\n",
       "      <td>1929.843458</td>\n",
       "    </tr>\n",
       "    <tr>\n",
       "      <th>2</th>\n",
       "      <td>Control</td>\n",
       "      <td>1567.613708</td>\n",
       "      <td>1688.818208</td>\n",
       "      <td>NaN</td>\n",
       "      <td>1678.700042</td>\n",
       "      <td>1694.186292</td>\n",
       "      <td>1619.368000</td>\n",
       "      <td>1643.305542</td>\n",
       "      <td>1556.993000</td>\n",
       "      <td>1536.563083</td>\n",
       "      <td>1662.997500</td>\n",
       "      <td>1504.910333</td>\n",
       "      <td>1681.573792</td>\n",
       "      <td>1648.710833</td>\n",
       "      <td>1688.000667</td>\n",
       "      <td>1663.836417</td>\n",
       "    </tr>\n",
       "    <tr>\n",
       "      <th>3</th>\n",
       "      <td>Control</td>\n",
       "      <td>829.527875</td>\n",
       "      <td>888.688458</td>\n",
       "      <td>NaN</td>\n",
       "      <td>865.015708</td>\n",
       "      <td>856.108625</td>\n",
       "      <td>861.587750</td>\n",
       "      <td>857.491250</td>\n",
       "      <td>835.064458</td>\n",
       "      <td>822.373417</td>\n",
       "      <td>847.159000</td>\n",
       "      <td>853.859458</td>\n",
       "      <td>857.543458</td>\n",
       "      <td>871.575583</td>\n",
       "      <td>853.299500</td>\n",
       "      <td>843.551167</td>\n",
       "    </tr>\n",
       "    <tr>\n",
       "      <th>4</th>\n",
       "      <td>Control</td>\n",
       "      <td>886.599167</td>\n",
       "      <td>1019.396583</td>\n",
       "      <td>NaN</td>\n",
       "      <td>924.648000</td>\n",
       "      <td>929.562417</td>\n",
       "      <td>916.596208</td>\n",
       "      <td>916.315333</td>\n",
       "      <td>955.118500</td>\n",
       "      <td>895.472083</td>\n",
       "      <td>914.607042</td>\n",
       "      <td>948.426042</td>\n",
       "      <td>899.221875</td>\n",
       "      <td>918.836292</td>\n",
       "      <td>914.384250</td>\n",
       "      <td>942.410958</td>\n",
       "    </tr>\n",
       "  </tbody>\n",
       "</table>\n",
       "</div>"
      ],
      "text/plain": [
       "     Group          THA      MS 0.01  BLANK           AP       MS 0.1  \\\n",
       "0  Control  2191.580000  2156.251500    NaN  2604.431208  2342.740333   \n",
       "1  Control  1733.676000  1897.166667    NaN  1805.344875  1946.681708   \n",
       "2  Control  1567.613708  1688.818208    NaN  1678.700042  1694.186292   \n",
       "3  Control   829.527875   888.688458    NaN   865.015708   856.108625   \n",
       "4  Control   886.599167  1019.396583    NaN   924.648000   929.562417   \n",
       "\n",
       "       MS 0.05     IAA 0.05     IAA 0.01           PA      IAA 0.1  \\\n",
       "0  2438.371125  2430.727208  1916.923958  2174.460083  2295.764583   \n",
       "1  1828.752875  1864.458375  1685.373583  1748.060375  1850.529417   \n",
       "2  1619.368000  1643.305542  1556.993000  1536.563083  1662.997500   \n",
       "3   861.587750   857.491250   835.064458   822.373417   847.159000   \n",
       "4   916.596208   916.315333   955.118500   895.472083   914.607042   \n",
       "\n",
       "      Hexanone  Hexanal 0.1  Hexanal 0.01  Hexanal 0.05           EB  \n",
       "0  2202.500042  2446.136083   2515.360375   2457.603625  2406.386167  \n",
       "1  1865.847750  1903.826250   1841.318875   1795.494250  1929.843458  \n",
       "2  1504.910333  1681.573792   1648.710833   1688.000667  1663.836417  \n",
       "3   853.859458   857.543458    871.575583    853.299500   843.551167  \n",
       "4   948.426042   899.221875    918.836292    914.384250   942.410958  "
      ]
     },
     "execution_count": 5,
     "metadata": {},
     "output_type": "execute_result"
    }
   ],
   "source": [
    "composite_cn=composite_full.columns.tolist()\n",
    "bdf=bdf[composite_cn]\n",
    "bdf.head()"
   ]
  },
  {
   "cell_type": "code",
   "execution_count": null,
   "metadata": {
    "collapsed": true
   },
   "outputs": [],
   "source": [
    "from scipy.stats import "
   ]
  },
  {
   "cell_type": "code",
   "execution_count": 83,
   "metadata": {
    "collapsed": true
   },
   "outputs": [
    {
     "data": {
      "text/html": [
       "<div>\n",
       "<table border=\"1\" class=\"dataframe\">\n",
       "  <thead>\n",
       "    <tr style=\"text-align: right;\">\n",
       "      <th></th>\n",
       "      <th>THA</th>\n",
       "      <th>MS 0.01</th>\n",
       "      <th>BLANK</th>\n",
       "      <th>AP</th>\n",
       "      <th>MS 0.1</th>\n",
       "      <th>MS 0.05</th>\n",
       "      <th>IAA 0.05</th>\n",
       "      <th>IAA 0.01</th>\n",
       "      <th>PA</th>\n",
       "      <th>IAA 0.1</th>\n",
       "      <th>Hexanone</th>\n",
       "      <th>Hexanal 0.1</th>\n",
       "      <th>Hexanal 0.01</th>\n",
       "      <th>Hexanal 0.05</th>\n",
       "      <th>EB</th>\n",
       "    </tr>\n",
       "  </thead>\n",
       "  <tbody>\n",
       "    <tr>\n",
       "      <th>THA</th>\n",
       "      <td>1.000000</td>\n",
       "      <td>0.984700</td>\n",
       "      <td>0.975764</td>\n",
       "      <td>0.986985</td>\n",
       "      <td>0.980504</td>\n",
       "      <td>0.984799</td>\n",
       "      <td>0.983704</td>\n",
       "      <td>0.986801</td>\n",
       "      <td>0.982524</td>\n",
       "      <td>0.982955</td>\n",
       "      <td>0.982562</td>\n",
       "      <td>0.982675</td>\n",
       "      <td>0.985492</td>\n",
       "      <td>0.984447</td>\n",
       "      <td>0.991061</td>\n",
       "    </tr>\n",
       "    <tr>\n",
       "      <th>MS 0.01</th>\n",
       "      <td>0.984700</td>\n",
       "      <td>1.000000</td>\n",
       "      <td>0.975554</td>\n",
       "      <td>0.987332</td>\n",
       "      <td>0.979586</td>\n",
       "      <td>0.984802</td>\n",
       "      <td>0.981330</td>\n",
       "      <td>0.988178</td>\n",
       "      <td>0.983096</td>\n",
       "      <td>0.980689</td>\n",
       "      <td>0.986068</td>\n",
       "      <td>0.981652</td>\n",
       "      <td>0.987859</td>\n",
       "      <td>0.983496</td>\n",
       "      <td>0.985675</td>\n",
       "    </tr>\n",
       "    <tr>\n",
       "      <th>BLANK</th>\n",
       "      <td>0.975764</td>\n",
       "      <td>0.975554</td>\n",
       "      <td>1.000000</td>\n",
       "      <td>0.978921</td>\n",
       "      <td>0.963828</td>\n",
       "      <td>0.973664</td>\n",
       "      <td>0.973565</td>\n",
       "      <td>0.977412</td>\n",
       "      <td>0.977870</td>\n",
       "      <td>0.969927</td>\n",
       "      <td>0.982680</td>\n",
       "      <td>0.968745</td>\n",
       "      <td>0.980131</td>\n",
       "      <td>0.968450</td>\n",
       "      <td>0.971579</td>\n",
       "    </tr>\n",
       "    <tr>\n",
       "      <th>AP</th>\n",
       "      <td>0.986985</td>\n",
       "      <td>0.987332</td>\n",
       "      <td>0.978921</td>\n",
       "      <td>1.000000</td>\n",
       "      <td>0.978633</td>\n",
       "      <td>0.982400</td>\n",
       "      <td>0.978695</td>\n",
       "      <td>0.988490</td>\n",
       "      <td>0.980479</td>\n",
       "      <td>0.981833</td>\n",
       "      <td>0.990922</td>\n",
       "      <td>0.982489</td>\n",
       "      <td>0.992143</td>\n",
       "      <td>0.985579</td>\n",
       "      <td>0.988872</td>\n",
       "    </tr>\n",
       "    <tr>\n",
       "      <th>MS 0.1</th>\n",
       "      <td>0.980504</td>\n",
       "      <td>0.979586</td>\n",
       "      <td>0.963828</td>\n",
       "      <td>0.978633</td>\n",
       "      <td>1.000000</td>\n",
       "      <td>0.988357</td>\n",
       "      <td>0.989349</td>\n",
       "      <td>0.981329</td>\n",
       "      <td>0.976675</td>\n",
       "      <td>0.993409</td>\n",
       "      <td>0.977748</td>\n",
       "      <td>0.992520</td>\n",
       "      <td>0.977823</td>\n",
       "      <td>0.984851</td>\n",
       "      <td>0.979477</td>\n",
       "    </tr>\n",
       "    <tr>\n",
       "      <th>MS 0.05</th>\n",
       "      <td>0.984799</td>\n",
       "      <td>0.984802</td>\n",
       "      <td>0.973664</td>\n",
       "      <td>0.982400</td>\n",
       "      <td>0.988357</td>\n",
       "      <td>1.000000</td>\n",
       "      <td>0.991971</td>\n",
       "      <td>0.982678</td>\n",
       "      <td>0.982205</td>\n",
       "      <td>0.990829</td>\n",
       "      <td>0.981907</td>\n",
       "      <td>0.989187</td>\n",
       "      <td>0.979588</td>\n",
       "      <td>0.989948</td>\n",
       "      <td>0.983375</td>\n",
       "    </tr>\n",
       "    <tr>\n",
       "      <th>IAA 0.05</th>\n",
       "      <td>0.983704</td>\n",
       "      <td>0.981330</td>\n",
       "      <td>0.973565</td>\n",
       "      <td>0.978695</td>\n",
       "      <td>0.989349</td>\n",
       "      <td>0.991971</td>\n",
       "      <td>1.000000</td>\n",
       "      <td>0.984058</td>\n",
       "      <td>0.981012</td>\n",
       "      <td>0.990014</td>\n",
       "      <td>0.978422</td>\n",
       "      <td>0.989451</td>\n",
       "      <td>0.975866</td>\n",
       "      <td>0.987917</td>\n",
       "      <td>0.981460</td>\n",
       "    </tr>\n",
       "    <tr>\n",
       "      <th>IAA 0.01</th>\n",
       "      <td>0.986801</td>\n",
       "      <td>0.988178</td>\n",
       "      <td>0.977412</td>\n",
       "      <td>0.988490</td>\n",
       "      <td>0.981329</td>\n",
       "      <td>0.982678</td>\n",
       "      <td>0.984058</td>\n",
       "      <td>1.000000</td>\n",
       "      <td>0.985531</td>\n",
       "      <td>0.982384</td>\n",
       "      <td>0.986726</td>\n",
       "      <td>0.980245</td>\n",
       "      <td>0.986749</td>\n",
       "      <td>0.983363</td>\n",
       "      <td>0.984833</td>\n",
       "    </tr>\n",
       "    <tr>\n",
       "      <th>PA</th>\n",
       "      <td>0.982524</td>\n",
       "      <td>0.983096</td>\n",
       "      <td>0.977870</td>\n",
       "      <td>0.980479</td>\n",
       "      <td>0.976675</td>\n",
       "      <td>0.982205</td>\n",
       "      <td>0.981012</td>\n",
       "      <td>0.985531</td>\n",
       "      <td>1.000000</td>\n",
       "      <td>0.979045</td>\n",
       "      <td>0.978421</td>\n",
       "      <td>0.976690</td>\n",
       "      <td>0.978359</td>\n",
       "      <td>0.979289</td>\n",
       "      <td>0.980243</td>\n",
       "    </tr>\n",
       "    <tr>\n",
       "      <th>IAA 0.1</th>\n",
       "      <td>0.982955</td>\n",
       "      <td>0.980689</td>\n",
       "      <td>0.969927</td>\n",
       "      <td>0.981833</td>\n",
       "      <td>0.993409</td>\n",
       "      <td>0.990829</td>\n",
       "      <td>0.990014</td>\n",
       "      <td>0.982384</td>\n",
       "      <td>0.979045</td>\n",
       "      <td>1.000000</td>\n",
       "      <td>0.979582</td>\n",
       "      <td>0.994727</td>\n",
       "      <td>0.980081</td>\n",
       "      <td>0.988562</td>\n",
       "      <td>0.982099</td>\n",
       "    </tr>\n",
       "    <tr>\n",
       "      <th>Hexanone</th>\n",
       "      <td>0.982562</td>\n",
       "      <td>0.986068</td>\n",
       "      <td>0.982680</td>\n",
       "      <td>0.990922</td>\n",
       "      <td>0.977748</td>\n",
       "      <td>0.981907</td>\n",
       "      <td>0.978422</td>\n",
       "      <td>0.986726</td>\n",
       "      <td>0.978421</td>\n",
       "      <td>0.979582</td>\n",
       "      <td>1.000000</td>\n",
       "      <td>0.979907</td>\n",
       "      <td>0.988657</td>\n",
       "      <td>0.982554</td>\n",
       "      <td>0.982775</td>\n",
       "    </tr>\n",
       "    <tr>\n",
       "      <th>Hexanal 0.1</th>\n",
       "      <td>0.982675</td>\n",
       "      <td>0.981652</td>\n",
       "      <td>0.968745</td>\n",
       "      <td>0.982489</td>\n",
       "      <td>0.992520</td>\n",
       "      <td>0.989187</td>\n",
       "      <td>0.989451</td>\n",
       "      <td>0.980245</td>\n",
       "      <td>0.976690</td>\n",
       "      <td>0.994727</td>\n",
       "      <td>0.979907</td>\n",
       "      <td>1.000000</td>\n",
       "      <td>0.979343</td>\n",
       "      <td>0.990883</td>\n",
       "      <td>0.983497</td>\n",
       "    </tr>\n",
       "    <tr>\n",
       "      <th>Hexanal 0.01</th>\n",
       "      <td>0.985492</td>\n",
       "      <td>0.987859</td>\n",
       "      <td>0.980131</td>\n",
       "      <td>0.992143</td>\n",
       "      <td>0.977823</td>\n",
       "      <td>0.979588</td>\n",
       "      <td>0.975866</td>\n",
       "      <td>0.986749</td>\n",
       "      <td>0.978359</td>\n",
       "      <td>0.980081</td>\n",
       "      <td>0.988657</td>\n",
       "      <td>0.979343</td>\n",
       "      <td>1.000000</td>\n",
       "      <td>0.983848</td>\n",
       "      <td>0.985874</td>\n",
       "    </tr>\n",
       "    <tr>\n",
       "      <th>Hexanal 0.05</th>\n",
       "      <td>0.984447</td>\n",
       "      <td>0.983496</td>\n",
       "      <td>0.968450</td>\n",
       "      <td>0.985579</td>\n",
       "      <td>0.984851</td>\n",
       "      <td>0.989948</td>\n",
       "      <td>0.987917</td>\n",
       "      <td>0.983363</td>\n",
       "      <td>0.979289</td>\n",
       "      <td>0.988562</td>\n",
       "      <td>0.982554</td>\n",
       "      <td>0.990883</td>\n",
       "      <td>0.983848</td>\n",
       "      <td>1.000000</td>\n",
       "      <td>0.985340</td>\n",
       "    </tr>\n",
       "    <tr>\n",
       "      <th>EB</th>\n",
       "      <td>0.991061</td>\n",
       "      <td>0.985675</td>\n",
       "      <td>0.971579</td>\n",
       "      <td>0.988872</td>\n",
       "      <td>0.979477</td>\n",
       "      <td>0.983375</td>\n",
       "      <td>0.981460</td>\n",
       "      <td>0.984833</td>\n",
       "      <td>0.980243</td>\n",
       "      <td>0.982099</td>\n",
       "      <td>0.982775</td>\n",
       "      <td>0.983497</td>\n",
       "      <td>0.985874</td>\n",
       "      <td>0.985340</td>\n",
       "      <td>1.000000</td>\n",
       "    </tr>\n",
       "  </tbody>\n",
       "</table>\n",
       "</div>"
      ],
      "text/plain": [
       "                   THA   MS 0.01     BLANK        AP    MS 0.1   MS 0.05  \\\n",
       "THA           1.000000  0.984700  0.975764  0.986985  0.980504  0.984799   \n",
       "MS 0.01       0.984700  1.000000  0.975554  0.987332  0.979586  0.984802   \n",
       "BLANK         0.975764  0.975554  1.000000  0.978921  0.963828  0.973664   \n",
       "AP            0.986985  0.987332  0.978921  1.000000  0.978633  0.982400   \n",
       "MS 0.1        0.980504  0.979586  0.963828  0.978633  1.000000  0.988357   \n",
       "MS 0.05       0.984799  0.984802  0.973664  0.982400  0.988357  1.000000   \n",
       "IAA 0.05      0.983704  0.981330  0.973565  0.978695  0.989349  0.991971   \n",
       "IAA 0.01      0.986801  0.988178  0.977412  0.988490  0.981329  0.982678   \n",
       "PA            0.982524  0.983096  0.977870  0.980479  0.976675  0.982205   \n",
       "IAA 0.1       0.982955  0.980689  0.969927  0.981833  0.993409  0.990829   \n",
       "Hexanone      0.982562  0.986068  0.982680  0.990922  0.977748  0.981907   \n",
       "Hexanal 0.1   0.982675  0.981652  0.968745  0.982489  0.992520  0.989187   \n",
       "Hexanal 0.01  0.985492  0.987859  0.980131  0.992143  0.977823  0.979588   \n",
       "Hexanal 0.05  0.984447  0.983496  0.968450  0.985579  0.984851  0.989948   \n",
       "EB            0.991061  0.985675  0.971579  0.988872  0.979477  0.983375   \n",
       "\n",
       "              IAA 0.05  IAA 0.01        PA   IAA 0.1  Hexanone  Hexanal 0.1  \\\n",
       "THA           0.983704  0.986801  0.982524  0.982955  0.982562     0.982675   \n",
       "MS 0.01       0.981330  0.988178  0.983096  0.980689  0.986068     0.981652   \n",
       "BLANK         0.973565  0.977412  0.977870  0.969927  0.982680     0.968745   \n",
       "AP            0.978695  0.988490  0.980479  0.981833  0.990922     0.982489   \n",
       "MS 0.1        0.989349  0.981329  0.976675  0.993409  0.977748     0.992520   \n",
       "MS 0.05       0.991971  0.982678  0.982205  0.990829  0.981907     0.989187   \n",
       "IAA 0.05      1.000000  0.984058  0.981012  0.990014  0.978422     0.989451   \n",
       "IAA 0.01      0.984058  1.000000  0.985531  0.982384  0.986726     0.980245   \n",
       "PA            0.981012  0.985531  1.000000  0.979045  0.978421     0.976690   \n",
       "IAA 0.1       0.990014  0.982384  0.979045  1.000000  0.979582     0.994727   \n",
       "Hexanone      0.978422  0.986726  0.978421  0.979582  1.000000     0.979907   \n",
       "Hexanal 0.1   0.989451  0.980245  0.976690  0.994727  0.979907     1.000000   \n",
       "Hexanal 0.01  0.975866  0.986749  0.978359  0.980081  0.988657     0.979343   \n",
       "Hexanal 0.05  0.987917  0.983363  0.979289  0.988562  0.982554     0.990883   \n",
       "EB            0.981460  0.984833  0.980243  0.982099  0.982775     0.983497   \n",
       "\n",
       "              Hexanal 0.01  Hexanal 0.05        EB  \n",
       "THA               0.985492      0.984447  0.991061  \n",
       "MS 0.01           0.987859      0.983496  0.985675  \n",
       "BLANK             0.980131      0.968450  0.971579  \n",
       "AP                0.992143      0.985579  0.988872  \n",
       "MS 0.1            0.977823      0.984851  0.979477  \n",
       "MS 0.05           0.979588      0.989948  0.983375  \n",
       "IAA 0.05          0.975866      0.987917  0.981460  \n",
       "IAA 0.01          0.986749      0.983363  0.984833  \n",
       "PA                0.978359      0.979289  0.980243  \n",
       "IAA 0.1           0.980081      0.988562  0.982099  \n",
       "Hexanone          0.988657      0.982554  0.982775  \n",
       "Hexanal 0.1       0.979343      0.990883  0.983497  \n",
       "Hexanal 0.01      1.000000      0.983848  0.985874  \n",
       "Hexanal 0.05      0.983848      1.000000  0.985340  \n",
       "EB                0.985874      0.985340  1.000000  "
      ]
     },
     "execution_count": 83,
     "metadata": {},
     "output_type": "execute_result"
    }
   ],
   "source": [
    "bdf.corr()"
   ]
  },
  {
   "cell_type": "code",
   "execution_count": 85,
   "metadata": {
    "collapsed": true
   },
   "outputs": [
    {
     "data": {
      "text/html": [
       "<div>\n",
       "<table border=\"1\" class=\"dataframe\">\n",
       "  <thead>\n",
       "    <tr style=\"text-align: right;\">\n",
       "      <th></th>\n",
       "      <th>THA</th>\n",
       "      <th>MS 0.01</th>\n",
       "      <th>BLANK</th>\n",
       "      <th>AP</th>\n",
       "      <th>MS 0.1</th>\n",
       "      <th>MS 0.05</th>\n",
       "      <th>IAA 0.05</th>\n",
       "      <th>IAA 0.01</th>\n",
       "      <th>PA</th>\n",
       "      <th>IAA 0.1</th>\n",
       "      <th>Hexanone</th>\n",
       "      <th>Hexanal 0.1</th>\n",
       "      <th>Hexanal 0.01</th>\n",
       "      <th>Hexanal 0.05</th>\n",
       "      <th>EB</th>\n",
       "    </tr>\n",
       "  </thead>\n",
       "  <tbody>\n",
       "    <tr>\n",
       "      <th>THA</th>\n",
       "      <td>1.000000</td>\n",
       "      <td>0.903917</td>\n",
       "      <td>0.876239</td>\n",
       "      <td>0.894578</td>\n",
       "      <td>0.900715</td>\n",
       "      <td>0.907587</td>\n",
       "      <td>0.909662</td>\n",
       "      <td>0.840436</td>\n",
       "      <td>0.824768</td>\n",
       "      <td>0.893253</td>\n",
       "      <td>0.836796</td>\n",
       "      <td>0.894164</td>\n",
       "      <td>0.762327</td>\n",
       "      <td>0.873705</td>\n",
       "      <td>0.799995</td>\n",
       "    </tr>\n",
       "    <tr>\n",
       "      <th>MS 0.01</th>\n",
       "      <td>0.903917</td>\n",
       "      <td>1.000000</td>\n",
       "      <td>0.915911</td>\n",
       "      <td>0.952636</td>\n",
       "      <td>0.947882</td>\n",
       "      <td>0.916606</td>\n",
       "      <td>0.914039</td>\n",
       "      <td>0.919039</td>\n",
       "      <td>0.897387</td>\n",
       "      <td>0.907058</td>\n",
       "      <td>0.895643</td>\n",
       "      <td>0.876366</td>\n",
       "      <td>0.820637</td>\n",
       "      <td>0.890935</td>\n",
       "      <td>0.872434</td>\n",
       "    </tr>\n",
       "    <tr>\n",
       "      <th>BLANK</th>\n",
       "      <td>0.876239</td>\n",
       "      <td>0.915911</td>\n",
       "      <td>1.000000</td>\n",
       "      <td>0.937221</td>\n",
       "      <td>0.922023</td>\n",
       "      <td>0.941782</td>\n",
       "      <td>0.926210</td>\n",
       "      <td>0.878418</td>\n",
       "      <td>0.922038</td>\n",
       "      <td>0.878561</td>\n",
       "      <td>0.822288</td>\n",
       "      <td>0.892572</td>\n",
       "      <td>0.913834</td>\n",
       "      <td>0.875238</td>\n",
       "      <td>0.874409</td>\n",
       "    </tr>\n",
       "    <tr>\n",
       "      <th>AP</th>\n",
       "      <td>0.894578</td>\n",
       "      <td>0.952636</td>\n",
       "      <td>0.937221</td>\n",
       "      <td>1.000000</td>\n",
       "      <td>0.921658</td>\n",
       "      <td>0.914807</td>\n",
       "      <td>0.923781</td>\n",
       "      <td>0.945530</td>\n",
       "      <td>0.942893</td>\n",
       "      <td>0.920781</td>\n",
       "      <td>0.903916</td>\n",
       "      <td>0.880293</td>\n",
       "      <td>0.875842</td>\n",
       "      <td>0.911388</td>\n",
       "      <td>0.902708</td>\n",
       "    </tr>\n",
       "    <tr>\n",
       "      <th>MS 0.1</th>\n",
       "      <td>0.900715</td>\n",
       "      <td>0.947882</td>\n",
       "      <td>0.922023</td>\n",
       "      <td>0.921658</td>\n",
       "      <td>1.000000</td>\n",
       "      <td>0.963295</td>\n",
       "      <td>0.953065</td>\n",
       "      <td>0.908744</td>\n",
       "      <td>0.870939</td>\n",
       "      <td>0.926905</td>\n",
       "      <td>0.874752</td>\n",
       "      <td>0.934394</td>\n",
       "      <td>0.832568</td>\n",
       "      <td>0.914758</td>\n",
       "      <td>0.834994</td>\n",
       "    </tr>\n",
       "    <tr>\n",
       "      <th>MS 0.05</th>\n",
       "      <td>0.907587</td>\n",
       "      <td>0.916606</td>\n",
       "      <td>0.941782</td>\n",
       "      <td>0.914807</td>\n",
       "      <td>0.963295</td>\n",
       "      <td>1.000000</td>\n",
       "      <td>0.970777</td>\n",
       "      <td>0.898516</td>\n",
       "      <td>0.891731</td>\n",
       "      <td>0.933959</td>\n",
       "      <td>0.836596</td>\n",
       "      <td>0.950984</td>\n",
       "      <td>0.864079</td>\n",
       "      <td>0.938233</td>\n",
       "      <td>0.837516</td>\n",
       "    </tr>\n",
       "    <tr>\n",
       "      <th>IAA 0.05</th>\n",
       "      <td>0.909662</td>\n",
       "      <td>0.914039</td>\n",
       "      <td>0.926210</td>\n",
       "      <td>0.923781</td>\n",
       "      <td>0.953065</td>\n",
       "      <td>0.970777</td>\n",
       "      <td>1.000000</td>\n",
       "      <td>0.907031</td>\n",
       "      <td>0.891275</td>\n",
       "      <td>0.946012</td>\n",
       "      <td>0.853487</td>\n",
       "      <td>0.961188</td>\n",
       "      <td>0.885477</td>\n",
       "      <td>0.939178</td>\n",
       "      <td>0.866530</td>\n",
       "    </tr>\n",
       "    <tr>\n",
       "      <th>IAA 0.01</th>\n",
       "      <td>0.840436</td>\n",
       "      <td>0.919039</td>\n",
       "      <td>0.878418</td>\n",
       "      <td>0.945530</td>\n",
       "      <td>0.908744</td>\n",
       "      <td>0.898516</td>\n",
       "      <td>0.907031</td>\n",
       "      <td>1.000000</td>\n",
       "      <td>0.924075</td>\n",
       "      <td>0.938100</td>\n",
       "      <td>0.887381</td>\n",
       "      <td>0.866086</td>\n",
       "      <td>0.892736</td>\n",
       "      <td>0.899066</td>\n",
       "      <td>0.896188</td>\n",
       "    </tr>\n",
       "    <tr>\n",
       "      <th>PA</th>\n",
       "      <td>0.824768</td>\n",
       "      <td>0.897387</td>\n",
       "      <td>0.922038</td>\n",
       "      <td>0.942893</td>\n",
       "      <td>0.870939</td>\n",
       "      <td>0.891731</td>\n",
       "      <td>0.891275</td>\n",
       "      <td>0.924075</td>\n",
       "      <td>1.000000</td>\n",
       "      <td>0.882518</td>\n",
       "      <td>0.834363</td>\n",
       "      <td>0.849483</td>\n",
       "      <td>0.902975</td>\n",
       "      <td>0.885359</td>\n",
       "      <td>0.924251</td>\n",
       "    </tr>\n",
       "    <tr>\n",
       "      <th>IAA 0.1</th>\n",
       "      <td>0.893253</td>\n",
       "      <td>0.907058</td>\n",
       "      <td>0.878561</td>\n",
       "      <td>0.920781</td>\n",
       "      <td>0.926905</td>\n",
       "      <td>0.933959</td>\n",
       "      <td>0.946012</td>\n",
       "      <td>0.938100</td>\n",
       "      <td>0.882518</td>\n",
       "      <td>1.000000</td>\n",
       "      <td>0.885805</td>\n",
       "      <td>0.926787</td>\n",
       "      <td>0.862461</td>\n",
       "      <td>0.927907</td>\n",
       "      <td>0.865509</td>\n",
       "    </tr>\n",
       "    <tr>\n",
       "      <th>Hexanone</th>\n",
       "      <td>0.836796</td>\n",
       "      <td>0.895643</td>\n",
       "      <td>0.822288</td>\n",
       "      <td>0.903916</td>\n",
       "      <td>0.874752</td>\n",
       "      <td>0.836596</td>\n",
       "      <td>0.853487</td>\n",
       "      <td>0.887381</td>\n",
       "      <td>0.834363</td>\n",
       "      <td>0.885805</td>\n",
       "      <td>1.000000</td>\n",
       "      <td>0.830275</td>\n",
       "      <td>0.791349</td>\n",
       "      <td>0.876775</td>\n",
       "      <td>0.818534</td>\n",
       "    </tr>\n",
       "    <tr>\n",
       "      <th>Hexanal 0.1</th>\n",
       "      <td>0.894164</td>\n",
       "      <td>0.876366</td>\n",
       "      <td>0.892572</td>\n",
       "      <td>0.880293</td>\n",
       "      <td>0.934394</td>\n",
       "      <td>0.950984</td>\n",
       "      <td>0.961188</td>\n",
       "      <td>0.866086</td>\n",
       "      <td>0.849483</td>\n",
       "      <td>0.926787</td>\n",
       "      <td>0.830275</td>\n",
       "      <td>1.000000</td>\n",
       "      <td>0.866120</td>\n",
       "      <td>0.952067</td>\n",
       "      <td>0.835747</td>\n",
       "    </tr>\n",
       "    <tr>\n",
       "      <th>Hexanal 0.01</th>\n",
       "      <td>0.762327</td>\n",
       "      <td>0.820637</td>\n",
       "      <td>0.913834</td>\n",
       "      <td>0.875842</td>\n",
       "      <td>0.832568</td>\n",
       "      <td>0.864079</td>\n",
       "      <td>0.885477</td>\n",
       "      <td>0.892736</td>\n",
       "      <td>0.902975</td>\n",
       "      <td>0.862461</td>\n",
       "      <td>0.791349</td>\n",
       "      <td>0.866120</td>\n",
       "      <td>1.000000</td>\n",
       "      <td>0.917448</td>\n",
       "      <td>0.898416</td>\n",
       "    </tr>\n",
       "    <tr>\n",
       "      <th>Hexanal 0.05</th>\n",
       "      <td>0.873705</td>\n",
       "      <td>0.890935</td>\n",
       "      <td>0.875238</td>\n",
       "      <td>0.911388</td>\n",
       "      <td>0.914758</td>\n",
       "      <td>0.938233</td>\n",
       "      <td>0.939178</td>\n",
       "      <td>0.899066</td>\n",
       "      <td>0.885359</td>\n",
       "      <td>0.927907</td>\n",
       "      <td>0.876775</td>\n",
       "      <td>0.952067</td>\n",
       "      <td>0.917448</td>\n",
       "      <td>1.000000</td>\n",
       "      <td>0.873693</td>\n",
       "    </tr>\n",
       "    <tr>\n",
       "      <th>EB</th>\n",
       "      <td>0.799995</td>\n",
       "      <td>0.872434</td>\n",
       "      <td>0.874409</td>\n",
       "      <td>0.902708</td>\n",
       "      <td>0.834994</td>\n",
       "      <td>0.837516</td>\n",
       "      <td>0.866530</td>\n",
       "      <td>0.896188</td>\n",
       "      <td>0.924251</td>\n",
       "      <td>0.865509</td>\n",
       "      <td>0.818534</td>\n",
       "      <td>0.835747</td>\n",
       "      <td>0.898416</td>\n",
       "      <td>0.873693</td>\n",
       "      <td>1.000000</td>\n",
       "    </tr>\n",
       "  </tbody>\n",
       "</table>\n",
       "</div>"
      ],
      "text/plain": [
       "                   THA   MS 0.01     BLANK        AP    MS 0.1   MS 0.05  \\\n",
       "THA           1.000000  0.903917  0.876239  0.894578  0.900715  0.907587   \n",
       "MS 0.01       0.903917  1.000000  0.915911  0.952636  0.947882  0.916606   \n",
       "BLANK         0.876239  0.915911  1.000000  0.937221  0.922023  0.941782   \n",
       "AP            0.894578  0.952636  0.937221  1.000000  0.921658  0.914807   \n",
       "MS 0.1        0.900715  0.947882  0.922023  0.921658  1.000000  0.963295   \n",
       "MS 0.05       0.907587  0.916606  0.941782  0.914807  0.963295  1.000000   \n",
       "IAA 0.05      0.909662  0.914039  0.926210  0.923781  0.953065  0.970777   \n",
       "IAA 0.01      0.840436  0.919039  0.878418  0.945530  0.908744  0.898516   \n",
       "PA            0.824768  0.897387  0.922038  0.942893  0.870939  0.891731   \n",
       "IAA 0.1       0.893253  0.907058  0.878561  0.920781  0.926905  0.933959   \n",
       "Hexanone      0.836796  0.895643  0.822288  0.903916  0.874752  0.836596   \n",
       "Hexanal 0.1   0.894164  0.876366  0.892572  0.880293  0.934394  0.950984   \n",
       "Hexanal 0.01  0.762327  0.820637  0.913834  0.875842  0.832568  0.864079   \n",
       "Hexanal 0.05  0.873705  0.890935  0.875238  0.911388  0.914758  0.938233   \n",
       "EB            0.799995  0.872434  0.874409  0.902708  0.834994  0.837516   \n",
       "\n",
       "              IAA 0.05  IAA 0.01        PA   IAA 0.1  Hexanone  Hexanal 0.1  \\\n",
       "THA           0.909662  0.840436  0.824768  0.893253  0.836796     0.894164   \n",
       "MS 0.01       0.914039  0.919039  0.897387  0.907058  0.895643     0.876366   \n",
       "BLANK         0.926210  0.878418  0.922038  0.878561  0.822288     0.892572   \n",
       "AP            0.923781  0.945530  0.942893  0.920781  0.903916     0.880293   \n",
       "MS 0.1        0.953065  0.908744  0.870939  0.926905  0.874752     0.934394   \n",
       "MS 0.05       0.970777  0.898516  0.891731  0.933959  0.836596     0.950984   \n",
       "IAA 0.05      1.000000  0.907031  0.891275  0.946012  0.853487     0.961188   \n",
       "IAA 0.01      0.907031  1.000000  0.924075  0.938100  0.887381     0.866086   \n",
       "PA            0.891275  0.924075  1.000000  0.882518  0.834363     0.849483   \n",
       "IAA 0.1       0.946012  0.938100  0.882518  1.000000  0.885805     0.926787   \n",
       "Hexanone      0.853487  0.887381  0.834363  0.885805  1.000000     0.830275   \n",
       "Hexanal 0.1   0.961188  0.866086  0.849483  0.926787  0.830275     1.000000   \n",
       "Hexanal 0.01  0.885477  0.892736  0.902975  0.862461  0.791349     0.866120   \n",
       "Hexanal 0.05  0.939178  0.899066  0.885359  0.927907  0.876775     0.952067   \n",
       "EB            0.866530  0.896188  0.924251  0.865509  0.818534     0.835747   \n",
       "\n",
       "              Hexanal 0.01  Hexanal 0.05        EB  \n",
       "THA               0.762327      0.873705  0.799995  \n",
       "MS 0.01           0.820637      0.890935  0.872434  \n",
       "BLANK             0.913834      0.875238  0.874409  \n",
       "AP                0.875842      0.911388  0.902708  \n",
       "MS 0.1            0.832568      0.914758  0.834994  \n",
       "MS 0.05           0.864079      0.938233  0.837516  \n",
       "IAA 0.05          0.885477      0.939178  0.866530  \n",
       "IAA 0.01          0.892736      0.899066  0.896188  \n",
       "PA                0.902975      0.885359  0.924251  \n",
       "IAA 0.1           0.862461      0.927907  0.865509  \n",
       "Hexanone          0.791349      0.876775  0.818534  \n",
       "Hexanal 0.1       0.866120      0.952067  0.835747  \n",
       "Hexanal 0.01      1.000000      0.917448  0.898416  \n",
       "Hexanal 0.05      0.917448      1.000000  0.873693  \n",
       "EB                0.898416      0.873693  1.000000  "
      ]
     },
     "execution_count": 85,
     "metadata": {},
     "output_type": "execute_result"
    }
   ],
   "source": [
    "composite_full.corr()"
   ]
  },
  {
   "cell_type": "code",
   "execution_count": 97,
   "metadata": {
    "collapsed": false
   },
   "outputs": [],
   "source": [
    "correlated=bdf.corrwith(composite_full)"
   ]
  },
  {
   "cell_type": "code",
   "execution_count": 101,
   "metadata": {
    "collapsed": false
   },
   "outputs": [],
   "source": [
    "CC=composite_full[composite_full['Group']=='Control']\n",
    "MM=composite_full[composite_full['Group']=='Mint']\n",
    "HH=composite_full[composite_full['Group']=='Hexanal']\n",
    "\n",
    "CB=bdf[bdf['Group']=='Control']\n",
    "MB=bdf[bdf['Group']=='Mint']\n",
    "HB=bdf[bdf['Group']=='Hexanal']\n",
    "\n",
    "CCcorr=CC.corr()\n",
    "MMcorr=MM.corr()\n",
    "HHcorr=HH.corr()\n",
    "CBcorr=CB.corr()\n",
    "MBcorr=MB.corr()\n",
    "HBcorr=HB.corr()\n",
    "\n",
    "Ctrlcorr=CC.corrwith(CB)\n",
    "Mintcorr=MM.corrwith(MB)\n",
    "Hexcorr=HH.corrwith(HB)"
   ]
  },
  {
   "cell_type": "code",
   "execution_count": 134,
   "metadata": {
    "collapsed": false
   },
   "outputs": [
    {
     "ename": "TypeError",
     "evalue": "'dict' object is not callable",
     "output_type": "error",
     "traceback": [
      "\u001b[1;31m---------------------------------------------------------------------------\u001b[0m",
      "\u001b[1;31mTypeError\u001b[0m                                 Traceback (most recent call last)",
      "\u001b[1;32m<ipython-input-134-6a3fabb0f51c>\u001b[0m in \u001b[0;36m<module>\u001b[1;34m()\u001b[0m\n\u001b[1;32m----> 1\u001b[1;33m \u001b[0mCtrlCdf\u001b[0m\u001b[1;33m=\u001b[0m\u001b[0mpd\u001b[0m\u001b[1;33m.\u001b[0m\u001b[0mDataFrame\u001b[0m\u001b[1;33m(\u001b[0m\u001b[0mCtrlcorr\u001b[0m\u001b[1;33m)\u001b[0m\u001b[1;33m\u001b[0m\u001b[0m\n\u001b[0m\u001b[0;32m      2\u001b[0m \u001b[0mCtrlCdf\u001b[0m\u001b[1;33m=\u001b[0m\u001b[0mCtrlCdf\u001b[0m\u001b[1;33m.\u001b[0m\u001b[0mtranspose\u001b[0m\u001b[1;33m(\u001b[0m\u001b[1;33m)\u001b[0m\u001b[1;33m\u001b[0m\u001b[0m\n\u001b[0;32m      3\u001b[0m \u001b[0mMintCdf\u001b[0m\u001b[1;33m=\u001b[0m\u001b[0mpd\u001b[0m\u001b[1;33m.\u001b[0m\u001b[0mDataFrame\u001b[0m\u001b[1;33m(\u001b[0m\u001b[0mMintcorr\u001b[0m\u001b[1;33m)\u001b[0m\u001b[1;33m\u001b[0m\u001b[0m\n\u001b[0;32m      4\u001b[0m \u001b[0mMintCdf\u001b[0m\u001b[1;33m=\u001b[0m\u001b[0mMintCdf\u001b[0m\u001b[1;33m.\u001b[0m\u001b[0mtranspose\u001b[0m\u001b[1;33m(\u001b[0m\u001b[1;33m)\u001b[0m\u001b[1;33m\u001b[0m\u001b[0m\n\u001b[0;32m      5\u001b[0m \u001b[0mHexCdf\u001b[0m\u001b[1;33m=\u001b[0m\u001b[0mpd\u001b[0m\u001b[1;33m.\u001b[0m\u001b[0mDataFrame\u001b[0m\u001b[1;33m(\u001b[0m\u001b[0mHexcorr\u001b[0m\u001b[1;33m)\u001b[0m\u001b[1;33m\u001b[0m\u001b[0m\n",
      "\u001b[1;31mTypeError\u001b[0m: 'dict' object is not callable"
     ]
    }
   ],
   "source": [
    "CtrlCdf=pd.DataFrame(Ctrlcorr)\n",
    "CtrlCdf=CtrlCdf.transpose()\n",
    "MintCdf=pd.DataFrame(Mintcorr)\n",
    "MintCdf=MintCdf.transpose()\n",
    "HexCdf=pd.DataFrame(Hexcorr)\n",
    "HexCdf=HexCdf.transpose()\n",
    "tmp=[CtrlCdf,MintCdf,HexCdf]\n",
    "\n",
    "CompleteCorrDF=pd.concat(tmp)"
   ]
  },
  {
   "cell_type": "code",
   "execution_count": 133,
   "metadata": {
    "collapsed": false
   },
   "outputs": [
    {
     "ename": "TypeError",
     "evalue": "'dict' object is not callable",
     "output_type": "error",
     "traceback": [
      "\u001b[1;31m---------------------------------------------------------------------------\u001b[0m",
      "\u001b[1;31mTypeError\u001b[0m                                 Traceback (most recent call last)",
      "\u001b[1;32m<ipython-input-133-239a6867b0dc>\u001b[0m in \u001b[0;36m<module>\u001b[1;34m()\u001b[0m\n\u001b[1;32m----> 1\u001b[1;33m \u001b[0mpd\u001b[0m\u001b[1;33m.\u001b[0m\u001b[0mDataFrame\u001b[0m\u001b[1;33m(\u001b[0m\u001b[0mGroups\u001b[0m\u001b[1;33m)\u001b[0m\u001b[1;33m\u001b[0m\u001b[0m\n\u001b[0m",
      "\u001b[1;31mTypeError\u001b[0m: 'dict' object is not callable"
     ]
    }
   ],
   "source": [
    "pd.DataFrame(Groups)"
   ]
  },
  {
   "cell_type": "code",
   "execution_count": 128,
   "metadata": {
    "collapsed": false
   },
   "outputs": [
    {
     "data": {
      "text/html": [
       "<div>\n",
       "<table border=\"1\" class=\"dataframe\">\n",
       "  <thead>\n",
       "    <tr style=\"text-align: right;\">\n",
       "      <th></th>\n",
       "      <th>THA</th>\n",
       "      <th>MS 0.01</th>\n",
       "      <th>BLANK</th>\n",
       "      <th>AP</th>\n",
       "      <th>MS 0.1</th>\n",
       "      <th>MS 0.05</th>\n",
       "      <th>IAA 0.05</th>\n",
       "      <th>IAA 0.01</th>\n",
       "      <th>PA</th>\n",
       "      <th>IAA 0.1</th>\n",
       "      <th>Hexanone</th>\n",
       "      <th>Hexanal 0.1</th>\n",
       "      <th>Hexanal 0.01</th>\n",
       "      <th>Hexanal 0.05</th>\n",
       "      <th>EB</th>\n",
       "    </tr>\n",
       "  </thead>\n",
       "  <tbody>\n",
       "    <tr>\n",
       "      <th>0</th>\n",
       "      <td>-0.382352</td>\n",
       "      <td>-0.399837</td>\n",
       "      <td>-0.076281</td>\n",
       "      <td>-0.402633</td>\n",
       "      <td>-0.38667</td>\n",
       "      <td>-0.419902</td>\n",
       "      <td>-0.431872</td>\n",
       "      <td>-0.422037</td>\n",
       "      <td>-0.428054</td>\n",
       "      <td>-0.435041</td>\n",
       "      <td>-0.435566</td>\n",
       "      <td>-0.409890</td>\n",
       "      <td>-0.396637</td>\n",
       "      <td>-0.436438</td>\n",
       "      <td>-0.407805</td>\n",
       "    </tr>\n",
       "    <tr>\n",
       "      <th>0</th>\n",
       "      <td>-0.167143</td>\n",
       "      <td>-0.121270</td>\n",
       "      <td>-0.381027</td>\n",
       "      <td>-0.122565</td>\n",
       "      <td>-0.14027</td>\n",
       "      <td>-0.108158</td>\n",
       "      <td>-0.066482</td>\n",
       "      <td>-0.159720</td>\n",
       "      <td>-0.092611</td>\n",
       "      <td>-0.169299</td>\n",
       "      <td>-0.183750</td>\n",
       "      <td>-0.072866</td>\n",
       "      <td>-0.098453</td>\n",
       "      <td>-0.086612</td>\n",
       "      <td>-0.041338</td>\n",
       "    </tr>\n",
       "    <tr>\n",
       "      <th>0</th>\n",
       "      <td>-0.428224</td>\n",
       "      <td>-0.392794</td>\n",
       "      <td>-0.413189</td>\n",
       "      <td>-0.417419</td>\n",
       "      <td>-0.41546</td>\n",
       "      <td>-0.421567</td>\n",
       "      <td>-0.409944</td>\n",
       "      <td>-0.414434</td>\n",
       "      <td>-0.373285</td>\n",
       "      <td>-0.453984</td>\n",
       "      <td>-0.419060</td>\n",
       "      <td>-0.396527</td>\n",
       "      <td>-0.392408</td>\n",
       "      <td>-0.363501</td>\n",
       "      <td>-0.334419</td>\n",
       "    </tr>\n",
       "  </tbody>\n",
       "</table>\n",
       "</div>"
      ],
      "text/plain": [
       "        THA   MS 0.01     BLANK        AP   MS 0.1   MS 0.05  IAA 0.05  \\\n",
       "0 -0.382352 -0.399837 -0.076281 -0.402633 -0.38667 -0.419902 -0.431872   \n",
       "0 -0.167143 -0.121270 -0.381027 -0.122565 -0.14027 -0.108158 -0.066482   \n",
       "0 -0.428224 -0.392794 -0.413189 -0.417419 -0.41546 -0.421567 -0.409944   \n",
       "\n",
       "   IAA 0.01        PA   IAA 0.1  Hexanone  Hexanal 0.1  Hexanal 0.01  \\\n",
       "0 -0.422037 -0.428054 -0.435041 -0.435566    -0.409890     -0.396637   \n",
       "0 -0.159720 -0.092611 -0.169299 -0.183750    -0.072866     -0.098453   \n",
       "0 -0.414434 -0.373285 -0.453984 -0.419060    -0.396527     -0.392408   \n",
       "\n",
       "   Hexanal 0.05        EB  \n",
       "0     -0.436438 -0.407805  \n",
       "0     -0.086612 -0.041338  \n",
       "0     -0.363501 -0.334419  "
      ]
     },
     "execution_count": 128,
     "metadata": {},
     "output_type": "execute_result"
    }
   ],
   "source": [
    "CompleteCorrDF"
   ]
  },
  {
   "cell_type": "code",
   "execution_count": 126,
   "metadata": {
    "collapsed": false
   },
   "outputs": [
    {
     "ename": "ValueError",
     "evalue": "could not convert string to float: Hexanal",
     "output_type": "error",
     "traceback": [
      "\u001b[1;31m---------------------------------------------------------------------------\u001b[0m",
      "\u001b[1;31mValueError\u001b[0m                                Traceback (most recent call last)",
      "\u001b[1;32m<ipython-input-126-dc913ddfe3a5>\u001b[0m in \u001b[0;36m<module>\u001b[1;34m()\u001b[0m\n\u001b[1;32m----> 1\u001b[1;33m \u001b[0mplt\u001b[0m\u001b[1;33m.\u001b[0m\u001b[0mplot\u001b[0m\u001b[1;33m(\u001b[0m\u001b[0mCompleteCorrDF\u001b[0m\u001b[1;33m)\u001b[0m\u001b[1;33m\u001b[0m\u001b[0m\n\u001b[0m",
      "\u001b[1;32mC:\\Users\\Annie\\Anaconda2\\lib\\site-packages\\matplotlib\\pyplot.pyc\u001b[0m in \u001b[0;36mplot\u001b[1;34m(*args, **kwargs)\u001b[0m\n\u001b[0;32m   3152\u001b[0m         \u001b[0max\u001b[0m\u001b[1;33m.\u001b[0m\u001b[0mhold\u001b[0m\u001b[1;33m(\u001b[0m\u001b[0mhold\u001b[0m\u001b[1;33m)\u001b[0m\u001b[1;33m\u001b[0m\u001b[0m\n\u001b[0;32m   3153\u001b[0m     \u001b[1;32mtry\u001b[0m\u001b[1;33m:\u001b[0m\u001b[1;33m\u001b[0m\u001b[0m\n\u001b[1;32m-> 3154\u001b[1;33m         \u001b[0mret\u001b[0m \u001b[1;33m=\u001b[0m \u001b[0max\u001b[0m\u001b[1;33m.\u001b[0m\u001b[0mplot\u001b[0m\u001b[1;33m(\u001b[0m\u001b[1;33m*\u001b[0m\u001b[0margs\u001b[0m\u001b[1;33m,\u001b[0m \u001b[1;33m**\u001b[0m\u001b[0mkwargs\u001b[0m\u001b[1;33m)\u001b[0m\u001b[1;33m\u001b[0m\u001b[0m\n\u001b[0m\u001b[0;32m   3155\u001b[0m     \u001b[1;32mfinally\u001b[0m\u001b[1;33m:\u001b[0m\u001b[1;33m\u001b[0m\u001b[0m\n\u001b[0;32m   3156\u001b[0m         \u001b[0max\u001b[0m\u001b[1;33m.\u001b[0m\u001b[0mhold\u001b[0m\u001b[1;33m(\u001b[0m\u001b[0mwashold\u001b[0m\u001b[1;33m)\u001b[0m\u001b[1;33m\u001b[0m\u001b[0m\n",
      "\u001b[1;32mC:\\Users\\Annie\\Anaconda2\\lib\\site-packages\\matplotlib\\__init__.pyc\u001b[0m in \u001b[0;36minner\u001b[1;34m(ax, *args, **kwargs)\u001b[0m\n\u001b[0;32m   1809\u001b[0m                     warnings.warn(msg % (label_namer, func.__name__),\n\u001b[0;32m   1810\u001b[0m                                   RuntimeWarning, stacklevel=2)\n\u001b[1;32m-> 1811\u001b[1;33m             \u001b[1;32mreturn\u001b[0m \u001b[0mfunc\u001b[0m\u001b[1;33m(\u001b[0m\u001b[0max\u001b[0m\u001b[1;33m,\u001b[0m \u001b[1;33m*\u001b[0m\u001b[0margs\u001b[0m\u001b[1;33m,\u001b[0m \u001b[1;33m**\u001b[0m\u001b[0mkwargs\u001b[0m\u001b[1;33m)\u001b[0m\u001b[1;33m\u001b[0m\u001b[0m\n\u001b[0m\u001b[0;32m   1812\u001b[0m         \u001b[0mpre_doc\u001b[0m \u001b[1;33m=\u001b[0m \u001b[0minner\u001b[0m\u001b[1;33m.\u001b[0m\u001b[0m__doc__\u001b[0m\u001b[1;33m\u001b[0m\u001b[0m\n\u001b[0;32m   1813\u001b[0m         \u001b[1;32mif\u001b[0m \u001b[0mpre_doc\u001b[0m \u001b[1;32mis\u001b[0m \u001b[0mNone\u001b[0m\u001b[1;33m:\u001b[0m\u001b[1;33m\u001b[0m\u001b[0m\n",
      "\u001b[1;32mC:\\Users\\Annie\\Anaconda2\\lib\\site-packages\\matplotlib\\axes\\_axes.pyc\u001b[0m in \u001b[0;36mplot\u001b[1;34m(self, *args, **kwargs)\u001b[0m\n\u001b[0;32m   1423\u001b[0m \u001b[1;33m\u001b[0m\u001b[0m\n\u001b[0;32m   1424\u001b[0m         \u001b[1;32mfor\u001b[0m \u001b[0mline\u001b[0m \u001b[1;32min\u001b[0m \u001b[0mself\u001b[0m\u001b[1;33m.\u001b[0m\u001b[0m_get_lines\u001b[0m\u001b[1;33m(\u001b[0m\u001b[1;33m*\u001b[0m\u001b[0margs\u001b[0m\u001b[1;33m,\u001b[0m \u001b[1;33m**\u001b[0m\u001b[0mkwargs\u001b[0m\u001b[1;33m)\u001b[0m\u001b[1;33m:\u001b[0m\u001b[1;33m\u001b[0m\u001b[0m\n\u001b[1;32m-> 1425\u001b[1;33m             \u001b[0mself\u001b[0m\u001b[1;33m.\u001b[0m\u001b[0madd_line\u001b[0m\u001b[1;33m(\u001b[0m\u001b[0mline\u001b[0m\u001b[1;33m)\u001b[0m\u001b[1;33m\u001b[0m\u001b[0m\n\u001b[0m\u001b[0;32m   1426\u001b[0m             \u001b[0mlines\u001b[0m\u001b[1;33m.\u001b[0m\u001b[0mappend\u001b[0m\u001b[1;33m(\u001b[0m\u001b[0mline\u001b[0m\u001b[1;33m)\u001b[0m\u001b[1;33m\u001b[0m\u001b[0m\n\u001b[0;32m   1427\u001b[0m \u001b[1;33m\u001b[0m\u001b[0m\n",
      "\u001b[1;32mC:\\Users\\Annie\\Anaconda2\\lib\\site-packages\\matplotlib\\axes\\_base.pyc\u001b[0m in \u001b[0;36madd_line\u001b[1;34m(self, line)\u001b[0m\n\u001b[0;32m   1706\u001b[0m             \u001b[0mline\u001b[0m\u001b[1;33m.\u001b[0m\u001b[0mset_clip_path\u001b[0m\u001b[1;33m(\u001b[0m\u001b[0mself\u001b[0m\u001b[1;33m.\u001b[0m\u001b[0mpatch\u001b[0m\u001b[1;33m)\u001b[0m\u001b[1;33m\u001b[0m\u001b[0m\n\u001b[0;32m   1707\u001b[0m \u001b[1;33m\u001b[0m\u001b[0m\n\u001b[1;32m-> 1708\u001b[1;33m         \u001b[0mself\u001b[0m\u001b[1;33m.\u001b[0m\u001b[0m_update_line_limits\u001b[0m\u001b[1;33m(\u001b[0m\u001b[0mline\u001b[0m\u001b[1;33m)\u001b[0m\u001b[1;33m\u001b[0m\u001b[0m\n\u001b[0m\u001b[0;32m   1709\u001b[0m         \u001b[1;32mif\u001b[0m \u001b[1;32mnot\u001b[0m \u001b[0mline\u001b[0m\u001b[1;33m.\u001b[0m\u001b[0mget_label\u001b[0m\u001b[1;33m(\u001b[0m\u001b[1;33m)\u001b[0m\u001b[1;33m:\u001b[0m\u001b[1;33m\u001b[0m\u001b[0m\n\u001b[0;32m   1710\u001b[0m             \u001b[0mline\u001b[0m\u001b[1;33m.\u001b[0m\u001b[0mset_label\u001b[0m\u001b[1;33m(\u001b[0m\u001b[1;34m'_line%d'\u001b[0m \u001b[1;33m%\u001b[0m \u001b[0mlen\u001b[0m\u001b[1;33m(\u001b[0m\u001b[0mself\u001b[0m\u001b[1;33m.\u001b[0m\u001b[0mlines\u001b[0m\u001b[1;33m)\u001b[0m\u001b[1;33m)\u001b[0m\u001b[1;33m\u001b[0m\u001b[0m\n",
      "\u001b[1;32mC:\\Users\\Annie\\Anaconda2\\lib\\site-packages\\matplotlib\\axes\\_base.pyc\u001b[0m in \u001b[0;36m_update_line_limits\u001b[1;34m(self, line)\u001b[0m\n\u001b[0;32m   1728\u001b[0m         \u001b[0mFigures\u001b[0m \u001b[0mout\u001b[0m \u001b[0mthe\u001b[0m \u001b[0mdata\u001b[0m \u001b[0mlimit\u001b[0m \u001b[0mof\u001b[0m \u001b[0mthe\u001b[0m \u001b[0mgiven\u001b[0m \u001b[0mline\u001b[0m\u001b[1;33m,\u001b[0m \u001b[0mupdating\u001b[0m \u001b[0mself\u001b[0m\u001b[1;33m.\u001b[0m\u001b[0mdataLim\u001b[0m\u001b[1;33m.\u001b[0m\u001b[1;33m\u001b[0m\u001b[0m\n\u001b[0;32m   1729\u001b[0m         \"\"\"\n\u001b[1;32m-> 1730\u001b[1;33m         \u001b[0mpath\u001b[0m \u001b[1;33m=\u001b[0m \u001b[0mline\u001b[0m\u001b[1;33m.\u001b[0m\u001b[0mget_path\u001b[0m\u001b[1;33m(\u001b[0m\u001b[1;33m)\u001b[0m\u001b[1;33m\u001b[0m\u001b[0m\n\u001b[0m\u001b[0;32m   1731\u001b[0m         \u001b[1;32mif\u001b[0m \u001b[0mpath\u001b[0m\u001b[1;33m.\u001b[0m\u001b[0mvertices\u001b[0m\u001b[1;33m.\u001b[0m\u001b[0msize\u001b[0m \u001b[1;33m==\u001b[0m \u001b[1;36m0\u001b[0m\u001b[1;33m:\u001b[0m\u001b[1;33m\u001b[0m\u001b[0m\n\u001b[0;32m   1732\u001b[0m             \u001b[1;32mreturn\u001b[0m\u001b[1;33m\u001b[0m\u001b[0m\n",
      "\u001b[1;32mC:\\Users\\Annie\\Anaconda2\\lib\\site-packages\\matplotlib\\lines.pyc\u001b[0m in \u001b[0;36mget_path\u001b[1;34m(self)\u001b[0m\n\u001b[0;32m    923\u001b[0m         \"\"\"\n\u001b[0;32m    924\u001b[0m         \u001b[1;32mif\u001b[0m \u001b[0mself\u001b[0m\u001b[1;33m.\u001b[0m\u001b[0m_invalidy\u001b[0m \u001b[1;32mor\u001b[0m \u001b[0mself\u001b[0m\u001b[1;33m.\u001b[0m\u001b[0m_invalidx\u001b[0m\u001b[1;33m:\u001b[0m\u001b[1;33m\u001b[0m\u001b[0m\n\u001b[1;32m--> 925\u001b[1;33m             \u001b[0mself\u001b[0m\u001b[1;33m.\u001b[0m\u001b[0mrecache\u001b[0m\u001b[1;33m(\u001b[0m\u001b[1;33m)\u001b[0m\u001b[1;33m\u001b[0m\u001b[0m\n\u001b[0m\u001b[0;32m    926\u001b[0m         \u001b[1;32mreturn\u001b[0m \u001b[0mself\u001b[0m\u001b[1;33m.\u001b[0m\u001b[0m_path\u001b[0m\u001b[1;33m\u001b[0m\u001b[0m\n\u001b[0;32m    927\u001b[0m \u001b[1;33m\u001b[0m\u001b[0m\n",
      "\u001b[1;32mC:\\Users\\Annie\\Anaconda2\\lib\\site-packages\\matplotlib\\lines.pyc\u001b[0m in \u001b[0;36mrecache\u001b[1;34m(self, always)\u001b[0m\n\u001b[0;32m    610\u001b[0m                 \u001b[0mx\u001b[0m \u001b[1;33m=\u001b[0m \u001b[0mma\u001b[0m\u001b[1;33m.\u001b[0m\u001b[0masarray\u001b[0m\u001b[1;33m(\u001b[0m\u001b[0mxconv\u001b[0m\u001b[1;33m,\u001b[0m \u001b[0mnp\u001b[0m\u001b[1;33m.\u001b[0m\u001b[0mfloat_\u001b[0m\u001b[1;33m)\u001b[0m\u001b[1;33m.\u001b[0m\u001b[0mfilled\u001b[0m\u001b[1;33m(\u001b[0m\u001b[0mnp\u001b[0m\u001b[1;33m.\u001b[0m\u001b[0mnan\u001b[0m\u001b[1;33m)\u001b[0m\u001b[1;33m\u001b[0m\u001b[0m\n\u001b[0;32m    611\u001b[0m             \u001b[1;32melse\u001b[0m\u001b[1;33m:\u001b[0m\u001b[1;33m\u001b[0m\u001b[0m\n\u001b[1;32m--> 612\u001b[1;33m                 \u001b[0mx\u001b[0m \u001b[1;33m=\u001b[0m \u001b[0mnp\u001b[0m\u001b[1;33m.\u001b[0m\u001b[0masarray\u001b[0m\u001b[1;33m(\u001b[0m\u001b[0mxconv\u001b[0m\u001b[1;33m,\u001b[0m \u001b[0mnp\u001b[0m\u001b[1;33m.\u001b[0m\u001b[0mfloat_\u001b[0m\u001b[1;33m)\u001b[0m\u001b[1;33m\u001b[0m\u001b[0m\n\u001b[0m\u001b[0;32m    613\u001b[0m             \u001b[0mx\u001b[0m \u001b[1;33m=\u001b[0m \u001b[0mx\u001b[0m\u001b[1;33m.\u001b[0m\u001b[0mravel\u001b[0m\u001b[1;33m(\u001b[0m\u001b[1;33m)\u001b[0m\u001b[1;33m\u001b[0m\u001b[0m\n\u001b[0;32m    614\u001b[0m         \u001b[1;32melse\u001b[0m\u001b[1;33m:\u001b[0m\u001b[1;33m\u001b[0m\u001b[0m\n",
      "\u001b[1;32mC:\\Users\\Annie\\Anaconda2\\lib\\site-packages\\numpy\\core\\numeric.pyc\u001b[0m in \u001b[0;36masarray\u001b[1;34m(a, dtype, order)\u001b[0m\n\u001b[0;32m    480\u001b[0m \u001b[1;33m\u001b[0m\u001b[0m\n\u001b[0;32m    481\u001b[0m     \"\"\"\n\u001b[1;32m--> 482\u001b[1;33m     \u001b[1;32mreturn\u001b[0m \u001b[0marray\u001b[0m\u001b[1;33m(\u001b[0m\u001b[0ma\u001b[0m\u001b[1;33m,\u001b[0m \u001b[0mdtype\u001b[0m\u001b[1;33m,\u001b[0m \u001b[0mcopy\u001b[0m\u001b[1;33m=\u001b[0m\u001b[0mFalse\u001b[0m\u001b[1;33m,\u001b[0m \u001b[0morder\u001b[0m\u001b[1;33m=\u001b[0m\u001b[0morder\u001b[0m\u001b[1;33m)\u001b[0m\u001b[1;33m\u001b[0m\u001b[0m\n\u001b[0m\u001b[0;32m    483\u001b[0m \u001b[1;33m\u001b[0m\u001b[0m\n\u001b[0;32m    484\u001b[0m \u001b[1;32mdef\u001b[0m \u001b[0masanyarray\u001b[0m\u001b[1;33m(\u001b[0m\u001b[0ma\u001b[0m\u001b[1;33m,\u001b[0m \u001b[0mdtype\u001b[0m\u001b[1;33m=\u001b[0m\u001b[0mNone\u001b[0m\u001b[1;33m,\u001b[0m \u001b[0morder\u001b[0m\u001b[1;33m=\u001b[0m\u001b[0mNone\u001b[0m\u001b[1;33m)\u001b[0m\u001b[1;33m:\u001b[0m\u001b[1;33m\u001b[0m\u001b[0m\n",
      "\u001b[1;31mValueError\u001b[0m: could not convert string to float: Hexanal"
     ]
    }
   ],
   "source": [
    "plt.plot(CompleteCorrDF)"
   ]
  },
  {
   "cell_type": "code",
   "execution_count": null,
   "metadata": {
    "collapsed": true
   },
   "outputs": [],
   "source": []
  },
  {
   "cell_type": "code",
   "execution_count": null,
   "metadata": {
    "collapsed": true
   },
   "outputs": [],
   "source": [
    "sns.set(style=\"white\", palette=\"muted\", color_codes=True);\n",
    "sns.set_context(\"talk\",font_scale=1.8);\n",
    "plt.figure(figsize=(55,20));\n",
    "sns.pointplot();\n",
    "sns.despine()\n",
    "plt.ylabel('COV', fontsize=48);\n",
    "plt.title('COV Peak DF/F - Methyl Salicylate',fontsize=55);\n",
    "plt.xlabel('Odor',fontsize=48);\n",
    "plt.legend(loc=2,prop={'size':48});"
   ]
  },
  {
   "cell_type": "markdown",
   "metadata": {},
   "source": [
    "# Composite Graphs"
   ]
  },
  {
   "cell_type": "code",
   "execution_count": 317,
   "metadata": {
    "collapsed": false,
    "scrolled": true
   },
   "outputs": [],
   "source": [
    "sns.set(style=\"white\", palette=\"muted\", color_codes=True);\n",
    "sns.set_context(\"talk\",font_scale=2.2);\n",
    "plt.figure(figsize=(45,20));\n",
    "ax=sns.barplot(x=\"Odor\", y=\"value\", hue=\"Group\",palette={\"Control\": \"r\", \"Hexanal\": \"b\",\"Mint\":\"g\"}, data=cfull);\n",
    "sns.despine()\n",
    "plt.ylabel('Peak DF/F', fontsize=48);\n",
    "plt.title('Peak DF/F',fontsize=55);\n",
    "plt.xlabel('Odor',fontsize=48);\n",
    "plt.legend(loc=2,prop={'size':48});"
   ]
  },
  {
   "cell_type": "code",
   "execution_count": 14,
   "metadata": {
    "collapsed": false
   },
   "outputs": [],
   "source": [
    "# sns.set_context(\"talk\",font_scale=1.9);\n",
    "# sns.set(style=\"white\", palette=\"muted\", color_codes=True);\n",
    "# plt.figure(figsize=(8, 6));\n",
    "# violinplot=sns.violinplot(x=\"Odor\", y=\"value\", hue=\"Group\", data=cfull);\n",
    "# violinplot.set(ylabel='Peak DF/F');"
   ]
  },
  {
   "cell_type": "code",
   "execution_count": 318,
   "metadata": {
    "collapsed": true
   },
   "outputs": [],
   "source": [
    "sns.set(style=\"white\", palette=\"muted\", color_codes=True);\n",
    "sns.set_context(\"talk\",font_scale=2.2);\n",
    "plt.figure(figsize=(45,20));\n",
    "ax=sns.boxplot(x=\"Odor\", y=\"value\", hue=\"Group\",palette={\"Control\": \"r\", \"Hexanal\": \"b\",\"Mint\":\"g\"}, data=cfull);\n",
    "sns.despine()\n",
    "plt.ylabel('Peak DF/F', fontsize=48);\n",
    "plt.title('Peak DF/F',fontsize=55);\n",
    "plt.xlabel('Odor',fontsize=48);\n",
    "plt.legend(loc=2,prop={'size':48});"
   ]
  },
  {
   "cell_type": "markdown",
   "metadata": {
    "collapsed": true
   },
   "source": [
    "# Concentration based graphs"
   ]
  },
  {
   "cell_type": "markdown",
   "metadata": {},
   "source": [
    "# MS"
   ]
  },
  {
   "cell_type": "code",
   "execution_count": 230,
   "metadata": {
    "collapsed": true
   },
   "outputs": [
    {
     "data": {
      "text/html": [
       "<div>\n",
       "<table border=\"1\" class=\"dataframe\">\n",
       "  <thead>\n",
       "    <tr style=\"text-align: right;\">\n",
       "      <th></th>\n",
       "      <th>Group</th>\n",
       "      <th>Odor</th>\n",
       "      <th>value</th>\n",
       "    </tr>\n",
       "  </thead>\n",
       "  <tbody>\n",
       "    <tr>\n",
       "      <th>0</th>\n",
       "      <td>Control</td>\n",
       "      <td>MS 0.01</td>\n",
       "      <td>0.127301</td>\n",
       "    </tr>\n",
       "    <tr>\n",
       "      <th>1</th>\n",
       "      <td>Control</td>\n",
       "      <td>MS 0.01</td>\n",
       "      <td>0.074838</td>\n",
       "    </tr>\n",
       "    <tr>\n",
       "      <th>2</th>\n",
       "      <td>Control</td>\n",
       "      <td>MS 0.01</td>\n",
       "      <td>0.094999</td>\n",
       "    </tr>\n",
       "    <tr>\n",
       "      <th>3</th>\n",
       "      <td>Control</td>\n",
       "      <td>MS 0.01</td>\n",
       "      <td>0.107146</td>\n",
       "    </tr>\n",
       "    <tr>\n",
       "      <th>4</th>\n",
       "      <td>Control</td>\n",
       "      <td>MS 0.01</td>\n",
       "      <td>0.147167</td>\n",
       "    </tr>\n",
       "  </tbody>\n",
       "</table>\n",
       "</div>"
      ],
      "text/plain": [
       "     Group     Odor     value\n",
       "0  Control  MS 0.01  0.127301\n",
       "1  Control  MS 0.01  0.074838\n",
       "2  Control  MS 0.01  0.094999\n",
       "3  Control  MS 0.01  0.107146\n",
       "4  Control  MS 0.01  0.147167"
      ]
     },
     "execution_count": 230,
     "metadata": {},
     "output_type": "execute_result"
    }
   ],
   "source": [
    "MS_full=composite_full[['Group','MS 0.01','MS 0.05','MS 0.1']]\n",
    "MSdf=pd.melt(MS_full,\"Group\",var_name=\"Odor\")\n",
    "MSdf.head()"
   ]
  },
  {
   "cell_type": "code",
   "execution_count": 325,
   "metadata": {
    "collapsed": false
   },
   "outputs": [],
   "source": [
    "sns.set(style=\"white\", palette=\"muted\", color_codes=True);\n",
    "sns.set_context(\"talk\",font_scale=4.3);\n",
    "plt.figure(figsize=(30, 20));\n",
    "sns.barplot(x=\"Odor\", y=\"value\", hue=\"Group\",palette={\"Control\": \"r\", \"Hexanal\": \"b\",\"Mint\":\"g\"}, data=MSdf);\n",
    "sns.despine()\n",
    "plt.legend(loc='upper right');\n",
    "plt.ylabel('Peak DF/F');\n",
    "plt.title('Peak DF/F');"
   ]
  },
  {
   "cell_type": "code",
   "execution_count": 326,
   "metadata": {
    "collapsed": true
   },
   "outputs": [],
   "source": [
    "sns.set(style=\"white\", palette=\"muted\", color_codes=True);\n",
    "sns.set_context(\"talk\",font_scale=4.3);\n",
    "plt.figure(figsize=(30, 20));\n",
    "sns.boxplot(x=\"Odor\", y=\"value\", hue=\"Group\",palette={\"Control\": \"r\", \"Hexanal\": \"b\",\"Mint\":\"g\"}, data=MSdf);\n",
    "sns.despine()\n",
    "plt.legend(loc='upper right');\n",
    "plt.ylabel('Peak DF/F');\n",
    "plt.title('Peak DF/F');"
   ]
  },
  {
   "cell_type": "markdown",
   "metadata": {},
   "source": [
    "# Histograms (MS)"
   ]
  },
  {
   "cell_type": "code",
   "execution_count": 78,
   "metadata": {
    "collapsed": true
   },
   "outputs": [
    {
     "data": {
      "text/html": [
       "<div>\n",
       "<table border=\"1\" class=\"dataframe\">\n",
       "  <thead>\n",
       "    <tr style=\"text-align: right;\">\n",
       "      <th></th>\n",
       "      <th>Group</th>\n",
       "      <th>MS 0.01</th>\n",
       "      <th>MS 0.05</th>\n",
       "      <th>MS 0.1</th>\n",
       "    </tr>\n",
       "  </thead>\n",
       "  <tbody>\n",
       "    <tr>\n",
       "      <th>261</th>\n",
       "      <td>Control</td>\n",
       "      <td>0.297978</td>\n",
       "      <td>0.343609</td>\n",
       "      <td>0.404345</td>\n",
       "    </tr>\n",
       "    <tr>\n",
       "      <th>262</th>\n",
       "      <td>Control</td>\n",
       "      <td>0.375490</td>\n",
       "      <td>0.350197</td>\n",
       "      <td>0.420784</td>\n",
       "    </tr>\n",
       "    <tr>\n",
       "      <th>263</th>\n",
       "      <td>Control</td>\n",
       "      <td>0.047742</td>\n",
       "      <td>0.213791</td>\n",
       "      <td>0.271523</td>\n",
       "    </tr>\n",
       "    <tr>\n",
       "      <th>264</th>\n",
       "      <td>Control</td>\n",
       "      <td>0.159659</td>\n",
       "      <td>0.141683</td>\n",
       "      <td>0.151191</td>\n",
       "    </tr>\n",
       "    <tr>\n",
       "      <th>265</th>\n",
       "      <td>Control</td>\n",
       "      <td>0.184315</td>\n",
       "      <td>0.192566</td>\n",
       "      <td>0.260542</td>\n",
       "    </tr>\n",
       "  </tbody>\n",
       "</table>\n",
       "</div>"
      ],
      "text/plain": [
       "       Group   MS 0.01   MS 0.05    MS 0.1\n",
       "261  Control  0.297978  0.343609  0.404345\n",
       "262  Control  0.375490  0.350197  0.420784\n",
       "263  Control  0.047742  0.213791  0.271523\n",
       "264  Control  0.159659  0.141683  0.151191\n",
       "265  Control  0.184315  0.192566  0.260542"
      ]
     },
     "execution_count": 78,
     "metadata": {},
     "output_type": "execute_result"
    }
   ],
   "source": [
    "MSctrl=MS_full[MS_full['Group'] == 'Control']\n",
    "MSMS=MS_full[MS_full['Group'] == 'Mint']\n",
    "MShex=MS_full[MS_full['Group'] == 'Hexanal']\n",
    "MSctrl.tail()"
   ]
  },
  {
   "cell_type": "code",
   "execution_count": 366,
   "metadata": {
    "collapsed": true
   },
   "outputs": [],
   "source": [
    "# Control, MS Concentration\n",
    "sns.set(style=\"white\", palette=\"muted\", color_codes=True)\n",
    "sns.set_context(\"talk\", font_scale=2)\n",
    "# Set up the matplotlib figure\n",
    "f, axes = plt.subplots(2, 2, figsize=(30, 20), sharex=True)\n",
    "# f.suptitle(\"Control, MS Concentration\", fontsize=40)\n",
    "sns.despine(left=True)\n",
    "\n",
    "#data\n",
    "d = MSctrl['MS 0.01']\n",
    "e = MSctrl['MS 0.05']\n",
    "f = MSctrl['MS 0.1']\n",
    "\n",
    "# Plot a simple histogram with binsize determined automatically\n",
    "sns.distplot(d, kde=False, color=\"b\", hist_kws={\"histtype\":'step',\"linewidth\":3,\"alpha\":0.7},axlabel= False,ax=axes[0, 0])\n",
    "sns.distplot(e, kde=False, color=\"g\", hist_kws={\"histtype\":'step',\"linewidth\":3,\"alpha\":0.7},axlabel= False,ax=axes[0, 0])\n",
    "sns.distplot(f, kde=False, color=\"r\", hist_kws={\"histtype\":'step',\"linewidth\":3,\"alpha\":0.7},axlabel= False,ax=axes[0, 0])\n",
    "\n",
    "# Plot a kernel density estimate and rug plot\n",
    "sns.distplot(d, hist=False, rug=True, color=\"b\", axlabel= False,ax=axes[0, 1],label=\"MS 0.01\")\n",
    "sns.distplot(e, hist=False, rug=True, color=\"g\", axlabel= False,ax=axes[0, 1],label=\"MS 0.05\")\n",
    "sns.distplot(f, hist=False, rug=True, color=\"r\", axlabel= False,ax=axes[0, 1],label=\"MS 0.1\")\n",
    "\n",
    "# Plot a filled kernel density estimate\n",
    "sns.distplot(d, hist=False, color=\"b\", kde_kws={\"shade\": True}, axlabel=False,ax=axes[1, 0])\n",
    "sns.distplot(e, hist=False, color=\"g\", kde_kws={\"shade\": True}, axlabel=False,ax=axes[1, 0])\n",
    "sns.distplot(f, hist=False, color=\"r\", kde_kws={\"shade\": True}, axlabel= False,ax=axes[1, 0])\n",
    "\n",
    "# Plot a historgram and kernel density estimate\n",
    "sns.distplot(d, color=\"b\",axlabel= False,ax=axes[1, 1])\n",
    "sns.distplot(e, color=\"g\",axlabel= False,ax=axes[1, 1])\n",
    "sns.distplot(f, color=\"r\",axlabel= False,ax=axes[1, 1])\n",
    "\n",
    "plt.setp(axes, yticks=[])\n",
    "plt.tight_layout()"
   ]
  },
  {
   "cell_type": "code",
   "execution_count": 368,
   "metadata": {
    "collapsed": true
   },
   "outputs": [],
   "source": [
    "# Hexanal, MS Concentration\n",
    "sns.set(style=\"white\", palette=\"muted\", color_codes=True)\n",
    "sns.set_context(\"talk\", font_scale=2)\n",
    "# Set up the matplotlib figure\n",
    "f, axes = plt.subplots(2, 2, figsize=(30,20), sharex=True)\n",
    "# f.suptitle(\"Hexanal, MS Concentration\", fontsize=44)\n",
    "sns.despine(left=True)\n",
    "\n",
    "#data\n",
    "d = MShex['MS 0.01']\n",
    "e = MShex['MS 0.05']\n",
    "f = MShex['MS 0.1']\n",
    "\n",
    "# Plot a simple histogram with binsize determined automatically\n",
    "sns.distplot(d, kde=False, color=\"b\", hist_kws={\"histtype\":'step',\"linewidth\":3,\"alpha\":0.7},axlabel= False,ax=axes[0, 0])\n",
    "sns.distplot(e, kde=False, color=\"g\", hist_kws={\"histtype\":'step',\"linewidth\":3,\"alpha\":0.7},axlabel= False,ax=axes[0, 0])\n",
    "sns.distplot(f, kde=False, color=\"r\", hist_kws={\"histtype\":'step',\"linewidth\":3,\"alpha\":0.7},axlabel= False,ax=axes[0, 0])\n",
    "\n",
    "# Plot a kernel density estimate and rug plot\n",
    "sns.distplot(d, hist=False, rug=True, color=\"b\", axlabel= False,ax=axes[0, 1],label=\"MS 0.01\")\n",
    "sns.distplot(e, hist=False, rug=True, color=\"g\", axlabel= False,ax=axes[0, 1],label=\"MS 0.05\")\n",
    "sns.distplot(f, hist=False, rug=True, color=\"r\", axlabel= False,ax=axes[0, 1],label=\"MS 0.1\")\n",
    "\n",
    "# Plot a filled kernel density estimate\n",
    "sns.distplot(d, hist=False, color=\"b\", kde_kws={\"shade\": True}, axlabel=False,ax=axes[1, 0])\n",
    "sns.distplot(e, hist=False, color=\"g\", kde_kws={\"shade\": True}, axlabel=False,ax=axes[1, 0])\n",
    "sns.distplot(f, hist=False, color=\"r\", kde_kws={\"shade\": True}, axlabel= False,ax=axes[1, 0])\n",
    "\n",
    "# Plot a historgram and kernel density estimate\n",
    "sns.distplot(d, color=\"b\",axlabel= False,ax=axes[1, 1])\n",
    "sns.distplot(e, color=\"g\",axlabel= False,ax=axes[1, 1])\n",
    "sns.distplot(f, color=\"r\",axlabel= False,ax=axes[1, 1])\n",
    "\n",
    "plt.setp(axes, yticks=[])\n",
    "plt.tight_layout()"
   ]
  },
  {
   "cell_type": "code",
   "execution_count": 369,
   "metadata": {
    "collapsed": false,
    "scrolled": true
   },
   "outputs": [],
   "source": [
    "# Mint, MS Concentration\n",
    "sns.set(style=\"white\", palette=\"muted\", color_codes=True)\n",
    "sns.set_context(\"talk\", font_scale=2)\n",
    "# Set up the matplotlib figure\n",
    "f, axes = plt.subplots(2, 2, figsize=(30,20), sharex=True)\n",
    "# f.suptitle(\"Mint, MS Concentration\", fontsize=44)\n",
    "sns.despine(left=True)\n",
    "\n",
    "#data\n",
    "d = MSMS['MS 0.01']\n",
    "e = MSMS['MS 0.05']\n",
    "f = MSMS['MS 0.1']\n",
    "\n",
    "# Plot a simple histogram with binsize determined automatically\n",
    "sns.distplot(d, kde=False, color=\"b\", hist_kws={\"histtype\":'step',\"linewidth\":3,\"alpha\":0.7},axlabel= False,ax=axes[0, 0])\n",
    "sns.distplot(e, kde=False, color=\"g\", hist_kws={\"histtype\":'step',\"linewidth\":3,\"alpha\":0.7},axlabel= False,ax=axes[0, 0])\n",
    "sns.distplot(f, kde=False, color=\"r\", hist_kws={\"histtype\":'step',\"linewidth\":3,\"alpha\":0.7},axlabel= False,ax=axes[0, 0])\n",
    "\n",
    "# Plot a kernel density estimate and rug plot\n",
    "sns.distplot(d, hist=False, rug=True, color=\"b\", axlabel= False,ax=axes[0, 1],label=\"MS 0.01\")\n",
    "sns.distplot(e, hist=False, rug=True, color=\"g\", axlabel= False,ax=axes[0, 1],label=\"MS 0.05\")\n",
    "sns.distplot(f, hist=False, rug=True, color=\"r\", axlabel= False,ax=axes[0, 1],label=\"MS 0.1\")\n",
    "\n",
    "# Plot a filled kernel density estimate\n",
    "sns.distplot(d, hist=False, color=\"b\", kde_kws={\"shade\": True}, axlabel=False,ax=axes[1, 0])\n",
    "sns.distplot(e, hist=False, color=\"g\", kde_kws={\"shade\": True}, axlabel=False,ax=axes[1, 0])\n",
    "sns.distplot(f, hist=False, color=\"r\", kde_kws={\"shade\": True}, axlabel= False,ax=axes[1, 0])\n",
    "\n",
    "# Plot a historgram and kernel density estimate\n",
    "sns.distplot(d, color=\"b\",axlabel= False,ax=axes[1, 1])\n",
    "sns.distplot(e, color=\"g\",axlabel= False,ax=axes[1, 1])\n",
    "sns.distplot(f, color=\"r\",axlabel= False,ax=axes[1, 1])\n",
    "\n",
    "plt.setp(axes, yticks=[])\n",
    "plt.tight_layout()"
   ]
  },
  {
   "cell_type": "markdown",
   "metadata": {},
   "source": [
    "# Hexanal"
   ]
  },
  {
   "cell_type": "code",
   "execution_count": 23,
   "metadata": {
    "collapsed": false
   },
   "outputs": [],
   "source": [
    "H_full=composite_full[['Group','Hexanal 0.01','Hexanal 0.05','Hexanal 0.1']]\n",
    "Hdf=pd.melt(H_full,\"Group\",var_name=\"Odor\")"
   ]
  },
  {
   "cell_type": "code",
   "execution_count": 370,
   "metadata": {
    "collapsed": true
   },
   "outputs": [],
   "source": [
    "sns.set(style=\"white\", palette=\"muted\", color_codes=True);\n",
    "sns.set_context(\"talk\",font_scale=4.3);\n",
    "plt.figure(figsize=(30,20));\n",
    "sns.barplot(x=\"Odor\", y=\"value\", hue=\"Group\",palette={\"Control\": \"r\", \"Hexanal\": \"b\",\"Mint\":\"g\"}, data=Hdf);\n",
    "sns.despine();\n",
    "plt.legend(loc='upper right');\n",
    "plt.ylabel('Peak DF/F');\n",
    "plt.title('Peak DF/F');"
   ]
  },
  {
   "cell_type": "code",
   "execution_count": 328,
   "metadata": {
    "collapsed": true
   },
   "outputs": [],
   "source": [
    "sns.set(style=\"white\", palette=\"muted\", color_codes=True);\n",
    "sns.set_context(\"talk\",font_scale=4.3);\n",
    "plt.figure(figsize=(30,20));\n",
    "sns.boxplot(x=\"Odor\", y=\"value\", hue=\"Group\",palette={\"Control\": \"r\", \"Hexanal\": \"b\",\"Mint\":\"g\"}, data=Hdf);\n",
    "sns.despine()\n",
    "plt.legend(loc='upper right');\n",
    "plt.ylabel('Peak DF/F');\n",
    "plt.title('Peak DF/F');\n",
    "plt.xlabel('Odor');"
   ]
  },
  {
   "cell_type": "markdown",
   "metadata": {},
   "source": [
    "# Histograms (Hexanal)"
   ]
  },
  {
   "cell_type": "code",
   "execution_count": 178,
   "metadata": {
    "collapsed": true
   },
   "outputs": [
    {
     "data": {
      "text/html": [
       "<div>\n",
       "<table border=\"1\" class=\"dataframe\">\n",
       "  <thead>\n",
       "    <tr style=\"text-align: right;\">\n",
       "      <th></th>\n",
       "      <th>Group</th>\n",
       "      <th>Hexanal 0.01</th>\n",
       "      <th>Hexanal 0.05</th>\n",
       "      <th>Hexanal 0.1</th>\n",
       "    </tr>\n",
       "  </thead>\n",
       "  <tbody>\n",
       "    <tr>\n",
       "      <th>266</th>\n",
       "      <td>Hexanal</td>\n",
       "      <td>0.346753</td>\n",
       "      <td>0.300836</td>\n",
       "      <td>0.290083</td>\n",
       "    </tr>\n",
       "    <tr>\n",
       "      <th>267</th>\n",
       "      <td>Hexanal</td>\n",
       "      <td>0.269426</td>\n",
       "      <td>0.349465</td>\n",
       "      <td>0.236634</td>\n",
       "    </tr>\n",
       "    <tr>\n",
       "      <th>268</th>\n",
       "      <td>Hexanal</td>\n",
       "      <td>0.359969</td>\n",
       "      <td>0.422324</td>\n",
       "      <td>0.416844</td>\n",
       "    </tr>\n",
       "    <tr>\n",
       "      <th>269</th>\n",
       "      <td>Hexanal</td>\n",
       "      <td>0.136656</td>\n",
       "      <td>0.135468</td>\n",
       "      <td>0.124364</td>\n",
       "    </tr>\n",
       "    <tr>\n",
       "      <th>270</th>\n",
       "      <td>Hexanal</td>\n",
       "      <td>0.188876</td>\n",
       "      <td>0.200218</td>\n",
       "      <td>0.136488</td>\n",
       "    </tr>\n",
       "  </tbody>\n",
       "</table>\n",
       "</div>"
      ],
      "text/plain": [
       "       Group  Hexanal 0.01  Hexanal 0.05  Hexanal 0.1\n",
       "266  Hexanal      0.346753      0.300836     0.290083\n",
       "267  Hexanal      0.269426      0.349465     0.236634\n",
       "268  Hexanal      0.359969      0.422324     0.416844\n",
       "269  Hexanal      0.136656      0.135468     0.124364\n",
       "270  Hexanal      0.188876      0.200218     0.136488"
      ]
     },
     "execution_count": 178,
     "metadata": {},
     "output_type": "execute_result"
    }
   ],
   "source": [
    "Hctrl=H_full[H_full['Group'] == 'Control']\n",
    "HMS=H_full[H_full['Group'] == 'Mint']\n",
    "HH=H_full[H_full['Group'] == 'Hexanal']\n",
    "HH.head()"
   ]
  },
  {
   "cell_type": "code",
   "execution_count": 373,
   "metadata": {
    "collapsed": true
   },
   "outputs": [],
   "source": [
    "# Control, Hexanal Concentration\n",
    "sns.set(style=\"white\", palette=\"muted\", color_codes=True)\n",
    "sns.set_context(\"talk\", font_scale=2)\n",
    "# Set up the matplotlib figure\n",
    "f, axes = plt.subplots(2, 2, figsize=(30,20), sharex=True)\n",
    "# f.suptitle(\"Control, Hexanal Concentration\", fontsize=44)\n",
    "sns.despine(left=True)\n",
    "\n",
    "#data\n",
    "d = Hctrl['Hexanal 0.01']\n",
    "e = Hctrl['Hexanal 0.05']\n",
    "f = Hctrl['Hexanal 0.1']\n",
    "\n",
    "# Plot a simple histogram with binsize determined automatically\n",
    "sns.distplot(d, kde=False, color=\"b\", hist_kws={\"histtype\":'step',\"linewidth\":3,\"alpha\":0.7},axlabel= False,ax=axes[0, 0])\n",
    "sns.distplot(e, kde=False, color=\"g\", hist_kws={\"histtype\":'step',\"linewidth\":3,\"alpha\":0.7},axlabel= False,ax=axes[0, 0])\n",
    "sns.distplot(f, kde=False, color=\"r\", hist_kws={\"histtype\":'step',\"linewidth\":3,\"alpha\":0.7},axlabel= False,ax=axes[0, 0])\n",
    "\n",
    "# Plot a kernel density estimate and rug plot\n",
    "sns.distplot(d, hist=False, rug=True, color=\"b\", axlabel= False,ax=axes[0, 1],label=\"Hexanal 0.01\")\n",
    "sns.distplot(e, hist=False, rug=True, color=\"g\", axlabel= False,ax=axes[0, 1],label=\"Hexanal 0.05\")\n",
    "sns.distplot(f, hist=False, rug=True, color=\"r\", axlabel= False,ax=axes[0, 1],label=\"Hexanal 0.1\")\n",
    "\n",
    "# Plot a filled kernel density estimate\n",
    "sns.distplot(d, hist=False, color=\"b\", kde_kws={\"shade\": True}, axlabel=False,ax=axes[1, 0])\n",
    "sns.distplot(e, hist=False, color=\"g\", kde_kws={\"shade\": True}, axlabel=False,ax=axes[1, 0])\n",
    "sns.distplot(f, hist=False, color=\"r\", kde_kws={\"shade\": True}, axlabel= False,ax=axes[1, 0])\n",
    "\n",
    "# Plot a historgram and kernel density estimate\n",
    "sns.distplot(d, color=\"b\",axlabel= False,ax=axes[1, 1])\n",
    "sns.distplot(e, color=\"g\",axlabel= False,ax=axes[1, 1])\n",
    "sns.distplot(f, color=\"r\",axlabel= False,ax=axes[1, 1])\n",
    "\n",
    "plt.setp(axes, yticks=[])\n",
    "plt.tight_layout()"
   ]
  },
  {
   "cell_type": "code",
   "execution_count": 372,
   "metadata": {
    "collapsed": true
   },
   "outputs": [],
   "source": [
    "# Hexanal, Hexanal Concentration\n",
    "sns.set(style=\"white\", palette=\"muted\", color_codes=True)\n",
    "sns.set_context(\"talk\", font_scale=2)\n",
    "# Set up the matplotlib figure\n",
    "f, axes = plt.subplots(2, 2, figsize=(30,20), sharex=True)\n",
    "# f.suptitle(\"Hexanal, Hexanal Concentration\", fontsize=44)\n",
    "sns.despine(left=True)\n",
    "\n",
    "#data\n",
    "d = HH['Hexanal 0.01']\n",
    "e = HH['Hexanal 0.05']\n",
    "f = HH['Hexanal 0.1']\n",
    "\n",
    "# Plot a simple histogram with binsize determined automatically\n",
    "sns.distplot(d, kde=False, color=\"b\", hist_kws={\"histtype\":'step',\"linewidth\":3,\"alpha\":0.7},axlabel= False,ax=axes[0, 0])\n",
    "sns.distplot(e, kde=False, color=\"g\", hist_kws={\"histtype\":'step',\"linewidth\":3,\"alpha\":0.7},axlabel= False,ax=axes[0, 0])\n",
    "sns.distplot(f, kde=False, color=\"r\", hist_kws={\"histtype\":'step',\"linewidth\":3,\"alpha\":0.7},axlabel= False,ax=axes[0, 0])\n",
    "\n",
    "# Plot a kernel density estimate and rug plot\n",
    "sns.distplot(d, hist=False, rug=True, color=\"b\", axlabel= False,ax=axes[0, 1],label=\"Hexanal 0.01\")\n",
    "sns.distplot(e, hist=False, rug=True, color=\"g\", axlabel= False,ax=axes[0, 1],label=\"Hexanal 0.05\")\n",
    "sns.distplot(f, hist=False, rug=True, color=\"r\", axlabel= False,ax=axes[0, 1],label=\"Hexanal 0.1\")\n",
    "\n",
    "# Plot a filled kernel density estimate\n",
    "sns.distplot(d, hist=False, color=\"b\", kde_kws={\"shade\": True}, axlabel=False,ax=axes[1, 0])\n",
    "sns.distplot(e, hist=False, color=\"g\", kde_kws={\"shade\": True}, axlabel=False,ax=axes[1, 0])\n",
    "sns.distplot(f, hist=False, color=\"r\", kde_kws={\"shade\": True}, axlabel= False,ax=axes[1, 0])\n",
    "\n",
    "# Plot a historgram and kernel density estimate\n",
    "sns.distplot(d, color=\"b\",axlabel= False,ax=axes[1, 1])\n",
    "sns.distplot(e, color=\"g\",axlabel= False,ax=axes[1, 1])\n",
    "sns.distplot(f, color=\"r\",axlabel= False,ax=axes[1, 1])\n",
    "\n",
    "plt.setp(axes, yticks=[])\n",
    "plt.tight_layout()"
   ]
  },
  {
   "cell_type": "code",
   "execution_count": 374,
   "metadata": {
    "collapsed": true
   },
   "outputs": [],
   "source": [
    "# Mint, Hexanal Concentration\n",
    "sns.set(style=\"white\", palette=\"muted\", color_codes=True)\n",
    "sns.set_context(\"talk\", font_scale=2)\n",
    "# Set up the matplotlib figure\n",
    "f, axes = plt.subplots(2, 2, figsize=(30,20), sharex=True)\n",
    "# f.suptitle(\"Mint, Hexanal Concentration\", fontsize=44)\n",
    "sns.despine(left=True)\n",
    "\n",
    "#data\n",
    "d = HMS['Hexanal 0.01']\n",
    "e = HMS['Hexanal 0.05']\n",
    "f = HMS['Hexanal 0.1']\n",
    "\n",
    "# Plot a simple histogram with binsize determined automatically\n",
    "sns.distplot(d, kde=False, color=\"b\", hist_kws={\"histtype\":'step',\"linewidth\":3,\"alpha\":0.7},axlabel= False,ax=axes[0, 0])\n",
    "sns.distplot(e, kde=False, color=\"g\", hist_kws={\"histtype\":'step',\"linewidth\":3,\"alpha\":0.7},axlabel= False,ax=axes[0, 0])\n",
    "sns.distplot(f, kde=False, color=\"r\", hist_kws={\"histtype\":'step',\"linewidth\":3,\"alpha\":0.7},axlabel= False,ax=axes[0, 0])\n",
    "\n",
    "# Plot a kernel density estimate and rug plot\n",
    "sns.distplot(d, hist=False, rug=True, color=\"b\", axlabel= False,ax=axes[0, 1],label=\"Hexanal 0.01\")\n",
    "sns.distplot(e, hist=False, rug=True, color=\"g\", axlabel= False,ax=axes[0, 1],label=\"Hexanal 0.05\")\n",
    "sns.distplot(f, hist=False, rug=True, color=\"r\", axlabel= False,ax=axes[0, 1],label=\"Hexanal 0.1\")\n",
    "\n",
    "# Plot a filled kernel density estimate\n",
    "sns.distplot(d, hist=False, color=\"b\", kde_kws={\"shade\": True}, axlabel=False,ax=axes[1, 0])\n",
    "sns.distplot(e, hist=False, color=\"g\", kde_kws={\"shade\": True}, axlabel=False,ax=axes[1, 0])\n",
    "sns.distplot(f, hist=False, color=\"r\", kde_kws={\"shade\": True}, axlabel= False,ax=axes[1, 0])\n",
    "\n",
    "# Plot a historgram and kernel density estimate\n",
    "sns.distplot(d, color=\"b\",axlabel= False,ax=axes[1, 1])\n",
    "sns.distplot(e, color=\"g\",axlabel= False,ax=axes[1, 1])\n",
    "sns.distplot(f, color=\"r\",axlabel= False,ax=axes[1, 1])\n",
    "\n",
    "plt.setp(axes, yticks=[])\n",
    "plt.tight_layout()"
   ]
  },
  {
   "cell_type": "markdown",
   "metadata": {},
   "source": [
    "# IAA"
   ]
  },
  {
   "cell_type": "code",
   "execution_count": 35,
   "metadata": {
    "collapsed": false
   },
   "outputs": [],
   "source": [
    "IAA_full=composite_full[['Group','IAA 0.01','IAA 0.05','IAA 0.1']]\n",
    "IAAdf=pd.melt(MS_full,\"Group\",var_name=\"Odor\")"
   ]
  },
  {
   "cell_type": "code",
   "execution_count": 329,
   "metadata": {
    "collapsed": true
   },
   "outputs": [],
   "source": [
    "sns.set(style=\"white\", palette=\"muted\", color_codes=True);\n",
    "sns.set_context(\"talk\",font_scale=4.3);\n",
    "plt.figure(figsize=(30,20));\n",
    "sns.barplot(x=\"Odor\", y=\"value\", hue=\"Group\",palette={\"Control\": \"r\", \"Hexanal\": \"b\",\"Mint\":\"g\"}, data=IAAdf);\n",
    "sns.despine();\n",
    "plt.legend(loc='upper right');\n",
    "plt.ylabel('Peak DF/F');\n",
    "plt.title('Peak DF/F');\n",
    "plt.xlabel('Odor');"
   ]
  },
  {
   "cell_type": "code",
   "execution_count": 331,
   "metadata": {
    "collapsed": true
   },
   "outputs": [],
   "source": [
    "sns.set(style=\"white\", palette=\"muted\", color_codes=True);\n",
    "sns.set_context(\"talk\",font_scale=4.3);\n",
    "plt.figure(figsize=(30,20));\n",
    "sns.boxplot(x=\"Odor\", y=\"value\", hue=\"Group\",palette={\"Control\": \"r\", \"Hexanal\": \"b\",\"Mint\":\"g\"}, data=IAAdf);\n",
    "sns.despine();\n",
    "plt.legend(loc='upper right');\n",
    "plt.ylabel('Peak DF/F');\n",
    "plt.title('Peak DF/F');\n",
    "plt.xlabel('Odor');"
   ]
  },
  {
   "cell_type": "markdown",
   "metadata": {},
   "source": [
    "# Histograms (IAA)"
   ]
  },
  {
   "cell_type": "code",
   "execution_count": 182,
   "metadata": {
    "collapsed": true
   },
   "outputs": [
    {
     "data": {
      "text/html": [
       "<div>\n",
       "<table border=\"1\" class=\"dataframe\">\n",
       "  <thead>\n",
       "    <tr style=\"text-align: right;\">\n",
       "      <th></th>\n",
       "      <th>Group</th>\n",
       "      <th>IAA 0.01</th>\n",
       "      <th>IAA 0.05</th>\n",
       "      <th>IAA 0.1</th>\n",
       "    </tr>\n",
       "  </thead>\n",
       "  <tbody>\n",
       "    <tr>\n",
       "      <th>266</th>\n",
       "      <td>Hexanal</td>\n",
       "      <td>0.210982</td>\n",
       "      <td>0.082528</td>\n",
       "      <td>0.382490</td>\n",
       "    </tr>\n",
       "    <tr>\n",
       "      <th>267</th>\n",
       "      <td>Hexanal</td>\n",
       "      <td>0.207433</td>\n",
       "      <td>0.068120</td>\n",
       "      <td>0.402160</td>\n",
       "    </tr>\n",
       "    <tr>\n",
       "      <th>268</th>\n",
       "      <td>Hexanal</td>\n",
       "      <td>0.350660</td>\n",
       "      <td>0.130934</td>\n",
       "      <td>0.439151</td>\n",
       "    </tr>\n",
       "    <tr>\n",
       "      <th>269</th>\n",
       "      <td>Hexanal</td>\n",
       "      <td>0.099299</td>\n",
       "      <td>0.042892</td>\n",
       "      <td>0.090707</td>\n",
       "    </tr>\n",
       "    <tr>\n",
       "      <th>270</th>\n",
       "      <td>Hexanal</td>\n",
       "      <td>0.103156</td>\n",
       "      <td>0.026460</td>\n",
       "      <td>0.154604</td>\n",
       "    </tr>\n",
       "  </tbody>\n",
       "</table>\n",
       "</div>"
      ],
      "text/plain": [
       "       Group  IAA 0.01  IAA 0.05   IAA 0.1\n",
       "266  Hexanal  0.210982  0.082528  0.382490\n",
       "267  Hexanal  0.207433  0.068120  0.402160\n",
       "268  Hexanal  0.350660  0.130934  0.439151\n",
       "269  Hexanal  0.099299  0.042892  0.090707\n",
       "270  Hexanal  0.103156  0.026460  0.154604"
      ]
     },
     "execution_count": 182,
     "metadata": {},
     "output_type": "execute_result"
    }
   ],
   "source": [
    "Ictrl=IAA_full[IAA_full['Group'] == 'Control']\n",
    "IMS=IAA_full[IAA_full['Group'] == 'Mint']\n",
    "IH=IAA_full[IAA_full['Group'] == 'Hexanal']\n",
    "IH.head()"
   ]
  },
  {
   "cell_type": "code",
   "execution_count": 375,
   "metadata": {
    "collapsed": false
   },
   "outputs": [],
   "source": [
    "# Control, IAA Concentration\n",
    "sns.set(style=\"white\", palette=\"muted\", color_codes=True)\n",
    "sns.set_context(\"talk\", font_scale=2)\n",
    "# Set up the matplotlib figure\n",
    "f, axes = plt.subplots(2, 2, figsize=(30,20), sharex=True)\n",
    "# f.suptitle(\"Control, IAA Concentration\", fontsize=44)\n",
    "sns.despine(left=True)\n",
    "\n",
    "#data\n",
    "d = Ictrl['IAA 0.01']\n",
    "e = Ictrl['IAA 0.05']\n",
    "f = Ictrl['IAA 0.1']\n",
    "\n",
    "# Plot a simple histogram with binsize determined automatically\n",
    "sns.distplot(d, kde=False, color=\"b\", hist_kws={\"histtype\":'step',\"linewidth\":3,\"alpha\":0.7},axlabel= False,ax=axes[0, 0])\n",
    "sns.distplot(e, kde=False, color=\"g\", hist_kws={\"histtype\":'step',\"linewidth\":3,\"alpha\":0.7},axlabel= False,ax=axes[0, 0])\n",
    "sns.distplot(f, kde=False, color=\"r\", hist_kws={\"histtype\":'step',\"linewidth\":3,\"alpha\":0.7},axlabel= False,ax=axes[0, 0])\n",
    "\n",
    "# Plot a kernel density estimate and rug plot\n",
    "sns.distplot(d, hist=False, rug=True, color=\"b\", axlabel= False,ax=axes[0, 1],label=\"IAA 0.01\")\n",
    "sns.distplot(e, hist=False, rug=True, color=\"g\", axlabel= False,ax=axes[0, 1],label=\"IAA 0.05\")\n",
    "sns.distplot(f, hist=False, rug=True, color=\"r\", axlabel= False,ax=axes[0, 1],label=\"IAA 0.1\")\n",
    "\n",
    "# Plot a filled kernel density estimate\n",
    "sns.distplot(d, hist=False, color=\"b\", kde_kws={\"shade\": True}, axlabel=False,ax=axes[1, 0])\n",
    "sns.distplot(e, hist=False, color=\"g\", kde_kws={\"shade\": True}, axlabel=False,ax=axes[1, 0])\n",
    "sns.distplot(f, hist=False, color=\"r\", kde_kws={\"shade\": True}, axlabel= False,ax=axes[1, 0])\n",
    "\n",
    "# Plot a historgram and kernel density estimate\n",
    "sns.distplot(d, color=\"b\",axlabel= False,ax=axes[1, 1])\n",
    "sns.distplot(e, color=\"g\",axlabel= False,ax=axes[1, 1])\n",
    "sns.distplot(f, color=\"r\",axlabel= False,ax=axes[1, 1])\n",
    "\n",
    "plt.setp(axes, yticks=[])\n",
    "plt.tight_layout()"
   ]
  },
  {
   "cell_type": "code",
   "execution_count": 376,
   "metadata": {
    "collapsed": true
   },
   "outputs": [],
   "source": [
    "# Hexanal, IAA Concentration\n",
    "sns.set(style=\"white\", palette=\"muted\", color_codes=True)\n",
    "sns.set_context(\"talk\", font_scale=2)\n",
    "# Set up the matplotlib figure\n",
    "f, axes = plt.subplots(2, 2, figsize=(30,20), sharex=True)\n",
    "# f.suptitle(\"Hexanal, IAA Concentration\", fontsize=44)\n",
    "sns.despine(left=True)\n",
    "\n",
    "#data\n",
    "d = IH['IAA 0.01']\n",
    "e = IH['IAA 0.05']\n",
    "f = IH['IAA 0.1']\n",
    "\n",
    "# Plot a simple histogram with binsize determined automatically\n",
    "sns.distplot(d, kde=False, color=\"b\", hist_kws={\"histtype\":'step',\"linewidth\":3,\"alpha\":0.7},axlabel= False,ax=axes[0, 0])\n",
    "sns.distplot(e, kde=False, color=\"g\", hist_kws={\"histtype\":'step',\"linewidth\":3,\"alpha\":0.7},axlabel= False,ax=axes[0, 0])\n",
    "sns.distplot(f, kde=False, color=\"r\", hist_kws={\"histtype\":'step',\"linewidth\":3,\"alpha\":0.7},axlabel= False,ax=axes[0, 0])\n",
    "\n",
    "# Plot a kernel density estimate and rug plot\n",
    "sns.distplot(d, hist=False, rug=True, color=\"b\", axlabel= False,ax=axes[0, 1],label=\"IAA 0.01\")\n",
    "sns.distplot(e, hist=False, rug=True, color=\"g\", axlabel= False,ax=axes[0, 1],label=\"IAA 0.05\")\n",
    "sns.distplot(f, hist=False, rug=True, color=\"r\", axlabel= False,ax=axes[0, 1],label=\"IAA 0.1\")\n",
    "\n",
    "# Plot a filled kernel density estimate\n",
    "sns.distplot(d, hist=False, color=\"b\", kde_kws={\"shade\": True}, axlabel=False,ax=axes[1, 0])\n",
    "sns.distplot(e, hist=False, color=\"g\", kde_kws={\"shade\": True}, axlabel=False,ax=axes[1, 0])\n",
    "sns.distplot(f, hist=False, color=\"r\", kde_kws={\"shade\": True}, axlabel= False,ax=axes[1, 0])\n",
    "\n",
    "# Plot a historgram and kernel density estimate\n",
    "sns.distplot(d, color=\"b\",axlabel= False,ax=axes[1, 1])\n",
    "sns.distplot(e, color=\"g\",axlabel= False,ax=axes[1, 1])\n",
    "sns.distplot(f, color=\"r\",axlabel= False,ax=axes[1, 1])\n",
    "\n",
    "plt.setp(axes, yticks=[])\n",
    "plt.tight_layout()"
   ]
  },
  {
   "cell_type": "code",
   "execution_count": 377,
   "metadata": {
    "collapsed": true
   },
   "outputs": [],
   "source": [
    "# Mint, IAA Concentration\n",
    "sns.set(style=\"white\", palette=\"muted\", color_codes=True)\n",
    "sns.set_context(\"talk\", font_scale=2)\n",
    "# Set up the matplotlib figure\n",
    "f, axes = plt.subplots(2, 2, figsize=(30,20), sharex=True)\n",
    "# f.suptitle(\"Mint, IAA Concentration\", fontsize=44)\n",
    "sns.despine(left=True)\n",
    "\n",
    "#data\n",
    "d = IMS['IAA 0.01']\n",
    "e = IMS['IAA 0.05']\n",
    "f = IMS['IAA 0.1']\n",
    "\n",
    "# Plot a simple histogram with binsize determined automatically\n",
    "sns.distplot(d, kde=False, color=\"b\", hist_kws={\"histtype\":'step',\"linewidth\":3,\"alpha\":0.7},axlabel= False,ax=axes[0, 0])\n",
    "sns.distplot(e, kde=False, color=\"g\", hist_kws={\"histtype\":'step',\"linewidth\":3,\"alpha\":0.7},axlabel= False,ax=axes[0, 0])\n",
    "sns.distplot(f, kde=False, color=\"r\", hist_kws={\"histtype\":'step',\"linewidth\":3,\"alpha\":0.7},axlabel= False,ax=axes[0, 0])\n",
    "\n",
    "# Plot a kernel density estimate and rug plot\n",
    "sns.distplot(d, hist=False, rug=True, color=\"b\", axlabel= False,ax=axes[0, 1],label=\"IAA 0.01\")\n",
    "sns.distplot(e, hist=False, rug=True, color=\"g\", axlabel= False,ax=axes[0, 1],label=\"IAA 0.05\")\n",
    "sns.distplot(f, hist=False, rug=True, color=\"r\", axlabel= False,ax=axes[0, 1],label=\"IAA 0.1\")\n",
    "\n",
    "# Plot a filled kernel density estimate\n",
    "sns.distplot(d, hist=False, color=\"b\", kde_kws={\"shade\": True}, axlabel=False,ax=axes[1, 0])\n",
    "sns.distplot(e, hist=False, color=\"g\", kde_kws={\"shade\": True}, axlabel=False,ax=axes[1, 0])\n",
    "sns.distplot(f, hist=False, color=\"r\", kde_kws={\"shade\": True}, axlabel= False,ax=axes[1, 0])\n",
    "\n",
    "# Plot a historgram and kernel density estimate\n",
    "sns.distplot(d, color=\"b\",axlabel= False,ax=axes[1, 1])\n",
    "sns.distplot(e, color=\"g\",axlabel= False,ax=axes[1, 1])\n",
    "sns.distplot(f, color=\"r\",axlabel= False,ax=axes[1, 1])\n",
    "\n",
    "plt.setp(axes, yticks=[])\n",
    "plt.tight_layout()"
   ]
  },
  {
   "cell_type": "markdown",
   "metadata": {},
   "source": [
    "# Stats"
   ]
  },
  {
   "cell_type": "markdown",
   "metadata": {},
   "source": [
    "Methyl Salicylate"
   ]
  },
  {
   "cell_type": "code",
   "execution_count": 38,
   "metadata": {
    "collapsed": false
   },
   "outputs": [
    {
     "data": {
      "text/html": [
       "<div>\n",
       "<table border=\"1\" class=\"dataframe\">\n",
       "  <thead>\n",
       "    <tr style=\"text-align: right;\">\n",
       "      <th></th>\n",
       "      <th>Group</th>\n",
       "      <th>MS 0.01</th>\n",
       "      <th>MS 0.05</th>\n",
       "      <th>MS 0.1</th>\n",
       "    </tr>\n",
       "  </thead>\n",
       "  <tbody>\n",
       "    <tr>\n",
       "      <th>261</th>\n",
       "      <td>Control</td>\n",
       "      <td>0.297978</td>\n",
       "      <td>0.343609</td>\n",
       "      <td>0.404345</td>\n",
       "    </tr>\n",
       "    <tr>\n",
       "      <th>262</th>\n",
       "      <td>Control</td>\n",
       "      <td>0.375490</td>\n",
       "      <td>0.350197</td>\n",
       "      <td>0.420784</td>\n",
       "    </tr>\n",
       "    <tr>\n",
       "      <th>263</th>\n",
       "      <td>Control</td>\n",
       "      <td>0.047742</td>\n",
       "      <td>0.213791</td>\n",
       "      <td>0.271523</td>\n",
       "    </tr>\n",
       "    <tr>\n",
       "      <th>264</th>\n",
       "      <td>Control</td>\n",
       "      <td>0.159659</td>\n",
       "      <td>0.141683</td>\n",
       "      <td>0.151191</td>\n",
       "    </tr>\n",
       "    <tr>\n",
       "      <th>265</th>\n",
       "      <td>Control</td>\n",
       "      <td>0.184315</td>\n",
       "      <td>0.192566</td>\n",
       "      <td>0.260542</td>\n",
       "    </tr>\n",
       "  </tbody>\n",
       "</table>\n",
       "</div>"
      ],
      "text/plain": [
       "       Group   MS 0.01   MS 0.05    MS 0.1\n",
       "261  Control  0.297978  0.343609  0.404345\n",
       "262  Control  0.375490  0.350197  0.420784\n",
       "263  Control  0.047742  0.213791  0.271523\n",
       "264  Control  0.159659  0.141683  0.151191\n",
       "265  Control  0.184315  0.192566  0.260542"
      ]
     },
     "execution_count": 38,
     "metadata": {},
     "output_type": "execute_result"
    }
   ],
   "source": [
    "MSctrl=MS_full[MS_full['Group'] == 'Control']\n",
    "MSMS=MS_full[MS_full['Group'] == 'Mint']\n",
    "MShex=MS_full[MS_full['Group'] == 'Hexanal']\n",
    "MSctrl.tail()"
   ]
  },
  {
   "cell_type": "code",
   "execution_count": 39,
   "metadata": {
    "collapsed": false,
    "scrolled": true
   },
   "outputs": [
    {
     "data": {
      "text/plain": [
       "KruskalResult(statistic=1.9725528869809088, pvalue=0.37296285696071418)"
      ]
     },
     "execution_count": 39,
     "metadata": {},
     "output_type": "execute_result"
    }
   ],
   "source": [
    "kruskal(MSctrl['MS 0.01'],MSctrl['MS 0.05'],MSctrl['MS 0.1'],nan_policy='omit')"
   ]
  },
  {
   "cell_type": "code",
   "execution_count": 40,
   "metadata": {
    "collapsed": false
   },
   "outputs": [
    {
     "data": {
      "text/plain": [
       "KruskalResult(statistic=13.539494458225329, pvalue=0.0011479847913647104)"
      ]
     },
     "execution_count": 40,
     "metadata": {},
     "output_type": "execute_result"
    }
   ],
   "source": [
    "kruskal(MSMS['MS 0.01'],MSMS['MS 0.05'],MSMS['MS 0.1'],nan_policy='omit')"
   ]
  },
  {
   "cell_type": "code",
   "execution_count": 41,
   "metadata": {
    "collapsed": false,
    "scrolled": true
   },
   "outputs": [
    {
     "data": {
      "text/plain": [
       "KruskalResult(statistic=5.7933408549275871, pvalue=0.055206729192718254)"
      ]
     },
     "execution_count": 41,
     "metadata": {},
     "output_type": "execute_result"
    }
   ],
   "source": [
    "kruskal(MShex['MS 0.01'],MShex['MS 0.05'],MShex['MS 0.1'],nan_policy='omit')"
   ]
  },
  {
   "cell_type": "markdown",
   "metadata": {},
   "source": [
    "Hexanal"
   ]
  },
  {
   "cell_type": "code",
   "execution_count": 43,
   "metadata": {
    "collapsed": true
   },
   "outputs": [
    {
     "data": {
      "text/html": [
       "<div>\n",
       "<table border=\"1\" class=\"dataframe\">\n",
       "  <thead>\n",
       "    <tr style=\"text-align: right;\">\n",
       "      <th></th>\n",
       "      <th>Group</th>\n",
       "      <th>Hexanal 0.01</th>\n",
       "      <th>Hexanal 0.05</th>\n",
       "      <th>Hexanal 0.1</th>\n",
       "    </tr>\n",
       "  </thead>\n",
       "  <tbody>\n",
       "    <tr>\n",
       "      <th>266</th>\n",
       "      <td>Hexanal</td>\n",
       "      <td>0.346753</td>\n",
       "      <td>0.300836</td>\n",
       "      <td>0.290083</td>\n",
       "    </tr>\n",
       "    <tr>\n",
       "      <th>267</th>\n",
       "      <td>Hexanal</td>\n",
       "      <td>0.269426</td>\n",
       "      <td>0.349465</td>\n",
       "      <td>0.236634</td>\n",
       "    </tr>\n",
       "    <tr>\n",
       "      <th>268</th>\n",
       "      <td>Hexanal</td>\n",
       "      <td>0.359969</td>\n",
       "      <td>0.422324</td>\n",
       "      <td>0.416844</td>\n",
       "    </tr>\n",
       "    <tr>\n",
       "      <th>269</th>\n",
       "      <td>Hexanal</td>\n",
       "      <td>0.136656</td>\n",
       "      <td>0.135468</td>\n",
       "      <td>0.124364</td>\n",
       "    </tr>\n",
       "    <tr>\n",
       "      <th>270</th>\n",
       "      <td>Hexanal</td>\n",
       "      <td>0.188876</td>\n",
       "      <td>0.200218</td>\n",
       "      <td>0.136488</td>\n",
       "    </tr>\n",
       "  </tbody>\n",
       "</table>\n",
       "</div>"
      ],
      "text/plain": [
       "       Group  Hexanal 0.01  Hexanal 0.05  Hexanal 0.1\n",
       "266  Hexanal      0.346753      0.300836     0.290083\n",
       "267  Hexanal      0.269426      0.349465     0.236634\n",
       "268  Hexanal      0.359969      0.422324     0.416844\n",
       "269  Hexanal      0.136656      0.135468     0.124364\n",
       "270  Hexanal      0.188876      0.200218     0.136488"
      ]
     },
     "execution_count": 43,
     "metadata": {},
     "output_type": "execute_result"
    }
   ],
   "source": [
    "Hctrl=H_full[H_full['Group'] == 'Control']\n",
    "HMS=H_full[H_full['Group'] == 'Mint']\n",
    "HH=H_full[H_full['Group'] == 'Hexanal']\n",
    "HH.head()"
   ]
  },
  {
   "cell_type": "code",
   "execution_count": 44,
   "metadata": {
    "collapsed": false,
    "scrolled": true
   },
   "outputs": [
    {
     "data": {
      "text/plain": [
       "KruskalResult(statistic=4.4640795238193043, pvalue=0.1073093212807168)"
      ]
     },
     "execution_count": 44,
     "metadata": {},
     "output_type": "execute_result"
    }
   ],
   "source": [
    "kruskal(Hctrl['Hexanal 0.01'],Hctrl['Hexanal 0.05'],Hctrl['Hexanal 0.1'],nan_policy='omit')"
   ]
  },
  {
   "cell_type": "code",
   "execution_count": 45,
   "metadata": {
    "collapsed": false
   },
   "outputs": [
    {
     "data": {
      "text/plain": [
       "KruskalResult(statistic=4.1404582218539545, pvalue=0.12615687447522853)"
      ]
     },
     "execution_count": 45,
     "metadata": {},
     "output_type": "execute_result"
    }
   ],
   "source": [
    "kruskal(HMS['Hexanal 0.01'],HMS['Hexanal 0.05'],HMS['Hexanal 0.1'],nan_policy='omit')"
   ]
  },
  {
   "cell_type": "code",
   "execution_count": 46,
   "metadata": {
    "collapsed": false,
    "scrolled": false
   },
   "outputs": [
    {
     "data": {
      "text/plain": [
       "KruskalResult(statistic=32.384359703646624, pvalue=9.2859350217332081e-08)"
      ]
     },
     "execution_count": 46,
     "metadata": {},
     "output_type": "execute_result"
    }
   ],
   "source": [
    "kruskal(HH['Hexanal 0.01'],HH['Hexanal 0.05'],HH['Hexanal 0.1'],nan_policy='omit')"
   ]
  },
  {
   "cell_type": "markdown",
   "metadata": {},
   "source": [
    "IAA"
   ]
  },
  {
   "cell_type": "code",
   "execution_count": 47,
   "metadata": {
    "collapsed": true
   },
   "outputs": [
    {
     "data": {
      "text/html": [
       "<div>\n",
       "<table border=\"1\" class=\"dataframe\">\n",
       "  <thead>\n",
       "    <tr style=\"text-align: right;\">\n",
       "      <th></th>\n",
       "      <th>Group</th>\n",
       "      <th>IAA 0.01</th>\n",
       "      <th>IAA 0.05</th>\n",
       "      <th>IAA 0.1</th>\n",
       "    </tr>\n",
       "  </thead>\n",
       "  <tbody>\n",
       "    <tr>\n",
       "      <th>266</th>\n",
       "      <td>Hexanal</td>\n",
       "      <td>0.210982</td>\n",
       "      <td>0.082528</td>\n",
       "      <td>0.382490</td>\n",
       "    </tr>\n",
       "    <tr>\n",
       "      <th>267</th>\n",
       "      <td>Hexanal</td>\n",
       "      <td>0.207433</td>\n",
       "      <td>0.068120</td>\n",
       "      <td>0.402160</td>\n",
       "    </tr>\n",
       "    <tr>\n",
       "      <th>268</th>\n",
       "      <td>Hexanal</td>\n",
       "      <td>0.350660</td>\n",
       "      <td>0.130934</td>\n",
       "      <td>0.439151</td>\n",
       "    </tr>\n",
       "    <tr>\n",
       "      <th>269</th>\n",
       "      <td>Hexanal</td>\n",
       "      <td>0.099299</td>\n",
       "      <td>0.042892</td>\n",
       "      <td>0.090707</td>\n",
       "    </tr>\n",
       "    <tr>\n",
       "      <th>270</th>\n",
       "      <td>Hexanal</td>\n",
       "      <td>0.103156</td>\n",
       "      <td>0.026460</td>\n",
       "      <td>0.154604</td>\n",
       "    </tr>\n",
       "  </tbody>\n",
       "</table>\n",
       "</div>"
      ],
      "text/plain": [
       "       Group  IAA 0.01  IAA 0.05   IAA 0.1\n",
       "266  Hexanal  0.210982  0.082528  0.382490\n",
       "267  Hexanal  0.207433  0.068120  0.402160\n",
       "268  Hexanal  0.350660  0.130934  0.439151\n",
       "269  Hexanal  0.099299  0.042892  0.090707\n",
       "270  Hexanal  0.103156  0.026460  0.154604"
      ]
     },
     "execution_count": 47,
     "metadata": {},
     "output_type": "execute_result"
    }
   ],
   "source": [
    "Ictrl=IAA_full[IAA_full['Group'] == 'Control']\n",
    "IMS=IAA_full[IAA_full['Group'] == 'Mint']\n",
    "IH=IAA_full[IAA_full['Group'] == 'Hexanal']\n",
    "IH.head()"
   ]
  },
  {
   "cell_type": "code",
   "execution_count": 48,
   "metadata": {
    "collapsed": false,
    "scrolled": true
   },
   "outputs": [
    {
     "data": {
      "text/plain": [
       "KruskalResult(statistic=19.499111604184485, pvalue=5.8320563850495121e-05)"
      ]
     },
     "execution_count": 48,
     "metadata": {},
     "output_type": "execute_result"
    }
   ],
   "source": [
    "kruskal(Ictrl['IAA 0.01'],Ictrl['IAA 0.05'],Ictrl['IAA 0.1'],nan_policy='omit')"
   ]
  },
  {
   "cell_type": "code",
   "execution_count": 49,
   "metadata": {
    "collapsed": false
   },
   "outputs": [
    {
     "data": {
      "text/plain": [
       "KruskalResult(statistic=31.735812204406784, pvalue=1.2842688251749286e-07)"
      ]
     },
     "execution_count": 49,
     "metadata": {},
     "output_type": "execute_result"
    }
   ],
   "source": [
    "kruskal(IMS['IAA 0.01'],IMS['IAA 0.05'],IMS['IAA 0.1'],nan_policy='omit')"
   ]
  },
  {
   "cell_type": "code",
   "execution_count": 50,
   "metadata": {
    "collapsed": false,
    "scrolled": false
   },
   "outputs": [
    {
     "data": {
      "text/plain": [
       "KruskalResult(statistic=38.874224328353328, pvalue=3.6188405076274751e-09)"
      ]
     },
     "execution_count": 50,
     "metadata": {},
     "output_type": "execute_result"
    }
   ],
   "source": [
    "kruskal(IH['IAA 0.01'],IH['IAA 0.05'],IH['IAA 0.1'],nan_policy='omit')"
   ]
  },
  {
   "cell_type": "markdown",
   "metadata": {},
   "source": [
    "# By odor"
   ]
  },
  {
   "cell_type": "markdown",
   "metadata": {},
   "source": [
    "# MS 0.01"
   ]
  },
  {
   "cell_type": "code",
   "execution_count": 402,
   "metadata": {
    "collapsed": false
   },
   "outputs": [],
   "source": [
    "MS001_full=composite_full[['Group','MS 0.01']]\n",
    "MS001df=pd.melt(MS001_full,\"Group\",var_name=\"Odor\")"
   ]
  },
  {
   "cell_type": "code",
   "execution_count": 403,
   "metadata": {
    "collapsed": false
   },
   "outputs": [],
   "source": [
    "sns.set(style=\"white\", palette=\"muted\", color_codes=True);\n",
    "sns.set_context(\"talk\",font_scale=3);\n",
    "plt.figure(figsize=(15,18));\n",
    "sns.barplot(x=\"Odor\", y=\"value\", hue=\"Group\",palette={\"Control\": \"r\", \"Hexanal\": \"b\",\"Mint\":\"g\"}, data=MS001df);\n",
    "sns.despine();\n",
    "plt.legend(loc='upper right');\n",
    "plt.ylabel('Peak DF/F');\n",
    "plt.title('Peak DF/F');"
   ]
  },
  {
   "cell_type": "code",
   "execution_count": 404,
   "metadata": {
    "collapsed": false
   },
   "outputs": [],
   "source": [
    "sns.set(style=\"white\", palette=\"muted\", color_codes=True);\n",
    "sns.set_context(\"talk\",font_scale=3);\n",
    "plt.figure(figsize=(15,18));\n",
    "sns.boxplot(x=\"Odor\", y=\"value\", hue=\"Group\",palette={\"Control\": \"r\", \"Hexanal\": \"b\",\"Mint\":\"g\"}, data=MS001df);\n",
    "sns.despine();\n",
    "plt.legend(loc='upper right');\n",
    "plt.ylabel('Peak DF/F');\n",
    "plt.title('Peak DF/F');\n",
    "plt.xlabel('Odor');"
   ]
  },
  {
   "cell_type": "code",
   "execution_count": 405,
   "metadata": {
    "collapsed": true
   },
   "outputs": [
    {
     "data": {
      "text/html": [
       "<div>\n",
       "<table border=\"1\" class=\"dataframe\">\n",
       "  <thead>\n",
       "    <tr style=\"text-align: right;\">\n",
       "      <th></th>\n",
       "      <th>Group</th>\n",
       "      <th>MS 0.01</th>\n",
       "    </tr>\n",
       "  </thead>\n",
       "  <tbody>\n",
       "    <tr>\n",
       "      <th>266</th>\n",
       "      <td>Hexanal</td>\n",
       "      <td>0.161091</td>\n",
       "    </tr>\n",
       "    <tr>\n",
       "      <th>267</th>\n",
       "      <td>Hexanal</td>\n",
       "      <td>0.032355</td>\n",
       "    </tr>\n",
       "    <tr>\n",
       "      <th>268</th>\n",
       "      <td>Hexanal</td>\n",
       "      <td>0.260874</td>\n",
       "    </tr>\n",
       "    <tr>\n",
       "      <th>269</th>\n",
       "      <td>Hexanal</td>\n",
       "      <td>0.034293</td>\n",
       "    </tr>\n",
       "    <tr>\n",
       "      <th>270</th>\n",
       "      <td>Hexanal</td>\n",
       "      <td>0.042151</td>\n",
       "    </tr>\n",
       "  </tbody>\n",
       "</table>\n",
       "</div>"
      ],
      "text/plain": [
       "       Group   MS 0.01\n",
       "266  Hexanal  0.161091\n",
       "267  Hexanal  0.032355\n",
       "268  Hexanal  0.260874\n",
       "269  Hexanal  0.034293\n",
       "270  Hexanal  0.042151"
      ]
     },
     "execution_count": 405,
     "metadata": {},
     "output_type": "execute_result"
    }
   ],
   "source": [
    "MS001ctrl=MS001_full[MS001_full['Group'] == 'Control']\n",
    "MS001MS=MS001_full[MS001_full['Group'] == 'Mint']\n",
    "MS001H=MS001_full[MS001_full['Group'] == 'Hexanal']\n",
    "MS001H.head()"
   ]
  },
  {
   "cell_type": "code",
   "execution_count": 406,
   "metadata": {
    "collapsed": true
   },
   "outputs": [],
   "source": [
    "sns.set(style=\"white\", palette=\"muted\", color_codes=True)\n",
    "sns.set_context(\"talk\", font_scale=2)\n",
    "# Set up the matplotlib figure\n",
    "f, axes = plt.subplots(2, 2, figsize=(30,20), sharex=True)\n",
    "# f.suptitle(\"MS 0.01\", fontsize=44)\n",
    "sns.despine(left=True)\n",
    "\n",
    "#data\n",
    "d = MS001ctrl['MS 0.01']\n",
    "e = MS001MS['MS 0.01']\n",
    "f = MS001H['MS 0.01']\n",
    "\n",
    "# Plot a simple histogram with binsize determined automatically\n",
    "sns.distplot(d, kde=False, color=\"r\", hist_kws={\"histtype\":'step',\"linewidth\":3,\"alpha\":0.7},axlabel= False,ax=axes[0, 0])\n",
    "sns.distplot(e, kde=False, color=\"g\", hist_kws={\"histtype\":'step',\"linewidth\":3,\"alpha\":0.7},axlabel= False,ax=axes[0, 0])\n",
    "sns.distplot(f, kde=False, color=\"b\", hist_kws={\"histtype\":'step',\"linewidth\":3,\"alpha\":0.7},axlabel= False,ax=axes[0, 0])\n",
    "\n",
    "# Plot a kernel density estimate and rug plot\n",
    "sns.distplot(d, hist=False, rug=True, color=\"r\", axlabel= False,ax=axes[0, 1],label=\"Control\")\n",
    "sns.distplot(e, hist=False, rug=True, color=\"g\", axlabel= False,ax=axes[0, 1],label=\"Mint\")\n",
    "sns.distplot(f, hist=False, rug=True, color=\"b\", axlabel= False,ax=axes[0, 1],label=\"Hexanal\")\n",
    "\n",
    "# Plot a filled kernel density estimate\n",
    "sns.distplot(d, hist=False, color=\"r\", kde_kws={\"shade\": True}, axlabel=False,ax=axes[1, 0])\n",
    "sns.distplot(e, hist=False, color=\"g\", kde_kws={\"shade\": True}, axlabel=False,ax=axes[1, 0])\n",
    "sns.distplot(f, hist=False, color=\"b\", kde_kws={\"shade\": True}, axlabel= False,ax=axes[1, 0])\n",
    "\n",
    "# Plot a historgram and kernel density estimate\n",
    "sns.distplot(d, color=\"r\",axlabel= False,ax=axes[1, 1])\n",
    "sns.distplot(e, color=\"g\",axlabel= False,ax=axes[1, 1])\n",
    "sns.distplot(f, color=\"b\",axlabel= False,ax=axes[1, 1])\n",
    "\n",
    "plt.setp(axes, yticks=[])\n",
    "plt.tight_layout()"
   ]
  },
  {
   "cell_type": "code",
   "execution_count": 407,
   "metadata": {
    "collapsed": false,
    "scrolled": true
   },
   "outputs": [
    {
     "data": {
      "text/plain": [
       "KruskalResult(statistic=17.779511707365906, pvalue=0.00013779329560080323)"
      ]
     },
     "execution_count": 407,
     "metadata": {},
     "output_type": "execute_result"
    }
   ],
   "source": [
    "kruskal(MS001_full[MS001_full['Group'] == 'Control']['MS 0.01'],MS001_full[MS001_full['Group'] == 'Mint']['MS 0.01'],MS001_full[MS001_full['Group'] == 'Hexanal']['MS 0.01'],nan_policy='omit')"
   ]
  },
  {
   "cell_type": "markdown",
   "metadata": {},
   "source": [
    "# MS 0.05"
   ]
  },
  {
   "cell_type": "code",
   "execution_count": 408,
   "metadata": {
    "collapsed": false
   },
   "outputs": [],
   "source": [
    "MS005_full=composite_full[['Group','MS 0.05']]\n",
    "MS005df=pd.melt(MS005_full,\"Group\",var_name=\"Odor\")"
   ]
  },
  {
   "cell_type": "code",
   "execution_count": 409,
   "metadata": {
    "collapsed": false
   },
   "outputs": [],
   "source": [
    "sns.set(style=\"white\", palette=\"muted\", color_codes=True);\n",
    "sns.set_context(\"talk\",font_scale=3);\n",
    "plt.figure(figsize=(15,18));\n",
    "sns.barplot(x=\"Odor\", y=\"value\", hue=\"Group\",palette={\"Control\": \"r\", \"Hexanal\": \"b\",\"Mint\":\"g\"}, data=MS005df);\n",
    "sns.despine();\n",
    "plt.legend(loc='upper right');\n",
    "plt.ylabel('Peak DF/F');\n",
    "plt.title('Peak DF/F');"
   ]
  },
  {
   "cell_type": "code",
   "execution_count": 410,
   "metadata": {
    "collapsed": false
   },
   "outputs": [],
   "source": [
    "sns.set(style=\"white\", palette=\"muted\", color_codes=True);\n",
    "sns.set_context(\"talk\",font_scale=3);\n",
    "plt.figure(figsize=(15,18));\n",
    "sns.boxplot(x=\"Odor\", y=\"value\", hue=\"Group\",palette={\"Control\": \"r\", \"Hexanal\": \"b\",\"Mint\":\"g\"}, data=MS005df);\n",
    "sns.despine();\n",
    "plt.legend(loc='upper right');\n",
    "plt.ylabel('Peak DF/F');\n",
    "plt.title('Peak DF/F');\n",
    "plt.xlabel('Odor');"
   ]
  },
  {
   "cell_type": "code",
   "execution_count": 411,
   "metadata": {
    "collapsed": true
   },
   "outputs": [
    {
     "data": {
      "text/html": [
       "<div>\n",
       "<table border=\"1\" class=\"dataframe\">\n",
       "  <thead>\n",
       "    <tr style=\"text-align: right;\">\n",
       "      <th></th>\n",
       "      <th>Group</th>\n",
       "      <th>MS 0.05</th>\n",
       "    </tr>\n",
       "  </thead>\n",
       "  <tbody>\n",
       "    <tr>\n",
       "      <th>266</th>\n",
       "      <td>Hexanal</td>\n",
       "      <td>0.096774</td>\n",
       "    </tr>\n",
       "    <tr>\n",
       "      <th>267</th>\n",
       "      <td>Hexanal</td>\n",
       "      <td>0.081605</td>\n",
       "    </tr>\n",
       "    <tr>\n",
       "      <th>268</th>\n",
       "      <td>Hexanal</td>\n",
       "      <td>0.158723</td>\n",
       "    </tr>\n",
       "    <tr>\n",
       "      <th>269</th>\n",
       "      <td>Hexanal</td>\n",
       "      <td>0.024024</td>\n",
       "    </tr>\n",
       "    <tr>\n",
       "      <th>270</th>\n",
       "      <td>Hexanal</td>\n",
       "      <td>0.014518</td>\n",
       "    </tr>\n",
       "  </tbody>\n",
       "</table>\n",
       "</div>"
      ],
      "text/plain": [
       "       Group   MS 0.05\n",
       "266  Hexanal  0.096774\n",
       "267  Hexanal  0.081605\n",
       "268  Hexanal  0.158723\n",
       "269  Hexanal  0.024024\n",
       "270  Hexanal  0.014518"
      ]
     },
     "execution_count": 411,
     "metadata": {},
     "output_type": "execute_result"
    }
   ],
   "source": [
    "MS005ctrl=MS005_full[MS005_full['Group'] == 'Control']\n",
    "MS005MS=MS005_full[MS005_full['Group'] == 'Mint']\n",
    "MS005H=MS005_full[MS005_full['Group'] == 'Hexanal']\n",
    "MS005H.head()"
   ]
  },
  {
   "cell_type": "code",
   "execution_count": 412,
   "metadata": {
    "collapsed": true
   },
   "outputs": [],
   "source": [
    "sns.set(style=\"white\", palette=\"muted\", color_codes=True)\n",
    "sns.set_context(\"talk\", font_scale=2)\n",
    "# Set up the matplotlib figure\n",
    "f, axes = plt.subplots(2, 2, figsize=(30,20), sharex=True)\n",
    "# f.suptitle(\"MS 0.05\", fontsize=44)\n",
    "sns.despine(left=True)\n",
    "\n",
    "#data\n",
    "d = MS005ctrl['MS 0.05']\n",
    "e = MS005MS['MS 0.05']\n",
    "f = MS005H['MS 0.05']\n",
    "\n",
    "# Plot a simple histogram with binsize determined automatically\n",
    "sns.distplot(d, kde=False, color=\"r\", hist_kws={\"histtype\":'step',\"linewidth\":3,\"alpha\":0.7},axlabel= False,ax=axes[0, 0])\n",
    "sns.distplot(e, kde=False, color=\"g\", hist_kws={\"histtype\":'step',\"linewidth\":3,\"alpha\":0.7},axlabel= False,ax=axes[0, 0])\n",
    "sns.distplot(f, kde=False, color=\"b\", hist_kws={\"histtype\":'step',\"linewidth\":3,\"alpha\":0.7},axlabel= False,ax=axes[0, 0])\n",
    "\n",
    "# Plot a kernel density estimate and rug plot\n",
    "sns.distplot(d, hist=False, rug=True, color=\"r\", axlabel= False,ax=axes[0, 1],label=\"Control\")\n",
    "sns.distplot(e, hist=False, rug=True, color=\"g\", axlabel= False,ax=axes[0, 1],label=\"Mint\")\n",
    "sns.distplot(f, hist=False, rug=True, color=\"b\", axlabel= False,ax=axes[0, 1],label=\"Hexanal\")\n",
    "\n",
    "# Plot a filled kernel density estimate\n",
    "sns.distplot(d, hist=False, color=\"r\", kde_kws={\"shade\": True}, axlabel=False,ax=axes[1, 0])\n",
    "sns.distplot(e, hist=False, color=\"g\", kde_kws={\"shade\": True}, axlabel=False,ax=axes[1, 0])\n",
    "sns.distplot(f, hist=False, color=\"b\", kde_kws={\"shade\": True}, axlabel= False,ax=axes[1, 0])\n",
    "\n",
    "# Plot a historgram and kernel density estimate\n",
    "sns.distplot(d, color=\"r\",axlabel= False,ax=axes[1, 1])\n",
    "sns.distplot(e, color=\"g\",axlabel= False,ax=axes[1, 1])\n",
    "sns.distplot(f, color=\"b\",axlabel= False,ax=axes[1, 1])\n",
    "\n",
    "plt.setp(axes, yticks=[])\n",
    "plt.tight_layout()"
   ]
  },
  {
   "cell_type": "code",
   "execution_count": 413,
   "metadata": {
    "collapsed": false,
    "scrolled": true
   },
   "outputs": [
    {
     "data": {
      "text/plain": [
       "KruskalResult(statistic=22.348493455193285, pvalue=1.4030925116132286e-05)"
      ]
     },
     "execution_count": 413,
     "metadata": {},
     "output_type": "execute_result"
    }
   ],
   "source": [
    "kruskal(MS005_full[MS005_full['Group'] == 'Control']['MS 0.05'],MS005_full[MS005_full['Group'] == 'Mint']['MS 0.05'],MS005_full[MS005_full['Group'] == 'Hexanal']['MS 0.05'],nan_policy='omit')"
   ]
  },
  {
   "cell_type": "markdown",
   "metadata": {},
   "source": [
    "# MS 0.1"
   ]
  },
  {
   "cell_type": "code",
   "execution_count": 414,
   "metadata": {
    "collapsed": false
   },
   "outputs": [],
   "source": [
    "MS10_full=composite_full[['Group','MS 0.1']]\n",
    "MS10df=pd.melt(MS10_full,\"Group\",var_name=\"Odor\")"
   ]
  },
  {
   "cell_type": "code",
   "execution_count": 415,
   "metadata": {
    "collapsed": false
   },
   "outputs": [],
   "source": [
    "sns.set(style=\"white\", palette=\"muted\", color_codes=True);\n",
    "sns.set_context(\"talk\",font_scale=3);\n",
    "plt.figure(figsize=(15,18));\n",
    "sns.barplot(x=\"Odor\", y=\"value\", hue=\"Group\",palette={\"Control\": \"r\", \"Hexanal\": \"b\",\"Mint\":\"g\"}, data=MS10df);\n",
    "sns.despine();\n",
    "plt.legend(loc='upper right');\n",
    "plt.ylabel('Peak DF/F');\n",
    "plt.title('Peak DF/F');"
   ]
  },
  {
   "cell_type": "code",
   "execution_count": 416,
   "metadata": {
    "collapsed": false
   },
   "outputs": [],
   "source": [
    "sns.set(style=\"white\", palette=\"muted\", color_codes=True);\n",
    "sns.set_context(\"talk\",font_scale=3);\n",
    "plt.figure(figsize=(15,18));\n",
    "sns.boxplot(x=\"Odor\", y=\"value\", hue=\"Group\",palette={\"Control\": \"r\", \"Hexanal\": \"b\",\"Mint\":\"g\"}, data=MS10df);\n",
    "sns.despine();\n",
    "plt.legend(loc='upper right');\n",
    "plt.ylabel('Peak DF/F');\n",
    "plt.title('Peak DF/F');\n",
    "plt.xlabel('Odor');"
   ]
  },
  {
   "cell_type": "code",
   "execution_count": 417,
   "metadata": {
    "collapsed": true
   },
   "outputs": [
    {
     "data": {
      "text/html": [
       "<div>\n",
       "<table border=\"1\" class=\"dataframe\">\n",
       "  <thead>\n",
       "    <tr style=\"text-align: right;\">\n",
       "      <th></th>\n",
       "      <th>Group</th>\n",
       "      <th>MS 0.1</th>\n",
       "    </tr>\n",
       "  </thead>\n",
       "  <tbody>\n",
       "    <tr>\n",
       "      <th>266</th>\n",
       "      <td>Hexanal</td>\n",
       "      <td>0.149891</td>\n",
       "    </tr>\n",
       "    <tr>\n",
       "      <th>267</th>\n",
       "      <td>Hexanal</td>\n",
       "      <td>0.094942</td>\n",
       "    </tr>\n",
       "    <tr>\n",
       "      <th>268</th>\n",
       "      <td>Hexanal</td>\n",
       "      <td>0.250858</td>\n",
       "    </tr>\n",
       "    <tr>\n",
       "      <th>269</th>\n",
       "      <td>Hexanal</td>\n",
       "      <td>0.048251</td>\n",
       "    </tr>\n",
       "    <tr>\n",
       "      <th>270</th>\n",
       "      <td>Hexanal</td>\n",
       "      <td>0.080076</td>\n",
       "    </tr>\n",
       "  </tbody>\n",
       "</table>\n",
       "</div>"
      ],
      "text/plain": [
       "       Group    MS 0.1\n",
       "266  Hexanal  0.149891\n",
       "267  Hexanal  0.094942\n",
       "268  Hexanal  0.250858\n",
       "269  Hexanal  0.048251\n",
       "270  Hexanal  0.080076"
      ]
     },
     "execution_count": 417,
     "metadata": {},
     "output_type": "execute_result"
    }
   ],
   "source": [
    "MS10ctrl=MS10_full[MS10_full['Group'] == 'Control']\n",
    "MS10MS=MS10_full[MS10_full['Group'] == 'Mint']\n",
    "MS10H=MS10_full[MS10_full['Group'] == 'Hexanal']\n",
    "MS10H.head()"
   ]
  },
  {
   "cell_type": "code",
   "execution_count": 418,
   "metadata": {
    "collapsed": true
   },
   "outputs": [],
   "source": [
    "sns.set(style=\"white\", palette=\"muted\", color_codes=True)\n",
    "sns.set_context(\"talk\", font_scale=2)\n",
    "# Set up the matplotlib figure\n",
    "f, axes = plt.subplots(2, 2, figsize=(30,20), sharex=True)\n",
    "# f.suptitle(\"MS 0.1\", fontsize=44)\n",
    "sns.despine(left=True)\n",
    "\n",
    "#data\n",
    "d = MS10ctrl['MS 0.1']\n",
    "e = MS10MS['MS 0.1']\n",
    "f = MS10H['MS 0.1']\n",
    "\n",
    "# Plot a simple histogram with binsize determined automatically\n",
    "sns.distplot(d, kde=False, color=\"r\", hist_kws={\"histtype\":'step',\"linewidth\":3,\"alpha\":0.7},axlabel= False,ax=axes[0, 0])\n",
    "sns.distplot(e, kde=False, color=\"g\", hist_kws={\"histtype\":'step',\"linewidth\":3,\"alpha\":0.7},axlabel= False,ax=axes[0, 0])\n",
    "sns.distplot(f, kde=False, color=\"b\", hist_kws={\"histtype\":'step',\"linewidth\":3,\"alpha\":0.7},axlabel= False,ax=axes[0, 0])\n",
    "\n",
    "# Plot a kernel density estimate and rug plot\n",
    "sns.distplot(d, hist=False, rug=True, color=\"r\", axlabel= False,ax=axes[0, 1],label=\"Control\")\n",
    "sns.distplot(e, hist=False, rug=True, color=\"g\", axlabel= False,ax=axes[0, 1],label=\"Mint\")\n",
    "sns.distplot(f, hist=False, rug=True, color=\"b\", axlabel= False,ax=axes[0, 1],label=\"Hexanal\")\n",
    "\n",
    "# Plot a filled kernel density estimate\n",
    "sns.distplot(d, hist=False, color=\"r\", kde_kws={\"shade\": True}, axlabel=False,ax=axes[1, 0])\n",
    "sns.distplot(e, hist=False, color=\"g\", kde_kws={\"shade\": True}, axlabel=False,ax=axes[1, 0])\n",
    "sns.distplot(f, hist=False, color=\"b\", kde_kws={\"shade\": True}, axlabel= False,ax=axes[1, 0])\n",
    "\n",
    "# Plot a historgram and kernel density estimate\n",
    "sns.distplot(d, color=\"r\",axlabel= False,ax=axes[1, 1])\n",
    "sns.distplot(e, color=\"g\",axlabel= False,ax=axes[1, 1])\n",
    "sns.distplot(f, color=\"b\",axlabel= False,ax=axes[1, 1])\n",
    "\n",
    "plt.setp(axes, yticks=[])\n",
    "plt.tight_layout()"
   ]
  },
  {
   "cell_type": "code",
   "execution_count": 126,
   "metadata": {
    "collapsed": false
   },
   "outputs": [
    {
     "data": {
      "text/plain": [
       "KruskalResult(statistic=26.646950444965789, pvalue=1.6356419143785338e-06)"
      ]
     },
     "execution_count": 126,
     "metadata": {},
     "output_type": "execute_result"
    }
   ],
   "source": [
    "kruskal(THA_full[THA_full['Group'] == 'Control']['THA'],THA_full[THA_full['Group'] == 'Mint']['THA'],THA_full[THA_full['Group'] == 'Hexanal']['THA'],nan_policy='omit')"
   ]
  },
  {
   "cell_type": "markdown",
   "metadata": {},
   "source": [
    "# IAA 1%"
   ]
  },
  {
   "cell_type": "code",
   "execution_count": 419,
   "metadata": {
    "collapsed": false
   },
   "outputs": [],
   "source": [
    "IAA001_full=composite_full[['Group','IAA 0.01']]\n",
    "IAA001df=pd.melt(IAA001_full,\"Group\",var_name=\"Odor\")"
   ]
  },
  {
   "cell_type": "code",
   "execution_count": 420,
   "metadata": {
    "collapsed": false
   },
   "outputs": [],
   "source": [
    "sns.set(style=\"white\", palette=\"muted\", color_codes=True);\n",
    "sns.set_context(\"talk\",font_scale=3);\n",
    "plt.figure(figsize=(15,18));\n",
    "sns.barplot(x=\"Odor\", y=\"value\", hue=\"Group\",palette={\"Control\": \"r\", \"Hexanal\": \"b\",\"Mint\":\"g\"}, data=IAA001df);\n",
    "sns.despine();\n",
    "plt.legend(loc='upper right');\n",
    "plt.ylabel('Peak DF/F');\n",
    "plt.title('Peak DF/F');"
   ]
  },
  {
   "cell_type": "code",
   "execution_count": 421,
   "metadata": {
    "collapsed": false
   },
   "outputs": [],
   "source": [
    "sns.set(style=\"white\", palette=\"muted\", color_codes=True);\n",
    "sns.set_context(\"talk\",font_scale=3);\n",
    "plt.figure(figsize=(15,18));\n",
    "sns.boxplot(x=\"Odor\", y=\"value\", hue=\"Group\",palette={\"Control\": \"r\", \"Hexanal\": \"b\",\"Mint\":\"g\"}, data=IAA001df);\n",
    "sns.despine();\n",
    "plt.legend(loc='upper right');\n",
    "plt.ylabel('Peak DF/F');\n",
    "plt.title('Peak DF/F');\n",
    "plt.xlabel('Odor');"
   ]
  },
  {
   "cell_type": "code",
   "execution_count": 422,
   "metadata": {
    "collapsed": true
   },
   "outputs": [
    {
     "data": {
      "text/html": [
       "<div>\n",
       "<table border=\"1\" class=\"dataframe\">\n",
       "  <thead>\n",
       "    <tr style=\"text-align: right;\">\n",
       "      <th></th>\n",
       "      <th>Group</th>\n",
       "      <th>IAA 0.01</th>\n",
       "    </tr>\n",
       "  </thead>\n",
       "  <tbody>\n",
       "    <tr>\n",
       "      <th>266</th>\n",
       "      <td>Hexanal</td>\n",
       "      <td>0.210982</td>\n",
       "    </tr>\n",
       "    <tr>\n",
       "      <th>267</th>\n",
       "      <td>Hexanal</td>\n",
       "      <td>0.207433</td>\n",
       "    </tr>\n",
       "    <tr>\n",
       "      <th>268</th>\n",
       "      <td>Hexanal</td>\n",
       "      <td>0.350660</td>\n",
       "    </tr>\n",
       "    <tr>\n",
       "      <th>269</th>\n",
       "      <td>Hexanal</td>\n",
       "      <td>0.099299</td>\n",
       "    </tr>\n",
       "    <tr>\n",
       "      <th>270</th>\n",
       "      <td>Hexanal</td>\n",
       "      <td>0.103156</td>\n",
       "    </tr>\n",
       "  </tbody>\n",
       "</table>\n",
       "</div>"
      ],
      "text/plain": [
       "       Group  IAA 0.01\n",
       "266  Hexanal  0.210982\n",
       "267  Hexanal  0.207433\n",
       "268  Hexanal  0.350660\n",
       "269  Hexanal  0.099299\n",
       "270  Hexanal  0.103156"
      ]
     },
     "execution_count": 422,
     "metadata": {},
     "output_type": "execute_result"
    }
   ],
   "source": [
    "IAA001ctrl=IAA001_full[IAA001_full['Group'] == 'Control']\n",
    "IAA001MS=IAA001_full[IAA001_full['Group'] == 'Mint']\n",
    "IAA001H=IAA001_full[IAA001_full['Group'] == 'Hexanal']\n",
    "IAA001H.head()"
   ]
  },
  {
   "cell_type": "code",
   "execution_count": 423,
   "metadata": {
    "collapsed": true
   },
   "outputs": [],
   "source": [
    "sns.set(style=\"white\", palette=\"muted\", color_codes=True)\n",
    "sns.set_context(\"talk\", font_scale=2)\n",
    "# Set up the matplotlib figure\n",
    "f, axes = plt.subplots(2, 2, figsize=(30,20), sharex=True)\n",
    "# f.suptitle(\"IAA 0.01\", fontsize=44)\n",
    "sns.despine(left=True)\n",
    "\n",
    "#data\n",
    "d = IAA001ctrl['IAA 0.01']\n",
    "e = IAA001MS['IAA 0.01']\n",
    "f = IAA001H['IAA 0.01']\n",
    "\n",
    "# Plot a simple histogram with binsize determined automatically\n",
    "sns.distplot(d, kde=False, color=\"r\", hist_kws={\"histtype\":'step',\"linewidth\":3,\"alpha\":0.7},axlabel= False,ax=axes[0, 0])\n",
    "sns.distplot(e, kde=False, color=\"g\", hist_kws={\"histtype\":'step',\"linewidth\":3,\"alpha\":0.7},axlabel= False,ax=axes[0, 0])\n",
    "sns.distplot(f, kde=False, color=\"b\", hist_kws={\"histtype\":'step',\"linewidth\":3,\"alpha\":0.7},axlabel= False,ax=axes[0, 0])\n",
    "\n",
    "# Plot a kernel density estimate and rug plot\n",
    "sns.distplot(d, hist=False, rug=True, color=\"r\", axlabel= False,ax=axes[0, 1],label=\"Control\")\n",
    "sns.distplot(e, hist=False, rug=True, color=\"g\", axlabel= False,ax=axes[0, 1],label=\"Mint\")\n",
    "sns.distplot(f, hist=False, rug=True, color=\"b\", axlabel= False,ax=axes[0, 1],label=\"Hexanal\")\n",
    "\n",
    "# Plot a filled kernel density estimate\n",
    "sns.distplot(d, hist=False, color=\"r\", kde_kws={\"shade\": True}, axlabel=False,ax=axes[1, 0])\n",
    "sns.distplot(e, hist=False, color=\"g\", kde_kws={\"shade\": True}, axlabel=False,ax=axes[1, 0])\n",
    "sns.distplot(f, hist=False, color=\"b\", kde_kws={\"shade\": True}, axlabel= False,ax=axes[1, 0])\n",
    "\n",
    "# Plot a historgram and kernel density estimate\n",
    "sns.distplot(d, color=\"r\",axlabel= False,ax=axes[1, 1])\n",
    "sns.distplot(e, color=\"g\",axlabel= False,ax=axes[1, 1])\n",
    "sns.distplot(f, color=\"b\",axlabel= False,ax=axes[1, 1])\n",
    "\n",
    "plt.setp(axes, yticks=[])\n",
    "plt.tight_layout()"
   ]
  },
  {
   "cell_type": "code",
   "execution_count": 424,
   "metadata": {
    "collapsed": false,
    "scrolled": true
   },
   "outputs": [
    {
     "data": {
      "text/plain": [
       "KruskalResult(statistic=22.979999688546172, pvalue=1.0231904325257964e-05)"
      ]
     },
     "execution_count": 424,
     "metadata": {},
     "output_type": "execute_result"
    }
   ],
   "source": [
    "kruskal(IAA001_full[IAA001_full['Group'] == 'Control']['IAA 0.01'],IAA001_full[IAA001_full['Group'] == 'Mint']['IAA 0.01'],IAA001_full[IAA001_full['Group'] == 'Hexanal']['IAA 0.01'],nan_policy='omit')"
   ]
  },
  {
   "cell_type": "markdown",
   "metadata": {},
   "source": [
    "# IAA 0.05"
   ]
  },
  {
   "cell_type": "code",
   "execution_count": 425,
   "metadata": {
    "collapsed": false
   },
   "outputs": [],
   "source": [
    "IAA005_full=composite_full[['Group','IAA 0.05']]\n",
    "IAA005df=pd.melt(IAA005_full,\"Group\",var_name=\"Odor\")"
   ]
  },
  {
   "cell_type": "code",
   "execution_count": 426,
   "metadata": {
    "collapsed": false
   },
   "outputs": [],
   "source": [
    "sns.set(style=\"white\", palette=\"muted\", color_codes=True);\n",
    "sns.set_context(\"talk\",font_scale=3);\n",
    "plt.figure(figsize=(15,18));\n",
    "sns.barplot(x=\"Odor\", y=\"value\", hue=\"Group\",palette={\"Control\": \"r\", \"Hexanal\": \"b\",\"Mint\":\"g\"}, data=IAA005df);\n",
    "sns.despine();\n",
    "plt.legend(loc='upper right');\n",
    "plt.ylabel('Peak DF/F');\n",
    "plt.title('Peak DF/F');"
   ]
  },
  {
   "cell_type": "code",
   "execution_count": 427,
   "metadata": {
    "collapsed": false
   },
   "outputs": [],
   "source": [
    "sns.set(style=\"white\", palette=\"muted\", color_codes=True);\n",
    "sns.set_context(\"talk\",font_scale=3);\n",
    "plt.figure(figsize=(15,18));\n",
    "sns.boxplot(x=\"Odor\", y=\"value\", hue=\"Group\",palette={\"Control\": \"r\", \"Hexanal\": \"b\",\"Mint\":\"g\"}, data=IAA005df);\n",
    "sns.despine();\n",
    "plt.legend(loc='upper right');\n",
    "plt.ylabel('Peak DF/F');\n",
    "plt.title('Peak DF/F');\n",
    "plt.xlabel('Odor');"
   ]
  },
  {
   "cell_type": "code",
   "execution_count": 428,
   "metadata": {
    "collapsed": true
   },
   "outputs": [
    {
     "data": {
      "text/html": [
       "<div>\n",
       "<table border=\"1\" class=\"dataframe\">\n",
       "  <thead>\n",
       "    <tr style=\"text-align: right;\">\n",
       "      <th></th>\n",
       "      <th>Group</th>\n",
       "      <th>IAA 0.05</th>\n",
       "    </tr>\n",
       "  </thead>\n",
       "  <tbody>\n",
       "    <tr>\n",
       "      <th>266</th>\n",
       "      <td>Hexanal</td>\n",
       "      <td>0.082528</td>\n",
       "    </tr>\n",
       "    <tr>\n",
       "      <th>267</th>\n",
       "      <td>Hexanal</td>\n",
       "      <td>0.068120</td>\n",
       "    </tr>\n",
       "    <tr>\n",
       "      <th>268</th>\n",
       "      <td>Hexanal</td>\n",
       "      <td>0.130934</td>\n",
       "    </tr>\n",
       "    <tr>\n",
       "      <th>269</th>\n",
       "      <td>Hexanal</td>\n",
       "      <td>0.042892</td>\n",
       "    </tr>\n",
       "    <tr>\n",
       "      <th>270</th>\n",
       "      <td>Hexanal</td>\n",
       "      <td>0.026460</td>\n",
       "    </tr>\n",
       "  </tbody>\n",
       "</table>\n",
       "</div>"
      ],
      "text/plain": [
       "       Group  IAA 0.05\n",
       "266  Hexanal  0.082528\n",
       "267  Hexanal  0.068120\n",
       "268  Hexanal  0.130934\n",
       "269  Hexanal  0.042892\n",
       "270  Hexanal  0.026460"
      ]
     },
     "execution_count": 428,
     "metadata": {},
     "output_type": "execute_result"
    }
   ],
   "source": [
    "IAA005ctrl=IAA005_full[IAA005_full['Group'] == 'Control']\n",
    "IAA005MS=IAA005_full[IAA005_full['Group'] == 'Mint']\n",
    "IAA005H=IAA005_full[IAA005_full['Group'] == 'Hexanal']\n",
    "IAA005H.head()"
   ]
  },
  {
   "cell_type": "code",
   "execution_count": 429,
   "metadata": {
    "collapsed": true
   },
   "outputs": [],
   "source": [
    "sns.set(style=\"white\", palette=\"muted\", color_codes=True)\n",
    "sns.set_context(\"talk\", font_scale=2)\n",
    "# Set up the matplotlib figure\n",
    "f, axes = plt.subplots(2, 2, figsize=(30,20), sharex=True)\n",
    "# f.suptitle(\"IAA 0.05\", fontsize=44)\n",
    "sns.despine(left=True)\n",
    "\n",
    "#data\n",
    "d = IAA005ctrl['IAA 0.05']\n",
    "e = IAA005MS['IAA 0.05']\n",
    "f = IAA005H['IAA 0.05']\n",
    "\n",
    "# Plot a simple histogram with binsize determined automatically\n",
    "sns.distplot(d, kde=False, color=\"r\", hist_kws={\"histtype\":'step',\"linewidth\":3,\"alpha\":0.7},axlabel= False,ax=axes[0, 0])\n",
    "sns.distplot(e, kde=False, color=\"g\", hist_kws={\"histtype\":'step',\"linewidth\":3,\"alpha\":0.7},axlabel= False,ax=axes[0, 0])\n",
    "sns.distplot(f, kde=False, color=\"b\", hist_kws={\"histtype\":'step',\"linewidth\":3,\"alpha\":0.7},axlabel= False,ax=axes[0, 0])\n",
    "\n",
    "# Plot a kernel density estimate and rug plot\n",
    "sns.distplot(d, hist=False, rug=True, color=\"r\", axlabel= False,ax=axes[0, 1],label=\"Control\")\n",
    "sns.distplot(e, hist=False, rug=True, color=\"g\", axlabel= False,ax=axes[0, 1],label=\"Mint\")\n",
    "sns.distplot(f, hist=False, rug=True, color=\"b\", axlabel= False,ax=axes[0, 1],label=\"Hexanal\")\n",
    "\n",
    "# Plot a filled kernel density estimate\n",
    "sns.distplot(d, hist=False, color=\"r\", kde_kws={\"shade\": True}, axlabel=False,ax=axes[1, 0])\n",
    "sns.distplot(e, hist=False, color=\"g\", kde_kws={\"shade\": True}, axlabel=False,ax=axes[1, 0])\n",
    "sns.distplot(f, hist=False, color=\"b\", kde_kws={\"shade\": True}, axlabel= False,ax=axes[1, 0])\n",
    "\n",
    "# Plot a historgram and kernel density estimate\n",
    "sns.distplot(d, color=\"r\",axlabel= False,ax=axes[1, 1])\n",
    "sns.distplot(e, color=\"g\",axlabel= False,ax=axes[1, 1])\n",
    "sns.distplot(f, color=\"b\",axlabel= False,ax=axes[1, 1])\n",
    "\n",
    "plt.setp(axes, yticks=[])\n",
    "plt.tight_layout()"
   ]
  },
  {
   "cell_type": "code",
   "execution_count": 430,
   "metadata": {
    "collapsed": false
   },
   "outputs": [
    {
     "data": {
      "text/plain": [
       "KruskalResult(statistic=7.2116318108394726, pvalue=0.027165271476384416)"
      ]
     },
     "execution_count": 430,
     "metadata": {},
     "output_type": "execute_result"
    }
   ],
   "source": [
    "kruskal(IAA005_full[IAA005_full['Group'] == 'Control']['IAA 0.05'],IAA005_full[IAA005_full['Group'] == 'Mint']['IAA 0.05'],IAA005_full[IAA005_full['Group'] == 'Hexanal']['IAA 0.05'],nan_policy='omit')"
   ]
  },
  {
   "cell_type": "markdown",
   "metadata": {},
   "source": [
    "# IAA 0.1"
   ]
  },
  {
   "cell_type": "code",
   "execution_count": 437,
   "metadata": {
    "collapsed": false
   },
   "outputs": [],
   "source": [
    "IAA10_full=composite_full[['Group','IAA 0.1']]\n",
    "IAA10df=pd.melt(IAA10_full,\"Group\",var_name=\"Odor\")"
   ]
  },
  {
   "cell_type": "code",
   "execution_count": 438,
   "metadata": {
    "collapsed": false
   },
   "outputs": [],
   "source": [
    "sns.set(style=\"white\", palette=\"muted\", color_codes=True);\n",
    "sns.set_context(\"talk\",font_scale=3);\n",
    "plt.figure(figsize=(15,18));\n",
    "sns.barplot(x=\"Odor\", y=\"value\", hue=\"Group\",palette={\"Control\": \"r\", \"Hexanal\": \"b\",\"Mint\":\"g\"}, data=IAA10df);\n",
    "sns.despine();\n",
    "plt.legend(loc='upper right');\n",
    "plt.ylabel('Peak DF/F');\n",
    "plt.title('Peak DF/F');"
   ]
  },
  {
   "cell_type": "code",
   "execution_count": 439,
   "metadata": {
    "collapsed": false
   },
   "outputs": [],
   "source": [
    "sns.set(style=\"white\", palette=\"muted\", color_codes=True);\n",
    "sns.set_context(\"talk\",font_scale=3);\n",
    "plt.figure(figsize=(15,18));\n",
    "sns.boxplot(x=\"Odor\", y=\"value\", hue=\"Group\",palette={\"Control\": \"r\", \"Hexanal\": \"b\",\"Mint\":\"g\"}, data=IAA10df);\n",
    "sns.despine();\n",
    "plt.legend(loc='upper right');\n",
    "plt.ylabel('Peak DF/F');\n",
    "plt.title('Peak DF/F');\n",
    "plt.xlabel('Odor');"
   ]
  },
  {
   "cell_type": "code",
   "execution_count": 440,
   "metadata": {
    "collapsed": false
   },
   "outputs": [
    {
     "data": {
      "text/html": [
       "<div>\n",
       "<table border=\"1\" class=\"dataframe\">\n",
       "  <thead>\n",
       "    <tr style=\"text-align: right;\">\n",
       "      <th></th>\n",
       "      <th>Group</th>\n",
       "      <th>IAA 0.1</th>\n",
       "    </tr>\n",
       "  </thead>\n",
       "  <tbody>\n",
       "    <tr>\n",
       "      <th>266</th>\n",
       "      <td>Hexanal</td>\n",
       "      <td>0.382490</td>\n",
       "    </tr>\n",
       "    <tr>\n",
       "      <th>267</th>\n",
       "      <td>Hexanal</td>\n",
       "      <td>0.402160</td>\n",
       "    </tr>\n",
       "    <tr>\n",
       "      <th>268</th>\n",
       "      <td>Hexanal</td>\n",
       "      <td>0.439151</td>\n",
       "    </tr>\n",
       "    <tr>\n",
       "      <th>269</th>\n",
       "      <td>Hexanal</td>\n",
       "      <td>0.090707</td>\n",
       "    </tr>\n",
       "    <tr>\n",
       "      <th>270</th>\n",
       "      <td>Hexanal</td>\n",
       "      <td>0.154604</td>\n",
       "    </tr>\n",
       "  </tbody>\n",
       "</table>\n",
       "</div>"
      ],
      "text/plain": [
       "       Group   IAA 0.1\n",
       "266  Hexanal  0.382490\n",
       "267  Hexanal  0.402160\n",
       "268  Hexanal  0.439151\n",
       "269  Hexanal  0.090707\n",
       "270  Hexanal  0.154604"
      ]
     },
     "execution_count": 440,
     "metadata": {},
     "output_type": "execute_result"
    }
   ],
   "source": [
    "IAA10ctrl=IAA10_full[IAA10_full['Group'] == 'Control']\n",
    "IAA10MS=IAA10_full[IAA10_full['Group'] == 'Mint']\n",
    "IAA10H=IAA10_full[IAA10_full['Group'] == 'Hexanal']\n",
    "IAA10H.head()"
   ]
  },
  {
   "cell_type": "code",
   "execution_count": 441,
   "metadata": {
    "collapsed": true
   },
   "outputs": [],
   "source": [
    "sns.set(style=\"white\", palette=\"muted\", color_codes=True)\n",
    "sns.set_context(\"talk\", font_scale=2)\n",
    "# Set up the matplotlib figure\n",
    "f, axes = plt.subplots(2, 2, figsize=(30,20), sharex=True)\n",
    "# f.suptitle(\"IAA 0.1\", fontsize=44)\n",
    "sns.despine(left=True)\n",
    "\n",
    "#data\n",
    "d = IAA10ctrl['IAA 0.1']\n",
    "e = IAA10MS['IAA 0.1']\n",
    "f = IAA10H['IAA 0.1']\n",
    "\n",
    "# Plot a simple histogram with binsize determined automatically\n",
    "sns.distplot(d, kde=False, color=\"r\", hist_kws={\"histtype\":'step',\"linewidth\":3,\"alpha\":0.7},axlabel= False,ax=axes[0, 0])\n",
    "sns.distplot(e, kde=False, color=\"g\", hist_kws={\"histtype\":'step',\"linewidth\":3,\"alpha\":0.7},axlabel= False,ax=axes[0, 0])\n",
    "sns.distplot(f, kde=False, color=\"b\", hist_kws={\"histtype\":'step',\"linewidth\":3,\"alpha\":0.7},axlabel= False,ax=axes[0, 0])\n",
    "\n",
    "# Plot a kernel density estimate and rug plot\n",
    "sns.distplot(d, hist=False, rug=True, color=\"r\", axlabel= False,ax=axes[0, 1],label=\"Control\")\n",
    "sns.distplot(e, hist=False, rug=True, color=\"g\", axlabel= False,ax=axes[0, 1],label=\"Mint\")\n",
    "sns.distplot(f, hist=False, rug=True, color=\"b\", axlabel= False,ax=axes[0, 1],label=\"Hexanal\")\n",
    "\n",
    "# Plot a filled kernel density estimate\n",
    "sns.distplot(d, hist=False, color=\"r\", kde_kws={\"shade\": True}, axlabel=False,ax=axes[1, 0])\n",
    "sns.distplot(e, hist=False, color=\"g\", kde_kws={\"shade\": True}, axlabel=False,ax=axes[1, 0])\n",
    "sns.distplot(f, hist=False, color=\"b\", kde_kws={\"shade\": True}, axlabel= False,ax=axes[1, 0])\n",
    "\n",
    "# Plot a historgram and kernel density estimate\n",
    "sns.distplot(d, color=\"r\",axlabel= False,ax=axes[1, 1])\n",
    "sns.distplot(e, color=\"g\",axlabel= False,ax=axes[1, 1])\n",
    "sns.distplot(f, color=\"b\",axlabel= False,ax=axes[1, 1])\n",
    "\n",
    "plt.setp(axes, yticks=[])\n",
    "plt.tight_layout()"
   ]
  },
  {
   "cell_type": "code",
   "execution_count": 436,
   "metadata": {
    "collapsed": false
   },
   "outputs": [
    {
     "data": {
      "text/plain": [
       "KruskalResult(statistic=30.073164294270121, pvalue=2.9491397092061267e-07)"
      ]
     },
     "execution_count": 436,
     "metadata": {},
     "output_type": "execute_result"
    }
   ],
   "source": [
    "kruskal(IAA10_full[IAA10_full['Group'] == 'Control']['IAA 0.1'],IAA10_full[IAA10_full['Group'] == 'Mint']['IAA 0.1'],IAA10_full[IAA10_full['Group'] == 'Hexanal']['IAA 0.1'],nan_policy='omit')"
   ]
  },
  {
   "cell_type": "markdown",
   "metadata": {},
   "source": [
    "# Hexanal 1%"
   ]
  },
  {
   "cell_type": "code",
   "execution_count": 448,
   "metadata": {
    "collapsed": false
   },
   "outputs": [],
   "source": [
    "H001_full=composite_full[['Group','Hexanal 0.01']]\n",
    "H001df=pd.melt(H001_full,\"Group\",var_name=\"Odor\")"
   ]
  },
  {
   "cell_type": "code",
   "execution_count": 449,
   "metadata": {
    "collapsed": false
   },
   "outputs": [],
   "source": [
    "sns.set(style=\"white\", palette=\"muted\", color_codes=True);\n",
    "sns.set_context(\"talk\",font_scale=3);\n",
    "plt.figure(figsize=(15,18));\n",
    "sns.barplot(x=\"Odor\", y=\"value\", hue=\"Group\",palette={\"Control\": \"r\", \"Hexanal\": \"b\",\"Mint\":\"g\"}, data=H001df);\n",
    "sns.despine();\n",
    "plt.legend(loc='upper right');\n",
    "plt.ylabel('Peak DF/F');\n",
    "plt.title('Peak DF/F');"
   ]
  },
  {
   "cell_type": "code",
   "execution_count": 450,
   "metadata": {
    "collapsed": false
   },
   "outputs": [],
   "source": [
    "sns.set(style=\"white\", palette=\"muted\", color_codes=True);\n",
    "sns.set_context(\"talk\",font_scale=3);\n",
    "plt.figure(figsize=(15,18));\n",
    "sns.boxplot(x=\"Odor\", y=\"value\", hue=\"Group\",palette={\"Control\": \"r\", \"Hexanal\": \"b\",\"Mint\":\"g\"}, data=H001df);\n",
    "sns.despine();\n",
    "plt.legend(loc='upper right');\n",
    "plt.ylabel('Peak DF/F');\n",
    "plt.title('Peak DF/F');\n",
    "plt.xlabel('Odor');"
   ]
  },
  {
   "cell_type": "code",
   "execution_count": 451,
   "metadata": {
    "collapsed": false
   },
   "outputs": [
    {
     "data": {
      "text/html": [
       "<div>\n",
       "<table border=\"1\" class=\"dataframe\">\n",
       "  <thead>\n",
       "    <tr style=\"text-align: right;\">\n",
       "      <th></th>\n",
       "      <th>Group</th>\n",
       "      <th>Hexanal 0.01</th>\n",
       "    </tr>\n",
       "  </thead>\n",
       "  <tbody>\n",
       "    <tr>\n",
       "      <th>266</th>\n",
       "      <td>Hexanal</td>\n",
       "      <td>0.346753</td>\n",
       "    </tr>\n",
       "    <tr>\n",
       "      <th>267</th>\n",
       "      <td>Hexanal</td>\n",
       "      <td>0.269426</td>\n",
       "    </tr>\n",
       "    <tr>\n",
       "      <th>268</th>\n",
       "      <td>Hexanal</td>\n",
       "      <td>0.359969</td>\n",
       "    </tr>\n",
       "    <tr>\n",
       "      <th>269</th>\n",
       "      <td>Hexanal</td>\n",
       "      <td>0.136656</td>\n",
       "    </tr>\n",
       "    <tr>\n",
       "      <th>270</th>\n",
       "      <td>Hexanal</td>\n",
       "      <td>0.188876</td>\n",
       "    </tr>\n",
       "  </tbody>\n",
       "</table>\n",
       "</div>"
      ],
      "text/plain": [
       "       Group  Hexanal 0.01\n",
       "266  Hexanal      0.346753\n",
       "267  Hexanal      0.269426\n",
       "268  Hexanal      0.359969\n",
       "269  Hexanal      0.136656\n",
       "270  Hexanal      0.188876"
      ]
     },
     "execution_count": 451,
     "metadata": {},
     "output_type": "execute_result"
    }
   ],
   "source": [
    "H001ctrl=H001_full[H001_full['Group'] == 'Control']\n",
    "H001MS=H001_full[H001_full['Group'] == 'Mint']\n",
    "H001H=H001_full[H001_full['Group'] == 'Hexanal']\n",
    "H001H.head()"
   ]
  },
  {
   "cell_type": "code",
   "execution_count": 452,
   "metadata": {
    "collapsed": false
   },
   "outputs": [],
   "source": [
    "sns.set(style=\"white\", palette=\"muted\", color_codes=True)\n",
    "sns.set_context(\"talk\", font_scale=2)\n",
    "# Set up the matplotlib figure\n",
    "f, axes = plt.subplots(2, 2, figsize=(30,20), sharex=True)\n",
    "# f.suptitle(\"Hexanal 0.01\", fontsize=44)\n",
    "sns.despine(left=True)\n",
    "\n",
    "#data\n",
    "d = H001ctrl['Hexanal 0.01']\n",
    "e = H001MS['Hexanal 0.01']\n",
    "f = H001H['Hexanal 0.01']\n",
    "\n",
    "# Plot a simple histogram with binsize determined automatically\n",
    "sns.distplot(d, kde=False, color=\"r\", hist_kws={\"histtype\":'step',\"linewidth\":3,\"alpha\":0.7},axlabel= False,ax=axes[0, 0])\n",
    "sns.distplot(e, kde=False, color=\"g\", hist_kws={\"histtype\":'step',\"linewidth\":3,\"alpha\":0.7},axlabel= False,ax=axes[0, 0])\n",
    "sns.distplot(f, kde=False, color=\"b\", hist_kws={\"histtype\":'step',\"linewidth\":3,\"alpha\":0.7},axlabel= False,ax=axes[0, 0])\n",
    "\n",
    "# Plot a kernel density estimate and rug plot\n",
    "sns.distplot(d, hist=False, rug=True, color=\"r\", axlabel= False,ax=axes[0, 1],label=\"Control\")\n",
    "sns.distplot(e, hist=False, rug=True, color=\"g\", axlabel= False,ax=axes[0, 1],label=\"Mint\")\n",
    "sns.distplot(f, hist=False, rug=True, color=\"b\", axlabel= False,ax=axes[0, 1],label=\"Hexanal\")\n",
    "\n",
    "# Plot a filled kernel density estimate\n",
    "sns.distplot(d, hist=False, color=\"r\", kde_kws={\"shade\": True}, axlabel=False,ax=axes[1, 0])\n",
    "sns.distplot(e, hist=False, color=\"g\", kde_kws={\"shade\": True}, axlabel=False,ax=axes[1, 0])\n",
    "sns.distplot(f, hist=False, color=\"b\", kde_kws={\"shade\": True}, axlabel= False,ax=axes[1, 0])\n",
    "\n",
    "# Plot a historgram and kernel density estimate\n",
    "sns.distplot(d, color=\"r\",axlabel= False,ax=axes[1, 1])\n",
    "sns.distplot(e, color=\"g\",axlabel= False,ax=axes[1, 1])\n",
    "sns.distplot(f, color=\"b\",axlabel= False,ax=axes[1, 1])\n",
    "\n",
    "plt.setp(axes, yticks=[])\n",
    "plt.tight_layout()"
   ]
  },
  {
   "cell_type": "code",
   "execution_count": 453,
   "metadata": {
    "collapsed": false
   },
   "outputs": [
    {
     "data": {
      "text/plain": [
       "KruskalResult(statistic=24.469118887167379, pvalue=4.8595756261645399e-06)"
      ]
     },
     "execution_count": 453,
     "metadata": {},
     "output_type": "execute_result"
    }
   ],
   "source": [
    "kruskal(H001_full[H001_full['Group'] == 'Control']['Hexanal 0.01'],H001_full[H001_full['Group'] == 'Mint']['Hexanal 0.01'],H001_full[H001_full['Group'] == 'Hexanal']['Hexanal 0.01'],nan_policy='omit')"
   ]
  },
  {
   "cell_type": "markdown",
   "metadata": {},
   "source": [
    "# Hexanal 0.05"
   ]
  },
  {
   "cell_type": "code",
   "execution_count": 455,
   "metadata": {
    "collapsed": false
   },
   "outputs": [],
   "source": [
    "H005_full=composite_full[['Group','Hexanal 0.05']]\n",
    "H005df=pd.melt(H005_full,\"Group\",var_name=\"Odor\")"
   ]
  },
  {
   "cell_type": "code",
   "execution_count": 456,
   "metadata": {
    "collapsed": false
   },
   "outputs": [],
   "source": [
    "sns.set(style=\"white\", palette=\"muted\", color_codes=True);\n",
    "sns.set_context(\"talk\",font_scale=3);\n",
    "plt.figure(figsize=(15,18));\n",
    "sns.barplot(x=\"Odor\", y=\"value\", hue=\"Group\",palette={\"Control\": \"r\", \"Hexanal\": \"b\",\"Mint\":\"g\"}, data=H005df);\n",
    "sns.despine();\n",
    "plt.legend(loc='upper right');\n",
    "plt.ylabel('Peak DF/F');\n",
    "plt.title('Peak DF/F');"
   ]
  },
  {
   "cell_type": "code",
   "execution_count": 457,
   "metadata": {
    "collapsed": false
   },
   "outputs": [],
   "source": [
    "sns.set(style=\"white\", palette=\"muted\", color_codes=True);\n",
    "sns.set_context(\"talk\",font_scale=3);\n",
    "plt.figure(figsize=(15,18));\n",
    "sns.boxplot(x=\"Odor\", y=\"value\", hue=\"Group\",palette={\"Control\": \"r\", \"Hexanal\": \"b\",\"Mint\":\"g\"}, data=H005df);\n",
    "sns.despine();\n",
    "plt.legend(loc='upper right');\n",
    "plt.ylabel('Peak DF/F');\n",
    "plt.title('Peak DF/F');\n",
    "plt.xlabel('Odor');"
   ]
  },
  {
   "cell_type": "code",
   "execution_count": 458,
   "metadata": {
    "collapsed": false
   },
   "outputs": [
    {
     "data": {
      "text/html": [
       "<div>\n",
       "<table border=\"1\" class=\"dataframe\">\n",
       "  <thead>\n",
       "    <tr style=\"text-align: right;\">\n",
       "      <th></th>\n",
       "      <th>Group</th>\n",
       "      <th>Hexanal 0.05</th>\n",
       "    </tr>\n",
       "  </thead>\n",
       "  <tbody>\n",
       "    <tr>\n",
       "      <th>266</th>\n",
       "      <td>Hexanal</td>\n",
       "      <td>0.300836</td>\n",
       "    </tr>\n",
       "    <tr>\n",
       "      <th>267</th>\n",
       "      <td>Hexanal</td>\n",
       "      <td>0.349465</td>\n",
       "    </tr>\n",
       "    <tr>\n",
       "      <th>268</th>\n",
       "      <td>Hexanal</td>\n",
       "      <td>0.422324</td>\n",
       "    </tr>\n",
       "    <tr>\n",
       "      <th>269</th>\n",
       "      <td>Hexanal</td>\n",
       "      <td>0.135468</td>\n",
       "    </tr>\n",
       "    <tr>\n",
       "      <th>270</th>\n",
       "      <td>Hexanal</td>\n",
       "      <td>0.200218</td>\n",
       "    </tr>\n",
       "  </tbody>\n",
       "</table>\n",
       "</div>"
      ],
      "text/plain": [
       "       Group  Hexanal 0.05\n",
       "266  Hexanal      0.300836\n",
       "267  Hexanal      0.349465\n",
       "268  Hexanal      0.422324\n",
       "269  Hexanal      0.135468\n",
       "270  Hexanal      0.200218"
      ]
     },
     "execution_count": 458,
     "metadata": {},
     "output_type": "execute_result"
    }
   ],
   "source": [
    "H005ctrl=H005_full[H005_full['Group'] == 'Control']\n",
    "H005MS=H005_full[H005_full['Group'] == 'Mint']\n",
    "H005H=H005_full[H005_full['Group'] == 'Hexanal']\n",
    "H005H.head()"
   ]
  },
  {
   "cell_type": "code",
   "execution_count": 460,
   "metadata": {
    "collapsed": false
   },
   "outputs": [],
   "source": [
    "sns.set(style=\"white\", palette=\"muted\", color_codes=True)\n",
    "sns.set_context(\"talk\", font_scale=2)\n",
    "# Set up the matplotlib figure\n",
    "f, axes = plt.subplots(2, 2, figsize=(30,20), sharex=True)\n",
    "# f.suptitle(\"Hexanal 0.05\", fontsize=44)\n",
    "sns.despine(left=True)\n",
    "\n",
    "#data\n",
    "d = H005ctrl['Hexanal 0.05']\n",
    "e = H005MS['Hexanal 0.05']\n",
    "f = H005H['Hexanal 0.05']\n",
    "\n",
    "# Plot a simple histogram with binsize determined automatically\n",
    "sns.distplot(d, kde=False, color=\"r\", hist_kws={\"histtype\":'step',\"linewidth\":3,\"alpha\":0.7},axlabel= False,ax=axes[0, 0])\n",
    "sns.distplot(e, kde=False, color=\"g\", hist_kws={\"histtype\":'step',\"linewidth\":3,\"alpha\":0.7},axlabel= False,ax=axes[0, 0])\n",
    "sns.distplot(f, kde=False, color=\"b\", hist_kws={\"histtype\":'step',\"linewidth\":3,\"alpha\":0.7},axlabel= False,ax=axes[0, 0])\n",
    "\n",
    "# Plot a kernel density estimate and rug plot\n",
    "sns.distplot(d, hist=False, rug=True, color=\"r\", axlabel= False,ax=axes[0, 1],label=\"Control\")\n",
    "sns.distplot(e, hist=False, rug=True, color=\"g\", axlabel= False,ax=axes[0, 1],label=\"Mint\")\n",
    "sns.distplot(f, hist=False, rug=True, color=\"b\", axlabel= False,ax=axes[0, 1],label=\"Hexanal\")\n",
    "\n",
    "# Plot a filled kernel density estimate\n",
    "sns.distplot(d, hist=False, color=\"r\", kde_kws={\"shade\": True}, axlabel=False,ax=axes[1, 0])\n",
    "sns.distplot(e, hist=False, color=\"g\", kde_kws={\"shade\": True}, axlabel=False,ax=axes[1, 0])\n",
    "sns.distplot(f, hist=False, color=\"b\", kde_kws={\"shade\": True}, axlabel= False,ax=axes[1, 0])\n",
    "\n",
    "# Plot a historgram and kernel density estimate\n",
    "sns.distplot(d, color=\"r\",axlabel= False,ax=axes[1, 1])\n",
    "sns.distplot(e, color=\"g\",axlabel= False,ax=axes[1, 1])\n",
    "sns.distplot(f, color=\"b\",axlabel= False,ax=axes[1, 1])\n",
    "\n",
    "plt.setp(axes, yticks=[])\n",
    "plt.tight_layout()"
   ]
  },
  {
   "cell_type": "code",
   "execution_count": 461,
   "metadata": {
    "collapsed": false,
    "scrolled": true
   },
   "outputs": [
    {
     "data": {
      "text/plain": [
       "KruskalResult(statistic=66.921585593621458, pvalue=2.9387478759540041e-15)"
      ]
     },
     "execution_count": 461,
     "metadata": {},
     "output_type": "execute_result"
    }
   ],
   "source": [
    "kruskal(H005_full[H005_full['Group'] == 'Control']['Hexanal 0.05'],H005_full[H005_full['Group'] == 'Mint']['Hexanal 0.05'],H005_full[H005_full['Group'] == 'Hexanal']['Hexanal 0.05'],nan_policy='omit')"
   ]
  },
  {
   "cell_type": "markdown",
   "metadata": {},
   "source": [
    "# Hexanal 0.1"
   ]
  },
  {
   "cell_type": "code",
   "execution_count": 462,
   "metadata": {
    "collapsed": false
   },
   "outputs": [],
   "source": [
    "H10_full=composite_full[['Group','Hexanal 0.1']]\n",
    "H10df=pd.melt(H10_full,\"Group\",var_name=\"Odor\")"
   ]
  },
  {
   "cell_type": "code",
   "execution_count": 463,
   "metadata": {
    "collapsed": false
   },
   "outputs": [],
   "source": [
    "sns.set(style=\"white\", palette=\"muted\", color_codes=True);\n",
    "sns.set_context(\"talk\",font_scale=3);\n",
    "plt.figure(figsize=(15,18));\n",
    "sns.barplot(x=\"Odor\", y=\"value\", hue=\"Group\",palette={\"Control\": \"r\", \"Hexanal\": \"b\",\"Mint\":\"g\"}, data=H10df);\n",
    "sns.despine();\n",
    "plt.legend(loc='upper right');\n",
    "plt.ylabel('Peak DF/F');\n",
    "plt.title('Peak DF/F');"
   ]
  },
  {
   "cell_type": "code",
   "execution_count": 464,
   "metadata": {
    "collapsed": false
   },
   "outputs": [],
   "source": [
    "sns.set(style=\"white\", palette=\"muted\", color_codes=True);\n",
    "sns.set_context(\"talk\",font_scale=3);\n",
    "plt.figure(figsize=(15,18));\n",
    "sns.boxplot(x=\"Odor\", y=\"value\", hue=\"Group\",palette={\"Control\": \"r\", \"Hexanal\": \"b\",\"Mint\":\"g\"}, data=H10df);\n",
    "sns.despine();\n",
    "plt.legend(loc='upper right');\n",
    "plt.ylabel('Peak DF/F');\n",
    "plt.title('Peak DF/F');\n",
    "plt.xlabel('Odor');"
   ]
  },
  {
   "cell_type": "code",
   "execution_count": 465,
   "metadata": {
    "collapsed": true
   },
   "outputs": [
    {
     "data": {
      "text/html": [
       "<div>\n",
       "<table border=\"1\" class=\"dataframe\">\n",
       "  <thead>\n",
       "    <tr style=\"text-align: right;\">\n",
       "      <th></th>\n",
       "      <th>Group</th>\n",
       "      <th>Hexanal 0.1</th>\n",
       "    </tr>\n",
       "  </thead>\n",
       "  <tbody>\n",
       "    <tr>\n",
       "      <th>266</th>\n",
       "      <td>Hexanal</td>\n",
       "      <td>0.290083</td>\n",
       "    </tr>\n",
       "    <tr>\n",
       "      <th>267</th>\n",
       "      <td>Hexanal</td>\n",
       "      <td>0.236634</td>\n",
       "    </tr>\n",
       "    <tr>\n",
       "      <th>268</th>\n",
       "      <td>Hexanal</td>\n",
       "      <td>0.416844</td>\n",
       "    </tr>\n",
       "    <tr>\n",
       "      <th>269</th>\n",
       "      <td>Hexanal</td>\n",
       "      <td>0.124364</td>\n",
       "    </tr>\n",
       "    <tr>\n",
       "      <th>270</th>\n",
       "      <td>Hexanal</td>\n",
       "      <td>0.136488</td>\n",
       "    </tr>\n",
       "  </tbody>\n",
       "</table>\n",
       "</div>"
      ],
      "text/plain": [
       "       Group  Hexanal 0.1\n",
       "266  Hexanal     0.290083\n",
       "267  Hexanal     0.236634\n",
       "268  Hexanal     0.416844\n",
       "269  Hexanal     0.124364\n",
       "270  Hexanal     0.136488"
      ]
     },
     "execution_count": 465,
     "metadata": {},
     "output_type": "execute_result"
    }
   ],
   "source": [
    "H10ctrl=H10_full[H10_full['Group'] == 'Control']\n",
    "H10MS=H10_full[H10_full['Group'] == 'Mint']\n",
    "H10H=H10_full[H10_full['Group'] == 'Hexanal']\n",
    "H10H.head()"
   ]
  },
  {
   "cell_type": "code",
   "execution_count": 466,
   "metadata": {
    "collapsed": true
   },
   "outputs": [],
   "source": [
    "sns.set(style=\"white\", palette=\"muted\", color_codes=True)\n",
    "sns.set_context(\"talk\", font_scale=2)\n",
    "# Set up the matplotlib figure\n",
    "f, axes = plt.subplots(2, 2, figsize=(30,20), sharex=True)\n",
    "# f.suptitle(\"IAA 0.05\", fontsize=44)\n",
    "sns.despine(left=True)\n",
    "\n",
    "#data\n",
    "d = H10ctrl['Hexanal 0.1']\n",
    "e = H10MS['Hexanal 0.1']\n",
    "f = H10H['Hexanal 0.1']\n",
    "\n",
    "# Plot a simple histogram with binsize determined automatically\n",
    "sns.distplot(d, kde=False, color=\"r\", hist_kws={\"histtype\":'step',\"linewidth\":3,\"alpha\":0.7},axlabel= False,ax=axes[0, 0])\n",
    "sns.distplot(e, kde=False, color=\"g\", hist_kws={\"histtype\":'step',\"linewidth\":3,\"alpha\":0.7},axlabel= False,ax=axes[0, 0])\n",
    "sns.distplot(f, kde=False, color=\"b\", hist_kws={\"histtype\":'step',\"linewidth\":3,\"alpha\":0.7},axlabel= False,ax=axes[0, 0])\n",
    "\n",
    "# Plot a kernel density estimate and rug plot\n",
    "sns.distplot(d, hist=False, rug=True, color=\"r\", axlabel= False,ax=axes[0, 1],label=\"Control\")\n",
    "sns.distplot(e, hist=False, rug=True, color=\"g\", axlabel= False,ax=axes[0, 1],label=\"Mint\")\n",
    "sns.distplot(f, hist=False, rug=True, color=\"b\", axlabel= False,ax=axes[0, 1],label=\"Hexanal\")\n",
    "\n",
    "# Plot a filled kernel density estimate\n",
    "sns.distplot(d, hist=False, color=\"r\", kde_kws={\"shade\": True}, axlabel=False,ax=axes[1, 0])\n",
    "sns.distplot(e, hist=False, color=\"g\", kde_kws={\"shade\": True}, axlabel=False,ax=axes[1, 0])\n",
    "sns.distplot(f, hist=False, color=\"b\", kde_kws={\"shade\": True}, axlabel= False,ax=axes[1, 0])\n",
    "\n",
    "# Plot a historgram and kernel density estimate\n",
    "sns.distplot(d, color=\"r\",axlabel= False,ax=axes[1, 1])\n",
    "sns.distplot(e, color=\"g\",axlabel= False,ax=axes[1, 1])\n",
    "sns.distplot(f, color=\"b\",axlabel= False,ax=axes[1, 1])\n",
    "\n",
    "plt.setp(axes, yticks=[])\n",
    "plt.tight_layout()"
   ]
  },
  {
   "cell_type": "code",
   "execution_count": 468,
   "metadata": {
    "collapsed": false
   },
   "outputs": [
    {
     "data": {
      "text/plain": [
       "KruskalResult(statistic=15.839109543591839, pvalue=0.00036356415948386392)"
      ]
     },
     "execution_count": 468,
     "metadata": {},
     "output_type": "execute_result"
    }
   ],
   "source": [
    "kruskal(H10_full[H10_full['Group'] == 'Control']['Hexanal 0.1'],H10_full[dH10_full['Group'] == 'Mint']['Hexanal 0.1'],H10_full[H10_full['Group'] == 'Hexanal']['Hexanal 0.1'],nan_policy='omit')"
   ]
  },
  {
   "cell_type": "markdown",
   "metadata": {},
   "source": [
    "# THA"
   ]
  },
  {
   "cell_type": "code",
   "execution_count": 296,
   "metadata": {
    "collapsed": false
   },
   "outputs": [],
   "source": [
    "THA_full=composite_full[['Group','THA']]\n",
    "THAdf=pd.melt(THA_full,\"Group\",var_name=\"Odor\")"
   ]
  },
  {
   "cell_type": "code",
   "execution_count": 360,
   "metadata": {
    "collapsed": false
   },
   "outputs": [],
   "source": [
    "sns.set(style=\"white\", palette=\"muted\", color_codes=True);\n",
    "sns.set_context(\"talk\",font_scale=3);\n",
    "plt.figure(figsize=(15,18));\n",
    "sns.barplot(x=\"Odor\", y=\"value\", hue=\"Group\",palette={\"Control\": \"r\", \"Hexanal\": \"b\",\"Mint\":\"g\"}, data=THAdf);\n",
    "sns.despine();\n",
    "plt.legend(loc='upper right');\n",
    "plt.ylabel('Peak DF/F');\n",
    "plt.title('Peak DF/F');"
   ]
  },
  {
   "cell_type": "code",
   "execution_count": 362,
   "metadata": {
    "collapsed": false
   },
   "outputs": [],
   "source": [
    "sns.set(style=\"white\", palette=\"muted\", color_codes=True);\n",
    "sns.set_context(\"talk\",font_scale=3);\n",
    "plt.figure(figsize=(15,18));\n",
    "sns.boxplot(x=\"Odor\", y=\"value\", hue=\"Group\",palette={\"Control\": \"r\", \"Hexanal\": \"b\",\"Mint\":\"g\"}, data=THAdf);\n",
    "sns.despine();\n",
    "plt.legend(loc='upper right');\n",
    "plt.ylabel('Peak DF/F');\n",
    "plt.title('Peak DF/F');\n",
    "plt.xlabel('Odor');"
   ]
  },
  {
   "cell_type": "code",
   "execution_count": 341,
   "metadata": {
    "collapsed": true
   },
   "outputs": [
    {
     "data": {
      "text/html": [
       "<div>\n",
       "<table border=\"1\" class=\"dataframe\">\n",
       "  <thead>\n",
       "    <tr style=\"text-align: right;\">\n",
       "      <th></th>\n",
       "      <th>Group</th>\n",
       "      <th>THA</th>\n",
       "    </tr>\n",
       "  </thead>\n",
       "  <tbody>\n",
       "    <tr>\n",
       "      <th>266</th>\n",
       "      <td>Hexanal</td>\n",
       "      <td>0.032360</td>\n",
       "    </tr>\n",
       "    <tr>\n",
       "      <th>267</th>\n",
       "      <td>Hexanal</td>\n",
       "      <td>0.068896</td>\n",
       "    </tr>\n",
       "    <tr>\n",
       "      <th>268</th>\n",
       "      <td>Hexanal</td>\n",
       "      <td>0.141124</td>\n",
       "    </tr>\n",
       "    <tr>\n",
       "      <th>269</th>\n",
       "      <td>Hexanal</td>\n",
       "      <td>0.031333</td>\n",
       "    </tr>\n",
       "    <tr>\n",
       "      <th>270</th>\n",
       "      <td>Hexanal</td>\n",
       "      <td>0.029448</td>\n",
       "    </tr>\n",
       "  </tbody>\n",
       "</table>\n",
       "</div>"
      ],
      "text/plain": [
       "       Group       THA\n",
       "266  Hexanal  0.032360\n",
       "267  Hexanal  0.068896\n",
       "268  Hexanal  0.141124\n",
       "269  Hexanal  0.031333\n",
       "270  Hexanal  0.029448"
      ]
     },
     "execution_count": 341,
     "metadata": {},
     "output_type": "execute_result"
    }
   ],
   "source": [
    "THActrl=THA_full[THA_full['Group'] == 'Control']\n",
    "THAMS=THA_full[THA_full['Group'] == 'Mint']\n",
    "THAH=THA_full[THA_full['Group'] == 'Hexanal']\n",
    "THAH.head()"
   ]
  },
  {
   "cell_type": "code",
   "execution_count": 357,
   "metadata": {
    "collapsed": true
   },
   "outputs": [],
   "source": [
    "sns.set(style=\"white\", palette=\"muted\", color_codes=True)\n",
    "sns.set_context(\"talk\", font_scale=2)\n",
    "# Set up the matplotlib figure\n",
    "f, axes = plt.subplots(2, 2, figsize=(30,20), sharex=True)\n",
    "# f.suptitle(\"2-hydroxyacetophenone\", fontsize=44)\n",
    "sns.despine(left=True)\n",
    "\n",
    "#data\n",
    "d = THActrl['THA']\n",
    "e = THAMS['THA']\n",
    "f = THAH['THA']\n",
    "\n",
    "# Plot a simple histogram with binsize determined automatically\n",
    "sns.distplot(d, kde=False, color=\"r\", hist_kws={\"histtype\":'step',\"linewidth\":3,\"alpha\":0.7},axlabel= False,ax=axes[0, 0])\n",
    "sns.distplot(e, kde=False, color=\"g\", hist_kws={\"histtype\":'step',\"linewidth\":3,\"alpha\":0.7},axlabel= False,ax=axes[0, 0])\n",
    "sns.distplot(f, kde=False, color=\"b\", hist_kws={\"histtype\":'step',\"linewidth\":3,\"alpha\":0.7},axlabel= False,ax=axes[0, 0])\n",
    "\n",
    "# Plot a kernel density estimate and rug plot\n",
    "sns.distplot(d, hist=False, rug=True, color=\"r\", axlabel= False,ax=axes[0, 1],label=\"Control\")\n",
    "sns.distplot(e, hist=False, rug=True, color=\"g\", axlabel= False,ax=axes[0, 1],label=\"Mint\")\n",
    "sns.distplot(f, hist=False, rug=True, color=\"b\", axlabel= False,ax=axes[0, 1],label=\"Hexanal\")\n",
    "\n",
    "# Plot a filled kernel density estimate\n",
    "sns.distplot(d, hist=False, color=\"r\", kde_kws={\"shade\": True}, axlabel=False,ax=axes[1, 0])\n",
    "sns.distplot(e, hist=False, color=\"g\", kde_kws={\"shade\": True}, axlabel=False,ax=axes[1, 0])\n",
    "sns.distplot(f, hist=False, color=\"b\", kde_kws={\"shade\": True}, axlabel= False,ax=axes[1, 0])\n",
    "\n",
    "# Plot a historgram and kernel density estimate\n",
    "sns.distplot(d, color=\"r\",axlabel= False,ax=axes[1, 1])\n",
    "sns.distplot(e, color=\"g\",axlabel= False,ax=axes[1, 1])\n",
    "sns.distplot(f, color=\"b\",axlabel= False,ax=axes[1, 1])\n",
    "\n",
    "plt.setp(axes, yticks=[])\n",
    "plt.tight_layout()"
   ]
  },
  {
   "cell_type": "code",
   "execution_count": 126,
   "metadata": {
    "collapsed": false
   },
   "outputs": [
    {
     "data": {
      "text/plain": [
       "KruskalResult(statistic=26.646950444965789, pvalue=1.6356419143785338e-06)"
      ]
     },
     "execution_count": 126,
     "metadata": {},
     "output_type": "execute_result"
    }
   ],
   "source": [
    "kruskal(THA_full[THA_full['Group'] == 'Control']['THA'],THA_full[THA_full['Group'] == 'Mint']['THA'],THA_full[THA_full['Group'] == 'Hexanal']['THA'],nan_policy='omit')"
   ]
  },
  {
   "cell_type": "markdown",
   "metadata": {},
   "source": [
    "# AP"
   ]
  },
  {
   "cell_type": "code",
   "execution_count": 264,
   "metadata": {
    "collapsed": false
   },
   "outputs": [],
   "source": [
    "AP_full=composite_full[['Group','AP']]\n",
    "APdf=pd.melt(AP_full,\"Group\",var_name=\"Odor\")"
   ]
  },
  {
   "cell_type": "code",
   "execution_count": 335,
   "metadata": {
    "collapsed": false
   },
   "outputs": [],
   "source": [
    "sns.set(style=\"white\", palette=\"muted\", color_codes=True);\n",
    "sns.set_context(\"talk\",font_scale=3);\n",
    "plt.figure(figsize=(15,18));\n",
    "sns.barplot(x=\"Odor\", y=\"value\", hue=\"Group\",palette={\"Control\": \"r\", \"Hexanal\": \"b\",\"Mint\":\"g\"}, data=APdf);\n",
    "sns.despine();\n",
    "plt.legend(loc='upper right');\n",
    "plt.ylabel('Peak DF/F');\n",
    "plt.title('Peak DF/F');\n",
    "plt.xlabel('Odor');"
   ]
  },
  {
   "cell_type": "code",
   "execution_count": 336,
   "metadata": {
    "collapsed": true
   },
   "outputs": [],
   "source": [
    "sns.set(style=\"white\", palette=\"muted\", color_codes=True);\n",
    "sns.set_context(\"talk\",font_scale=3);\n",
    "plt.figure(figsize=(15,18));\n",
    "sns.boxplot(x=\"Odor\", y=\"value\", hue=\"Group\",palette={\"Control\": \"r\", \"Hexanal\": \"b\",\"Mint\":\"g\"}, data=APdf);\n",
    "sns.despine();\n",
    "plt.legend(loc='upper right');\n",
    "plt.ylabel('Peak DF/F');\n",
    "plt.title('Peak DF/F');\n",
    "plt.xlabel('Odor');"
   ]
  },
  {
   "cell_type": "code",
   "execution_count": 358,
   "metadata": {
    "collapsed": true
   },
   "outputs": [
    {
     "data": {
      "text/html": [
       "<div>\n",
       "<table border=\"1\" class=\"dataframe\">\n",
       "  <thead>\n",
       "    <tr style=\"text-align: right;\">\n",
       "      <th></th>\n",
       "      <th>Group</th>\n",
       "      <th>AP</th>\n",
       "    </tr>\n",
       "  </thead>\n",
       "  <tbody>\n",
       "    <tr>\n",
       "      <th>266</th>\n",
       "      <td>Hexanal</td>\n",
       "      <td>0.150098</td>\n",
       "    </tr>\n",
       "    <tr>\n",
       "      <th>267</th>\n",
       "      <td>Hexanal</td>\n",
       "      <td>0.074321</td>\n",
       "    </tr>\n",
       "    <tr>\n",
       "      <th>268</th>\n",
       "      <td>Hexanal</td>\n",
       "      <td>0.180250</td>\n",
       "    </tr>\n",
       "    <tr>\n",
       "      <th>269</th>\n",
       "      <td>Hexanal</td>\n",
       "      <td>0.113269</td>\n",
       "    </tr>\n",
       "    <tr>\n",
       "      <th>270</th>\n",
       "      <td>Hexanal</td>\n",
       "      <td>0.028062</td>\n",
       "    </tr>\n",
       "  </tbody>\n",
       "</table>\n",
       "</div>"
      ],
      "text/plain": [
       "       Group        AP\n",
       "266  Hexanal  0.150098\n",
       "267  Hexanal  0.074321\n",
       "268  Hexanal  0.180250\n",
       "269  Hexanal  0.113269\n",
       "270  Hexanal  0.028062"
      ]
     },
     "execution_count": 358,
     "metadata": {},
     "output_type": "execute_result"
    }
   ],
   "source": [
    "APctrl=AP_full[AP_full['Group'] == 'Control']\n",
    "APMS=AP_full[AP_full['Group'] == 'Mint']\n",
    "APH=AP_full[AP_full['Group'] == 'Hexanal']\n",
    "APH.head()"
   ]
  },
  {
   "cell_type": "code",
   "execution_count": 359,
   "metadata": {
    "collapsed": true
   },
   "outputs": [],
   "source": [
    "sns.set(style=\"white\", palette=\"muted\", color_codes=True)\n",
    "sns.set_context(\"talk\", font_scale=2)\n",
    "# Set up the matplotlib figure\n",
    "f, axes = plt.subplots(2, 2, figsize=(30,20), sharex=True)\n",
    "# f.suptitle(\"2-hydroxyacetophenone\", fontsize=44)\n",
    "sns.despine(left=True)\n",
    "\n",
    "#data\n",
    "d = APctrl['AP']\n",
    "e = APMS['AP']\n",
    "f = APH['AP']\n",
    "\n",
    "# Plot a simple histogram with binsize determined automatically\n",
    "sns.distplot(d, kde=False, color=\"r\", hist_kws={\"histtype\":'step',\"linewidth\":3,\"alpha\":0.7},axlabel= False,ax=axes[0, 0])\n",
    "sns.distplot(e, kde=False, color=\"g\", hist_kws={\"histtype\":'step',\"linewidth\":3,\"alpha\":0.7},axlabel= False,ax=axes[0, 0])\n",
    "sns.distplot(f, kde=False, color=\"b\", hist_kws={\"histtype\":'step',\"linewidth\":3,\"alpha\":0.7},axlabel= False,ax=axes[0, 0])\n",
    "\n",
    "# Plot a kernel density estimate and rug plot\n",
    "sns.distplot(d, hist=False, rug=True, color=\"r\", axlabel= False,ax=axes[0, 1],label=\"Control\")\n",
    "sns.distplot(e, hist=False, rug=True, color=\"g\", axlabel= False,ax=axes[0, 1],label=\"Mint\")\n",
    "sns.distplot(f, hist=False, rug=True, color=\"b\", axlabel= False,ax=axes[0, 1],label=\"Hexanal\")\n",
    "\n",
    "# Plot a filled kernel density estimate\n",
    "sns.distplot(d, hist=False, color=\"r\", kde_kws={\"shade\": True}, axlabel=False,ax=axes[1, 0])\n",
    "sns.distplot(e, hist=False, color=\"g\", kde_kws={\"shade\": True}, axlabel=False,ax=axes[1, 0])\n",
    "sns.distplot(f, hist=False, color=\"b\", kde_kws={\"shade\": True}, axlabel= False,ax=axes[1, 0])\n",
    "\n",
    "# Plot a historgram and kernel density estimate\n",
    "sns.distplot(d, color=\"r\",axlabel= False,ax=axes[1, 1])\n",
    "sns.distplot(e, color=\"g\",axlabel= False,ax=axes[1, 1])\n",
    "sns.distplot(f, color=\"b\",axlabel= False,ax=axes[1, 1])\n",
    "\n",
    "plt.setp(axes, yticks=[])\n",
    "plt.tight_layout()"
   ]
  },
  {
   "cell_type": "code",
   "execution_count": 131,
   "metadata": {
    "collapsed": false
   },
   "outputs": [
    {
     "data": {
      "text/plain": [
       "KruskalResult(statistic=46.307698447912315, pvalue=8.7985488016197506e-11)"
      ]
     },
     "execution_count": 131,
     "metadata": {},
     "output_type": "execute_result"
    }
   ],
   "source": [
    "kruskal(AP_full[AP_full['Group'] == 'Control']['AP'],AP_full[AP_full['Group'] == 'Mint']['AP'],AP_full[AP_full['Group'] == 'Hexanal']['AP'],nan_policy='omit')"
   ]
  },
  {
   "cell_type": "markdown",
   "metadata": {},
   "source": [
    "# EB"
   ]
  },
  {
   "cell_type": "code",
   "execution_count": 332,
   "metadata": {
    "collapsed": false
   },
   "outputs": [],
   "source": [
    "EB_full=composite_full[['Group','EB']]\n",
    "EBdf=pd.melt(EB_full,\"Group\",var_name=\"Odor\")"
   ]
  },
  {
   "cell_type": "code",
   "execution_count": 337,
   "metadata": {
    "collapsed": true
   },
   "outputs": [],
   "source": [
    "sns.set(style=\"white\", palette=\"muted\", color_codes=True);\n",
    "sns.set_context(\"talk\",font_scale=3);\n",
    "plt.figure(figsize=(15,18));\n",
    "sns.barplot(x=\"Odor\", y=\"value\", hue=\"Group\",palette={\"Control\": \"r\", \"Hexanal\": \"b\",\"Mint\":\"g\"}, data=EBdf);\n",
    "sns.despine();\n",
    "plt.legend(loc='upper right');\n",
    "plt.ylabel('Peak DF/F');\n",
    "plt.title('Peak DF/F');\n",
    "plt.xlabel('Odor');"
   ]
  },
  {
   "cell_type": "code",
   "execution_count": 338,
   "metadata": {
    "collapsed": true
   },
   "outputs": [],
   "source": [
    "sns.set(style=\"white\", palette=\"muted\", color_codes=True);\n",
    "sns.set_context(\"talk\",font_scale=3);\n",
    "plt.figure(figsize=(15,18));\n",
    "sns.boxplot(x=\"Odor\", y=\"value\", hue=\"Group\",palette={\"Control\": \"r\", \"Hexanal\": \"b\",\"Mint\":\"g\"}, data=EBdf);\n",
    "sns.despine();\n",
    "plt.legend(loc='upper right');\n",
    "plt.ylabel('Peak DF/F');\n",
    "plt.title('Peak DF/F');\n",
    "plt.xlabel('Odor');"
   ]
  },
  {
   "cell_type": "code",
   "execution_count": 363,
   "metadata": {
    "collapsed": false,
    "scrolled": true
   },
   "outputs": [
    {
     "data": {
      "text/html": [
       "<div>\n",
       "<table border=\"1\" class=\"dataframe\">\n",
       "  <thead>\n",
       "    <tr style=\"text-align: right;\">\n",
       "      <th></th>\n",
       "      <th>Group</th>\n",
       "      <th>EB</th>\n",
       "    </tr>\n",
       "  </thead>\n",
       "  <tbody>\n",
       "    <tr>\n",
       "      <th>266</th>\n",
       "      <td>Hexanal</td>\n",
       "      <td>0.209884</td>\n",
       "    </tr>\n",
       "    <tr>\n",
       "      <th>267</th>\n",
       "      <td>Hexanal</td>\n",
       "      <td>0.193009</td>\n",
       "    </tr>\n",
       "    <tr>\n",
       "      <th>268</th>\n",
       "      <td>Hexanal</td>\n",
       "      <td>0.335625</td>\n",
       "    </tr>\n",
       "    <tr>\n",
       "      <th>269</th>\n",
       "      <td>Hexanal</td>\n",
       "      <td>0.082340</td>\n",
       "    </tr>\n",
       "    <tr>\n",
       "      <th>270</th>\n",
       "      <td>Hexanal</td>\n",
       "      <td>0.023194</td>\n",
       "    </tr>\n",
       "  </tbody>\n",
       "</table>\n",
       "</div>"
      ],
      "text/plain": [
       "       Group        EB\n",
       "266  Hexanal  0.209884\n",
       "267  Hexanal  0.193009\n",
       "268  Hexanal  0.335625\n",
       "269  Hexanal  0.082340\n",
       "270  Hexanal  0.023194"
      ]
     },
     "execution_count": 363,
     "metadata": {},
     "output_type": "execute_result"
    }
   ],
   "source": [
    "EBctrl=EB_full[EB_full['Group'] == 'Control']\n",
    "EBMS=EB_full[EB_full['Group'] == 'Mint']\n",
    "EBH=EB_full[EB_full['Group'] == 'Hexanal']\n",
    "EBH.head()"
   ]
  },
  {
   "cell_type": "code",
   "execution_count": 364,
   "metadata": {
    "collapsed": true
   },
   "outputs": [],
   "source": [
    "sns.set(style=\"white\", palette=\"muted\", color_codes=True)\n",
    "sns.set_context(\"talk\", font_scale=2)\n",
    "# Set up the matplotlib figure\n",
    "f, axes = plt.subplots(2, 2, figsize=(30,20), sharex=True)\n",
    "# f.suptitle(\"2-hydroxyacetophenone\", fontsize=44)\n",
    "sns.despine(left=True)\n",
    "\n",
    "#data\n",
    "d = EBctrl['EB']\n",
    "e = EBMS['EB']\n",
    "f = EBH['EB']\n",
    "\n",
    "# Plot a simple histogram with binsize determined automatically\n",
    "sns.distplot(d, kde=False, color=\"r\", hist_kws={\"histtype\":'step',\"linewidth\":3,\"alpha\":0.7},axlabel= False,ax=axes[0, 0])\n",
    "sns.distplot(e, kde=False, color=\"g\", hist_kws={\"histtype\":'step',\"linewidth\":3,\"alpha\":0.7},axlabel= False,ax=axes[0, 0])\n",
    "sns.distplot(f, kde=False, color=\"b\", hist_kws={\"histtype\":'step',\"linewidth\":3,\"alpha\":0.7},axlabel= False,ax=axes[0, 0])\n",
    "\n",
    "# Plot a kernel density estimate and rug plot\n",
    "sns.distplot(d, hist=False, rug=True, color=\"r\", axlabel= False,ax=axes[0, 1],label=\"Control\")\n",
    "sns.distplot(e, hist=False, rug=True, color=\"g\", axlabel= False,ax=axes[0, 1],label=\"Mint\")\n",
    "sns.distplot(f, hist=False, rug=True, color=\"b\", axlabel= False,ax=axes[0, 1],label=\"Hexanal\")\n",
    "\n",
    "# Plot a filled kernel density estimate\n",
    "sns.distplot(d, hist=False, color=\"r\", kde_kws={\"shade\": True}, axlabel=False,ax=axes[1, 0])\n",
    "sns.distplot(e, hist=False, color=\"g\", kde_kws={\"shade\": True}, axlabel=False,ax=axes[1, 0])\n",
    "sns.distplot(f, hist=False, color=\"b\", kde_kws={\"shade\": True}, axlabel= False,ax=axes[1, 0])\n",
    "\n",
    "# Plot a historgram and kernel density estimate\n",
    "sns.distplot(d, color=\"r\",axlabel= False,ax=axes[1, 1])\n",
    "sns.distplot(e, color=\"g\",axlabel= False,ax=axes[1, 1])\n",
    "sns.distplot(f, color=\"b\",axlabel= False,ax=axes[1, 1])\n",
    "\n",
    "plt.setp(axes, yticks=[])\n",
    "plt.tight_layout()"
   ]
  },
  {
   "cell_type": "code",
   "execution_count": 135,
   "metadata": {
    "collapsed": false
   },
   "outputs": [
    {
     "data": {
      "text/plain": [
       "KruskalResult(statistic=20.686023094405726, pvalue=3.2217152941460278e-05)"
      ]
     },
     "execution_count": 135,
     "metadata": {},
     "output_type": "execute_result"
    }
   ],
   "source": [
    "kruskal(EB_full[EB_full['Group'] == 'Control']['EB'],EB_full[EB_full['Group'] == 'Mint']['EB'],EB_full[EB_full['Group'] == 'Hexanal']['EB'],nan_policy='omit')"
   ]
  },
  {
   "cell_type": "markdown",
   "metadata": {},
   "source": [
    "# Hexanone"
   ]
  },
  {
   "cell_type": "code",
   "execution_count": 378,
   "metadata": {
    "collapsed": false
   },
   "outputs": [],
   "source": [
    "Hone_full=composite_full[['Group','Hexanone']]\n",
    "Honedf=pd.melt(Hone_full,\"Group\",var_name=\"Odor\")"
   ]
  },
  {
   "cell_type": "code",
   "execution_count": 379,
   "metadata": {
    "collapsed": true
   },
   "outputs": [],
   "source": [
    "sns.set(style=\"white\", palette=\"muted\", color_codes=True);\n",
    "sns.set_context(\"talk\",font_scale=3);\n",
    "plt.figure(figsize=(15,18));\n",
    "sns.barplot(x=\"Odor\", y=\"value\", hue=\"Group\",palette={\"Control\": \"r\", \"Hexanal\": \"b\",\"Mint\":\"g\"}, data=Honedf);\n",
    "sns.despine();\n",
    "plt.legend(loc='upper right');\n",
    "plt.ylabel('Peak DF/F');\n",
    "plt.title('Peak DF/F');\n",
    "plt.xlabel('Odor');"
   ]
  },
  {
   "cell_type": "code",
   "execution_count": 380,
   "metadata": {
    "collapsed": true
   },
   "outputs": [],
   "source": [
    "sns.set(style=\"white\", palette=\"muted\", color_codes=True);\n",
    "sns.set_context(\"talk\",font_scale=3);\n",
    "plt.figure(figsize=(15,18));\n",
    "sns.boxplot(x=\"Odor\", y=\"value\", hue=\"Group\",palette={\"Control\": \"r\", \"Hexanal\": \"b\",\"Mint\":\"g\"}, data=Honedf);\n",
    "sns.despine();\n",
    "plt.legend(loc='upper right');\n",
    "plt.ylabel('Peak DF/F');\n",
    "plt.title('Peak DF/F');\n",
    "plt.xlabel('Odor');"
   ]
  },
  {
   "cell_type": "code",
   "execution_count": 381,
   "metadata": {
    "collapsed": false,
    "scrolled": true
   },
   "outputs": [
    {
     "data": {
      "text/html": [
       "<div>\n",
       "<table border=\"1\" class=\"dataframe\">\n",
       "  <thead>\n",
       "    <tr style=\"text-align: right;\">\n",
       "      <th></th>\n",
       "      <th>Group</th>\n",
       "      <th>Hexanone</th>\n",
       "    </tr>\n",
       "  </thead>\n",
       "  <tbody>\n",
       "    <tr>\n",
       "      <th>266</th>\n",
       "      <td>Hexanal</td>\n",
       "      <td>0.378703</td>\n",
       "    </tr>\n",
       "    <tr>\n",
       "      <th>267</th>\n",
       "      <td>Hexanal</td>\n",
       "      <td>0.330326</td>\n",
       "    </tr>\n",
       "    <tr>\n",
       "      <th>268</th>\n",
       "      <td>Hexanal</td>\n",
       "      <td>0.501147</td>\n",
       "    </tr>\n",
       "    <tr>\n",
       "      <th>269</th>\n",
       "      <td>Hexanal</td>\n",
       "      <td>0.073911</td>\n",
       "    </tr>\n",
       "    <tr>\n",
       "      <th>270</th>\n",
       "      <td>Hexanal</td>\n",
       "      <td>0.117332</td>\n",
       "    </tr>\n",
       "  </tbody>\n",
       "</table>\n",
       "</div>"
      ],
      "text/plain": [
       "       Group  Hexanone\n",
       "266  Hexanal  0.378703\n",
       "267  Hexanal  0.330326\n",
       "268  Hexanal  0.501147\n",
       "269  Hexanal  0.073911\n",
       "270  Hexanal  0.117332"
      ]
     },
     "execution_count": 381,
     "metadata": {},
     "output_type": "execute_result"
    }
   ],
   "source": [
    "Honectrl=Hone_full[Hone_full['Group'] == 'Control']\n",
    "HoneMS=Hone_full[Hone_full['Group'] == 'Mint']\n",
    "HoneH=Hone_full[Hone_full['Group'] == 'Hexanal']\n",
    "HoneH.head()"
   ]
  },
  {
   "cell_type": "code",
   "execution_count": 382,
   "metadata": {
    "collapsed": true
   },
   "outputs": [],
   "source": [
    "sns.set(style=\"white\", palette=\"muted\", color_codes=True)\n",
    "sns.set_context(\"talk\", font_scale=2)\n",
    "# Set up the matplotlib figure\n",
    "f, axes = plt.subplots(2, 2, figsize=(30,20), sharex=True)\n",
    "# f.suptitle(\"Hexanone\", fontsize=44)\n",
    "sns.despine(left=True)\n",
    "\n",
    "#data\n",
    "d = Honectrl['Hexanone']\n",
    "e = HoneMS['Hexanone']\n",
    "f = HoneH['Hexanone']\n",
    "\n",
    "# Plot a simple histogram with binsize determined automatically\n",
    "sns.distplot(d, kde=False, color=\"r\", hist_kws={\"histtype\":'step',\"linewidth\":3,\"alpha\":0.7},axlabel= False,ax=axes[0, 0])\n",
    "sns.distplot(e, kde=False, color=\"g\", hist_kws={\"histtype\":'step',\"linewidth\":3,\"alpha\":0.7},axlabel= False,ax=axes[0, 0])\n",
    "sns.distplot(f, kde=False, color=\"b\", hist_kws={\"histtype\":'step',\"linewidth\":3,\"alpha\":0.7},axlabel= False,ax=axes[0, 0])\n",
    "\n",
    "# Plot a kernel density estimate and rug plot\n",
    "sns.distplot(d, hist=False, rug=True, color=\"r\", axlabel= False,ax=axes[0, 1],label=\"Control\")\n",
    "sns.distplot(e, hist=False, rug=True, color=\"g\", axlabel= False,ax=axes[0, 1],label=\"Mint\")\n",
    "sns.distplot(f, hist=False, rug=True, color=\"b\", axlabel= False,ax=axes[0, 1],label=\"Hexanal\")\n",
    "\n",
    "# Plot a filled kernel density estimate\n",
    "sns.distplot(d, hist=False, color=\"r\", kde_kws={\"shade\": True}, axlabel=False,ax=axes[1, 0])\n",
    "sns.distplot(e, hist=False, color=\"g\", kde_kws={\"shade\": True}, axlabel=False,ax=axes[1, 0])\n",
    "sns.distplot(f, hist=False, color=\"b\", kde_kws={\"shade\": True}, axlabel= False,ax=axes[1, 0])\n",
    "\n",
    "# Plot a historgram and kernel density estimate\n",
    "sns.distplot(d, color=\"r\",axlabel= False,ax=axes[1, 1])\n",
    "sns.distplot(e, color=\"g\",axlabel= False,ax=axes[1, 1])\n",
    "sns.distplot(f, color=\"b\",axlabel= False,ax=axes[1, 1])\n",
    "\n",
    "plt.setp(axes, yticks=[])\n",
    "plt.tight_layout()"
   ]
  },
  {
   "cell_type": "code",
   "execution_count": 383,
   "metadata": {
    "collapsed": false
   },
   "outputs": [
    {
     "data": {
      "text/plain": [
       "KruskalResult(statistic=20.558063665415894, pvalue=3.4345765132367753e-05)"
      ]
     },
     "execution_count": 383,
     "metadata": {},
     "output_type": "execute_result"
    }
   ],
   "source": [
    "kruskal(Hone_full[Hone_full['Group'] == 'Control']['Hexanone'],Hone_full[Hone_full['Group'] == 'Mint']['Hexanone'],Hone_full[Hone_full['Group'] == 'Hexanal']['Hexanone'],nan_policy='omit')"
   ]
  },
  {
   "cell_type": "markdown",
   "metadata": {},
   "source": [
    "# PA"
   ]
  },
  {
   "cell_type": "code",
   "execution_count": 384,
   "metadata": {
    "collapsed": false
   },
   "outputs": [],
   "source": [
    "PA_full=composite_full[['Group','PA']]\n",
    "PAdf=pd.melt(PA_full,\"Group\",var_name=\"Odor\")"
   ]
  },
  {
   "cell_type": "code",
   "execution_count": 385,
   "metadata": {
    "collapsed": true
   },
   "outputs": [],
   "source": [
    "sns.set(style=\"white\", palette=\"muted\", color_codes=True);\n",
    "sns.set_context(\"talk\",font_scale=3);\n",
    "plt.figure(figsize=(15,18));\n",
    "sns.barplot(x=\"Odor\", y=\"value\", hue=\"Group\",palette={\"Control\": \"r\", \"Hexanal\": \"b\",\"Mint\":\"g\"}, data=PAdf);\n",
    "sns.despine();\n",
    "plt.legend(loc='upper right');\n",
    "plt.ylabel('Peak DF/F');\n",
    "plt.title('Peak DF/F');\n",
    "plt.xlabel('Odor');"
   ]
  },
  {
   "cell_type": "code",
   "execution_count": 386,
   "metadata": {
    "collapsed": true
   },
   "outputs": [],
   "source": [
    "sns.set(style=\"white\", palette=\"muted\", color_codes=True);\n",
    "sns.set_context(\"talk\",font_scale=3);\n",
    "plt.figure(figsize=(15,18));\n",
    "sns.boxplot(x=\"Odor\", y=\"value\", hue=\"Group\",palette={\"Control\": \"r\", \"Hexanal\": \"b\",\"Mint\":\"g\"}, data=PAdf);\n",
    "sns.despine();\n",
    "plt.legend(loc='upper right');\n",
    "plt.ylabel('Peak DF/F');\n",
    "plt.title('Peak DF/F');\n",
    "plt.xlabel('Odor');"
   ]
  },
  {
   "cell_type": "code",
   "execution_count": 387,
   "metadata": {
    "collapsed": false,
    "scrolled": true
   },
   "outputs": [
    {
     "data": {
      "text/html": [
       "<div>\n",
       "<table border=\"1\" class=\"dataframe\">\n",
       "  <thead>\n",
       "    <tr style=\"text-align: right;\">\n",
       "      <th></th>\n",
       "      <th>Group</th>\n",
       "      <th>PA</th>\n",
       "    </tr>\n",
       "  </thead>\n",
       "  <tbody>\n",
       "    <tr>\n",
       "      <th>266</th>\n",
       "      <td>Hexanal</td>\n",
       "      <td>0.043617</td>\n",
       "    </tr>\n",
       "    <tr>\n",
       "      <th>267</th>\n",
       "      <td>Hexanal</td>\n",
       "      <td>0.032337</td>\n",
       "    </tr>\n",
       "    <tr>\n",
       "      <th>268</th>\n",
       "      <td>Hexanal</td>\n",
       "      <td>0.000000</td>\n",
       "    </tr>\n",
       "    <tr>\n",
       "      <th>269</th>\n",
       "      <td>Hexanal</td>\n",
       "      <td>0.004714</td>\n",
       "    </tr>\n",
       "    <tr>\n",
       "      <th>270</th>\n",
       "      <td>Hexanal</td>\n",
       "      <td>0.032430</td>\n",
       "    </tr>\n",
       "  </tbody>\n",
       "</table>\n",
       "</div>"
      ],
      "text/plain": [
       "       Group        PA\n",
       "266  Hexanal  0.043617\n",
       "267  Hexanal  0.032337\n",
       "268  Hexanal  0.000000\n",
       "269  Hexanal  0.004714\n",
       "270  Hexanal  0.032430"
      ]
     },
     "execution_count": 387,
     "metadata": {},
     "output_type": "execute_result"
    }
   ],
   "source": [
    "PActrl=PA_full[PA_full['Group'] == 'Control']\n",
    "PAMS=PA_full[PA_full['Group'] == 'Mint']\n",
    "PAH=PA_full[PA_full['Group'] == 'Hexanal']\n",
    "PAH.head()"
   ]
  },
  {
   "cell_type": "code",
   "execution_count": 388,
   "metadata": {
    "collapsed": true
   },
   "outputs": [],
   "source": [
    "sns.set(style=\"white\", palette=\"muted\", color_codes=True)\n",
    "sns.set_context(\"talk\", font_scale=2)\n",
    "# Set up the matplotlib figure\n",
    "f, axes = plt.subplots(2, 2, figsize=(30,20), sharex=True)\n",
    "# f.suptitle(\"2-hydroxyacetophenone\", fontsize=44)\n",
    "sns.despine(left=True)\n",
    "\n",
    "#data\n",
    "d = PActrl['PA']\n",
    "e = PAMS['PA']\n",
    "f = PAH['PA']\n",
    "\n",
    "# Plot a simple histogram with binsize determined automatically\n",
    "sns.distplot(d, kde=False, color=\"r\", hist_kws={\"histtype\":'step',\"linewidth\":3,\"alpha\":0.7},axlabel= False,ax=axes[0, 0])\n",
    "sns.distplot(e, kde=False, color=\"g\", hist_kws={\"histtype\":'step',\"linewidth\":3,\"alpha\":0.7},axlabel= False,ax=axes[0, 0])\n",
    "sns.distplot(f, kde=False, color=\"b\", hist_kws={\"histtype\":'step',\"linewidth\":3,\"alpha\":0.7},axlabel= False,ax=axes[0, 0])\n",
    "\n",
    "# Plot a kernel density estimate and rug plot\n",
    "sns.distplot(d, hist=False, rug=True, color=\"r\", axlabel= False,ax=axes[0, 1],label=\"Control\")\n",
    "sns.distplot(e, hist=False, rug=True, color=\"g\", axlabel= False,ax=axes[0, 1],label=\"Mint\")\n",
    "sns.distplot(f, hist=False, rug=True, color=\"b\", axlabel= False,ax=axes[0, 1],label=\"Hexanal\")\n",
    "\n",
    "# Plot a filled kernel density estimate\n",
    "sns.distplot(d, hist=False, color=\"r\", kde_kws={\"shade\": True}, axlabel=False,ax=axes[1, 0])\n",
    "sns.distplot(e, hist=False, color=\"g\", kde_kws={\"shade\": True}, axlabel=False,ax=axes[1, 0])\n",
    "sns.distplot(f, hist=False, color=\"b\", kde_kws={\"shade\": True}, axlabel= False,ax=axes[1, 0])\n",
    "\n",
    "# Plot a historgram and kernel density estimate\n",
    "sns.distplot(d, color=\"r\",axlabel= False,ax=axes[1, 1])\n",
    "sns.distplot(e, color=\"g\",axlabel= False,ax=axes[1, 1])\n",
    "sns.distplot(f, color=\"b\",axlabel= False,ax=axes[1, 1])\n",
    "\n",
    "plt.setp(axes, yticks=[])\n",
    "plt.tight_layout()"
   ]
  },
  {
   "cell_type": "code",
   "execution_count": 389,
   "metadata": {
    "collapsed": false
   },
   "outputs": [
    {
     "data": {
      "text/plain": [
       "KruskalResult(statistic=36.777881600341829, pvalue=1.032249027618262e-08)"
      ]
     },
     "execution_count": 389,
     "metadata": {},
     "output_type": "execute_result"
    }
   ],
   "source": [
    "kruskal(PA_full[PA_full['Group'] == 'Control']['PA'],PA_full[PA_full['Group'] == 'Mint']['PA'],PA_full[PA_full['Group'] == 'Hexanal']['PA'],nan_policy='omit')"
   ]
  },
  {
   "cell_type": "markdown",
   "metadata": {},
   "source": [
    "# Blank"
   ]
  },
  {
   "cell_type": "code",
   "execution_count": 391,
   "metadata": {
    "collapsed": false
   },
   "outputs": [],
   "source": [
    "B_full=composite_full[['Group','BLANK']]\n",
    "Bdf=pd.melt(B_full,\"Group\",var_name=\"Odor\")"
   ]
  },
  {
   "cell_type": "code",
   "execution_count": 392,
   "metadata": {
    "collapsed": true
   },
   "outputs": [],
   "source": [
    "sns.set(style=\"white\", palette=\"muted\", color_codes=True);\n",
    "sns.set_context(\"talk\",font_scale=3);\n",
    "plt.figure(figsize=(15,18));\n",
    "sns.barplot(x=\"Odor\", y=\"value\", hue=\"Group\",palette={\"Control\": \"r\", \"Hexanal\": \"b\",\"Mint\":\"g\"}, data=Bdf);\n",
    "sns.despine();\n",
    "plt.legend(loc='upper right');\n",
    "plt.ylabel('Peak DF/F');\n",
    "plt.title('Peak DF/F');\n",
    "plt.xlabel('Odor');"
   ]
  },
  {
   "cell_type": "code",
   "execution_count": 393,
   "metadata": {
    "collapsed": true
   },
   "outputs": [],
   "source": [
    "sns.set(style=\"white\", palette=\"muted\", color_codes=True);\n",
    "sns.set_context(\"talk\",font_scale=3);\n",
    "plt.figure(figsize=(15,18));\n",
    "sns.boxplot(x=\"Odor\", y=\"value\", hue=\"Group\",palette={\"Control\": \"r\", \"Hexanal\": \"b\",\"Mint\":\"g\"}, data=Bdf);\n",
    "sns.despine();\n",
    "plt.legend(loc='upper right');\n",
    "plt.ylabel('Peak DF/F');\n",
    "plt.title('Peak DF/F');\n",
    "plt.xlabel('Odor');"
   ]
  },
  {
   "cell_type": "code",
   "execution_count": 398,
   "metadata": {
    "collapsed": false,
    "scrolled": true
   },
   "outputs": [
    {
     "data": {
      "text/html": [
       "<div>\n",
       "<table border=\"1\" class=\"dataframe\">\n",
       "  <thead>\n",
       "    <tr style=\"text-align: right;\">\n",
       "      <th></th>\n",
       "      <th>Group</th>\n",
       "      <th>BLANK</th>\n",
       "    </tr>\n",
       "  </thead>\n",
       "  <tbody>\n",
       "    <tr>\n",
       "      <th>287</th>\n",
       "      <td>Hexanal</td>\n",
       "      <td>0.059379</td>\n",
       "    </tr>\n",
       "    <tr>\n",
       "      <th>288</th>\n",
       "      <td>Hexanal</td>\n",
       "      <td>0.027291</td>\n",
       "    </tr>\n",
       "    <tr>\n",
       "      <th>289</th>\n",
       "      <td>Hexanal</td>\n",
       "      <td>0.069221</td>\n",
       "    </tr>\n",
       "    <tr>\n",
       "      <th>290</th>\n",
       "      <td>Hexanal</td>\n",
       "      <td>0.121546</td>\n",
       "    </tr>\n",
       "    <tr>\n",
       "      <th>291</th>\n",
       "      <td>Hexanal</td>\n",
       "      <td>0.055183</td>\n",
       "    </tr>\n",
       "  </tbody>\n",
       "</table>\n",
       "</div>"
      ],
      "text/plain": [
       "       Group     BLANK\n",
       "287  Hexanal  0.059379\n",
       "288  Hexanal  0.027291\n",
       "289  Hexanal  0.069221\n",
       "290  Hexanal  0.121546\n",
       "291  Hexanal  0.055183"
      ]
     },
     "execution_count": 398,
     "metadata": {},
     "output_type": "execute_result"
    }
   ],
   "source": [
    "Bctrl=B_full[B_full['Group'] == 'Control']\n",
    "Bctrl=Bctrl.dropna()\n",
    "BMS=B_full[B_full['Group'] == 'Mint']\n",
    "BMS=BMS.dropna()\n",
    "BH=B_full[B_full['Group'] == 'Hexanal']\n",
    "BH=BH.dropna()\n",
    "BH.head()"
   ]
  },
  {
   "cell_type": "code",
   "execution_count": 399,
   "metadata": {
    "collapsed": false
   },
   "outputs": [],
   "source": [
    "sns.set(style=\"white\", palette=\"muted\", color_codes=True)\n",
    "sns.set_context(\"talk\", font_scale=2)\n",
    "# Set up the matplotlib figure\n",
    "f, axes = plt.subplots(2, 2, figsize=(30,20), sharex=True)\n",
    "# f.suptitle(\"2-hydroxyacetophenone\", fontsize=44)\n",
    "sns.despine(left=True)\n",
    "\n",
    "#data\n",
    "d = Bctrl['BLANK']\n",
    "e = BMS['BLANK']\n",
    "f = BH['BLANK']\n",
    "\n",
    "# Plot a simple histogram with binsize determined automatically\n",
    "sns.distplot(d, kde=False, color=\"r\", hist_kws={\"histtype\":'step',\"linewidth\":3,\"alpha\":0.7},axlabel= False,ax=axes[0, 0])\n",
    "sns.distplot(e, kde=False, color=\"g\", hist_kws={\"histtype\":'step',\"linewidth\":3,\"alpha\":0.7},axlabel= False,ax=axes[0, 0])\n",
    "sns.distplot(f, kde=False, color=\"b\", hist_kws={\"histtype\":'step',\"linewidth\":3,\"alpha\":0.7},axlabel= False,ax=axes[0, 0])\n",
    "\n",
    "# Plot a kernel density estimate and rug plot\n",
    "sns.distplot(d, hist=False, rug=True, color=\"r\", axlabel= False,ax=axes[0, 1],label=\"Control\")\n",
    "sns.distplot(e, hist=False, rug=True, color=\"g\", axlabel= False,ax=axes[0, 1],label=\"Mint\")\n",
    "sns.distplot(f, hist=False, rug=True, color=\"b\", axlabel= False,ax=axes[0, 1],label=\"Hexanal\")\n",
    "\n",
    "# Plot a filled kernel density estimate\n",
    "sns.distplot(d, hist=False, color=\"r\", kde_kws={\"shade\": True}, axlabel=False,ax=axes[1, 0])\n",
    "sns.distplot(e, hist=False, color=\"g\", kde_kws={\"shade\": True}, axlabel=False,ax=axes[1, 0])\n",
    "sns.distplot(f, hist=False, color=\"b\", kde_kws={\"shade\": True}, axlabel= False,ax=axes[1, 0])\n",
    "\n",
    "# Plot a historgram and kernel density estimate\n",
    "sns.distplot(d, color=\"r\",axlabel= False,ax=axes[1, 1])\n",
    "sns.distplot(e, color=\"g\",axlabel= False,ax=axes[1, 1])\n",
    "sns.distplot(f, color=\"b\",axlabel= False,ax=axes[1, 1])\n",
    "\n",
    "plt.setp(axes, yticks=[])\n",
    "plt.tight_layout()"
   ]
  },
  {
   "cell_type": "code",
   "execution_count": 400,
   "metadata": {
    "collapsed": false
   },
   "outputs": [
    {
     "data": {
      "text/plain": [
       "KruskalResult(statistic=109.93241092905365, pvalue=1.3442507132896537e-24)"
      ]
     },
     "execution_count": 400,
     "metadata": {},
     "output_type": "execute_result"
    }
   ],
   "source": [
    "kruskal(B_full[B_full['Group'] == 'Control']['BLANK'],B_full[B_full['Group'] == 'Mint']['BLANK'],B_full[B_full['Group'] == 'Hexanal']['BLANK'],nan_policy='omit')"
   ]
  },
  {
   "cell_type": "markdown",
   "metadata": {
    "collapsed": true
   },
   "source": [
    "# Baseline, by group"
   ]
  },
  {
   "cell_type": "code",
   "execution_count": 15,
   "metadata": {
    "collapsed": true
   },
   "outputs": [],
   "source": [
    "bl=pd.read_csv('C:\\Users\\Annie\\Documents\\Data\\Ca_Imaging\\Analysis\\Odor_Panel\\Composite_Baseline_NoP.csv')\n",
    "del bl['Mouse']\n",
    "bl_sorted=bl.reindex_axis(bl.mean().sort_values().index, axis=1)\n",
    "bl_labels=pd.DataFrame(bl.Group)\n",
    "tmp=[bl_labels,bl_sorted]\n",
    "bdf=pd.concat(tmp,axis=1)\n",
    "bdfull=pd.melt(bdf,\"Group\",var_name=\"Odor\")\n",
    "bdfull=bdfull.dropna()"
   ]
  },
  {
   "cell_type": "markdown",
   "metadata": {},
   "source": [
    "# Composite Graphs - Baseline"
   ]
  },
  {
   "cell_type": "code",
   "execution_count": 498,
   "metadata": {
    "collapsed": false,
    "scrolled": true
   },
   "outputs": [],
   "source": [
    "sns.set(style=\"white\", palette=\"muted\", color_codes=True);\n",
    "sns.set_context(\"talk\",font_scale=2.2);\n",
    "plt.figure(figsize=(45,20));\n",
    "ax=sns.barplot(x=\"Odor\", y=\"value\", hue=\"Group\",palette={\"Control\": \"r\", \"Hexanal\": \"b\",\"Mint\":\"g\"}, data=bdfull);\n",
    "sns.despine()\n",
    "plt.ylabel('Intensity', fontsize=48);\n",
    "plt.title('Baseline F',fontsize=55);\n",
    "plt.xlabel('Odor',fontsize=48);\n",
    "plt.legend(loc=2,prop={'size':30});"
   ]
  },
  {
   "cell_type": "code",
   "execution_count": 518,
   "metadata": {
    "collapsed": false
   },
   "outputs": [],
   "source": [
    "# sns.set_context(\"talk\",font_scale=1.9);\n",
    "# sns.set(style=\"white\", palette=\"muted\", color_codes=True);\n",
    "# plt.figure(figsize=(8, 6));\n",
    "# violinplot=sns.violinplot(x=\"Odor\", y=\"value\", hue=\"Group\", data=bdfull);\n",
    "# violinplot.set(ylabel='Intensity');"
   ]
  },
  {
   "cell_type": "code",
   "execution_count": 502,
   "metadata": {
    "collapsed": true
   },
   "outputs": [],
   "source": [
    "sns.set(style=\"white\", palette=\"muted\", color_codes=True);\n",
    "sns.set_context(\"talk\",font_scale=2.2);\n",
    "plt.figure(figsize=(45,20));\n",
    "ax=sns.boxplot(x=\"Odor\", y=\"value\", hue=\"Group\",palette={\"Control\": \"r\", \"Hexanal\": \"b\",\"Mint\":\"g\"}, data=bdfull);\n",
    "sns.despine()\n",
    "plt.ylabel('Intensity', fontsize=48);\n",
    "plt.title('Baseline F',fontsize=55);\n",
    "plt.xlabel('Odor',fontsize=48);\n",
    "plt.legend(loc=2,prop={'size':30});"
   ]
  },
  {
   "cell_type": "markdown",
   "metadata": {},
   "source": [
    "# Odor, by Mouse"
   ]
  },
  {
   "cell_type": "code",
   "execution_count": 20,
   "metadata": {
    "collapsed": false
   },
   "outputs": [
    {
     "data": {
      "text/html": [
       "<div>\n",
       "<table border=\"1\" class=\"dataframe\">\n",
       "  <thead>\n",
       "    <tr style=\"text-align: right;\">\n",
       "      <th></th>\n",
       "      <th>Mouse</th>\n",
       "      <th>Odor</th>\n",
       "      <th>value</th>\n",
       "    </tr>\n",
       "  </thead>\n",
       "  <tbody>\n",
       "    <tr>\n",
       "      <th>0</th>\n",
       "      <td>160321_3</td>\n",
       "      <td>THA</td>\n",
       "      <td>0.212200</td>\n",
       "    </tr>\n",
       "    <tr>\n",
       "      <th>1</th>\n",
       "      <td>160321_3</td>\n",
       "      <td>THA</td>\n",
       "      <td>0.066122</td>\n",
       "    </tr>\n",
       "    <tr>\n",
       "      <th>2</th>\n",
       "      <td>160321_3</td>\n",
       "      <td>THA</td>\n",
       "      <td>0.022259</td>\n",
       "    </tr>\n",
       "    <tr>\n",
       "      <th>3</th>\n",
       "      <td>160321_3</td>\n",
       "      <td>THA</td>\n",
       "      <td>0.145203</td>\n",
       "    </tr>\n",
       "    <tr>\n",
       "      <th>4</th>\n",
       "      <td>160321_3</td>\n",
       "      <td>THA</td>\n",
       "      <td>0.155862</td>\n",
       "    </tr>\n",
       "  </tbody>\n",
       "</table>\n",
       "</div>"
      ],
      "text/plain": [
       "      Mouse Odor     value\n",
       "0  160321_3  THA  0.212200\n",
       "1  160321_3  THA  0.066122\n",
       "2  160321_3  THA  0.022259\n",
       "3  160321_3  THA  0.145203\n",
       "4  160321_3  THA  0.155862"
      ]
     },
     "execution_count": 20,
     "metadata": {},
     "output_type": "execute_result"
    }
   ],
   "source": [
    "readms=pd.read_csv('C:\\Users\\Annie\\Documents\\Data\\Ca_Imaging\\Analysis\\Odor_Panel\\Composite_MaxDF_NoP.csv')\n",
    "ms = readms\n",
    "del ms['Group']\n",
    "ms_sorted=ms.reindex_axis(ms.mean().sort_values().index, axis=1)\n",
    "ms_labels=pd.DataFrame(ms.Mouse)\n",
    "tmp=[ms_labels,ms_sorted]\n",
    "msdf=pd.concat(tmp,axis=1)\n",
    "msfull=pd.melt(msdf,\"Mouse\",var_name=\"Odor\")\n",
    "msfull=msfull.dropna()\n",
    "msfull.head()"
   ]
  },
  {
   "cell_type": "code",
   "execution_count": 522,
   "metadata": {
    "collapsed": false
   },
   "outputs": [],
   "source": [
    "#dictionary of imaging session and labels\n",
    "msgroups={'160321_3':'r', '160421_2':'r', '160502_1':'r', '160503_1':'r', '160420_1':'r',\n",
    "       '160420_2':'r', '160420_3':'r', '160421_1':'r', '160421_3':'r', '160503_2':'r',\n",
    "       '160310_2':'r', '160310_3':'r', '160321_1':'r', '160321_2':'r', '160517_2':'b',\n",
    "       '160525_1':'b', '160620_1':'b', '160517_1':'b', '160517_3':'b', '160525_2':'b',\n",
    "       '160525_3':'b', '160620_2':'b', '160620_3':'b', '160621_1':'b', '160621_2':'b',\n",
    "       '160622_1':'b', '160622_2':'b', '160626_1':'b', '160626_2':'b', '160330_3':'g',\n",
    "       '160328_1_B':'g', '160428_1_B':'g', '160429_1':'g', '160429_2':'g', '160325_1':'g',\n",
    "       '160325_2':'g', '160325_4':'g', '160328_2':'g', '160328_3':'g', '160330_2':'g',\n",
    "       '160401_1':'g'}"
   ]
  },
  {
   "cell_type": "markdown",
   "metadata": {},
   "source": [
    "# Composite Graphs - by session"
   ]
  },
  {
   "cell_type": "code",
   "execution_count": 529,
   "metadata": {
    "collapsed": false,
    "scrolled": true
   },
   "outputs": [],
   "source": [
    "sns.set(style=\"white\", palette=\"muted\", color_codes=True);\n",
    "sns.set_context(\"talk\",font_scale=2.2);\n",
    "plt.figure(figsize=(45,20));\n",
    "ax=sns.barplot(x=\"Odor\", y=\"value\", hue=\"Mouse\",palette={'160321_3':'r', '160421_2':'r', '160502_1':'r', '160503_1':'r', '160420_1':'r',\n",
    "       '160420_2':'r', '160420_3':'r', '160421_1':'r', '160421_3':'r', '160503_2':'r',\n",
    "       '160310_2':'r', '160310_3':'r', '160321_1':'r', '160321_2':'r', '160517_2':'b',\n",
    "       '160525_1':'b', '160620_1':'b', '160517_1':'b', '160517_3':'b', '160525_2':'b',\n",
    "       '160525_3':'b', '160620_2':'b', '160620_3':'b', '160621_1':'b', '160621_2':'b',\n",
    "       '160622_1':'b', '160622_2':'b', '160626_1':'b', '160626_2':'b', '160330_3':'g',\n",
    "       '160328_1_B':'g', '160428_1_B':'g', '160429_1':'g', '160429_2':'g', '160325_1':'g',\n",
    "       '160325_2':'g', '160325_4':'g', '160328_2':'g', '160328_3':'g', '160330_2':'g',\n",
    "       '160401_1':'g'}, data=msfull);\n",
    "sns.despine()\n",
    "plt.ylabel('Peak DF/F', fontsize=48);\n",
    "plt.title('Odor-evoked response, by session',fontsize=55);\n",
    "plt.xlabel('Odor',fontsize=48);\n",
    "ax.legend_.remove()"
   ]
  },
  {
   "cell_type": "code",
   "execution_count": 14,
   "metadata": {
    "collapsed": false
   },
   "outputs": [],
   "source": [
    "# sns.set(style=\"white\", palette=\"muted\", color_codes=True);\n",
    "# sns.set_context(\"talk\",font_scale=2.2);\n",
    "# plt.figure(figsize=(45,20));\n",
    "# ax=sns.violinplot(x=\"Odor\", y=\"value\", hue=\"Mouse\",palette={'160321_3':'r', '160421_2':'r', '160502_1':'r', '160503_1':'r', '160420_1':'r',\n",
    "#        '160420_2':'r', '160420_3':'r', '160421_1':'r', '160421_3':'r', '160503_2':'r',\n",
    "#        '160310_2':'r', '160310_3':'r', '160321_1':'r', '160321_2':'r', '160517_2':'b',\n",
    "#        '160525_1':'b', '160620_1':'b', '160517_1':'b', '160517_3':'b', '160525_2':'b',\n",
    "#        '160525_3':'b', '160620_2':'b', '160620_3':'b', '160621_1':'b', '160621_2':'b',\n",
    "#        '160622_1':'b', '160622_2':'b', '160626_1':'b', '160626_2':'b', '160330_3':'g',\n",
    "#        '160328_1_B':'g', '160428_1_B':'g', '160429_1':'g', '160429_2':'g', '160325_1':'g',\n",
    "#        '160325_2':'g', '160325_4':'g', '160328_2':'g', '160328_3':'g', '160330_2':'g',\n",
    "#        '160401_1':'g'}, data=msfull);\n",
    "# sns.despine()\n",
    "# plt.ylabel('Peak DF/F', fontsize=48);\n",
    "# plt.title('Odor-evoked response, by session',fontsize=55);\n",
    "# plt.xlabel('Odor',fontsize=48);\n",
    "# ax.legend_.remove()"
   ]
  },
  {
   "cell_type": "code",
   "execution_count": 531,
   "metadata": {
    "collapsed": true
   },
   "outputs": [],
   "source": [
    "sns.set(style=\"white\", palette=\"muted\", color_codes=True);\n",
    "sns.set_context(\"talk\",font_scale=2.2);\n",
    "plt.figure(figsize=(55,40));\n",
    "ax=sns.boxplot(x=\"Odor\", y=\"value\", hue=\"Mouse\",palette={'160321_3':'r', '160421_2':'r', '160502_1':'r', '160503_1':'r', '160420_1':'r',\n",
    "       '160420_2':'r', '160420_3':'r', '160421_1':'r', '160421_3':'r', '160503_2':'r',\n",
    "       '160310_2':'r', '160310_3':'r', '160321_1':'r', '160321_2':'r', '160517_2':'b',\n",
    "       '160525_1':'b', '160620_1':'b', '160517_1':'b', '160517_3':'b', '160525_2':'b',\n",
    "       '160525_3':'b', '160620_2':'b', '160620_3':'b', '160621_1':'b', '160621_2':'b',\n",
    "       '160622_1':'b', '160622_2':'b', '160626_1':'b', '160626_2':'b', '160330_3':'g',\n",
    "       '160328_1_B':'g', '160428_1_B':'g', '160429_1':'g', '160429_2':'g', '160325_1':'g',\n",
    "       '160325_2':'g', '160325_4':'g', '160328_2':'g', '160328_3':'g', '160330_2':'g',\n",
    "       '160401_1':'g'}, data=msfull);\n",
    "sns.despine()\n",
    "plt.ylabel('Peak DF/F', fontsize=48);\n",
    "plt.title('Odor-evoked response, by session',fontsize=55);\n",
    "plt.xlabel('Odor',fontsize=48);\n",
    "ax.legend_.remove()"
   ]
  },
  {
   "cell_type": "code",
   "execution_count": null,
   "metadata": {
    "collapsed": true
   },
   "outputs": [],
   "source": []
  }
 ],
 "metadata": {
  "anaconda-cloud": {},
  "kernelspec": {
   "display_name": "Python [Root]",
   "language": "python",
   "name": "Python [Root]"
  },
  "language_info": {
   "codemirror_mode": {
    "name": "ipython",
    "version": 2
   },
   "file_extension": ".py",
   "mimetype": "text/x-python",
   "name": "python",
   "nbconvert_exporter": "python",
   "pygments_lexer": "ipython2",
   "version": "2.7.12"
  }
 },
 "nbformat": 4,
 "nbformat_minor": 0
}
