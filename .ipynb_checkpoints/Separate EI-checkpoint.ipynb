{
 "cells": [
  {
   "cell_type": "code",
   "execution_count": 1,
   "metadata": {
    "collapsed": false
   },
   "outputs": [
    {
     "name": "stdout",
     "output_type": "stream",
     "text": [
      "Using matplotlib backend: Qt4Agg\n"
     ]
    }
   ],
   "source": [
    "drive_path = 'c:/'\n",
    "import numpy as np\n",
    "import pandas as pd\n",
    "import os\n",
    "import sys\n",
    "import matplotlib.pyplot as plt\n",
    "from scipy.stats import ks_2samp\n",
    "from scipy.stats import anderson_ksamp\n",
    "from scipy.stats import kruskal\n",
    "from scipy.stats import variation\n",
    "%matplotlib\n",
    "import seaborn as sns\n",
    "from scipy.stats import zscore\n",
    "from scipy.stats import nanmean\n",
    "from scipy.stats import nanstd"
   ]
  },
  {
   "cell_type": "code",
   "execution_count": 15,
   "metadata": {
    "collapsed": true
   },
   "outputs": [],
   "source": [
    "filename='C:\\Users\\Annie\\Documents\\Data\\Ca_Imaging\\GoodFiles\\\\fullintegral.csv'\n",
    "comp=pd.read_csv(filename)\n",
    "comp_sorted=comp.reindex_axis(comp.mean().sort_values().index, axis=1)\n",
    "comp_labels=pd.DataFrame(comp.Mouse)\n",
    "comp_group=pd.DataFrame(comp.Group)\n",
    "tmp=[comp_group,comp_labels,comp_sorted]\n",
    "composite_full=pd.concat(tmp,axis=1)\n",
    "cfull=pd.melt(composite_full,['Group','Mouse'],var_name=\"Odor\")\n",
    "# cfull['Mouse'] = cfull['Mouse'].apply(lambda x: x.split('_')[0])\n",
    "# composite_full['Mouse']=composite_full['Mouse'].apply(lambda x:x.split('_')[0])"
   ]
  },
  {
   "cell_type": "code",
   "execution_count": null,
   "metadata": {
    "collapsed": false
   },
   "outputs": [],
   "source": []
  },
  {
   "cell_type": "markdown",
   "metadata": {},
   "source": [
    "# Count number of excitatory and inhibitory events per cell"
   ]
  },
  {
   "cell_type": "code",
   "execution_count": 49,
   "metadata": {
    "collapsed": false
   },
   "outputs": [],
   "source": [
    "# for x in composite_full.index:\n",
    "a=0\n",
    "b=0\n",
    "for value in composite_full.iloc[x][2:]:\n",
    "    if value>0:\n",
    "        a=a+1\n",
    "    elif value<0:\n",
    "        b=b+1"
   ]
  },
  {
   "cell_type": "code",
   "execution_count": 50,
   "metadata": {
    "collapsed": false
   },
   "outputs": [
    {
     "data": {
      "text/html": [
       "<div>\n",
       "<table border=\"1\" class=\"dataframe\">\n",
       "  <thead>\n",
       "    <tr style=\"text-align: right;\">\n",
       "      <th></th>\n",
       "      <th>index</th>\n",
       "      <th>Group</th>\n",
       "      <th>Mouse</th>\n",
       "      <th>E</th>\n",
       "      <th>I</th>\n",
       "    </tr>\n",
       "  </thead>\n",
       "  <tbody>\n",
       "    <tr>\n",
       "      <th>0</th>\n",
       "      <td>862</td>\n",
       "      <td>Hexanal</td>\n",
       "      <td>160626_2</td>\n",
       "      <td>15</td>\n",
       "      <td>0</td>\n",
       "    </tr>\n",
       "  </tbody>\n",
       "</table>\n",
       "</div>"
      ],
      "text/plain": [
       "   index    Group     Mouse   E  I\n",
       "0    862  Hexanal  160626_2  15  0"
      ]
     },
     "execution_count": 50,
     "metadata": {},
     "output_type": "execute_result"
    }
   ],
   "source": [
    "c=pd.DataFrame(composite_full.iloc[x][['Group','Mouse']]).T\n",
    "c=c.reset_index()\n",
    "pd.concat([c,pd.DataFrame({'E':[a]}),pd.DataFrame({'I':[b]})],axis=1)"
   ]
  },
  {
   "cell_type": "code",
   "execution_count": null,
   "metadata": {
    "collapsed": true
   },
   "outputs": [],
   "source": []
  },
  {
   "cell_type": "markdown",
   "metadata": {},
   "source": [
    "# Separate E/I dataframes"
   ]
  },
  {
   "cell_type": "code",
   "execution_count": 16,
   "metadata": {
    "collapsed": false
   },
   "outputs": [],
   "source": [
    "#Make separate excitatory and inhibitory dataframes\n",
    "mindf=pd.DataFrame([])\n",
    "maxdf=pd.DataFrame([])\n",
    "zdf=pd.DataFrame([])\n",
    "for x in cfull.index:\n",
    "    if cfull.value[x]>0:\n",
    "        a=pd.DataFrame(cfull.iloc[x]).T\n",
    "        maxdf=maxdf.append(a,ignore_index=True)\n",
    "    elif cfull.value[x]<0:\n",
    "        a=pd.DataFrame(cfull.iloc[x]).T\n",
    "        mindf=mindf.append(a,ignore_index=True)\n",
    "    else:\n",
    "        a=pd.DataFrame(cfull.iloc[x]).T\n",
    "        zdf=zdf.append(a,ignore_index=True)"
   ]
  },
  {
   "cell_type": "code",
   "execution_count": 17,
   "metadata": {
    "collapsed": true
   },
   "outputs": [],
   "source": [
    "groupcolors={'Control':'r','Mint':'g','Hexanal':'b'}"
   ]
  },
  {
   "cell_type": "code",
   "execution_count": 52,
   "metadata": {
    "collapsed": false
   },
   "outputs": [],
   "source": [
    "#Plot Excitatory by group\n",
    "sns.set(style=\"white\", palette=\"muted\", color_codes=True);\n",
    "sns.set_context(\"talk\", font_scale=1.8);\n",
    "plt.figure(figsize=(45, 20));\n",
    "sns.boxplot(x='Odor',y='value',hue='Group',palette=groupcolors,data=maxdf[['Group','Odor','value']]);\n",
    "sns.despine()\n",
    "plt.ylabel('Integral', fontsize=48);\n",
    "plt.title('Excitatory responses', fontsize=55);\n",
    "plt.xlabel('Odor', fontsize=48);"
   ]
  },
  {
   "cell_type": "code",
   "execution_count": 53,
   "metadata": {
    "collapsed": true
   },
   "outputs": [],
   "source": [
    "#Plot Inhibitory by group\n",
    "sns.set(style=\"white\", palette=\"muted\", color_codes=True);\n",
    "sns.set_context(\"talk\", font_scale=1.8);\n",
    "plt.figure(figsize=(45, 20));\n",
    "sns.boxplot(x='Odor',y='value',hue='Group',palette=groupcolors,data=mindf[['Group','Odor','value']]);\n",
    "sns.despine()\n",
    "plt.ylabel('Integral', fontsize=48);\n",
    "plt.title('Inhibitory responses', fontsize=55);\n",
    "plt.xlabel('Odor', fontsize=48);"
   ]
  },
  {
   "cell_type": "code",
   "execution_count": 120,
   "metadata": {
    "collapsed": true
   },
   "outputs": [],
   "source": [
    "#All responses\n",
    "sns.set(style=\"white\", palette=\"muted\", color_codes=True);\n",
    "sns.set_context(\"talk\", font_scale=1.8);\n",
    "plt.figure(figsize=(45, 20));\n",
    "sns.boxplot(x='Odor',y='value',hue='Group',palette=groupcolors,data=mindf[['Group','Odor','value']]);\n",
    "ax=sns.boxplot(x='Odor',y='value',hue='Group',palette=groupcolors,data=maxdf[['Group','Odor','value']]);\n",
    "ax.legend_.remove()\n",
    "sns.despine()\n",
    "plt.ylabel('Peak', fontsize=48);\n",
    "plt.title('All responses', fontsize=55);\n",
    "plt.xlabel('Odor', fontsize=48);"
   ]
  },
  {
   "cell_type": "code",
   "execution_count": 18,
   "metadata": {
    "collapsed": true
   },
   "outputs": [],
   "source": [
    "#EI ratio, of number\n",
    "eibdf=pd.DataFrame([])\n",
    "for x in maxdf.Group.unique():\n",
    "    for y in maxdf.Odor.unique():\n",
    "        a=float(len(mindf[(mindf.Group==x) & (mindf.Odor==y)]['value']))\n",
    "        b=float(len(maxdf[(maxdf.Group==x) & (maxdf.Odor==y)]['value']))\n",
    "        EIB=a/b\n",
    "        eibdf=eibdf.append(pd.DataFrame({'Group':[x],'Odor':[y],'EIB':[EIB]}))\n",
    "\n",
    "sns.set(style=\"white\", palette=\"muted\", color_codes=True);\n",
    "sns.set_context(\"talk\", font_scale=1.8);\n",
    "plt.figure(figsize=(45, 20));\n",
    "sns.pointplot(x='Odor',y='EIB',hue='Group',palette=groupcolors,data=eibdf);\n",
    "sns.despine()\n",
    "plt.ylabel('Inhibition/Excitation Ratio', fontsize=48);\n",
    "plt.title('Inhibition/Excitation', fontsize=55);\n",
    "plt.xlabel('Odor', fontsize=48);"
   ]
  },
  {
   "cell_type": "code",
   "execution_count": 12,
   "metadata": {
    "collapsed": false
   },
   "outputs": [
    {
     "data": {
      "text/plain": [
       "0.07309941520467836"
      ]
     },
     "execution_count": 12,
     "metadata": {},
     "output_type": "execute_result"
    }
   ],
   "source": [
    "float(a)/float(b)"
   ]
  },
  {
   "cell_type": "code",
   "execution_count": null,
   "metadata": {
    "collapsed": true
   },
   "outputs": [],
   "source": []
  },
  {
   "cell_type": "code",
   "execution_count": null,
   "metadata": {
    "collapsed": true
   },
   "outputs": [],
   "source": []
  },
  {
   "cell_type": "code",
   "execution_count": 265,
   "metadata": {
    "collapsed": true
   },
   "outputs": [],
   "source": [
    "#EI balance (comparison of summed I/E)\n",
    "eibdf=pd.DataFrame([])\n",
    "for x in maxdf.Group.unique():\n",
    "    for y in maxdf.Odor.unique():\n",
    "        a=mindf[(mindf.Group==x) & (mindf.Odor==y)]['value'].sum()\n",
    "        b=maxdf[(maxdf.Group==x) & (maxdf.Odor==y)]['value'].sum()\n",
    "        EIB=abs(a/b)\n",
    "        eibdf=eibdf.append(pd.DataFrame({'Group':[x],'Odor':[y],'EIB':[EIB]}))\n",
    "\n",
    "sns.set(style=\"white\", palette=\"muted\", color_codes=True);\n",
    "sns.set_context(\"talk\", font_scale=1.8);\n",
    "plt.figure(figsize=(45, 20));\n",
    "sns.pointplot(x='Odor',y='EIB',hue='Group',palette=groupcolors,data=eibdf);\n",
    "sns.despine()\n",
    "plt.ylabel('EIB', fontsize=48);\n",
    "plt.title('Excitation-Inhibition Balance', fontsize=55);\n",
    "plt.xlabel('Odor', fontsize=48);"
   ]
  },
  {
   "cell_type": "code",
   "execution_count": 266,
   "metadata": {
    "collapsed": false
   },
   "outputs": [
    {
     "data": {
      "text/plain": [
       "Ks_2sampResult(statistic=1.0, pvalue=1.0054168109701315e-07)"
      ]
     },
     "execution_count": 266,
     "metadata": {},
     "output_type": "execute_result"
    }
   ],
   "source": [
    "ks_2samp(eibdf[(eibdf.Group=='Control')]['EIB'],eibdf[(eibdf.Group=='Mint')]['EIB'])"
   ]
  },
  {
   "cell_type": "code",
   "execution_count": 270,
   "metadata": {
    "collapsed": false
   },
   "outputs": [],
   "source": [
    "zscores=pd.DataFrame([])\n",
    "df=maxdf\n",
    "for x in df.Mouse.unique():\n",
    "    tmp=pd.DataFrame([])\n",
    "    for y in df.Odor.unique():\n",
    "        v=df[(df.Mouse==x)& (df.Odor==y)]['value']\n",
    "        a=pd.DataFrame((v - np.nanmean(v)) / np.nanstd(v))\n",
    "        a=pd.concat([df[(df.Mouse==x)& (df.Odor==y)][['Group','Mouse','Odor']],a],axis=1)\n",
    "        tmp=tmp.append(a)\n",
    "    zscores=zscores.append(tmp)"
   ]
  },
  {
   "cell_type": "code",
   "execution_count": 271,
   "metadata": {
    "collapsed": false
   },
   "outputs": [],
   "source": [
    "#Plot everything by group\n",
    "sns.set(style=\"white\", palette=\"muted\", color_codes=True);\n",
    "sns.set_context(\"talk\", font_scale=1.8);\n",
    "plt.figure(figsize=(45, 20));\n",
    "ax=sns.boxplot(x='Odor',y='value',hue='Group',palette=groupcolors,data=zscores)\n",
    "ax.legend_.remove()\n",
    "sns.despine()\n",
    "plt.ylabel('Zscore', fontsize=48);\n",
    "plt.title('Zscore', fontsize=55);\n",
    "plt.xlabel('Odor', fontsize=48);"
   ]
  },
  {
   "cell_type": "code",
   "execution_count": 215,
   "metadata": {
    "collapsed": false
   },
   "outputs": [],
   "source": [
    "o='Hexanone'\n",
    "sns.distplot(zscores[(zscores.Group=='Control')&(zscores.Odor==o)]['value'], hist=False, color=\"r\", kde_kws={\"shade\": True});\n",
    "sns.distplot(zscores[(zscores.Group=='Mint')&(zscores.Odor==o)]['value'], hist=False, color=\"g\", kde_kws={\"shade\": True});\n",
    "sns.distplot(zscores[(zscores.Group=='Hexanal')&(zscores.Odor==o)]['value'], hist=False, color=\"b\", kde_kws={\"shade\": True});"
   ]
  },
  {
   "cell_type": "code",
   "execution_count": 236,
   "metadata": {
    "collapsed": false
   },
   "outputs": [
    {
     "data": {
      "text/plain": [
       "KruskalResult(statistic=0.0023674242424363001, pvalue=0.99881698818962539)"
      ]
     },
     "execution_count": 236,
     "metadata": {},
     "output_type": "execute_result"
    }
   ],
   "source": [
    "kruskal(zscores[(zscores.Group=='Control')&(zscores.Odor==o)]['value'],zscores[(zscores.Group=='Mint')&(zscores.Odor==o)]['value'],zscores[(zscores.Group=='Hexanal')&(zscores.Odor==o)]['value'])"
   ]
  },
  {
   "cell_type": "markdown",
   "metadata": {},
   "source": [
    "# Mean"
   ]
  },
  {
   "cell_type": "code",
   "execution_count": 273,
   "metadata": {
    "collapsed": false
   },
   "outputs": [],
   "source": [
    "means=pd.DataFrame([])\n",
    "df=maxdf\n",
    "for x in df.Mouse.unique():\n",
    "    tmp=pd.DataFrame([])\n",
    "    for y in df.Odor.unique():\n",
    "        a=(df[(df.Mouse==x)&(df.Odor==y)]['value']).dropna().mean()\n",
    "        m=pd.DataFrame({y:[a]})\n",
    "        tmp=pd.concat([tmp,m],axis=1)\n",
    "    b=pd.DataFrame({'Mouse':[x]})\n",
    "    c=pd.DataFrame({'Group':[df[df.Mouse==x]['Group'].iloc[0]]})\n",
    "#     c=c.reset_index(drop=True)\n",
    "    tmp=pd.concat([c,tmp],axis=1)\n",
    "    means=means.append(tmp)\n",
    "meanmelt=pd.melt(means,\"Group\",var_name=\"Odor\")\n",
    "#Plot everything by group\n",
    "sns.set(style=\"white\", palette=\"muted\", color_codes=True);\n",
    "sns.set_context(\"talk\", font_scale=1.8);\n",
    "plt.figure(figsize=(45, 20));\n",
    "ax=sns.boxplot(x='Odor',y='value',hue='Group',palette=groupcolors,data=meanmelt)\n",
    "ax.legend_.remove()\n",
    "sns.despine()\n",
    "plt.ylabel('Mean', fontsize=48);\n",
    "plt.title('Mean', fontsize=55);\n",
    "plt.xlabel('Odor', fontsize=48);"
   ]
  },
  {
   "cell_type": "code",
   "execution_count": 323,
   "metadata": {
    "collapsed": false
   },
   "outputs": [],
   "source": [
    "#POINTPLOTS\n",
    "means=pd.DataFrame([])\n",
    "df=maxdf\n",
    "for x in df.Group.unique():\n",
    "    tmp=pd.DataFrame([])\n",
    "    for y in df.Odor.unique():\n",
    "        a=(df[(df.Group==x)&(df.Odor==y)]['value']).dropna().std()\n",
    "        m=pd.DataFrame({y:[a]})\n",
    "        tmp=pd.concat([tmp,m],axis=1)\n",
    "        b=pd.DataFrame({'Group':[x]})\n",
    "#     c=pd.DataFrame({'Group':[df[df.Mouse==x]['Group'].iloc[0]]})\n",
    "#     c=c.reset_index(drop=True)\n",
    "    tmp=pd.concat([b,tmp],axis=1)\n",
    "    means=means.append(tmp)\n",
    "meanmelt=pd.melt(means,\"Group\",var_name=\"Odor\")\n",
    "\n",
    "sns.set(style=\"white\", palette=\"muted\", color_codes=True);\n",
    "sns.set_context(\"talk\", font_scale=1.8);\n",
    "plt.figure(figsize=(45, 20));\n",
    "ax=sns.pointplot(x='Odor',y='value',hue='Group',palette=groupcolors,data=meanmelt)\n",
    "ax.legend_.remove()\n",
    "sns.despine()\n",
    "plt.ylabel('STD', fontsize=48);\n",
    "plt.title('STD', fontsize=55);\n",
    "plt.xlabel('Odor', fontsize=48);"
   ]
  },
  {
   "cell_type": "code",
   "execution_count": 277,
   "metadata": {
    "collapsed": false
   },
   "outputs": [],
   "source": [
    "#MEDIANS\n",
    "medians=pd.DataFrame([])\n",
    "df=mindf\n",
    "for x in df.Mouse.unique():\n",
    "    tmp=pd.DataFrame([])\n",
    "    for y in df.Odor.unique():\n",
    "        a=df[(df.Mouse==x)&(df.Odor==y)]['value'].dropna().median()\n",
    "        m=pd.DataFrame({y:[a]})\n",
    "        tmp=pd.concat([tmp,m],axis=1)\n",
    "    b=pd.DataFrame({'Mouse':[x]})\n",
    "    c=pd.DataFrame({'Group':[df[df.Mouse==x]['Group'].iloc[0]]})\n",
    "#     c=c.reset_index(drop=True)\n",
    "    tmp=pd.concat([c,tmp],axis=1)\n",
    "    medians=medians.append(tmp)\n",
    "medianmelt=pd.melt(medians,\"Group\",var_name=\"Odor\")\n",
    "#Plot everything by group\n",
    "sns.set(style=\"white\", palette=\"muted\", color_codes=True);\n",
    "sns.set_context(\"talk\", font_scale=1.8);\n",
    "plt.figure(figsize=(45, 20));\n",
    "ax=sns.boxplot(x='Odor',y='value',hue='Group',palette=groupcolors,data=medianmelt)\n",
    "ax.legend_.remove()\n",
    "sns.despine()\n",
    "plt.ylabel('Median', fontsize=48);\n",
    "plt.title('Median', fontsize=55);\n",
    "plt.xlabel('Odor', fontsize=48);"
   ]
  },
  {
   "cell_type": "code",
   "execution_count": 276,
   "metadata": {
    "collapsed": false
   },
   "outputs": [],
   "source": [
    "stds=pd.DataFrame([])\n",
    "df=maxdf\n",
    "for x in df.Mouse.unique():\n",
    "    tmp=pd.DataFrame([])\n",
    "    for y in df.Odor.unique():\n",
    "        a=df[(df.Mouse==x)&(df.Odor==y)]['value'].dropna().std()\n",
    "        m=pd.DataFrame({y:[a]})\n",
    "        tmp=pd.concat([tmp,m],axis=1)\n",
    "    b=pd.DataFrame({'Mouse':[x]})\n",
    "    c=pd.DataFrame({'Group':[df[df.Mouse==x]['Group'].iloc[0]]})\n",
    "#     c=c.reset_index(drop=True)\n",
    "    tmp=pd.concat([c,tmp],axis=1)\n",
    "    stds=stds.append(tmp)\n",
    "stdmelt=pd.melt(stds,\"Group\",var_name=\"Odor\")\n",
    "#Plot everything by group\n",
    "sns.set(style=\"white\", palette=\"muted\", color_codes=True);\n",
    "sns.set_context(\"talk\", font_scale=1.8);\n",
    "plt.figure(figsize=(45, 20));\n",
    "ax=sns.boxplot(x='Odor',y='value',hue='Group',palette=groupcolors,data=stdmelt)\n",
    "ax.legend_.remove()\n",
    "sns.despine()\n",
    "plt.ylabel('STD', fontsize=48);\n",
    "plt.title('STD', fontsize=55);\n",
    "plt.xlabel('Odor', fontsize=48);"
   ]
  },
  {
   "cell_type": "code",
   "execution_count": null,
   "metadata": {
    "collapsed": true
   },
   "outputs": [],
   "source": []
  }
 ],
 "metadata": {
  "anaconda-cloud": {},
  "kernelspec": {
   "display_name": "Python [Root]",
   "language": "python",
   "name": "Python [Root]"
  },
  "language_info": {
   "codemirror_mode": {
    "name": "ipython",
    "version": 2
   },
   "file_extension": ".py",
   "mimetype": "text/x-python",
   "name": "python",
   "nbconvert_exporter": "python",
   "pygments_lexer": "ipython2",
   "version": "2.7.12"
  }
 },
 "nbformat": 4,
 "nbformat_minor": 0
}
