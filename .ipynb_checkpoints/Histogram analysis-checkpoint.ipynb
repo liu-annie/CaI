{
 "cells": [
  {
   "cell_type": "code",
   "execution_count": 1,
   "metadata": {
    "collapsed": false
   },
   "outputs": [
    {
     "name": "stdout",
     "output_type": "stream",
     "text": [
      "Using matplotlib backend: Qt4Agg\n"
     ]
    }
   ],
   "source": [
    "drive_path = 'c:/'\n",
    "import numpy as np\n",
    "import pandas as pd\n",
    "import os\n",
    "import sys\n",
    "import matplotlib.pyplot as plt\n",
    "from scipy.stats import ks_2samp\n",
    "from scipy.stats import anderson_ksamp\n",
    "from scipy.stats import kruskal\n",
    "from scipy.stats import variation\n",
    "%matplotlib\n",
    "import seaborn as sns"
   ]
  },
  {
   "cell_type": "code",
   "execution_count": 2,
   "metadata": {
    "collapsed": true
   },
   "outputs": [],
   "source": [
    "comp=pd.read_csv('C:\\Users\\Annie\\Documents\\Data\\Ca_Imaging\\Analysis\\Odor_Panel\\Composite_MaxDF_NoP.csv')\n",
    "del comp['Mouse']\n",
    "comp_sorted=comp.reindex_axis(comp.mean().sort_values().index, axis=1)\n",
    "comp_labels=pd.DataFrame(comp.Group)\n",
    "tmp=[comp_labels,comp_sorted]\n",
    "composite_full=pd.concat(tmp,axis=1)\n",
    "composite_full.head()\n",
    "cfull=pd.melt(composite_full,\"Group\",var_name=\"Odor\")"
   ]
  },
  {
   "cell_type": "code",
   "execution_count": 3,
   "metadata": {
    "collapsed": true
   },
   "outputs": [],
   "source": [
    "MS005_full=composite_full[['Group','MS 0.05']]\n",
    "MS005df=pd.melt(MS005_full,\"Group\",var_name=\"Odor\")\n",
    "cg=MS005_full[MS005_full['Group']=='Control']\n",
    "mg=MS005_full[MS005_full['Group']=='Mint']\n",
    "hg=MS005_full[MS005_full['Group']=='Hexanal']"
   ]
  },
  {
   "cell_type": "code",
   "execution_count": 117,
   "metadata": {
    "collapsed": false
   },
   "outputs": [],
   "source": [
    "ctrlhist=np.asarray(np.histogram(cg['MS 0.05'],bins=140,range=(-1,6))[0],dtype=np.float)\n",
    "mshist=np.asarray(np.histogram(mg['MS 0.05'],bins=140,range=(-1,6))[0],dtype=np.float)\n",
    "hexhist=np.asarray(np.histogram(hg['MS 0.05'],bins=140,range=(-1,6))[0],dtype=np.float)\n",
    "bincounts=np.histogram(cg['MS 0.05'],bins=140,range=(-1,6))[1][0:-1]"
   ]
  },
  {
   "cell_type": "code",
   "execution_count": 119,
   "metadata": {
    "collapsed": false
   },
   "outputs": [],
   "source": [
    "#dataframe of bin values\n",
    "colnames=['Bin','Control','Mint','Hexanal']\n",
    "tmp=[pd.DataFrame(bincounts),pd.DataFrame(ctrlhist),pd.DataFrame(mshist),pd.DataFrame(hexhist)]\n",
    "fullbin=pd.concat(tmp,axis=1)\n",
    "fullbin.columns=colnames\n",
    "#plot the bins\n",
    "plt.scatter(fullbin['Bin'],fullbin['Control'],s=50,c='r');\n",
    "plt.scatter(fullbin['Bin'],fullbin['Mint'],s=50,c='g');\n",
    "plt.scatter(fullbin['Bin'],fullbin['Hexanal'],s=50,c='b');"
   ]
  },
  {
   "cell_type": "code",
   "execution_count": null,
   "metadata": {
    "collapsed": false
   },
   "outputs": [],
   "source": []
  },
  {
   "cell_type": "markdown",
   "metadata": {},
   "source": [
    "# Normalized histograms"
   ]
  },
  {
   "cell_type": "code",
   "execution_count": 120,
   "metadata": {
    "collapsed": true
   },
   "outputs": [],
   "source": [
    "ctrlnorm=ctrlhist/(ctrlhist.sum())\n",
    "msnorm=mshist/(mshist.sum())\n",
    "hexnorm=hexhist/(hexhist.sum())\n",
    "bincounts=np.histogram(cg['MS 0.05'],bins=140,range=(-1,6))[1][0:-1]"
   ]
  },
  {
   "cell_type": "code",
   "execution_count": 121,
   "metadata": {
    "collapsed": true
   },
   "outputs": [],
   "source": [
    "#dataframe of bin values\n",
    "colnames=['Bin','Control','Mint','Hexanal']\n",
    "tmp=[pd.DataFrame(bincounts),pd.DataFrame(ctrlnorm),pd.DataFrame(msnorm),pd.DataFrame(hexnorm)]\n",
    "fullnorm=pd.concat(tmp,axis=1)\n",
    "fullnorm.columns=colnames\n",
    "#plot the bins\n",
    "plt.scatter(fullnorm['Bin'],fullnorm['Control'],s=50,c='r');\n",
    "plt.scatter(fullnorm['Bin'],fullnorm['Mint'],s=50,c='g');\n",
    "plt.scatter(fullnorm['Bin'],fullnorm['Hexanal'],s=50,c='b');"
   ]
  },
  {
   "cell_type": "code",
   "execution_count": 124,
   "metadata": {
    "collapsed": false
   },
   "outputs": [
    {
     "data": {
      "text/plain": [
       "KruskalResult(statistic=5.2503894918006822, pvalue=0.021941859036970698)"
      ]
     },
     "execution_count": 124,
     "metadata": {},
     "output_type": "execute_result"
    }
   ],
   "source": [
    "kruskal(fullnorm['Hexanal'],fullnorm['Mint'])"
   ]
  },
  {
   "cell_type": "code",
   "execution_count": null,
   "metadata": {
    "collapsed": true
   },
   "outputs": [],
   "source": []
  },
  {
   "cell_type": "markdown",
   "metadata": {},
   "source": [
    "# Hexanal"
   ]
  },
  {
   "cell_type": "code",
   "execution_count": 181,
   "metadata": {
    "collapsed": false
   },
   "outputs": [],
   "source": [
    "H005_full=composite_full[['Group','IAA 0.05']]\n",
    "H005df=pd.melt(H005_full,\"Group\",var_name=\"Odor\")\n",
    "cg=H005_full[H005_full['Group']=='Control']\n",
    "mg=H005_full[H005_full['Group']=='Mint']\n",
    "hg=H005_full[H005_full['Group']=='Hexanal']"
   ]
  },
  {
   "cell_type": "code",
   "execution_count": 182,
   "metadata": {
    "collapsed": false
   },
   "outputs": [],
   "source": [
    "ctrlhist=np.asarray(np.histogram(cg['IAA 0.05'],bins=140,range=(-1,6))[0],dtype=np.float)\n",
    "mshist=np.asarray(np.histogram(mg['IAA 0.05'],bins=140,range=(-1,6))[0],dtype=np.float)\n",
    "hexhist=np.asarray(np.histogram(hg['IAA 0.05'],bins=140,range=(-1,6))[0],dtype=np.float)\n",
    "bincounts=np.histogram(cg['IAA 0.05'],bins=140,range=(-1,6))[1][0:-1]"
   ]
  },
  {
   "cell_type": "code",
   "execution_count": 183,
   "metadata": {
    "collapsed": false
   },
   "outputs": [],
   "source": [
    "#dataframe of bin values\n",
    "colnames=['Bin','Control','Mint','Hexanal']\n",
    "tmp=[pd.DataFrame(bincounts),pd.DataFrame(ctrlhist),pd.DataFrame(mshist),pd.DataFrame(hexhist)]\n",
    "fullbin=pd.concat(tmp,axis=1)\n",
    "fullbin.columns=colnames\n",
    "#plot the bins\n",
    "plt.scatter(fullbin['Bin'],fullbin['Control'],s=50,c='r');\n",
    "plt.scatter(fullbin['Bin'],fullbin['Mint'],s=50,c='g');\n",
    "plt.scatter(fullbin['Bin'],fullbin['Hexanal'],s=50,c='b');"
   ]
  },
  {
   "cell_type": "code",
   "execution_count": null,
   "metadata": {
    "collapsed": false
   },
   "outputs": [],
   "source": []
  },
  {
   "cell_type": "markdown",
   "metadata": {},
   "source": [
    "# Normalized histograms"
   ]
  },
  {
   "cell_type": "code",
   "execution_count": 184,
   "metadata": {
    "collapsed": false
   },
   "outputs": [],
   "source": [
    "ctrlnorm=ctrlhist/(ctrlhist.sum())\n",
    "msnorm=mshist/(mshist.sum())\n",
    "hexnorm=hexhist/(hexhist.sum())\n",
    "bincounts=np.histogram(cg['IAA 0.05'],bins=140,range=(-1,6))[1][0:-1]"
   ]
  },
  {
   "cell_type": "code",
   "execution_count": 185,
   "metadata": {
    "collapsed": true
   },
   "outputs": [],
   "source": [
    "#dataframe of bin values\n",
    "colnames=['Bin','Control','Mint','Hexanal']\n",
    "tmp=[pd.DataFrame(bincounts),pd.DataFrame(ctrlnorm),pd.DataFrame(msnorm),pd.DataFrame(hexnorm)]\n",
    "fullnorm=pd.concat(tmp,axis=1)\n",
    "fullnorm.columns=colnames\n",
    "#plot the bins\n",
    "plt.scatter(fullnorm['Bin'],fullnorm['Control'],s=50,c='r');\n",
    "plt.scatter(fullnorm['Bin'],fullnorm['Mint'],s=50,c='g');\n",
    "plt.scatter(fullnorm['Bin'],fullnorm['Hexanal'],s=50,c='b');"
   ]
  },
  {
   "cell_type": "code",
   "execution_count": 188,
   "metadata": {
    "collapsed": false
   },
   "outputs": [
    {
     "data": {
      "text/plain": [
       "KruskalResult(statistic=4.3987056899553743, pvalue=0.035966217000932457)"
      ]
     },
     "execution_count": 188,
     "metadata": {},
     "output_type": "execute_result"
    }
   ],
   "source": [
    "kruskal(fullnorm['Mint'],fullnorm['Hexanal'])"
   ]
  },
  {
   "cell_type": "code",
   "execution_count": null,
   "metadata": {
    "collapsed": true
   },
   "outputs": [],
   "source": []
  },
  {
   "cell_type": "markdown",
   "metadata": {},
   "source": [
    "# Digitize"
   ]
  },
  {
   "cell_type": "code",
   "execution_count": 260,
   "metadata": {
    "collapsed": true
   },
   "outputs": [],
   "source": [
    "MS005_full=composite_full[['Group','MS 0.05']]\n",
    "MS005df=pd.melt(MS005_full,\"Group\",var_name=\"Odor\")\n",
    "cg=MS005_full[MS005_full['Group']=='Control']\n",
    "mg=MS005_full[MS005_full['Group']=='Mint']\n",
    "mg=mg.reset_index(drop=True)\n",
    "hg=MS005_full[MS005_full['Group']=='Hexanal']\n",
    "hg=hg.reset_index(drop=True)"
   ]
  },
  {
   "cell_type": "code",
   "execution_count": 261,
   "metadata": {
    "collapsed": false
   },
   "outputs": [],
   "source": [
    "ctrlbin=pd.DataFrame(np.digitize(cg['MS 0.05'],bincounts)*0.05)\n",
    "msbin=pd.DataFrame(np.digitize(mg['MS 0.05'],bincounts)*0.05)\n",
    "hexbin=pd.DataFrame(np.digitize(hg['MS 0.05'],bincounts)*0.05)\n",
    "binnums=np.arange(-1,6,0.05)"
   ]
  },
  {
   "cell_type": "code",
   "execution_count": 277,
   "metadata": {
    "collapsed": false,
    "scrolled": true
   },
   "outputs": [],
   "source": [
    "ctrlcn=['Control Bins','Control']\n",
    "ctrlt=[ctrlbin,cg['MS 0.05']]\n",
    "ctrldf=pd.concat(ctrlt,axis=1)\n",
    "ctrldf.columns=ctrlcn\n",
    "\n",
    "mscn=['Mint Bins','Mint']\n",
    "mst=[msbin,mg['MS 0.05']]\n",
    "msdf=pd.concat(mst,axis=1)\n",
    "msdf.columns=mscn\n",
    "\n",
    "hcn=['Hexanal Bins','Hexanal']\n",
    "ht=[hexbin,hg['MS 0.05']]\n",
    "hdf=pd.concat(ht,axis=1)\n",
    "hdf.columns=hcn"
   ]
  },
  {
   "cell_type": "code",
   "execution_count": 263,
   "metadata": {
    "collapsed": false
   },
   "outputs": [],
   "source": [
    "from scipy.stats import binned_statistic"
   ]
  },
  {
   "cell_type": "code",
   "execution_count": 311,
   "metadata": {
    "collapsed": false
   },
   "outputs": [
    {
     "data": {
      "text/plain": [
       "<matplotlib.axes._subplots.AxesSubplot at 0x3c889278>"
      ]
     },
     "execution_count": 311,
     "metadata": {},
     "output_type": "execute_result"
    }
   ],
   "source": [
    "c_bin_full=pd.melt(ctrldf,\"Control Bins\",var_name=\"Control\")\n",
    "#by binning data into df/f can compare means within each bin across groups\n",
    "sns.stripplot(x='Control Bins',y='value',data=c_bin_full,palette='Reds_d',size=10)"
   ]
  },
  {
   "cell_type": "code",
   "execution_count": 312,
   "metadata": {
    "collapsed": false
   },
   "outputs": [
    {
     "data": {
      "text/plain": [
       "<matplotlib.axes._subplots.AxesSubplot at 0x3c889278>"
      ]
     },
     "execution_count": 312,
     "metadata": {},
     "output_type": "execute_result"
    }
   ],
   "source": [
    "m_bin_full=pd.melt(msdf,'Mint Bins',var_name='Mint')\n",
    "#by binning data into df/f can compare means within each bin across groups\n",
    "sns.stripplot(x='Mint Bins',y='value',data=m_bin_full,palette='Greens_d',size=10)"
   ]
  },
  {
   "cell_type": "code",
   "execution_count": 314,
   "metadata": {
    "collapsed": false
   },
   "outputs": [
    {
     "data": {
      "text/plain": [
       "<matplotlib.axes._subplots.AxesSubplot at 0x3c889278>"
      ]
     },
     "execution_count": 314,
     "metadata": {},
     "output_type": "execute_result"
    }
   ],
   "source": [
    "h_bin_full=pd.melt(hdf,'Hexanal Bins',var_name='Hexanal')\n",
    "#by binning data into df/f can compare means within each bin across groups\n",
    "sns.stripplot(x='Hexanal Bins',y='value',data=h_bin_full,palette='Blues_d',size=10)"
   ]
  },
  {
   "cell_type": "code",
   "execution_count": null,
   "metadata": {
    "collapsed": true
   },
   "outputs": [],
   "source": []
  }
 ],
 "metadata": {
  "anaconda-cloud": {},
  "kernelspec": {
   "display_name": "Python [Root]",
   "language": "python",
   "name": "Python [Root]"
  },
  "language_info": {
   "codemirror_mode": {
    "name": "ipython",
    "version": 2
   },
   "file_extension": ".py",
   "mimetype": "text/x-python",
   "name": "python",
   "nbconvert_exporter": "python",
   "pygments_lexer": "ipython2",
   "version": "2.7.12"
  }
 },
 "nbformat": 4,
 "nbformat_minor": 0
}
