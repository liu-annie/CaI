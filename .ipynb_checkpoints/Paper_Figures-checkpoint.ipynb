{
 "cells": [
  {
   "cell_type": "code",
   "execution_count": 1,
   "metadata": {
    "collapsed": false
   },
   "outputs": [],
   "source": [
    "drive_path = 'c:/'\n",
    "import numpy as np\n",
    "import pandas as pd\n",
    "import os\n",
    "import sys\n",
    "import matplotlib.pyplot as plt\n",
    "from scipy.stats import ks_2samp\n",
    "from scipy.stats import anderson_ksamp\n",
    "from scipy.stats import kruskal\n",
    "from scipy.stats import variation\n",
    "%matplotlib inline\n",
    "import seaborn as sns\n",
    "from scipy.stats import zscore\n",
    "from scipy.stats import nanmean\n",
    "from scipy.stats import nanstd"
   ]
  },
  {
   "cell_type": "code",
   "execution_count": 2,
   "metadata": {
    "collapsed": true
   },
   "outputs": [],
   "source": [
    "filename='C:\\Users\\Annie\\Documents\\Data\\Ca_Imaging\\Analysis\\\\Odor_Panel\\\\Odor_Trials.csv'\n",
    "trials=pd.read_csv(filename)"
   ]
  },
  {
   "cell_type": "markdown",
   "metadata": {},
   "source": [
    "# Figure 1: Graph individual traces"
   ]
  },
  {
   "cell_type": "code",
   "execution_count": 95,
   "metadata": {
    "collapsed": false
   },
   "outputs": [
    {
     "data": {
      "image/png": "[encoded data removed]",
      "text/plain": [
       "<matplotlib.figure.Figure at 0x6602cf8>"
      ]
     },
     "metadata": {},
     "output_type": "display_data"
    }
   ],
   "source": [
    "cell=5\n",
    "trial=39\n",
    "filename='C:\\Users\\Annie\\Documents\\Data\\Ca_Imaging\\GoodFiles\\\\160328_1\\\\%sdt.txt'%trial\n",
    "comp=pd.read_csv(filename,index_col=0)\n",
    "ncomp=pd.DataFrame(comp[1:150]['G PMT (%s)'%cell])\n",
    "sns.set(style=\"white\")\n",
    "sns.set_context(\"paper\",font_scale=3);\n",
    "f,ax=plt.subplots()\n",
    "ax.plot(ncomp,linewidth=4.0)\n",
    "sns.despine(left=True,bottom=True)\n",
    "plt.ylim(-0.15, 1);\n",
    "plt.xticks(np.arange(0, 160, 25.0))\n",
    "ax.set_yticks([]);\n",
    "ax.set_xticks([]);\n",
    "plt.tight_layout();\n",
    "f.savefig(\"C:\\Users\\Annie\\Desktop\\Plasticity\\Figures\\SampleTraces\\HighRes\\cell%s_%s.pdf\"%(cell,trial))"
   ]
  },
  {
   "cell_type": "markdown",
   "metadata": {
    "collapsed": false
   },
   "source": [
    "# Figure 2: Baseline and Peak, Integral"
   ]
  },
  {
   "cell_type": "code",
   "execution_count": 3,
   "metadata": {
    "collapsed": false
   },
   "outputs": [],
   "source": [
    "x='C:\\Users\\Annie\\Documents\\Data\\Ca_Imaging\\GoodFiles\\\\fullbaseline_WL.csv'\n",
    "baseline=pd.read_csv(x)\n",
    "y='C:\\Users\\Annie\\Documents\\Data\\Ca_Imaging\\GoodFiles\\\\fullintegral_WL.csv'\n",
    "integral=pd.read_csv(y)\n",
    "z='C:\\Users\\Annie\\Documents\\Data\\Ca_Imaging\\GoodFiles\\\\fullpeak_WL.csv'\n",
    "peak=pd.read_csv(z)\n",
    "s='C:\\Users\\Annie\\Documents\\Data\\Ca_Imaging\\GoodFiles\\\\fullsuccess_WI.csv'\n",
    "success=pd.read_csv(s)"
   ]
  },
  {
   "cell_type": "code",
   "execution_count": 4,
   "metadata": {
    "collapsed": false
   },
   "outputs": [],
   "source": [
    "melt_base=pd.melt(baseline,('Mouse','Group'),var_name='Odor')\n",
    "melt_int=pd.melt(integral,('Mouse','Group'),var_name='Odor')\n",
    "melt_success=pd.melt(success,('Mouse','Group'),var_name='Odor')\n",
    "melt_peak=pd.melt(peak,('Mouse','Group'),var_name='Odor')"
   ]
  },
  {
   "cell_type": "code",
   "execution_count": 5,
   "metadata": {
    "collapsed": true
   },
   "outputs": [],
   "source": [
    "#THE ENTIRE DATAFRAME\n",
    "completedf=pd.concat([melt_base[['Mouse','Group','Odor','value']],melt_int['value'],melt_peak['value'],melt_success['value']],axis=1)\n",
    "completedf.columns=['Mouse','Group','Odor','Baseline','Integral','Peak','Success']"
   ]
  },
  {
   "cell_type": "code",
   "execution_count": 150,
   "metadata": {
    "collapsed": false
   },
   "outputs": [
    {
     "data": {
      "text/html": [
       "<div>\n",
       "<table border=\"1\" class=\"dataframe\">\n",
       "  <thead>\n",
       "    <tr style=\"text-align: right;\">\n",
       "      <th></th>\n",
       "      <th>Mouse</th>\n",
       "      <th>Group</th>\n",
       "      <th>Odor</th>\n",
       "      <th>Baseline</th>\n",
       "      <th>Integral</th>\n",
       "      <th>Peak</th>\n",
       "      <th>Success</th>\n",
       "    </tr>\n",
       "  </thead>\n",
       "  <tbody>\n",
       "    <tr>\n",
       "      <th>13105</th>\n",
       "      <td>G PMT (22)_160626_2</td>\n",
       "      <td>Hexanal</td>\n",
       "      <td>Hexanal05</td>\n",
       "      <td>773.446970</td>\n",
       "      <td>NaN</td>\n",
       "      <td>NaN</td>\n",
       "      <td>NaN</td>\n",
       "    </tr>\n",
       "    <tr>\n",
       "      <th>13106</th>\n",
       "      <td>G PMT (23)_160626_2</td>\n",
       "      <td>Hexanal</td>\n",
       "      <td>Hexanal05</td>\n",
       "      <td>1403.306348</td>\n",
       "      <td>NaN</td>\n",
       "      <td>NaN</td>\n",
       "      <td>NaN</td>\n",
       "    </tr>\n",
       "    <tr>\n",
       "      <th>13107</th>\n",
       "      <td>G PMT (24)_160626_2</td>\n",
       "      <td>Hexanal</td>\n",
       "      <td>Hexanal05</td>\n",
       "      <td>1208.390758</td>\n",
       "      <td>NaN</td>\n",
       "      <td>NaN</td>\n",
       "      <td>NaN</td>\n",
       "    </tr>\n",
       "    <tr>\n",
       "      <th>13108</th>\n",
       "      <td>G PMT (25)_160626_2</td>\n",
       "      <td>Hexanal</td>\n",
       "      <td>Hexanal05</td>\n",
       "      <td>1190.651894</td>\n",
       "      <td>NaN</td>\n",
       "      <td>NaN</td>\n",
       "      <td>NaN</td>\n",
       "    </tr>\n",
       "    <tr>\n",
       "      <th>13109</th>\n",
       "      <td>G PMT (26)_160626_2</td>\n",
       "      <td>Hexanal</td>\n",
       "      <td>Hexanal05</td>\n",
       "      <td>836.463303</td>\n",
       "      <td>NaN</td>\n",
       "      <td>NaN</td>\n",
       "      <td>NaN</td>\n",
       "    </tr>\n",
       "  </tbody>\n",
       "</table>\n",
       "</div>"
      ],
      "text/plain": [
       "                     Mouse    Group       Odor     Baseline  Integral  Peak  \\\n",
       "13105  G PMT (22)_160626_2  Hexanal  Hexanal05   773.446970       NaN   NaN   \n",
       "13106  G PMT (23)_160626_2  Hexanal  Hexanal05  1403.306348       NaN   NaN   \n",
       "13107  G PMT (24)_160626_2  Hexanal  Hexanal05  1208.390758       NaN   NaN   \n",
       "13108  G PMT (25)_160626_2  Hexanal  Hexanal05  1190.651894       NaN   NaN   \n",
       "13109  G PMT (26)_160626_2  Hexanal  Hexanal05   836.463303       NaN   NaN   \n",
       "\n",
       "       Success  \n",
       "13105      NaN  \n",
       "13106      NaN  \n",
       "13107      NaN  \n",
       "13108      NaN  \n",
       "13109      NaN  "
      ]
     },
     "execution_count": 150,
     "metadata": {},
     "output_type": "execute_result"
    }
   ],
   "source": [
    "completedf.tail()"
   ]
  },
  {
   "cell_type": "code",
   "execution_count": 101,
   "metadata": {
    "collapsed": false
   },
   "outputs": [
    {
     "data": {
      "image/png": "[encoded data removed]",
      "text/plain": [
       "<matplotlib.figure.Figure at 0xd929da0>"
      ]
     },
     "metadata": {},
     "output_type": "display_data"
    }
   ],
   "source": [
    "#GRAPH THE INTERACTIONS\n",
    "sns.set(style='white',palette=\"muted\", color_codes=True);\n",
    "sns.set_context(\"paper\",font_scale=2);\n",
    "sns.jointplot('Peak','Integral',completedf);\n",
    "sns.despine(left=True,bottom=True);\n",
    "plt.tight_layout();\n",
    "plt.savefig(\"C:\\Users\\Annie\\Desktop\\Plasticity\\Figures\\Correlations\\Integral_Peak.pdf\")"
   ]
  },
  {
   "cell_type": "code",
   "execution_count": 102,
   "metadata": {
    "collapsed": true
   },
   "outputs": [
    {
     "data": {
      "image/png": "[encoded data removed]",
      "text/plain": [
       "<matplotlib.figure.Figure at 0xdb788d0>"
      ]
     },
     "metadata": {},
     "output_type": "display_data"
    }
   ],
   "source": [
    "sns.set(style='white');\n",
    "sns.set_context(\"paper\",font_scale=2);\n",
    "x=melt_peak[melt_peak.Group=='Control'].value.dropna();\n",
    "y=melt_peak[melt_peak.Group=='Hexanal'].value.dropna();\n",
    "z=melt_peak[melt_peak.Group=='Mint'].value.dropna();\n",
    "sns.distplot(x,hist=False,color=sns.xkcd_rgb[\"black\"],kde_kws={'lw':3,'label':'Control'});\n",
    "sns.distplot(y,hist=False,color=sns.xkcd_rgb[\"azure\"],kde_kws={'lw':3,'label':'Hexanal'});\n",
    "sns.distplot(z,hist=False,color=sns.xkcd_rgb[\"grey\"],kde_kws={'lw':3,'label':'Mint'});\n",
    "sns.despine();\n",
    "plt.tight_layout();\n",
    "plt.xlabel('Peak');\n",
    "plt.ylabel('Density Function');\n",
    "plt.savefig(\"C:\\Users\\Annie\\Desktop\\Plasticity\\Figures\\Correlations\\KDE_Peak.pdf\")"
   ]
  },
  {
   "cell_type": "code",
   "execution_count": 103,
   "metadata": {
    "collapsed": false
   },
   "outputs": [
    {
     "data": {
      "image/png": "[encoded data removed]",
      "text/plain": [
       "<matplotlib.figure.Figure at 0xe529160>"
      ]
     },
     "metadata": {},
     "output_type": "display_data"
    }
   ],
   "source": [
    "x=completedf.Peak.dropna()\n",
    "sns.set(style='white',palette=\"muted\", color_codes=True);\n",
    "sns.set_context(\"paper\",font_scale=2);\n",
    "sns.distplot(x,kde=False);\n",
    "sns.despine(left=True,bottom=True);\n",
    "plt.tight_layout();\n",
    "plt.savefig(\"C:\\Users\\Annie\\Desktop\\Plasticity\\Figures\\Correlations\\Hist_Peak.pdf\")"
   ]
  },
  {
   "cell_type": "markdown",
   "metadata": {},
   "source": [
    "# Figure 3: Habituation"
   ]
  },
  {
   "cell_type": "code",
   "execution_count": 104,
   "metadata": {
    "collapsed": true
   },
   "outputs": [],
   "source": [
    "h='C:\\Users\\Annie\\Documents\\Data\\Ca_Imaging\\HabituationFiles\\NormalizedHabituation.csv'\n",
    "habituation=pd.read_csv(h)"
   ]
  },
  {
   "cell_type": "code",
   "execution_count": 105,
   "metadata": {
    "collapsed": false
   },
   "outputs": [
    {
     "data": {
      "image/png": "[encoded data removed]",
      "text/plain": [
       "<matplotlib.figure.Figure at 0xe217ef0>"
      ]
     },
     "metadata": {},
     "output_type": "display_data"
    }
   ],
   "source": [
    "h=pd.melt(habituation,var_name='Time',value_name='Normalized Change');\n",
    "sns.set(style='white',palette=\"muted\", color_codes=True);\n",
    "sns.set_context(\"paper\",font_scale=2);\n",
    "sns.pointplot(x='Time',y='Normalized Change',data=h);\n",
    "plt.ylabel('Normalized Change')\n",
    "sns.despine();\n",
    "plt.tight_layout();\n",
    "plt.savefig(\"C:\\Users\\Annie\\Desktop\\Plasticity\\Figures\\Habituation.pdf\")"
   ]
  },
  {
   "cell_type": "markdown",
   "metadata": {},
   "source": [
    "# Prep Peaks Dataframe"
   ]
  },
  {
   "cell_type": "code",
   "execution_count": 19,
   "metadata": {
    "collapsed": true
   },
   "outputs": [],
   "source": [
    "filename='C:\\Users\\Annie\\Documents\\Data\\Ca_Imaging\\GoodFiles\\\\fullpeak.csv'\n",
    "comp=pd.read_csv(filename)\n",
    "comp_sorted=comp.reindex_axis(comp.mean().sort_values().index, axis=1)\n",
    "comp_labels=pd.DataFrame(comp.Mouse)\n",
    "comp_group=pd.DataFrame(comp.Group)\n",
    "tmp=[comp_group,comp_labels,comp_sorted]\n",
    "composite_full=pd.concat(tmp,axis=1)\n",
    "cfull=pd.melt(composite_full,['Group','Mouse'],var_name=\"Odor\")"
   ]
  },
  {
   "cell_type": "code",
   "execution_count": 20,
   "metadata": {
    "collapsed": true
   },
   "outputs": [],
   "source": [
    "groupcolors={'Control':sns.xkcd_rgb[\"black\"],'Mint':sns.xkcd_rgb[\"grey\"],'Hexanal':sns.xkcd_rgb[\"azure\"]};"
   ]
  },
  {
   "cell_type": "code",
   "execution_count": 21,
   "metadata": {
    "collapsed": true
   },
   "outputs": [],
   "source": [
    "#Make separate excitatory and inhibitory dataframes\n",
    "mindf=pd.DataFrame([])\n",
    "maxdf=pd.DataFrame([])\n",
    "zdf=pd.DataFrame([])\n",
    "for x in cfull.index:\n",
    "    if cfull.value[x]>0:\n",
    "        a=pd.DataFrame(cfull.iloc[x]).T\n",
    "        maxdf=maxdf.append(a,ignore_index=True)\n",
    "    elif cfull.value[x]<0:\n",
    "        a=pd.DataFrame(cfull.iloc[x]).T\n",
    "        mindf=mindf.append(a,ignore_index=True)\n",
    "    else:\n",
    "        a=pd.DataFrame(cfull.iloc[x]).T\n",
    "        zdf=zdf.append(a,ignore_index=True)"
   ]
  },
  {
   "cell_type": "code",
   "execution_count": 6,
   "metadata": {
    "collapsed": false
   },
   "outputs": [],
   "source": [
    "one_mindf=mindf[['Group','Odor','value']][mindf.Odor.isin(['MS01','Hexanal01','IAA01','THA','AP','PA','Hexanone','EB'])]\n",
    "conc_mindf=mindf[['Group','Odor','value']][mindf.Odor.isin(['MS01','MS05','MS10','Hexanal01','Hexanal05','Hexanal10','IAA01','IAA05','IAA10'])]\n",
    "conc_mindf=conc_mindf.sort_values(by='Odor')\n",
    "\n",
    "one_maxdf=maxdf[['Group','Odor','value']][maxdf.Odor.isin(['MS01','Hexanal01','IAA01','THA','AP','PA','Hexanone','EB'])]\n",
    "conc_maxdf=maxdf[['Group','Odor','value']][maxdf.Odor.isin(['MS01','MS05','MS10','Hexanal01','Hexanal05','Hexanal10','IAA01','IAA05','IAA10'])]\n",
    "\n",
    "one_mindf=one_mindf.replace(to_replace='MS01',value='MS')\n",
    "one_mindf=one_mindf.replace(to_replace='Hexanal01',value='Hexanal')\n",
    "one_mindf=one_mindf.replace(to_replace='IAA01',value='IAA')\n",
    "\n",
    "one_maxdf=one_maxdf.replace(to_replace='MS01',value='MS')\n",
    "one_maxdf=one_maxdf.replace(to_replace='Hexanal01',value='Hexanal')\n",
    "one_maxdf=one_maxdf.replace(to_replace='IAA01',value='IAA')\n",
    "\n",
    "sorter=('MS01','MS05','MS10','IAA01','IAA05','IAA10','Hexanal01','Hexanal05','Hexanal10')\n",
    "conc_maxdf.Odor=conc_maxdf.Odor.astype('category')\n",
    "conc_maxdf.Odor.cat.set_categories(sorter,inplace=True)\n",
    "conc_maxdf=conc_maxdf.sort_values(['Odor'])\n",
    "\n",
    "conc_mindf.Odor=conc_mindf.Odor.astype('category')\n",
    "conc_mindf.Odor.cat.set_categories(sorter,inplace=True)\n",
    "conc_mindf=conc_mindf.sort_values(['Odor'])\n",
    "\n",
    "conc_mindf=conc_mindf.replace(to_replace='MS01',value='MS 1%')\n",
    "conc_mindf=conc_mindf.replace(to_replace='MS05',value='MS 5%')\n",
    "conc_mindf=conc_mindf.replace(to_replace='MS10',value='MS 10%')\n",
    "conc_mindf=conc_mindf.replace(to_replace='IAA01',value='IAA 1%')\n",
    "conc_mindf=conc_mindf.replace(to_replace='IAA05',value='IAA 5%')\n",
    "conc_mindf=conc_mindf.replace(to_replace='IAA10',value='IAA 10%')\n",
    "conc_mindf=conc_mindf.replace(to_replace='Hexanal01',value='Hexanal 1%')\n",
    "conc_mindf=conc_mindf.replace(to_replace='Hexanal05',value='Hexanal 5%')\n",
    "conc_mindf=conc_mindf.replace(to_replace='Hexanal10',value='Hexanal 10%')\n",
    "\n",
    "conc_maxdf=conc_maxdf.replace(to_replace='MS01',value='MS 1%')\n",
    "conc_maxdf=conc_maxdf.replace(to_replace='MS05',value='MS 5%')\n",
    "conc_maxdf=conc_maxdf.replace(to_replace='MS10',value='MS 10%')\n",
    "conc_maxdf=conc_maxdf.replace(to_replace='IAA01',value='IAA 1%')\n",
    "conc_maxdf=conc_maxdf.replace(to_replace='IAA05',value='IAA 5%')\n",
    "conc_maxdf=conc_maxdf.replace(to_replace='IAA10',value='IAA 10%')\n",
    "conc_maxdf=conc_maxdf.replace(to_replace='Hexanal01',value='Hexanal 1%')\n",
    "conc_maxdf=conc_maxdf.replace(to_replace='Hexanal05',value='Hexanal 5%')\n",
    "conc_maxdf=conc_maxdf.replace(to_replace='Hexanal10',value='Hexanal 10%')"
   ]
  },
  {
   "cell_type": "code",
   "execution_count": 7,
   "metadata": {
    "collapsed": true
   },
   "outputs": [],
   "source": [
    "cat=('Control','Mint','Hexanal')"
   ]
  },
  {
   "cell_type": "markdown",
   "metadata": {},
   "source": [
    "# Figure 4-5: Amplitude of excitatory responses/BOXPLOTS"
   ]
  },
  {
   "cell_type": "code",
   "execution_count": 115,
   "metadata": {
    "collapsed": false,
    "scrolled": true
   },
   "outputs": [
    {
     "data": {
      "image/png": "[encoded data removed]",
      "text/plain": [
       "<matplotlib.figure.Figure at 0x1099d240>"
      ]
     },
     "metadata": {},
     "output_type": "display_data"
    }
   ],
   "source": [
    "#1% CONCENTRATION\n",
    "cat=('Control','Mint','Hexanal')\n",
    "sns.set(style=\"white\", palette=\"muted\", color_codes=True);\n",
    "sns.set_context(\"paper\", font_scale=1.3);\n",
    "plt.figure(figsize=(7,5));\n",
    "sns.boxplot(x='Odor',y='value',hue_order=cat,hue='Group',palette=groupcolors,data=one_maxdf);\n",
    "sns.boxplot(x='Odor',y='value',hue_order=cat,hue='Group',palette=groupcolors,data=one_mindf);\n",
    "# ax.legend_.remove()\n",
    "sns.despine()\n",
    "plt.ylabel('DF/F', fontsize=12);\n",
    "plt.title('Peak DF/F, 1%', fontsize=12);\n",
    "plt.xlabel('Odor', fontsize=12);\n",
    "plt.ylim(-1,5)\n",
    "plt.tight_layout()\n",
    "plt.savefig(\"C:\\Users\\Annie\\Desktop\\Plasticity\\Figures\\\\Box\\\\box.pdf\")"
   ]
  },
  {
   "cell_type": "code",
   "execution_count": 116,
   "metadata": {
    "collapsed": false
   },
   "outputs": [],
   "source": [
    "MS_conc_maxdf=conc_maxdf[conc_maxdf.Odor.isin(['MS 1%','MS 5%','MS 10%'])]\n",
    "hex_conc_maxdf=conc_maxdf[conc_maxdf.Odor.isin(['Hexanal 1%','Hexanal 5%','Hexanal 10%'])]\n",
    "IAA_conc_maxdf=conc_maxdf[conc_maxdf.Odor.isin(['IAA 1%','IAA 5%','IAA 10%'])]\n",
    "\n",
    "MS_conc_mindf=conc_mindf[conc_mindf.Odor.isin(['MS 1%','MS 5%','MS 10%'])]\n",
    "hex_conc_mindf=conc_mindf[conc_mindf.Odor.isin(['Hexanal 1%','Hexanal 5%','Hexanal 10%'])]\n",
    "IAA_conc_mindf=conc_mindf[conc_mindf.Odor.isin(['IAA 1%','IAA 5%','IAA 10%'])]"
   ]
  },
  {
   "cell_type": "code",
   "execution_count": 117,
   "metadata": {
    "collapsed": true
   },
   "outputs": [
    {
     "data": {
      "text/html": [
       "<div>\n",
       "<table border=\"1\" class=\"dataframe\">\n",
       "  <thead>\n",
       "    <tr style=\"text-align: right;\">\n",
       "      <th></th>\n",
       "      <th>Group</th>\n",
       "      <th>Odor</th>\n",
       "      <th>value</th>\n",
       "    </tr>\n",
       "  </thead>\n",
       "  <tbody>\n",
       "    <tr>\n",
       "      <th>0</th>\n",
       "      <td>Control</td>\n",
       "      <td>MS 1%</td>\n",
       "      <td>0.015671</td>\n",
       "    </tr>\n",
       "    <tr>\n",
       "      <th>512</th>\n",
       "      <td>Hexanal</td>\n",
       "      <td>MS 1%</td>\n",
       "      <td>0.216320</td>\n",
       "    </tr>\n",
       "    <tr>\n",
       "      <th>513</th>\n",
       "      <td>Hexanal</td>\n",
       "      <td>MS 1%</td>\n",
       "      <td>0.200734</td>\n",
       "    </tr>\n",
       "    <tr>\n",
       "      <th>514</th>\n",
       "      <td>Hexanal</td>\n",
       "      <td>MS 1%</td>\n",
       "      <td>0.126636</td>\n",
       "    </tr>\n",
       "    <tr>\n",
       "      <th>515</th>\n",
       "      <td>Hexanal</td>\n",
       "      <td>MS 1%</td>\n",
       "      <td>0.146380</td>\n",
       "    </tr>\n",
       "    <tr>\n",
       "      <th>516</th>\n",
       "      <td>Hexanal</td>\n",
       "      <td>MS 1%</td>\n",
       "      <td>0.209309</td>\n",
       "    </tr>\n",
       "    <tr>\n",
       "      <th>517</th>\n",
       "      <td>Hexanal</td>\n",
       "      <td>MS 1%</td>\n",
       "      <td>0.299622</td>\n",
       "    </tr>\n",
       "    <tr>\n",
       "      <th>518</th>\n",
       "      <td>Hexanal</td>\n",
       "      <td>MS 1%</td>\n",
       "      <td>0.148053</td>\n",
       "    </tr>\n",
       "    <tr>\n",
       "      <th>519</th>\n",
       "      <td>Hexanal</td>\n",
       "      <td>MS 1%</td>\n",
       "      <td>0.086919</td>\n",
       "    </tr>\n",
       "    <tr>\n",
       "      <th>520</th>\n",
       "      <td>Hexanal</td>\n",
       "      <td>MS 1%</td>\n",
       "      <td>0.024138</td>\n",
       "    </tr>\n",
       "    <tr>\n",
       "      <th>511</th>\n",
       "      <td>Hexanal</td>\n",
       "      <td>MS 1%</td>\n",
       "      <td>0.097680</td>\n",
       "    </tr>\n",
       "    <tr>\n",
       "      <th>521</th>\n",
       "      <td>Hexanal</td>\n",
       "      <td>MS 1%</td>\n",
       "      <td>0.202925</td>\n",
       "    </tr>\n",
       "    <tr>\n",
       "      <th>523</th>\n",
       "      <td>Hexanal</td>\n",
       "      <td>MS 1%</td>\n",
       "      <td>0.184702</td>\n",
       "    </tr>\n",
       "    <tr>\n",
       "      <th>524</th>\n",
       "      <td>Hexanal</td>\n",
       "      <td>MS 1%</td>\n",
       "      <td>0.051542</td>\n",
       "    </tr>\n",
       "    <tr>\n",
       "      <th>525</th>\n",
       "      <td>Hexanal</td>\n",
       "      <td>MS 1%</td>\n",
       "      <td>0.044623</td>\n",
       "    </tr>\n",
       "    <tr>\n",
       "      <th>526</th>\n",
       "      <td>Hexanal</td>\n",
       "      <td>MS 1%</td>\n",
       "      <td>0.133760</td>\n",
       "    </tr>\n",
       "    <tr>\n",
       "      <th>527</th>\n",
       "      <td>Hexanal</td>\n",
       "      <td>MS 1%</td>\n",
       "      <td>0.030670</td>\n",
       "    </tr>\n",
       "    <tr>\n",
       "      <th>528</th>\n",
       "      <td>Hexanal</td>\n",
       "      <td>MS 1%</td>\n",
       "      <td>0.118389</td>\n",
       "    </tr>\n",
       "    <tr>\n",
       "      <th>529</th>\n",
       "      <td>Hexanal</td>\n",
       "      <td>MS 1%</td>\n",
       "      <td>0.055969</td>\n",
       "    </tr>\n",
       "    <tr>\n",
       "      <th>530</th>\n",
       "      <td>Hexanal</td>\n",
       "      <td>MS 1%</td>\n",
       "      <td>0.340597</td>\n",
       "    </tr>\n",
       "    <tr>\n",
       "      <th>531</th>\n",
       "      <td>Hexanal</td>\n",
       "      <td>MS 1%</td>\n",
       "      <td>0.130009</td>\n",
       "    </tr>\n",
       "    <tr>\n",
       "      <th>522</th>\n",
       "      <td>Hexanal</td>\n",
       "      <td>MS 1%</td>\n",
       "      <td>0.270302</td>\n",
       "    </tr>\n",
       "    <tr>\n",
       "      <th>532</th>\n",
       "      <td>Hexanal</td>\n",
       "      <td>MS 1%</td>\n",
       "      <td>0.280088</td>\n",
       "    </tr>\n",
       "    <tr>\n",
       "      <th>510</th>\n",
       "      <td>Hexanal</td>\n",
       "      <td>MS 1%</td>\n",
       "      <td>0.153363</td>\n",
       "    </tr>\n",
       "    <tr>\n",
       "      <th>508</th>\n",
       "      <td>Hexanal</td>\n",
       "      <td>MS 1%</td>\n",
       "      <td>0.118162</td>\n",
       "    </tr>\n",
       "    <tr>\n",
       "      <th>488</th>\n",
       "      <td>Hexanal</td>\n",
       "      <td>MS 1%</td>\n",
       "      <td>0.331770</td>\n",
       "    </tr>\n",
       "    <tr>\n",
       "      <th>489</th>\n",
       "      <td>Hexanal</td>\n",
       "      <td>MS 1%</td>\n",
       "      <td>0.157791</td>\n",
       "    </tr>\n",
       "    <tr>\n",
       "      <th>490</th>\n",
       "      <td>Hexanal</td>\n",
       "      <td>MS 1%</td>\n",
       "      <td>0.417632</td>\n",
       "    </tr>\n",
       "    <tr>\n",
       "      <th>491</th>\n",
       "      <td>Hexanal</td>\n",
       "      <td>MS 1%</td>\n",
       "      <td>0.033887</td>\n",
       "    </tr>\n",
       "    <tr>\n",
       "      <th>492</th>\n",
       "      <td>Hexanal</td>\n",
       "      <td>MS 1%</td>\n",
       "      <td>0.194419</td>\n",
       "    </tr>\n",
       "    <tr>\n",
       "      <th>...</th>\n",
       "      <td>...</td>\n",
       "      <td>...</td>\n",
       "      <td>...</td>\n",
       "    </tr>\n",
       "    <tr>\n",
       "      <th>8040</th>\n",
       "      <td>Hexanal</td>\n",
       "      <td>Hexanal 10%</td>\n",
       "      <td>0.351417</td>\n",
       "    </tr>\n",
       "    <tr>\n",
       "      <th>8039</th>\n",
       "      <td>Hexanal</td>\n",
       "      <td>Hexanal 10%</td>\n",
       "      <td>0.294391</td>\n",
       "    </tr>\n",
       "    <tr>\n",
       "      <th>8049</th>\n",
       "      <td>Hexanal</td>\n",
       "      <td>Hexanal 10%</td>\n",
       "      <td>0.760009</td>\n",
       "    </tr>\n",
       "    <tr>\n",
       "      <th>8037</th>\n",
       "      <td>Hexanal</td>\n",
       "      <td>Hexanal 10%</td>\n",
       "      <td>0.291506</td>\n",
       "    </tr>\n",
       "    <tr>\n",
       "      <th>8062</th>\n",
       "      <td>Hexanal</td>\n",
       "      <td>Hexanal 10%</td>\n",
       "      <td>0.154878</td>\n",
       "    </tr>\n",
       "    <tr>\n",
       "      <th>8064</th>\n",
       "      <td>Hexanal</td>\n",
       "      <td>Hexanal 10%</td>\n",
       "      <td>0.152494</td>\n",
       "    </tr>\n",
       "    <tr>\n",
       "      <th>8086</th>\n",
       "      <td>Hexanal</td>\n",
       "      <td>Hexanal 10%</td>\n",
       "      <td>0.218386</td>\n",
       "    </tr>\n",
       "    <tr>\n",
       "      <th>8085</th>\n",
       "      <td>Hexanal</td>\n",
       "      <td>Hexanal 10%</td>\n",
       "      <td>0.124959</td>\n",
       "    </tr>\n",
       "    <tr>\n",
       "      <th>8084</th>\n",
       "      <td>Hexanal</td>\n",
       "      <td>Hexanal 10%</td>\n",
       "      <td>0.081698</td>\n",
       "    </tr>\n",
       "    <tr>\n",
       "      <th>8083</th>\n",
       "      <td>Hexanal</td>\n",
       "      <td>Hexanal 10%</td>\n",
       "      <td>0.098549</td>\n",
       "    </tr>\n",
       "    <tr>\n",
       "      <th>8082</th>\n",
       "      <td>Hexanal</td>\n",
       "      <td>Hexanal 10%</td>\n",
       "      <td>0.368336</td>\n",
       "    </tr>\n",
       "    <tr>\n",
       "      <th>8081</th>\n",
       "      <td>Hexanal</td>\n",
       "      <td>Hexanal 10%</td>\n",
       "      <td>0.129421</td>\n",
       "    </tr>\n",
       "    <tr>\n",
       "      <th>8080</th>\n",
       "      <td>Hexanal</td>\n",
       "      <td>Hexanal 10%</td>\n",
       "      <td>0.770505</td>\n",
       "    </tr>\n",
       "    <tr>\n",
       "      <th>8079</th>\n",
       "      <td>Hexanal</td>\n",
       "      <td>Hexanal 10%</td>\n",
       "      <td>0.323544</td>\n",
       "    </tr>\n",
       "    <tr>\n",
       "      <th>8078</th>\n",
       "      <td>Hexanal</td>\n",
       "      <td>Hexanal 10%</td>\n",
       "      <td>0.086767</td>\n",
       "    </tr>\n",
       "    <tr>\n",
       "      <th>8077</th>\n",
       "      <td>Hexanal</td>\n",
       "      <td>Hexanal 10%</td>\n",
       "      <td>0.134787</td>\n",
       "    </tr>\n",
       "    <tr>\n",
       "      <th>8063</th>\n",
       "      <td>Hexanal</td>\n",
       "      <td>Hexanal 10%</td>\n",
       "      <td>0.179797</td>\n",
       "    </tr>\n",
       "    <tr>\n",
       "      <th>8076</th>\n",
       "      <td>Hexanal</td>\n",
       "      <td>Hexanal 10%</td>\n",
       "      <td>0.603242</td>\n",
       "    </tr>\n",
       "    <tr>\n",
       "      <th>8074</th>\n",
       "      <td>Hexanal</td>\n",
       "      <td>Hexanal 10%</td>\n",
       "      <td>0.429644</td>\n",
       "    </tr>\n",
       "    <tr>\n",
       "      <th>8073</th>\n",
       "      <td>Hexanal</td>\n",
       "      <td>Hexanal 10%</td>\n",
       "      <td>0.281141</td>\n",
       "    </tr>\n",
       "    <tr>\n",
       "      <th>8072</th>\n",
       "      <td>Hexanal</td>\n",
       "      <td>Hexanal 10%</td>\n",
       "      <td>0.149075</td>\n",
       "    </tr>\n",
       "    <tr>\n",
       "      <th>8071</th>\n",
       "      <td>Hexanal</td>\n",
       "      <td>Hexanal 10%</td>\n",
       "      <td>0.220699</td>\n",
       "    </tr>\n",
       "    <tr>\n",
       "      <th>8070</th>\n",
       "      <td>Hexanal</td>\n",
       "      <td>Hexanal 10%</td>\n",
       "      <td>0.130865</td>\n",
       "    </tr>\n",
       "    <tr>\n",
       "      <th>8069</th>\n",
       "      <td>Hexanal</td>\n",
       "      <td>Hexanal 10%</td>\n",
       "      <td>0.019291</td>\n",
       "    </tr>\n",
       "    <tr>\n",
       "      <th>8068</th>\n",
       "      <td>Hexanal</td>\n",
       "      <td>Hexanal 10%</td>\n",
       "      <td>0.288933</td>\n",
       "    </tr>\n",
       "    <tr>\n",
       "      <th>8067</th>\n",
       "      <td>Hexanal</td>\n",
       "      <td>Hexanal 10%</td>\n",
       "      <td>0.223579</td>\n",
       "    </tr>\n",
       "    <tr>\n",
       "      <th>8066</th>\n",
       "      <td>Hexanal</td>\n",
       "      <td>Hexanal 10%</td>\n",
       "      <td>0.031014</td>\n",
       "    </tr>\n",
       "    <tr>\n",
       "      <th>8065</th>\n",
       "      <td>Hexanal</td>\n",
       "      <td>Hexanal 10%</td>\n",
       "      <td>0.114366</td>\n",
       "    </tr>\n",
       "    <tr>\n",
       "      <th>8075</th>\n",
       "      <td>Hexanal</td>\n",
       "      <td>Hexanal 10%</td>\n",
       "      <td>0.579442</td>\n",
       "    </tr>\n",
       "    <tr>\n",
       "      <th>7960</th>\n",
       "      <td>Control</td>\n",
       "      <td>Hexanal 10%</td>\n",
       "      <td>0.189300</td>\n",
       "    </tr>\n",
       "  </tbody>\n",
       "</table>\n",
       "<p>7150 rows × 3 columns</p>\n",
       "</div>"
      ],
      "text/plain": [
       "        Group         Odor     value\n",
       "0     Control        MS 1%  0.015671\n",
       "512   Hexanal        MS 1%  0.216320\n",
       "513   Hexanal        MS 1%  0.200734\n",
       "514   Hexanal        MS 1%  0.126636\n",
       "515   Hexanal        MS 1%  0.146380\n",
       "516   Hexanal        MS 1%  0.209309\n",
       "517   Hexanal        MS 1%  0.299622\n",
       "518   Hexanal        MS 1%  0.148053\n",
       "519   Hexanal        MS 1%  0.086919\n",
       "520   Hexanal        MS 1%  0.024138\n",
       "511   Hexanal        MS 1%  0.097680\n",
       "521   Hexanal        MS 1%  0.202925\n",
       "523   Hexanal        MS 1%  0.184702\n",
       "524   Hexanal        MS 1%  0.051542\n",
       "525   Hexanal        MS 1%  0.044623\n",
       "526   Hexanal        MS 1%  0.133760\n",
       "527   Hexanal        MS 1%  0.030670\n",
       "528   Hexanal        MS 1%  0.118389\n",
       "529   Hexanal        MS 1%  0.055969\n",
       "530   Hexanal        MS 1%  0.340597\n",
       "531   Hexanal        MS 1%  0.130009\n",
       "522   Hexanal        MS 1%  0.270302\n",
       "532   Hexanal        MS 1%  0.280088\n",
       "510   Hexanal        MS 1%  0.153363\n",
       "508   Hexanal        MS 1%  0.118162\n",
       "488   Hexanal        MS 1%  0.331770\n",
       "489   Hexanal        MS 1%  0.157791\n",
       "490   Hexanal        MS 1%  0.417632\n",
       "491   Hexanal        MS 1%  0.033887\n",
       "492   Hexanal        MS 1%  0.194419\n",
       "...       ...          ...       ...\n",
       "8040  Hexanal  Hexanal 10%  0.351417\n",
       "8039  Hexanal  Hexanal 10%  0.294391\n",
       "8049  Hexanal  Hexanal 10%  0.760009\n",
       "8037  Hexanal  Hexanal 10%  0.291506\n",
       "8062  Hexanal  Hexanal 10%  0.154878\n",
       "8064  Hexanal  Hexanal 10%  0.152494\n",
       "8086  Hexanal  Hexanal 10%  0.218386\n",
       "8085  Hexanal  Hexanal 10%  0.124959\n",
       "8084  Hexanal  Hexanal 10%  0.081698\n",
       "8083  Hexanal  Hexanal 10%  0.098549\n",
       "8082  Hexanal  Hexanal 10%  0.368336\n",
       "8081  Hexanal  Hexanal 10%  0.129421\n",
       "8080  Hexanal  Hexanal 10%  0.770505\n",
       "8079  Hexanal  Hexanal 10%  0.323544\n",
       "8078  Hexanal  Hexanal 10%  0.086767\n",
       "8077  Hexanal  Hexanal 10%  0.134787\n",
       "8063  Hexanal  Hexanal 10%  0.179797\n",
       "8076  Hexanal  Hexanal 10%  0.603242\n",
       "8074  Hexanal  Hexanal 10%  0.429644\n",
       "8073  Hexanal  Hexanal 10%  0.281141\n",
       "8072  Hexanal  Hexanal 10%  0.149075\n",
       "8071  Hexanal  Hexanal 10%  0.220699\n",
       "8070  Hexanal  Hexanal 10%  0.130865\n",
       "8069  Hexanal  Hexanal 10%  0.019291\n",
       "8068  Hexanal  Hexanal 10%  0.288933\n",
       "8067  Hexanal  Hexanal 10%  0.223579\n",
       "8066  Hexanal  Hexanal 10%  0.031014\n",
       "8065  Hexanal  Hexanal 10%  0.114366\n",
       "8075  Hexanal  Hexanal 10%  0.579442\n",
       "7960  Control  Hexanal 10%  0.189300\n",
       "\n",
       "[7150 rows x 3 columns]"
      ]
     },
     "execution_count": 117,
     "metadata": {},
     "output_type": "execute_result"
    }
   ],
   "source": [
    "conc_maxdf"
   ]
  },
  {
   "cell_type": "code",
   "execution_count": 120,
   "metadata": {
    "collapsed": false
   },
   "outputs": [
    {
     "data": {
      "image/png": "[encoded data removed]",
      "text/plain": [
       "<matplotlib.figure.Figure at 0x1129a550>"
      ]
     },
     "metadata": {},
     "output_type": "display_data"
    }
   ],
   "source": [
    "#Multiple Concentration\n",
    "cat=('Control','Mint','Hexanal')\n",
    "sns.set(style=\"white\", palette=\"muted\", color_codes=True);\n",
    "sns.set_context(\"paper\", font_scale=1.3);\n",
    "plt.figure(figsize=(3.5,3));\n",
    "sns.boxplot(x='Odor',y='value',hue_order=cat,hue='Group',palette=groupcolors,data=hex_conc_mindf);\n",
    "ax=sns.boxplot(x='Odor',y='value',hue_order=cat,hue='Group',palette=groupcolors,data=hex_conc_maxdf);\n",
    "ax.legend_.remove()\n",
    "sns.despine()\n",
    "plt.ylabel('DF/F', fontsize=12);\n",
    "plt.title('Peak DF/F, 1%', fontsize=12);\n",
    "plt.xlabel('Odor', fontsize=12);\n",
    "plt.ylim(-1,4)\n",
    "plt.tight_layout()\n",
    "plt.savefig(\"C:\\Users\\Annie\\Desktop\\Plasticity\\Figures\\\\Box\\\\hex_conc.pdf\")"
   ]
  },
  {
   "cell_type": "markdown",
   "metadata": {},
   "source": [
    "# Figure 4-5: MEDIAN"
   ]
  },
  {
   "cell_type": "markdown",
   "metadata": {},
   "source": [
    "1%"
   ]
  },
  {
   "cell_type": "code",
   "execution_count": 132,
   "metadata": {
    "collapsed": true
   },
   "outputs": [],
   "source": [
    "#MEDIANS for 1%\n",
    "medians=pd.DataFrame([])\n",
    "df=one_maxdf\n",
    "for x in df.Group.unique():\n",
    "    tmp=pd.DataFrame([])\n",
    "    for y in df.Odor.unique():\n",
    "        a=df[(df.Group==x)&(df.Odor==y)]['value'].dropna().median()\n",
    "        m=pd.DataFrame({y:[a]})\n",
    "        tmp=pd.concat([tmp,m],axis=1)\n",
    "    b=pd.DataFrame({'Group':[x]})\n",
    "#     c=pd.DataFrame({'Group':[df[df.Mouse==x]['Group'].iloc[0]]})\n",
    "#     c=c.reset_index(drop=True)\n",
    "    tmp=pd.concat([b,tmp],axis=1)\n",
    "    medians=medians.append(tmp)\n",
    "maxmedianmelt=pd.melt(medians,\"Group\",var_name=\"Odor\")"
   ]
  },
  {
   "cell_type": "code",
   "execution_count": 134,
   "metadata": {
    "collapsed": false
   },
   "outputs": [
    {
     "data": {
      "image/png": "[encoded data removed]",
      "text/plain": [
       "<matplotlib.figure.Figure at 0x1153f048>"
      ]
     },
     "metadata": {},
     "output_type": "display_data"
    }
   ],
   "source": [
    "#Plot everything by group\n",
    "sns.set(style=\"white\", palette=\"muted\", color_codes=True);\n",
    "sns.set_context(\"paper\", font_scale=1.3);\n",
    "plt.figure(figsize=(7,5));\n",
    "ax=sns.pointplot(x='Odor',y='value',hue='Group',palette=groupcolors,data=maxmedianmelt)\n",
    "# sns.pointplot(x='Odor',y='value',hue='Group',palette=groupcolors,data=minmedianmelt)\n",
    "ax.legend_.remove()\n",
    "sns.despine()\n",
    "plt.ylabel('DF/F', fontsize=12);\n",
    "plt.title('Median Peak', fontsize=12);\n",
    "plt.xlabel('Odor', fontsize=12);\n",
    "plt.ylim(-0.2,0.6)\n",
    "plt.tight_layout();\n",
    "plt.savefig(\"C:\\Users\\Annie\\Desktop\\Plasticity\\Figures\\\\Median\\\\Median_one.pdf\")"
   ]
  },
  {
   "cell_type": "markdown",
   "metadata": {},
   "source": [
    "Concentrations"
   ]
  },
  {
   "cell_type": "code",
   "execution_count": 129,
   "metadata": {
    "collapsed": true
   },
   "outputs": [],
   "source": [
    "#MEDIANS\n",
    "medians=pd.DataFrame([])\n",
    "# df=MS_conc_maxdf\n",
    "# df=hex_conc_maxdf\n",
    "df=IAA_conc_maxdf\n",
    "for x in df.Group.unique():\n",
    "    tmp=pd.DataFrame([])\n",
    "    for y in df.Odor.unique():\n",
    "        a=df[(df.Group==x)&(df.Odor==y)]['value'].dropna().median()\n",
    "        m=pd.DataFrame({y:[a]})\n",
    "        tmp=pd.concat([tmp,m],axis=1)\n",
    "    b=pd.DataFrame({'Group':[x]})\n",
    "#     c=pd.DataFrame({'Group':[df[df.Mouse==x]['Group'].iloc[0]]})\n",
    "#     c=c.reset_index(drop=True)\n",
    "    tmp=pd.concat([b,tmp],axis=1)\n",
    "    medians=medians.append(tmp)\n",
    "maxmedianmelt=pd.melt(medians,\"Group\",var_name=\"Odor\")"
   ]
  },
  {
   "cell_type": "code",
   "execution_count": 130,
   "metadata": {
    "collapsed": false
   },
   "outputs": [
    {
     "data": {
      "image/png": "[encoded data removed]",
      "text/plain": [
       "<matplotlib.figure.Figure at 0xc358eb8>"
      ]
     },
     "metadata": {},
     "output_type": "display_data"
    }
   ],
   "source": [
    "#Plot everything by group\n",
    "sns.set(style=\"white\", palette=\"muted\", color_codes=True);\n",
    "sns.set_context(\"paper\", font_scale=1.3);\n",
    "plt.figure(figsize=(3.5,3));\n",
    "ax=sns.pointplot(x='Odor',y='value',hue='Group',palette=groupcolors,data=maxmedianmelt)\n",
    "# sns.pointplot(x='Odor',y='value',hue='Group',palette=groupcolors,data=minmedianmelt)\n",
    "ax.legend_.remove()\n",
    "sns.despine()\n",
    "plt.ylabel('DF/F', fontsize=12);\n",
    "plt.title('Median Peak', fontsize=12);\n",
    "plt.xlabel('Odor', fontsize=12);\n",
    "plt.ylim(0,0.6)\n",
    "plt.tight_layout();\n",
    "plt.savefig(\"C:\\Users\\Annie\\Desktop\\Plasticity\\Figures\\\\Median\\\\Median_IAA.pdf\")"
   ]
  },
  {
   "cell_type": "markdown",
   "metadata": {},
   "source": [
    "# Figure 6: Number of excitatory events"
   ]
  },
  {
   "cell_type": "code",
   "execution_count": 3,
   "metadata": {
    "collapsed": true
   },
   "outputs": [],
   "source": [
    "filename='C:\\Users\\Annie\\Documents\\Data\\Ca_Imaging\\GoodFiles\\\\fullpeak.csv'\n",
    "comp=pd.read_csv(filename)\n",
    "comp_sorted=comp.reindex_axis(comp.mean().sort_values().index, axis=1)\n",
    "comp_labels=pd.DataFrame(comp.Mouse)\n",
    "comp_group=pd.DataFrame(comp.Group)\n",
    "tmp=[comp_group,comp_labels,comp_sorted]\n",
    "composite_full=pd.concat(tmp,axis=1)\n",
    "cfull=pd.melt(composite_full,['Group','Mouse'],var_name=\"Odor\")\n",
    "\n",
    "maxdf=pd.DataFrame([])\n",
    "zdf=pd.DataFrame([])\n",
    "for x in cfull.index:\n",
    "    if cfull.value[x]>0:\n",
    "        a=pd.DataFrame(cfull.iloc[x]).T\n",
    "        maxdf=maxdf.append(a,ignore_index=True)\n",
    "    else:\n",
    "        a=pd.DataFrame(cfull.iloc[x]).T\n",
    "        zdf=zdf.append(a,ignore_index=True)\n",
    "zdf=zdf.dropna()"
   ]
  },
  {
   "cell_type": "code",
   "execution_count": 4,
   "metadata": {
    "collapsed": false
   },
   "outputs": [],
   "source": [
    "ratio=pd.DataFrame([])\n",
    "for x in maxdf.Group.unique():\n",
    "    for y in maxdf.Odor.unique():\n",
    "        a=float(len(maxdf[(maxdf.Group==x) & (maxdf.Odor==y)]['value']))\n",
    "        b=float(len(zdf[(zdf.Group==x) & (zdf.Odor==y)]['value']))\n",
    "        E=a/(a+b)\n",
    "        ratio=ratio.append(pd.DataFrame({'Group':[x],'Odor':[y],'Ratio':[E]}))"
   ]
  },
  {
   "cell_type": "code",
   "execution_count": 5,
   "metadata": {
    "collapsed": false
   },
   "outputs": [],
   "source": [
    "one_ratio=ratio[['Group','Odor','Ratio']][ratio.Odor.isin(['MS01','Hexanal01','IAA01','THA','AP','PA','Hexanone','EB'])]\n",
    "conc_ratio=ratio[['Group','Odor','Ratio']][ratio.Odor.isin(['MS01','MS05','MS10','Hexanal01','Hexanal05','Hexanal10','IAA01','IAA05','IAA10'])]\n",
    "conc_ratio=conc_ratio.sort_values(by='Odor')\n",
    "\n",
    "one_ratio=one_ratio.replace(to_replace='MS01',value='MS')\n",
    "one_ratio=one_ratio.replace(to_replace='Hexanal01',value='Hexanal')\n",
    "one_ratio=one_ratio.replace(to_replace='IAA01',value='IAA')\n",
    "\n",
    "sorter=('MS01','MS05','MS10','IAA01','IAA05','IAA10','Hexanal01','Hexanal05','Hexanal10')\n",
    "conc_ratio.Odor=conc_ratio.Odor.astype('category')\n",
    "conc_ratio.Odor.cat.set_categories(sorter,inplace=True)\n",
    "conc_ratio=conc_ratio.sort_values(['Odor'])\n",
    "\n",
    "conc_ratio=conc_ratio.replace(to_replace='MS01',value='MS 1%')\n",
    "conc_ratio=conc_ratio.replace(to_replace='MS05',value='MS 5%')\n",
    "conc_ratio=conc_ratio.replace(to_replace='MS10',value='MS 10%')\n",
    "conc_ratio=conc_ratio.replace(to_replace='IAA01',value='IAA 1%')\n",
    "conc_ratio=conc_ratio.replace(to_replace='IAA05',value='IAA 5%')\n",
    "conc_ratio=conc_ratio.replace(to_replace='IAA10',value='IAA 10%')\n",
    "conc_ratio=conc_ratio.replace(to_replace='Hexanal01',value='Hexanal 1%')\n",
    "conc_ratio=conc_ratio.replace(to_replace='Hexanal05',value='Hexanal 5%')\n",
    "conc_ratio=conc_ratio.replace(to_replace='Hexanal10',value='Hexanal 10%')"
   ]
  },
  {
   "cell_type": "code",
   "execution_count": 6,
   "metadata": {
    "collapsed": true
   },
   "outputs": [],
   "source": [
    "MS_conc_ratio=conc_ratio[conc_ratio.Odor.isin(['MS 1%','MS 5%','MS 10%'])]\n",
    "hex_conc_ratio=conc_ratio[conc_ratio.Odor.isin(['Hexanal 1%','Hexanal 5%','Hexanal 10%'])]\n",
    "IAA_conc_ratio=conc_ratio[conc_ratio.Odor.isin(['IAA 1%','IAA 5%','IAA 10%'])]"
   ]
  },
  {
   "cell_type": "code",
   "execution_count": 8,
   "metadata": {
    "collapsed": false
   },
   "outputs": [],
   "source": [
    "one_ratio.to_csv('C:\\Users\\Annie\\Desktop\\Plasticity\\Stats\\\\Ratio_One.csv')"
   ]
  },
  {
   "cell_type": "code",
   "execution_count": 9,
   "metadata": {
    "collapsed": true
   },
   "outputs": [],
   "source": [
    "MS_conc_ratio.to_csv('C:\\Users\\Annie\\Desktop\\Plasticity\\Stats\\\\Ratio_MS.csv')\n",
    "hex_conc_ratio.to_csv('C:\\Users\\Annie\\Desktop\\Plasticity\\Stats\\\\Ratio_hex.csv')\n",
    "IAA_conc_ratio.to_csv('C:\\Users\\Annie\\Desktop\\Plasticity\\Stats\\\\Ratio_IAA.csv')"
   ]
  },
  {
   "cell_type": "code",
   "execution_count": 65,
   "metadata": {
    "collapsed": false
   },
   "outputs": [
    {
     "data": {
      "image/png": "[encoded data removed]",
      "text/plain": [
       "<matplotlib.figure.Figure at 0xbae84e0>"
      ]
     },
     "metadata": {},
     "output_type": "display_data"
    }
   ],
   "source": [
    "# 1%\n",
    "sns.set(style=\"white\", palette=\"muted\", color_codes=True);\n",
    "sns.set_context(\"paper\", font_scale=1.3);\n",
    "plt.figure(figsize=(7,5));\n",
    "ax=sns.pointplot(x='Odor',y='Ratio',hue='Group',palette=groupcolors,data=one_ratio)\n",
    "# ax.legend_.remove()\n",
    "sns.despine()\n",
    "plt.ylabel('Ratio', fontsize=12);\n",
    "plt.title('Excitatory Responses', fontsize=12);\n",
    "plt.xlabel('Odor', fontsize=12);\n",
    "# plt.ylim(-0.2,0.6)\n",
    "plt.tight_layout();\n",
    "plt.savefig(\"C:\\Users\\Annie\\Desktop\\Plasticity\\Figures\\\\Excitatory\\\\Excitatory_One.pdf\")"
   ]
  },
  {
   "cell_type": "code",
   "execution_count": 82,
   "metadata": {
    "collapsed": false
   },
   "outputs": [
    {
     "data": {
      "image/png": "[encoded data removed]",
      "text/plain": [
       "<matplotlib.figure.Figure at 0xc604358>"
      ]
     },
     "metadata": {},
     "output_type": "display_data"
    }
   ],
   "source": [
    "#Different concentrations\n",
    "sns.set(style=\"white\", palette=\"muted\", color_codes=True);\n",
    "sns.set_context(\"paper\", font_scale=1.3);\n",
    "plt.figure(figsize=(3.5,3));\n",
    "ax=sns.pointplot(x='Odor',y='Ratio',hue='Group',palette=groupcolors,data=IAA_conc_ratio)\n",
    "ax.legend_.remove()\n",
    "sns.despine()\n",
    "plt.ylabel('Ratio', fontsize=12);\n",
    "plt.title('Excitatory Responses', fontsize=12);\n",
    "plt.xlabel('Odor', fontsize=12);\n",
    "plt.ylim(0.8,1)\n",
    "plt.tight_layout();\n",
    "plt.savefig(\"C:\\Users\\Annie\\Desktop\\Plasticity\\Figures\\\\Excitatory\\\\Excitatory_IAA.pdf\")"
   ]
  },
  {
   "cell_type": "markdown",
   "metadata": {},
   "source": [
    "# Number of odorants responded to"
   ]
  },
  {
   "cell_type": "code",
   "execution_count": 14,
   "metadata": {
    "collapsed": false
   },
   "outputs": [],
   "source": [
    "composite_full=composite_full.drop('Blank',1)"
   ]
  },
  {
   "cell_type": "code",
   "execution_count": 15,
   "metadata": {
    "collapsed": true
   },
   "outputs": [],
   "source": [
    "EI=pd.DataFrame([])\n",
    "for x in composite_full.index:\n",
    "    a=0\n",
    "    b=0\n",
    "    for value in composite_full.iloc[x][2:]:\n",
    "        if value>0:\n",
    "            a=a+1\n",
    "        elif value<0:\n",
    "            b=b+1\n",
    "    c=pd.DataFrame(composite_full.iloc[x][['Group','Mouse']]).T\n",
    "    c=c.reset_index(drop=True)\n",
    "    d=pd.concat([c,pd.DataFrame({'E':[a]}),pd.DataFrame({'I':[b]})],axis=1)\n",
    "    EI=EI.append(d)"
   ]
  },
  {
   "cell_type": "code",
   "execution_count": 16,
   "metadata": {
    "collapsed": false,
    "scrolled": true
   },
   "outputs": [],
   "source": [
    "EI.to_csv('C:\\Users\\Annie\\Desktop\\Plasticity\\Stats\\\\Odor_Number.csv')"
   ]
  },
  {
   "cell_type": "code",
   "execution_count": 18,
   "metadata": {
    "collapsed": true
   },
   "outputs": [],
   "source": [
    "groupcolors={'Control':sns.xkcd_rgb[\"black\"],'Mint':sns.xkcd_rgb[\"grey\"],'Hexanal':sns.xkcd_rgb[\"azure\"]};"
   ]
  },
  {
   "cell_type": "code",
   "execution_count": 19,
   "metadata": {
    "collapsed": false
   },
   "outputs": [
    {
     "data": {
      "image/png": "[encoded data removed]",
      "text/plain": [
       "<matplotlib.figure.Figure at 0xb89d278>"
      ]
     },
     "metadata": {},
     "output_type": "display_data"
    }
   ],
   "source": [
    "sns.set(style=\"white\")\n",
    "sns.set_context('paper')\n",
    "plt.figure(figsize=(3,3))\n",
    "sns.barplot(x='Group', y=\"E\", data=EI,\n",
    "            label=\"E\", palette=groupcolors);\n",
    "sns.despine(left=True, bottom=True)\n",
    "plt.ylabel('Odor Number', fontsize=12);\n",
    "plt.title('Responses', fontsize=12);\n",
    "plt.xlabel('Odor', fontsize=12);\n",
    "plt.xticks(fontsize=11);\n",
    "plt.yticks(fontsize=11);\n",
    "plt.tight_layout();\n",
    "plt.savefig(\"C:\\Users\\Annie\\Desktop\\Plasticity\\Figures\\\\Excitatory\\\\Odors.pdf\")"
   ]
  },
  {
   "cell_type": "markdown",
   "metadata": {},
   "source": [
    "# Figure 7: Reliability"
   ]
  },
  {
   "cell_type": "code",
   "execution_count": 21,
   "metadata": {
    "collapsed": false
   },
   "outputs": [],
   "source": [
    "z='C:\\Users\\Annie\\Documents\\Data\\Ca_Imaging\\GoodFiles\\\\fullpeak_WL.csv'\n",
    "peak=pd.read_csv(z)\n",
    "s='C:\\Users\\Annie\\Documents\\Data\\Ca_Imaging\\GoodFiles\\\\fullsuccess_WI.csv'\n",
    "success=pd.read_csv(s)\n",
    "melt_success=pd.melt(success,('Mouse','Group'),var_name='Odor')\n",
    "melt_peak=pd.melt(peak,('Mouse','Group'),var_name='Odor')\n",
    "rdf=pd.concat([melt_peak[['Mouse','Group','Odor','value']],melt_success['value']],axis=1)\n",
    "rdf.columns=['Mouse','Group','Odor','Peak','Success']"
   ]
  },
  {
   "cell_type": "code",
   "execution_count": 22,
   "metadata": {
    "collapsed": false
   },
   "outputs": [
    {
     "data": {
      "text/html": [
       "<div>\n",
       "<table border=\"1\" class=\"dataframe\">\n",
       "  <thead>\n",
       "    <tr style=\"text-align: right;\">\n",
       "      <th></th>\n",
       "      <th>Mouse</th>\n",
       "      <th>Group</th>\n",
       "      <th>Odor</th>\n",
       "      <th>Peak</th>\n",
       "      <th>Success</th>\n",
       "    </tr>\n",
       "  </thead>\n",
       "  <tbody>\n",
       "    <tr>\n",
       "      <th>12940</th>\n",
       "      <td>G PMT (22)_160626_2</td>\n",
       "      <td>Hexanal</td>\n",
       "      <td>Hexanal05</td>\n",
       "      <td>2.629784</td>\n",
       "      <td>1.0</td>\n",
       "    </tr>\n",
       "    <tr>\n",
       "      <th>12941</th>\n",
       "      <td>G PMT (23)_160626_2</td>\n",
       "      <td>Hexanal</td>\n",
       "      <td>Hexanal05</td>\n",
       "      <td>2.228448</td>\n",
       "      <td>1.0</td>\n",
       "    </tr>\n",
       "    <tr>\n",
       "      <th>12942</th>\n",
       "      <td>G PMT (24)_160626_2</td>\n",
       "      <td>Hexanal</td>\n",
       "      <td>Hexanal05</td>\n",
       "      <td>2.581529</td>\n",
       "      <td>1.0</td>\n",
       "    </tr>\n",
       "    <tr>\n",
       "      <th>12943</th>\n",
       "      <td>G PMT (25)_160626_2</td>\n",
       "      <td>Hexanal</td>\n",
       "      <td>Hexanal05</td>\n",
       "      <td>1.906673</td>\n",
       "      <td>1.0</td>\n",
       "    </tr>\n",
       "    <tr>\n",
       "      <th>12944</th>\n",
       "      <td>G PMT (26)_160626_2</td>\n",
       "      <td>Hexanal</td>\n",
       "      <td>Hexanal05</td>\n",
       "      <td>2.273161</td>\n",
       "      <td>1.0</td>\n",
       "    </tr>\n",
       "  </tbody>\n",
       "</table>\n",
       "</div>"
      ],
      "text/plain": [
       "                     Mouse    Group       Odor      Peak  Success\n",
       "12940  G PMT (22)_160626_2  Hexanal  Hexanal05  2.629784      1.0\n",
       "12941  G PMT (23)_160626_2  Hexanal  Hexanal05  2.228448      1.0\n",
       "12942  G PMT (24)_160626_2  Hexanal  Hexanal05  2.581529      1.0\n",
       "12943  G PMT (25)_160626_2  Hexanal  Hexanal05  1.906673      1.0\n",
       "12944  G PMT (26)_160626_2  Hexanal  Hexanal05  2.273161      1.0"
      ]
     },
     "execution_count": 22,
     "metadata": {},
     "output_type": "execute_result"
    }
   ],
   "source": [
    "rdf.tail()"
   ]
  },
  {
   "cell_type": "code",
   "execution_count": 23,
   "metadata": {
    "collapsed": false
   },
   "outputs": [],
   "source": [
    "smalldf=pd.DataFrame([])\n",
    "xdf=pd.DataFrame([])\n",
    "for x in rdf.Mouse.unique():\n",
    "    for y in rdf.Odor.unique():\n",
    "        b=rdf[(rdf.Mouse==x)&(rdf.Odor==y)].Peak.values[0]\n",
    "        if b>0:\n",
    "            c=rdf[(rdf.Mouse==x)&(rdf.Odor==y)]\n",
    "            smalldf=smalldf.append(c,ignore_index=True)\n",
    "        else:\n",
    "            a=rdf[(rdf.Mouse==x)&(rdf.Odor==y)]\n",
    "            xdf=xdf.append(a,ignore_index=True)\n",
    "xdf=xdf.dropna()"
   ]
  },
  {
   "cell_type": "code",
   "execution_count": 24,
   "metadata": {
    "collapsed": false
   },
   "outputs": [],
   "source": [
    "one_r=smalldf[['Group','Odor','Success']][smalldf.Odor.isin(['MS01','Hexanal01','IAA01','THA','AP','PA','Hexanone','EB'])]\n",
    "conc_r=smalldf[['Group','Odor','Success']][smalldf.Odor.isin(['MS01','MS05','MS10','Hexanal01','Hexanal05','Hexanal10','IAA01','IAA05','IAA10'])]\n",
    "conc_r=conc_r.sort_values(by='Odor')\n",
    "\n",
    "sorting=('MS01','THA','AP','PA','IAA01','Hexanone','Hexanal01','EB')\n",
    "one_r.Odor=one_r.Odor.astype('category')\n",
    "one_r.Odor.cat.set_categories(sorting,inplace=True)\n",
    "one_r=one_r.sort_values(['Odor'])\n",
    "\n",
    "one_r=one_r.replace(to_replace='MS01',value='MS')\n",
    "one_r=one_r.replace(to_replace='Hexanal01',value='Hexanal')\n",
    "one_r=one_r.replace(to_replace='IAA01',value='IAA')\n",
    "\n",
    "sorter=('MS01','MS05','MS10','IAA01','IAA05','IAA10','Hexanal01','Hexanal05','Hexanal10')\n",
    "conc_r.Odor=conc_r.Odor.astype('category')\n",
    "conc_r.Odor.cat.set_categories(sorter,inplace=True)\n",
    "conc_r=conc_r.sort_values(['Odor'])\n",
    "\n",
    "conc_r=conc_r.replace(to_replace='MS01',value='MS 1%')\n",
    "conc_r=conc_r.replace(to_replace='MS05',value='MS 5%')\n",
    "conc_r=conc_r.replace(to_replace='MS10',value='MS 10%')\n",
    "conc_r=conc_r.replace(to_replace='IAA01',value='IAA 1%')\n",
    "conc_r=conc_r.replace(to_replace='IAA05',value='IAA 5%')\n",
    "conc_r=conc_r.replace(to_replace='IAA10',value='IAA 10%')\n",
    "conc_r=conc_r.replace(to_replace='Hexanal01',value='Hexanal 1%')\n",
    "conc_r=conc_r.replace(to_replace='Hexanal05',value='Hexanal 5%')\n",
    "conc_r=conc_r.replace(to_replace='Hexanal10',value='Hexanal 10%')"
   ]
  },
  {
   "cell_type": "code",
   "execution_count": 25,
   "metadata": {
    "collapsed": true
   },
   "outputs": [],
   "source": [
    "groupcolors={'Control':sns.xkcd_rgb[\"black\"],'Mint':sns.xkcd_rgb[\"grey\"],'Hexanal':sns.xkcd_rgb[\"azure\"]};"
   ]
  },
  {
   "cell_type": "code",
   "execution_count": 26,
   "metadata": {
    "collapsed": false
   },
   "outputs": [
    {
     "data": {
      "image/png": "[encoded data removed]",
      "text/plain": [
       "<matplotlib.figure.Figure at 0xbd718d0>"
      ]
     },
     "metadata": {},
     "output_type": "display_data"
    }
   ],
   "source": [
    "# 1%\n",
    "sns.set(style=\"white\", palette=\"muted\", color_codes=True);\n",
    "sns.set_context(\"paper\", font_scale=1.3);\n",
    "plt.figure(figsize=(7,5));\n",
    "ax=sns.pointplot(x='Odor',y='Success',hue='Group',palette=groupcolors,data=one_r)\n",
    "# ax.legend_.remove()\n",
    "sns.despine()\n",
    "plt.ylabel('Ratio', fontsize=12);\n",
    "plt.title('Successful Trials', fontsize=12);\n",
    "plt.xlabel('Odor', fontsize=12);\n",
    "# plt.ylim(-0.2,0.6)\n",
    "plt.tight_layout();\n",
    "plt.savefig(\"C:\\Users\\Annie\\Desktop\\Plasticity\\Figures\\\\Excitatory\\\\Successes_One.pdf\")"
   ]
  },
  {
   "cell_type": "code",
   "execution_count": 28,
   "metadata": {
    "collapsed": false
   },
   "outputs": [],
   "source": [
    "MS_conc_r=conc_r[conc_r.Odor.isin(['MS 1%','MS 5%','MS 10%'])]\n",
    "hex_conc_r=conc_r[conc_r.Odor.isin(['Hexanal 1%','Hexanal 5%','Hexanal 10%'])]\n",
    "IAA_conc_r=conc_r[conc_r.Odor.isin(['IAA 1%','IAA 5%','IAA 10%'])]"
   ]
  },
  {
   "cell_type": "code",
   "execution_count": 74,
   "metadata": {
    "collapsed": false
   },
   "outputs": [
    {
     "data": {
      "image/png": "[encoded data removed]",
      "text/plain": [
       "<matplotlib.figure.Figure at 0xc2e6630>"
      ]
     },
     "metadata": {},
     "output_type": "display_data"
    }
   ],
   "source": [
    "# 1%\n",
    "sns.set(style=\"white\", palette=\"muted\", color_codes=True);\n",
    "sns.set_context(\"paper\", font_scale=1.3);\n",
    "plt.figure(figsize=(3.5,3));\n",
    "ax=sns.pointplot(x='Odor',y='Success',hue='Group',palette=groupcolors,data=MS_conc_r)\n",
    "ax.legend_.remove()\n",
    "sns.despine()\n",
    "plt.ylabel('Ratio', fontsize=12);\n",
    "plt.title('Successful Trials', fontsize=12);\n",
    "plt.xlabel('Odor', fontsize=12);\n",
    "plt.ylim(0.65,1)\n",
    "plt.tight_layout();\n",
    "plt.savefig(\"C:\\Users\\Annie\\Desktop\\Plasticity\\Figures\\\\Excitatory\\\\Successes_MS.pdf\")"
   ]
  },
  {
   "cell_type": "code",
   "execution_count": 86,
   "metadata": {
    "collapsed": false
   },
   "outputs": [
    {
     "data": {
      "image/png": "[encoded data removed]",
      "text/plain": [
       "<matplotlib.figure.Figure at 0xc498828>"
      ]
     },
     "metadata": {},
     "output_type": "display_data"
    }
   ],
   "source": [
    "#boxplots\n",
    "sns.set(style=\"white\", palette=\"muted\", color_codes=True);\n",
    "sns.set_context(\"paper\", font_scale=1.3);\n",
    "plt.figure(figsize=(3.5,3));\n",
    "ax=sns.barplot(x='Group',y='Success',palette=groupcolors,data=smalldf)\n",
    "# ax.legend_.remove()\n",
    "sns.despine()\n",
    "plt.ylabel('Ratio', fontsize=12);\n",
    "plt.title('Successful Trials', fontsize=12);\n",
    "plt.xlabel('Odor', fontsize=12);\n",
    "plt.ylim(0.5,1)\n",
    "plt.tight_layout();\n",
    "plt.savefig(\"C:\\Users\\Annie\\Desktop\\Plasticity\\Figures\\\\Excitatory\\\\Successes_Summary.pdf\")"
   ]
  },
  {
   "cell_type": "code",
   "execution_count": 32,
   "metadata": {
    "collapsed": false
   },
   "outputs": [],
   "source": [
    "# smalldf.to_csv('C:\\Users\\Annie\\Desktop\\Plasticity\\Stats\\\\Success.csv')"
   ]
  },
  {
   "cell_type": "code",
   "execution_count": 85,
   "metadata": {
    "collapsed": false
   },
   "outputs": [],
   "source": [
    "# mint=one_r[one_r.Group=='Mint']\n",
    "# hexanal=one_r[one_r.Group=='Hexanal']\n",
    "# control=one_r[one_r.Group=='Control']"
   ]
  },
  {
   "cell_type": "code",
   "execution_count": 90,
   "metadata": {
    "collapsed": true
   },
   "outputs": [],
   "source": [
    "# MS_conc_r.to_csv('C:\\Users\\Annie\\Desktop\\Plasticity\\Stats\\\\Success_MS.csv')\n",
    "hex_conc_r.to_csv('C:\\Users\\Annie\\Desktop\\Plasticity\\Stats\\\\Success_hex.csv')\n",
    "# IAA_conc_r.to_csv('C:\\Users\\Annie\\Desktop\\Plasticity\\Stats\\\\Success_IAA.csv')"
   ]
  },
  {
   "cell_type": "markdown",
   "metadata": {
    "collapsed": true
   },
   "source": [
    "# Make some ranks"
   ]
  },
  {
   "cell_type": "code",
   "execution_count": 6,
   "metadata": {
    "collapsed": true
   },
   "outputs": [],
   "source": [
    "filename='C:\\Users\\Annie\\Documents\\Data\\Ca_Imaging\\GoodFiles\\\\fullpeak.csv'\n",
    "comp=pd.read_csv(filename)\n",
    "comp_sorted=comp.reindex_axis(comp.mean().sort_values().index, axis=1)\n",
    "comp_labels=pd.DataFrame(comp.Mouse)\n",
    "comp_group=pd.DataFrame(comp.Group)\n",
    "tmp=[comp_group,comp_labels,comp_sorted]\n",
    "composite_full=pd.concat(tmp,axis=1)"
   ]
  },
  {
   "cell_type": "code",
   "execution_count": 19,
   "metadata": {
    "collapsed": false
   },
   "outputs": [],
   "source": [
    "composite_full=composite_full.drop('Blank',axis=1)\n",
    "labels=composite_full.iloc[:,0:2]\n",
    "df=composite_full.iloc[:,2:].rank(axis=1)\n",
    "rankdf=pd.concat((labels,df),axis=1)"
   ]
  },
  {
   "cell_type": "code",
   "execution_count": 38,
   "metadata": {
    "collapsed": true
   },
   "outputs": [],
   "source": [
    "rankdf=rankdf.rename(index=str,columns={'MS01':'MS 1%','MS05':'MS 5%','MS10':'MS 10%','IAA01':'IAA 1%','IAA05':'IAA 5%','IAA10':'IAA 10%','Hexanal01':'Hexanal 1%','Hexanal05':'Hexanal 5%','Hexanal10':'Hexanal 10%'})"
   ]
  },
  {
   "cell_type": "code",
   "execution_count": 83,
   "metadata": {
    "collapsed": true
   },
   "outputs": [],
   "source": [
    "allrank=pd.melt(rankdf,('Mouse','Group'),var_name='Odor',value_name='Rank')"
   ]
  },
  {
   "cell_type": "code",
   "execution_count": 92,
   "metadata": {
    "collapsed": false
   },
   "outputs": [],
   "source": [
    "control=rankdf[rankdf.Group=='Control'].iloc[:,2:]\n",
    "mint=rankdf[rankdf.Group=='Mint'].iloc[:,2:]\n",
    "hexanal=rankdf[rankdf.Group=='Hexanal'].iloc[:,2:]"
   ]
  },
  {
   "cell_type": "code",
   "execution_count": 54,
   "metadata": {
    "collapsed": false,
    "scrolled": true
   },
   "outputs": [],
   "source": [
    "rankone=rankdf[['Group','Mouse','MS 1%','THA','AP','PA','IAA 1%','Hexanone','Hexanal 1%','EB']]\n",
    "rankone=pd.melt(rankone,('Mouse','Group'),var_name='Odor',value_name='Rank')"
   ]
  },
  {
   "cell_type": "code",
   "execution_count": 59,
   "metadata": {
    "collapsed": false
   },
   "outputs": [],
   "source": [
    "rankms=rankdf[['Group','Mouse','MS 1%','MS 5%','MS 10%']]\n",
    "rankms=pd.melt(rankms,('Mouse','Group'),var_name='Odor',value_name='Rank')\n",
    "rankhex=rankdf[['Group','Mouse','Hexanal 1%','Hexanal 5%','Hexanal 10%']]\n",
    "rankhex=pd.melt(rankhex,('Mouse','Group'),var_name='Odor',value_name='Rank')\n",
    "rankiaa=rankdf[['Group','Mouse','IAA 1%','IAA 5%','IAA 10%']]\n",
    "rankiaa=pd.melt(rankiaa,('Mouse','Group'),var_name='Odor',value_name='Rank')"
   ]
  },
  {
   "cell_type": "code",
   "execution_count": 82,
   "metadata": {
    "collapsed": false,
    "scrolled": true
   },
   "outputs": [],
   "source": [
    "rankone.to_csv('C:\\Users\\Annie\\Desktop\\Plasticity\\Figures\\\\Ranks\\\\Ranks_One.csv')\n",
    "rankms.to_csv('C:\\Users\\Annie\\Desktop\\Plasticity\\Figures\\\\Ranks\\\\Ranks_ms.csv')\n",
    "rankhex.to_csv('C:\\Users\\Annie\\Desktop\\Plasticity\\Figures\\\\Ranks\\\\Ranks_hex.csv')\n",
    "rankiaa.to_csv('C:\\Users\\Annie\\Desktop\\Plasticity\\Figures\\\\Ranks\\\\Ranks_iaa.csv')"
   ]
  },
  {
   "cell_type": "code",
   "execution_count": 60,
   "metadata": {
    "collapsed": true
   },
   "outputs": [],
   "source": [
    "groupcolors={'Control':sns.xkcd_rgb[\"black\"],'Mint':sns.xkcd_rgb[\"grey\"],'Hexanal':sns.xkcd_rgb[\"azure\"]};"
   ]
  },
  {
   "cell_type": "code",
   "execution_count": 80,
   "metadata": {
    "collapsed": false
   },
   "outputs": [
    {
     "data": {
      "image/png": "[encoded data removed]",
      "text/plain": [
       "<matplotlib.figure.Figure at 0xc23bc88>"
      ]
     },
     "metadata": {},
     "output_type": "display_data"
    }
   ],
   "source": [
    "# 1%\n",
    "sns.set(style=\"white\", palette=\"muted\", color_codes=True);\n",
    "sns.set_context(\"paper\", font_scale=1.3);\n",
    "plt.figure(figsize=(7,5));\n",
    "ax=sns.pointplot(x='Odor',y='Rank',hue='Group',palette=groupcolors,data=rankone)\n",
    "# ax.legend_.remove()\n",
    "sns.despine()\n",
    "plt.ylabel('Rank', fontsize=12);\n",
    "plt.title('Odor Ranking', fontsize=12);\n",
    "plt.xlabel('Odor', fontsize=12);\n",
    "# plt.ylim(-0.2,0.6)\n",
    "plt.tight_layout();\n",
    "plt.savefig(\"C:\\Users\\Annie\\Desktop\\Plasticity\\Figures\\\\Ranks\\\\Ranks_One.pdf\")"
   ]
  },
  {
   "cell_type": "code",
   "execution_count": 79,
   "metadata": {
    "collapsed": false
   },
   "outputs": [
    {
     "data": {
      "image/png": "[encoded data removed]",
      "text/plain": [
       "<matplotlib.figure.Figure at 0xc484e10>"
      ]
     },
     "metadata": {},
     "output_type": "display_data"
    }
   ],
   "source": [
    "sns.set(style=\"white\", palette=\"muted\", color_codes=True);\n",
    "sns.set_context(\"paper\", font_scale=1.3);\n",
    "plt.figure(figsize=(3.5,3));\n",
    "ax=sns.pointplot(x='Odor',y='Rank',hue='Group',palette=groupcolors,data=rankhex)\n",
    "ax.legend_.remove()\n",
    "sns.despine()\n",
    "plt.ylabel('Rank', fontsize=12);\n",
    "plt.title('Odor Ranking', fontsize=12);\n",
    "plt.xlabel('Odor', fontsize=12);\n",
    "# plt.ylim(0,7)\n",
    "plt.tight_layout();\n",
    "plt.savefig(\"C:\\Users\\Annie\\Desktop\\Plasticity\\Figures\\\\Ranks\\\\Ranks_hex.pdf\")"
   ]
  },
  {
   "cell_type": "code",
   "execution_count": 4,
   "metadata": {
    "collapsed": true
   },
   "outputs": [],
   "source": []
  },
  {
   "cell_type": "code",
   "execution_count": 5,
   "metadata": {
    "collapsed": true
   },
   "outputs": [
    {
     "data": {
      "text/html": [
       "<div>\n",
       "<table border=\"1\" class=\"dataframe\">\n",
       "  <thead>\n",
       "    <tr style=\"text-align: right;\">\n",
       "      <th></th>\n",
       "      <th>Group</th>\n",
       "      <th>Mouse</th>\n",
       "      <th>Odor</th>\n",
       "      <th>value</th>\n",
       "    </tr>\n",
       "  </thead>\n",
       "  <tbody>\n",
       "    <tr>\n",
       "      <th>0</th>\n",
       "      <td>Control</td>\n",
       "      <td>160321_1</td>\n",
       "      <td>MS01</td>\n",
       "      <td>0.0156712</td>\n",
       "    </tr>\n",
       "    <tr>\n",
       "      <th>1</th>\n",
       "      <td>Control</td>\n",
       "      <td>160321_1</td>\n",
       "      <td>MS01</td>\n",
       "      <td>0.146939</td>\n",
       "    </tr>\n",
       "    <tr>\n",
       "      <th>2</th>\n",
       "      <td>Control</td>\n",
       "      <td>160321_1</td>\n",
       "      <td>MS01</td>\n",
       "      <td>0.268299</td>\n",
       "    </tr>\n",
       "    <tr>\n",
       "      <th>3</th>\n",
       "      <td>Control</td>\n",
       "      <td>160321_1</td>\n",
       "      <td>MS01</td>\n",
       "      <td>0.111727</td>\n",
       "    </tr>\n",
       "    <tr>\n",
       "      <th>4</th>\n",
       "      <td>Control</td>\n",
       "      <td>160321_1</td>\n",
       "      <td>MS01</td>\n",
       "      <td>0.182874</td>\n",
       "    </tr>\n",
       "    <tr>\n",
       "      <th>5</th>\n",
       "      <td>Control</td>\n",
       "      <td>160321_1</td>\n",
       "      <td>MS01</td>\n",
       "      <td>0.086948</td>\n",
       "    </tr>\n",
       "    <tr>\n",
       "      <th>6</th>\n",
       "      <td>Control</td>\n",
       "      <td>160321_1</td>\n",
       "      <td>MS01</td>\n",
       "      <td>0.10626</td>\n",
       "    </tr>\n",
       "    <tr>\n",
       "      <th>7</th>\n",
       "      <td>Control</td>\n",
       "      <td>160321_1</td>\n",
       "      <td>MS01</td>\n",
       "      <td>0.154366</td>\n",
       "    </tr>\n",
       "    <tr>\n",
       "      <th>8</th>\n",
       "      <td>Control</td>\n",
       "      <td>160321_1</td>\n",
       "      <td>MS01</td>\n",
       "      <td>0.0208285</td>\n",
       "    </tr>\n",
       "    <tr>\n",
       "      <th>9</th>\n",
       "      <td>Control</td>\n",
       "      <td>160321_1</td>\n",
       "      <td>MS01</td>\n",
       "      <td>0.0911923</td>\n",
       "    </tr>\n",
       "    <tr>\n",
       "      <th>10</th>\n",
       "      <td>Control</td>\n",
       "      <td>160321_1</td>\n",
       "      <td>MS01</td>\n",
       "      <td>0.369279</td>\n",
       "    </tr>\n",
       "    <tr>\n",
       "      <th>11</th>\n",
       "      <td>Control</td>\n",
       "      <td>160321_1</td>\n",
       "      <td>MS01</td>\n",
       "      <td>0.378874</td>\n",
       "    </tr>\n",
       "    <tr>\n",
       "      <th>12</th>\n",
       "      <td>Control</td>\n",
       "      <td>160321_1</td>\n",
       "      <td>MS01</td>\n",
       "      <td>0.0808621</td>\n",
       "    </tr>\n",
       "    <tr>\n",
       "      <th>13</th>\n",
       "      <td>Control</td>\n",
       "      <td>160321_1</td>\n",
       "      <td>MS01</td>\n",
       "      <td>0.117418</td>\n",
       "    </tr>\n",
       "    <tr>\n",
       "      <th>14</th>\n",
       "      <td>Control</td>\n",
       "      <td>160321_1</td>\n",
       "      <td>MS01</td>\n",
       "      <td>0.0652251</td>\n",
       "    </tr>\n",
       "    <tr>\n",
       "      <th>15</th>\n",
       "      <td>Control</td>\n",
       "      <td>160321_2</td>\n",
       "      <td>MS01</td>\n",
       "      <td>0.10832</td>\n",
       "    </tr>\n",
       "    <tr>\n",
       "      <th>16</th>\n",
       "      <td>Control</td>\n",
       "      <td>160321_2</td>\n",
       "      <td>MS01</td>\n",
       "      <td>0.179008</td>\n",
       "    </tr>\n",
       "    <tr>\n",
       "      <th>17</th>\n",
       "      <td>Control</td>\n",
       "      <td>160321_2</td>\n",
       "      <td>MS01</td>\n",
       "      <td>0.116572</td>\n",
       "    </tr>\n",
       "    <tr>\n",
       "      <th>18</th>\n",
       "      <td>Control</td>\n",
       "      <td>160321_2</td>\n",
       "      <td>MS01</td>\n",
       "      <td>0.191554</td>\n",
       "    </tr>\n",
       "    <tr>\n",
       "      <th>19</th>\n",
       "      <td>Control</td>\n",
       "      <td>160321_2</td>\n",
       "      <td>MS01</td>\n",
       "      <td>0.203699</td>\n",
       "    </tr>\n",
       "    <tr>\n",
       "      <th>20</th>\n",
       "      <td>Control</td>\n",
       "      <td>160321_2</td>\n",
       "      <td>MS01</td>\n",
       "      <td>0.073796</td>\n",
       "    </tr>\n",
       "    <tr>\n",
       "      <th>21</th>\n",
       "      <td>Control</td>\n",
       "      <td>160321_2</td>\n",
       "      <td>MS01</td>\n",
       "      <td>0.117774</td>\n",
       "    </tr>\n",
       "    <tr>\n",
       "      <th>22</th>\n",
       "      <td>Control</td>\n",
       "      <td>160321_2</td>\n",
       "      <td>MS01</td>\n",
       "      <td>0.146185</td>\n",
       "    </tr>\n",
       "    <tr>\n",
       "      <th>23</th>\n",
       "      <td>Control</td>\n",
       "      <td>160321_2</td>\n",
       "      <td>MS01</td>\n",
       "      <td>0.114494</td>\n",
       "    </tr>\n",
       "    <tr>\n",
       "      <th>24</th>\n",
       "      <td>Control</td>\n",
       "      <td>160321_2</td>\n",
       "      <td>MS01</td>\n",
       "      <td>0.215789</td>\n",
       "    </tr>\n",
       "    <tr>\n",
       "      <th>25</th>\n",
       "      <td>Control</td>\n",
       "      <td>160321_2</td>\n",
       "      <td>MS01</td>\n",
       "      <td>0.188919</td>\n",
       "    </tr>\n",
       "    <tr>\n",
       "      <th>26</th>\n",
       "      <td>Control</td>\n",
       "      <td>160321_2</td>\n",
       "      <td>MS01</td>\n",
       "      <td>0.157538</td>\n",
       "    </tr>\n",
       "    <tr>\n",
       "      <th>27</th>\n",
       "      <td>Control</td>\n",
       "      <td>160321_2</td>\n",
       "      <td>MS01</td>\n",
       "      <td>0.0952496</td>\n",
       "    </tr>\n",
       "    <tr>\n",
       "      <th>28</th>\n",
       "      <td>Control</td>\n",
       "      <td>160321_2</td>\n",
       "      <td>MS01</td>\n",
       "      <td>0.290834</td>\n",
       "    </tr>\n",
       "    <tr>\n",
       "      <th>29</th>\n",
       "      <td>Control</td>\n",
       "      <td>160321_2</td>\n",
       "      <td>MS01</td>\n",
       "      <td>0.143763</td>\n",
       "    </tr>\n",
       "    <tr>\n",
       "      <th>...</th>\n",
       "      <td>...</td>\n",
       "      <td>...</td>\n",
       "      <td>...</td>\n",
       "      <td>...</td>\n",
       "    </tr>\n",
       "    <tr>\n",
       "      <th>11576</th>\n",
       "      <td>Hexanal</td>\n",
       "      <td>160626_1</td>\n",
       "      <td>EB</td>\n",
       "      <td>0.322258</td>\n",
       "    </tr>\n",
       "    <tr>\n",
       "      <th>11577</th>\n",
       "      <td>Hexanal</td>\n",
       "      <td>160626_1</td>\n",
       "      <td>EB</td>\n",
       "      <td>0.910795</td>\n",
       "    </tr>\n",
       "    <tr>\n",
       "      <th>11578</th>\n",
       "      <td>Hexanal</td>\n",
       "      <td>160626_1</td>\n",
       "      <td>EB</td>\n",
       "      <td>1.24341</td>\n",
       "    </tr>\n",
       "    <tr>\n",
       "      <th>11579</th>\n",
       "      <td>Hexanal</td>\n",
       "      <td>160626_1</td>\n",
       "      <td>EB</td>\n",
       "      <td>1.02962</td>\n",
       "    </tr>\n",
       "    <tr>\n",
       "      <th>11580</th>\n",
       "      <td>Hexanal</td>\n",
       "      <td>160626_2</td>\n",
       "      <td>EB</td>\n",
       "      <td>2.12934</td>\n",
       "    </tr>\n",
       "    <tr>\n",
       "      <th>11581</th>\n",
       "      <td>Hexanal</td>\n",
       "      <td>160626_2</td>\n",
       "      <td>EB</td>\n",
       "      <td>2.52637</td>\n",
       "    </tr>\n",
       "    <tr>\n",
       "      <th>11582</th>\n",
       "      <td>Hexanal</td>\n",
       "      <td>160626_2</td>\n",
       "      <td>EB</td>\n",
       "      <td>2.78749</td>\n",
       "    </tr>\n",
       "    <tr>\n",
       "      <th>11583</th>\n",
       "      <td>Hexanal</td>\n",
       "      <td>160626_2</td>\n",
       "      <td>EB</td>\n",
       "      <td>2.87208</td>\n",
       "    </tr>\n",
       "    <tr>\n",
       "      <th>11584</th>\n",
       "      <td>Hexanal</td>\n",
       "      <td>160626_2</td>\n",
       "      <td>EB</td>\n",
       "      <td>2.62394</td>\n",
       "    </tr>\n",
       "    <tr>\n",
       "      <th>11585</th>\n",
       "      <td>Hexanal</td>\n",
       "      <td>160626_2</td>\n",
       "      <td>EB</td>\n",
       "      <td>3.14143</td>\n",
       "    </tr>\n",
       "    <tr>\n",
       "      <th>11586</th>\n",
       "      <td>Hexanal</td>\n",
       "      <td>160626_2</td>\n",
       "      <td>EB</td>\n",
       "      <td>3.82647</td>\n",
       "    </tr>\n",
       "    <tr>\n",
       "      <th>11587</th>\n",
       "      <td>Hexanal</td>\n",
       "      <td>160626_2</td>\n",
       "      <td>EB</td>\n",
       "      <td>3.41534</td>\n",
       "    </tr>\n",
       "    <tr>\n",
       "      <th>11588</th>\n",
       "      <td>Hexanal</td>\n",
       "      <td>160626_2</td>\n",
       "      <td>EB</td>\n",
       "      <td>4.02052</td>\n",
       "    </tr>\n",
       "    <tr>\n",
       "      <th>11589</th>\n",
       "      <td>Hexanal</td>\n",
       "      <td>160626_2</td>\n",
       "      <td>EB</td>\n",
       "      <td>3.5751</td>\n",
       "    </tr>\n",
       "    <tr>\n",
       "      <th>11590</th>\n",
       "      <td>Hexanal</td>\n",
       "      <td>160626_2</td>\n",
       "      <td>EB</td>\n",
       "      <td>3.25669</td>\n",
       "    </tr>\n",
       "    <tr>\n",
       "      <th>11591</th>\n",
       "      <td>Hexanal</td>\n",
       "      <td>160626_2</td>\n",
       "      <td>EB</td>\n",
       "      <td>2.49753</td>\n",
       "    </tr>\n",
       "    <tr>\n",
       "      <th>11592</th>\n",
       "      <td>Hexanal</td>\n",
       "      <td>160626_2</td>\n",
       "      <td>EB</td>\n",
       "      <td>3.09135</td>\n",
       "    </tr>\n",
       "    <tr>\n",
       "      <th>11593</th>\n",
       "      <td>Hexanal</td>\n",
       "      <td>160626_2</td>\n",
       "      <td>EB</td>\n",
       "      <td>2.89709</td>\n",
       "    </tr>\n",
       "    <tr>\n",
       "      <th>11594</th>\n",
       "      <td>Hexanal</td>\n",
       "      <td>160626_2</td>\n",
       "      <td>EB</td>\n",
       "      <td>3.00285</td>\n",
       "    </tr>\n",
       "    <tr>\n",
       "      <th>11595</th>\n",
       "      <td>Hexanal</td>\n",
       "      <td>160626_2</td>\n",
       "      <td>EB</td>\n",
       "      <td>1.64441</td>\n",
       "    </tr>\n",
       "    <tr>\n",
       "      <th>11596</th>\n",
       "      <td>Hexanal</td>\n",
       "      <td>160626_2</td>\n",
       "      <td>EB</td>\n",
       "      <td>2.30101</td>\n",
       "    </tr>\n",
       "    <tr>\n",
       "      <th>11597</th>\n",
       "      <td>Hexanal</td>\n",
       "      <td>160626_2</td>\n",
       "      <td>EB</td>\n",
       "      <td>3.71711</td>\n",
       "    </tr>\n",
       "    <tr>\n",
       "      <th>11598</th>\n",
       "      <td>Hexanal</td>\n",
       "      <td>160626_2</td>\n",
       "      <td>EB</td>\n",
       "      <td>3.13533</td>\n",
       "    </tr>\n",
       "    <tr>\n",
       "      <th>11599</th>\n",
       "      <td>Hexanal</td>\n",
       "      <td>160626_2</td>\n",
       "      <td>EB</td>\n",
       "      <td>2.55585</td>\n",
       "    </tr>\n",
       "    <tr>\n",
       "      <th>11600</th>\n",
       "      <td>Hexanal</td>\n",
       "      <td>160626_2</td>\n",
       "      <td>EB</td>\n",
       "      <td>2.77863</td>\n",
       "    </tr>\n",
       "    <tr>\n",
       "      <th>11601</th>\n",
       "      <td>Hexanal</td>\n",
       "      <td>160626_2</td>\n",
       "      <td>EB</td>\n",
       "      <td>3.68755</td>\n",
       "    </tr>\n",
       "    <tr>\n",
       "      <th>11602</th>\n",
       "      <td>Hexanal</td>\n",
       "      <td>160626_2</td>\n",
       "      <td>EB</td>\n",
       "      <td>4.04924</td>\n",
       "    </tr>\n",
       "    <tr>\n",
       "      <th>11603</th>\n",
       "      <td>Hexanal</td>\n",
       "      <td>160626_2</td>\n",
       "      <td>EB</td>\n",
       "      <td>4.30655</td>\n",
       "    </tr>\n",
       "    <tr>\n",
       "      <th>11604</th>\n",
       "      <td>Hexanal</td>\n",
       "      <td>160626_2</td>\n",
       "      <td>EB</td>\n",
       "      <td>3.4347</td>\n",
       "    </tr>\n",
       "    <tr>\n",
       "      <th>11605</th>\n",
       "      <td>Hexanal</td>\n",
       "      <td>160626_2</td>\n",
       "      <td>EB</td>\n",
       "      <td>3.63454</td>\n",
       "    </tr>\n",
       "  </tbody>\n",
       "</table>\n",
       "<p>11606 rows × 4 columns</p>\n",
       "</div>"
      ],
      "text/plain": [
       "         Group     Mouse  Odor      value\n",
       "0      Control  160321_1  MS01  0.0156712\n",
       "1      Control  160321_1  MS01   0.146939\n",
       "2      Control  160321_1  MS01   0.268299\n",
       "3      Control  160321_1  MS01   0.111727\n",
       "4      Control  160321_1  MS01   0.182874\n",
       "5      Control  160321_1  MS01   0.086948\n",
       "6      Control  160321_1  MS01    0.10626\n",
       "7      Control  160321_1  MS01   0.154366\n",
       "8      Control  160321_1  MS01  0.0208285\n",
       "9      Control  160321_1  MS01  0.0911923\n",
       "10     Control  160321_1  MS01   0.369279\n",
       "11     Control  160321_1  MS01   0.378874\n",
       "12     Control  160321_1  MS01  0.0808621\n",
       "13     Control  160321_1  MS01   0.117418\n",
       "14     Control  160321_1  MS01  0.0652251\n",
       "15     Control  160321_2  MS01    0.10832\n",
       "16     Control  160321_2  MS01   0.179008\n",
       "17     Control  160321_2  MS01   0.116572\n",
       "18     Control  160321_2  MS01   0.191554\n",
       "19     Control  160321_2  MS01   0.203699\n",
       "20     Control  160321_2  MS01   0.073796\n",
       "21     Control  160321_2  MS01   0.117774\n",
       "22     Control  160321_2  MS01   0.146185\n",
       "23     Control  160321_2  MS01   0.114494\n",
       "24     Control  160321_2  MS01   0.215789\n",
       "25     Control  160321_2  MS01   0.188919\n",
       "26     Control  160321_2  MS01   0.157538\n",
       "27     Control  160321_2  MS01  0.0952496\n",
       "28     Control  160321_2  MS01   0.290834\n",
       "29     Control  160321_2  MS01   0.143763\n",
       "...        ...       ...   ...        ...\n",
       "11576  Hexanal  160626_1    EB   0.322258\n",
       "11577  Hexanal  160626_1    EB   0.910795\n",
       "11578  Hexanal  160626_1    EB    1.24341\n",
       "11579  Hexanal  160626_1    EB    1.02962\n",
       "11580  Hexanal  160626_2    EB    2.12934\n",
       "11581  Hexanal  160626_2    EB    2.52637\n",
       "11582  Hexanal  160626_2    EB    2.78749\n",
       "11583  Hexanal  160626_2    EB    2.87208\n",
       "11584  Hexanal  160626_2    EB    2.62394\n",
       "11585  Hexanal  160626_2    EB    3.14143\n",
       "11586  Hexanal  160626_2    EB    3.82647\n",
       "11587  Hexanal  160626_2    EB    3.41534\n",
       "11588  Hexanal  160626_2    EB    4.02052\n",
       "11589  Hexanal  160626_2    EB     3.5751\n",
       "11590  Hexanal  160626_2    EB    3.25669\n",
       "11591  Hexanal  160626_2    EB    2.49753\n",
       "11592  Hexanal  160626_2    EB    3.09135\n",
       "11593  Hexanal  160626_2    EB    2.89709\n",
       "11594  Hexanal  160626_2    EB    3.00285\n",
       "11595  Hexanal  160626_2    EB    1.64441\n",
       "11596  Hexanal  160626_2    EB    2.30101\n",
       "11597  Hexanal  160626_2    EB    3.71711\n",
       "11598  Hexanal  160626_2    EB    3.13533\n",
       "11599  Hexanal  160626_2    EB    2.55585\n",
       "11600  Hexanal  160626_2    EB    2.77863\n",
       "11601  Hexanal  160626_2    EB    3.68755\n",
       "11602  Hexanal  160626_2    EB    4.04924\n",
       "11603  Hexanal  160626_2    EB    4.30655\n",
       "11604  Hexanal  160626_2    EB     3.4347\n",
       "11605  Hexanal  160626_2    EB    3.63454\n",
       "\n",
       "[11606 rows x 4 columns]"
      ]
     },
     "execution_count": 5,
     "metadata": {},
     "output_type": "execute_result"
    }
   ],
   "source": []
  },
  {
   "cell_type": "code",
   "execution_count": null,
   "metadata": {
    "collapsed": true
   },
   "outputs": [],
   "source": []
  },
  {
   "cell_type": "code",
   "execution_count": null,
   "metadata": {
    "collapsed": true
   },
   "outputs": [],
   "source": []
  },
  {
   "cell_type": "code",
   "execution_count": null,
   "metadata": {
    "collapsed": true
   },
   "outputs": [],
   "source": []
  }
 ],
 "metadata": {
  "anaconda-cloud": {},
  "kernelspec": {
   "display_name": "Python [Root]",
   "language": "python",
   "name": "Python [Root]"
  },
  "language_info": {
   "codemirror_mode": {
    "name": "ipython",
    "version": 2
   },
   "file_extension": ".py",
   "mimetype": "text/x-python",
   "name": "python",
   "nbconvert_exporter": "python",
   "pygments_lexer": "ipython2",
   "version": "2.7.12"
  }
 },
 "nbformat": 4,
 "nbformat_minor": 0
}
