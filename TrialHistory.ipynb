{
 "cells": [
  {
   "cell_type": "markdown",
   "metadata": {},
   "source": [
    "# Trial by hx"
   ]
  },
  {
   "cell_type": "code",
   "execution_count": 1,
   "metadata": {
    "collapsed": false
   },
   "outputs": [
    {
     "name": "stdout",
     "output_type": "stream",
     "text": [
      "Using matplotlib backend: Qt4Agg\n"
     ]
    }
   ],
   "source": [
    "drive_path = 'c:/'\n",
    "import numpy as np\n",
    "import pandas as pd\n",
    "import os\n",
    "import sys\n",
    "import matplotlib.pyplot as plt\n",
    "from scipy.stats import ks_2samp\n",
    "from scipy.stats import anderson_ksamp\n",
    "from scipy.stats import kruskal\n",
    "from scipy.stats import variation\n",
    "%matplotlib\n",
    "import seaborn as sns\n",
    "from scipy.stats import zscore\n",
    "from scipy.stats import nanmean\n",
    "from scipy.stats import nanstd"
   ]
  },
  {
   "cell_type": "code",
   "execution_count": 2,
   "metadata": {
    "collapsed": true
   },
   "outputs": [],
   "source": [
    "filename='C:\\Users\\Annie\\Documents\\Data\\Ca_Imaging\\GoodFiles\\\\fullpeak.csv'\n",
    "comp=pd.read_csv(filename)\n",
    "comp_sorted=comp.reindex_axis(comp.mean().sort_values().index, axis=1)\n",
    "comp_labels=pd.DataFrame(comp.Mouse)\n",
    "comp_group=pd.DataFrame(comp.Group)\n",
    "tmp=[comp_group,comp_labels,comp_sorted]\n",
    "composite_full=pd.concat(tmp,axis=1)\n",
    "cfull=pd.melt(composite_full,['Group','Mouse'],var_name=\"Odor\")"
   ]
  },
  {
   "cell_type": "code",
   "execution_count": 13,
   "metadata": {
    "collapsed": false
   },
   "outputs": [],
   "source": [
    "test=pd.read_csv('C:\\Users\\Annie\\Documents\\Data\\Ca_Imaging\\GoodFiles\\\\160325_1\\\\9dt.txt')"
   ]
  },
  {
   "cell_type": "code",
   "execution_count": 18,
   "metadata": {
    "collapsed": false
   },
   "outputs": [],
   "source": [
    "trials=pd.read_csv('C:\\\\Users\\\\Annie\\\\Documents\\\\Data\\\\Ca_Imaging\\\\Analysis\\\\Odor_Panel\\\\Odor_Trials.csv')\n"
   ]
  },
  {
   "cell_type": "code",
   "execution_count": 128,
   "metadata": {
    "collapsed": false
   },
   "outputs": [
    {
     "data": {
      "text/plain": [
       "array(['160321_1', '160321_2', '160321_3', '160325_1', '160325_2',\n",
       "       '160325_4', '160328_1', '160328_2', '160328_3', '160330_2',\n",
       "       '160330_3', '160401_1', '160420_1', '160420_2', '160420_3',\n",
       "       '160421_1', '160421_2', '160421_3', '160428_1', '160429_1',\n",
       "       '160429_2', '160502_1', '160503_1', '160503_2', '160517_1',\n",
       "       '160517_2', '160517_3', '160525_1', '160525_2', '160525_3',\n",
       "       '160620_1', '160620_2', '160620_3', '160621_1', '160621_2',\n",
       "       '160622_1', '160622_2', '160626_1', '160626_2', '160525', '160614',\n",
       "       '160615', '160620_4', '160623'], dtype=object)"
      ]
     },
     "execution_count": 128,
     "metadata": {},
     "output_type": "execute_result"
    }
   ],
   "source": [
    "trials.File.unique()"
   ]
  },
  {
   "cell_type": "code",
   "execution_count": 39,
   "metadata": {
    "collapsed": false,
    "scrolled": true
   },
   "outputs": [],
   "source": []
  },
  {
   "cell_type": "code",
   "execution_count": 98,
   "metadata": {
    "collapsed": false
   },
   "outputs": [],
   "source": []
  },
  {
   "cell_type": "code",
   "execution_count": 166,
   "metadata": {
    "collapsed": false
   },
   "outputs": [],
   "source": [
    "#Order all the trials\n",
    "# for a in trials.File.unique():\n",
    "temp=trials[trials.File==a]\n",
    "tone=temp[['Odor','T1']]\n",
    "tone.columns=['Odor','Trial']\n",
    "ttwo=temp[['Odor','T2']]\n",
    "ttwo.columns=['Odor','Trial']\n",
    "tthree=temp[['Odor','T3']]\n",
    "tthree.columns=['Odor','Trial']\n",
    "tfour=temp[['Odor','T4']]\n",
    "tfour.columns=['Odor','Trial']\n",
    "trialsdf=pd.concat([tone,ttwo,tthree,tfour],axis=0,ignore_index=True)\n",
    "sortedtrials=trialsdf.sort_values('Trial')\n",
    "sortedtrials=sortedtrials[sortedtrials.Trial!=0]\n",
    "#Get Odor1 and Odor2\n",
    "TH=pd.DataFrame([])\n",
    "for x in sortedtrials.Trial.unique():\n",
    "    if x<len(sortedtrials.Trial.unique()):\n",
    "        Odor1=sortedtrials[sortedtrials.Trial==x]['Odor'].values\n",
    "        Odor2=sortedtrials[sortedtrials.Trial==x+1]['Odor'].values\n",
    "        tmp=({'Mouse':a,'Odor1':Odor1,'Odor2':Odor2,'Trial1':x,'Trial2':x+1})\n",
    "        TH=TH.append(tmp,ignore_index=True)\n"
   ]
  },
  {
   "cell_type": "code",
   "execution_count": 168,
   "metadata": {
    "collapsed": false
   },
   "outputs": [
    {
     "data": {
      "text/plain": [
       "array(['MS10'], dtype=object)"
      ]
     },
     "execution_count": 168,
     "metadata": {},
     "output_type": "execute_result"
    }
   ],
   "source": [
    "#WHY IS X NOT CHANGING BACK TO INT& WHY CAN I NOT GET ODOR 1 valuess"
   ]
  },
  {
   "cell_type": "code",
   "execution_count": null,
   "metadata": {
    "collapsed": false
   },
   "outputs": [],
   "source": []
  },
  {
   "cell_type": "code",
   "execution_count": null,
   "metadata": {
    "collapsed": true
   },
   "outputs": [],
   "source": []
  },
  {
   "cell_type": "code",
   "execution_count": null,
   "metadata": {
    "collapsed": true
   },
   "outputs": [],
   "source": []
  },
  {
   "cell_type": "code",
   "execution_count": null,
   "metadata": {
    "collapsed": true
   },
   "outputs": [],
   "source": []
  }
 ],
 "metadata": {
  "anaconda-cloud": {},
  "kernelspec": {
   "display_name": "Python [Root]",
   "language": "python",
   "name": "Python [Root]"
  },
  "language_info": {
   "codemirror_mode": {
    "name": "ipython",
    "version": 2
   },
   "file_extension": ".py",
   "mimetype": "text/x-python",
   "name": "python",
   "nbconvert_exporter": "python",
   "pygments_lexer": "ipython2",
   "version": "2.7.12"
  }
 },
 "nbformat": 4,
 "nbformat_minor": 0
}
