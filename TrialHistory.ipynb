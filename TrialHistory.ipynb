{
 "cells": [
  {
   "cell_type": "markdown",
   "metadata": {},
   "source": [
    "# Trial by hx"
   ]
  },
  {
   "cell_type": "markdown",
   "metadata": {},
   "source": [
    "need to make completely new dataframe of peak values with:\n",
    "- No averages\n",
    "- Trial numbers\n",
    "Then, sort by trial and look at peaks based on previous trial"
   ]
  },
  {
   "cell_type": "code",
   "execution_count": 1,
   "metadata": {
    "collapsed": false
   },
   "outputs": [
    {
     "name": "stdout",
     "output_type": "stream",
     "text": [
      "Using matplotlib backend: Qt4Agg\n"
     ]
    }
   ],
   "source": [
    "drive_path = 'c:/'\n",
    "import numpy as np\n",
    "import pandas as pd\n",
    "import os\n",
    "import sys\n",
    "import matplotlib.pyplot as plt\n",
    "from scipy.stats import ks_2samp\n",
    "from scipy.stats import anderson_ksamp\n",
    "from scipy.stats import kruskal\n",
    "from scipy.stats import variation\n",
    "%matplotlib\n",
    "import seaborn as sns\n",
    "from scipy.stats import zscore\n",
    "from scipy.stats import nanmean\n",
    "from scipy.stats import nanstd"
   ]
  },
  {
   "cell_type": "code",
   "execution_count": 47,
   "metadata": {
    "collapsed": true
   },
   "outputs": [],
   "source": [
    "filename='C:\\Users\\Annie\\Documents\\Data\\Ca_Imaging\\GoodFiles\\\\fullpeak.csv'\n",
    "comp=pd.read_csv(filename)\n",
    "comp_sorted=comp.reindex_axis(comp.mean().sort_values().index, axis=1)\n",
    "comp_labels=pd.DataFrame(comp.Mouse)\n",
    "comp_group=pd.DataFrame(comp.Group)\n",
    "tmp=[comp_group,comp_labels,comp_sorted]\n",
    "composite_full=pd.concat(tmp,axis=1)\n",
    "cfull=pd.melt(composite_full,['Group','Mouse'],var_name=\"Odor\")"
   ]
  },
  {
   "cell_type": "code",
   "execution_count": 10,
   "metadata": {
    "collapsed": false
   },
   "outputs": [],
   "source": [
    "test=pd.read_csv('C:\\Users\\Annie\\Documents\\Data\\Ca_Imaging\\GoodFiles\\\\160325_1\\\\9dt.txt')"
   ]
  },
  {
   "cell_type": "code",
   "execution_count": 11,
   "metadata": {
    "collapsed": false
   },
   "outputs": [],
   "source": [
    "trials=pd.read_csv('C:\\\\Users\\\\Annie\\\\Documents\\\\Data\\\\Ca_Imaging\\\\Analysis\\\\Odor_Panel\\\\Odor_Trials.csv')\n"
   ]
  },
  {
   "cell_type": "code",
   "execution_count": 46,
   "metadata": {
    "collapsed": false
   },
   "outputs": [
    {
     "data": {
      "text/html": [
       "<div>\n",
       "<table border=\"1\" class=\"dataframe\">\n",
       "  <thead>\n",
       "    <tr style=\"text-align: right;\">\n",
       "      <th></th>\n",
       "      <th>Group</th>\n",
       "      <th>Mouse</th>\n",
       "      <th>MS01</th>\n",
       "      <th>THA</th>\n",
       "      <th>Blank</th>\n",
       "      <th>MS10</th>\n",
       "      <th>AP</th>\n",
       "      <th>MS05</th>\n",
       "      <th>IAA05</th>\n",
       "      <th>PA</th>\n",
       "      <th>IAA01</th>\n",
       "      <th>IAA10</th>\n",
       "      <th>Hexanal10</th>\n",
       "      <th>Hexanone</th>\n",
       "      <th>Hexanal01</th>\n",
       "      <th>Hexanal05</th>\n",
       "      <th>EB</th>\n",
       "    </tr>\n",
       "  </thead>\n",
       "  <tbody>\n",
       "    <tr>\n",
       "      <th>0</th>\n",
       "      <td>Control</td>\n",
       "      <td>160321_1</td>\n",
       "      <td>0.015671</td>\n",
       "      <td>0.067358</td>\n",
       "      <td>NaN</td>\n",
       "      <td>0.150474</td>\n",
       "      <td>0.036738</td>\n",
       "      <td>0.169456</td>\n",
       "      <td>0.034294</td>\n",
       "      <td>0.037389</td>\n",
       "      <td>0.188597</td>\n",
       "      <td>0.099708</td>\n",
       "      <td>0.069948</td>\n",
       "      <td>0.093353</td>\n",
       "      <td>0.062999</td>\n",
       "      <td>0.124211</td>\n",
       "      <td>-0.061840</td>\n",
       "    </tr>\n",
       "    <tr>\n",
       "      <th>1</th>\n",
       "      <td>Control</td>\n",
       "      <td>160321_1</td>\n",
       "      <td>-0.034636</td>\n",
       "      <td>0.095266</td>\n",
       "      <td>NaN</td>\n",
       "      <td>0.074001</td>\n",
       "      <td>0.073576</td>\n",
       "      <td>0.139423</td>\n",
       "      <td>0.001814</td>\n",
       "      <td>-0.002271</td>\n",
       "      <td>0.188666</td>\n",
       "      <td>0.041676</td>\n",
       "      <td>0.036447</td>\n",
       "      <td>-0.026087</td>\n",
       "      <td>0.014205</td>\n",
       "      <td>0.101018</td>\n",
       "      <td>0.056893</td>\n",
       "    </tr>\n",
       "    <tr>\n",
       "      <th>2</th>\n",
       "      <td>Control</td>\n",
       "      <td>160321_1</td>\n",
       "      <td>-0.044179</td>\n",
       "      <td>0.146676</td>\n",
       "      <td>NaN</td>\n",
       "      <td>0.260675</td>\n",
       "      <td>0.058214</td>\n",
       "      <td>0.095906</td>\n",
       "      <td>0.127803</td>\n",
       "      <td>0.221412</td>\n",
       "      <td>0.477065</td>\n",
       "      <td>0.287615</td>\n",
       "      <td>0.263380</td>\n",
       "      <td>0.022945</td>\n",
       "      <td>0.129928</td>\n",
       "      <td>0.293199</td>\n",
       "      <td>0.153817</td>\n",
       "    </tr>\n",
       "    <tr>\n",
       "      <th>3</th>\n",
       "      <td>Control</td>\n",
       "      <td>160321_1</td>\n",
       "      <td>0.146939</td>\n",
       "      <td>0.094015</td>\n",
       "      <td>NaN</td>\n",
       "      <td>0.071141</td>\n",
       "      <td>0.110235</td>\n",
       "      <td>0.157300</td>\n",
       "      <td>0.104363</td>\n",
       "      <td>0.051386</td>\n",
       "      <td>0.248613</td>\n",
       "      <td>0.034975</td>\n",
       "      <td>0.037260</td>\n",
       "      <td>-0.057530</td>\n",
       "      <td>0.104142</td>\n",
       "      <td>0.198974</td>\n",
       "      <td>0.082859</td>\n",
       "    </tr>\n",
       "    <tr>\n",
       "      <th>4</th>\n",
       "      <td>Control</td>\n",
       "      <td>160321_1</td>\n",
       "      <td>0.268299</td>\n",
       "      <td>0.069755</td>\n",
       "      <td>NaN</td>\n",
       "      <td>0.220858</td>\n",
       "      <td>0.116399</td>\n",
       "      <td>0.233311</td>\n",
       "      <td>0.240154</td>\n",
       "      <td>0.203381</td>\n",
       "      <td>0.393188</td>\n",
       "      <td>0.309290</td>\n",
       "      <td>0.145721</td>\n",
       "      <td>-0.147715</td>\n",
       "      <td>0.315627</td>\n",
       "      <td>0.538062</td>\n",
       "      <td>0.694684</td>\n",
       "    </tr>\n",
       "  </tbody>\n",
       "</table>\n",
       "</div>"
      ],
      "text/plain": [
       "     Group     Mouse      MS01       THA  Blank      MS10        AP      MS05  \\\n",
       "0  Control  160321_1  0.015671  0.067358    NaN  0.150474  0.036738  0.169456   \n",
       "1  Control  160321_1 -0.034636  0.095266    NaN  0.074001  0.073576  0.139423   \n",
       "2  Control  160321_1 -0.044179  0.146676    NaN  0.260675  0.058214  0.095906   \n",
       "3  Control  160321_1  0.146939  0.094015    NaN  0.071141  0.110235  0.157300   \n",
       "4  Control  160321_1  0.268299  0.069755    NaN  0.220858  0.116399  0.233311   \n",
       "\n",
       "      IAA05        PA     IAA01     IAA10  Hexanal10  Hexanone  Hexanal01  \\\n",
       "0  0.034294  0.037389  0.188597  0.099708   0.069948  0.093353   0.062999   \n",
       "1  0.001814 -0.002271  0.188666  0.041676   0.036447 -0.026087   0.014205   \n",
       "2  0.127803  0.221412  0.477065  0.287615   0.263380  0.022945   0.129928   \n",
       "3  0.104363  0.051386  0.248613  0.034975   0.037260 -0.057530   0.104142   \n",
       "4  0.240154  0.203381  0.393188  0.309290   0.145721 -0.147715   0.315627   \n",
       "\n",
       "   Hexanal05        EB  \n",
       "0   0.124211 -0.061840  \n",
       "1   0.101018  0.056893  \n",
       "2   0.293199  0.153817  \n",
       "3   0.198974  0.082859  \n",
       "4   0.538062  0.694684  "
      ]
     },
     "execution_count": 46,
     "metadata": {},
     "output_type": "execute_result"
    }
   ],
   "source": [
    "composite_full.head()"
   ]
  },
  {
   "cell_type": "code",
   "execution_count": 39,
   "metadata": {
    "collapsed": false,
    "scrolled": true
   },
   "outputs": [],
   "source": []
  },
  {
   "cell_type": "code",
   "execution_count": 98,
   "metadata": {
    "collapsed": false
   },
   "outputs": [],
   "source": []
  },
  {
   "cell_type": "code",
   "execution_count": 35,
   "metadata": {
    "collapsed": false
   },
   "outputs": [],
   "source": [
    "#Order all the trials\n",
    "df=pd.DataFrame([])\n",
    "for a in trials.File.unique():\n",
    "    temp=trials[trials.File==a]\n",
    "    tone=temp[['Odor','T1']]\n",
    "    tone.columns=['Odor','Trial']\n",
    "    ttwo=temp[['Odor','T2']]\n",
    "    ttwo.columns=['Odor','Trial']\n",
    "    tthree=temp[['Odor','T3']]\n",
    "    tthree.columns=['Odor','Trial']\n",
    "    tfour=temp[['Odor','T4']]\n",
    "    tfour.columns=['Odor','Trial']\n",
    "    trialsdf=pd.concat([tone,ttwo,tthree,tfour],axis=0,ignore_index=True)\n",
    "    sortedtrials=trialsdf.sort_values('Trial')\n",
    "    sortedtrials=sortedtrials[sortedtrials.Trial!=0]\n",
    "    sortedtrials=sortedtrials.reset_index(drop=True)\n",
    "    sortedtrials['Mouse']=a\n",
    "    df=df.append(sortedtrials,ignore_index=True)\n",
    "#Get Odor1 and Odor2\n",
    "# TH=pd.DataFrame([])\n",
    "# full=pd.DataFrame([])\n",
    "# for x in df.Mouse.unique():\n",
    "#     if <len(sortedtrials.Trial.unique()):\n",
    "#         Odor1=sortedtrials[sortedtrials.Trial==x]['Odor'].values\n",
    "#         Odor2=sortedtrials[sortedtrials.Trial==x+1]['Odor'].values\n",
    "#         tmp=({'Mouse':a,'Odor1':Odor1,'Odor2':Odor2,'Trial1':x,'Trial2':x+1})\n",
    "#         TH=TH.append(tmp,ignore_index=True)\n",
    "    \n"
   ]
  },
  {
   "cell_type": "code",
   "execution_count": 42,
   "metadata": {
    "collapsed": true
   },
   "outputs": [
    {
     "data": {
      "text/html": [
       "<div>\n",
       "<table border=\"1\" class=\"dataframe\">\n",
       "  <thead>\n",
       "    <tr style=\"text-align: right;\">\n",
       "      <th></th>\n",
       "      <th>Odor</th>\n",
       "      <th>Trial</th>\n",
       "      <th>Mouse</th>\n",
       "    </tr>\n",
       "  </thead>\n",
       "  <tbody>\n",
       "    <tr>\n",
       "      <th>2350</th>\n",
       "      <td>Spontaneous</td>\n",
       "      <td>1</td>\n",
       "      <td>160623</td>\n",
       "    </tr>\n",
       "    <tr>\n",
       "      <th>2351</th>\n",
       "      <td>Spontaneous</td>\n",
       "      <td>2</td>\n",
       "      <td>160623</td>\n",
       "    </tr>\n",
       "    <tr>\n",
       "      <th>2352</th>\n",
       "      <td>Spontaneous</td>\n",
       "      <td>3</td>\n",
       "      <td>160623</td>\n",
       "    </tr>\n",
       "    <tr>\n",
       "      <th>2353</th>\n",
       "      <td>Spontaneous</td>\n",
       "      <td>4</td>\n",
       "      <td>160623</td>\n",
       "    </tr>\n",
       "    <tr>\n",
       "      <th>2354</th>\n",
       "      <td>Blank</td>\n",
       "      <td>5</td>\n",
       "      <td>160623</td>\n",
       "    </tr>\n",
       "    <tr>\n",
       "      <th>2355</th>\n",
       "      <td>Blank</td>\n",
       "      <td>6</td>\n",
       "      <td>160623</td>\n",
       "    </tr>\n",
       "    <tr>\n",
       "      <th>2356</th>\n",
       "      <td>Blank</td>\n",
       "      <td>7</td>\n",
       "      <td>160623</td>\n",
       "    </tr>\n",
       "    <tr>\n",
       "      <th>2357</th>\n",
       "      <td>Blank</td>\n",
       "      <td>8</td>\n",
       "      <td>160623</td>\n",
       "    </tr>\n",
       "    <tr>\n",
       "      <th>2358</th>\n",
       "      <td>Pre</td>\n",
       "      <td>9</td>\n",
       "      <td>160623</td>\n",
       "    </tr>\n",
       "    <tr>\n",
       "      <th>2359</th>\n",
       "      <td>Pre</td>\n",
       "      <td>10</td>\n",
       "      <td>160623</td>\n",
       "    </tr>\n",
       "    <tr>\n",
       "      <th>2360</th>\n",
       "      <td>Pre</td>\n",
       "      <td>11</td>\n",
       "      <td>160623</td>\n",
       "    </tr>\n",
       "    <tr>\n",
       "      <th>2361</th>\n",
       "      <td>Pre</td>\n",
       "      <td>12</td>\n",
       "      <td>160623</td>\n",
       "    </tr>\n",
       "    <tr>\n",
       "      <th>2362</th>\n",
       "      <td>Post5</td>\n",
       "      <td>13</td>\n",
       "      <td>160623</td>\n",
       "    </tr>\n",
       "    <tr>\n",
       "      <th>2363</th>\n",
       "      <td>Post5</td>\n",
       "      <td>14</td>\n",
       "      <td>160623</td>\n",
       "    </tr>\n",
       "    <tr>\n",
       "      <th>2364</th>\n",
       "      <td>Post5</td>\n",
       "      <td>15</td>\n",
       "      <td>160623</td>\n",
       "    </tr>\n",
       "    <tr>\n",
       "      <th>2365</th>\n",
       "      <td>Post5</td>\n",
       "      <td>16</td>\n",
       "      <td>160623</td>\n",
       "    </tr>\n",
       "    <tr>\n",
       "      <th>2366</th>\n",
       "      <td>Post30</td>\n",
       "      <td>17</td>\n",
       "      <td>160623</td>\n",
       "    </tr>\n",
       "    <tr>\n",
       "      <th>2367</th>\n",
       "      <td>Post30</td>\n",
       "      <td>18</td>\n",
       "      <td>160623</td>\n",
       "    </tr>\n",
       "    <tr>\n",
       "      <th>2368</th>\n",
       "      <td>Post30</td>\n",
       "      <td>19</td>\n",
       "      <td>160623</td>\n",
       "    </tr>\n",
       "    <tr>\n",
       "      <th>2369</th>\n",
       "      <td>Post30</td>\n",
       "      <td>20</td>\n",
       "      <td>160623</td>\n",
       "    </tr>\n",
       "  </tbody>\n",
       "</table>\n",
       "</div>"
      ],
      "text/plain": [
       "             Odor  Trial   Mouse\n",
       "2350  Spontaneous      1  160623\n",
       "2351  Spontaneous      2  160623\n",
       "2352  Spontaneous      3  160623\n",
       "2353  Spontaneous      4  160623\n",
       "2354        Blank      5  160623\n",
       "2355        Blank      6  160623\n",
       "2356        Blank      7  160623\n",
       "2357        Blank      8  160623\n",
       "2358          Pre      9  160623\n",
       "2359          Pre     10  160623\n",
       "2360          Pre     11  160623\n",
       "2361          Pre     12  160623\n",
       "2362        Post5     13  160623\n",
       "2363        Post5     14  160623\n",
       "2364        Post5     15  160623\n",
       "2365        Post5     16  160623\n",
       "2366       Post30     17  160623\n",
       "2367       Post30     18  160623\n",
       "2368       Post30     19  160623\n",
       "2369       Post30     20  160623"
      ]
     },
     "execution_count": 42,
     "metadata": {},
     "output_type": "execute_result"
    }
   ],
   "source": [
    "df[df.Mouse==x]"
   ]
  },
  {
   "cell_type": "code",
   "execution_count": 44,
   "metadata": {
    "collapsed": true
   },
   "outputs": [],
   "source": [
    "for x in df.Mouse.unique():\n",
    "    for y in df[df.Mouse==x]['Trial'].unique():\n",
    "        if y<len(df[df.Mouse==x]['Trial']):\n",
    "            Odor1=df[df.Mouse==x]"
   ]
  },
  {
   "cell_type": "code",
   "execution_count": 168,
   "metadata": {
    "collapsed": false
   },
   "outputs": [
    {
     "data": {
      "text/plain": [
       "array(['MS10'], dtype=object)"
      ]
     },
     "execution_count": 168,
     "metadata": {},
     "output_type": "execute_result"
    }
   ],
   "source": [
    "#WHY IS X NOT CHANGING BACK TO INT& WHY CAN I NOT GET ODOR 1 valuess"
   ]
  },
  {
   "cell_type": "code",
   "execution_count": null,
   "metadata": {
    "collapsed": false
   },
   "outputs": [],
   "source": []
  },
  {
   "cell_type": "code",
   "execution_count": null,
   "metadata": {
    "collapsed": true
   },
   "outputs": [],
   "source": []
  },
  {
   "cell_type": "code",
   "execution_count": null,
   "metadata": {
    "collapsed": true
   },
   "outputs": [],
   "source": []
  },
  {
   "cell_type": "code",
   "execution_count": null,
   "metadata": {
    "collapsed": true
   },
   "outputs": [],
   "source": []
  }
 ],
 "metadata": {
  "anaconda-cloud": {},
  "kernelspec": {
   "display_name": "Python [Root]",
   "language": "python",
   "name": "Python [Root]"
  },
  "language_info": {
   "codemirror_mode": {
    "name": "ipython",
    "version": 2
   },
   "file_extension": ".py",
   "mimetype": "text/x-python",
   "name": "python",
   "nbconvert_exporter": "python",
   "pygments_lexer": "ipython2",
   "version": "2.7.12"
  }
 },
 "nbformat": 4,
 "nbformat_minor": 0
}
