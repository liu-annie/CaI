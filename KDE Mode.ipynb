{
 "cells": [
  {
   "cell_type": "code",
   "execution_count": 1,
   "metadata": {
    "collapsed": false
   },
   "outputs": [
    {
     "name": "stdout",
     "output_type": "stream",
     "text": [
      "Using matplotlib backend: Qt4Agg\n"
     ]
    }
   ],
   "source": [
    "drive_path = 'c:/'\n",
    "import numpy as np\n",
    "import pandas as pd\n",
    "import os\n",
    "import sys\n",
    "import matplotlib.pyplot as plt\n",
    "from scipy.stats import ks_2samp\n",
    "from scipy.stats import anderson_ksamp\n",
    "from scipy.stats import kruskal\n",
    "from scipy.stats import variation\n",
    "%matplotlib\n",
    "import seaborn as sns"
   ]
  },
  {
   "cell_type": "code",
   "execution_count": 17,
   "metadata": {
    "collapsed": true
   },
   "outputs": [],
   "source": [
    "comp=pd.read_csv('C:\\Users\\Annie\\Documents\\Data\\Ca_Imaging\\Analysis\\Odor_Panel\\Composite_MaxDF_NoP.csv')\n",
    "del comp['Mouse']\n",
    "comp_sorted=comp.reindex_axis(comp.mean().sort_values().index, axis=1)\n",
    "comp_labels=pd.DataFrame(comp.Group)\n",
    "tmp=[comp_labels,comp_sorted]\n",
    "composite_full=pd.concat(tmp,axis=1)\n",
    "composite_full.head()\n",
    "cfull=pd.melt(composite_full,\"Group\",var_name=\"Odor\")"
   ]
  },
  {
   "cell_type": "code",
   "execution_count": 69,
   "metadata": {
    "collapsed": true
   },
   "outputs": [],
   "source": [
    "MS005_full=composite_full[['Group','MS 0.05']]\n",
    "MS005df=pd.melt(MS005_full,\"Group\",var_name=\"Odor\")\n",
    "cg=MS005_full[MS005_full['Group']=='Control']\n",
    "mg=MS005_full[MS005_full['Group']=='Mint']\n",
    "hg=MS005_full[MS005_full['Group']=='Hexanal']"
   ]
  },
  {
   "cell_type": "code",
   "execution_count": 19,
   "metadata": {
    "collapsed": true
   },
   "outputs": [],
   "source": [
    "from scipy.stats import gaussian_kde"
   ]
  },
  {
   "cell_type": "code",
   "execution_count": 24,
   "metadata": {
    "collapsed": true
   },
   "outputs": [],
   "source": []
  },
  {
   "cell_type": "code",
   "execution_count": 63,
   "metadata": {
    "collapsed": false
   },
   "outputs": [],
   "source": [
    "#Get the peak of the control kde\n",
    "gkde=gaussian_kde(cg['MS 0.05'])\n",
    "x=np.arange(-1,5,0.01)\n",
    "y=gkde.evaluate(x)\n",
    "max_y_value=np.amax(y)\n",
    "max_y_index=np.argmax(y)\n",
    "#use this max x value to shift the entire distribution\n",
    "max_x_value=x[np.argmax(y)]"
   ]
  },
  {
   "cell_type": "code",
   "execution_count": 95,
   "metadata": {
    "collapsed": false
   },
   "outputs": [
    {
     "data": {
      "text/plain": [
       "[<matplotlib.lines.Line2D at 0x121085f8>]"
      ]
     },
     "execution_count": 95,
     "metadata": {},
     "output_type": "execute_result"
    }
   ],
   "source": [
    "#make a dataframe of x,y coordinates of the kde, with a bin size of 0.01\n",
    "xdf=pd.DataFrame(x)\n",
    "xdf.columns=['x']\n",
    "newxdf=pd.DataFrame(xdf['x']-max_x_value)\n",
    "ydf=pd.DataFrame(y)\n",
    "ydf.columns=['y']\n",
    "coordinates=pd.concat([xdf,ydf],axis=1)\n",
    "newcoordinates=pd.concat([newxdf,ydf],axis=1)\n",
    "# plot it!\n",
    "plt.plot(coordinates['x'],coordinates['y'])\n",
    "plt.plot(newcoordinates['x'],coordinates['y'])"
   ]
  },
  {
   "cell_type": "code",
   "execution_count": null,
   "metadata": {
    "collapsed": true
   },
   "outputs": [],
   "source": []
  },
  {
   "cell_type": "code",
   "execution_count": null,
   "metadata": {
    "collapsed": true
   },
   "outputs": [],
   "source": []
  },
  {
   "cell_type": "code",
   "execution_count": null,
   "metadata": {
    "collapsed": true
   },
   "outputs": [],
   "source": []
  },
  {
   "cell_type": "code",
   "execution_count": 92,
   "metadata": {
    "collapsed": false
   },
   "outputs": [],
   "source": [
    "#Get the peak of the mint kde\n",
    "mkde=gaussian_kde(mg['MS 0.05'])\n",
    "mx=np.arange(-1,5,0.01)\n",
    "my=mkde.evaluate(mx)\n",
    "m_max_y_value=np.amax(my)\n",
    "m_max_y_index=np.argmax(my)\n",
    "#use this max x value to shift the entire distribution\n",
    "m_max_x_value=mx[np.argmax(my)]"
   ]
  },
  {
   "cell_type": "code",
   "execution_count": 93,
   "metadata": {
    "collapsed": false
   },
   "outputs": [
    {
     "data": {
      "text/plain": [
       "0.10000000000000098"
      ]
     },
     "execution_count": 93,
     "metadata": {},
     "output_type": "execute_result"
    }
   ],
   "source": [
    "m_max_x_value"
   ]
  },
  {
   "cell_type": "code",
   "execution_count": 94,
   "metadata": {
    "collapsed": false,
    "scrolled": true
   },
   "outputs": [
    {
     "data": {
      "text/plain": [
       "[<matplotlib.lines.Line2D at 0x12443e48>]"
      ]
     },
     "execution_count": 94,
     "metadata": {},
     "output_type": "execute_result"
    }
   ],
   "source": [
    "#make a dataframe of x,y coordinates of the kde, with a bin size of 0.01\n",
    "mxdf=pd.DataFrame(mx)\n",
    "mxdf.columns=['x']\n",
    "mnewxdf=pd.DataFrame(mxdf['x']-m_max_x_value)\n",
    "mydf=pd.DataFrame(my)\n",
    "mydf.columns=['y']\n",
    "m_coordinates=pd.concat([mxdf,mydf],axis=1)\n",
    "m_newcoordinates=pd.concat([mnewxdf,mydf],axis=1)\n",
    "# plot it!\n",
    "plt.plot(m_coordinates['x'],m_coordinates['y'])\n",
    "plt.plot(m_newcoordinates['x'],m_coordinates['y'])"
   ]
  },
  {
   "cell_type": "code",
   "execution_count": null,
   "metadata": {
    "collapsed": true
   },
   "outputs": [],
   "source": []
  },
  {
   "cell_type": "code",
   "execution_count": null,
   "metadata": {
    "collapsed": true
   },
   "outputs": [],
   "source": []
  },
  {
   "cell_type": "code",
   "execution_count": null,
   "metadata": {
    "collapsed": true
   },
   "outputs": [],
   "source": []
  },
  {
   "cell_type": "code",
   "execution_count": 96,
   "metadata": {
    "collapsed": false
   },
   "outputs": [],
   "source": [
    "#Get the peak of the hexanal kde\n",
    "hkde=gaussian_kde(hg['MS 0.05'])\n",
    "hx=np.arange(-1,5,0.01)\n",
    "hy=hkde.evaluate(hx)\n",
    "h_max_y_value=np.amax(hy)\n",
    "h_max_y_index=np.argmax(hy)\n",
    "#use this max x value to shift the entire distribution\n",
    "h_max_x_value=hx[np.argmax(hy)]"
   ]
  },
  {
   "cell_type": "code",
   "execution_count": 97,
   "metadata": {
    "collapsed": false
   },
   "outputs": [
    {
     "data": {
      "text/plain": [
       "[<matplotlib.lines.Line2D at 0x125f0fd0>]"
      ]
     },
     "execution_count": 97,
     "metadata": {},
     "output_type": "execute_result"
    }
   ],
   "source": [
    "#make a dataframe of x,y coordinates of the kde, with a bin size of 0.01\n",
    "hxdf=pd.DataFrame(hx)\n",
    "hxdf.columns=['x']\n",
    "hnewxdf=pd.DataFrame(hxdf['x']-h_max_x_value)\n",
    "hydf=pd.DataFrame(hy)\n",
    "hydf.columns=['y']\n",
    "h_coordinates=pd.concat([hxdf,hydf],axis=1)\n",
    "h_newcoordinates=pd.concat([hnewxdf,hydf],axis=1)\n",
    "# plot it!\n",
    "plt.plot(h_coordinates['x'],h_coordinates['y'])\n",
    "plt.plot(h_newcoordinates['x'],h_coordinates['y'])"
   ]
  },
  {
   "cell_type": "code",
   "execution_count": 100,
   "metadata": {
    "collapsed": true
   },
   "outputs": [],
   "source": [
    "plt.plot(newcoordinates['x'],newcoordinates['y']);\n",
    "plt.plot(m_newcoordinates['x'],m_newcoordinates['y']);\n",
    "plt.plot(h_newcoordinates['x'],h_newcoordinates['y']);"
   ]
  },
  {
   "cell_type": "code",
   "execution_count": 117,
   "metadata": {
    "collapsed": false
   },
   "outputs": [],
   "source": [
    "sns.set(palette=\"muted\", color_codes=True);\n",
    "sns.set_context(\"talk\", font_scale=3);\n",
    "plt.figure(figsize=(24, 18));\n",
    "plt.plot(newcoordinates['x'],newcoordinates['y'],color='r',label='Control');\n",
    "plt.plot(m_newcoordinates['x'],m_newcoordinates['y'],color='g',label='Mint');\n",
    "plt.plot(h_newcoordinates['x'],h_newcoordinates['y'],color='b',label='Hexanal');\n",
    "sns.despine();\n",
    "plt.legend(loc='upper right');\n",
    "plt.title('KDEs, peaks centered');"
   ]
  },
  {
   "cell_type": "code",
   "execution_count": null,
   "metadata": {
    "collapsed": true
   },
   "outputs": [],
   "source": []
  }
 ],
 "metadata": {
  "kernelspec": {
   "display_name": "Python [Root]",
   "language": "python",
   "name": "Python [Root]"
  },
  "language_info": {
   "codemirror_mode": {
    "name": "ipython",
    "version": 2
   },
   "file_extension": ".py",
   "mimetype": "text/x-python",
   "name": "python",
   "nbconvert_exporter": "python",
   "pygments_lexer": "ipython2",
   "version": "2.7.12"
  }
 },
 "nbformat": 4,
 "nbformat_minor": 0
}
