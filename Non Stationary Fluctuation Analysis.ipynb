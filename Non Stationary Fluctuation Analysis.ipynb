{
 "cells": [
  {
   "cell_type": "code",
   "execution_count": 1,
   "metadata": {
    "collapsed": false
   },
   "outputs": [
    {
     "name": "stdout",
     "output_type": "stream",
     "text": [
      "Using matplotlib backend: Qt4Agg\n"
     ]
    }
   ],
   "source": [
    "drive_path = 'c:/'\n",
    "import numpy as np\n",
    "import pandas as pd\n",
    "import os\n",
    "import sys\n",
    "import matplotlib.pyplot as plt\n",
    "from scipy.stats import ks_2samp\n",
    "from scipy.stats import anderson_ksamp\n",
    "from scipy.stats import kruskal\n",
    "from scipy.stats import variation\n",
    "from scipy.stats import spearmanr\n",
    "from scipy.stats import zscore\n",
    "from scipy.stats import gaussian_kde\n",
    "import seaborn as sns\n",
    "%matplotlib"
   ]
  },
  {
   "cell_type": "code",
   "execution_count": 2,
   "metadata": {
    "collapsed": false,
    "scrolled": true
   },
   "outputs": [],
   "source": [
    "#Import data\n",
    "comp=pd.read_csv('C:\\Users\\Annie\\Documents\\Data\\Ca_Imaging\\Analysis\\Odor_Panel\\Composite_MaxDF_NoP.csv')\n",
    "del comp['Mouse']\n",
    "comp_sorted=comp.reindex_axis(comp.mean().sort_values().index, axis=1)\n",
    "comp_labels=pd.DataFrame(comp.Group)\n",
    "tmp=[comp_labels,comp_sorted]\n",
    "composite_full=pd.concat(tmp,axis=1)"
   ]
  },
  {
   "cell_type": "code",
   "execution_count": 3,
   "metadata": {
    "collapsed": true
   },
   "outputs": [],
   "source": [
    "#Calculate means and variance for each odor\n",
    "Cctrl=composite_full[composite_full['Group']=='Control']\n",
    "Cmean=pd.DataFrame(Cctrl.mean())\n",
    "Cmean.columns=['Control Mean']\n",
    "Cvar=pd.DataFrame(Cctrl.var())\n",
    "Cvar.columns=['Control Variance']\n",
    "M=composite_full[composite_full['Group']=='Mint']\n",
    "Mmean=pd.DataFrame(M.mean())\n",
    "Mmean.columns=['Mint Mean']\n",
    "Mvar=pd.DataFrame(M.var())\n",
    "Mvar.columns=['Mint Variance']\n",
    "H=composite_full[composite_full['Group']=='Hexanal']\n",
    "Hmean=pd.DataFrame(H.mean())\n",
    "Hmean.columns=['Hexanal Mean']\n",
    "Hvar=pd.DataFrame(H.var())\n",
    "Hvar.columns=['Hexanal Variance']\n",
    "\n",
    "#Concat\n",
    "Ctmp=[Cmean,Cvar]\n",
    "Mtmp=[Mmean,Mvar]\n",
    "Htmp=[Hmean,Hvar]\n",
    "\n",
    "CtrlDF=pd.concat(Ctmp,axis=1)\n",
    "MDF=pd.concat(Mtmp,axis=1)\n",
    "HDF=pd.concat(Htmp,axis=1)\n",
    "final=[CtrlDF,MDF,HDF]\n",
    "finaldf=pd.concat(final,axis=1)"
   ]
  },
  {
   "cell_type": "code",
   "execution_count": 4,
   "metadata": {
    "collapsed": false
   },
   "outputs": [],
   "source": [
    "finaldf=finaldf.reset_index(drop=True)"
   ]
  },
  {
   "cell_type": "code",
   "execution_count": 5,
   "metadata": {
    "collapsed": false
   },
   "outputs": [
    {
     "data": {
      "text/html": [
       "<div>\n",
       "<table border=\"1\" class=\"dataframe\">\n",
       "  <thead>\n",
       "    <tr style=\"text-align: right;\">\n",
       "      <th></th>\n",
       "      <th>Control Mean</th>\n",
       "      <th>Control Variance</th>\n",
       "      <th>Mint Mean</th>\n",
       "      <th>Mint Variance</th>\n",
       "      <th>Hexanal Mean</th>\n",
       "      <th>Hexanal Variance</th>\n",
       "    </tr>\n",
       "  </thead>\n",
       "  <tbody>\n",
       "    <tr>\n",
       "      <th>0</th>\n",
       "      <td>0.358394</td>\n",
       "      <td>0.299324</td>\n",
       "      <td>0.261365</td>\n",
       "      <td>0.034694</td>\n",
       "      <td>0.344027</td>\n",
       "      <td>0.078408</td>\n",
       "    </tr>\n",
       "    <tr>\n",
       "      <th>1</th>\n",
       "      <td>0.380809</td>\n",
       "      <td>0.377706</td>\n",
       "      <td>0.217759</td>\n",
       "      <td>0.039347</td>\n",
       "      <td>0.365460</td>\n",
       "      <td>0.142198</td>\n",
       "    </tr>\n",
       "    <tr>\n",
       "      <th>2</th>\n",
       "      <td>0.122499</td>\n",
       "      <td>0.011317</td>\n",
       "      <td>0.171536</td>\n",
       "      <td>0.007274</td>\n",
       "      <td>0.489562</td>\n",
       "      <td>0.240016</td>\n",
       "    </tr>\n",
       "    <tr>\n",
       "      <th>3</th>\n",
       "      <td>0.369035</td>\n",
       "      <td>0.332325</td>\n",
       "      <td>0.235812</td>\n",
       "      <td>0.034895</td>\n",
       "      <td>0.467103</td>\n",
       "      <td>0.198880</td>\n",
       "    </tr>\n",
       "    <tr>\n",
       "      <th>4</th>\n",
       "      <td>0.450840</td>\n",
       "      <td>0.523351</td>\n",
       "      <td>0.295542</td>\n",
       "      <td>0.066582</td>\n",
       "      <td>0.413753</td>\n",
       "      <td>0.189800</td>\n",
       "    </tr>\n",
       "  </tbody>\n",
       "</table>\n",
       "</div>"
      ],
      "text/plain": [
       "   Control Mean  Control Variance  Mint Mean  Mint Variance  Hexanal Mean  \\\n",
       "0      0.358394          0.299324   0.261365       0.034694      0.344027   \n",
       "1      0.380809          0.377706   0.217759       0.039347      0.365460   \n",
       "2      0.122499          0.011317   0.171536       0.007274      0.489562   \n",
       "3      0.369035          0.332325   0.235812       0.034895      0.467103   \n",
       "4      0.450840          0.523351   0.295542       0.066582      0.413753   \n",
       "\n",
       "   Hexanal Variance  \n",
       "0          0.078408  \n",
       "1          0.142198  \n",
       "2          0.240016  \n",
       "3          0.198880  \n",
       "4          0.189800  "
      ]
     },
     "execution_count": 5,
     "metadata": {},
     "output_type": "execute_result"
    }
   ],
   "source": [
    "finaldf.head()"
   ]
  },
  {
   "cell_type": "code",
   "execution_count": 6,
   "metadata": {
    "collapsed": false
   },
   "outputs": [
    {
     "name": "stderr",
     "output_type": "stream",
     "text": [
      "C:\\Users\\Annie\\Anaconda2\\lib\\site-packages\\matplotlib\\axes\\_axes.py:519: UserWarning: No labelled objects found. Use label='...' kwarg on individual plots.\n",
      "  warnings.warn(\"No labelled objects found. \"\n"
     ]
    }
   ],
   "source": [
    "sns.set(style=\"white\", palette=\"muted\", color_codes=True);\n",
    "sns.set_context(\"talk\", font_scale=1.8);\n",
    "plt.figure(figsize=(35, 20));\n",
    "sns.regplot(finaldf['Control Mean'],finaldf['Control Variance'],scatter_kws={\"s\": 175},color='r')\n",
    "sns.regplot(finaldf['Mint Mean'],finaldf['Mint Variance'],scatter_kws={\"s\": 175},color='g')\n",
    "sns.regplot(finaldf['Hexanal Mean'],finaldf['Hexanal Variance'],scatter_kws={\"s\": 175},color='b')\n",
    "sns.despine()\n",
    "plt.ylabel('Variance', fontsize=48);\n",
    "plt.title('Mean vs. Variance', fontsize=55);\n",
    "plt.xlabel('Mean', fontsize=48);\n",
    "plt.legend(loc=2, prop={'size': 48});"
   ]
  },
  {
   "cell_type": "code",
   "execution_count": 7,
   "metadata": {
    "collapsed": true
   },
   "outputs": [
    {
     "data": {
      "text/plain": [
       "0     0.358394\n",
       "1     0.380809\n",
       "2     0.122499\n",
       "3     0.369035\n",
       "4     0.450840\n",
       "5     0.470184\n",
       "6     0.484241\n",
       "7     0.473569\n",
       "8     0.393696\n",
       "9     0.592246\n",
       "10    0.617040\n",
       "11    0.623864\n",
       "12    0.513630\n",
       "13    0.659852\n",
       "14    0.647230\n",
       "Name: Control Mean, dtype: float64"
      ]
     },
     "execution_count": 7,
     "metadata": {},
     "output_type": "execute_result"
    }
   ],
   "source": [
    "finaldf['Control Mean']"
   ]
  },
  {
   "cell_type": "markdown",
   "metadata": {
    "collapsed": true
   },
   "source": [
    "# Cell by cell, averaged odors"
   ]
  },
  {
   "cell_type": "code",
   "execution_count": 32,
   "metadata": {
    "collapsed": false
   },
   "outputs": [],
   "source": [
    "Ccellmean=Cctrl.mean(axis=1)\n",
    "Ccellvar=Cctrl.var(axis=1)\n",
    "Mcellmean=M.mean(axis=1)\n",
    "Mcellvar=M.var(axis=1)\n",
    "Hcellmean=H.mean(axis=1)\n",
    "Hcellvar=H.var(axis=1)"
   ]
  },
  {
   "cell_type": "code",
   "execution_count": 33,
   "metadata": {
    "collapsed": false
   },
   "outputs": [],
   "source": [
    "#Concat\n",
    "Ctemp=[Cctrl['Group'],Ccellmean,Ccellvar]\n",
    "Mtemp=[M['Group'],Mcellmean,Mcellvar]\n",
    "Htemp=[H['Group'],Hcellmean,Hcellvar]\n",
    "\n",
    "CtrlcellDF=pd.concat(Ctemp,axis=1)\n",
    "CtrlcellDF.columns=('Group','Mean','Variance')\n",
    "McellDF=pd.concat(Mtemp,axis=1)\n",
    "McellDF.columns=('Group','Mean','Variance')\n",
    "HcellDF=pd.concat(Htemp,axis=1)\n",
    "HcellDF.columns=('Group','Mean','Variance')\n",
    "finalcell=[CtrlcellDF,McellDF,HcellDF]\n",
    "finalcelldf=pd.concat(finalcell,axis=0)"
   ]
  },
  {
   "cell_type": "code",
   "execution_count": 34,
   "metadata": {
    "collapsed": false
   },
   "outputs": [
    {
     "data": {
      "text/plain": [
       "<matplotlib.axes._subplots.AxesSubplot at 0x14765358>"
      ]
     },
     "execution_count": 34,
     "metadata": {},
     "output_type": "execute_result"
    }
   ],
   "source": [
    "sns.regplot('Mean','Variance',CtrlcellDF)"
   ]
  },
  {
   "cell_type": "code",
   "execution_count": 36,
   "metadata": {
    "collapsed": false
   },
   "outputs": [],
   "source": [
    "sns.set(style=\"white\", palette=\"muted\", color_codes=True);\n",
    "sns.set_context(\"talk\", font_scale=1.8);\n",
    "plt.figure(figsize=(30, 15));\n",
    "sns.regplot('Mean','Variance',CtrlcellDF,scatter_kws={\"s\": 80},color='r',label='Control')\n",
    "sns.regplot('Mean','Variance',McellDF,scatter_kws={\"s\": 80},color='g',label='Mint')\n",
    "sns.regplot('Mean','Variance',HcellDF,scatter_kws={\"s\": 80},color='b',label='Hexanal')\n",
    "sns.despine()\n",
    "plt.ylabel('Variance', fontsize=48);\n",
    "plt.title('Mean vs. Variance', fontsize=55);\n",
    "plt.xlabel('Mean', fontsize=48);\n",
    "plt.legend(loc=2, prop={'size': 48});"
   ]
  },
  {
   "cell_type": "code",
   "execution_count": null,
   "metadata": {
    "collapsed": true
   },
   "outputs": [],
   "source": []
  }
 ],
 "metadata": {
  "anaconda-cloud": {},
  "kernelspec": {
   "display_name": "Python [Root]",
   "language": "python",
   "name": "Python [Root]"
  },
  "language_info": {
   "codemirror_mode": {
    "name": "ipython",
    "version": 2
   },
   "file_extension": ".py",
   "mimetype": "text/x-python",
   "name": "python",
   "nbconvert_exporter": "python",
   "pygments_lexer": "ipython2",
   "version": "2.7.12"
  }
 },
 "nbformat": 4,
 "nbformat_minor": 0
}
